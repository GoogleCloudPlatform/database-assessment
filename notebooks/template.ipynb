{
    "cells": [
        {
            "cell_type": "code",
            "execution_count": null,
            "metadata": {},
            "outputs": [],
            "source": [
                "import os\n",
                "import sys\n",
                "import math\n",
                "import logging\n",
                "from pathlib import Path\n",
                "\n",
                "import numpy as np\n",
                "# import scipy as sp\n",
                "# import sklearn\n",
                "\n",
                "%load_ext autoreload\n",
                "%autoreload 2\n",
                "\n",
                "import matplotlib as mpl\n",
                "import matplotlib.pyplot as plt\n",
                "\n",
                "%matplotlib inline\n",
                "%config InlineBackend.figure_format = 'retina'\n",
                "\n",
                "import seaborn as sns\n",
                "\n",
                "sns.set_context(\"poster\")\n",
                "sns.set(rc={\"figure.figsize\": (16, 9.0)})\n",
                "sns.set_style(\"whitegrid\")\n",
                "\n",
                "import pandas as pd\n",
                "\n",
                "pd.set_option(\"display.max_rows\", 120)\n",
                "pd.set_option(\"display.max_columns\", 120)\n",
                "\n",
                "logging.basicConfig(level=logging.INFO, stream=sys.stdout)"
            ]
        },
        {
            "cell_type": "code",
            "execution_count": null,
            "metadata": {},
            "outputs": [],
            "source": [
                "# make sure you ran `pip install -e .` before!\n",
                "from dma.skeleton import fib"
            ]
        },
        {
            "cell_type": "markdown",
            "metadata": {},
            "source": [
                "**PLEASE** save this file right now using the following naming convention: `NUMBER_FOR_SORTING-YOUR_INITIALS-SHORT_DESCRIPTION`, e.g. `1.0-fw-initial-data-exploration`. Use the number to order the file within the directory according to its usage."
            ]
        },
        {
            "cell_type": "code",
            "execution_count": null,
            "metadata": {},
            "outputs": [],
            "source": []
        }
    ],
    "metadata": {
        "kernelspec": {
            "display_name": "Python 3",
            "language": "python",
            "name": "python3"
        },
        "language_info": {
            "codemirror_mode": {
                "name": "ipython",
                "version": 3
            },
            "file_extension": ".py",
            "mimetype": "text/x-python",
            "name": "python",
            "nbconvert_exporter": "python",
            "pygments_lexer": "ipython3",
            "version": "3.7.3"
        },
        "pycharm": {
            "stem_cell": {
                "cell_type": "raw",
                "metadata": {
                    "collapsed": false
                },
                "source": []
            }
        }
    },
    "nbformat": 4,
    "nbformat_minor": 2
}
