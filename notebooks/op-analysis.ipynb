{
 "cells": [
  {
   "cell_type": "code",
   "execution_count": 2,
   "metadata": {},
   "outputs": [],
   "source": [
    "import polars as pl\n",
    "from patito import Database\n",
    "import duckdb\n",
    "from opdba.core.db.repositories.collection import queries\n",
    "from opdba.schemas.collector import op\n",
    "\n",
    "duck = Database()\n",
    "db_conn = duckdb.connect()"
   ]
  },
  {
   "cell_type": "code",
   "execution_count": null,
   "metadata": {},
   "outputs": [],
   "source": []
  },
  {
   "cell_type": "code",
   "execution_count": null,
   "metadata": {},
   "outputs": [],
   "source": []
  },
  {
   "cell_type": "code",
   "execution_count": 3,
   "metadata": {},
   "outputs": [],
   "source": [
    "file_base = \"./data\"\n",
    "awr_hist_cmd_types_file = \"opdb__awrhistcmdtypes__190_2.0.6_orcl-vbox1.localdomain.com.VBOXNCDB.vboxncdb1.091522192456.csv\"\n",
    "db_summary_file = \"opdb__dbsummary__190_2.0.6_orcl-vbox1.localdomain.com.VBOXNCDB.vboxncdb1.091522192456.csv\"\n",
    "db_objects_file = \"opdb__dbobjects__190_2.0.6_orcl-vbox1.localdomain.com.VBOXNCDB.vboxncdb1.091522192456.csv\"\n",
    "source_code_file = \"opdb__sourcecode__190_2.0.6_orcl-vbox1.localdomain.com.VBOXNCDB.vboxncdb1.091522192456.csv\"\n"
   ]
  },
  {
   "cell_type": "code",
   "execution_count": null,
   "metadata": {},
   "outputs": [],
   "source": []
  },
  {
   "cell_type": "code",
   "execution_count": 2,
   "metadata": {},
   "outputs": [
    {
     "name": "stdout",
     "output_type": "stream",
     "text": [
      "[('orcl-vbox1.localdomain.com_VBOXNCDB_091522192456', 3275259997, 'VBOXNCDB', 'NO', '19.0.0.0.0', 'Oracle Database 19c Enterprise Edition Release 19.0.0.0.0 - Production', 'ARCHIVELOG', 'YES', 1, 1, 'AMERICAN_AMERICA.AL32UTF8', 'Linux x86 64-bit', '09/14/22 17:26:19', 5, 464, 1216, 515, 8, 3, 0, 'PRIMARY', 'MAXIMUM PERFORMANCE', 'MAXIMUM PERFORMANCE')]\n"
     ]
    }
   ],
   "source": [
    "from opdba.core.db.repositories.collection import queries\n",
    "import duckdb\n",
    "db_summary_file = \"data/opdb__dbsummary__190_2.0.6_orcl-vbox1.localdomain.com.VBOXNCDB.vboxncdb1.091522192456.csv\" \n",
    "db_conn = duckdb.connect()\n",
    "db_summary = queries.read_csv(db_conn,db_summary_file)\n",
    "print(db_summary)"
   ]
  },
  {
   "cell_type": "code",
   "execution_count": 1,
   "metadata": {},
   "outputs": [
    {
     "name": "stdout",
     "output_type": "stream",
     "text": [
      "[('orcl-vbox1.localdomain.com_VBOXNCDB_091522192456', 3275259997, 'VBOXNCDB', 'NO', '19.0.0.0.0', 'Oracle Database 19c Enterprise Edition Release 19.0.0.0.0 - Production', 'ARCHIVELOG', 'YES', 1, 1, 'AMERICAN_AMERICA.AL32UTF8', 'Linux x86 64-bit', '09/14/22 17:26:19', 5, 464, 1216, 515, 8, 3, 0, 'PRIMARY', 'MAXIMUM PERFORMANCE', 'MAXIMUM PERFORMANCE')]\n"
     ]
    }
   ],
   "source": [
    "\n",
    "from opdba.core.db.repositories.collection import queries\n",
    "import duckdb\n",
    "awr_hist_cmd_types_file = \"data/opdb__awrhistcmdtypes__190_2.0.6_orcl-vbox1.localdomain.com.VBOXNCDB.vboxncdb1.091522192456.csv\"\n",
    "db_summary_file = \"data/opdb__dbsummary__190_2.0.6_orcl-vbox1.localdomain.com.VBOXNCDB.vboxncdb1.091522192456.csv\"\n",
    "db_objects_file = \"data/opdb__dbobjects__190_2.0.6_orcl-vbox1.localdomain.com.VBOXNCDB.vboxncdb1.091522192456.csv\"\n",
    "source_code_file = \"data/opdb__sourcecode__190_2.0.6_orcl-vbox1.localdomain.com.VBOXNCDB.vboxncdb1.091522192456.csv\"\n",
    "db_conn = duckdb.connect()\n",
    "db_summary = queries.read_csv(db_conn,db_summary_file)\n",
    "print(db_summary)"
   ]
  },
  {
   "cell_type": "code",
   "execution_count": 4,
   "metadata": {},
   "outputs": [
    {
     "name": "stdout",
     "output_type": "stream",
     "text": [
      "shape: (1, 23)\n",
      "┌────────────┬──────────┬──────────┬─────┬─────┬────────────┬────────────┬────────────┬────────────┐\n",
      "│ collection ┆ dbid     ┆ db_name  ┆ cdb ┆ ... ┆ db_long_si ┆ dg_databas ┆ dg_protect ┆ dg_protect │\n",
      "│ _key       ┆ ---      ┆ ---      ┆ --- ┆     ┆ ze_gb      ┆ e_role     ┆ ion_mode   ┆ ion_level  │\n",
      "│ ---        ┆ str      ┆ str      ┆ str ┆     ┆ ---        ┆ ---        ┆ ---        ┆ ---        │\n",
      "│ str        ┆          ┆          ┆     ┆     ┆ str        ┆ str        ┆ str        ┆ str        │\n",
      "╞════════════╪══════════╪══════════╪═════╪═════╪════════════╪════════════╪════════════╪════════════╡\n",
      "│ orcl-vbox1 ┆ 32752599 ┆ VBOXNCDB ┆ NO  ┆ ... ┆ 0          ┆ PRIMARY    ┆ MAXIMUM    ┆ MAXIMUM    │\n",
      "│ .localdoma ┆ 97       ┆          ┆     ┆     ┆            ┆            ┆ PERFORMANC ┆ PERFORMANC │\n",
      "│ in.com_VBO ┆          ┆          ┆     ┆     ┆            ┆            ┆ E          ┆ E          │\n",
      "│ XN...      ┆          ┆          ┆     ┆     ┆            ┆            ┆            ┆            │\n",
      "└────────────┴──────────┴──────────┴─────┴─────┴────────────┴────────────┴────────────┴────────────┘\n",
      "['collection_key', 'dbid', 'db_name', 'cdb', 'db_version', 'db_version_full', 'log_mode', 'force_logging', 'redo_gb_per_day', 'rac_db_instances', 'character_set', 'platform_name', 'startup_time', 'user_schemas', 'buffer_cache_mb', 'shared_pool_mb', 'total_pga_allocated_mb', 'db_size_allocated_gb', 'db_size_in_use_gb', 'db_long_size_gb', 'dg_database_role', 'dg_protection_mode', 'dg_protection_level']\n"
     ]
    }
   ],
   "source": [
    "# awr_hist_cmd_types = pl.scan_csv(f\"{file_base}/{awr_hist_cmd_types_file}\", sep = \"|\",ignore_errors=True, has_header=True, skip_rows=1)\n",
    "# op.AWRCommandTypeSummary.validate(awr_hist_cmd_types)\n",
    "from typing import List\n",
    "import polars as pl\n",
    "import patito as pt\n",
    "from opdba import schemas\n",
    "file_base = \"./data\"\n",
    "awr_hist_cmd_types_file = \"opdb__awrhistcmdtypes__190_2.0.6_orcl-vbox1.localdomain.com.VBOXNCDB.vboxncdb1.091522192456.csv\"\n",
    "db_summary_file = \"opdb__dbsummary__190_2.0.6_orcl-vbox1.localdomain.com.VBOXNCDB.vboxncdb1.091522192456.csv\"\n",
    "db_objects_file = \"opdb__dbobjects__190_2.0.6_orcl-vbox1.localdomain.com.VBOXNCDB.vboxncdb1.091522192456.csv\"\n",
    "source_code_file = \"opdb__sourcecode__190_2.0.6_orcl-vbox1.localdomain.com.VBOXNCDB.vboxncdb1.091522192456.csv\"\n",
    "# db_summary = pl.scan_csv(f\"{file_base}/{db_summary_file}\", sep = \"|\",ignore_errors=True,   has_header=False , skip_rows=2)\n",
    "\n",
    "# pl.scan_csv(\n",
    "#     f\"{file_base}/{db_summary_file}\",\n",
    "#     sep=\"|\",\n",
    "#     ignore_errors=True,\n",
    "#     has_header=False,\n",
    "#     skip_rows=2,\n",
    "#     with_column_names=lambda cols: op.DatabaseSummary.columns,\n",
    "# )\n",
    "# db_summary_pl = pl.read_csv(\n",
    "#     file=f\"{file_base}/{db_summary_file}\",\n",
    "#     sep=\"|\", skip_rows=1, has_header=False\n",
    "\n",
    "# )\n",
    "db_summary = schemas.collector.op.DatabaseSummary.DataFrame.read_csv(file=f\"{file_base}/{db_summary_file}\",\n",
    "    sep=\"|\",\n",
    "    ignore_errors=True,\n",
    "    has_header=False, skip_rows=1)\n",
    "\n",
    "print(db_summary)\n",
    "print(db_summary.columns)\n",
    "db_summary.write_avro(\"test.out\",compression=\"snappy\")\n",
    "# db_summary = op.DatabaseSummary.DataFrame.read_csv(file=f\"{file_base}/{db_summary_file}\",\n",
    "#     sep=\"|\",\n",
    "#     ignore_errors=True,\n",
    "#     has_header=False)\n",
    "\n",
    "\n",
    "# print(pl.scan_csv(\n",
    "#     f\"{file_base}/{db_summary_file}\",\n",
    "#     sep=\"|\",\n",
    "#     ignore_errors=True,\n",
    "#     has_header=False,\n",
    "#     skip_rows=2,\n",
    "#     with_column_names=lambda cols: op.DatabaseSummary.columns,\n",
    "# ).collect())\n",
    "\n",
    "# try:\n",
    "#     op.DatabaseSummary.validate(db_summary.lazy())\n",
    "# except Exception as e:\n",
    "#     print(e)"
   ]
  },
  {
   "cell_type": "code",
   "execution_count": 2,
   "metadata": {},
   "outputs": [
    {
     "name": "stdout",
     "output_type": "stream",
     "text": [
      "shape: (38, 10)\n",
      "┌────────────┬────────┬──────────┬───────────┬─────┬─────┬──────────┬────────────┬────────────┐\n",
      "│ collection ┆ con_id ┆ owner    ┆ object_ty ┆ ... ┆ in_ ┆ in_owner ┆ in_object_ ┆ in_edition │\n",
      "│ _key       ┆ ---    ┆ ---      ┆ pe        ┆     ┆ con ┆ ---      ┆ type       ┆ able       │\n",
      "│ ---        ┆ str    ┆ str      ┆ ---       ┆     ┆ _id ┆ str      ┆ ---        ┆ ---        │\n",
      "│ str        ┆        ┆          ┆ str       ┆     ┆ --- ┆          ┆ str        ┆ str        │\n",
      "│            ┆        ┆          ┆           ┆     ┆ str ┆          ┆            ┆            │\n",
      "╞════════════╪════════╪══════════╪═══════════╪═════╪═════╪══════════╪════════════╪════════════╡\n",
      "│ orcl-vbox1 ┆ 0      ┆ OGGADMIN ┆ JOB       ┆ ... ┆ 0   ┆ 0        ┆ 0          ┆ 0          │\n",
      "│ .localdoma ┆        ┆          ┆           ┆     ┆     ┆          ┆            ┆            │\n",
      "│ in.com_VBO ┆        ┆          ┆           ┆     ┆     ┆          ┆            ┆            │\n",
      "│ XN...      ┆        ┆          ┆           ┆     ┆     ┆          ┆            ┆            │\n",
      "├╌╌╌╌╌╌╌╌╌╌╌╌┼╌╌╌╌╌╌╌╌┼╌╌╌╌╌╌╌╌╌╌┼╌╌╌╌╌╌╌╌╌╌╌┼╌╌╌╌╌┼╌╌╌╌╌┼╌╌╌╌╌╌╌╌╌╌┼╌╌╌╌╌╌╌╌╌╌╌╌┼╌╌╌╌╌╌╌╌╌╌╌╌┤\n",
      "│ orcl-vbox1 ┆ 0      ┆ null     ┆ JOB       ┆ ... ┆ 0   ┆ 1        ┆ 0          ┆ 1          │\n",
      "│ .localdoma ┆        ┆          ┆           ┆     ┆     ┆          ┆            ┆            │\n",
      "│ in.com_VBO ┆        ┆          ┆           ┆     ┆     ┆          ┆            ┆            │\n",
      "│ XN...      ┆        ┆          ┆           ┆     ┆     ┆          ┆            ┆            │\n",
      "├╌╌╌╌╌╌╌╌╌╌╌╌┼╌╌╌╌╌╌╌╌┼╌╌╌╌╌╌╌╌╌╌┼╌╌╌╌╌╌╌╌╌╌╌┼╌╌╌╌╌┼╌╌╌╌╌┼╌╌╌╌╌╌╌╌╌╌┼╌╌╌╌╌╌╌╌╌╌╌╌┼╌╌╌╌╌╌╌╌╌╌╌╌┤\n",
      "│ orcl-vbox1 ┆ 0      ┆ OGGADMIN ┆ LOB       ┆ ... ┆ 0   ┆ 0        ┆ 0          ┆ 0          │\n",
      "│ .localdoma ┆        ┆          ┆           ┆     ┆     ┆          ┆            ┆            │\n",
      "│ in.com_VBO ┆        ┆          ┆           ┆     ┆     ┆          ┆            ┆            │\n",
      "│ XN...      ┆        ┆          ┆           ┆     ┆     ┆          ┆            ┆            │\n",
      "├╌╌╌╌╌╌╌╌╌╌╌╌┼╌╌╌╌╌╌╌╌┼╌╌╌╌╌╌╌╌╌╌┼╌╌╌╌╌╌╌╌╌╌╌┼╌╌╌╌╌┼╌╌╌╌╌┼╌╌╌╌╌╌╌╌╌╌┼╌╌╌╌╌╌╌╌╌╌╌╌┼╌╌╌╌╌╌╌╌╌╌╌╌┤\n",
      "│ orcl-vbox1 ┆ 0      ┆ null     ┆ LOB       ┆ ... ┆ 0   ┆ 1        ┆ 0          ┆ 1          │\n",
      "│ .localdoma ┆        ┆          ┆           ┆     ┆     ┆          ┆            ┆            │\n",
      "│ in.com_VBO ┆        ┆          ┆           ┆     ┆     ┆          ┆            ┆            │\n",
      "│ XN...      ┆        ┆          ┆           ┆     ┆     ┆          ┆            ┆            │\n",
      "├╌╌╌╌╌╌╌╌╌╌╌╌┼╌╌╌╌╌╌╌╌┼╌╌╌╌╌╌╌╌╌╌┼╌╌╌╌╌╌╌╌╌╌╌┼╌╌╌╌╌┼╌╌╌╌╌┼╌╌╌╌╌╌╌╌╌╌┼╌╌╌╌╌╌╌╌╌╌╌╌┼╌╌╌╌╌╌╌╌╌╌╌╌┤\n",
      "│ ...        ┆ ...    ┆ ...      ┆ ...       ┆ ... ┆ ... ┆ ...      ┆ ...        ┆ ...        │\n",
      "├╌╌╌╌╌╌╌╌╌╌╌╌┼╌╌╌╌╌╌╌╌┼╌╌╌╌╌╌╌╌╌╌┼╌╌╌╌╌╌╌╌╌╌╌┼╌╌╌╌╌┼╌╌╌╌╌┼╌╌╌╌╌╌╌╌╌╌┼╌╌╌╌╌╌╌╌╌╌╌╌┼╌╌╌╌╌╌╌╌╌╌╌╌┤\n",
      "│ orcl-vbox1 ┆ 0      ┆ PUBLIC   ┆ LOCKDOWN  ┆ ... ┆ 0   ┆ 0        ┆ 0          ┆ 0          │\n",
      "│ .localdoma ┆        ┆          ┆ PROFILE   ┆     ┆     ┆          ┆            ┆            │\n",
      "│ in.com_VBO ┆        ┆          ┆           ┆     ┆     ┆          ┆            ┆            │\n",
      "│ XN...      ┆        ┆          ┆           ┆     ┆     ┆          ┆            ┆            │\n",
      "├╌╌╌╌╌╌╌╌╌╌╌╌┼╌╌╌╌╌╌╌╌┼╌╌╌╌╌╌╌╌╌╌┼╌╌╌╌╌╌╌╌╌╌╌┼╌╌╌╌╌┼╌╌╌╌╌┼╌╌╌╌╌╌╌╌╌╌┼╌╌╌╌╌╌╌╌╌╌╌╌┼╌╌╌╌╌╌╌╌╌╌╌╌┤\n",
      "│ orcl-vbox1 ┆ 0      ┆ null     ┆ LOCKDOWN  ┆ ... ┆ 0   ┆ 1        ┆ 0          ┆ 1          │\n",
      "│ .localdoma ┆        ┆          ┆ PROFILE   ┆     ┆     ┆          ┆            ┆            │\n",
      "│ in.com_VBO ┆        ┆          ┆           ┆     ┆     ┆          ┆            ┆            │\n",
      "│ XN...      ┆        ┆          ┆           ┆     ┆     ┆          ┆            ┆            │\n",
      "├╌╌╌╌╌╌╌╌╌╌╌╌┼╌╌╌╌╌╌╌╌┼╌╌╌╌╌╌╌╌╌╌┼╌╌╌╌╌╌╌╌╌╌╌┼╌╌╌╌╌┼╌╌╌╌╌┼╌╌╌╌╌╌╌╌╌╌┼╌╌╌╌╌╌╌╌╌╌╌╌┼╌╌╌╌╌╌╌╌╌╌╌╌┤\n",
      "│ orcl-vbox1 ┆ 0      ┆ TC       ┆ REWRITE   ┆ ... ┆ 0   ┆ 0        ┆ 0          ┆ 0          │\n",
      "│ .localdoma ┆        ┆          ┆ EQUIVALEN ┆     ┆     ┆          ┆            ┆            │\n",
      "│ in.com_VBO ┆        ┆          ┆ CE        ┆     ┆     ┆          ┆            ┆            │\n",
      "│ XN...      ┆        ┆          ┆           ┆     ┆     ┆          ┆            ┆            │\n",
      "├╌╌╌╌╌╌╌╌╌╌╌╌┼╌╌╌╌╌╌╌╌┼╌╌╌╌╌╌╌╌╌╌┼╌╌╌╌╌╌╌╌╌╌╌┼╌╌╌╌╌┼╌╌╌╌╌┼╌╌╌╌╌╌╌╌╌╌┼╌╌╌╌╌╌╌╌╌╌╌╌┼╌╌╌╌╌╌╌╌╌╌╌╌┤\n",
      "│ orcl-vbox1 ┆ 0      ┆ null     ┆ REWRITE   ┆ ... ┆ 0   ┆ 1        ┆ 0          ┆ 1          │\n",
      "│ .localdoma ┆        ┆          ┆ EQUIVALEN ┆     ┆     ┆          ┆            ┆            │\n",
      "│ in.com_VBO ┆        ┆          ┆ CE        ┆     ┆     ┆          ┆            ┆            │\n",
      "│ XN...      ┆        ┆          ┆           ┆     ┆     ┆          ┆            ┆            │\n",
      "└────────────┴────────┴──────────┴───────────┴─────┴─────┴──────────┴────────────┴────────────┘\n"
     ]
    }
   ],
   "source": [
    "db_objects = op.DatabaseObjectSummary.DataFrame.read_csv(\n",
    "    file=f\"{file_base}/{db_objects_file}\", sep=\"|\", ignore_errors=True, has_header=False, skip_rows=1\n",
    ")\n",
    "print(db_objects)"
   ]
  },
  {
   "cell_type": "code",
   "execution_count": 3,
   "metadata": {},
   "outputs": [
    {
     "name": "stdout",
     "output_type": "stream",
     "text": [
      "[]\n"
     ]
    }
   ],
   "source": [
    "import difflib\n",
    "files = ['/tmp/tmpcxrw2a18/opdb__dbfeatures__190_2.0.6_orcl-vbox1.localdomain.com.VBOXNCDB.vboxncdb1.091522192456.csv','/tmp/tmpcxrw2a18/opdb__pdbsinfo__190_2.0.6_orcl-vbox1.localdomain.com.VBOXNCDB.vboxncdb1.091522192456.csv',                                                                                 '/tmp/tmpcxrw2a18/opdb__tablesnopk__190_2.0.6_orcl-vbox1.localdomain.com.VBOXNCDB.vboxncdb1.091522192456.csv',                                                                               \n",
    "                             '/tmp/tmpcxrw2a18/opdb__awrsnapdetails__190_2.0.6_orcl-vbox1.localdomain.com.VBOXNCDB.vboxncdb1.091522192456.csv',                                                                           \n",
    "                             '/tmp/tmpcxrw2a18/opdb__sourcecode__190_2.0.6_orcl-vbox1.localdomain.com.VBOXNCDB.vboxncdb1.091522192456.csv',                                                                               \n",
    "                             '/tmp/tmpcxrw2a18/opdb__ioevents__190_2.0.6_orcl-vbox1.localdomain.com.VBOXNCDB.vboxncdb1.091522192456.csv',                                                                                 \n",
    "                             '/tmp/tmpcxrw2a18/opdb__dataguard__190_2.0.6_orcl-vbox1.localdomain.com.VBOXNCDB.vboxncdb1.091522192456.csv',                                                                                \n",
    "                             '/tmp/tmpcxrw2a18/opdb__dbobjects__190_2.0.6_orcl-vbox1.localdomain.com.VBOXNCDB.vboxncdb1.091522192456.csv',                                                                                \n",
    "                             '/tmp/tmpcxrw2a18/opdb__datatypes__190_2.0.6_orcl-vbox1.localdomain.com.VBOXNCDB.vboxncdb1.091522192456.csv',                                                                                \n",
    "                             '/tmp/tmpcxrw2a18/opdb__cpucoresusage__190_2.0.6_orcl-vbox1.localdomain.com.VBOXNCDB.vboxncdb1.091522192456.csv',                                                                            \n",
    "                             '/tmp/tmpcxrw2a18/opdb__exttab__190_2.0.6_orcl-vbox1.localdomain.com.VBOXNCDB.vboxncdb1.091522192456.csv',                                                                                   \n",
    "                             '/tmp/tmpcxrw2a18/opdb__dbinstances__190_2.0.6_orcl-vbox1.localdomain.com.VBOXNCDB.vboxncdb1.091522192456.csv',                                                                              \n",
    "                             '/tmp/tmpcxrw2a18/opdb__iofunction__190_2.0.6_orcl-vbox1.localdomain.com.VBOXNCDB.vboxncdb1.091522192456.csv',                                                                               \n",
    "                             '/tmp/tmpcxrw2a18/opdb__awrhistsysmetricsumm__190_2.0.6_orcl-vbox1.localdomain.com.VBOXNCDB.vboxncdb1.091522192456.csv',                                                                     \n",
    "                             '/tmp/tmpcxrw2a18/opdb__usedspacedetails__190_2.0.6_orcl-vbox1.localdomain.com.VBOXNCDB.vboxncdb1.091522192456.csv',                                                                         \n",
    "                             '/tmp/tmpcxrw2a18/opdb__dbahistsysstat__190_2.0.6_orcl-vbox1.localdomain.com.VBOXNCDB.vboxncdb1.091522192456.csv',                                                                           \n",
    "                             '/tmp/tmpcxrw2a18/opdb__dblinks__190_2.0.6_orcl-vbox1.localdomain.com.VBOXNCDB.vboxncdb1.091522192456.csv',                                                                                  \n",
    "                             '/tmp/tmpcxrw2a18/opdb__idxpertable__190_2.0.6_orcl-vbox1.localdomain.com.VBOXNCDB.vboxncdb1.091522192456.csv',                                                                              \n",
    "                             '/tmp/tmpcxrw2a18/opdb__usrsegatt__190_2.0.6_orcl-vbox1.localdomain.com.VBOXNCDB.vboxncdb1.091522192456.csv',                                                                                \n",
    "                             '/tmp/tmpcxrw2a18/opdb__awrhistcmdtypes__190_2.0.6_orcl-vbox1.localdomain.com.VBOXNCDB.vboxncdb1.091522192456.csv',                                                                          \n",
    "                             '/tmp/tmpcxrw2a18/opdb__dbparameters__190_2.0.6_orcl-vbox1.localdomain.com.VBOXNCDB.vboxncdb1.091522192456.csv',                                                                             \n",
    "                             '/tmp/tmpcxrw2a18/opdb__compressbytype__190_2.0.6_orcl-vbox1.localdomain.com.VBOXNCDB.vboxncdb1.091522192456.csv',                                                                           \n",
    "                             '/tmp/tmpcxrw2a18/opdb__opkeylog__190_2.0.6_orcl-vbox1.localdomain.com.VBOXNCDB.vboxncdb1.091522192456.csv',                                                                                 \n",
    "                             '/tmp/tmpcxrw2a18/opdb__dbsummary__190_2.0.6_orcl-vbox1.localdomain.com.VBOXNCDB.vboxncdb1.091522192456.csv',                                                                                \n",
    "                             '/tmp/tmpcxrw2a18/opdb__pdbsopenmode__190_2.0.6_orcl-vbox1.localdomain.com.VBOXNCDB.vboxncdb1.091522192456.csv',                                                                             \n",
    "                             '/tmp/tmpcxrw2a18/opdb__dbahistsystimemodel__190_2.0.6_orcl-vbox1.localdomain.com.VBOXNCDB.vboxncdb1.091522192456.csv',                                                                      \n",
    "                             '/tmp/tmpcxrw2a18/opdb__awrhistsysmetrichist__190_2.0.6_orcl-vbox1.localdomain.com.VBOXNCDB.vboxncdb1.091522192456.csv',                                                                     \n",
    "                             '/tmp/tmpcxrw2a18/opdb__indexestypes__190_2.0.6_orcl-vbox1.localdomain.com.VBOXNCDB.vboxncdb1.091522192456.csv',                                                                             \n",
    "                             '/tmp/tmpcxrw2a18/opdb__awrhistosstat__190_2.0.6_orcl-vbox1.localdomain.com.VBOXNCDB.vboxncdb1.091522192456.csv',                                                                            \n",
    "                             '/tmp/tmpcxrw2a18/opdb__dbhwmarkstatistics__190_2.0.6_orcl-vbox1.localdomain.com.VBOXNCDB.vboxncdb1.091522192456.csv',                                                                       \n",
    "                             '/tmp/tmpcxrw2a18/opdb__sqlstats__190_2.0.6_orcl-vbox1.localdomain.com.VBOXNCDB.vboxncdb1.091522192456.csv',                                                                                 \n",
    "                             '/tmp/tmpcxrw2a18/opdb__sourceconn__190_2.0.6_orcl-vbox1.localdomain.com.VBOXNCDB.vboxncdb1.091522192456.csv'] \n",
    "match = difflib.get_close_matches('opdb__sourceconn__190_2',files)\n",
    "print(match)"
   ]
  }
 ],
 "metadata": {
  "kernelspec": {
   "display_name": "Python 3.10.7 ('.venv': poetry)",
   "language": "python",
   "name": "python3"
  },
  "language_info": {
   "codemirror_mode": {
    "name": "ipython",
    "version": 3
   },
   "file_extension": ".py",
   "mimetype": "text/x-python",
   "name": "python",
   "nbconvert_exporter": "python",
   "pygments_lexer": "ipython3",
   "version": "3.10.7"
  },
  "orig_nbformat": 4,
  "vscode": {
   "interpreter": {
    "hash": "3575de445ae6a287700626195c285b914b489bc90953abc6d5c378a3c31371e8"
   }
  }
 },
 "nbformat": 4,
 "nbformat_minor": 2
}
