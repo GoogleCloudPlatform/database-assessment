{
 "cells": [
  {
   "cell_type": "code",
   "execution_count": 4,
   "metadata": {},
   "outputs": [
    {
     "name": "stdout",
     "output_type": "stream",
     "text": [
      "The sql extension is already loaded. To reload it, use:\n",
      "  %reload_ext sql\n"
     ]
    },
    {
     "data": {
      "text/html": [
       "<pre style=\"white-space:pre;overflow-x:auto;line-height:normal;font-family:Menlo,'DejaVu Sans Mono',consolas,'Courier New',monospace\"><span style=\"color: #7fbfbf; text-decoration-color: #7fbfbf\">[10/17/22 16:49:47] </span><span style=\"color: #000080; text-decoration-color: #000080\">INFO    </span> launching Collection loader against optimus-prime-ci Google Cloud Project <a href=\"file:///usr/local/google/home/codyfincher/Code/database-tools/oracle-database-assessment/src/server/dbma/transformer/engine.py\" target=\"_blank\"><span style=\"color: #7f7f7f; text-decoration-color: #7f7f7f\">engine.py</span></a><span style=\"color: #7f7f7f; text-decoration-color: #7f7f7f\">:</span><a href=\"file:///usr/local/google/home/codyfincher/Code/database-tools/oracle-database-assessment/src/server/dbma/transformer/engine.py#27\" target=\"_blank\"><span style=\"color: #7f7f7f; text-decoration-color: #7f7f7f\">27</span></a>\n",
       "</pre>\n"
      ],
      "text/plain": [
       "\u001b[2;36m[10/17/22 16:49:47]\u001b[0m\u001b[2;36m \u001b[0m\u001b[34mINFO    \u001b[0m launching Collection loader against optimus-prime-ci Google Cloud Project \u001b]8;id=506863;file:///usr/local/google/home/codyfincher/Code/database-tools/oracle-database-assessment/src/server/dbma/transformer/engine.py\u001b\\\u001b[2mengine.py\u001b[0m\u001b]8;;\u001b\\\u001b[2m:\u001b[0m\u001b]8;id=645326;file:///usr/local/google/home/codyfincher/Code/database-tools/oracle-database-assessment/src/server/dbma/transformer/engine.py#27\u001b\\\u001b[2m27\u001b[0m\u001b]8;;\u001b\\\n"
      ]
     },
     "metadata": {},
     "output_type": "display_data"
    },
    {
     "data": {
      "text/html": [
       "<pre style=\"white-space:pre;overflow-x:auto;line-height:normal;font-family:Menlo,'DejaVu Sans Mono',consolas,'Courier New',monospace\"><span style=\"color: #7fbfbf; text-decoration-color: #7fbfbf\">[10/17/22 16:49:47] </span><span style=\"color: #000080; text-decoration-color: #000080\">INFO    </span> 🔎 Searching for collection archives in the specified directory           <a href=\"file:///usr/local/google/home/codyfincher/Code/database-tools/oracle-database-assessment/src/server/dbma/transformer/engine.py\" target=\"_blank\"><span style=\"color: #7f7f7f; text-decoration-color: #7f7f7f\">engine.py</span></a><span style=\"color: #7f7f7f; text-decoration-color: #7f7f7f\">:</span><a href=\"file:///usr/local/google/home/codyfincher/Code/database-tools/oracle-database-assessment/src/server/dbma/transformer/engine.py#31\" target=\"_blank\"><span style=\"color: #7f7f7f; text-decoration-color: #7f7f7f\">31</span></a>\n",
       "</pre>\n"
      ],
      "text/plain": [
       "\u001b[2;36m[10/17/22 16:49:47]\u001b[0m\u001b[2;36m \u001b[0m\u001b[34mINFO    \u001b[0m 🔎 Searching for collection archives in the specified directory           \u001b]8;id=34765;file:///usr/local/google/home/codyfincher/Code/database-tools/oracle-database-assessment/src/server/dbma/transformer/engine.py\u001b\\\u001b[2mengine.py\u001b[0m\u001b]8;;\u001b\\\u001b[2m:\u001b[0m\u001b]8;id=566168;file:///usr/local/google/home/codyfincher/Code/database-tools/oracle-database-assessment/src/server/dbma/transformer/engine.py#31\u001b\\\u001b[2m31\u001b[0m\u001b]8;;\u001b\\\n"
      ]
     },
     "metadata": {},
     "output_type": "display_data"
    },
    {
     "data": {
      "text/html": [
       "<pre style=\"white-space:pre;overflow-x:auto;line-height:normal;font-family:Menlo,'DejaVu Sans Mono',consolas,'Courier New',monospace\"><span style=\"color: #7fbfbf; text-decoration-color: #7fbfbf\">[10/17/22 16:49:50] </span><span style=\"color: #000080; text-decoration-color: #000080\">INFO    </span> ℹ️  detected version <span style=\"color: #008000; text-decoration-color: #008000\">\"2.0.6\"</span> from the collection name                     <a href=\"file:///usr/local/google/home/codyfincher/Code/database-tools/oracle-database-assessment/src/server/dbma/transformer/engine.py\" target=\"_blank\"><span style=\"color: #7f7f7f; text-decoration-color: #7f7f7f\">engine.py</span></a><span style=\"color: #7f7f7f; text-decoration-color: #7f7f7f\">:</span><a href=\"file:///usr/local/google/home/codyfincher/Code/database-tools/oracle-database-assessment/src/server/dbma/transformer/engine.py#116\" target=\"_blank\"><span style=\"color: #7f7f7f; text-decoration-color: #7f7f7f\">116</span></a>\n",
       "</pre>\n"
      ],
      "text/plain": [
       "\u001b[2;36m[10/17/22 16:49:50]\u001b[0m\u001b[2;36m \u001b[0m\u001b[34mINFO    \u001b[0m ℹ️  detected version \u001b[32m\"2.0.6\"\u001b[0m from the collection name                     \u001b]8;id=147886;file:///usr/local/google/home/codyfincher/Code/database-tools/oracle-database-assessment/src/server/dbma/transformer/engine.py\u001b\\\u001b[2mengine.py\u001b[0m\u001b]8;;\u001b\\\u001b[2m:\u001b[0m\u001b]8;id=53215;file:///usr/local/google/home/codyfincher/Code/database-tools/oracle-database-assessment/src/server/dbma/transformer/engine.py#116\u001b\\\u001b[2m116\u001b[0m\u001b]8;;\u001b\\\n"
      ]
     },
     "metadata": {},
     "output_type": "display_data"
    },
    {
     "data": {
      "text/html": [
       "<pre style=\"white-space:pre;overflow-x:auto;line-height:normal;font-family:Menlo,'DejaVu Sans Mono',consolas,'Courier New',monospace\"><span style=\"color: #7fbfbf; text-decoration-color: #7fbfbf\">[10/17/22 16:49:50] </span><span style=\"color: #000080; text-decoration-color: #000080\">INFO    </span> 🔎 searching opdb__190_2.<span style=\"color: #008080; text-decoration-color: #008080; font-weight: bold\">0.</span>6_19c.sample.localhost.<span style=\"color: #008080; text-decoration-color: #008080; font-weight: bold\">091522192456.</span>tar.gz    <a href=\"file:///usr/local/google/home/codyfincher/Code/database-tools/oracle-database-assessment/src/server/dbma/transformer/engine.py\" target=\"_blank\"><span style=\"color: #7f7f7f; text-decoration-color: #7f7f7f\">engine.py</span></a><span style=\"color: #7f7f7f; text-decoration-color: #7f7f7f\">:</span><a href=\"file:///usr/local/google/home/codyfincher/Code/database-tools/oracle-database-assessment/src/server/dbma/transformer/engine.py#161\" target=\"_blank\"><span style=\"color: #7f7f7f; text-decoration-color: #7f7f7f\">161</span></a>\n",
       "<span style=\"color: #7fbfbf; text-decoration-color: #7fbfbf\">                    </span>         for files and extracting to <span style=\"color: #800080; text-decoration-color: #800080\">/tmp/</span><span style=\"color: #ff00ff; text-decoration-color: #ff00ff\">tmp08rthqcu</span>                             <span style=\"color: #7f7f7f; text-decoration-color: #7f7f7f\">             </span>\n",
       "</pre>\n"
      ],
      "text/plain": [
       "\u001b[2;36m[10/17/22 16:49:50]\u001b[0m\u001b[2;36m \u001b[0m\u001b[34mINFO    \u001b[0m 🔎 searching opdb__190_2.\u001b[1;36m0.\u001b[0m6_19c.sample.localhost.\u001b[1;36m091522192456.\u001b[0mtar.gz    \u001b]8;id=394023;file:///usr/local/google/home/codyfincher/Code/database-tools/oracle-database-assessment/src/server/dbma/transformer/engine.py\u001b\\\u001b[2mengine.py\u001b[0m\u001b]8;;\u001b\\\u001b[2m:\u001b[0m\u001b]8;id=405640;file:///usr/local/google/home/codyfincher/Code/database-tools/oracle-database-assessment/src/server/dbma/transformer/engine.py#161\u001b\\\u001b[2m161\u001b[0m\u001b]8;;\u001b\\\n",
       "\u001b[2;36m                    \u001b[0m         for files and extracting to \u001b[35m/tmp/\u001b[0m\u001b[95mtmp08rthqcu\u001b[0m                             \u001b[2m             \u001b[0m\n"
      ]
     },
     "metadata": {},
     "output_type": "display_data"
    },
    {
     "data": {
      "text/html": [
       "<pre style=\"white-space:pre;overflow-x:auto;line-height:normal;font-family:Menlo,'DejaVu Sans Mono',consolas,'Courier New',monospace\"><span style=\"color: #7fbfbf; text-decoration-color: #7fbfbf\">[10/17/22 16:49:50] </span><span style=\"color: #000080; text-decoration-color: #000080\">INFO    </span> renamed <span style=\"color: #008080; text-decoration-color: #008080; font-weight: bold\">0</span> files in collection <span style=\"color: #008080; text-decoration-color: #008080; font-weight: bold\">091522192456</span>                               <a href=\"file:///usr/local/google/home/codyfincher/Code/database-tools/oracle-database-assessment/src/server/dbma/transformer/engine.py\" target=\"_blank\"><span style=\"color: #7f7f7f; text-decoration-color: #7f7f7f\">engine.py</span></a><span style=\"color: #7f7f7f; text-decoration-color: #7f7f7f\">:</span><a href=\"file:///usr/local/google/home/codyfincher/Code/database-tools/oracle-database-assessment/src/server/dbma/transformer/engine.py#171\" target=\"_blank\"><span style=\"color: #7f7f7f; text-decoration-color: #7f7f7f\">171</span></a>\n",
       "</pre>\n"
      ],
      "text/plain": [
       "\u001b[2;36m[10/17/22 16:49:50]\u001b[0m\u001b[2;36m \u001b[0m\u001b[34mINFO    \u001b[0m renamed \u001b[1;36m0\u001b[0m files in collection \u001b[1;36m091522192456\u001b[0m                               \u001b]8;id=700156;file:///usr/local/google/home/codyfincher/Code/database-tools/oracle-database-assessment/src/server/dbma/transformer/engine.py\u001b\\\u001b[2mengine.py\u001b[0m\u001b]8;;\u001b\\\u001b[2m:\u001b[0m\u001b]8;id=502014;file:///usr/local/google/home/codyfincher/Code/database-tools/oracle-database-assessment/src/server/dbma/transformer/engine.py#171\u001b\\\u001b[2m171\u001b[0m\u001b]8;;\u001b\\\n"
      ]
     },
     "metadata": {},
     "output_type": "display_data"
    },
    {
     "data": {
      "text/html": [
       "<pre style=\"white-space:pre;overflow-x:auto;line-height:normal;font-family:Menlo,'DejaVu Sans Mono',consolas,'Courier New',monospace\"><span style=\"color: #7fbfbf; text-decoration-color: #7fbfbf\">[10/17/22 16:49:50] </span><span style=\"color: #000080; text-decoration-color: #000080\">INFO    </span> completed preprocessing for collection <span style=\"color: #008080; text-decoration-color: #008080; font-weight: bold\">091522192456</span>                      <a href=\"file:///usr/local/google/home/codyfincher/Code/database-tools/oracle-database-assessment/src/server/dbma/transformer/engine.py\" target=\"_blank\"><span style=\"color: #7f7f7f; text-decoration-color: #7f7f7f\">engine.py</span></a><span style=\"color: #7f7f7f; text-decoration-color: #7f7f7f\">:</span><a href=\"file:///usr/local/google/home/codyfincher/Code/database-tools/oracle-database-assessment/src/server/dbma/transformer/engine.py#182\" target=\"_blank\"><span style=\"color: #7f7f7f; text-decoration-color: #7f7f7f\">182</span></a>\n",
       "</pre>\n"
      ],
      "text/plain": [
       "\u001b[2;36m[10/17/22 16:49:50]\u001b[0m\u001b[2;36m \u001b[0m\u001b[34mINFO    \u001b[0m completed preprocessing for collection \u001b[1;36m091522192456\u001b[0m                      \u001b]8;id=303431;file:///usr/local/google/home/codyfincher/Code/database-tools/oracle-database-assessment/src/server/dbma/transformer/engine.py\u001b\\\u001b[2mengine.py\u001b[0m\u001b]8;;\u001b\\\u001b[2m:\u001b[0m\u001b]8;id=424438;file:///usr/local/google/home/codyfincher/Code/database-tools/oracle-database-assessment/src/server/dbma/transformer/engine.py#182\u001b\\\u001b[2m182\u001b[0m\u001b]8;;\u001b\\\n"
      ]
     },
     "metadata": {},
     "output_type": "display_data"
    },
    {
     "data": {
      "text/html": [
       "<pre style=\"white-space:pre;overflow-x:auto;line-height:normal;font-family:Menlo,'DejaVu Sans Mono',consolas,'Courier New',monospace\"><span style=\"color: #7fbfbf; text-decoration-color: #7fbfbf\">[10/17/22 16:49:50] </span><span style=\"color: #000080; text-decoration-color: #000080\">INFO    </span> ℹ️  detected version <span style=\"color: #008000; text-decoration-color: #008000\">\"2.0.6\"</span> from the collection name                     <a href=\"file:///usr/local/google/home/codyfincher/Code/database-tools/oracle-database-assessment/src/server/dbma/transformer/engine.py\" target=\"_blank\"><span style=\"color: #7f7f7f; text-decoration-color: #7f7f7f\">engine.py</span></a><span style=\"color: #7f7f7f; text-decoration-color: #7f7f7f\">:</span><a href=\"file:///usr/local/google/home/codyfincher/Code/database-tools/oracle-database-assessment/src/server/dbma/transformer/engine.py#116\" target=\"_blank\"><span style=\"color: #7f7f7f; text-decoration-color: #7f7f7f\">116</span></a>\n",
       "</pre>\n"
      ],
      "text/plain": [
       "\u001b[2;36m[10/17/22 16:49:50]\u001b[0m\u001b[2;36m \u001b[0m\u001b[34mINFO    \u001b[0m ℹ️  detected version \u001b[32m\"2.0.6\"\u001b[0m from the collection name                     \u001b]8;id=307663;file:///usr/local/google/home/codyfincher/Code/database-tools/oracle-database-assessment/src/server/dbma/transformer/engine.py\u001b\\\u001b[2mengine.py\u001b[0m\u001b]8;;\u001b\\\u001b[2m:\u001b[0m\u001b]8;id=486996;file:///usr/local/google/home/codyfincher/Code/database-tools/oracle-database-assessment/src/server/dbma/transformer/engine.py#116\u001b\\\u001b[2m116\u001b[0m\u001b]8;;\u001b\\\n"
      ]
     },
     "metadata": {},
     "output_type": "display_data"
    },
    {
     "data": {
      "text/html": [
       "<pre style=\"white-space:pre;overflow-x:auto;line-height:normal;font-family:Menlo,'DejaVu Sans Mono',consolas,'Courier New',monospace\"><span style=\"color: #7fbfbf; text-decoration-color: #7fbfbf\">[10/17/22 16:49:50] </span><span style=\"color: #000080; text-decoration-color: #000080\">INFO    </span> 🔎 searching                                                             <a href=\"file:///usr/local/google/home/codyfincher/Code/database-tools/oracle-database-assessment/src/server/dbma/transformer/engine.py\" target=\"_blank\"><span style=\"color: #7f7f7f; text-decoration-color: #7f7f7f\">engine.py</span></a><span style=\"color: #7f7f7f; text-decoration-color: #7f7f7f\">:</span><a href=\"file:///usr/local/google/home/codyfincher/Code/database-tools/oracle-database-assessment/src/server/dbma/transformer/engine.py#161\" target=\"_blank\"><span style=\"color: #7f7f7f; text-decoration-color: #7f7f7f\">161</span></a>\n",
       "<span style=\"color: #7fbfbf; text-decoration-color: #7fbfbf\">                    </span>         opdb__122_2.<span style=\"color: #008080; text-decoration-color: #008080; font-weight: bold\">0.</span>6_zardplgexusdb01.medscheme.com.HITMCPRD.hitmcprd.<span style=\"color: #008080; text-decoration-color: #008080; font-weight: bold\">10062208</span> <span style=\"color: #7f7f7f; text-decoration-color: #7f7f7f\">             </span>\n",
       "<span style=\"color: #7fbfbf; text-decoration-color: #7fbfbf\">                    </span>         <span style=\"color: #008080; text-decoration-color: #008080; font-weight: bold\">4702.</span>log.tgz for files and extracting to <span style=\"color: #800080; text-decoration-color: #800080\">/tmp/</span><span style=\"color: #ff00ff; text-decoration-color: #ff00ff\">tmp08rthqcu</span>                <span style=\"color: #7f7f7f; text-decoration-color: #7f7f7f\">             </span>\n",
       "</pre>\n"
      ],
      "text/plain": [
       "\u001b[2;36m[10/17/22 16:49:50]\u001b[0m\u001b[2;36m \u001b[0m\u001b[34mINFO    \u001b[0m 🔎 searching                                                             \u001b]8;id=980461;file:///usr/local/google/home/codyfincher/Code/database-tools/oracle-database-assessment/src/server/dbma/transformer/engine.py\u001b\\\u001b[2mengine.py\u001b[0m\u001b]8;;\u001b\\\u001b[2m:\u001b[0m\u001b]8;id=522701;file:///usr/local/google/home/codyfincher/Code/database-tools/oracle-database-assessment/src/server/dbma/transformer/engine.py#161\u001b\\\u001b[2m161\u001b[0m\u001b]8;;\u001b\\\n",
       "\u001b[2;36m                    \u001b[0m         opdb__122_2.\u001b[1;36m0.\u001b[0m6_zardplgexusdb01.medscheme.com.HITMCPRD.hitmcprd.\u001b[1;36m10062208\u001b[0m \u001b[2m             \u001b[0m\n",
       "\u001b[2;36m                    \u001b[0m         \u001b[1;36m4702.\u001b[0mlog.tgz for files and extracting to \u001b[35m/tmp/\u001b[0m\u001b[95mtmp08rthqcu\u001b[0m                \u001b[2m             \u001b[0m\n"
      ]
     },
     "metadata": {},
     "output_type": "display_data"
    },
    {
     "data": {
      "text/html": [
       "<pre style=\"white-space:pre;overflow-x:auto;line-height:normal;font-family:Menlo,'DejaVu Sans Mono',consolas,'Courier New',monospace\"><span style=\"color: #7fbfbf; text-decoration-color: #7fbfbf\">[10/17/22 16:49:51] </span><span style=\"color: #000080; text-decoration-color: #000080\">INFO    </span> renamed <span style=\"color: #008080; text-decoration-color: #008080; font-weight: bold\">32</span> files in collection <span style=\"color: #008080; text-decoration-color: #008080; font-weight: bold\">100622084702</span>                              <a href=\"file:///usr/local/google/home/codyfincher/Code/database-tools/oracle-database-assessment/src/server/dbma/transformer/engine.py\" target=\"_blank\"><span style=\"color: #7f7f7f; text-decoration-color: #7f7f7f\">engine.py</span></a><span style=\"color: #7f7f7f; text-decoration-color: #7f7f7f\">:</span><a href=\"file:///usr/local/google/home/codyfincher/Code/database-tools/oracle-database-assessment/src/server/dbma/transformer/engine.py#171\" target=\"_blank\"><span style=\"color: #7f7f7f; text-decoration-color: #7f7f7f\">171</span></a>\n",
       "</pre>\n"
      ],
      "text/plain": [
       "\u001b[2;36m[10/17/22 16:49:51]\u001b[0m\u001b[2;36m \u001b[0m\u001b[34mINFO    \u001b[0m renamed \u001b[1;36m32\u001b[0m files in collection \u001b[1;36m100622084702\u001b[0m                              \u001b]8;id=628023;file:///usr/local/google/home/codyfincher/Code/database-tools/oracle-database-assessment/src/server/dbma/transformer/engine.py\u001b\\\u001b[2mengine.py\u001b[0m\u001b]8;;\u001b\\\u001b[2m:\u001b[0m\u001b]8;id=276665;file:///usr/local/google/home/codyfincher/Code/database-tools/oracle-database-assessment/src/server/dbma/transformer/engine.py#171\u001b\\\u001b[2m171\u001b[0m\u001b]8;;\u001b\\\n"
      ]
     },
     "metadata": {},
     "output_type": "display_data"
    },
    {
     "data": {
      "text/html": [
       "<pre style=\"white-space:pre;overflow-x:auto;line-height:normal;font-family:Menlo,'DejaVu Sans Mono',consolas,'Courier New',monospace\"><span style=\"color: #7fbfbf; text-decoration-color: #7fbfbf\">[10/17/22 16:49:51] </span><span style=\"color: #000080; text-decoration-color: #000080\">INFO    </span> completed preprocessing for collection <span style=\"color: #008080; text-decoration-color: #008080; font-weight: bold\">100622084702</span>                      <a href=\"file:///usr/local/google/home/codyfincher/Code/database-tools/oracle-database-assessment/src/server/dbma/transformer/engine.py\" target=\"_blank\"><span style=\"color: #7f7f7f; text-decoration-color: #7f7f7f\">engine.py</span></a><span style=\"color: #7f7f7f; text-decoration-color: #7f7f7f\">:</span><a href=\"file:///usr/local/google/home/codyfincher/Code/database-tools/oracle-database-assessment/src/server/dbma/transformer/engine.py#182\" target=\"_blank\"><span style=\"color: #7f7f7f; text-decoration-color: #7f7f7f\">182</span></a>\n",
       "</pre>\n"
      ],
      "text/plain": [
       "\u001b[2;36m[10/17/22 16:49:51]\u001b[0m\u001b[2;36m \u001b[0m\u001b[34mINFO    \u001b[0m completed preprocessing for collection \u001b[1;36m100622084702\u001b[0m                      \u001b]8;id=596143;file:///usr/local/google/home/codyfincher/Code/database-tools/oracle-database-assessment/src/server/dbma/transformer/engine.py\u001b\\\u001b[2mengine.py\u001b[0m\u001b]8;;\u001b\\\u001b[2m:\u001b[0m\u001b]8;id=454204;file:///usr/local/google/home/codyfincher/Code/database-tools/oracle-database-assessment/src/server/dbma/transformer/engine.py#182\u001b\\\u001b[2m182\u001b[0m\u001b]8;;\u001b\\\n"
      ]
     },
     "metadata": {},
     "output_type": "display_data"
    },
    {
     "data": {
      "text/html": [
       "<pre style=\"white-space:pre;overflow-x:auto;line-height:normal;font-family:Menlo,'DejaVu Sans Mono',consolas,'Courier New',monospace\"><span style=\"color: #7fbfbf; text-decoration-color: #7fbfbf\">[10/17/22 16:49:51] </span><span style=\"color: #000080; text-decoration-color: #000080\">INFO    </span> ℹ️  detected version <span style=\"color: #008000; text-decoration-color: #008000\">\"2.0.6\"</span> from the collection name                     <a href=\"file:///usr/local/google/home/codyfincher/Code/database-tools/oracle-database-assessment/src/server/dbma/transformer/engine.py\" target=\"_blank\"><span style=\"color: #7f7f7f; text-decoration-color: #7f7f7f\">engine.py</span></a><span style=\"color: #7f7f7f; text-decoration-color: #7f7f7f\">:</span><a href=\"file:///usr/local/google/home/codyfincher/Code/database-tools/oracle-database-assessment/src/server/dbma/transformer/engine.py#116\" target=\"_blank\"><span style=\"color: #7f7f7f; text-decoration-color: #7f7f7f\">116</span></a>\n",
       "</pre>\n"
      ],
      "text/plain": [
       "\u001b[2;36m[10/17/22 16:49:51]\u001b[0m\u001b[2;36m \u001b[0m\u001b[34mINFO    \u001b[0m ℹ️  detected version \u001b[32m\"2.0.6\"\u001b[0m from the collection name                     \u001b]8;id=495167;file:///usr/local/google/home/codyfincher/Code/database-tools/oracle-database-assessment/src/server/dbma/transformer/engine.py\u001b\\\u001b[2mengine.py\u001b[0m\u001b]8;;\u001b\\\u001b[2m:\u001b[0m\u001b]8;id=817111;file:///usr/local/google/home/codyfincher/Code/database-tools/oracle-database-assessment/src/server/dbma/transformer/engine.py#116\u001b\\\u001b[2m116\u001b[0m\u001b]8;;\u001b\\\n"
      ]
     },
     "metadata": {},
     "output_type": "display_data"
    },
    {
     "data": {
      "text/html": [
       "<pre style=\"white-space:pre;overflow-x:auto;line-height:normal;font-family:Menlo,'DejaVu Sans Mono',consolas,'Courier New',monospace\"><span style=\"color: #7fbfbf; text-decoration-color: #7fbfbf\">[10/17/22 16:49:51] </span><span style=\"color: #000080; text-decoration-color: #000080\">INFO    </span> 🔎 searching                                                             <a href=\"file:///usr/local/google/home/codyfincher/Code/database-tools/oracle-database-assessment/src/server/dbma/transformer/engine.py\" target=\"_blank\"><span style=\"color: #7f7f7f; text-decoration-color: #7f7f7f\">engine.py</span></a><span style=\"color: #7f7f7f; text-decoration-color: #7f7f7f\">:</span><a href=\"file:///usr/local/google/home/codyfincher/Code/database-tools/oracle-database-assessment/src/server/dbma/transformer/engine.py#161\" target=\"_blank\"><span style=\"color: #7f7f7f; text-decoration-color: #7f7f7f\">161</span></a>\n",
       "<span style=\"color: #7fbfbf; text-decoration-color: #7fbfbf\">                    </span>         opdb__190_2.<span style=\"color: #008080; text-decoration-color: #008080; font-weight: bold\">0.</span>6_tigersnake.medscheme.com.APUSP.apusp.<span style=\"color: #008080; text-decoration-color: #008080; font-weight: bold\">100622084900.</span>log.tg <span style=\"color: #7f7f7f; text-decoration-color: #7f7f7f\">             </span>\n",
       "<span style=\"color: #7fbfbf; text-decoration-color: #7fbfbf\">                    </span>         z for files and extracting to <span style=\"color: #800080; text-decoration-color: #800080\">/tmp/</span><span style=\"color: #ff00ff; text-decoration-color: #ff00ff\">tmp08rthqcu</span>                           <span style=\"color: #7f7f7f; text-decoration-color: #7f7f7f\">             </span>\n",
       "</pre>\n"
      ],
      "text/plain": [
       "\u001b[2;36m[10/17/22 16:49:51]\u001b[0m\u001b[2;36m \u001b[0m\u001b[34mINFO    \u001b[0m 🔎 searching                                                             \u001b]8;id=703655;file:///usr/local/google/home/codyfincher/Code/database-tools/oracle-database-assessment/src/server/dbma/transformer/engine.py\u001b\\\u001b[2mengine.py\u001b[0m\u001b]8;;\u001b\\\u001b[2m:\u001b[0m\u001b]8;id=374275;file:///usr/local/google/home/codyfincher/Code/database-tools/oracle-database-assessment/src/server/dbma/transformer/engine.py#161\u001b\\\u001b[2m161\u001b[0m\u001b]8;;\u001b\\\n",
       "\u001b[2;36m                    \u001b[0m         opdb__190_2.\u001b[1;36m0.\u001b[0m6_tigersnake.medscheme.com.APUSP.apusp.\u001b[1;36m100622084900.\u001b[0mlog.tg \u001b[2m             \u001b[0m\n",
       "\u001b[2;36m                    \u001b[0m         z for files and extracting to \u001b[35m/tmp/\u001b[0m\u001b[95mtmp08rthqcu\u001b[0m                           \u001b[2m             \u001b[0m\n"
      ]
     },
     "metadata": {},
     "output_type": "display_data"
    },
    {
     "data": {
      "text/html": [
       "<pre style=\"white-space:pre;overflow-x:auto;line-height:normal;font-family:Menlo,'DejaVu Sans Mono',consolas,'Courier New',monospace\"><span style=\"color: #7fbfbf; text-decoration-color: #7fbfbf\">[10/17/22 16:49:51] </span><span style=\"color: #000080; text-decoration-color: #000080\">INFO    </span> renamed <span style=\"color: #008080; text-decoration-color: #008080; font-weight: bold\">32</span> files in collection <span style=\"color: #008080; text-decoration-color: #008080; font-weight: bold\">100622084900</span>                              <a href=\"file:///usr/local/google/home/codyfincher/Code/database-tools/oracle-database-assessment/src/server/dbma/transformer/engine.py\" target=\"_blank\"><span style=\"color: #7f7f7f; text-decoration-color: #7f7f7f\">engine.py</span></a><span style=\"color: #7f7f7f; text-decoration-color: #7f7f7f\">:</span><a href=\"file:///usr/local/google/home/codyfincher/Code/database-tools/oracle-database-assessment/src/server/dbma/transformer/engine.py#171\" target=\"_blank\"><span style=\"color: #7f7f7f; text-decoration-color: #7f7f7f\">171</span></a>\n",
       "</pre>\n"
      ],
      "text/plain": [
       "\u001b[2;36m[10/17/22 16:49:51]\u001b[0m\u001b[2;36m \u001b[0m\u001b[34mINFO    \u001b[0m renamed \u001b[1;36m32\u001b[0m files in collection \u001b[1;36m100622084900\u001b[0m                              \u001b]8;id=80805;file:///usr/local/google/home/codyfincher/Code/database-tools/oracle-database-assessment/src/server/dbma/transformer/engine.py\u001b\\\u001b[2mengine.py\u001b[0m\u001b]8;;\u001b\\\u001b[2m:\u001b[0m\u001b]8;id=350847;file:///usr/local/google/home/codyfincher/Code/database-tools/oracle-database-assessment/src/server/dbma/transformer/engine.py#171\u001b\\\u001b[2m171\u001b[0m\u001b]8;;\u001b\\\n"
      ]
     },
     "metadata": {},
     "output_type": "display_data"
    },
    {
     "data": {
      "text/html": [
       "<pre style=\"white-space:pre;overflow-x:auto;line-height:normal;font-family:Menlo,'DejaVu Sans Mono',consolas,'Courier New',monospace\"><span style=\"color: #7fbfbf; text-decoration-color: #7fbfbf\">[10/17/22 16:49:51] </span><span style=\"color: #000080; text-decoration-color: #000080\">INFO    </span> completed preprocessing for collection <span style=\"color: #008080; text-decoration-color: #008080; font-weight: bold\">100622084900</span>                      <a href=\"file:///usr/local/google/home/codyfincher/Code/database-tools/oracle-database-assessment/src/server/dbma/transformer/engine.py\" target=\"_blank\"><span style=\"color: #7f7f7f; text-decoration-color: #7f7f7f\">engine.py</span></a><span style=\"color: #7f7f7f; text-decoration-color: #7f7f7f\">:</span><a href=\"file:///usr/local/google/home/codyfincher/Code/database-tools/oracle-database-assessment/src/server/dbma/transformer/engine.py#182\" target=\"_blank\"><span style=\"color: #7f7f7f; text-decoration-color: #7f7f7f\">182</span></a>\n",
       "</pre>\n"
      ],
      "text/plain": [
       "\u001b[2;36m[10/17/22 16:49:51]\u001b[0m\u001b[2;36m \u001b[0m\u001b[34mINFO    \u001b[0m completed preprocessing for collection \u001b[1;36m100622084900\u001b[0m                      \u001b]8;id=47704;file:///usr/local/google/home/codyfincher/Code/database-tools/oracle-database-assessment/src/server/dbma/transformer/engine.py\u001b\\\u001b[2mengine.py\u001b[0m\u001b]8;;\u001b\\\u001b[2m:\u001b[0m\u001b]8;id=200254;file:///usr/local/google/home/codyfincher/Code/database-tools/oracle-database-assessment/src/server/dbma/transformer/engine.py#182\u001b\\\u001b[2m182\u001b[0m\u001b]8;;\u001b\\\n"
      ]
     },
     "metadata": {},
     "output_type": "display_data"
    },
    {
     "data": {
      "text/html": [
       "<pre style=\"white-space:pre;overflow-x:auto;line-height:normal;font-family:Menlo,'DejaVu Sans Mono',consolas,'Courier New',monospace\"><span style=\"color: #7fbfbf; text-decoration-color: #7fbfbf\">[10/17/22 16:49:51] </span><span style=\"color: #000080; text-decoration-color: #000080\">INFO    </span> ℹ️  detected version <span style=\"color: #008000; text-decoration-color: #008000\">\"2.0.6\"</span> from the collection name                     <a href=\"file:///usr/local/google/home/codyfincher/Code/database-tools/oracle-database-assessment/src/server/dbma/transformer/engine.py\" target=\"_blank\"><span style=\"color: #7f7f7f; text-decoration-color: #7f7f7f\">engine.py</span></a><span style=\"color: #7f7f7f; text-decoration-color: #7f7f7f\">:</span><a href=\"file:///usr/local/google/home/codyfincher/Code/database-tools/oracle-database-assessment/src/server/dbma/transformer/engine.py#116\" target=\"_blank\"><span style=\"color: #7f7f7f; text-decoration-color: #7f7f7f\">116</span></a>\n",
       "</pre>\n"
      ],
      "text/plain": [
       "\u001b[2;36m[10/17/22 16:49:51]\u001b[0m\u001b[2;36m \u001b[0m\u001b[34mINFO    \u001b[0m ℹ️  detected version \u001b[32m\"2.0.6\"\u001b[0m from the collection name                     \u001b]8;id=110252;file:///usr/local/google/home/codyfincher/Code/database-tools/oracle-database-assessment/src/server/dbma/transformer/engine.py\u001b\\\u001b[2mengine.py\u001b[0m\u001b]8;;\u001b\\\u001b[2m:\u001b[0m\u001b]8;id=423025;file:///usr/local/google/home/codyfincher/Code/database-tools/oracle-database-assessment/src/server/dbma/transformer/engine.py#116\u001b\\\u001b[2m116\u001b[0m\u001b]8;;\u001b\\\n"
      ]
     },
     "metadata": {},
     "output_type": "display_data"
    },
    {
     "data": {
      "text/html": [
       "<pre style=\"white-space:pre;overflow-x:auto;line-height:normal;font-family:Menlo,'DejaVu Sans Mono',consolas,'Courier New',monospace\"><span style=\"color: #7fbfbf; text-decoration-color: #7fbfbf\">[10/17/22 16:49:51] </span><span style=\"color: #000080; text-decoration-color: #000080\">INFO    </span> 🔎 searching                                                             <a href=\"file:///usr/local/google/home/codyfincher/Code/database-tools/oracle-database-assessment/src/server/dbma/transformer/engine.py\" target=\"_blank\"><span style=\"color: #7f7f7f; text-decoration-color: #7f7f7f\">engine.py</span></a><span style=\"color: #7f7f7f; text-decoration-color: #7f7f7f\">:</span><a href=\"file:///usr/local/google/home/codyfincher/Code/database-tools/oracle-database-assessment/src/server/dbma/transformer/engine.py#161\" target=\"_blank\"><span style=\"color: #7f7f7f; text-decoration-color: #7f7f7f\">161</span></a>\n",
       "<span style=\"color: #7fbfbf; text-decoration-color: #7fbfbf\">                    </span>         opdb__190_2.<span style=\"color: #008080; text-decoration-color: #008080; font-weight: bold\">0.</span>6_zabdcldwdbpr01.medscheme.com.DWPROD.dwprod.<span style=\"color: #008080; text-decoration-color: #008080; font-weight: bold\">092322133449.</span> <span style=\"color: #7f7f7f; text-decoration-color: #7f7f7f\">             </span>\n",
       "<span style=\"color: #7fbfbf; text-decoration-color: #7fbfbf\">                    </span>         log.tgz for files and extracting to <span style=\"color: #800080; text-decoration-color: #800080\">/tmp/</span><span style=\"color: #ff00ff; text-decoration-color: #ff00ff\">tmp08rthqcu</span>                     <span style=\"color: #7f7f7f; text-decoration-color: #7f7f7f\">             </span>\n",
       "</pre>\n"
      ],
      "text/plain": [
       "\u001b[2;36m[10/17/22 16:49:51]\u001b[0m\u001b[2;36m \u001b[0m\u001b[34mINFO    \u001b[0m 🔎 searching                                                             \u001b]8;id=27107;file:///usr/local/google/home/codyfincher/Code/database-tools/oracle-database-assessment/src/server/dbma/transformer/engine.py\u001b\\\u001b[2mengine.py\u001b[0m\u001b]8;;\u001b\\\u001b[2m:\u001b[0m\u001b]8;id=892664;file:///usr/local/google/home/codyfincher/Code/database-tools/oracle-database-assessment/src/server/dbma/transformer/engine.py#161\u001b\\\u001b[2m161\u001b[0m\u001b]8;;\u001b\\\n",
       "\u001b[2;36m                    \u001b[0m         opdb__190_2.\u001b[1;36m0.\u001b[0m6_zabdcldwdbpr01.medscheme.com.DWPROD.dwprod.\u001b[1;36m092322133449.\u001b[0m \u001b[2m             \u001b[0m\n",
       "\u001b[2;36m                    \u001b[0m         log.tgz for files and extracting to \u001b[35m/tmp/\u001b[0m\u001b[95mtmp08rthqcu\u001b[0m                     \u001b[2m             \u001b[0m\n"
      ]
     },
     "metadata": {},
     "output_type": "display_data"
    },
    {
     "data": {
      "text/html": [
       "<pre style=\"white-space:pre;overflow-x:auto;line-height:normal;font-family:Menlo,'DejaVu Sans Mono',consolas,'Courier New',monospace\"><span style=\"color: #7fbfbf; text-decoration-color: #7fbfbf\">[10/17/22 16:49:51] </span><span style=\"color: #000080; text-decoration-color: #000080\">INFO    </span> renamed <span style=\"color: #008080; text-decoration-color: #008080; font-weight: bold\">32</span> files in collection <span style=\"color: #008080; text-decoration-color: #008080; font-weight: bold\">092322133449</span>                              <a href=\"file:///usr/local/google/home/codyfincher/Code/database-tools/oracle-database-assessment/src/server/dbma/transformer/engine.py\" target=\"_blank\"><span style=\"color: #7f7f7f; text-decoration-color: #7f7f7f\">engine.py</span></a><span style=\"color: #7f7f7f; text-decoration-color: #7f7f7f\">:</span><a href=\"file:///usr/local/google/home/codyfincher/Code/database-tools/oracle-database-assessment/src/server/dbma/transformer/engine.py#171\" target=\"_blank\"><span style=\"color: #7f7f7f; text-decoration-color: #7f7f7f\">171</span></a>\n",
       "</pre>\n"
      ],
      "text/plain": [
       "\u001b[2;36m[10/17/22 16:49:51]\u001b[0m\u001b[2;36m \u001b[0m\u001b[34mINFO    \u001b[0m renamed \u001b[1;36m32\u001b[0m files in collection \u001b[1;36m092322133449\u001b[0m                              \u001b]8;id=287106;file:///usr/local/google/home/codyfincher/Code/database-tools/oracle-database-assessment/src/server/dbma/transformer/engine.py\u001b\\\u001b[2mengine.py\u001b[0m\u001b]8;;\u001b\\\u001b[2m:\u001b[0m\u001b]8;id=598305;file:///usr/local/google/home/codyfincher/Code/database-tools/oracle-database-assessment/src/server/dbma/transformer/engine.py#171\u001b\\\u001b[2m171\u001b[0m\u001b]8;;\u001b\\\n"
      ]
     },
     "metadata": {},
     "output_type": "display_data"
    },
    {
     "data": {
      "text/html": [
       "<pre style=\"white-space:pre;overflow-x:auto;line-height:normal;font-family:Menlo,'DejaVu Sans Mono',consolas,'Courier New',monospace\"><span style=\"color: #7fbfbf; text-decoration-color: #7fbfbf\">[10/17/22 16:49:51] </span><span style=\"color: #000080; text-decoration-color: #000080\">INFO    </span> completed preprocessing for collection <span style=\"color: #008080; text-decoration-color: #008080; font-weight: bold\">092322133449</span>                      <a href=\"file:///usr/local/google/home/codyfincher/Code/database-tools/oracle-database-assessment/src/server/dbma/transformer/engine.py\" target=\"_blank\"><span style=\"color: #7f7f7f; text-decoration-color: #7f7f7f\">engine.py</span></a><span style=\"color: #7f7f7f; text-decoration-color: #7f7f7f\">:</span><a href=\"file:///usr/local/google/home/codyfincher/Code/database-tools/oracle-database-assessment/src/server/dbma/transformer/engine.py#182\" target=\"_blank\"><span style=\"color: #7f7f7f; text-decoration-color: #7f7f7f\">182</span></a>\n",
       "</pre>\n"
      ],
      "text/plain": [
       "\u001b[2;36m[10/17/22 16:49:51]\u001b[0m\u001b[2;36m \u001b[0m\u001b[34mINFO    \u001b[0m completed preprocessing for collection \u001b[1;36m092322133449\u001b[0m                      \u001b]8;id=815496;file:///usr/local/google/home/codyfincher/Code/database-tools/oracle-database-assessment/src/server/dbma/transformer/engine.py\u001b\\\u001b[2mengine.py\u001b[0m\u001b]8;;\u001b\\\u001b[2m:\u001b[0m\u001b]8;id=837625;file:///usr/local/google/home/codyfincher/Code/database-tools/oracle-database-assessment/src/server/dbma/transformer/engine.py#182\u001b\\\u001b[2m182\u001b[0m\u001b]8;;\u001b\\\n"
      ]
     },
     "metadata": {},
     "output_type": "display_data"
    },
    {
     "data": {
      "text/html": [
       "<pre style=\"white-space:pre;overflow-x:auto;line-height:normal;font-family:Menlo,'DejaVu Sans Mono',consolas,'Courier New',monospace\"><span style=\"color: #7fbfbf; text-decoration-color: #7fbfbf\">[10/17/22 16:49:51] </span><span style=\"color: #000080; text-decoration-color: #000080\">INFO    </span> ℹ️  detected version <span style=\"color: #008000; text-decoration-color: #008000\">\"2.0.6\"</span> from the collection name                     <a href=\"file:///usr/local/google/home/codyfincher/Code/database-tools/oracle-database-assessment/src/server/dbma/transformer/engine.py\" target=\"_blank\"><span style=\"color: #7f7f7f; text-decoration-color: #7f7f7f\">engine.py</span></a><span style=\"color: #7f7f7f; text-decoration-color: #7f7f7f\">:</span><a href=\"file:///usr/local/google/home/codyfincher/Code/database-tools/oracle-database-assessment/src/server/dbma/transformer/engine.py#116\" target=\"_blank\"><span style=\"color: #7f7f7f; text-decoration-color: #7f7f7f\">116</span></a>\n",
       "</pre>\n"
      ],
      "text/plain": [
       "\u001b[2;36m[10/17/22 16:49:51]\u001b[0m\u001b[2;36m \u001b[0m\u001b[34mINFO    \u001b[0m ℹ️  detected version \u001b[32m\"2.0.6\"\u001b[0m from the collection name                     \u001b]8;id=106827;file:///usr/local/google/home/codyfincher/Code/database-tools/oracle-database-assessment/src/server/dbma/transformer/engine.py\u001b\\\u001b[2mengine.py\u001b[0m\u001b]8;;\u001b\\\u001b[2m:\u001b[0m\u001b]8;id=154440;file:///usr/local/google/home/codyfincher/Code/database-tools/oracle-database-assessment/src/server/dbma/transformer/engine.py#116\u001b\\\u001b[2m116\u001b[0m\u001b]8;;\u001b\\\n"
      ]
     },
     "metadata": {},
     "output_type": "display_data"
    },
    {
     "data": {
      "text/html": [
       "<pre style=\"white-space:pre;overflow-x:auto;line-height:normal;font-family:Menlo,'DejaVu Sans Mono',consolas,'Courier New',monospace\"><span style=\"color: #7fbfbf; text-decoration-color: #7fbfbf\">[10/17/22 16:49:51] </span><span style=\"color: #000080; text-decoration-color: #000080\">INFO    </span> 🔎 searching                                                             <a href=\"file:///usr/local/google/home/codyfincher/Code/database-tools/oracle-database-assessment/src/server/dbma/transformer/engine.py\" target=\"_blank\"><span style=\"color: #7f7f7f; text-decoration-color: #7f7f7f\">engine.py</span></a><span style=\"color: #7f7f7f; text-decoration-color: #7f7f7f\">:</span><a href=\"file:///usr/local/google/home/codyfincher/Code/database-tools/oracle-database-assessment/src/server/dbma/transformer/engine.py#161\" target=\"_blank\"><span style=\"color: #7f7f7f; text-decoration-color: #7f7f7f\">161</span></a>\n",
       "<span style=\"color: #7fbfbf; text-decoration-color: #7fbfbf\">                    </span>         opdb__190_2.<span style=\"color: #008080; text-decoration-color: #008080; font-weight: bold\">0.</span>6_zabdcldwdbpr01.medscheme.com.ORIONODS.orionods.<span style=\"color: #008080; text-decoration-color: #008080; font-weight: bold\">092322134</span> <span style=\"color: #7f7f7f; text-decoration-color: #7f7f7f\">             </span>\n",
       "<span style=\"color: #7fbfbf; text-decoration-color: #7fbfbf\">                    </span>         <span style=\"color: #008080; text-decoration-color: #008080; font-weight: bold\">707.</span>log.tgz for files and extracting to <span style=\"color: #800080; text-decoration-color: #800080\">/tmp/</span><span style=\"color: #ff00ff; text-decoration-color: #ff00ff\">tmp08rthqcu</span>                 <span style=\"color: #7f7f7f; text-decoration-color: #7f7f7f\">             </span>\n",
       "</pre>\n"
      ],
      "text/plain": [
       "\u001b[2;36m[10/17/22 16:49:51]\u001b[0m\u001b[2;36m \u001b[0m\u001b[34mINFO    \u001b[0m 🔎 searching                                                             \u001b]8;id=349552;file:///usr/local/google/home/codyfincher/Code/database-tools/oracle-database-assessment/src/server/dbma/transformer/engine.py\u001b\\\u001b[2mengine.py\u001b[0m\u001b]8;;\u001b\\\u001b[2m:\u001b[0m\u001b]8;id=102171;file:///usr/local/google/home/codyfincher/Code/database-tools/oracle-database-assessment/src/server/dbma/transformer/engine.py#161\u001b\\\u001b[2m161\u001b[0m\u001b]8;;\u001b\\\n",
       "\u001b[2;36m                    \u001b[0m         opdb__190_2.\u001b[1;36m0.\u001b[0m6_zabdcldwdbpr01.medscheme.com.ORIONODS.orionods.\u001b[1;36m092322134\u001b[0m \u001b[2m             \u001b[0m\n",
       "\u001b[2;36m                    \u001b[0m         \u001b[1;36m707.\u001b[0mlog.tgz for files and extracting to \u001b[35m/tmp/\u001b[0m\u001b[95mtmp08rthqcu\u001b[0m                 \u001b[2m             \u001b[0m\n"
      ]
     },
     "metadata": {},
     "output_type": "display_data"
    },
    {
     "data": {
      "text/html": [
       "<pre style=\"white-space:pre;overflow-x:auto;line-height:normal;font-family:Menlo,'DejaVu Sans Mono',consolas,'Courier New',monospace\"><span style=\"color: #7fbfbf; text-decoration-color: #7fbfbf\">[10/17/22 16:49:51] </span><span style=\"color: #000080; text-decoration-color: #000080\">INFO    </span> renamed <span style=\"color: #008080; text-decoration-color: #008080; font-weight: bold\">32</span> files in collection <span style=\"color: #008080; text-decoration-color: #008080; font-weight: bold\">092322134707</span>                              <a href=\"file:///usr/local/google/home/codyfincher/Code/database-tools/oracle-database-assessment/src/server/dbma/transformer/engine.py\" target=\"_blank\"><span style=\"color: #7f7f7f; text-decoration-color: #7f7f7f\">engine.py</span></a><span style=\"color: #7f7f7f; text-decoration-color: #7f7f7f\">:</span><a href=\"file:///usr/local/google/home/codyfincher/Code/database-tools/oracle-database-assessment/src/server/dbma/transformer/engine.py#171\" target=\"_blank\"><span style=\"color: #7f7f7f; text-decoration-color: #7f7f7f\">171</span></a>\n",
       "</pre>\n"
      ],
      "text/plain": [
       "\u001b[2;36m[10/17/22 16:49:51]\u001b[0m\u001b[2;36m \u001b[0m\u001b[34mINFO    \u001b[0m renamed \u001b[1;36m32\u001b[0m files in collection \u001b[1;36m092322134707\u001b[0m                              \u001b]8;id=334066;file:///usr/local/google/home/codyfincher/Code/database-tools/oracle-database-assessment/src/server/dbma/transformer/engine.py\u001b\\\u001b[2mengine.py\u001b[0m\u001b]8;;\u001b\\\u001b[2m:\u001b[0m\u001b]8;id=984680;file:///usr/local/google/home/codyfincher/Code/database-tools/oracle-database-assessment/src/server/dbma/transformer/engine.py#171\u001b\\\u001b[2m171\u001b[0m\u001b]8;;\u001b\\\n"
      ]
     },
     "metadata": {},
     "output_type": "display_data"
    },
    {
     "data": {
      "text/html": [
       "<pre style=\"white-space:pre;overflow-x:auto;line-height:normal;font-family:Menlo,'DejaVu Sans Mono',consolas,'Courier New',monospace\"><span style=\"color: #7fbfbf; text-decoration-color: #7fbfbf\">[10/17/22 16:49:51] </span><span style=\"color: #000080; text-decoration-color: #000080\">INFO    </span> completed preprocessing for collection <span style=\"color: #008080; text-decoration-color: #008080; font-weight: bold\">092322134707</span>                      <a href=\"file:///usr/local/google/home/codyfincher/Code/database-tools/oracle-database-assessment/src/server/dbma/transformer/engine.py\" target=\"_blank\"><span style=\"color: #7f7f7f; text-decoration-color: #7f7f7f\">engine.py</span></a><span style=\"color: #7f7f7f; text-decoration-color: #7f7f7f\">:</span><a href=\"file:///usr/local/google/home/codyfincher/Code/database-tools/oracle-database-assessment/src/server/dbma/transformer/engine.py#182\" target=\"_blank\"><span style=\"color: #7f7f7f; text-decoration-color: #7f7f7f\">182</span></a>\n",
       "</pre>\n"
      ],
      "text/plain": [
       "\u001b[2;36m[10/17/22 16:49:51]\u001b[0m\u001b[2;36m \u001b[0m\u001b[34mINFO    \u001b[0m completed preprocessing for collection \u001b[1;36m092322134707\u001b[0m                      \u001b]8;id=396752;file:///usr/local/google/home/codyfincher/Code/database-tools/oracle-database-assessment/src/server/dbma/transformer/engine.py\u001b\\\u001b[2mengine.py\u001b[0m\u001b]8;;\u001b\\\u001b[2m:\u001b[0m\u001b]8;id=141326;file:///usr/local/google/home/codyfincher/Code/database-tools/oracle-database-assessment/src/server/dbma/transformer/engine.py#182\u001b\\\u001b[2m182\u001b[0m\u001b]8;;\u001b\\\n"
      ]
     },
     "metadata": {},
     "output_type": "display_data"
    },
    {
     "data": {
      "text/html": [
       "<pre style=\"white-space:pre;overflow-x:auto;line-height:normal;font-family:Menlo,'DejaVu Sans Mono',consolas,'Courier New',monospace\"><span style=\"color: #7fbfbf; text-decoration-color: #7fbfbf\">[10/17/22 16:49:51] </span><span style=\"color: #000080; text-decoration-color: #000080\">INFO    </span> ℹ️  detected version <span style=\"color: #008000; text-decoration-color: #008000\">\"2.0.6\"</span> from the collection name                     <a href=\"file:///usr/local/google/home/codyfincher/Code/database-tools/oracle-database-assessment/src/server/dbma/transformer/engine.py\" target=\"_blank\"><span style=\"color: #7f7f7f; text-decoration-color: #7f7f7f\">engine.py</span></a><span style=\"color: #7f7f7f; text-decoration-color: #7f7f7f\">:</span><a href=\"file:///usr/local/google/home/codyfincher/Code/database-tools/oracle-database-assessment/src/server/dbma/transformer/engine.py#116\" target=\"_blank\"><span style=\"color: #7f7f7f; text-decoration-color: #7f7f7f\">116</span></a>\n",
       "</pre>\n"
      ],
      "text/plain": [
       "\u001b[2;36m[10/17/22 16:49:51]\u001b[0m\u001b[2;36m \u001b[0m\u001b[34mINFO    \u001b[0m ℹ️  detected version \u001b[32m\"2.0.6\"\u001b[0m from the collection name                     \u001b]8;id=337365;file:///usr/local/google/home/codyfincher/Code/database-tools/oracle-database-assessment/src/server/dbma/transformer/engine.py\u001b\\\u001b[2mengine.py\u001b[0m\u001b]8;;\u001b\\\u001b[2m:\u001b[0m\u001b]8;id=528234;file:///usr/local/google/home/codyfincher/Code/database-tools/oracle-database-assessment/src/server/dbma/transformer/engine.py#116\u001b\\\u001b[2m116\u001b[0m\u001b]8;;\u001b\\\n"
      ]
     },
     "metadata": {},
     "output_type": "display_data"
    },
    {
     "data": {
      "text/html": [
       "<pre style=\"white-space:pre;overflow-x:auto;line-height:normal;font-family:Menlo,'DejaVu Sans Mono',consolas,'Courier New',monospace\"><span style=\"color: #7fbfbf; text-decoration-color: #7fbfbf\">[10/17/22 16:49:51] </span><span style=\"color: #000080; text-decoration-color: #000080\">INFO    </span> 🔎 searching                                                             <a href=\"file:///usr/local/google/home/codyfincher/Code/database-tools/oracle-database-assessment/src/server/dbma/transformer/engine.py\" target=\"_blank\"><span style=\"color: #7f7f7f; text-decoration-color: #7f7f7f\">engine.py</span></a><span style=\"color: #7f7f7f; text-decoration-color: #7f7f7f\">:</span><a href=\"file:///usr/local/google/home/codyfincher/Code/database-tools/oracle-database-assessment/src/server/dbma/transformer/engine.py#161\" target=\"_blank\"><span style=\"color: #7f7f7f; text-decoration-color: #7f7f7f\">161</span></a>\n",
       "<span style=\"color: #7fbfbf; text-decoration-color: #7fbfbf\">                    </span>         opdb__122_2.<span style=\"color: #008080; text-decoration-color: #008080; font-weight: bold\">0.</span>6_tigersnake.medscheme.com.PROD.prod.<span style=\"color: #008080; text-decoration-color: #008080; font-weight: bold\">100622100129.</span>log.tgz  <span style=\"color: #7f7f7f; text-decoration-color: #7f7f7f\">             </span>\n",
       "<span style=\"color: #7fbfbf; text-decoration-color: #7fbfbf\">                    </span>         for files and extracting to <span style=\"color: #800080; text-decoration-color: #800080\">/tmp/</span><span style=\"color: #ff00ff; text-decoration-color: #ff00ff\">tmp08rthqcu</span>                             <span style=\"color: #7f7f7f; text-decoration-color: #7f7f7f\">             </span>\n",
       "</pre>\n"
      ],
      "text/plain": [
       "\u001b[2;36m[10/17/22 16:49:51]\u001b[0m\u001b[2;36m \u001b[0m\u001b[34mINFO    \u001b[0m 🔎 searching                                                             \u001b]8;id=575218;file:///usr/local/google/home/codyfincher/Code/database-tools/oracle-database-assessment/src/server/dbma/transformer/engine.py\u001b\\\u001b[2mengine.py\u001b[0m\u001b]8;;\u001b\\\u001b[2m:\u001b[0m\u001b]8;id=374866;file:///usr/local/google/home/codyfincher/Code/database-tools/oracle-database-assessment/src/server/dbma/transformer/engine.py#161\u001b\\\u001b[2m161\u001b[0m\u001b]8;;\u001b\\\n",
       "\u001b[2;36m                    \u001b[0m         opdb__122_2.\u001b[1;36m0.\u001b[0m6_tigersnake.medscheme.com.PROD.prod.\u001b[1;36m100622100129.\u001b[0mlog.tgz  \u001b[2m             \u001b[0m\n",
       "\u001b[2;36m                    \u001b[0m         for files and extracting to \u001b[35m/tmp/\u001b[0m\u001b[95mtmp08rthqcu\u001b[0m                             \u001b[2m             \u001b[0m\n"
      ]
     },
     "metadata": {},
     "output_type": "display_data"
    },
    {
     "data": {
      "text/html": [
       "<pre style=\"white-space:pre;overflow-x:auto;line-height:normal;font-family:Menlo,'DejaVu Sans Mono',consolas,'Courier New',monospace\"><span style=\"color: #7fbfbf; text-decoration-color: #7fbfbf\">[10/17/22 16:49:51] </span><span style=\"color: #000080; text-decoration-color: #000080\">INFO    </span> renamed <span style=\"color: #008080; text-decoration-color: #008080; font-weight: bold\">32</span> files in collection <span style=\"color: #008080; text-decoration-color: #008080; font-weight: bold\">100622100129</span>                              <a href=\"file:///usr/local/google/home/codyfincher/Code/database-tools/oracle-database-assessment/src/server/dbma/transformer/engine.py\" target=\"_blank\"><span style=\"color: #7f7f7f; text-decoration-color: #7f7f7f\">engine.py</span></a><span style=\"color: #7f7f7f; text-decoration-color: #7f7f7f\">:</span><a href=\"file:///usr/local/google/home/codyfincher/Code/database-tools/oracle-database-assessment/src/server/dbma/transformer/engine.py#171\" target=\"_blank\"><span style=\"color: #7f7f7f; text-decoration-color: #7f7f7f\">171</span></a>\n",
       "</pre>\n"
      ],
      "text/plain": [
       "\u001b[2;36m[10/17/22 16:49:51]\u001b[0m\u001b[2;36m \u001b[0m\u001b[34mINFO    \u001b[0m renamed \u001b[1;36m32\u001b[0m files in collection \u001b[1;36m100622100129\u001b[0m                              \u001b]8;id=336557;file:///usr/local/google/home/codyfincher/Code/database-tools/oracle-database-assessment/src/server/dbma/transformer/engine.py\u001b\\\u001b[2mengine.py\u001b[0m\u001b]8;;\u001b\\\u001b[2m:\u001b[0m\u001b]8;id=469716;file:///usr/local/google/home/codyfincher/Code/database-tools/oracle-database-assessment/src/server/dbma/transformer/engine.py#171\u001b\\\u001b[2m171\u001b[0m\u001b]8;;\u001b\\\n"
      ]
     },
     "metadata": {},
     "output_type": "display_data"
    },
    {
     "data": {
      "text/html": [
       "<pre style=\"white-space:pre;overflow-x:auto;line-height:normal;font-family:Menlo,'DejaVu Sans Mono',consolas,'Courier New',monospace\"><span style=\"color: #7fbfbf; text-decoration-color: #7fbfbf\">[10/17/22 16:49:51] </span><span style=\"color: #000080; text-decoration-color: #000080\">INFO    </span> completed preprocessing for collection <span style=\"color: #008080; text-decoration-color: #008080; font-weight: bold\">100622100129</span>                      <a href=\"file:///usr/local/google/home/codyfincher/Code/database-tools/oracle-database-assessment/src/server/dbma/transformer/engine.py\" target=\"_blank\"><span style=\"color: #7f7f7f; text-decoration-color: #7f7f7f\">engine.py</span></a><span style=\"color: #7f7f7f; text-decoration-color: #7f7f7f\">:</span><a href=\"file:///usr/local/google/home/codyfincher/Code/database-tools/oracle-database-assessment/src/server/dbma/transformer/engine.py#182\" target=\"_blank\"><span style=\"color: #7f7f7f; text-decoration-color: #7f7f7f\">182</span></a>\n",
       "</pre>\n"
      ],
      "text/plain": [
       "\u001b[2;36m[10/17/22 16:49:51]\u001b[0m\u001b[2;36m \u001b[0m\u001b[34mINFO    \u001b[0m completed preprocessing for collection \u001b[1;36m100622100129\u001b[0m                      \u001b]8;id=149892;file:///usr/local/google/home/codyfincher/Code/database-tools/oracle-database-assessment/src/server/dbma/transformer/engine.py\u001b\\\u001b[2mengine.py\u001b[0m\u001b]8;;\u001b\\\u001b[2m:\u001b[0m\u001b]8;id=254504;file:///usr/local/google/home/codyfincher/Code/database-tools/oracle-database-assessment/src/server/dbma/transformer/engine.py#182\u001b\\\u001b[2m182\u001b[0m\u001b]8;;\u001b\\\n"
      ]
     },
     "metadata": {},
     "output_type": "display_data"
    },
    {
     "data": {
      "text/html": [
       "<pre style=\"white-space:pre;overflow-x:auto;line-height:normal;font-family:Menlo,'DejaVu Sans Mono',consolas,'Courier New',monospace\"><span style=\"color: #7fbfbf; text-decoration-color: #7fbfbf\">[10/17/22 16:49:51] </span><span style=\"color: #000080; text-decoration-color: #000080\">INFO    </span> ℹ️  detected version <span style=\"color: #008000; text-decoration-color: #008000\">\"2.0.6\"</span> from the collection name                     <a href=\"file:///usr/local/google/home/codyfincher/Code/database-tools/oracle-database-assessment/src/server/dbma/transformer/engine.py\" target=\"_blank\"><span style=\"color: #7f7f7f; text-decoration-color: #7f7f7f\">engine.py</span></a><span style=\"color: #7f7f7f; text-decoration-color: #7f7f7f\">:</span><a href=\"file:///usr/local/google/home/codyfincher/Code/database-tools/oracle-database-assessment/src/server/dbma/transformer/engine.py#116\" target=\"_blank\"><span style=\"color: #7f7f7f; text-decoration-color: #7f7f7f\">116</span></a>\n",
       "</pre>\n"
      ],
      "text/plain": [
       "\u001b[2;36m[10/17/22 16:49:51]\u001b[0m\u001b[2;36m \u001b[0m\u001b[34mINFO    \u001b[0m ℹ️  detected version \u001b[32m\"2.0.6\"\u001b[0m from the collection name                     \u001b]8;id=739055;file:///usr/local/google/home/codyfincher/Code/database-tools/oracle-database-assessment/src/server/dbma/transformer/engine.py\u001b\\\u001b[2mengine.py\u001b[0m\u001b]8;;\u001b\\\u001b[2m:\u001b[0m\u001b]8;id=869729;file:///usr/local/google/home/codyfincher/Code/database-tools/oracle-database-assessment/src/server/dbma/transformer/engine.py#116\u001b\\\u001b[2m116\u001b[0m\u001b]8;;\u001b\\\n"
      ]
     },
     "metadata": {},
     "output_type": "display_data"
    },
    {
     "data": {
      "text/html": [
       "<pre style=\"white-space:pre;overflow-x:auto;line-height:normal;font-family:Menlo,'DejaVu Sans Mono',consolas,'Courier New',monospace\"><span style=\"color: #7fbfbf; text-decoration-color: #7fbfbf\">[10/17/22 16:49:51] </span><span style=\"color: #000080; text-decoration-color: #000080\">INFO    </span> 🔎 searching                                                             <a href=\"file:///usr/local/google/home/codyfincher/Code/database-tools/oracle-database-assessment/src/server/dbma/transformer/engine.py\" target=\"_blank\"><span style=\"color: #7f7f7f; text-decoration-color: #7f7f7f\">engine.py</span></a><span style=\"color: #7f7f7f; text-decoration-color: #7f7f7f\">:</span><a href=\"file:///usr/local/google/home/codyfincher/Code/database-tools/oracle-database-assessment/src/server/dbma/transformer/engine.py#161\" target=\"_blank\"><span style=\"color: #7f7f7f; text-decoration-color: #7f7f7f\">161</span></a>\n",
       "<span style=\"color: #7fbfbf; text-decoration-color: #7fbfbf\">                    </span>         opdb__190_2.<span style=\"color: #008080; text-decoration-color: #008080; font-weight: bold\">0.</span>6_tigersnake.medscheme.com.ORIONP.orionp.<span style=\"color: #008080; text-decoration-color: #008080; font-weight: bold\">100622084051.</span>log. <span style=\"color: #7f7f7f; text-decoration-color: #7f7f7f\">             </span>\n",
       "<span style=\"color: #7fbfbf; text-decoration-color: #7fbfbf\">                    </span>         tgz for files and extracting to <span style=\"color: #800080; text-decoration-color: #800080\">/tmp/</span><span style=\"color: #ff00ff; text-decoration-color: #ff00ff\">tmp08rthqcu</span>                         <span style=\"color: #7f7f7f; text-decoration-color: #7f7f7f\">             </span>\n",
       "</pre>\n"
      ],
      "text/plain": [
       "\u001b[2;36m[10/17/22 16:49:51]\u001b[0m\u001b[2;36m \u001b[0m\u001b[34mINFO    \u001b[0m 🔎 searching                                                             \u001b]8;id=440943;file:///usr/local/google/home/codyfincher/Code/database-tools/oracle-database-assessment/src/server/dbma/transformer/engine.py\u001b\\\u001b[2mengine.py\u001b[0m\u001b]8;;\u001b\\\u001b[2m:\u001b[0m\u001b]8;id=830470;file:///usr/local/google/home/codyfincher/Code/database-tools/oracle-database-assessment/src/server/dbma/transformer/engine.py#161\u001b\\\u001b[2m161\u001b[0m\u001b]8;;\u001b\\\n",
       "\u001b[2;36m                    \u001b[0m         opdb__190_2.\u001b[1;36m0.\u001b[0m6_tigersnake.medscheme.com.ORIONP.orionp.\u001b[1;36m100622084051.\u001b[0mlog. \u001b[2m             \u001b[0m\n",
       "\u001b[2;36m                    \u001b[0m         tgz for files and extracting to \u001b[35m/tmp/\u001b[0m\u001b[95mtmp08rthqcu\u001b[0m                         \u001b[2m             \u001b[0m\n"
      ]
     },
     "metadata": {},
     "output_type": "display_data"
    },
    {
     "data": {
      "text/html": [
       "<pre style=\"white-space:pre;overflow-x:auto;line-height:normal;font-family:Menlo,'DejaVu Sans Mono',consolas,'Courier New',monospace\"><span style=\"color: #7fbfbf; text-decoration-color: #7fbfbf\">[10/17/22 16:49:51] </span><span style=\"color: #000080; text-decoration-color: #000080\">INFO    </span> renamed <span style=\"color: #008080; text-decoration-color: #008080; font-weight: bold\">32</span> files in collection <span style=\"color: #008080; text-decoration-color: #008080; font-weight: bold\">100622084051</span>                              <a href=\"file:///usr/local/google/home/codyfincher/Code/database-tools/oracle-database-assessment/src/server/dbma/transformer/engine.py\" target=\"_blank\"><span style=\"color: #7f7f7f; text-decoration-color: #7f7f7f\">engine.py</span></a><span style=\"color: #7f7f7f; text-decoration-color: #7f7f7f\">:</span><a href=\"file:///usr/local/google/home/codyfincher/Code/database-tools/oracle-database-assessment/src/server/dbma/transformer/engine.py#171\" target=\"_blank\"><span style=\"color: #7f7f7f; text-decoration-color: #7f7f7f\">171</span></a>\n",
       "</pre>\n"
      ],
      "text/plain": [
       "\u001b[2;36m[10/17/22 16:49:51]\u001b[0m\u001b[2;36m \u001b[0m\u001b[34mINFO    \u001b[0m renamed \u001b[1;36m32\u001b[0m files in collection \u001b[1;36m100622084051\u001b[0m                              \u001b]8;id=510682;file:///usr/local/google/home/codyfincher/Code/database-tools/oracle-database-assessment/src/server/dbma/transformer/engine.py\u001b\\\u001b[2mengine.py\u001b[0m\u001b]8;;\u001b\\\u001b[2m:\u001b[0m\u001b]8;id=822952;file:///usr/local/google/home/codyfincher/Code/database-tools/oracle-database-assessment/src/server/dbma/transformer/engine.py#171\u001b\\\u001b[2m171\u001b[0m\u001b]8;;\u001b\\\n"
      ]
     },
     "metadata": {},
     "output_type": "display_data"
    },
    {
     "data": {
      "text/html": [
       "<pre style=\"white-space:pre;overflow-x:auto;line-height:normal;font-family:Menlo,'DejaVu Sans Mono',consolas,'Courier New',monospace\"><span style=\"color: #7fbfbf; text-decoration-color: #7fbfbf\">[10/17/22 16:49:51] </span><span style=\"color: #000080; text-decoration-color: #000080\">INFO    </span> completed preprocessing for collection <span style=\"color: #008080; text-decoration-color: #008080; font-weight: bold\">100622084051</span>                      <a href=\"file:///usr/local/google/home/codyfincher/Code/database-tools/oracle-database-assessment/src/server/dbma/transformer/engine.py\" target=\"_blank\"><span style=\"color: #7f7f7f; text-decoration-color: #7f7f7f\">engine.py</span></a><span style=\"color: #7f7f7f; text-decoration-color: #7f7f7f\">:</span><a href=\"file:///usr/local/google/home/codyfincher/Code/database-tools/oracle-database-assessment/src/server/dbma/transformer/engine.py#182\" target=\"_blank\"><span style=\"color: #7f7f7f; text-decoration-color: #7f7f7f\">182</span></a>\n",
       "</pre>\n"
      ],
      "text/plain": [
       "\u001b[2;36m[10/17/22 16:49:51]\u001b[0m\u001b[2;36m \u001b[0m\u001b[34mINFO    \u001b[0m completed preprocessing for collection \u001b[1;36m100622084051\u001b[0m                      \u001b]8;id=836935;file:///usr/local/google/home/codyfincher/Code/database-tools/oracle-database-assessment/src/server/dbma/transformer/engine.py\u001b\\\u001b[2mengine.py\u001b[0m\u001b]8;;\u001b\\\u001b[2m:\u001b[0m\u001b]8;id=99706;file:///usr/local/google/home/codyfincher/Code/database-tools/oracle-database-assessment/src/server/dbma/transformer/engine.py#182\u001b\\\u001b[2m182\u001b[0m\u001b]8;;\u001b\\\n"
      ]
     },
     "metadata": {},
     "output_type": "display_data"
    },
    {
     "data": {
      "text/html": [
       "<pre style=\"white-space:pre;overflow-x:auto;line-height:normal;font-family:Menlo,'DejaVu Sans Mono',consolas,'Courier New',monospace\"><span style=\"color: #7fbfbf; text-decoration-color: #7fbfbf\">[10/17/22 16:50:01] </span><span style=\"color: #000080; text-decoration-color: #000080\">INFO    </span> converted all files to parquet for collection <span style=\"color: #008080; text-decoration-color: #008080; font-weight: bold\">91522192456</span>                 <a href=\"file:///usr/local/google/home/codyfincher/Code/database-tools/oracle-database-assessment/src/server/dbma/transformer/engine.py\" target=\"_blank\"><span style=\"color: #7f7f7f; text-decoration-color: #7f7f7f\">engine.py</span></a><span style=\"color: #7f7f7f; text-decoration-color: #7f7f7f\">:</span><a href=\"file:///usr/local/google/home/codyfincher/Code/database-tools/oracle-database-assessment/src/server/dbma/transformer/engine.py#81\" target=\"_blank\"><span style=\"color: #7f7f7f; text-decoration-color: #7f7f7f\">81</span></a>\n",
       "</pre>\n"
      ],
      "text/plain": [
       "\u001b[2;36m[10/17/22 16:50:01]\u001b[0m\u001b[2;36m \u001b[0m\u001b[34mINFO    \u001b[0m converted all files to parquet for collection \u001b[1;36m91522192456\u001b[0m                 \u001b]8;id=219312;file:///usr/local/google/home/codyfincher/Code/database-tools/oracle-database-assessment/src/server/dbma/transformer/engine.py\u001b\\\u001b[2mengine.py\u001b[0m\u001b]8;;\u001b\\\u001b[2m:\u001b[0m\u001b]8;id=196260;file:///usr/local/google/home/codyfincher/Code/database-tools/oracle-database-assessment/src/server/dbma/transformer/engine.py#81\u001b\\\u001b[2m81\u001b[0m\u001b]8;;\u001b\\\n"
      ]
     },
     "metadata": {},
     "output_type": "display_data"
    },
    {
     "data": {
      "text/html": [
       "<pre style=\"white-space:pre;overflow-x:auto;line-height:normal;font-family:Menlo,'DejaVu Sans Mono',consolas,'Courier New',monospace\"><span style=\"color: #7fbfbf; text-decoration-color: #7fbfbf\">[10/17/22 16:50:13] </span><span style=\"color: #000080; text-decoration-color: #000080\">INFO    </span> converted all files to parquet for collection <span style=\"color: #008080; text-decoration-color: #008080; font-weight: bold\">100622084702</span>                <a href=\"file:///usr/local/google/home/codyfincher/Code/database-tools/oracle-database-assessment/src/server/dbma/transformer/engine.py\" target=\"_blank\"><span style=\"color: #7f7f7f; text-decoration-color: #7f7f7f\">engine.py</span></a><span style=\"color: #7f7f7f; text-decoration-color: #7f7f7f\">:</span><a href=\"file:///usr/local/google/home/codyfincher/Code/database-tools/oracle-database-assessment/src/server/dbma/transformer/engine.py#81\" target=\"_blank\"><span style=\"color: #7f7f7f; text-decoration-color: #7f7f7f\">81</span></a>\n",
       "</pre>\n"
      ],
      "text/plain": [
       "\u001b[2;36m[10/17/22 16:50:13]\u001b[0m\u001b[2;36m \u001b[0m\u001b[34mINFO    \u001b[0m converted all files to parquet for collection \u001b[1;36m100622084702\u001b[0m                \u001b]8;id=354557;file:///usr/local/google/home/codyfincher/Code/database-tools/oracle-database-assessment/src/server/dbma/transformer/engine.py\u001b\\\u001b[2mengine.py\u001b[0m\u001b]8;;\u001b\\\u001b[2m:\u001b[0m\u001b]8;id=898752;file:///usr/local/google/home/codyfincher/Code/database-tools/oracle-database-assessment/src/server/dbma/transformer/engine.py#81\u001b\\\u001b[2m81\u001b[0m\u001b]8;;\u001b\\\n"
      ]
     },
     "metadata": {},
     "output_type": "display_data"
    },
    {
     "data": {
      "text/html": [
       "<pre style=\"white-space:pre;overflow-x:auto;line-height:normal;font-family:Menlo,'DejaVu Sans Mono',consolas,'Courier New',monospace\"><span style=\"color: #7fbfbf; text-decoration-color: #7fbfbf\">[10/17/22 16:50:23] </span><span style=\"color: #000080; text-decoration-color: #000080\">INFO    </span> converted all files to parquet for collection <span style=\"color: #008080; text-decoration-color: #008080; font-weight: bold\">100622084900</span>                <a href=\"file:///usr/local/google/home/codyfincher/Code/database-tools/oracle-database-assessment/src/server/dbma/transformer/engine.py\" target=\"_blank\"><span style=\"color: #7f7f7f; text-decoration-color: #7f7f7f\">engine.py</span></a><span style=\"color: #7f7f7f; text-decoration-color: #7f7f7f\">:</span><a href=\"file:///usr/local/google/home/codyfincher/Code/database-tools/oracle-database-assessment/src/server/dbma/transformer/engine.py#81\" target=\"_blank\"><span style=\"color: #7f7f7f; text-decoration-color: #7f7f7f\">81</span></a>\n",
       "</pre>\n"
      ],
      "text/plain": [
       "\u001b[2;36m[10/17/22 16:50:23]\u001b[0m\u001b[2;36m \u001b[0m\u001b[34mINFO    \u001b[0m converted all files to parquet for collection \u001b[1;36m100622084900\u001b[0m                \u001b]8;id=691031;file:///usr/local/google/home/codyfincher/Code/database-tools/oracle-database-assessment/src/server/dbma/transformer/engine.py\u001b\\\u001b[2mengine.py\u001b[0m\u001b]8;;\u001b\\\u001b[2m:\u001b[0m\u001b]8;id=864425;file:///usr/local/google/home/codyfincher/Code/database-tools/oracle-database-assessment/src/server/dbma/transformer/engine.py#81\u001b\\\u001b[2m81\u001b[0m\u001b]8;;\u001b\\\n"
      ]
     },
     "metadata": {},
     "output_type": "display_data"
    },
    {
     "data": {
      "text/html": [
       "<pre style=\"white-space:pre;overflow-x:auto;line-height:normal;font-family:Menlo,'DejaVu Sans Mono',consolas,'Courier New',monospace\"><span style=\"color: #7fbfbf; text-decoration-color: #7fbfbf\">[10/17/22 16:50:33] </span><span style=\"color: #000080; text-decoration-color: #000080\">INFO    </span> converted all files to parquet for collection <span style=\"color: #008080; text-decoration-color: #008080; font-weight: bold\">92322133449</span>                 <a href=\"file:///usr/local/google/home/codyfincher/Code/database-tools/oracle-database-assessment/src/server/dbma/transformer/engine.py\" target=\"_blank\"><span style=\"color: #7f7f7f; text-decoration-color: #7f7f7f\">engine.py</span></a><span style=\"color: #7f7f7f; text-decoration-color: #7f7f7f\">:</span><a href=\"file:///usr/local/google/home/codyfincher/Code/database-tools/oracle-database-assessment/src/server/dbma/transformer/engine.py#81\" target=\"_blank\"><span style=\"color: #7f7f7f; text-decoration-color: #7f7f7f\">81</span></a>\n",
       "</pre>\n"
      ],
      "text/plain": [
       "\u001b[2;36m[10/17/22 16:50:33]\u001b[0m\u001b[2;36m \u001b[0m\u001b[34mINFO    \u001b[0m converted all files to parquet for collection \u001b[1;36m92322133449\u001b[0m                 \u001b]8;id=706642;file:///usr/local/google/home/codyfincher/Code/database-tools/oracle-database-assessment/src/server/dbma/transformer/engine.py\u001b\\\u001b[2mengine.py\u001b[0m\u001b]8;;\u001b\\\u001b[2m:\u001b[0m\u001b]8;id=325304;file:///usr/local/google/home/codyfincher/Code/database-tools/oracle-database-assessment/src/server/dbma/transformer/engine.py#81\u001b\\\u001b[2m81\u001b[0m\u001b]8;;\u001b\\\n"
      ]
     },
     "metadata": {},
     "output_type": "display_data"
    },
    {
     "data": {
      "text/html": [
       "<pre style=\"white-space:pre;overflow-x:auto;line-height:normal;font-family:Menlo,'DejaVu Sans Mono',consolas,'Courier New',monospace\"><span style=\"color: #7fbfbf; text-decoration-color: #7fbfbf\">[10/17/22 16:50:43] </span><span style=\"color: #000080; text-decoration-color: #000080\">INFO    </span> converted all files to parquet for collection <span style=\"color: #008080; text-decoration-color: #008080; font-weight: bold\">92322134707</span>                 <a href=\"file:///usr/local/google/home/codyfincher/Code/database-tools/oracle-database-assessment/src/server/dbma/transformer/engine.py\" target=\"_blank\"><span style=\"color: #7f7f7f; text-decoration-color: #7f7f7f\">engine.py</span></a><span style=\"color: #7f7f7f; text-decoration-color: #7f7f7f\">:</span><a href=\"file:///usr/local/google/home/codyfincher/Code/database-tools/oracle-database-assessment/src/server/dbma/transformer/engine.py#81\" target=\"_blank\"><span style=\"color: #7f7f7f; text-decoration-color: #7f7f7f\">81</span></a>\n",
       "</pre>\n"
      ],
      "text/plain": [
       "\u001b[2;36m[10/17/22 16:50:43]\u001b[0m\u001b[2;36m \u001b[0m\u001b[34mINFO    \u001b[0m converted all files to parquet for collection \u001b[1;36m92322134707\u001b[0m                 \u001b]8;id=231295;file:///usr/local/google/home/codyfincher/Code/database-tools/oracle-database-assessment/src/server/dbma/transformer/engine.py\u001b\\\u001b[2mengine.py\u001b[0m\u001b]8;;\u001b\\\u001b[2m:\u001b[0m\u001b]8;id=310031;file:///usr/local/google/home/codyfincher/Code/database-tools/oracle-database-assessment/src/server/dbma/transformer/engine.py#81\u001b\\\u001b[2m81\u001b[0m\u001b]8;;\u001b\\\n"
      ]
     },
     "metadata": {},
     "output_type": "display_data"
    },
    {
     "data": {
      "text/html": [
       "<pre style=\"white-space:pre;overflow-x:auto;line-height:normal;font-family:Menlo,'DejaVu Sans Mono',consolas,'Courier New',monospace\"><span style=\"color: #7fbfbf; text-decoration-color: #7fbfbf\">[10/17/22 16:50:53] </span><span style=\"color: #000080; text-decoration-color: #000080\">INFO    </span> converted all files to parquet for collection <span style=\"color: #008080; text-decoration-color: #008080; font-weight: bold\">100622100129</span>                <a href=\"file:///usr/local/google/home/codyfincher/Code/database-tools/oracle-database-assessment/src/server/dbma/transformer/engine.py\" target=\"_blank\"><span style=\"color: #7f7f7f; text-decoration-color: #7f7f7f\">engine.py</span></a><span style=\"color: #7f7f7f; text-decoration-color: #7f7f7f\">:</span><a href=\"file:///usr/local/google/home/codyfincher/Code/database-tools/oracle-database-assessment/src/server/dbma/transformer/engine.py#81\" target=\"_blank\"><span style=\"color: #7f7f7f; text-decoration-color: #7f7f7f\">81</span></a>\n",
       "</pre>\n"
      ],
      "text/plain": [
       "\u001b[2;36m[10/17/22 16:50:53]\u001b[0m\u001b[2;36m \u001b[0m\u001b[34mINFO    \u001b[0m converted all files to parquet for collection \u001b[1;36m100622100129\u001b[0m                \u001b]8;id=676448;file:///usr/local/google/home/codyfincher/Code/database-tools/oracle-database-assessment/src/server/dbma/transformer/engine.py\u001b\\\u001b[2mengine.py\u001b[0m\u001b]8;;\u001b\\\u001b[2m:\u001b[0m\u001b]8;id=719101;file:///usr/local/google/home/codyfincher/Code/database-tools/oracle-database-assessment/src/server/dbma/transformer/engine.py#81\u001b\\\u001b[2m81\u001b[0m\u001b]8;;\u001b\\\n"
      ]
     },
     "metadata": {},
     "output_type": "display_data"
    },
    {
     "data": {
      "text/html": [
       "<pre style=\"white-space:pre;overflow-x:auto;line-height:normal;font-family:Menlo,'DejaVu Sans Mono',consolas,'Courier New',monospace\"><span style=\"color: #7fbfbf; text-decoration-color: #7fbfbf\">[10/17/22 16:51:04] </span><span style=\"color: #000080; text-decoration-color: #000080\">INFO    </span> converted all files to parquet for collection <span style=\"color: #008080; text-decoration-color: #008080; font-weight: bold\">100622084051</span>                <a href=\"file:///usr/local/google/home/codyfincher/Code/database-tools/oracle-database-assessment/src/server/dbma/transformer/engine.py\" target=\"_blank\"><span style=\"color: #7f7f7f; text-decoration-color: #7f7f7f\">engine.py</span></a><span style=\"color: #7f7f7f; text-decoration-color: #7f7f7f\">:</span><a href=\"file:///usr/local/google/home/codyfincher/Code/database-tools/oracle-database-assessment/src/server/dbma/transformer/engine.py#81\" target=\"_blank\"><span style=\"color: #7f7f7f; text-decoration-color: #7f7f7f\">81</span></a>\n",
       "</pre>\n"
      ],
      "text/plain": [
       "\u001b[2;36m[10/17/22 16:51:04]\u001b[0m\u001b[2;36m \u001b[0m\u001b[34mINFO    \u001b[0m converted all files to parquet for collection \u001b[1;36m100622084051\u001b[0m                \u001b]8;id=66124;file:///usr/local/google/home/codyfincher/Code/database-tools/oracle-database-assessment/src/server/dbma/transformer/engine.py\u001b\\\u001b[2mengine.py\u001b[0m\u001b]8;;\u001b\\\u001b[2m:\u001b[0m\u001b]8;id=413751;file:///usr/local/google/home/codyfincher/Code/database-tools/oracle-database-assessment/src/server/dbma/transformer/engine.py#81\u001b\\\u001b[2m81\u001b[0m\u001b]8;;\u001b\\\n"
      ]
     },
     "metadata": {},
     "output_type": "display_data"
    },
    {
     "data": {
      "text/html": [
       "<pre style=\"white-space:pre;overflow-x:auto;line-height:normal;font-family:Menlo,'DejaVu Sans Mono',consolas,'Courier New',monospace\"><span style=\"color: #7fbfbf; text-decoration-color: #7fbfbf\">[10/17/22 16:51:04] </span><span style=\"color: #000080; text-decoration-color: #000080\">INFO    </span> delimiter is |                                                         <a href=\"file:///usr/local/google/home/codyfincher/Code/database-tools/oracle-database-assessment/src/server/dbma/database.py\" target=\"_blank\"><span style=\"color: #7f7f7f; text-decoration-color: #7f7f7f\">database.py</span></a><span style=\"color: #7f7f7f; text-decoration-color: #7f7f7f\">:</span><a href=\"file:///usr/local/google/home/codyfincher/Code/database-tools/oracle-database-assessment/src/server/dbma/database.py#153\" target=\"_blank\"><span style=\"color: #7f7f7f; text-decoration-color: #7f7f7f\">153</span></a>\n",
       "</pre>\n"
      ],
      "text/plain": [
       "\u001b[2;36m[10/17/22 16:51:04]\u001b[0m\u001b[2;36m \u001b[0m\u001b[34mINFO    \u001b[0m delimiter is |                                                         \u001b]8;id=805681;file:///usr/local/google/home/codyfincher/Code/database-tools/oracle-database-assessment/src/server/dbma/database.py\u001b\\\u001b[2mdatabase.py\u001b[0m\u001b]8;;\u001b\\\u001b[2m:\u001b[0m\u001b]8;id=574429;file:///usr/local/google/home/codyfincher/Code/database-tools/oracle-database-assessment/src/server/dbma/database.py#153\u001b\\\u001b[2m153\u001b[0m\u001b]8;;\u001b\\\n"
      ]
     },
     "metadata": {},
     "output_type": "display_data"
    },
    {
     "data": {
      "text/html": [
       "<pre style=\"white-space:pre;overflow-x:auto;line-height:normal;font-family:Menlo,'DejaVu Sans Mono',consolas,'Courier New',monospace\"><span style=\"color: #7fbfbf; text-decoration-color: #7fbfbf\">[10/17/22 16:51:04] </span><span style=\"color: #000080; text-decoration-color: #000080\">INFO    </span> <span style=\"color: #808000; text-decoration-color: #808000\">...</span> awr_hist_cmd_types  <span style=\"color: #008000; text-decoration-color: #008000; font-weight: bold\">SUCCESS</span> <span style=\"font-weight: bold\">[</span><span style=\"color: #008080; text-decoration-color: #008080; font-weight: bold\">192</span> <span style=\"color: #800080; text-decoration-color: #800080; font-weight: bold\">rows</span><span style=\"font-weight: bold\">(</span>s<span style=\"font-weight: bold\">)]</span>                          <a href=\"file:///usr/local/google/home/codyfincher/Code/database-tools/oracle-database-assessment/src/server/dbma/database.py\" target=\"_blank\"><span style=\"color: #7f7f7f; text-decoration-color: #7f7f7f\">database.py</span></a><span style=\"color: #7f7f7f; text-decoration-color: #7f7f7f\">:</span><a href=\"file:///usr/local/google/home/codyfincher/Code/database-tools/oracle-database-assessment/src/server/dbma/database.py#160\" target=\"_blank\"><span style=\"color: #7f7f7f; text-decoration-color: #7f7f7f\">160</span></a>\n",
       "</pre>\n"
      ],
      "text/plain": [
       "\u001b[2;36m[10/17/22 16:51:04]\u001b[0m\u001b[2;36m \u001b[0m\u001b[34mINFO    \u001b[0m \u001b[33m...\u001b[0m awr_hist_cmd_types  \u001b[1;32mSUCCESS\u001b[0m \u001b[1m[\u001b[0m\u001b[1;36m192\u001b[0m \u001b[1;35mrows\u001b[0m\u001b[1m(\u001b[0ms\u001b[1m)\u001b[0m\u001b[1m]\u001b[0m                          \u001b]8;id=687892;file:///usr/local/google/home/codyfincher/Code/database-tools/oracle-database-assessment/src/server/dbma/database.py\u001b\\\u001b[2mdatabase.py\u001b[0m\u001b]8;;\u001b\\\u001b[2m:\u001b[0m\u001b]8;id=104285;file:///usr/local/google/home/codyfincher/Code/database-tools/oracle-database-assessment/src/server/dbma/database.py#160\u001b\\\u001b[2m160\u001b[0m\u001b]8;;\u001b\\\n"
      ]
     },
     "metadata": {},
     "output_type": "display_data"
    },
    {
     "data": {
      "text/html": [
       "<pre style=\"white-space:pre;overflow-x:auto;line-height:normal;font-family:Menlo,'DejaVu Sans Mono',consolas,'Courier New',monospace\"><span style=\"color: #7fbfbf; text-decoration-color: #7fbfbf\">[10/17/22 16:51:04] </span><span style=\"color: #000080; text-decoration-color: #000080\">INFO    </span> delimiter is |                                                         <a href=\"file:///usr/local/google/home/codyfincher/Code/database-tools/oracle-database-assessment/src/server/dbma/database.py\" target=\"_blank\"><span style=\"color: #7f7f7f; text-decoration-color: #7f7f7f\">database.py</span></a><span style=\"color: #7f7f7f; text-decoration-color: #7f7f7f\">:</span><a href=\"file:///usr/local/google/home/codyfincher/Code/database-tools/oracle-database-assessment/src/server/dbma/database.py#153\" target=\"_blank\"><span style=\"color: #7f7f7f; text-decoration-color: #7f7f7f\">153</span></a>\n",
       "</pre>\n"
      ],
      "text/plain": [
       "\u001b[2;36m[10/17/22 16:51:04]\u001b[0m\u001b[2;36m \u001b[0m\u001b[34mINFO    \u001b[0m delimiter is |                                                         \u001b]8;id=888379;file:///usr/local/google/home/codyfincher/Code/database-tools/oracle-database-assessment/src/server/dbma/database.py\u001b\\\u001b[2mdatabase.py\u001b[0m\u001b]8;;\u001b\\\u001b[2m:\u001b[0m\u001b]8;id=622462;file:///usr/local/google/home/codyfincher/Code/database-tools/oracle-database-assessment/src/server/dbma/database.py#153\u001b\\\u001b[2m153\u001b[0m\u001b]8;;\u001b\\\n"
      ]
     },
     "metadata": {},
     "output_type": "display_data"
    },
    {
     "data": {
      "text/html": [
       "<pre style=\"white-space:pre;overflow-x:auto;line-height:normal;font-family:Menlo,'DejaVu Sans Mono',consolas,'Courier New',monospace\"><span style=\"color: #7fbfbf; text-decoration-color: #7fbfbf\">[10/17/22 16:51:04] </span><span style=\"color: #000080; text-decoration-color: #000080\">INFO    </span> <span style=\"color: #808000; text-decoration-color: #808000\">...</span> awr_hist_os_stat  <span style=\"color: #008000; text-decoration-color: #008000; font-weight: bold\">SUCCESS</span> <span style=\"font-weight: bold\">[</span><span style=\"color: #008080; text-decoration-color: #008080; font-weight: bold\">600</span> <span style=\"color: #800080; text-decoration-color: #800080; font-weight: bold\">rows</span><span style=\"font-weight: bold\">(</span>s<span style=\"font-weight: bold\">)]</span>                            <a href=\"file:///usr/local/google/home/codyfincher/Code/database-tools/oracle-database-assessment/src/server/dbma/database.py\" target=\"_blank\"><span style=\"color: #7f7f7f; text-decoration-color: #7f7f7f\">database.py</span></a><span style=\"color: #7f7f7f; text-decoration-color: #7f7f7f\">:</span><a href=\"file:///usr/local/google/home/codyfincher/Code/database-tools/oracle-database-assessment/src/server/dbma/database.py#160\" target=\"_blank\"><span style=\"color: #7f7f7f; text-decoration-color: #7f7f7f\">160</span></a>\n",
       "</pre>\n"
      ],
      "text/plain": [
       "\u001b[2;36m[10/17/22 16:51:04]\u001b[0m\u001b[2;36m \u001b[0m\u001b[34mINFO    \u001b[0m \u001b[33m...\u001b[0m awr_hist_os_stat  \u001b[1;32mSUCCESS\u001b[0m \u001b[1m[\u001b[0m\u001b[1;36m600\u001b[0m \u001b[1;35mrows\u001b[0m\u001b[1m(\u001b[0ms\u001b[1m)\u001b[0m\u001b[1m]\u001b[0m                            \u001b]8;id=543033;file:///usr/local/google/home/codyfincher/Code/database-tools/oracle-database-assessment/src/server/dbma/database.py\u001b\\\u001b[2mdatabase.py\u001b[0m\u001b]8;;\u001b\\\u001b[2m:\u001b[0m\u001b]8;id=917686;file:///usr/local/google/home/codyfincher/Code/database-tools/oracle-database-assessment/src/server/dbma/database.py#160\u001b\\\u001b[2m160\u001b[0m\u001b]8;;\u001b\\\n"
      ]
     },
     "metadata": {},
     "output_type": "display_data"
    },
    {
     "data": {
      "text/html": [
       "<pre style=\"white-space:pre;overflow-x:auto;line-height:normal;font-family:Menlo,'DejaVu Sans Mono',consolas,'Courier New',monospace\"><span style=\"color: #7fbfbf; text-decoration-color: #7fbfbf\">[10/17/22 16:51:04] </span><span style=\"color: #000080; text-decoration-color: #000080\">INFO    </span> delimiter is |                                                         <a href=\"file:///usr/local/google/home/codyfincher/Code/database-tools/oracle-database-assessment/src/server/dbma/database.py\" target=\"_blank\"><span style=\"color: #7f7f7f; text-decoration-color: #7f7f7f\">database.py</span></a><span style=\"color: #7f7f7f; text-decoration-color: #7f7f7f\">:</span><a href=\"file:///usr/local/google/home/codyfincher/Code/database-tools/oracle-database-assessment/src/server/dbma/database.py#153\" target=\"_blank\"><span style=\"color: #7f7f7f; text-decoration-color: #7f7f7f\">153</span></a>\n",
       "</pre>\n"
      ],
      "text/plain": [
       "\u001b[2;36m[10/17/22 16:51:04]\u001b[0m\u001b[2;36m \u001b[0m\u001b[34mINFO    \u001b[0m delimiter is |                                                         \u001b]8;id=216472;file:///usr/local/google/home/codyfincher/Code/database-tools/oracle-database-assessment/src/server/dbma/database.py\u001b\\\u001b[2mdatabase.py\u001b[0m\u001b]8;;\u001b\\\u001b[2m:\u001b[0m\u001b]8;id=687410;file:///usr/local/google/home/codyfincher/Code/database-tools/oracle-database-assessment/src/server/dbma/database.py#153\u001b\\\u001b[2m153\u001b[0m\u001b]8;;\u001b\\\n"
      ]
     },
     "metadata": {},
     "output_type": "display_data"
    },
    {
     "data": {
      "text/html": [
       "<pre style=\"white-space:pre;overflow-x:auto;line-height:normal;font-family:Menlo,'DejaVu Sans Mono',consolas,'Courier New',monospace\"><span style=\"color: #7fbfbf; text-decoration-color: #7fbfbf\">[10/17/22 16:51:04] </span><span style=\"color: #000080; text-decoration-color: #000080\">INFO    </span> <span style=\"color: #808000; text-decoration-color: #808000\">...</span> awr_hist_sys_metric_hist  <span style=\"color: #008000; text-decoration-color: #008000; font-weight: bold\">SUCCESS</span> <span style=\"font-weight: bold\">[</span><span style=\"color: #008080; text-decoration-color: #008080; font-weight: bold\">552</span> <span style=\"color: #800080; text-decoration-color: #800080; font-weight: bold\">rows</span><span style=\"font-weight: bold\">(</span>s<span style=\"font-weight: bold\">)]</span>                    <a href=\"file:///usr/local/google/home/codyfincher/Code/database-tools/oracle-database-assessment/src/server/dbma/database.py\" target=\"_blank\"><span style=\"color: #7f7f7f; text-decoration-color: #7f7f7f\">database.py</span></a><span style=\"color: #7f7f7f; text-decoration-color: #7f7f7f\">:</span><a href=\"file:///usr/local/google/home/codyfincher/Code/database-tools/oracle-database-assessment/src/server/dbma/database.py#160\" target=\"_blank\"><span style=\"color: #7f7f7f; text-decoration-color: #7f7f7f\">160</span></a>\n",
       "</pre>\n"
      ],
      "text/plain": [
       "\u001b[2;36m[10/17/22 16:51:04]\u001b[0m\u001b[2;36m \u001b[0m\u001b[34mINFO    \u001b[0m \u001b[33m...\u001b[0m awr_hist_sys_metric_hist  \u001b[1;32mSUCCESS\u001b[0m \u001b[1m[\u001b[0m\u001b[1;36m552\u001b[0m \u001b[1;35mrows\u001b[0m\u001b[1m(\u001b[0ms\u001b[1m)\u001b[0m\u001b[1m]\u001b[0m                    \u001b]8;id=204097;file:///usr/local/google/home/codyfincher/Code/database-tools/oracle-database-assessment/src/server/dbma/database.py\u001b\\\u001b[2mdatabase.py\u001b[0m\u001b]8;;\u001b\\\u001b[2m:\u001b[0m\u001b]8;id=809187;file:///usr/local/google/home/codyfincher/Code/database-tools/oracle-database-assessment/src/server/dbma/database.py#160\u001b\\\u001b[2m160\u001b[0m\u001b]8;;\u001b\\\n"
      ]
     },
     "metadata": {},
     "output_type": "display_data"
    },
    {
     "data": {
      "text/html": [
       "<pre style=\"white-space:pre;overflow-x:auto;line-height:normal;font-family:Menlo,'DejaVu Sans Mono',consolas,'Courier New',monospace\"><span style=\"color: #7fbfbf; text-decoration-color: #7fbfbf\">[10/17/22 16:51:04] </span><span style=\"color: #000080; text-decoration-color: #000080\">INFO    </span> delimiter is |                                                         <a href=\"file:///usr/local/google/home/codyfincher/Code/database-tools/oracle-database-assessment/src/server/dbma/database.py\" target=\"_blank\"><span style=\"color: #7f7f7f; text-decoration-color: #7f7f7f\">database.py</span></a><span style=\"color: #7f7f7f; text-decoration-color: #7f7f7f\">:</span><a href=\"file:///usr/local/google/home/codyfincher/Code/database-tools/oracle-database-assessment/src/server/dbma/database.py#153\" target=\"_blank\"><span style=\"color: #7f7f7f; text-decoration-color: #7f7f7f\">153</span></a>\n",
       "</pre>\n"
      ],
      "text/plain": [
       "\u001b[2;36m[10/17/22 16:51:04]\u001b[0m\u001b[2;36m \u001b[0m\u001b[34mINFO    \u001b[0m delimiter is |                                                         \u001b]8;id=944486;file:///usr/local/google/home/codyfincher/Code/database-tools/oracle-database-assessment/src/server/dbma/database.py\u001b\\\u001b[2mdatabase.py\u001b[0m\u001b]8;;\u001b\\\u001b[2m:\u001b[0m\u001b]8;id=627743;file:///usr/local/google/home/codyfincher/Code/database-tools/oracle-database-assessment/src/server/dbma/database.py#153\u001b\\\u001b[2m153\u001b[0m\u001b]8;;\u001b\\\n"
      ]
     },
     "metadata": {},
     "output_type": "display_data"
    },
    {
     "data": {
      "text/html": [
       "<pre style=\"white-space:pre;overflow-x:auto;line-height:normal;font-family:Menlo,'DejaVu Sans Mono',consolas,'Courier New',monospace\"><span style=\"color: #7fbfbf; text-decoration-color: #7fbfbf\">[10/17/22 16:51:04] </span><span style=\"color: #000080; text-decoration-color: #000080\">INFO    </span> <span style=\"color: #808000; text-decoration-color: #808000\">...</span> awr_hist_sys_metric_summary  <span style=\"color: #008000; text-decoration-color: #008000; font-weight: bold\">SUCCESS</span> <span style=\"font-weight: bold\">[</span><span style=\"color: #008080; text-decoration-color: #008080; font-weight: bold\">3864</span> <span style=\"color: #800080; text-decoration-color: #800080; font-weight: bold\">rows</span><span style=\"font-weight: bold\">(</span>s<span style=\"font-weight: bold\">)]</span>                <a href=\"file:///usr/local/google/home/codyfincher/Code/database-tools/oracle-database-assessment/src/server/dbma/database.py\" target=\"_blank\"><span style=\"color: #7f7f7f; text-decoration-color: #7f7f7f\">database.py</span></a><span style=\"color: #7f7f7f; text-decoration-color: #7f7f7f\">:</span><a href=\"file:///usr/local/google/home/codyfincher/Code/database-tools/oracle-database-assessment/src/server/dbma/database.py#160\" target=\"_blank\"><span style=\"color: #7f7f7f; text-decoration-color: #7f7f7f\">160</span></a>\n",
       "</pre>\n"
      ],
      "text/plain": [
       "\u001b[2;36m[10/17/22 16:51:04]\u001b[0m\u001b[2;36m \u001b[0m\u001b[34mINFO    \u001b[0m \u001b[33m...\u001b[0m awr_hist_sys_metric_summary  \u001b[1;32mSUCCESS\u001b[0m \u001b[1m[\u001b[0m\u001b[1;36m3864\u001b[0m \u001b[1;35mrows\u001b[0m\u001b[1m(\u001b[0ms\u001b[1m)\u001b[0m\u001b[1m]\u001b[0m                \u001b]8;id=566663;file:///usr/local/google/home/codyfincher/Code/database-tools/oracle-database-assessment/src/server/dbma/database.py\u001b\\\u001b[2mdatabase.py\u001b[0m\u001b]8;;\u001b\\\u001b[2m:\u001b[0m\u001b]8;id=510248;file:///usr/local/google/home/codyfincher/Code/database-tools/oracle-database-assessment/src/server/dbma/database.py#160\u001b\\\u001b[2m160\u001b[0m\u001b]8;;\u001b\\\n"
      ]
     },
     "metadata": {},
     "output_type": "display_data"
    },
    {
     "data": {
      "text/html": [
       "<pre style=\"white-space:pre;overflow-x:auto;line-height:normal;font-family:Menlo,'DejaVu Sans Mono',consolas,'Courier New',monospace\"><span style=\"color: #7fbfbf; text-decoration-color: #7fbfbf\">[10/17/22 16:51:04] </span><span style=\"color: #000080; text-decoration-color: #000080\">INFO    </span> delimiter is |                                                         <a href=\"file:///usr/local/google/home/codyfincher/Code/database-tools/oracle-database-assessment/src/server/dbma/database.py\" target=\"_blank\"><span style=\"color: #7f7f7f; text-decoration-color: #7f7f7f\">database.py</span></a><span style=\"color: #7f7f7f; text-decoration-color: #7f7f7f\">:</span><a href=\"file:///usr/local/google/home/codyfincher/Code/database-tools/oracle-database-assessment/src/server/dbma/database.py#153\" target=\"_blank\"><span style=\"color: #7f7f7f; text-decoration-color: #7f7f7f\">153</span></a>\n",
       "</pre>\n"
      ],
      "text/plain": [
       "\u001b[2;36m[10/17/22 16:51:04]\u001b[0m\u001b[2;36m \u001b[0m\u001b[34mINFO    \u001b[0m delimiter is |                                                         \u001b]8;id=347052;file:///usr/local/google/home/codyfincher/Code/database-tools/oracle-database-assessment/src/server/dbma/database.py\u001b\\\u001b[2mdatabase.py\u001b[0m\u001b]8;;\u001b\\\u001b[2m:\u001b[0m\u001b]8;id=507639;file:///usr/local/google/home/codyfincher/Code/database-tools/oracle-database-assessment/src/server/dbma/database.py#153\u001b\\\u001b[2m153\u001b[0m\u001b]8;;\u001b\\\n"
      ]
     },
     "metadata": {},
     "output_type": "display_data"
    },
    {
     "data": {
      "text/html": [
       "<pre style=\"white-space:pre;overflow-x:auto;line-height:normal;font-family:Menlo,'DejaVu Sans Mono',consolas,'Courier New',monospace\"><span style=\"color: #7fbfbf; text-decoration-color: #7fbfbf\">[10/17/22 16:51:04] </span><span style=\"color: #000080; text-decoration-color: #000080\">INFO    </span> <span style=\"color: #808000; text-decoration-color: #808000\">...</span> awr_snap_details  <span style=\"color: #008000; text-decoration-color: #008000; font-weight: bold\">SUCCESS</span> <span style=\"font-weight: bold\">[</span><span style=\"color: #008080; text-decoration-color: #008080; font-weight: bold\">24</span> <span style=\"color: #800080; text-decoration-color: #800080; font-weight: bold\">rows</span><span style=\"font-weight: bold\">(</span>s<span style=\"font-weight: bold\">)]</span>                             <a href=\"file:///usr/local/google/home/codyfincher/Code/database-tools/oracle-database-assessment/src/server/dbma/database.py\" target=\"_blank\"><span style=\"color: #7f7f7f; text-decoration-color: #7f7f7f\">database.py</span></a><span style=\"color: #7f7f7f; text-decoration-color: #7f7f7f\">:</span><a href=\"file:///usr/local/google/home/codyfincher/Code/database-tools/oracle-database-assessment/src/server/dbma/database.py#160\" target=\"_blank\"><span style=\"color: #7f7f7f; text-decoration-color: #7f7f7f\">160</span></a>\n",
       "</pre>\n"
      ],
      "text/plain": [
       "\u001b[2;36m[10/17/22 16:51:04]\u001b[0m\u001b[2;36m \u001b[0m\u001b[34mINFO    \u001b[0m \u001b[33m...\u001b[0m awr_snap_details  \u001b[1;32mSUCCESS\u001b[0m \u001b[1m[\u001b[0m\u001b[1;36m24\u001b[0m \u001b[1;35mrows\u001b[0m\u001b[1m(\u001b[0ms\u001b[1m)\u001b[0m\u001b[1m]\u001b[0m                             \u001b]8;id=640418;file:///usr/local/google/home/codyfincher/Code/database-tools/oracle-database-assessment/src/server/dbma/database.py\u001b\\\u001b[2mdatabase.py\u001b[0m\u001b]8;;\u001b\\\u001b[2m:\u001b[0m\u001b]8;id=635186;file:///usr/local/google/home/codyfincher/Code/database-tools/oracle-database-assessment/src/server/dbma/database.py#160\u001b\\\u001b[2m160\u001b[0m\u001b]8;;\u001b\\\n"
      ]
     },
     "metadata": {},
     "output_type": "display_data"
    },
    {
     "data": {
      "text/html": [
       "<pre style=\"white-space:pre;overflow-x:auto;line-height:normal;font-family:Menlo,'DejaVu Sans Mono',consolas,'Courier New',monospace\"><span style=\"color: #7fbfbf; text-decoration-color: #7fbfbf\">[10/17/22 16:51:04] </span><span style=\"color: #000080; text-decoration-color: #000080\">INFO    </span> delimiter is |                                                         <a href=\"file:///usr/local/google/home/codyfincher/Code/database-tools/oracle-database-assessment/src/server/dbma/database.py\" target=\"_blank\"><span style=\"color: #7f7f7f; text-decoration-color: #7f7f7f\">database.py</span></a><span style=\"color: #7f7f7f; text-decoration-color: #7f7f7f\">:</span><a href=\"file:///usr/local/google/home/codyfincher/Code/database-tools/oracle-database-assessment/src/server/dbma/database.py#153\" target=\"_blank\"><span style=\"color: #7f7f7f; text-decoration-color: #7f7f7f\">153</span></a>\n",
       "</pre>\n"
      ],
      "text/plain": [
       "\u001b[2;36m[10/17/22 16:51:04]\u001b[0m\u001b[2;36m \u001b[0m\u001b[34mINFO    \u001b[0m delimiter is |                                                         \u001b]8;id=127384;file:///usr/local/google/home/codyfincher/Code/database-tools/oracle-database-assessment/src/server/dbma/database.py\u001b\\\u001b[2mdatabase.py\u001b[0m\u001b]8;;\u001b\\\u001b[2m:\u001b[0m\u001b]8;id=804926;file:///usr/local/google/home/codyfincher/Code/database-tools/oracle-database-assessment/src/server/dbma/database.py#153\u001b\\\u001b[2m153\u001b[0m\u001b]8;;\u001b\\\n"
      ]
     },
     "metadata": {},
     "output_type": "display_data"
    },
    {
     "data": {
      "text/html": [
       "<pre style=\"white-space:pre;overflow-x:auto;line-height:normal;font-family:Menlo,'DejaVu Sans Mono',consolas,'Courier New',monospace\"><span style=\"color: #7fbfbf; text-decoration-color: #7fbfbf\">[10/17/22 16:51:04] </span><span style=\"color: #000080; text-decoration-color: #000080\">INFO    </span> <span style=\"color: #808000; text-decoration-color: #808000\">...</span> db_compression_by_type  <span style=\"color: #7f7f7f; text-decoration-color: #7f7f7f; font-weight: bold\">SKIPPED</span>                                    <a href=\"file:///usr/local/google/home/codyfincher/Code/database-tools/oracle-database-assessment/src/server/dbma/database.py\" target=\"_blank\"><span style=\"color: #7f7f7f; text-decoration-color: #7f7f7f\">database.py</span></a><span style=\"color: #7f7f7f; text-decoration-color: #7f7f7f\">:</span><a href=\"file:///usr/local/google/home/codyfincher/Code/database-tools/oracle-database-assessment/src/server/dbma/database.py#163\" target=\"_blank\"><span style=\"color: #7f7f7f; text-decoration-color: #7f7f7f\">163</span></a>\n",
       "</pre>\n"
      ],
      "text/plain": [
       "\u001b[2;36m[10/17/22 16:51:04]\u001b[0m\u001b[2;36m \u001b[0m\u001b[34mINFO    \u001b[0m \u001b[33m...\u001b[0m db_compression_by_type  \u001b[1;2mSKIPPED\u001b[0m                                    \u001b]8;id=340895;file:///usr/local/google/home/codyfincher/Code/database-tools/oracle-database-assessment/src/server/dbma/database.py\u001b\\\u001b[2mdatabase.py\u001b[0m\u001b]8;;\u001b\\\u001b[2m:\u001b[0m\u001b]8;id=410009;file:///usr/local/google/home/codyfincher/Code/database-tools/oracle-database-assessment/src/server/dbma/database.py#163\u001b\\\u001b[2m163\u001b[0m\u001b]8;;\u001b\\\n"
      ]
     },
     "metadata": {},
     "output_type": "display_data"
    },
    {
     "data": {
      "text/html": [
       "<pre style=\"white-space:pre;overflow-x:auto;line-height:normal;font-family:Menlo,'DejaVu Sans Mono',consolas,'Courier New',monospace\"><span style=\"color: #7fbfbf; text-decoration-color: #7fbfbf\">[10/17/22 16:51:04] </span><span style=\"color: #000080; text-decoration-color: #000080\">INFO    </span> delimiter is |                                                         <a href=\"file:///usr/local/google/home/codyfincher/Code/database-tools/oracle-database-assessment/src/server/dbma/database.py\" target=\"_blank\"><span style=\"color: #7f7f7f; text-decoration-color: #7f7f7f\">database.py</span></a><span style=\"color: #7f7f7f; text-decoration-color: #7f7f7f\">:</span><a href=\"file:///usr/local/google/home/codyfincher/Code/database-tools/oracle-database-assessment/src/server/dbma/database.py#153\" target=\"_blank\"><span style=\"color: #7f7f7f; text-decoration-color: #7f7f7f\">153</span></a>\n",
       "</pre>\n"
      ],
      "text/plain": [
       "\u001b[2;36m[10/17/22 16:51:04]\u001b[0m\u001b[2;36m \u001b[0m\u001b[34mINFO    \u001b[0m delimiter is |                                                         \u001b]8;id=93832;file:///usr/local/google/home/codyfincher/Code/database-tools/oracle-database-assessment/src/server/dbma/database.py\u001b\\\u001b[2mdatabase.py\u001b[0m\u001b]8;;\u001b\\\u001b[2m:\u001b[0m\u001b]8;id=14173;file:///usr/local/google/home/codyfincher/Code/database-tools/oracle-database-assessment/src/server/dbma/database.py#153\u001b\\\u001b[2m153\u001b[0m\u001b]8;;\u001b\\\n"
      ]
     },
     "metadata": {},
     "output_type": "display_data"
    },
    {
     "data": {
      "text/html": [
       "<pre style=\"white-space:pre;overflow-x:auto;line-height:normal;font-family:Menlo,'DejaVu Sans Mono',consolas,'Courier New',monospace\"><span style=\"color: #7fbfbf; text-decoration-color: #7fbfbf\">[10/17/22 16:51:04] </span><span style=\"color: #000080; text-decoration-color: #000080\">INFO    </span> <span style=\"color: #808000; text-decoration-color: #808000\">...</span> db_cpu_core_usage  <span style=\"color: #008000; text-decoration-color: #008000; font-weight: bold\">SUCCESS</span> <span style=\"font-weight: bold\">[</span><span style=\"color: #008080; text-decoration-color: #008080; font-weight: bold\">3</span> <span style=\"color: #800080; text-decoration-color: #800080; font-weight: bold\">rows</span><span style=\"font-weight: bold\">(</span>s<span style=\"font-weight: bold\">)]</span>                             <a href=\"file:///usr/local/google/home/codyfincher/Code/database-tools/oracle-database-assessment/src/server/dbma/database.py\" target=\"_blank\"><span style=\"color: #7f7f7f; text-decoration-color: #7f7f7f\">database.py</span></a><span style=\"color: #7f7f7f; text-decoration-color: #7f7f7f\">:</span><a href=\"file:///usr/local/google/home/codyfincher/Code/database-tools/oracle-database-assessment/src/server/dbma/database.py#160\" target=\"_blank\"><span style=\"color: #7f7f7f; text-decoration-color: #7f7f7f\">160</span></a>\n",
       "</pre>\n"
      ],
      "text/plain": [
       "\u001b[2;36m[10/17/22 16:51:04]\u001b[0m\u001b[2;36m \u001b[0m\u001b[34mINFO    \u001b[0m \u001b[33m...\u001b[0m db_cpu_core_usage  \u001b[1;32mSUCCESS\u001b[0m \u001b[1m[\u001b[0m\u001b[1;36m3\u001b[0m \u001b[1;35mrows\u001b[0m\u001b[1m(\u001b[0ms\u001b[1m)\u001b[0m\u001b[1m]\u001b[0m                             \u001b]8;id=958548;file:///usr/local/google/home/codyfincher/Code/database-tools/oracle-database-assessment/src/server/dbma/database.py\u001b\\\u001b[2mdatabase.py\u001b[0m\u001b]8;;\u001b\\\u001b[2m:\u001b[0m\u001b]8;id=56628;file:///usr/local/google/home/codyfincher/Code/database-tools/oracle-database-assessment/src/server/dbma/database.py#160\u001b\\\u001b[2m160\u001b[0m\u001b]8;;\u001b\\\n"
      ]
     },
     "metadata": {},
     "output_type": "display_data"
    },
    {
     "data": {
      "text/html": [
       "<pre style=\"white-space:pre;overflow-x:auto;line-height:normal;font-family:Menlo,'DejaVu Sans Mono',consolas,'Courier New',monospace\"><span style=\"color: #7fbfbf; text-decoration-color: #7fbfbf\">[10/17/22 16:51:04] </span><span style=\"color: #000080; text-decoration-color: #000080\">INFO    </span> delimiter is |                                                         <a href=\"file:///usr/local/google/home/codyfincher/Code/database-tools/oracle-database-assessment/src/server/dbma/database.py\" target=\"_blank\"><span style=\"color: #7f7f7f; text-decoration-color: #7f7f7f\">database.py</span></a><span style=\"color: #7f7f7f; text-decoration-color: #7f7f7f\">:</span><a href=\"file:///usr/local/google/home/codyfincher/Code/database-tools/oracle-database-assessment/src/server/dbma/database.py#153\" target=\"_blank\"><span style=\"color: #7f7f7f; text-decoration-color: #7f7f7f\">153</span></a>\n",
       "</pre>\n"
      ],
      "text/plain": [
       "\u001b[2;36m[10/17/22 16:51:04]\u001b[0m\u001b[2;36m \u001b[0m\u001b[34mINFO    \u001b[0m delimiter is |                                                         \u001b]8;id=612314;file:///usr/local/google/home/codyfincher/Code/database-tools/oracle-database-assessment/src/server/dbma/database.py\u001b\\\u001b[2mdatabase.py\u001b[0m\u001b]8;;\u001b\\\u001b[2m:\u001b[0m\u001b]8;id=730945;file:///usr/local/google/home/codyfincher/Code/database-tools/oracle-database-assessment/src/server/dbma/database.py#153\u001b\\\u001b[2m153\u001b[0m\u001b]8;;\u001b\\\n"
      ]
     },
     "metadata": {},
     "output_type": "display_data"
    },
    {
     "data": {
      "text/html": [
       "<pre style=\"white-space:pre;overflow-x:auto;line-height:normal;font-family:Menlo,'DejaVu Sans Mono',consolas,'Courier New',monospace\"><span style=\"color: #7fbfbf; text-decoration-color: #7fbfbf\">[10/17/22 16:51:04] </span><span style=\"color: #000080; text-decoration-color: #000080\">INFO    </span> <span style=\"color: #808000; text-decoration-color: #808000\">...</span> db_dataguard  <span style=\"color: #008000; text-decoration-color: #008000; font-weight: bold\">SUCCESS</span> <span style=\"font-weight: bold\">[</span><span style=\"color: #008080; text-decoration-color: #008080; font-weight: bold\">1</span> <span style=\"color: #800080; text-decoration-color: #800080; font-weight: bold\">rows</span><span style=\"font-weight: bold\">(</span>s<span style=\"font-weight: bold\">)]</span>                                  <a href=\"file:///usr/local/google/home/codyfincher/Code/database-tools/oracle-database-assessment/src/server/dbma/database.py\" target=\"_blank\"><span style=\"color: #7f7f7f; text-decoration-color: #7f7f7f\">database.py</span></a><span style=\"color: #7f7f7f; text-decoration-color: #7f7f7f\">:</span><a href=\"file:///usr/local/google/home/codyfincher/Code/database-tools/oracle-database-assessment/src/server/dbma/database.py#160\" target=\"_blank\"><span style=\"color: #7f7f7f; text-decoration-color: #7f7f7f\">160</span></a>\n",
       "</pre>\n"
      ],
      "text/plain": [
       "\u001b[2;36m[10/17/22 16:51:04]\u001b[0m\u001b[2;36m \u001b[0m\u001b[34mINFO    \u001b[0m \u001b[33m...\u001b[0m db_dataguard  \u001b[1;32mSUCCESS\u001b[0m \u001b[1m[\u001b[0m\u001b[1;36m1\u001b[0m \u001b[1;35mrows\u001b[0m\u001b[1m(\u001b[0ms\u001b[1m)\u001b[0m\u001b[1m]\u001b[0m                                  \u001b]8;id=113812;file:///usr/local/google/home/codyfincher/Code/database-tools/oracle-database-assessment/src/server/dbma/database.py\u001b\\\u001b[2mdatabase.py\u001b[0m\u001b]8;;\u001b\\\u001b[2m:\u001b[0m\u001b]8;id=127727;file:///usr/local/google/home/codyfincher/Code/database-tools/oracle-database-assessment/src/server/dbma/database.py#160\u001b\\\u001b[2m160\u001b[0m\u001b]8;;\u001b\\\n"
      ]
     },
     "metadata": {},
     "output_type": "display_data"
    },
    {
     "data": {
      "text/html": [
       "<pre style=\"white-space:pre;overflow-x:auto;line-height:normal;font-family:Menlo,'DejaVu Sans Mono',consolas,'Courier New',monospace\"><span style=\"color: #7fbfbf; text-decoration-color: #7fbfbf\">[10/17/22 16:51:04] </span><span style=\"color: #000080; text-decoration-color: #000080\">INFO    </span> delimiter is |                                                         <a href=\"file:///usr/local/google/home/codyfincher/Code/database-tools/oracle-database-assessment/src/server/dbma/database.py\" target=\"_blank\"><span style=\"color: #7f7f7f; text-decoration-color: #7f7f7f\">database.py</span></a><span style=\"color: #7f7f7f; text-decoration-color: #7f7f7f\">:</span><a href=\"file:///usr/local/google/home/codyfincher/Code/database-tools/oracle-database-assessment/src/server/dbma/database.py#153\" target=\"_blank\"><span style=\"color: #7f7f7f; text-decoration-color: #7f7f7f\">153</span></a>\n",
       "</pre>\n"
      ],
      "text/plain": [
       "\u001b[2;36m[10/17/22 16:51:04]\u001b[0m\u001b[2;36m \u001b[0m\u001b[34mINFO    \u001b[0m delimiter is |                                                         \u001b]8;id=182054;file:///usr/local/google/home/codyfincher/Code/database-tools/oracle-database-assessment/src/server/dbma/database.py\u001b\\\u001b[2mdatabase.py\u001b[0m\u001b]8;;\u001b\\\u001b[2m:\u001b[0m\u001b]8;id=440156;file:///usr/local/google/home/codyfincher/Code/database-tools/oracle-database-assessment/src/server/dbma/database.py#153\u001b\\\u001b[2m153\u001b[0m\u001b]8;;\u001b\\\n"
      ]
     },
     "metadata": {},
     "output_type": "display_data"
    },
    {
     "data": {
      "text/html": [
       "<pre style=\"white-space:pre;overflow-x:auto;line-height:normal;font-family:Menlo,'DejaVu Sans Mono',consolas,'Courier New',monospace\"><span style=\"color: #7fbfbf; text-decoration-color: #7fbfbf\">[10/17/22 16:51:04] </span><span style=\"color: #000080; text-decoration-color: #000080\">INFO    </span> <span style=\"color: #808000; text-decoration-color: #808000\">...</span> db_data_types  <span style=\"color: #008000; text-decoration-color: #008000; font-weight: bold\">SUCCESS</span> <span style=\"font-weight: bold\">[</span><span style=\"color: #008080; text-decoration-color: #008080; font-weight: bold\">24</span> <span style=\"color: #800080; text-decoration-color: #800080; font-weight: bold\">rows</span><span style=\"font-weight: bold\">(</span>s<span style=\"font-weight: bold\">)]</span>                                <a href=\"file:///usr/local/google/home/codyfincher/Code/database-tools/oracle-database-assessment/src/server/dbma/database.py\" target=\"_blank\"><span style=\"color: #7f7f7f; text-decoration-color: #7f7f7f\">database.py</span></a><span style=\"color: #7f7f7f; text-decoration-color: #7f7f7f\">:</span><a href=\"file:///usr/local/google/home/codyfincher/Code/database-tools/oracle-database-assessment/src/server/dbma/database.py#160\" target=\"_blank\"><span style=\"color: #7f7f7f; text-decoration-color: #7f7f7f\">160</span></a>\n",
       "</pre>\n"
      ],
      "text/plain": [
       "\u001b[2;36m[10/17/22 16:51:04]\u001b[0m\u001b[2;36m \u001b[0m\u001b[34mINFO    \u001b[0m \u001b[33m...\u001b[0m db_data_types  \u001b[1;32mSUCCESS\u001b[0m \u001b[1m[\u001b[0m\u001b[1;36m24\u001b[0m \u001b[1;35mrows\u001b[0m\u001b[1m(\u001b[0ms\u001b[1m)\u001b[0m\u001b[1m]\u001b[0m                                \u001b]8;id=380029;file:///usr/local/google/home/codyfincher/Code/database-tools/oracle-database-assessment/src/server/dbma/database.py\u001b\\\u001b[2mdatabase.py\u001b[0m\u001b]8;;\u001b\\\u001b[2m:\u001b[0m\u001b]8;id=202083;file:///usr/local/google/home/codyfincher/Code/database-tools/oracle-database-assessment/src/server/dbma/database.py#160\u001b\\\u001b[2m160\u001b[0m\u001b]8;;\u001b\\\n"
      ]
     },
     "metadata": {},
     "output_type": "display_data"
    },
    {
     "data": {
      "text/html": [
       "<pre style=\"white-space:pre;overflow-x:auto;line-height:normal;font-family:Menlo,'DejaVu Sans Mono',consolas,'Courier New',monospace\"><span style=\"color: #7fbfbf; text-decoration-color: #7fbfbf\">[10/17/22 16:51:04] </span><span style=\"color: #000080; text-decoration-color: #000080\">INFO    </span> delimiter is |                                                         <a href=\"file:///usr/local/google/home/codyfincher/Code/database-tools/oracle-database-assessment/src/server/dbma/database.py\" target=\"_blank\"><span style=\"color: #7f7f7f; text-decoration-color: #7f7f7f\">database.py</span></a><span style=\"color: #7f7f7f; text-decoration-color: #7f7f7f\">:</span><a href=\"file:///usr/local/google/home/codyfincher/Code/database-tools/oracle-database-assessment/src/server/dbma/database.py#153\" target=\"_blank\"><span style=\"color: #7f7f7f; text-decoration-color: #7f7f7f\">153</span></a>\n",
       "</pre>\n"
      ],
      "text/plain": [
       "\u001b[2;36m[10/17/22 16:51:04]\u001b[0m\u001b[2;36m \u001b[0m\u001b[34mINFO    \u001b[0m delimiter is |                                                         \u001b]8;id=392065;file:///usr/local/google/home/codyfincher/Code/database-tools/oracle-database-assessment/src/server/dbma/database.py\u001b\\\u001b[2mdatabase.py\u001b[0m\u001b]8;;\u001b\\\u001b[2m:\u001b[0m\u001b]8;id=910772;file:///usr/local/google/home/codyfincher/Code/database-tools/oracle-database-assessment/src/server/dbma/database.py#153\u001b\\\u001b[2m153\u001b[0m\u001b]8;;\u001b\\\n"
      ]
     },
     "metadata": {},
     "output_type": "display_data"
    },
    {
     "data": {
      "text/html": [
       "<pre style=\"white-space:pre;overflow-x:auto;line-height:normal;font-family:Menlo,'DejaVu Sans Mono',consolas,'Courier New',monospace\"><span style=\"color: #7fbfbf; text-decoration-color: #7fbfbf\">[10/17/22 16:51:04] </span><span style=\"color: #000080; text-decoration-color: #000080\">INFO    </span> <span style=\"color: #808000; text-decoration-color: #808000\">...</span> dba_hist_sys_stat  <span style=\"color: #008000; text-decoration-color: #008000; font-weight: bold\">SUCCESS</span> <span style=\"font-weight: bold\">[</span><span style=\"color: #008080; text-decoration-color: #008080; font-weight: bold\">3816</span> <span style=\"color: #800080; text-decoration-color: #800080; font-weight: bold\">rows</span><span style=\"font-weight: bold\">(</span>s<span style=\"font-weight: bold\">)]</span>                          <a href=\"file:///usr/local/google/home/codyfincher/Code/database-tools/oracle-database-assessment/src/server/dbma/database.py\" target=\"_blank\"><span style=\"color: #7f7f7f; text-decoration-color: #7f7f7f\">database.py</span></a><span style=\"color: #7f7f7f; text-decoration-color: #7f7f7f\">:</span><a href=\"file:///usr/local/google/home/codyfincher/Code/database-tools/oracle-database-assessment/src/server/dbma/database.py#160\" target=\"_blank\"><span style=\"color: #7f7f7f; text-decoration-color: #7f7f7f\">160</span></a>\n",
       "</pre>\n"
      ],
      "text/plain": [
       "\u001b[2;36m[10/17/22 16:51:04]\u001b[0m\u001b[2;36m \u001b[0m\u001b[34mINFO    \u001b[0m \u001b[33m...\u001b[0m dba_hist_sys_stat  \u001b[1;32mSUCCESS\u001b[0m \u001b[1m[\u001b[0m\u001b[1;36m3816\u001b[0m \u001b[1;35mrows\u001b[0m\u001b[1m(\u001b[0ms\u001b[1m)\u001b[0m\u001b[1m]\u001b[0m                          \u001b]8;id=590164;file:///usr/local/google/home/codyfincher/Code/database-tools/oracle-database-assessment/src/server/dbma/database.py\u001b\\\u001b[2mdatabase.py\u001b[0m\u001b]8;;\u001b\\\u001b[2m:\u001b[0m\u001b]8;id=834031;file:///usr/local/google/home/codyfincher/Code/database-tools/oracle-database-assessment/src/server/dbma/database.py#160\u001b\\\u001b[2m160\u001b[0m\u001b]8;;\u001b\\\n"
      ]
     },
     "metadata": {},
     "output_type": "display_data"
    },
    {
     "data": {
      "text/html": [
       "<pre style=\"white-space:pre;overflow-x:auto;line-height:normal;font-family:Menlo,'DejaVu Sans Mono',consolas,'Courier New',monospace\"><span style=\"color: #7fbfbf; text-decoration-color: #7fbfbf\">[10/17/22 16:51:04] </span><span style=\"color: #000080; text-decoration-color: #000080\">INFO    </span> delimiter is |                                                         <a href=\"file:///usr/local/google/home/codyfincher/Code/database-tools/oracle-database-assessment/src/server/dbma/database.py\" target=\"_blank\"><span style=\"color: #7f7f7f; text-decoration-color: #7f7f7f\">database.py</span></a><span style=\"color: #7f7f7f; text-decoration-color: #7f7f7f\">:</span><a href=\"file:///usr/local/google/home/codyfincher/Code/database-tools/oracle-database-assessment/src/server/dbma/database.py#153\" target=\"_blank\"><span style=\"color: #7f7f7f; text-decoration-color: #7f7f7f\">153</span></a>\n",
       "</pre>\n"
      ],
      "text/plain": [
       "\u001b[2;36m[10/17/22 16:51:04]\u001b[0m\u001b[2;36m \u001b[0m\u001b[34mINFO    \u001b[0m delimiter is |                                                         \u001b]8;id=371126;file:///usr/local/google/home/codyfincher/Code/database-tools/oracle-database-assessment/src/server/dbma/database.py\u001b\\\u001b[2mdatabase.py\u001b[0m\u001b]8;;\u001b\\\u001b[2m:\u001b[0m\u001b]8;id=99940;file:///usr/local/google/home/codyfincher/Code/database-tools/oracle-database-assessment/src/server/dbma/database.py#153\u001b\\\u001b[2m153\u001b[0m\u001b]8;;\u001b\\\n"
      ]
     },
     "metadata": {},
     "output_type": "display_data"
    },
    {
     "data": {
      "text/html": [
       "<pre style=\"white-space:pre;overflow-x:auto;line-height:normal;font-family:Menlo,'DejaVu Sans Mono',consolas,'Courier New',monospace\"><span style=\"color: #7fbfbf; text-decoration-color: #7fbfbf\">[10/17/22 16:51:04] </span><span style=\"color: #000080; text-decoration-color: #000080\">INFO    </span> <span style=\"color: #808000; text-decoration-color: #808000\">...</span> dba_hist_sys_time_model  <span style=\"color: #008000; text-decoration-color: #008000; font-weight: bold\">SUCCESS</span> <span style=\"font-weight: bold\">[</span><span style=\"color: #008080; text-decoration-color: #008080; font-weight: bold\">744</span> <span style=\"color: #800080; text-decoration-color: #800080; font-weight: bold\">rows</span><span style=\"font-weight: bold\">(</span>s<span style=\"font-weight: bold\">)]</span>                     <a href=\"file:///usr/local/google/home/codyfincher/Code/database-tools/oracle-database-assessment/src/server/dbma/database.py\" target=\"_blank\"><span style=\"color: #7f7f7f; text-decoration-color: #7f7f7f\">database.py</span></a><span style=\"color: #7f7f7f; text-decoration-color: #7f7f7f\">:</span><a href=\"file:///usr/local/google/home/codyfincher/Code/database-tools/oracle-database-assessment/src/server/dbma/database.py#160\" target=\"_blank\"><span style=\"color: #7f7f7f; text-decoration-color: #7f7f7f\">160</span></a>\n",
       "</pre>\n"
      ],
      "text/plain": [
       "\u001b[2;36m[10/17/22 16:51:04]\u001b[0m\u001b[2;36m \u001b[0m\u001b[34mINFO    \u001b[0m \u001b[33m...\u001b[0m dba_hist_sys_time_model  \u001b[1;32mSUCCESS\u001b[0m \u001b[1m[\u001b[0m\u001b[1;36m744\u001b[0m \u001b[1;35mrows\u001b[0m\u001b[1m(\u001b[0ms\u001b[1m)\u001b[0m\u001b[1m]\u001b[0m                     \u001b]8;id=470746;file:///usr/local/google/home/codyfincher/Code/database-tools/oracle-database-assessment/src/server/dbma/database.py\u001b\\\u001b[2mdatabase.py\u001b[0m\u001b]8;;\u001b\\\u001b[2m:\u001b[0m\u001b]8;id=372395;file:///usr/local/google/home/codyfincher/Code/database-tools/oracle-database-assessment/src/server/dbma/database.py#160\u001b\\\u001b[2m160\u001b[0m\u001b]8;;\u001b\\\n"
      ]
     },
     "metadata": {},
     "output_type": "display_data"
    },
    {
     "data": {
      "text/html": [
       "<pre style=\"white-space:pre;overflow-x:auto;line-height:normal;font-family:Menlo,'DejaVu Sans Mono',consolas,'Courier New',monospace\"><span style=\"color: #7fbfbf; text-decoration-color: #7fbfbf\">[10/17/22 16:51:04] </span><span style=\"color: #000080; text-decoration-color: #000080\">INFO    </span> delimiter is |                                                         <a href=\"file:///usr/local/google/home/codyfincher/Code/database-tools/oracle-database-assessment/src/server/dbma/database.py\" target=\"_blank\"><span style=\"color: #7f7f7f; text-decoration-color: #7f7f7f\">database.py</span></a><span style=\"color: #7f7f7f; text-decoration-color: #7f7f7f\">:</span><a href=\"file:///usr/local/google/home/codyfincher/Code/database-tools/oracle-database-assessment/src/server/dbma/database.py#153\" target=\"_blank\"><span style=\"color: #7f7f7f; text-decoration-color: #7f7f7f\">153</span></a>\n",
       "</pre>\n"
      ],
      "text/plain": [
       "\u001b[2;36m[10/17/22 16:51:04]\u001b[0m\u001b[2;36m \u001b[0m\u001b[34mINFO    \u001b[0m delimiter is |                                                         \u001b]8;id=406566;file:///usr/local/google/home/codyfincher/Code/database-tools/oracle-database-assessment/src/server/dbma/database.py\u001b\\\u001b[2mdatabase.py\u001b[0m\u001b]8;;\u001b\\\u001b[2m:\u001b[0m\u001b]8;id=486427;file:///usr/local/google/home/codyfincher/Code/database-tools/oracle-database-assessment/src/server/dbma/database.py#153\u001b\\\u001b[2m153\u001b[0m\u001b]8;;\u001b\\\n"
      ]
     },
     "metadata": {},
     "output_type": "display_data"
    },
    {
     "data": {
      "text/html": [
       "<pre style=\"white-space:pre;overflow-x:auto;line-height:normal;font-family:Menlo,'DejaVu Sans Mono',consolas,'Courier New',monospace\"><span style=\"color: #7fbfbf; text-decoration-color: #7fbfbf\">[10/17/22 16:51:04] </span><span style=\"color: #000080; text-decoration-color: #000080\">INFO    </span> <span style=\"color: #808000; text-decoration-color: #808000\">...</span> db_features  <span style=\"color: #008000; text-decoration-color: #008000; font-weight: bold\">SUCCESS</span> <span style=\"font-weight: bold\">[</span><span style=\"color: #008080; text-decoration-color: #008080; font-weight: bold\">243</span> <span style=\"color: #800080; text-decoration-color: #800080; font-weight: bold\">rows</span><span style=\"font-weight: bold\">(</span>s<span style=\"font-weight: bold\">)]</span>                                 <a href=\"file:///usr/local/google/home/codyfincher/Code/database-tools/oracle-database-assessment/src/server/dbma/database.py\" target=\"_blank\"><span style=\"color: #7f7f7f; text-decoration-color: #7f7f7f\">database.py</span></a><span style=\"color: #7f7f7f; text-decoration-color: #7f7f7f\">:</span><a href=\"file:///usr/local/google/home/codyfincher/Code/database-tools/oracle-database-assessment/src/server/dbma/database.py#160\" target=\"_blank\"><span style=\"color: #7f7f7f; text-decoration-color: #7f7f7f\">160</span></a>\n",
       "</pre>\n"
      ],
      "text/plain": [
       "\u001b[2;36m[10/17/22 16:51:04]\u001b[0m\u001b[2;36m \u001b[0m\u001b[34mINFO    \u001b[0m \u001b[33m...\u001b[0m db_features  \u001b[1;32mSUCCESS\u001b[0m \u001b[1m[\u001b[0m\u001b[1;36m243\u001b[0m \u001b[1;35mrows\u001b[0m\u001b[1m(\u001b[0ms\u001b[1m)\u001b[0m\u001b[1m]\u001b[0m                                 \u001b]8;id=473001;file:///usr/local/google/home/codyfincher/Code/database-tools/oracle-database-assessment/src/server/dbma/database.py\u001b\\\u001b[2mdatabase.py\u001b[0m\u001b]8;;\u001b\\\u001b[2m:\u001b[0m\u001b]8;id=223199;file:///usr/local/google/home/codyfincher/Code/database-tools/oracle-database-assessment/src/server/dbma/database.py#160\u001b\\\u001b[2m160\u001b[0m\u001b]8;;\u001b\\\n"
      ]
     },
     "metadata": {},
     "output_type": "display_data"
    },
    {
     "data": {
      "text/html": [
       "<pre style=\"white-space:pre;overflow-x:auto;line-height:normal;font-family:Menlo,'DejaVu Sans Mono',consolas,'Courier New',monospace\"><span style=\"color: #7fbfbf; text-decoration-color: #7fbfbf\">[10/17/22 16:51:04] </span><span style=\"color: #000080; text-decoration-color: #000080\">INFO    </span> delimiter is |                                                         <a href=\"file:///usr/local/google/home/codyfincher/Code/database-tools/oracle-database-assessment/src/server/dbma/database.py\" target=\"_blank\"><span style=\"color: #7f7f7f; text-decoration-color: #7f7f7f\">database.py</span></a><span style=\"color: #7f7f7f; text-decoration-color: #7f7f7f\">:</span><a href=\"file:///usr/local/google/home/codyfincher/Code/database-tools/oracle-database-assessment/src/server/dbma/database.py#153\" target=\"_blank\"><span style=\"color: #7f7f7f; text-decoration-color: #7f7f7f\">153</span></a>\n",
       "</pre>\n"
      ],
      "text/plain": [
       "\u001b[2;36m[10/17/22 16:51:04]\u001b[0m\u001b[2;36m \u001b[0m\u001b[34mINFO    \u001b[0m delimiter is |                                                         \u001b]8;id=899784;file:///usr/local/google/home/codyfincher/Code/database-tools/oracle-database-assessment/src/server/dbma/database.py\u001b\\\u001b[2mdatabase.py\u001b[0m\u001b]8;;\u001b\\\u001b[2m:\u001b[0m\u001b]8;id=616482;file:///usr/local/google/home/codyfincher/Code/database-tools/oracle-database-assessment/src/server/dbma/database.py#153\u001b\\\u001b[2m153\u001b[0m\u001b]8;;\u001b\\\n"
      ]
     },
     "metadata": {},
     "output_type": "display_data"
    },
    {
     "data": {
      "text/html": [
       "<pre style=\"white-space:pre;overflow-x:auto;line-height:normal;font-family:Menlo,'DejaVu Sans Mono',consolas,'Courier New',monospace\"><span style=\"color: #7fbfbf; text-decoration-color: #7fbfbf\">[10/17/22 16:51:04] </span><span style=\"color: #000080; text-decoration-color: #000080\">INFO    </span> <span style=\"color: #808000; text-decoration-color: #808000\">...</span> db_high_water_stats  <span style=\"color: #008000; text-decoration-color: #008000; font-weight: bold\">SUCCESS</span> <span style=\"font-weight: bold\">[</span><span style=\"color: #008080; text-decoration-color: #008080; font-weight: bold\">21</span> <span style=\"color: #800080; text-decoration-color: #800080; font-weight: bold\">rows</span><span style=\"font-weight: bold\">(</span>s<span style=\"font-weight: bold\">)]</span>                          <a href=\"file:///usr/local/google/home/codyfincher/Code/database-tools/oracle-database-assessment/src/server/dbma/database.py\" target=\"_blank\"><span style=\"color: #7f7f7f; text-decoration-color: #7f7f7f\">database.py</span></a><span style=\"color: #7f7f7f; text-decoration-color: #7f7f7f\">:</span><a href=\"file:///usr/local/google/home/codyfincher/Code/database-tools/oracle-database-assessment/src/server/dbma/database.py#160\" target=\"_blank\"><span style=\"color: #7f7f7f; text-decoration-color: #7f7f7f\">160</span></a>\n",
       "</pre>\n"
      ],
      "text/plain": [
       "\u001b[2;36m[10/17/22 16:51:04]\u001b[0m\u001b[2;36m \u001b[0m\u001b[34mINFO    \u001b[0m \u001b[33m...\u001b[0m db_high_water_stats  \u001b[1;32mSUCCESS\u001b[0m \u001b[1m[\u001b[0m\u001b[1;36m21\u001b[0m \u001b[1;35mrows\u001b[0m\u001b[1m(\u001b[0ms\u001b[1m)\u001b[0m\u001b[1m]\u001b[0m                          \u001b]8;id=533612;file:///usr/local/google/home/codyfincher/Code/database-tools/oracle-database-assessment/src/server/dbma/database.py\u001b\\\u001b[2mdatabase.py\u001b[0m\u001b]8;;\u001b\\\u001b[2m:\u001b[0m\u001b]8;id=729425;file:///usr/local/google/home/codyfincher/Code/database-tools/oracle-database-assessment/src/server/dbma/database.py#160\u001b\\\u001b[2m160\u001b[0m\u001b]8;;\u001b\\\n"
      ]
     },
     "metadata": {},
     "output_type": "display_data"
    },
    {
     "data": {
      "text/html": [
       "<pre style=\"white-space:pre;overflow-x:auto;line-height:normal;font-family:Menlo,'DejaVu Sans Mono',consolas,'Courier New',monospace\"><span style=\"color: #7fbfbf; text-decoration-color: #7fbfbf\">[10/17/22 16:51:04] </span><span style=\"color: #000080; text-decoration-color: #000080\">INFO    </span> delimiter is |                                                         <a href=\"file:///usr/local/google/home/codyfincher/Code/database-tools/oracle-database-assessment/src/server/dbma/database.py\" target=\"_blank\"><span style=\"color: #7f7f7f; text-decoration-color: #7f7f7f\">database.py</span></a><span style=\"color: #7f7f7f; text-decoration-color: #7f7f7f\">:</span><a href=\"file:///usr/local/google/home/codyfincher/Code/database-tools/oracle-database-assessment/src/server/dbma/database.py#153\" target=\"_blank\"><span style=\"color: #7f7f7f; text-decoration-color: #7f7f7f\">153</span></a>\n",
       "</pre>\n"
      ],
      "text/plain": [
       "\u001b[2;36m[10/17/22 16:51:04]\u001b[0m\u001b[2;36m \u001b[0m\u001b[34mINFO    \u001b[0m delimiter is |                                                         \u001b]8;id=884890;file:///usr/local/google/home/codyfincher/Code/database-tools/oracle-database-assessment/src/server/dbma/database.py\u001b\\\u001b[2mdatabase.py\u001b[0m\u001b]8;;\u001b\\\u001b[2m:\u001b[0m\u001b]8;id=420399;file:///usr/local/google/home/codyfincher/Code/database-tools/oracle-database-assessment/src/server/dbma/database.py#153\u001b\\\u001b[2m153\u001b[0m\u001b]8;;\u001b\\\n"
      ]
     },
     "metadata": {},
     "output_type": "display_data"
    },
    {
     "data": {
      "text/html": [
       "<pre style=\"white-space:pre;overflow-x:auto;line-height:normal;font-family:Menlo,'DejaVu Sans Mono',consolas,'Courier New',monospace\"><span style=\"color: #7fbfbf; text-decoration-color: #7fbfbf\">[10/17/22 16:51:04] </span><span style=\"color: #000080; text-decoration-color: #000080\">INFO    </span> <span style=\"color: #808000; text-decoration-color: #808000\">...</span> db_instances  <span style=\"color: #008000; text-decoration-color: #008000; font-weight: bold\">SUCCESS</span> <span style=\"font-weight: bold\">[</span><span style=\"color: #008080; text-decoration-color: #008080; font-weight: bold\">1</span> <span style=\"color: #800080; text-decoration-color: #800080; font-weight: bold\">rows</span><span style=\"font-weight: bold\">(</span>s<span style=\"font-weight: bold\">)]</span>                                  <a href=\"file:///usr/local/google/home/codyfincher/Code/database-tools/oracle-database-assessment/src/server/dbma/database.py\" target=\"_blank\"><span style=\"color: #7f7f7f; text-decoration-color: #7f7f7f\">database.py</span></a><span style=\"color: #7f7f7f; text-decoration-color: #7f7f7f\">:</span><a href=\"file:///usr/local/google/home/codyfincher/Code/database-tools/oracle-database-assessment/src/server/dbma/database.py#160\" target=\"_blank\"><span style=\"color: #7f7f7f; text-decoration-color: #7f7f7f\">160</span></a>\n",
       "</pre>\n"
      ],
      "text/plain": [
       "\u001b[2;36m[10/17/22 16:51:04]\u001b[0m\u001b[2;36m \u001b[0m\u001b[34mINFO    \u001b[0m \u001b[33m...\u001b[0m db_instances  \u001b[1;32mSUCCESS\u001b[0m \u001b[1m[\u001b[0m\u001b[1;36m1\u001b[0m \u001b[1;35mrows\u001b[0m\u001b[1m(\u001b[0ms\u001b[1m)\u001b[0m\u001b[1m]\u001b[0m                                  \u001b]8;id=601148;file:///usr/local/google/home/codyfincher/Code/database-tools/oracle-database-assessment/src/server/dbma/database.py\u001b\\\u001b[2mdatabase.py\u001b[0m\u001b]8;;\u001b\\\u001b[2m:\u001b[0m\u001b]8;id=536180;file:///usr/local/google/home/codyfincher/Code/database-tools/oracle-database-assessment/src/server/dbma/database.py#160\u001b\\\u001b[2m160\u001b[0m\u001b]8;;\u001b\\\n"
      ]
     },
     "metadata": {},
     "output_type": "display_data"
    },
    {
     "data": {
      "text/html": [
       "<pre style=\"white-space:pre;overflow-x:auto;line-height:normal;font-family:Menlo,'DejaVu Sans Mono',consolas,'Courier New',monospace\"><span style=\"color: #7fbfbf; text-decoration-color: #7fbfbf\">[10/17/22 16:51:04] </span><span style=\"color: #000080; text-decoration-color: #000080\">INFO    </span> delimiter is |                                                         <a href=\"file:///usr/local/google/home/codyfincher/Code/database-tools/oracle-database-assessment/src/server/dbma/database.py\" target=\"_blank\"><span style=\"color: #7f7f7f; text-decoration-color: #7f7f7f\">database.py</span></a><span style=\"color: #7f7f7f; text-decoration-color: #7f7f7f\">:</span><a href=\"file:///usr/local/google/home/codyfincher/Code/database-tools/oracle-database-assessment/src/server/dbma/database.py#153\" target=\"_blank\"><span style=\"color: #7f7f7f; text-decoration-color: #7f7f7f\">153</span></a>\n",
       "</pre>\n"
      ],
      "text/plain": [
       "\u001b[2;36m[10/17/22 16:51:04]\u001b[0m\u001b[2;36m \u001b[0m\u001b[34mINFO    \u001b[0m delimiter is |                                                         \u001b]8;id=5466;file:///usr/local/google/home/codyfincher/Code/database-tools/oracle-database-assessment/src/server/dbma/database.py\u001b\\\u001b[2mdatabase.py\u001b[0m\u001b]8;;\u001b\\\u001b[2m:\u001b[0m\u001b]8;id=656924;file:///usr/local/google/home/codyfincher/Code/database-tools/oracle-database-assessment/src/server/dbma/database.py#153\u001b\\\u001b[2m153\u001b[0m\u001b]8;;\u001b\\\n"
      ]
     },
     "metadata": {},
     "output_type": "display_data"
    },
    {
     "data": {
      "text/html": [
       "<pre style=\"white-space:pre;overflow-x:auto;line-height:normal;font-family:Menlo,'DejaVu Sans Mono',consolas,'Courier New',monospace\"><span style=\"color: #7fbfbf; text-decoration-color: #7fbfbf\">[10/17/22 16:51:04] </span><span style=\"color: #000080; text-decoration-color: #000080\">INFO    </span> <span style=\"color: #808000; text-decoration-color: #808000\">...</span> db_links  <span style=\"color: #008000; text-decoration-color: #008000; font-weight: bold\">SUCCESS</span> <span style=\"font-weight: bold\">[</span><span style=\"color: #008080; text-decoration-color: #008080; font-weight: bold\">1</span> <span style=\"color: #800080; text-decoration-color: #800080; font-weight: bold\">rows</span><span style=\"font-weight: bold\">(</span>s<span style=\"font-weight: bold\">)]</span>                                      <a href=\"file:///usr/local/google/home/codyfincher/Code/database-tools/oracle-database-assessment/src/server/dbma/database.py\" target=\"_blank\"><span style=\"color: #7f7f7f; text-decoration-color: #7f7f7f\">database.py</span></a><span style=\"color: #7f7f7f; text-decoration-color: #7f7f7f\">:</span><a href=\"file:///usr/local/google/home/codyfincher/Code/database-tools/oracle-database-assessment/src/server/dbma/database.py#160\" target=\"_blank\"><span style=\"color: #7f7f7f; text-decoration-color: #7f7f7f\">160</span></a>\n",
       "</pre>\n"
      ],
      "text/plain": [
       "\u001b[2;36m[10/17/22 16:51:04]\u001b[0m\u001b[2;36m \u001b[0m\u001b[34mINFO    \u001b[0m \u001b[33m...\u001b[0m db_links  \u001b[1;32mSUCCESS\u001b[0m \u001b[1m[\u001b[0m\u001b[1;36m1\u001b[0m \u001b[1;35mrows\u001b[0m\u001b[1m(\u001b[0ms\u001b[1m)\u001b[0m\u001b[1m]\u001b[0m                                      \u001b]8;id=82152;file:///usr/local/google/home/codyfincher/Code/database-tools/oracle-database-assessment/src/server/dbma/database.py\u001b\\\u001b[2mdatabase.py\u001b[0m\u001b]8;;\u001b\\\u001b[2m:\u001b[0m\u001b]8;id=403113;file:///usr/local/google/home/codyfincher/Code/database-tools/oracle-database-assessment/src/server/dbma/database.py#160\u001b\\\u001b[2m160\u001b[0m\u001b]8;;\u001b\\\n"
      ]
     },
     "metadata": {},
     "output_type": "display_data"
    },
    {
     "data": {
      "text/html": [
       "<pre style=\"white-space:pre;overflow-x:auto;line-height:normal;font-family:Menlo,'DejaVu Sans Mono',consolas,'Courier New',monospace\"><span style=\"color: #7fbfbf; text-decoration-color: #7fbfbf\">[10/17/22 16:51:04] </span><span style=\"color: #000080; text-decoration-color: #000080\">INFO    </span> delimiter is |                                                         <a href=\"file:///usr/local/google/home/codyfincher/Code/database-tools/oracle-database-assessment/src/server/dbma/database.py\" target=\"_blank\"><span style=\"color: #7f7f7f; text-decoration-color: #7f7f7f\">database.py</span></a><span style=\"color: #7f7f7f; text-decoration-color: #7f7f7f\">:</span><a href=\"file:///usr/local/google/home/codyfincher/Code/database-tools/oracle-database-assessment/src/server/dbma/database.py#153\" target=\"_blank\"><span style=\"color: #7f7f7f; text-decoration-color: #7f7f7f\">153</span></a>\n",
       "</pre>\n"
      ],
      "text/plain": [
       "\u001b[2;36m[10/17/22 16:51:04]\u001b[0m\u001b[2;36m \u001b[0m\u001b[34mINFO    \u001b[0m delimiter is |                                                         \u001b]8;id=905032;file:///usr/local/google/home/codyfincher/Code/database-tools/oracle-database-assessment/src/server/dbma/database.py\u001b\\\u001b[2mdatabase.py\u001b[0m\u001b]8;;\u001b\\\u001b[2m:\u001b[0m\u001b]8;id=205596;file:///usr/local/google/home/codyfincher/Code/database-tools/oracle-database-assessment/src/server/dbma/database.py#153\u001b\\\u001b[2m153\u001b[0m\u001b]8;;\u001b\\\n"
      ]
     },
     "metadata": {},
     "output_type": "display_data"
    },
    {
     "data": {
      "text/html": [
       "<pre style=\"white-space:pre;overflow-x:auto;line-height:normal;font-family:Menlo,'DejaVu Sans Mono',consolas,'Courier New',monospace\"><span style=\"color: #7fbfbf; text-decoration-color: #7fbfbf\">[10/17/22 16:51:04] </span><span style=\"color: #000080; text-decoration-color: #000080\">INFO    </span> <span style=\"color: #808000; text-decoration-color: #808000\">...</span> db_objects  <span style=\"color: #008000; text-decoration-color: #008000; font-weight: bold\">SUCCESS</span> <span style=\"font-weight: bold\">[</span><span style=\"color: #008080; text-decoration-color: #008080; font-weight: bold\">38</span> <span style=\"color: #800080; text-decoration-color: #800080; font-weight: bold\">rows</span><span style=\"font-weight: bold\">(</span>s<span style=\"font-weight: bold\">)]</span>                                   <a href=\"file:///usr/local/google/home/codyfincher/Code/database-tools/oracle-database-assessment/src/server/dbma/database.py\" target=\"_blank\"><span style=\"color: #7f7f7f; text-decoration-color: #7f7f7f\">database.py</span></a><span style=\"color: #7f7f7f; text-decoration-color: #7f7f7f\">:</span><a href=\"file:///usr/local/google/home/codyfincher/Code/database-tools/oracle-database-assessment/src/server/dbma/database.py#160\" target=\"_blank\"><span style=\"color: #7f7f7f; text-decoration-color: #7f7f7f\">160</span></a>\n",
       "</pre>\n"
      ],
      "text/plain": [
       "\u001b[2;36m[10/17/22 16:51:04]\u001b[0m\u001b[2;36m \u001b[0m\u001b[34mINFO    \u001b[0m \u001b[33m...\u001b[0m db_objects  \u001b[1;32mSUCCESS\u001b[0m \u001b[1m[\u001b[0m\u001b[1;36m38\u001b[0m \u001b[1;35mrows\u001b[0m\u001b[1m(\u001b[0ms\u001b[1m)\u001b[0m\u001b[1m]\u001b[0m                                   \u001b]8;id=148465;file:///usr/local/google/home/codyfincher/Code/database-tools/oracle-database-assessment/src/server/dbma/database.py\u001b\\\u001b[2mdatabase.py\u001b[0m\u001b]8;;\u001b\\\u001b[2m:\u001b[0m\u001b]8;id=326685;file:///usr/local/google/home/codyfincher/Code/database-tools/oracle-database-assessment/src/server/dbma/database.py#160\u001b\\\u001b[2m160\u001b[0m\u001b]8;;\u001b\\\n"
      ]
     },
     "metadata": {},
     "output_type": "display_data"
    },
    {
     "data": {
      "text/html": [
       "<pre style=\"white-space:pre;overflow-x:auto;line-height:normal;font-family:Menlo,'DejaVu Sans Mono',consolas,'Courier New',monospace\"><span style=\"color: #7fbfbf; text-decoration-color: #7fbfbf\">[10/17/22 16:51:04] </span><span style=\"color: #000080; text-decoration-color: #000080\">INFO    </span> delimiter is |                                                         <a href=\"file:///usr/local/google/home/codyfincher/Code/database-tools/oracle-database-assessment/src/server/dbma/database.py\" target=\"_blank\"><span style=\"color: #7f7f7f; text-decoration-color: #7f7f7f\">database.py</span></a><span style=\"color: #7f7f7f; text-decoration-color: #7f7f7f\">:</span><a href=\"file:///usr/local/google/home/codyfincher/Code/database-tools/oracle-database-assessment/src/server/dbma/database.py#153\" target=\"_blank\"><span style=\"color: #7f7f7f; text-decoration-color: #7f7f7f\">153</span></a>\n",
       "</pre>\n"
      ],
      "text/plain": [
       "\u001b[2;36m[10/17/22 16:51:04]\u001b[0m\u001b[2;36m \u001b[0m\u001b[34mINFO    \u001b[0m delimiter is |                                                         \u001b]8;id=675590;file:///usr/local/google/home/codyfincher/Code/database-tools/oracle-database-assessment/src/server/dbma/database.py\u001b\\\u001b[2mdatabase.py\u001b[0m\u001b]8;;\u001b\\\u001b[2m:\u001b[0m\u001b]8;id=630867;file:///usr/local/google/home/codyfincher/Code/database-tools/oracle-database-assessment/src/server/dbma/database.py#153\u001b\\\u001b[2m153\u001b[0m\u001b]8;;\u001b\\\n"
      ]
     },
     "metadata": {},
     "output_type": "display_data"
    },
    {
     "data": {
      "text/html": [
       "<pre style=\"white-space:pre;overflow-x:auto;line-height:normal;font-family:Menlo,'DejaVu Sans Mono',consolas,'Courier New',monospace\"><span style=\"color: #7fbfbf; text-decoration-color: #7fbfbf\">[10/17/22 16:51:04] </span><span style=\"color: #000080; text-decoration-color: #000080\">INFO    </span> <span style=\"color: #808000; text-decoration-color: #808000\">...</span> db_parameters  <span style=\"color: #008000; text-decoration-color: #008000; font-weight: bold\">SUCCESS</span> <span style=\"font-weight: bold\">[</span><span style=\"color: #008080; text-decoration-color: #008080; font-weight: bold\">453</span> <span style=\"color: #800080; text-decoration-color: #800080; font-weight: bold\">rows</span><span style=\"font-weight: bold\">(</span>s<span style=\"font-weight: bold\">)]</span>                               <a href=\"file:///usr/local/google/home/codyfincher/Code/database-tools/oracle-database-assessment/src/server/dbma/database.py\" target=\"_blank\"><span style=\"color: #7f7f7f; text-decoration-color: #7f7f7f\">database.py</span></a><span style=\"color: #7f7f7f; text-decoration-color: #7f7f7f\">:</span><a href=\"file:///usr/local/google/home/codyfincher/Code/database-tools/oracle-database-assessment/src/server/dbma/database.py#160\" target=\"_blank\"><span style=\"color: #7f7f7f; text-decoration-color: #7f7f7f\">160</span></a>\n",
       "</pre>\n"
      ],
      "text/plain": [
       "\u001b[2;36m[10/17/22 16:51:04]\u001b[0m\u001b[2;36m \u001b[0m\u001b[34mINFO    \u001b[0m \u001b[33m...\u001b[0m db_parameters  \u001b[1;32mSUCCESS\u001b[0m \u001b[1m[\u001b[0m\u001b[1;36m453\u001b[0m \u001b[1;35mrows\u001b[0m\u001b[1m(\u001b[0ms\u001b[1m)\u001b[0m\u001b[1m]\u001b[0m                               \u001b]8;id=347836;file:///usr/local/google/home/codyfincher/Code/database-tools/oracle-database-assessment/src/server/dbma/database.py\u001b\\\u001b[2mdatabase.py\u001b[0m\u001b]8;;\u001b\\\u001b[2m:\u001b[0m\u001b]8;id=494276;file:///usr/local/google/home/codyfincher/Code/database-tools/oracle-database-assessment/src/server/dbma/database.py#160\u001b\\\u001b[2m160\u001b[0m\u001b]8;;\u001b\\\n"
      ]
     },
     "metadata": {},
     "output_type": "display_data"
    },
    {
     "data": {
      "text/html": [
       "<pre style=\"white-space:pre;overflow-x:auto;line-height:normal;font-family:Menlo,'DejaVu Sans Mono',consolas,'Courier New',monospace\"><span style=\"color: #7fbfbf; text-decoration-color: #7fbfbf\">[10/17/22 16:51:04] </span><span style=\"color: #000080; text-decoration-color: #000080\">INFO    </span> delimiter is |                                                         <a href=\"file:///usr/local/google/home/codyfincher/Code/database-tools/oracle-database-assessment/src/server/dbma/database.py\" target=\"_blank\"><span style=\"color: #7f7f7f; text-decoration-color: #7f7f7f\">database.py</span></a><span style=\"color: #7f7f7f; text-decoration-color: #7f7f7f\">:</span><a href=\"file:///usr/local/google/home/codyfincher/Code/database-tools/oracle-database-assessment/src/server/dbma/database.py#153\" target=\"_blank\"><span style=\"color: #7f7f7f; text-decoration-color: #7f7f7f\">153</span></a>\n",
       "</pre>\n"
      ],
      "text/plain": [
       "\u001b[2;36m[10/17/22 16:51:04]\u001b[0m\u001b[2;36m \u001b[0m\u001b[34mINFO    \u001b[0m delimiter is |                                                         \u001b]8;id=802033;file:///usr/local/google/home/codyfincher/Code/database-tools/oracle-database-assessment/src/server/dbma/database.py\u001b\\\u001b[2mdatabase.py\u001b[0m\u001b]8;;\u001b\\\u001b[2m:\u001b[0m\u001b]8;id=959070;file:///usr/local/google/home/codyfincher/Code/database-tools/oracle-database-assessment/src/server/dbma/database.py#153\u001b\\\u001b[2m153\u001b[0m\u001b]8;;\u001b\\\n"
      ]
     },
     "metadata": {},
     "output_type": "display_data"
    },
    {
     "data": {
      "text/html": [
       "<pre style=\"white-space:pre;overflow-x:auto;line-height:normal;font-family:Menlo,'DejaVu Sans Mono',consolas,'Courier New',monospace\"><span style=\"color: #7fbfbf; text-decoration-color: #7fbfbf\">[10/17/22 16:51:04] </span><span style=\"color: #000080; text-decoration-color: #000080\">INFO    </span> <span style=\"color: #808000; text-decoration-color: #808000\">...</span> db_summary  <span style=\"color: #008000; text-decoration-color: #008000; font-weight: bold\">SUCCESS</span> <span style=\"font-weight: bold\">[</span><span style=\"color: #008080; text-decoration-color: #008080; font-weight: bold\">1</span> <span style=\"color: #800080; text-decoration-color: #800080; font-weight: bold\">rows</span><span style=\"font-weight: bold\">(</span>s<span style=\"font-weight: bold\">)]</span>                                    <a href=\"file:///usr/local/google/home/codyfincher/Code/database-tools/oracle-database-assessment/src/server/dbma/database.py\" target=\"_blank\"><span style=\"color: #7f7f7f; text-decoration-color: #7f7f7f\">database.py</span></a><span style=\"color: #7f7f7f; text-decoration-color: #7f7f7f\">:</span><a href=\"file:///usr/local/google/home/codyfincher/Code/database-tools/oracle-database-assessment/src/server/dbma/database.py#160\" target=\"_blank\"><span style=\"color: #7f7f7f; text-decoration-color: #7f7f7f\">160</span></a>\n",
       "</pre>\n"
      ],
      "text/plain": [
       "\u001b[2;36m[10/17/22 16:51:04]\u001b[0m\u001b[2;36m \u001b[0m\u001b[34mINFO    \u001b[0m \u001b[33m...\u001b[0m db_summary  \u001b[1;32mSUCCESS\u001b[0m \u001b[1m[\u001b[0m\u001b[1;36m1\u001b[0m \u001b[1;35mrows\u001b[0m\u001b[1m(\u001b[0ms\u001b[1m)\u001b[0m\u001b[1m]\u001b[0m                                    \u001b]8;id=938042;file:///usr/local/google/home/codyfincher/Code/database-tools/oracle-database-assessment/src/server/dbma/database.py\u001b\\\u001b[2mdatabase.py\u001b[0m\u001b]8;;\u001b\\\u001b[2m:\u001b[0m\u001b]8;id=916814;file:///usr/local/google/home/codyfincher/Code/database-tools/oracle-database-assessment/src/server/dbma/database.py#160\u001b\\\u001b[2m160\u001b[0m\u001b]8;;\u001b\\\n"
      ]
     },
     "metadata": {},
     "output_type": "display_data"
    },
    {
     "data": {
      "text/html": [
       "<pre style=\"white-space:pre;overflow-x:auto;line-height:normal;font-family:Menlo,'DejaVu Sans Mono',consolas,'Courier New',monospace\"><span style=\"color: #7fbfbf; text-decoration-color: #7fbfbf\">[10/17/22 16:51:04] </span><span style=\"color: #000080; text-decoration-color: #000080\">INFO    </span> delimiter is |                                                         <a href=\"file:///usr/local/google/home/codyfincher/Code/database-tools/oracle-database-assessment/src/server/dbma/database.py\" target=\"_blank\"><span style=\"color: #7f7f7f; text-decoration-color: #7f7f7f\">database.py</span></a><span style=\"color: #7f7f7f; text-decoration-color: #7f7f7f\">:</span><a href=\"file:///usr/local/google/home/codyfincher/Code/database-tools/oracle-database-assessment/src/server/dbma/database.py#153\" target=\"_blank\"><span style=\"color: #7f7f7f; text-decoration-color: #7f7f7f\">153</span></a>\n",
       "</pre>\n"
      ],
      "text/plain": [
       "\u001b[2;36m[10/17/22 16:51:04]\u001b[0m\u001b[2;36m \u001b[0m\u001b[34mINFO    \u001b[0m delimiter is |                                                         \u001b]8;id=463357;file:///usr/local/google/home/codyfincher/Code/database-tools/oracle-database-assessment/src/server/dbma/database.py\u001b\\\u001b[2mdatabase.py\u001b[0m\u001b]8;;\u001b\\\u001b[2m:\u001b[0m\u001b]8;id=705510;file:///usr/local/google/home/codyfincher/Code/database-tools/oracle-database-assessment/src/server/dbma/database.py#153\u001b\\\u001b[2m153\u001b[0m\u001b]8;;\u001b\\\n"
      ]
     },
     "metadata": {},
     "output_type": "display_data"
    },
    {
     "data": {
      "text/html": [
       "<pre style=\"white-space:pre;overflow-x:auto;line-height:normal;font-family:Menlo,'DejaVu Sans Mono',consolas,'Courier New',monospace\"><span style=\"color: #7fbfbf; text-decoration-color: #7fbfbf\">[10/17/22 16:51:04] </span><span style=\"color: #000080; text-decoration-color: #000080\">INFO    </span> <span style=\"color: #808000; text-decoration-color: #808000\">...</span> db_external_tables  <span style=\"color: #008000; text-decoration-color: #008000; font-weight: bold\">SUCCESS</span> <span style=\"font-weight: bold\">[</span><span style=\"color: #008080; text-decoration-color: #008080; font-weight: bold\">1</span> <span style=\"color: #800080; text-decoration-color: #800080; font-weight: bold\">rows</span><span style=\"font-weight: bold\">(</span>s<span style=\"font-weight: bold\">)]</span>                            <a href=\"file:///usr/local/google/home/codyfincher/Code/database-tools/oracle-database-assessment/src/server/dbma/database.py\" target=\"_blank\"><span style=\"color: #7f7f7f; text-decoration-color: #7f7f7f\">database.py</span></a><span style=\"color: #7f7f7f; text-decoration-color: #7f7f7f\">:</span><a href=\"file:///usr/local/google/home/codyfincher/Code/database-tools/oracle-database-assessment/src/server/dbma/database.py#160\" target=\"_blank\"><span style=\"color: #7f7f7f; text-decoration-color: #7f7f7f\">160</span></a>\n",
       "</pre>\n"
      ],
      "text/plain": [
       "\u001b[2;36m[10/17/22 16:51:04]\u001b[0m\u001b[2;36m \u001b[0m\u001b[34mINFO    \u001b[0m \u001b[33m...\u001b[0m db_external_tables  \u001b[1;32mSUCCESS\u001b[0m \u001b[1m[\u001b[0m\u001b[1;36m1\u001b[0m \u001b[1;35mrows\u001b[0m\u001b[1m(\u001b[0ms\u001b[1m)\u001b[0m\u001b[1m]\u001b[0m                            \u001b]8;id=878225;file:///usr/local/google/home/codyfincher/Code/database-tools/oracle-database-assessment/src/server/dbma/database.py\u001b\\\u001b[2mdatabase.py\u001b[0m\u001b]8;;\u001b\\\u001b[2m:\u001b[0m\u001b]8;id=398304;file:///usr/local/google/home/codyfincher/Code/database-tools/oracle-database-assessment/src/server/dbma/database.py#160\u001b\\\u001b[2m160\u001b[0m\u001b]8;;\u001b\\\n"
      ]
     },
     "metadata": {},
     "output_type": "display_data"
    },
    {
     "data": {
      "text/html": [
       "<pre style=\"white-space:pre;overflow-x:auto;line-height:normal;font-family:Menlo,'DejaVu Sans Mono',consolas,'Courier New',monospace\"><span style=\"color: #7fbfbf; text-decoration-color: #7fbfbf\">[10/17/22 16:51:04] </span><span style=\"color: #000080; text-decoration-color: #000080\">INFO    </span> delimiter is |                                                         <a href=\"file:///usr/local/google/home/codyfincher/Code/database-tools/oracle-database-assessment/src/server/dbma/database.py\" target=\"_blank\"><span style=\"color: #7f7f7f; text-decoration-color: #7f7f7f\">database.py</span></a><span style=\"color: #7f7f7f; text-decoration-color: #7f7f7f\">:</span><a href=\"file:///usr/local/google/home/codyfincher/Code/database-tools/oracle-database-assessment/src/server/dbma/database.py#153\" target=\"_blank\"><span style=\"color: #7f7f7f; text-decoration-color: #7f7f7f\">153</span></a>\n",
       "</pre>\n"
      ],
      "text/plain": [
       "\u001b[2;36m[10/17/22 16:51:04]\u001b[0m\u001b[2;36m \u001b[0m\u001b[34mINFO    \u001b[0m delimiter is |                                                         \u001b]8;id=619398;file:///usr/local/google/home/codyfincher/Code/database-tools/oracle-database-assessment/src/server/dbma/database.py\u001b\\\u001b[2mdatabase.py\u001b[0m\u001b]8;;\u001b\\\u001b[2m:\u001b[0m\u001b]8;id=504165;file:///usr/local/google/home/codyfincher/Code/database-tools/oracle-database-assessment/src/server/dbma/database.py#153\u001b\\\u001b[2m153\u001b[0m\u001b]8;;\u001b\\\n"
      ]
     },
     "metadata": {},
     "output_type": "display_data"
    },
    {
     "data": {
      "text/html": [
       "<pre style=\"white-space:pre;overflow-x:auto;line-height:normal;font-family:Menlo,'DejaVu Sans Mono',consolas,'Courier New',monospace\"><span style=\"color: #7fbfbf; text-decoration-color: #7fbfbf\">[10/17/22 16:51:04] </span><span style=\"color: #000080; text-decoration-color: #000080\">INFO    </span> <span style=\"color: #808000; text-decoration-color: #808000\">...</span> index_per_table  <span style=\"color: #008000; text-decoration-color: #008000; font-weight: bold\">SUCCESS</span> <span style=\"font-weight: bold\">[</span><span style=\"color: #008080; text-decoration-color: #008080; font-weight: bold\">6</span> <span style=\"color: #800080; text-decoration-color: #800080; font-weight: bold\">rows</span><span style=\"font-weight: bold\">(</span>s<span style=\"font-weight: bold\">)]</span>                               <a href=\"file:///usr/local/google/home/codyfincher/Code/database-tools/oracle-database-assessment/src/server/dbma/database.py\" target=\"_blank\"><span style=\"color: #7f7f7f; text-decoration-color: #7f7f7f\">database.py</span></a><span style=\"color: #7f7f7f; text-decoration-color: #7f7f7f\">:</span><a href=\"file:///usr/local/google/home/codyfincher/Code/database-tools/oracle-database-assessment/src/server/dbma/database.py#160\" target=\"_blank\"><span style=\"color: #7f7f7f; text-decoration-color: #7f7f7f\">160</span></a>\n",
       "</pre>\n"
      ],
      "text/plain": [
       "\u001b[2;36m[10/17/22 16:51:04]\u001b[0m\u001b[2;36m \u001b[0m\u001b[34mINFO    \u001b[0m \u001b[33m...\u001b[0m index_per_table  \u001b[1;32mSUCCESS\u001b[0m \u001b[1m[\u001b[0m\u001b[1;36m6\u001b[0m \u001b[1;35mrows\u001b[0m\u001b[1m(\u001b[0ms\u001b[1m)\u001b[0m\u001b[1m]\u001b[0m                               \u001b]8;id=684310;file:///usr/local/google/home/codyfincher/Code/database-tools/oracle-database-assessment/src/server/dbma/database.py\u001b\\\u001b[2mdatabase.py\u001b[0m\u001b]8;;\u001b\\\u001b[2m:\u001b[0m\u001b]8;id=392318;file:///usr/local/google/home/codyfincher/Code/database-tools/oracle-database-assessment/src/server/dbma/database.py#160\u001b\\\u001b[2m160\u001b[0m\u001b]8;;\u001b\\\n"
      ]
     },
     "metadata": {},
     "output_type": "display_data"
    },
    {
     "data": {
      "text/html": [
       "<pre style=\"white-space:pre;overflow-x:auto;line-height:normal;font-family:Menlo,'DejaVu Sans Mono',consolas,'Courier New',monospace\"><span style=\"color: #7fbfbf; text-decoration-color: #7fbfbf\">[10/17/22 16:51:04] </span><span style=\"color: #000080; text-decoration-color: #000080\">INFO    </span> delimiter is |                                                         <a href=\"file:///usr/local/google/home/codyfincher/Code/database-tools/oracle-database-assessment/src/server/dbma/database.py\" target=\"_blank\"><span style=\"color: #7f7f7f; text-decoration-color: #7f7f7f\">database.py</span></a><span style=\"color: #7f7f7f; text-decoration-color: #7f7f7f\">:</span><a href=\"file:///usr/local/google/home/codyfincher/Code/database-tools/oracle-database-assessment/src/server/dbma/database.py#153\" target=\"_blank\"><span style=\"color: #7f7f7f; text-decoration-color: #7f7f7f\">153</span></a>\n",
       "</pre>\n"
      ],
      "text/plain": [
       "\u001b[2;36m[10/17/22 16:51:04]\u001b[0m\u001b[2;36m \u001b[0m\u001b[34mINFO    \u001b[0m delimiter is |                                                         \u001b]8;id=415515;file:///usr/local/google/home/codyfincher/Code/database-tools/oracle-database-assessment/src/server/dbma/database.py\u001b\\\u001b[2mdatabase.py\u001b[0m\u001b]8;;\u001b\\\u001b[2m:\u001b[0m\u001b]8;id=536233;file:///usr/local/google/home/codyfincher/Code/database-tools/oracle-database-assessment/src/server/dbma/database.py#153\u001b\\\u001b[2m153\u001b[0m\u001b]8;;\u001b\\\n"
      ]
     },
     "metadata": {},
     "output_type": "display_data"
    },
    {
     "data": {
      "text/html": [
       "<pre style=\"white-space:pre;overflow-x:auto;line-height:normal;font-family:Menlo,'DejaVu Sans Mono',consolas,'Courier New',monospace\"><span style=\"color: #7fbfbf; text-decoration-color: #7fbfbf\">[10/17/22 16:51:04] </span><span style=\"color: #000080; text-decoration-color: #000080\">INFO    </span> <span style=\"color: #808000; text-decoration-color: #808000\">...</span> index_types  <span style=\"color: #008000; text-decoration-color: #008000; font-weight: bold\">SUCCESS</span> <span style=\"font-weight: bold\">[</span><span style=\"color: #008080; text-decoration-color: #008080; font-weight: bold\">7</span> <span style=\"color: #800080; text-decoration-color: #800080; font-weight: bold\">rows</span><span style=\"font-weight: bold\">(</span>s<span style=\"font-weight: bold\">)]</span>                                   <a href=\"file:///usr/local/google/home/codyfincher/Code/database-tools/oracle-database-assessment/src/server/dbma/database.py\" target=\"_blank\"><span style=\"color: #7f7f7f; text-decoration-color: #7f7f7f\">database.py</span></a><span style=\"color: #7f7f7f; text-decoration-color: #7f7f7f\">:</span><a href=\"file:///usr/local/google/home/codyfincher/Code/database-tools/oracle-database-assessment/src/server/dbma/database.py#160\" target=\"_blank\"><span style=\"color: #7f7f7f; text-decoration-color: #7f7f7f\">160</span></a>\n",
       "</pre>\n"
      ],
      "text/plain": [
       "\u001b[2;36m[10/17/22 16:51:04]\u001b[0m\u001b[2;36m \u001b[0m\u001b[34mINFO    \u001b[0m \u001b[33m...\u001b[0m index_types  \u001b[1;32mSUCCESS\u001b[0m \u001b[1m[\u001b[0m\u001b[1;36m7\u001b[0m \u001b[1;35mrows\u001b[0m\u001b[1m(\u001b[0ms\u001b[1m)\u001b[0m\u001b[1m]\u001b[0m                                   \u001b]8;id=709249;file:///usr/local/google/home/codyfincher/Code/database-tools/oracle-database-assessment/src/server/dbma/database.py\u001b\\\u001b[2mdatabase.py\u001b[0m\u001b]8;;\u001b\\\u001b[2m:\u001b[0m\u001b]8;id=610425;file:///usr/local/google/home/codyfincher/Code/database-tools/oracle-database-assessment/src/server/dbma/database.py#160\u001b\\\u001b[2m160\u001b[0m\u001b]8;;\u001b\\\n"
      ]
     },
     "metadata": {},
     "output_type": "display_data"
    },
    {
     "data": {
      "text/html": [
       "<pre style=\"white-space:pre;overflow-x:auto;line-height:normal;font-family:Menlo,'DejaVu Sans Mono',consolas,'Courier New',monospace\"><span style=\"color: #7fbfbf; text-decoration-color: #7fbfbf\">[10/17/22 16:51:04] </span><span style=\"color: #000080; text-decoration-color: #000080\">INFO    </span> delimiter is |                                                         <a href=\"file:///usr/local/google/home/codyfincher/Code/database-tools/oracle-database-assessment/src/server/dbma/database.py\" target=\"_blank\"><span style=\"color: #7f7f7f; text-decoration-color: #7f7f7f\">database.py</span></a><span style=\"color: #7f7f7f; text-decoration-color: #7f7f7f\">:</span><a href=\"file:///usr/local/google/home/codyfincher/Code/database-tools/oracle-database-assessment/src/server/dbma/database.py#153\" target=\"_blank\"><span style=\"color: #7f7f7f; text-decoration-color: #7f7f7f\">153</span></a>\n",
       "</pre>\n"
      ],
      "text/plain": [
       "\u001b[2;36m[10/17/22 16:51:04]\u001b[0m\u001b[2;36m \u001b[0m\u001b[34mINFO    \u001b[0m delimiter is |                                                         \u001b]8;id=739169;file:///usr/local/google/home/codyfincher/Code/database-tools/oracle-database-assessment/src/server/dbma/database.py\u001b\\\u001b[2mdatabase.py\u001b[0m\u001b]8;;\u001b\\\u001b[2m:\u001b[0m\u001b]8;id=699430;file:///usr/local/google/home/codyfincher/Code/database-tools/oracle-database-assessment/src/server/dbma/database.py#153\u001b\\\u001b[2m153\u001b[0m\u001b]8;;\u001b\\\n"
      ]
     },
     "metadata": {},
     "output_type": "display_data"
    },
    {
     "data": {
      "text/html": [
       "<pre style=\"white-space:pre;overflow-x:auto;line-height:normal;font-family:Menlo,'DejaVu Sans Mono',consolas,'Courier New',monospace\"><span style=\"color: #7fbfbf; text-decoration-color: #7fbfbf\">[10/17/22 16:51:04] </span><span style=\"color: #000080; text-decoration-color: #000080\">INFO    </span> <span style=\"color: #808000; text-decoration-color: #808000\">...</span> io_events  <span style=\"color: #008000; text-decoration-color: #008000; font-weight: bold\">SUCCESS</span> <span style=\"font-weight: bold\">[</span><span style=\"color: #008080; text-decoration-color: #008080; font-weight: bold\">648</span> <span style=\"color: #800080; text-decoration-color: #800080; font-weight: bold\">rows</span><span style=\"font-weight: bold\">(</span>s<span style=\"font-weight: bold\">)]</span>                                   <a href=\"file:///usr/local/google/home/codyfincher/Code/database-tools/oracle-database-assessment/src/server/dbma/database.py\" target=\"_blank\"><span style=\"color: #7f7f7f; text-decoration-color: #7f7f7f\">database.py</span></a><span style=\"color: #7f7f7f; text-decoration-color: #7f7f7f\">:</span><a href=\"file:///usr/local/google/home/codyfincher/Code/database-tools/oracle-database-assessment/src/server/dbma/database.py#160\" target=\"_blank\"><span style=\"color: #7f7f7f; text-decoration-color: #7f7f7f\">160</span></a>\n",
       "</pre>\n"
      ],
      "text/plain": [
       "\u001b[2;36m[10/17/22 16:51:04]\u001b[0m\u001b[2;36m \u001b[0m\u001b[34mINFO    \u001b[0m \u001b[33m...\u001b[0m io_events  \u001b[1;32mSUCCESS\u001b[0m \u001b[1m[\u001b[0m\u001b[1;36m648\u001b[0m \u001b[1;35mrows\u001b[0m\u001b[1m(\u001b[0ms\u001b[1m)\u001b[0m\u001b[1m]\u001b[0m                                   \u001b]8;id=644039;file:///usr/local/google/home/codyfincher/Code/database-tools/oracle-database-assessment/src/server/dbma/database.py\u001b\\\u001b[2mdatabase.py\u001b[0m\u001b]8;;\u001b\\\u001b[2m:\u001b[0m\u001b]8;id=645439;file:///usr/local/google/home/codyfincher/Code/database-tools/oracle-database-assessment/src/server/dbma/database.py#160\u001b\\\u001b[2m160\u001b[0m\u001b]8;;\u001b\\\n"
      ]
     },
     "metadata": {},
     "output_type": "display_data"
    },
    {
     "data": {
      "text/html": [
       "<pre style=\"white-space:pre;overflow-x:auto;line-height:normal;font-family:Menlo,'DejaVu Sans Mono',consolas,'Courier New',monospace\"><span style=\"color: #7fbfbf; text-decoration-color: #7fbfbf\">[10/17/22 16:51:04] </span><span style=\"color: #000080; text-decoration-color: #000080\">INFO    </span> delimiter is |                                                         <a href=\"file:///usr/local/google/home/codyfincher/Code/database-tools/oracle-database-assessment/src/server/dbma/database.py\" target=\"_blank\"><span style=\"color: #7f7f7f; text-decoration-color: #7f7f7f\">database.py</span></a><span style=\"color: #7f7f7f; text-decoration-color: #7f7f7f\">:</span><a href=\"file:///usr/local/google/home/codyfincher/Code/database-tools/oracle-database-assessment/src/server/dbma/database.py#153\" target=\"_blank\"><span style=\"color: #7f7f7f; text-decoration-color: #7f7f7f\">153</span></a>\n",
       "</pre>\n"
      ],
      "text/plain": [
       "\u001b[2;36m[10/17/22 16:51:04]\u001b[0m\u001b[2;36m \u001b[0m\u001b[34mINFO    \u001b[0m delimiter is |                                                         \u001b]8;id=691558;file:///usr/local/google/home/codyfincher/Code/database-tools/oracle-database-assessment/src/server/dbma/database.py\u001b\\\u001b[2mdatabase.py\u001b[0m\u001b]8;;\u001b\\\u001b[2m:\u001b[0m\u001b]8;id=36633;file:///usr/local/google/home/codyfincher/Code/database-tools/oracle-database-assessment/src/server/dbma/database.py#153\u001b\\\u001b[2m153\u001b[0m\u001b]8;;\u001b\\\n"
      ]
     },
     "metadata": {},
     "output_type": "display_data"
    },
    {
     "data": {
      "text/html": [
       "<pre style=\"white-space:pre;overflow-x:auto;line-height:normal;font-family:Menlo,'DejaVu Sans Mono',consolas,'Courier New',monospace\"><span style=\"color: #7fbfbf; text-decoration-color: #7fbfbf\">[10/17/22 16:51:04] </span><span style=\"color: #000080; text-decoration-color: #000080\">INFO    </span> <span style=\"color: #808000; text-decoration-color: #808000\">...</span> io_function  <span style=\"color: #008000; text-decoration-color: #008000; font-weight: bold\">SUCCESS</span> <span style=\"font-weight: bold\">[</span><span style=\"color: #008080; text-decoration-color: #008080; font-weight: bold\">360</span> <span style=\"color: #800080; text-decoration-color: #800080; font-weight: bold\">rows</span><span style=\"font-weight: bold\">(</span>s<span style=\"font-weight: bold\">)]</span>                                 <a href=\"file:///usr/local/google/home/codyfincher/Code/database-tools/oracle-database-assessment/src/server/dbma/database.py\" target=\"_blank\"><span style=\"color: #7f7f7f; text-decoration-color: #7f7f7f\">database.py</span></a><span style=\"color: #7f7f7f; text-decoration-color: #7f7f7f\">:</span><a href=\"file:///usr/local/google/home/codyfincher/Code/database-tools/oracle-database-assessment/src/server/dbma/database.py#160\" target=\"_blank\"><span style=\"color: #7f7f7f; text-decoration-color: #7f7f7f\">160</span></a>\n",
       "</pre>\n"
      ],
      "text/plain": [
       "\u001b[2;36m[10/17/22 16:51:04]\u001b[0m\u001b[2;36m \u001b[0m\u001b[34mINFO    \u001b[0m \u001b[33m...\u001b[0m io_function  \u001b[1;32mSUCCESS\u001b[0m \u001b[1m[\u001b[0m\u001b[1;36m360\u001b[0m \u001b[1;35mrows\u001b[0m\u001b[1m(\u001b[0ms\u001b[1m)\u001b[0m\u001b[1m]\u001b[0m                                 \u001b]8;id=634779;file:///usr/local/google/home/codyfincher/Code/database-tools/oracle-database-assessment/src/server/dbma/database.py\u001b\\\u001b[2mdatabase.py\u001b[0m\u001b]8;;\u001b\\\u001b[2m:\u001b[0m\u001b]8;id=888220;file:///usr/local/google/home/codyfincher/Code/database-tools/oracle-database-assessment/src/server/dbma/database.py#160\u001b\\\u001b[2m160\u001b[0m\u001b]8;;\u001b\\\n"
      ]
     },
     "metadata": {},
     "output_type": "display_data"
    },
    {
     "data": {
      "text/html": [
       "<pre style=\"white-space:pre;overflow-x:auto;line-height:normal;font-family:Menlo,'DejaVu Sans Mono',consolas,'Courier New',monospace\"><span style=\"color: #7fbfbf; text-decoration-color: #7fbfbf\">[10/17/22 16:51:04] </span><span style=\"color: #000080; text-decoration-color: #000080\">INFO    </span> delimiter is |                                                         <a href=\"file:///usr/local/google/home/codyfincher/Code/database-tools/oracle-database-assessment/src/server/dbma/database.py\" target=\"_blank\"><span style=\"color: #7f7f7f; text-decoration-color: #7f7f7f\">database.py</span></a><span style=\"color: #7f7f7f; text-decoration-color: #7f7f7f\">:</span><a href=\"file:///usr/local/google/home/codyfincher/Code/database-tools/oracle-database-assessment/src/server/dbma/database.py#153\" target=\"_blank\"><span style=\"color: #7f7f7f; text-decoration-color: #7f7f7f\">153</span></a>\n",
       "</pre>\n"
      ],
      "text/plain": [
       "\u001b[2;36m[10/17/22 16:51:04]\u001b[0m\u001b[2;36m \u001b[0m\u001b[34mINFO    \u001b[0m delimiter is |                                                         \u001b]8;id=177013;file:///usr/local/google/home/codyfincher/Code/database-tools/oracle-database-assessment/src/server/dbma/database.py\u001b\\\u001b[2mdatabase.py\u001b[0m\u001b]8;;\u001b\\\u001b[2m:\u001b[0m\u001b]8;id=338331;file:///usr/local/google/home/codyfincher/Code/database-tools/oracle-database-assessment/src/server/dbma/database.py#153\u001b\\\u001b[2m153\u001b[0m\u001b]8;;\u001b\\\n"
      ]
     },
     "metadata": {},
     "output_type": "display_data"
    },
    {
     "data": {
      "text/html": [
       "<pre style=\"white-space:pre;overflow-x:auto;line-height:normal;font-family:Menlo,'DejaVu Sans Mono',consolas,'Courier New',monospace\"><span style=\"color: #7fbfbf; text-decoration-color: #7fbfbf\">[10/17/22 16:51:04] </span><span style=\"color: #000080; text-decoration-color: #000080\">INFO    </span> <span style=\"color: #808000; text-decoration-color: #808000\">...</span> pdbs_info  <span style=\"color: #7f7f7f; text-decoration-color: #7f7f7f; font-weight: bold\">SKIPPED</span>                                                 <a href=\"file:///usr/local/google/home/codyfincher/Code/database-tools/oracle-database-assessment/src/server/dbma/database.py\" target=\"_blank\"><span style=\"color: #7f7f7f; text-decoration-color: #7f7f7f\">database.py</span></a><span style=\"color: #7f7f7f; text-decoration-color: #7f7f7f\">:</span><a href=\"file:///usr/local/google/home/codyfincher/Code/database-tools/oracle-database-assessment/src/server/dbma/database.py#163\" target=\"_blank\"><span style=\"color: #7f7f7f; text-decoration-color: #7f7f7f\">163</span></a>\n",
       "</pre>\n"
      ],
      "text/plain": [
       "\u001b[2;36m[10/17/22 16:51:04]\u001b[0m\u001b[2;36m \u001b[0m\u001b[34mINFO    \u001b[0m \u001b[33m...\u001b[0m pdbs_info  \u001b[1;2mSKIPPED\u001b[0m                                                 \u001b]8;id=639301;file:///usr/local/google/home/codyfincher/Code/database-tools/oracle-database-assessment/src/server/dbma/database.py\u001b\\\u001b[2mdatabase.py\u001b[0m\u001b]8;;\u001b\\\u001b[2m:\u001b[0m\u001b]8;id=38433;file:///usr/local/google/home/codyfincher/Code/database-tools/oracle-database-assessment/src/server/dbma/database.py#163\u001b\\\u001b[2m163\u001b[0m\u001b]8;;\u001b\\\n"
      ]
     },
     "metadata": {},
     "output_type": "display_data"
    },
    {
     "data": {
      "text/html": [
       "<pre style=\"white-space:pre;overflow-x:auto;line-height:normal;font-family:Menlo,'DejaVu Sans Mono',consolas,'Courier New',monospace\"><span style=\"color: #7fbfbf; text-decoration-color: #7fbfbf\">[10/17/22 16:51:04] </span><span style=\"color: #000080; text-decoration-color: #000080\">INFO    </span> delimiter is |                                                         <a href=\"file:///usr/local/google/home/codyfincher/Code/database-tools/oracle-database-assessment/src/server/dbma/database.py\" target=\"_blank\"><span style=\"color: #7f7f7f; text-decoration-color: #7f7f7f\">database.py</span></a><span style=\"color: #7f7f7f; text-decoration-color: #7f7f7f\">:</span><a href=\"file:///usr/local/google/home/codyfincher/Code/database-tools/oracle-database-assessment/src/server/dbma/database.py#153\" target=\"_blank\"><span style=\"color: #7f7f7f; text-decoration-color: #7f7f7f\">153</span></a>\n",
       "</pre>\n"
      ],
      "text/plain": [
       "\u001b[2;36m[10/17/22 16:51:04]\u001b[0m\u001b[2;36m \u001b[0m\u001b[34mINFO    \u001b[0m delimiter is |                                                         \u001b]8;id=155731;file:///usr/local/google/home/codyfincher/Code/database-tools/oracle-database-assessment/src/server/dbma/database.py\u001b\\\u001b[2mdatabase.py\u001b[0m\u001b]8;;\u001b\\\u001b[2m:\u001b[0m\u001b]8;id=313902;file:///usr/local/google/home/codyfincher/Code/database-tools/oracle-database-assessment/src/server/dbma/database.py#153\u001b\\\u001b[2m153\u001b[0m\u001b]8;;\u001b\\\n"
      ]
     },
     "metadata": {},
     "output_type": "display_data"
    },
    {
     "data": {
      "text/html": [
       "<pre style=\"white-space:pre;overflow-x:auto;line-height:normal;font-family:Menlo,'DejaVu Sans Mono',consolas,'Courier New',monospace\"><span style=\"color: #7fbfbf; text-decoration-color: #7fbfbf\">[10/17/22 16:51:04] </span><span style=\"color: #000080; text-decoration-color: #000080\">INFO    </span> <span style=\"color: #808000; text-decoration-color: #808000\">...</span> pdbs_in_open_mode  <span style=\"color: #7f7f7f; text-decoration-color: #7f7f7f; font-weight: bold\">SKIPPED</span>                                         <a href=\"file:///usr/local/google/home/codyfincher/Code/database-tools/oracle-database-assessment/src/server/dbma/database.py\" target=\"_blank\"><span style=\"color: #7f7f7f; text-decoration-color: #7f7f7f\">database.py</span></a><span style=\"color: #7f7f7f; text-decoration-color: #7f7f7f\">:</span><a href=\"file:///usr/local/google/home/codyfincher/Code/database-tools/oracle-database-assessment/src/server/dbma/database.py#163\" target=\"_blank\"><span style=\"color: #7f7f7f; text-decoration-color: #7f7f7f\">163</span></a>\n",
       "</pre>\n"
      ],
      "text/plain": [
       "\u001b[2;36m[10/17/22 16:51:04]\u001b[0m\u001b[2;36m \u001b[0m\u001b[34mINFO    \u001b[0m \u001b[33m...\u001b[0m pdbs_in_open_mode  \u001b[1;2mSKIPPED\u001b[0m                                         \u001b]8;id=22641;file:///usr/local/google/home/codyfincher/Code/database-tools/oracle-database-assessment/src/server/dbma/database.py\u001b\\\u001b[2mdatabase.py\u001b[0m\u001b]8;;\u001b\\\u001b[2m:\u001b[0m\u001b]8;id=578033;file:///usr/local/google/home/codyfincher/Code/database-tools/oracle-database-assessment/src/server/dbma/database.py#163\u001b\\\u001b[2m163\u001b[0m\u001b]8;;\u001b\\\n"
      ]
     },
     "metadata": {},
     "output_type": "display_data"
    },
    {
     "data": {
      "text/html": [
       "<pre style=\"white-space:pre;overflow-x:auto;line-height:normal;font-family:Menlo,'DejaVu Sans Mono',consolas,'Courier New',monospace\"><span style=\"color: #7fbfbf; text-decoration-color: #7fbfbf\">[10/17/22 16:51:04] </span><span style=\"color: #000080; text-decoration-color: #000080\">INFO    </span> delimiter is |                                                         <a href=\"file:///usr/local/google/home/codyfincher/Code/database-tools/oracle-database-assessment/src/server/dbma/database.py\" target=\"_blank\"><span style=\"color: #7f7f7f; text-decoration-color: #7f7f7f\">database.py</span></a><span style=\"color: #7f7f7f; text-decoration-color: #7f7f7f\">:</span><a href=\"file:///usr/local/google/home/codyfincher/Code/database-tools/oracle-database-assessment/src/server/dbma/database.py#153\" target=\"_blank\"><span style=\"color: #7f7f7f; text-decoration-color: #7f7f7f\">153</span></a>\n",
       "</pre>\n"
      ],
      "text/plain": [
       "\u001b[2;36m[10/17/22 16:51:04]\u001b[0m\u001b[2;36m \u001b[0m\u001b[34mINFO    \u001b[0m delimiter is |                                                         \u001b]8;id=402451;file:///usr/local/google/home/codyfincher/Code/database-tools/oracle-database-assessment/src/server/dbma/database.py\u001b\\\u001b[2mdatabase.py\u001b[0m\u001b]8;;\u001b\\\u001b[2m:\u001b[0m\u001b]8;id=979411;file:///usr/local/google/home/codyfincher/Code/database-tools/oracle-database-assessment/src/server/dbma/database.py#153\u001b\\\u001b[2m153\u001b[0m\u001b]8;;\u001b\\\n"
      ]
     },
     "metadata": {},
     "output_type": "display_data"
    },
    {
     "data": {
      "text/html": [
       "<pre style=\"white-space:pre;overflow-x:auto;line-height:normal;font-family:Menlo,'DejaVu Sans Mono',consolas,'Courier New',monospace\"><span style=\"color: #7fbfbf; text-decoration-color: #7fbfbf\">[10/17/22 16:51:04] </span><span style=\"color: #000080; text-decoration-color: #000080\">INFO    </span> <span style=\"color: #808000; text-decoration-color: #808000\">...</span> db_source_code  <span style=\"color: #008000; text-decoration-color: #008000; font-weight: bold\">SUCCESS</span> <span style=\"font-weight: bold\">[</span><span style=\"color: #008080; text-decoration-color: #008080; font-weight: bold\">5</span> <span style=\"color: #800080; text-decoration-color: #800080; font-weight: bold\">rows</span><span style=\"font-weight: bold\">(</span>s<span style=\"font-weight: bold\">)]</span>                                <a href=\"file:///usr/local/google/home/codyfincher/Code/database-tools/oracle-database-assessment/src/server/dbma/database.py\" target=\"_blank\"><span style=\"color: #7f7f7f; text-decoration-color: #7f7f7f\">database.py</span></a><span style=\"color: #7f7f7f; text-decoration-color: #7f7f7f\">:</span><a href=\"file:///usr/local/google/home/codyfincher/Code/database-tools/oracle-database-assessment/src/server/dbma/database.py#160\" target=\"_blank\"><span style=\"color: #7f7f7f; text-decoration-color: #7f7f7f\">160</span></a>\n",
       "</pre>\n"
      ],
      "text/plain": [
       "\u001b[2;36m[10/17/22 16:51:04]\u001b[0m\u001b[2;36m \u001b[0m\u001b[34mINFO    \u001b[0m \u001b[33m...\u001b[0m db_source_code  \u001b[1;32mSUCCESS\u001b[0m \u001b[1m[\u001b[0m\u001b[1;36m5\u001b[0m \u001b[1;35mrows\u001b[0m\u001b[1m(\u001b[0ms\u001b[1m)\u001b[0m\u001b[1m]\u001b[0m                                \u001b]8;id=392746;file:///usr/local/google/home/codyfincher/Code/database-tools/oracle-database-assessment/src/server/dbma/database.py\u001b\\\u001b[2mdatabase.py\u001b[0m\u001b]8;;\u001b\\\u001b[2m:\u001b[0m\u001b]8;id=913226;file:///usr/local/google/home/codyfincher/Code/database-tools/oracle-database-assessment/src/server/dbma/database.py#160\u001b\\\u001b[2m160\u001b[0m\u001b]8;;\u001b\\\n"
      ]
     },
     "metadata": {},
     "output_type": "display_data"
    },
    {
     "data": {
      "text/html": [
       "<pre style=\"white-space:pre;overflow-x:auto;line-height:normal;font-family:Menlo,'DejaVu Sans Mono',consolas,'Courier New',monospace\"><span style=\"color: #7fbfbf; text-decoration-color: #7fbfbf\">[10/17/22 16:51:04] </span><span style=\"color: #000080; text-decoration-color: #000080\">INFO    </span> delimiter is |                                                         <a href=\"file:///usr/local/google/home/codyfincher/Code/database-tools/oracle-database-assessment/src/server/dbma/database.py\" target=\"_blank\"><span style=\"color: #7f7f7f; text-decoration-color: #7f7f7f\">database.py</span></a><span style=\"color: #7f7f7f; text-decoration-color: #7f7f7f\">:</span><a href=\"file:///usr/local/google/home/codyfincher/Code/database-tools/oracle-database-assessment/src/server/dbma/database.py#153\" target=\"_blank\"><span style=\"color: #7f7f7f; text-decoration-color: #7f7f7f\">153</span></a>\n",
       "</pre>\n"
      ],
      "text/plain": [
       "\u001b[2;36m[10/17/22 16:51:04]\u001b[0m\u001b[2;36m \u001b[0m\u001b[34mINFO    \u001b[0m delimiter is |                                                         \u001b]8;id=759540;file:///usr/local/google/home/codyfincher/Code/database-tools/oracle-database-assessment/src/server/dbma/database.py\u001b\\\u001b[2mdatabase.py\u001b[0m\u001b]8;;\u001b\\\u001b[2m:\u001b[0m\u001b]8;id=516668;file:///usr/local/google/home/codyfincher/Code/database-tools/oracle-database-assessment/src/server/dbma/database.py#153\u001b\\\u001b[2m153\u001b[0m\u001b]8;;\u001b\\\n"
      ]
     },
     "metadata": {},
     "output_type": "display_data"
    },
    {
     "data": {
      "text/html": [
       "<pre style=\"white-space:pre;overflow-x:auto;line-height:normal;font-family:Menlo,'DejaVu Sans Mono',consolas,'Courier New',monospace\"><span style=\"color: #7fbfbf; text-decoration-color: #7fbfbf\">[10/17/22 16:51:04] </span><span style=\"color: #000080; text-decoration-color: #000080\">INFO    </span> <span style=\"color: #808000; text-decoration-color: #808000\">...</span> db_source_connections  <span style=\"color: #008000; text-decoration-color: #008000; font-weight: bold\">SUCCESS</span> <span style=\"font-weight: bold\">[</span><span style=\"color: #008080; text-decoration-color: #008080; font-weight: bold\">61</span> <span style=\"color: #800080; text-decoration-color: #800080; font-weight: bold\">rows</span><span style=\"font-weight: bold\">(</span>s<span style=\"font-weight: bold\">)]</span>                        <a href=\"file:///usr/local/google/home/codyfincher/Code/database-tools/oracle-database-assessment/src/server/dbma/database.py\" target=\"_blank\"><span style=\"color: #7f7f7f; text-decoration-color: #7f7f7f\">database.py</span></a><span style=\"color: #7f7f7f; text-decoration-color: #7f7f7f\">:</span><a href=\"file:///usr/local/google/home/codyfincher/Code/database-tools/oracle-database-assessment/src/server/dbma/database.py#160\" target=\"_blank\"><span style=\"color: #7f7f7f; text-decoration-color: #7f7f7f\">160</span></a>\n",
       "</pre>\n"
      ],
      "text/plain": [
       "\u001b[2;36m[10/17/22 16:51:04]\u001b[0m\u001b[2;36m \u001b[0m\u001b[34mINFO    \u001b[0m \u001b[33m...\u001b[0m db_source_connections  \u001b[1;32mSUCCESS\u001b[0m \u001b[1m[\u001b[0m\u001b[1;36m61\u001b[0m \u001b[1;35mrows\u001b[0m\u001b[1m(\u001b[0ms\u001b[1m)\u001b[0m\u001b[1m]\u001b[0m                        \u001b]8;id=817543;file:///usr/local/google/home/codyfincher/Code/database-tools/oracle-database-assessment/src/server/dbma/database.py\u001b\\\u001b[2mdatabase.py\u001b[0m\u001b]8;;\u001b\\\u001b[2m:\u001b[0m\u001b]8;id=863653;file:///usr/local/google/home/codyfincher/Code/database-tools/oracle-database-assessment/src/server/dbma/database.py#160\u001b\\\u001b[2m160\u001b[0m\u001b]8;;\u001b\\\n"
      ]
     },
     "metadata": {},
     "output_type": "display_data"
    },
    {
     "data": {
      "text/html": [
       "<pre style=\"white-space:pre;overflow-x:auto;line-height:normal;font-family:Menlo,'DejaVu Sans Mono',consolas,'Courier New',monospace\"><span style=\"color: #7fbfbf; text-decoration-color: #7fbfbf\">[10/17/22 16:51:04] </span><span style=\"color: #000080; text-decoration-color: #000080\">INFO    </span> delimiter is |                                                         <a href=\"file:///usr/local/google/home/codyfincher/Code/database-tools/oracle-database-assessment/src/server/dbma/database.py\" target=\"_blank\"><span style=\"color: #7f7f7f; text-decoration-color: #7f7f7f\">database.py</span></a><span style=\"color: #7f7f7f; text-decoration-color: #7f7f7f\">:</span><a href=\"file:///usr/local/google/home/codyfincher/Code/database-tools/oracle-database-assessment/src/server/dbma/database.py#153\" target=\"_blank\"><span style=\"color: #7f7f7f; text-decoration-color: #7f7f7f\">153</span></a>\n",
       "</pre>\n"
      ],
      "text/plain": [
       "\u001b[2;36m[10/17/22 16:51:04]\u001b[0m\u001b[2;36m \u001b[0m\u001b[34mINFO    \u001b[0m delimiter is |                                                         \u001b]8;id=956428;file:///usr/local/google/home/codyfincher/Code/database-tools/oracle-database-assessment/src/server/dbma/database.py\u001b\\\u001b[2mdatabase.py\u001b[0m\u001b]8;;\u001b\\\u001b[2m:\u001b[0m\u001b]8;id=486924;file:///usr/local/google/home/codyfincher/Code/database-tools/oracle-database-assessment/src/server/dbma/database.py#153\u001b\\\u001b[2m153\u001b[0m\u001b]8;;\u001b\\\n"
      ]
     },
     "metadata": {},
     "output_type": "display_data"
    },
    {
     "data": {
      "text/html": [
       "<pre style=\"white-space:pre;overflow-x:auto;line-height:normal;font-family:Menlo,'DejaVu Sans Mono',consolas,'Courier New',monospace\"><span style=\"color: #7fbfbf; text-decoration-color: #7fbfbf\">[10/17/22 16:51:04] </span><span style=\"color: #000080; text-decoration-color: #000080\">INFO    </span> <span style=\"color: #808000; text-decoration-color: #808000\">...</span> db_sql_stats  <span style=\"color: #008000; text-decoration-color: #008000; font-weight: bold\">SUCCESS</span> <span style=\"font-weight: bold\">[</span><span style=\"color: #008080; text-decoration-color: #008080; font-weight: bold\">299</span> <span style=\"color: #800080; text-decoration-color: #800080; font-weight: bold\">rows</span><span style=\"font-weight: bold\">(</span>s<span style=\"font-weight: bold\">)]</span>                                <a href=\"file:///usr/local/google/home/codyfincher/Code/database-tools/oracle-database-assessment/src/server/dbma/database.py\" target=\"_blank\"><span style=\"color: #7f7f7f; text-decoration-color: #7f7f7f\">database.py</span></a><span style=\"color: #7f7f7f; text-decoration-color: #7f7f7f\">:</span><a href=\"file:///usr/local/google/home/codyfincher/Code/database-tools/oracle-database-assessment/src/server/dbma/database.py#160\" target=\"_blank\"><span style=\"color: #7f7f7f; text-decoration-color: #7f7f7f\">160</span></a>\n",
       "</pre>\n"
      ],
      "text/plain": [
       "\u001b[2;36m[10/17/22 16:51:04]\u001b[0m\u001b[2;36m \u001b[0m\u001b[34mINFO    \u001b[0m \u001b[33m...\u001b[0m db_sql_stats  \u001b[1;32mSUCCESS\u001b[0m \u001b[1m[\u001b[0m\u001b[1;36m299\u001b[0m \u001b[1;35mrows\u001b[0m\u001b[1m(\u001b[0ms\u001b[1m)\u001b[0m\u001b[1m]\u001b[0m                                \u001b]8;id=126573;file:///usr/local/google/home/codyfincher/Code/database-tools/oracle-database-assessment/src/server/dbma/database.py\u001b\\\u001b[2mdatabase.py\u001b[0m\u001b]8;;\u001b\\\u001b[2m:\u001b[0m\u001b]8;id=21807;file:///usr/local/google/home/codyfincher/Code/database-tools/oracle-database-assessment/src/server/dbma/database.py#160\u001b\\\u001b[2m160\u001b[0m\u001b]8;;\u001b\\\n"
      ]
     },
     "metadata": {},
     "output_type": "display_data"
    },
    {
     "data": {
      "text/html": [
       "<pre style=\"white-space:pre;overflow-x:auto;line-height:normal;font-family:Menlo,'DejaVu Sans Mono',consolas,'Courier New',monospace\"><span style=\"color: #7fbfbf; text-decoration-color: #7fbfbf\">[10/17/22 16:51:04] </span><span style=\"color: #000080; text-decoration-color: #000080\">INFO    </span> delimiter is |                                                         <a href=\"file:///usr/local/google/home/codyfincher/Code/database-tools/oracle-database-assessment/src/server/dbma/database.py\" target=\"_blank\"><span style=\"color: #7f7f7f; text-decoration-color: #7f7f7f\">database.py</span></a><span style=\"color: #7f7f7f; text-decoration-color: #7f7f7f\">:</span><a href=\"file:///usr/local/google/home/codyfincher/Code/database-tools/oracle-database-assessment/src/server/dbma/database.py#153\" target=\"_blank\"><span style=\"color: #7f7f7f; text-decoration-color: #7f7f7f\">153</span></a>\n",
       "</pre>\n"
      ],
      "text/plain": [
       "\u001b[2;36m[10/17/22 16:51:04]\u001b[0m\u001b[2;36m \u001b[0m\u001b[34mINFO    \u001b[0m delimiter is |                                                         \u001b]8;id=849854;file:///usr/local/google/home/codyfincher/Code/database-tools/oracle-database-assessment/src/server/dbma/database.py\u001b\\\u001b[2mdatabase.py\u001b[0m\u001b]8;;\u001b\\\u001b[2m:\u001b[0m\u001b]8;id=829264;file:///usr/local/google/home/codyfincher/Code/database-tools/oracle-database-assessment/src/server/dbma/database.py#153\u001b\\\u001b[2m153\u001b[0m\u001b]8;;\u001b\\\n"
      ]
     },
     "metadata": {},
     "output_type": "display_data"
    },
    {
     "data": {
      "text/html": [
       "<pre style=\"white-space:pre;overflow-x:auto;line-height:normal;font-family:Menlo,'DejaVu Sans Mono',consolas,'Courier New',monospace\"><span style=\"color: #7fbfbf; text-decoration-color: #7fbfbf\">[10/17/22 16:51:04] </span><span style=\"color: #000080; text-decoration-color: #000080\">INFO    </span> <span style=\"color: #808000; text-decoration-color: #808000\">...</span> db_constraint_summary  <span style=\"color: #008000; text-decoration-color: #008000; font-weight: bold\">SUCCESS</span> <span style=\"font-weight: bold\">[</span><span style=\"color: #008080; text-decoration-color: #008080; font-weight: bold\">22</span> <span style=\"color: #800080; text-decoration-color: #800080; font-weight: bold\">rows</span><span style=\"font-weight: bold\">(</span>s<span style=\"font-weight: bold\">)]</span>                        <a href=\"file:///usr/local/google/home/codyfincher/Code/database-tools/oracle-database-assessment/src/server/dbma/database.py\" target=\"_blank\"><span style=\"color: #7f7f7f; text-decoration-color: #7f7f7f\">database.py</span></a><span style=\"color: #7f7f7f; text-decoration-color: #7f7f7f\">:</span><a href=\"file:///usr/local/google/home/codyfincher/Code/database-tools/oracle-database-assessment/src/server/dbma/database.py#160\" target=\"_blank\"><span style=\"color: #7f7f7f; text-decoration-color: #7f7f7f\">160</span></a>\n",
       "</pre>\n"
      ],
      "text/plain": [
       "\u001b[2;36m[10/17/22 16:51:04]\u001b[0m\u001b[2;36m \u001b[0m\u001b[34mINFO    \u001b[0m \u001b[33m...\u001b[0m db_constraint_summary  \u001b[1;32mSUCCESS\u001b[0m \u001b[1m[\u001b[0m\u001b[1;36m22\u001b[0m \u001b[1;35mrows\u001b[0m\u001b[1m(\u001b[0ms\u001b[1m)\u001b[0m\u001b[1m]\u001b[0m                        \u001b]8;id=951159;file:///usr/local/google/home/codyfincher/Code/database-tools/oracle-database-assessment/src/server/dbma/database.py\u001b\\\u001b[2mdatabase.py\u001b[0m\u001b]8;;\u001b\\\u001b[2m:\u001b[0m\u001b]8;id=104061;file:///usr/local/google/home/codyfincher/Code/database-tools/oracle-database-assessment/src/server/dbma/database.py#160\u001b\\\u001b[2m160\u001b[0m\u001b]8;;\u001b\\\n"
      ]
     },
     "metadata": {},
     "output_type": "display_data"
    },
    {
     "data": {
      "text/html": [
       "<pre style=\"white-space:pre;overflow-x:auto;line-height:normal;font-family:Menlo,'DejaVu Sans Mono',consolas,'Courier New',monospace\"><span style=\"color: #7fbfbf; text-decoration-color: #7fbfbf\">[10/17/22 16:51:04] </span><span style=\"color: #000080; text-decoration-color: #000080\">INFO    </span> delimiter is |                                                         <a href=\"file:///usr/local/google/home/codyfincher/Code/database-tools/oracle-database-assessment/src/server/dbma/database.py\" target=\"_blank\"><span style=\"color: #7f7f7f; text-decoration-color: #7f7f7f\">database.py</span></a><span style=\"color: #7f7f7f; text-decoration-color: #7f7f7f\">:</span><a href=\"file:///usr/local/google/home/codyfincher/Code/database-tools/oracle-database-assessment/src/server/dbma/database.py#153\" target=\"_blank\"><span style=\"color: #7f7f7f; text-decoration-color: #7f7f7f\">153</span></a>\n",
       "</pre>\n"
      ],
      "text/plain": [
       "\u001b[2;36m[10/17/22 16:51:04]\u001b[0m\u001b[2;36m \u001b[0m\u001b[34mINFO    \u001b[0m delimiter is |                                                         \u001b]8;id=530573;file:///usr/local/google/home/codyfincher/Code/database-tools/oracle-database-assessment/src/server/dbma/database.py\u001b\\\u001b[2mdatabase.py\u001b[0m\u001b]8;;\u001b\\\u001b[2m:\u001b[0m\u001b]8;id=252024;file:///usr/local/google/home/codyfincher/Code/database-tools/oracle-database-assessment/src/server/dbma/database.py#153\u001b\\\u001b[2m153\u001b[0m\u001b]8;;\u001b\\\n"
      ]
     },
     "metadata": {},
     "output_type": "display_data"
    },
    {
     "data": {
      "text/html": [
       "<pre style=\"white-space:pre;overflow-x:auto;line-height:normal;font-family:Menlo,'DejaVu Sans Mono',consolas,'Courier New',monospace\"><span style=\"color: #7fbfbf; text-decoration-color: #7fbfbf\">[10/17/22 16:51:04] </span><span style=\"color: #000080; text-decoration-color: #000080\">INFO    </span> <span style=\"color: #808000; text-decoration-color: #808000\">...</span> db_used_space_details  <span style=\"color: #008000; text-decoration-color: #008000; font-weight: bold\">SUCCESS</span> <span style=\"font-weight: bold\">[</span><span style=\"color: #008080; text-decoration-color: #008080; font-weight: bold\">9</span> <span style=\"color: #800080; text-decoration-color: #800080; font-weight: bold\">rows</span><span style=\"font-weight: bold\">(</span>s<span style=\"font-weight: bold\">)]</span>                         <a href=\"file:///usr/local/google/home/codyfincher/Code/database-tools/oracle-database-assessment/src/server/dbma/database.py\" target=\"_blank\"><span style=\"color: #7f7f7f; text-decoration-color: #7f7f7f\">database.py</span></a><span style=\"color: #7f7f7f; text-decoration-color: #7f7f7f\">:</span><a href=\"file:///usr/local/google/home/codyfincher/Code/database-tools/oracle-database-assessment/src/server/dbma/database.py#160\" target=\"_blank\"><span style=\"color: #7f7f7f; text-decoration-color: #7f7f7f\">160</span></a>\n",
       "</pre>\n"
      ],
      "text/plain": [
       "\u001b[2;36m[10/17/22 16:51:04]\u001b[0m\u001b[2;36m \u001b[0m\u001b[34mINFO    \u001b[0m \u001b[33m...\u001b[0m db_used_space_details  \u001b[1;32mSUCCESS\u001b[0m \u001b[1m[\u001b[0m\u001b[1;36m9\u001b[0m \u001b[1;35mrows\u001b[0m\u001b[1m(\u001b[0ms\u001b[1m)\u001b[0m\u001b[1m]\u001b[0m                         \u001b]8;id=776258;file:///usr/local/google/home/codyfincher/Code/database-tools/oracle-database-assessment/src/server/dbma/database.py\u001b\\\u001b[2mdatabase.py\u001b[0m\u001b]8;;\u001b\\\u001b[2m:\u001b[0m\u001b]8;id=476317;file:///usr/local/google/home/codyfincher/Code/database-tools/oracle-database-assessment/src/server/dbma/database.py#160\u001b\\\u001b[2m160\u001b[0m\u001b]8;;\u001b\\\n"
      ]
     },
     "metadata": {},
     "output_type": "display_data"
    },
    {
     "data": {
      "text/html": [
       "<pre style=\"white-space:pre;overflow-x:auto;line-height:normal;font-family:Menlo,'DejaVu Sans Mono',consolas,'Courier New',monospace\"><span style=\"color: #7fbfbf; text-decoration-color: #7fbfbf\">[10/17/22 16:51:04] </span><span style=\"color: #000080; text-decoration-color: #000080\">INFO    </span> delimiter is |                                                         <a href=\"file:///usr/local/google/home/codyfincher/Code/database-tools/oracle-database-assessment/src/server/dbma/database.py\" target=\"_blank\"><span style=\"color: #7f7f7f; text-decoration-color: #7f7f7f\">database.py</span></a><span style=\"color: #7f7f7f; text-decoration-color: #7f7f7f\">:</span><a href=\"file:///usr/local/google/home/codyfincher/Code/database-tools/oracle-database-assessment/src/server/dbma/database.py#153\" target=\"_blank\"><span style=\"color: #7f7f7f; text-decoration-color: #7f7f7f\">153</span></a>\n",
       "</pre>\n"
      ],
      "text/plain": [
       "\u001b[2;36m[10/17/22 16:51:04]\u001b[0m\u001b[2;36m \u001b[0m\u001b[34mINFO    \u001b[0m delimiter is |                                                         \u001b]8;id=211928;file:///usr/local/google/home/codyfincher/Code/database-tools/oracle-database-assessment/src/server/dbma/database.py\u001b\\\u001b[2mdatabase.py\u001b[0m\u001b]8;;\u001b\\\u001b[2m:\u001b[0m\u001b]8;id=908941;file:///usr/local/google/home/codyfincher/Code/database-tools/oracle-database-assessment/src/server/dbma/database.py#153\u001b\\\u001b[2m153\u001b[0m\u001b]8;;\u001b\\\n"
      ]
     },
     "metadata": {},
     "output_type": "display_data"
    },
    {
     "data": {
      "text/html": [
       "<pre style=\"white-space:pre;overflow-x:auto;line-height:normal;font-family:Menlo,'DejaVu Sans Mono',consolas,'Courier New',monospace\"><span style=\"color: #7fbfbf; text-decoration-color: #7fbfbf\">[10/17/22 16:51:04] </span><span style=\"color: #000080; text-decoration-color: #000080\">INFO    </span> <span style=\"color: #808000; text-decoration-color: #808000\">...</span> db_user_tablespace_segments  <span style=\"color: #008000; text-decoration-color: #008000; font-weight: bold\">SUCCESS</span> <span style=\"font-weight: bold\">[</span><span style=\"color: #008080; text-decoration-color: #008080; font-weight: bold\">25</span> <span style=\"color: #800080; text-decoration-color: #800080; font-weight: bold\">rows</span><span style=\"font-weight: bold\">(</span>s<span style=\"font-weight: bold\">)]</span>                  <a href=\"file:///usr/local/google/home/codyfincher/Code/database-tools/oracle-database-assessment/src/server/dbma/database.py\" target=\"_blank\"><span style=\"color: #7f7f7f; text-decoration-color: #7f7f7f\">database.py</span></a><span style=\"color: #7f7f7f; text-decoration-color: #7f7f7f\">:</span><a href=\"file:///usr/local/google/home/codyfincher/Code/database-tools/oracle-database-assessment/src/server/dbma/database.py#160\" target=\"_blank\"><span style=\"color: #7f7f7f; text-decoration-color: #7f7f7f\">160</span></a>\n",
       "</pre>\n"
      ],
      "text/plain": [
       "\u001b[2;36m[10/17/22 16:51:04]\u001b[0m\u001b[2;36m \u001b[0m\u001b[34mINFO    \u001b[0m \u001b[33m...\u001b[0m db_user_tablespace_segments  \u001b[1;32mSUCCESS\u001b[0m \u001b[1m[\u001b[0m\u001b[1;36m25\u001b[0m \u001b[1;35mrows\u001b[0m\u001b[1m(\u001b[0ms\u001b[1m)\u001b[0m\u001b[1m]\u001b[0m                  \u001b]8;id=345061;file:///usr/local/google/home/codyfincher/Code/database-tools/oracle-database-assessment/src/server/dbma/database.py\u001b\\\u001b[2mdatabase.py\u001b[0m\u001b]8;;\u001b\\\u001b[2m:\u001b[0m\u001b]8;id=651905;file:///usr/local/google/home/codyfincher/Code/database-tools/oracle-database-assessment/src/server/dbma/database.py#160\u001b\\\u001b[2m160\u001b[0m\u001b]8;;\u001b\\\n"
      ]
     },
     "metadata": {},
     "output_type": "display_data"
    },
    {
     "data": {
      "text/html": [
       "<pre style=\"white-space:pre;overflow-x:auto;line-height:normal;font-family:Menlo,'DejaVu Sans Mono',consolas,'Courier New',monospace\"><span style=\"color: #7fbfbf; text-decoration-color: #7fbfbf\">[10/17/22 16:51:10] </span><span style=\"color: #000080; text-decoration-color: #000080\">INFO    </span> <span style=\"font-weight: bold\">[]</span>                                                                        <a href=\"file:///usr/local/google/home/codyfincher/Code/database-tools/oracle-database-assessment/src/server/dbma/transformer/engine.py\" target=\"_blank\"><span style=\"color: #7f7f7f; text-decoration-color: #7f7f7f\">engine.py</span></a><span style=\"color: #7f7f7f; text-decoration-color: #7f7f7f\">:</span><a href=\"file:///usr/local/google/home/codyfincher/Code/database-tools/oracle-database-assessment/src/server/dbma/transformer/engine.py#87\" target=\"_blank\"><span style=\"color: #7f7f7f; text-decoration-color: #7f7f7f\">87</span></a>\n",
       "</pre>\n"
      ],
      "text/plain": [
       "\u001b[2;36m[10/17/22 16:51:10]\u001b[0m\u001b[2;36m \u001b[0m\u001b[34mINFO    \u001b[0m \u001b[1m[\u001b[0m\u001b[1m]\u001b[0m                                                                        \u001b]8;id=230378;file:///usr/local/google/home/codyfincher/Code/database-tools/oracle-database-assessment/src/server/dbma/transformer/engine.py\u001b\\\u001b[2mengine.py\u001b[0m\u001b]8;;\u001b\\\u001b[2m:\u001b[0m\u001b]8;id=610932;file:///usr/local/google/home/codyfincher/Code/database-tools/oracle-database-assessment/src/server/dbma/transformer/engine.py#87\u001b\\\u001b[2m87\u001b[0m\u001b]8;;\u001b\\\n"
      ]
     },
     "metadata": {},
     "output_type": "display_data"
    },
    {
     "data": {
      "text/html": [
       "<pre style=\"white-space:pre;overflow-x:auto;line-height:normal;font-family:Menlo,'DejaVu Sans Mono',consolas,'Courier New',monospace\"><span style=\"color: #7fbfbf; text-decoration-color: #7fbfbf\">[10/17/22 16:51:10] </span><span style=\"color: #000080; text-decoration-color: #000080\">INFO    </span> delimiter is |                                                         <a href=\"file:///usr/local/google/home/codyfincher/Code/database-tools/oracle-database-assessment/src/server/dbma/database.py\" target=\"_blank\"><span style=\"color: #7f7f7f; text-decoration-color: #7f7f7f\">database.py</span></a><span style=\"color: #7f7f7f; text-decoration-color: #7f7f7f\">:</span><a href=\"file:///usr/local/google/home/codyfincher/Code/database-tools/oracle-database-assessment/src/server/dbma/database.py#153\" target=\"_blank\"><span style=\"color: #7f7f7f; text-decoration-color: #7f7f7f\">153</span></a>\n",
       "</pre>\n"
      ],
      "text/plain": [
       "\u001b[2;36m[10/17/22 16:51:10]\u001b[0m\u001b[2;36m \u001b[0m\u001b[34mINFO    \u001b[0m delimiter is |                                                         \u001b]8;id=76975;file:///usr/local/google/home/codyfincher/Code/database-tools/oracle-database-assessment/src/server/dbma/database.py\u001b\\\u001b[2mdatabase.py\u001b[0m\u001b]8;;\u001b\\\u001b[2m:\u001b[0m\u001b]8;id=631369;file:///usr/local/google/home/codyfincher/Code/database-tools/oracle-database-assessment/src/server/dbma/database.py#153\u001b\\\u001b[2m153\u001b[0m\u001b]8;;\u001b\\\n"
      ]
     },
     "metadata": {},
     "output_type": "display_data"
    },
    {
     "data": {
      "text/html": [
       "<pre style=\"white-space:pre;overflow-x:auto;line-height:normal;font-family:Menlo,'DejaVu Sans Mono',consolas,'Courier New',monospace\"><span style=\"color: #7fbfbf; text-decoration-color: #7fbfbf\">[10/17/22 16:51:10] </span><span style=\"color: #000080; text-decoration-color: #000080\">INFO    </span> <span style=\"color: #808000; text-decoration-color: #808000\">...</span> awr_hist_cmd_types  <span style=\"color: #008000; text-decoration-color: #008000; font-weight: bold\">SUCCESS</span> <span style=\"font-weight: bold\">[</span><span style=\"color: #008080; text-decoration-color: #008080; font-weight: bold\">170</span> <span style=\"color: #800080; text-decoration-color: #800080; font-weight: bold\">rows</span><span style=\"font-weight: bold\">(</span>s<span style=\"font-weight: bold\">)]</span>                          <a href=\"file:///usr/local/google/home/codyfincher/Code/database-tools/oracle-database-assessment/src/server/dbma/database.py\" target=\"_blank\"><span style=\"color: #7f7f7f; text-decoration-color: #7f7f7f\">database.py</span></a><span style=\"color: #7f7f7f; text-decoration-color: #7f7f7f\">:</span><a href=\"file:///usr/local/google/home/codyfincher/Code/database-tools/oracle-database-assessment/src/server/dbma/database.py#160\" target=\"_blank\"><span style=\"color: #7f7f7f; text-decoration-color: #7f7f7f\">160</span></a>\n",
       "</pre>\n"
      ],
      "text/plain": [
       "\u001b[2;36m[10/17/22 16:51:10]\u001b[0m\u001b[2;36m \u001b[0m\u001b[34mINFO    \u001b[0m \u001b[33m...\u001b[0m awr_hist_cmd_types  \u001b[1;32mSUCCESS\u001b[0m \u001b[1m[\u001b[0m\u001b[1;36m170\u001b[0m \u001b[1;35mrows\u001b[0m\u001b[1m(\u001b[0ms\u001b[1m)\u001b[0m\u001b[1m]\u001b[0m                          \u001b]8;id=260500;file:///usr/local/google/home/codyfincher/Code/database-tools/oracle-database-assessment/src/server/dbma/database.py\u001b\\\u001b[2mdatabase.py\u001b[0m\u001b]8;;\u001b\\\u001b[2m:\u001b[0m\u001b]8;id=382203;file:///usr/local/google/home/codyfincher/Code/database-tools/oracle-database-assessment/src/server/dbma/database.py#160\u001b\\\u001b[2m160\u001b[0m\u001b]8;;\u001b\\\n"
      ]
     },
     "metadata": {},
     "output_type": "display_data"
    },
    {
     "data": {
      "text/html": [
       "<pre style=\"white-space:pre;overflow-x:auto;line-height:normal;font-family:Menlo,'DejaVu Sans Mono',consolas,'Courier New',monospace\"><span style=\"color: #7fbfbf; text-decoration-color: #7fbfbf\">[10/17/22 16:51:10] </span><span style=\"color: #000080; text-decoration-color: #000080\">INFO    </span> delimiter is |                                                         <a href=\"file:///usr/local/google/home/codyfincher/Code/database-tools/oracle-database-assessment/src/server/dbma/database.py\" target=\"_blank\"><span style=\"color: #7f7f7f; text-decoration-color: #7f7f7f\">database.py</span></a><span style=\"color: #7f7f7f; text-decoration-color: #7f7f7f\">:</span><a href=\"file:///usr/local/google/home/codyfincher/Code/database-tools/oracle-database-assessment/src/server/dbma/database.py#153\" target=\"_blank\"><span style=\"color: #7f7f7f; text-decoration-color: #7f7f7f\">153</span></a>\n",
       "</pre>\n"
      ],
      "text/plain": [
       "\u001b[2;36m[10/17/22 16:51:10]\u001b[0m\u001b[2;36m \u001b[0m\u001b[34mINFO    \u001b[0m delimiter is |                                                         \u001b]8;id=769415;file:///usr/local/google/home/codyfincher/Code/database-tools/oracle-database-assessment/src/server/dbma/database.py\u001b\\\u001b[2mdatabase.py\u001b[0m\u001b]8;;\u001b\\\u001b[2m:\u001b[0m\u001b]8;id=382776;file:///usr/local/google/home/codyfincher/Code/database-tools/oracle-database-assessment/src/server/dbma/database.py#153\u001b\\\u001b[2m153\u001b[0m\u001b]8;;\u001b\\\n"
      ]
     },
     "metadata": {},
     "output_type": "display_data"
    },
    {
     "data": {
      "text/html": [
       "<pre style=\"white-space:pre;overflow-x:auto;line-height:normal;font-family:Menlo,'DejaVu Sans Mono',consolas,'Courier New',monospace\"><span style=\"color: #7fbfbf; text-decoration-color: #7fbfbf\">[10/17/22 16:51:10] </span><span style=\"color: #000080; text-decoration-color: #000080\">INFO    </span> <span style=\"color: #808000; text-decoration-color: #808000\">...</span> awr_hist_os_stat  <span style=\"color: #008000; text-decoration-color: #008000; font-weight: bold\">SUCCESS</span> <span style=\"font-weight: bold\">[</span><span style=\"color: #008080; text-decoration-color: #008080; font-weight: bold\">624</span> <span style=\"color: #800080; text-decoration-color: #800080; font-weight: bold\">rows</span><span style=\"font-weight: bold\">(</span>s<span style=\"font-weight: bold\">)]</span>                            <a href=\"file:///usr/local/google/home/codyfincher/Code/database-tools/oracle-database-assessment/src/server/dbma/database.py\" target=\"_blank\"><span style=\"color: #7f7f7f; text-decoration-color: #7f7f7f\">database.py</span></a><span style=\"color: #7f7f7f; text-decoration-color: #7f7f7f\">:</span><a href=\"file:///usr/local/google/home/codyfincher/Code/database-tools/oracle-database-assessment/src/server/dbma/database.py#160\" target=\"_blank\"><span style=\"color: #7f7f7f; text-decoration-color: #7f7f7f\">160</span></a>\n",
       "</pre>\n"
      ],
      "text/plain": [
       "\u001b[2;36m[10/17/22 16:51:10]\u001b[0m\u001b[2;36m \u001b[0m\u001b[34mINFO    \u001b[0m \u001b[33m...\u001b[0m awr_hist_os_stat  \u001b[1;32mSUCCESS\u001b[0m \u001b[1m[\u001b[0m\u001b[1;36m624\u001b[0m \u001b[1;35mrows\u001b[0m\u001b[1m(\u001b[0ms\u001b[1m)\u001b[0m\u001b[1m]\u001b[0m                            \u001b]8;id=328646;file:///usr/local/google/home/codyfincher/Code/database-tools/oracle-database-assessment/src/server/dbma/database.py\u001b\\\u001b[2mdatabase.py\u001b[0m\u001b]8;;\u001b\\\u001b[2m:\u001b[0m\u001b]8;id=238259;file:///usr/local/google/home/codyfincher/Code/database-tools/oracle-database-assessment/src/server/dbma/database.py#160\u001b\\\u001b[2m160\u001b[0m\u001b]8;;\u001b\\\n"
      ]
     },
     "metadata": {},
     "output_type": "display_data"
    },
    {
     "data": {
      "text/html": [
       "<pre style=\"white-space:pre;overflow-x:auto;line-height:normal;font-family:Menlo,'DejaVu Sans Mono',consolas,'Courier New',monospace\"><span style=\"color: #7fbfbf; text-decoration-color: #7fbfbf\">[10/17/22 16:51:10] </span><span style=\"color: #000080; text-decoration-color: #000080\">INFO    </span> delimiter is |                                                         <a href=\"file:///usr/local/google/home/codyfincher/Code/database-tools/oracle-database-assessment/src/server/dbma/database.py\" target=\"_blank\"><span style=\"color: #7f7f7f; text-decoration-color: #7f7f7f\">database.py</span></a><span style=\"color: #7f7f7f; text-decoration-color: #7f7f7f\">:</span><a href=\"file:///usr/local/google/home/codyfincher/Code/database-tools/oracle-database-assessment/src/server/dbma/database.py#153\" target=\"_blank\"><span style=\"color: #7f7f7f; text-decoration-color: #7f7f7f\">153</span></a>\n",
       "</pre>\n"
      ],
      "text/plain": [
       "\u001b[2;36m[10/17/22 16:51:10]\u001b[0m\u001b[2;36m \u001b[0m\u001b[34mINFO    \u001b[0m delimiter is |                                                         \u001b]8;id=723197;file:///usr/local/google/home/codyfincher/Code/database-tools/oracle-database-assessment/src/server/dbma/database.py\u001b\\\u001b[2mdatabase.py\u001b[0m\u001b]8;;\u001b\\\u001b[2m:\u001b[0m\u001b]8;id=285749;file:///usr/local/google/home/codyfincher/Code/database-tools/oracle-database-assessment/src/server/dbma/database.py#153\u001b\\\u001b[2m153\u001b[0m\u001b]8;;\u001b\\\n"
      ]
     },
     "metadata": {},
     "output_type": "display_data"
    },
    {
     "data": {
      "text/html": [
       "<pre style=\"white-space:pre;overflow-x:auto;line-height:normal;font-family:Menlo,'DejaVu Sans Mono',consolas,'Courier New',monospace\"><span style=\"color: #7fbfbf; text-decoration-color: #7fbfbf\">[10/17/22 16:51:10] </span><span style=\"color: #000080; text-decoration-color: #000080\">INFO    </span> <span style=\"color: #808000; text-decoration-color: #808000\">...</span> awr_hist_sys_metric_hist  <span style=\"color: #008000; text-decoration-color: #008000; font-weight: bold\">SUCCESS</span> <span style=\"font-weight: bold\">[</span><span style=\"color: #008080; text-decoration-color: #008080; font-weight: bold\">576</span> <span style=\"color: #800080; text-decoration-color: #800080; font-weight: bold\">rows</span><span style=\"font-weight: bold\">(</span>s<span style=\"font-weight: bold\">)]</span>                    <a href=\"file:///usr/local/google/home/codyfincher/Code/database-tools/oracle-database-assessment/src/server/dbma/database.py\" target=\"_blank\"><span style=\"color: #7f7f7f; text-decoration-color: #7f7f7f\">database.py</span></a><span style=\"color: #7f7f7f; text-decoration-color: #7f7f7f\">:</span><a href=\"file:///usr/local/google/home/codyfincher/Code/database-tools/oracle-database-assessment/src/server/dbma/database.py#160\" target=\"_blank\"><span style=\"color: #7f7f7f; text-decoration-color: #7f7f7f\">160</span></a>\n",
       "</pre>\n"
      ],
      "text/plain": [
       "\u001b[2;36m[10/17/22 16:51:10]\u001b[0m\u001b[2;36m \u001b[0m\u001b[34mINFO    \u001b[0m \u001b[33m...\u001b[0m awr_hist_sys_metric_hist  \u001b[1;32mSUCCESS\u001b[0m \u001b[1m[\u001b[0m\u001b[1;36m576\u001b[0m \u001b[1;35mrows\u001b[0m\u001b[1m(\u001b[0ms\u001b[1m)\u001b[0m\u001b[1m]\u001b[0m                    \u001b]8;id=114509;file:///usr/local/google/home/codyfincher/Code/database-tools/oracle-database-assessment/src/server/dbma/database.py\u001b\\\u001b[2mdatabase.py\u001b[0m\u001b]8;;\u001b\\\u001b[2m:\u001b[0m\u001b]8;id=972326;file:///usr/local/google/home/codyfincher/Code/database-tools/oracle-database-assessment/src/server/dbma/database.py#160\u001b\\\u001b[2m160\u001b[0m\u001b]8;;\u001b\\\n"
      ]
     },
     "metadata": {},
     "output_type": "display_data"
    },
    {
     "data": {
      "text/html": [
       "<pre style=\"white-space:pre;overflow-x:auto;line-height:normal;font-family:Menlo,'DejaVu Sans Mono',consolas,'Courier New',monospace\"><span style=\"color: #7fbfbf; text-decoration-color: #7fbfbf\">[10/17/22 16:51:10] </span><span style=\"color: #000080; text-decoration-color: #000080\">INFO    </span> delimiter is |                                                         <a href=\"file:///usr/local/google/home/codyfincher/Code/database-tools/oracle-database-assessment/src/server/dbma/database.py\" target=\"_blank\"><span style=\"color: #7f7f7f; text-decoration-color: #7f7f7f\">database.py</span></a><span style=\"color: #7f7f7f; text-decoration-color: #7f7f7f\">:</span><a href=\"file:///usr/local/google/home/codyfincher/Code/database-tools/oracle-database-assessment/src/server/dbma/database.py#153\" target=\"_blank\"><span style=\"color: #7f7f7f; text-decoration-color: #7f7f7f\">153</span></a>\n",
       "</pre>\n"
      ],
      "text/plain": [
       "\u001b[2;36m[10/17/22 16:51:10]\u001b[0m\u001b[2;36m \u001b[0m\u001b[34mINFO    \u001b[0m delimiter is |                                                         \u001b]8;id=572157;file:///usr/local/google/home/codyfincher/Code/database-tools/oracle-database-assessment/src/server/dbma/database.py\u001b\\\u001b[2mdatabase.py\u001b[0m\u001b]8;;\u001b\\\u001b[2m:\u001b[0m\u001b]8;id=93917;file:///usr/local/google/home/codyfincher/Code/database-tools/oracle-database-assessment/src/server/dbma/database.py#153\u001b\\\u001b[2m153\u001b[0m\u001b]8;;\u001b\\\n"
      ]
     },
     "metadata": {},
     "output_type": "display_data"
    },
    {
     "data": {
      "text/html": [
       "<pre style=\"white-space:pre;overflow-x:auto;line-height:normal;font-family:Menlo,'DejaVu Sans Mono',consolas,'Courier New',monospace\"><span style=\"color: #7fbfbf; text-decoration-color: #7fbfbf\">[10/17/22 16:51:10] </span><span style=\"color: #000080; text-decoration-color: #000080\">INFO    </span> <span style=\"color: #808000; text-decoration-color: #808000\">...</span> awr_hist_sys_metric_summary  <span style=\"color: #008000; text-decoration-color: #008000; font-weight: bold\">SUCCESS</span> <span style=\"font-weight: bold\">[</span><span style=\"color: #008080; text-decoration-color: #008080; font-weight: bold\">3864</span> <span style=\"color: #800080; text-decoration-color: #800080; font-weight: bold\">rows</span><span style=\"font-weight: bold\">(</span>s<span style=\"font-weight: bold\">)]</span>                <a href=\"file:///usr/local/google/home/codyfincher/Code/database-tools/oracle-database-assessment/src/server/dbma/database.py\" target=\"_blank\"><span style=\"color: #7f7f7f; text-decoration-color: #7f7f7f\">database.py</span></a><span style=\"color: #7f7f7f; text-decoration-color: #7f7f7f\">:</span><a href=\"file:///usr/local/google/home/codyfincher/Code/database-tools/oracle-database-assessment/src/server/dbma/database.py#160\" target=\"_blank\"><span style=\"color: #7f7f7f; text-decoration-color: #7f7f7f\">160</span></a>\n",
       "</pre>\n"
      ],
      "text/plain": [
       "\u001b[2;36m[10/17/22 16:51:10]\u001b[0m\u001b[2;36m \u001b[0m\u001b[34mINFO    \u001b[0m \u001b[33m...\u001b[0m awr_hist_sys_metric_summary  \u001b[1;32mSUCCESS\u001b[0m \u001b[1m[\u001b[0m\u001b[1;36m3864\u001b[0m \u001b[1;35mrows\u001b[0m\u001b[1m(\u001b[0ms\u001b[1m)\u001b[0m\u001b[1m]\u001b[0m                \u001b]8;id=231028;file:///usr/local/google/home/codyfincher/Code/database-tools/oracle-database-assessment/src/server/dbma/database.py\u001b\\\u001b[2mdatabase.py\u001b[0m\u001b]8;;\u001b\\\u001b[2m:\u001b[0m\u001b]8;id=861586;file:///usr/local/google/home/codyfincher/Code/database-tools/oracle-database-assessment/src/server/dbma/database.py#160\u001b\\\u001b[2m160\u001b[0m\u001b]8;;\u001b\\\n"
      ]
     },
     "metadata": {},
     "output_type": "display_data"
    },
    {
     "data": {
      "text/html": [
       "<pre style=\"white-space:pre;overflow-x:auto;line-height:normal;font-family:Menlo,'DejaVu Sans Mono',consolas,'Courier New',monospace\"><span style=\"color: #7fbfbf; text-decoration-color: #7fbfbf\">[10/17/22 16:51:10] </span><span style=\"color: #000080; text-decoration-color: #000080\">INFO    </span> delimiter is |                                                         <a href=\"file:///usr/local/google/home/codyfincher/Code/database-tools/oracle-database-assessment/src/server/dbma/database.py\" target=\"_blank\"><span style=\"color: #7f7f7f; text-decoration-color: #7f7f7f\">database.py</span></a><span style=\"color: #7f7f7f; text-decoration-color: #7f7f7f\">:</span><a href=\"file:///usr/local/google/home/codyfincher/Code/database-tools/oracle-database-assessment/src/server/dbma/database.py#153\" target=\"_blank\"><span style=\"color: #7f7f7f; text-decoration-color: #7f7f7f\">153</span></a>\n",
       "</pre>\n"
      ],
      "text/plain": [
       "\u001b[2;36m[10/17/22 16:51:10]\u001b[0m\u001b[2;36m \u001b[0m\u001b[34mINFO    \u001b[0m delimiter is |                                                         \u001b]8;id=835800;file:///usr/local/google/home/codyfincher/Code/database-tools/oracle-database-assessment/src/server/dbma/database.py\u001b\\\u001b[2mdatabase.py\u001b[0m\u001b]8;;\u001b\\\u001b[2m:\u001b[0m\u001b]8;id=572613;file:///usr/local/google/home/codyfincher/Code/database-tools/oracle-database-assessment/src/server/dbma/database.py#153\u001b\\\u001b[2m153\u001b[0m\u001b]8;;\u001b\\\n"
      ]
     },
     "metadata": {},
     "output_type": "display_data"
    },
    {
     "data": {
      "text/html": [
       "<pre style=\"white-space:pre;overflow-x:auto;line-height:normal;font-family:Menlo,'DejaVu Sans Mono',consolas,'Courier New',monospace\"><span style=\"color: #7fbfbf; text-decoration-color: #7fbfbf\">[10/17/22 16:51:10] </span><span style=\"color: #000080; text-decoration-color: #000080\">INFO    </span> <span style=\"color: #808000; text-decoration-color: #808000\">...</span> awr_snap_details  <span style=\"color: #008000; text-decoration-color: #008000; font-weight: bold\">SUCCESS</span> <span style=\"font-weight: bold\">[</span><span style=\"color: #008080; text-decoration-color: #008080; font-weight: bold\">24</span> <span style=\"color: #800080; text-decoration-color: #800080; font-weight: bold\">rows</span><span style=\"font-weight: bold\">(</span>s<span style=\"font-weight: bold\">)]</span>                             <a href=\"file:///usr/local/google/home/codyfincher/Code/database-tools/oracle-database-assessment/src/server/dbma/database.py\" target=\"_blank\"><span style=\"color: #7f7f7f; text-decoration-color: #7f7f7f\">database.py</span></a><span style=\"color: #7f7f7f; text-decoration-color: #7f7f7f\">:</span><a href=\"file:///usr/local/google/home/codyfincher/Code/database-tools/oracle-database-assessment/src/server/dbma/database.py#160\" target=\"_blank\"><span style=\"color: #7f7f7f; text-decoration-color: #7f7f7f\">160</span></a>\n",
       "</pre>\n"
      ],
      "text/plain": [
       "\u001b[2;36m[10/17/22 16:51:10]\u001b[0m\u001b[2;36m \u001b[0m\u001b[34mINFO    \u001b[0m \u001b[33m...\u001b[0m awr_snap_details  \u001b[1;32mSUCCESS\u001b[0m \u001b[1m[\u001b[0m\u001b[1;36m24\u001b[0m \u001b[1;35mrows\u001b[0m\u001b[1m(\u001b[0ms\u001b[1m)\u001b[0m\u001b[1m]\u001b[0m                             \u001b]8;id=521853;file:///usr/local/google/home/codyfincher/Code/database-tools/oracle-database-assessment/src/server/dbma/database.py\u001b\\\u001b[2mdatabase.py\u001b[0m\u001b]8;;\u001b\\\u001b[2m:\u001b[0m\u001b]8;id=37334;file:///usr/local/google/home/codyfincher/Code/database-tools/oracle-database-assessment/src/server/dbma/database.py#160\u001b\\\u001b[2m160\u001b[0m\u001b]8;;\u001b\\\n"
      ]
     },
     "metadata": {},
     "output_type": "display_data"
    },
    {
     "data": {
      "text/html": [
       "<pre style=\"white-space:pre;overflow-x:auto;line-height:normal;font-family:Menlo,'DejaVu Sans Mono',consolas,'Courier New',monospace\"><span style=\"color: #7fbfbf; text-decoration-color: #7fbfbf\">[10/17/22 16:51:10] </span><span style=\"color: #000080; text-decoration-color: #000080\">INFO    </span> delimiter is |                                                         <a href=\"file:///usr/local/google/home/codyfincher/Code/database-tools/oracle-database-assessment/src/server/dbma/database.py\" target=\"_blank\"><span style=\"color: #7f7f7f; text-decoration-color: #7f7f7f\">database.py</span></a><span style=\"color: #7f7f7f; text-decoration-color: #7f7f7f\">:</span><a href=\"file:///usr/local/google/home/codyfincher/Code/database-tools/oracle-database-assessment/src/server/dbma/database.py#153\" target=\"_blank\"><span style=\"color: #7f7f7f; text-decoration-color: #7f7f7f\">153</span></a>\n",
       "</pre>\n"
      ],
      "text/plain": [
       "\u001b[2;36m[10/17/22 16:51:10]\u001b[0m\u001b[2;36m \u001b[0m\u001b[34mINFO    \u001b[0m delimiter is |                                                         \u001b]8;id=675925;file:///usr/local/google/home/codyfincher/Code/database-tools/oracle-database-assessment/src/server/dbma/database.py\u001b\\\u001b[2mdatabase.py\u001b[0m\u001b]8;;\u001b\\\u001b[2m:\u001b[0m\u001b]8;id=398995;file:///usr/local/google/home/codyfincher/Code/database-tools/oracle-database-assessment/src/server/dbma/database.py#153\u001b\\\u001b[2m153\u001b[0m\u001b]8;;\u001b\\\n"
      ]
     },
     "metadata": {},
     "output_type": "display_data"
    },
    {
     "data": {
      "text/html": [
       "<pre style=\"white-space:pre;overflow-x:auto;line-height:normal;font-family:Menlo,'DejaVu Sans Mono',consolas,'Courier New',monospace\"><span style=\"color: #7fbfbf; text-decoration-color: #7fbfbf\">[10/17/22 16:51:10] </span><span style=\"color: #000080; text-decoration-color: #000080\">INFO    </span> <span style=\"color: #808000; text-decoration-color: #808000\">...</span> db_compression_by_type  <span style=\"color: #008000; text-decoration-color: #008000; font-weight: bold\">SUCCESS</span> <span style=\"font-weight: bold\">[</span><span style=\"color: #008080; text-decoration-color: #008080; font-weight: bold\">26</span> <span style=\"color: #800080; text-decoration-color: #800080; font-weight: bold\">rows</span><span style=\"font-weight: bold\">(</span>s<span style=\"font-weight: bold\">)]</span>                       <a href=\"file:///usr/local/google/home/codyfincher/Code/database-tools/oracle-database-assessment/src/server/dbma/database.py\" target=\"_blank\"><span style=\"color: #7f7f7f; text-decoration-color: #7f7f7f\">database.py</span></a><span style=\"color: #7f7f7f; text-decoration-color: #7f7f7f\">:</span><a href=\"file:///usr/local/google/home/codyfincher/Code/database-tools/oracle-database-assessment/src/server/dbma/database.py#160\" target=\"_blank\"><span style=\"color: #7f7f7f; text-decoration-color: #7f7f7f\">160</span></a>\n",
       "</pre>\n"
      ],
      "text/plain": [
       "\u001b[2;36m[10/17/22 16:51:10]\u001b[0m\u001b[2;36m \u001b[0m\u001b[34mINFO    \u001b[0m \u001b[33m...\u001b[0m db_compression_by_type  \u001b[1;32mSUCCESS\u001b[0m \u001b[1m[\u001b[0m\u001b[1;36m26\u001b[0m \u001b[1;35mrows\u001b[0m\u001b[1m(\u001b[0ms\u001b[1m)\u001b[0m\u001b[1m]\u001b[0m                       \u001b]8;id=868566;file:///usr/local/google/home/codyfincher/Code/database-tools/oracle-database-assessment/src/server/dbma/database.py\u001b\\\u001b[2mdatabase.py\u001b[0m\u001b]8;;\u001b\\\u001b[2m:\u001b[0m\u001b]8;id=743819;file:///usr/local/google/home/codyfincher/Code/database-tools/oracle-database-assessment/src/server/dbma/database.py#160\u001b\\\u001b[2m160\u001b[0m\u001b]8;;\u001b\\\n"
      ]
     },
     "metadata": {},
     "output_type": "display_data"
    },
    {
     "data": {
      "text/html": [
       "<pre style=\"white-space:pre;overflow-x:auto;line-height:normal;font-family:Menlo,'DejaVu Sans Mono',consolas,'Courier New',monospace\"><span style=\"color: #7fbfbf; text-decoration-color: #7fbfbf\">[10/17/22 16:51:10] </span><span style=\"color: #000080; text-decoration-color: #000080\">INFO    </span> delimiter is |                                                         <a href=\"file:///usr/local/google/home/codyfincher/Code/database-tools/oracle-database-assessment/src/server/dbma/database.py\" target=\"_blank\"><span style=\"color: #7f7f7f; text-decoration-color: #7f7f7f\">database.py</span></a><span style=\"color: #7f7f7f; text-decoration-color: #7f7f7f\">:</span><a href=\"file:///usr/local/google/home/codyfincher/Code/database-tools/oracle-database-assessment/src/server/dbma/database.py#153\" target=\"_blank\"><span style=\"color: #7f7f7f; text-decoration-color: #7f7f7f\">153</span></a>\n",
       "</pre>\n"
      ],
      "text/plain": [
       "\u001b[2;36m[10/17/22 16:51:10]\u001b[0m\u001b[2;36m \u001b[0m\u001b[34mINFO    \u001b[0m delimiter is |                                                         \u001b]8;id=599788;file:///usr/local/google/home/codyfincher/Code/database-tools/oracle-database-assessment/src/server/dbma/database.py\u001b\\\u001b[2mdatabase.py\u001b[0m\u001b]8;;\u001b\\\u001b[2m:\u001b[0m\u001b]8;id=594271;file:///usr/local/google/home/codyfincher/Code/database-tools/oracle-database-assessment/src/server/dbma/database.py#153\u001b\\\u001b[2m153\u001b[0m\u001b]8;;\u001b\\\n"
      ]
     },
     "metadata": {},
     "output_type": "display_data"
    },
    {
     "data": {
      "text/html": [
       "<pre style=\"white-space:pre;overflow-x:auto;line-height:normal;font-family:Menlo,'DejaVu Sans Mono',consolas,'Courier New',monospace\"><span style=\"color: #7fbfbf; text-decoration-color: #7fbfbf\">[10/17/22 16:51:10] </span><span style=\"color: #000080; text-decoration-color: #000080\">INFO    </span> <span style=\"color: #808000; text-decoration-color: #808000\">...</span> db_cpu_core_usage  <span style=\"color: #008000; text-decoration-color: #008000; font-weight: bold\">SUCCESS</span> <span style=\"font-weight: bold\">[</span><span style=\"color: #008080; text-decoration-color: #008080; font-weight: bold\">5</span> <span style=\"color: #800080; text-decoration-color: #800080; font-weight: bold\">rows</span><span style=\"font-weight: bold\">(</span>s<span style=\"font-weight: bold\">)]</span>                             <a href=\"file:///usr/local/google/home/codyfincher/Code/database-tools/oracle-database-assessment/src/server/dbma/database.py\" target=\"_blank\"><span style=\"color: #7f7f7f; text-decoration-color: #7f7f7f\">database.py</span></a><span style=\"color: #7f7f7f; text-decoration-color: #7f7f7f\">:</span><a href=\"file:///usr/local/google/home/codyfincher/Code/database-tools/oracle-database-assessment/src/server/dbma/database.py#160\" target=\"_blank\"><span style=\"color: #7f7f7f; text-decoration-color: #7f7f7f\">160</span></a>\n",
       "</pre>\n"
      ],
      "text/plain": [
       "\u001b[2;36m[10/17/22 16:51:10]\u001b[0m\u001b[2;36m \u001b[0m\u001b[34mINFO    \u001b[0m \u001b[33m...\u001b[0m db_cpu_core_usage  \u001b[1;32mSUCCESS\u001b[0m \u001b[1m[\u001b[0m\u001b[1;36m5\u001b[0m \u001b[1;35mrows\u001b[0m\u001b[1m(\u001b[0ms\u001b[1m)\u001b[0m\u001b[1m]\u001b[0m                             \u001b]8;id=126393;file:///usr/local/google/home/codyfincher/Code/database-tools/oracle-database-assessment/src/server/dbma/database.py\u001b\\\u001b[2mdatabase.py\u001b[0m\u001b]8;;\u001b\\\u001b[2m:\u001b[0m\u001b]8;id=434388;file:///usr/local/google/home/codyfincher/Code/database-tools/oracle-database-assessment/src/server/dbma/database.py#160\u001b\\\u001b[2m160\u001b[0m\u001b]8;;\u001b\\\n"
      ]
     },
     "metadata": {},
     "output_type": "display_data"
    },
    {
     "data": {
      "text/html": [
       "<pre style=\"white-space:pre;overflow-x:auto;line-height:normal;font-family:Menlo,'DejaVu Sans Mono',consolas,'Courier New',monospace\"><span style=\"color: #7fbfbf; text-decoration-color: #7fbfbf\">[10/17/22 16:51:10] </span><span style=\"color: #000080; text-decoration-color: #000080\">INFO    </span> delimiter is |                                                         <a href=\"file:///usr/local/google/home/codyfincher/Code/database-tools/oracle-database-assessment/src/server/dbma/database.py\" target=\"_blank\"><span style=\"color: #7f7f7f; text-decoration-color: #7f7f7f\">database.py</span></a><span style=\"color: #7f7f7f; text-decoration-color: #7f7f7f\">:</span><a href=\"file:///usr/local/google/home/codyfincher/Code/database-tools/oracle-database-assessment/src/server/dbma/database.py#153\" target=\"_blank\"><span style=\"color: #7f7f7f; text-decoration-color: #7f7f7f\">153</span></a>\n",
       "</pre>\n"
      ],
      "text/plain": [
       "\u001b[2;36m[10/17/22 16:51:10]\u001b[0m\u001b[2;36m \u001b[0m\u001b[34mINFO    \u001b[0m delimiter is |                                                         \u001b]8;id=239955;file:///usr/local/google/home/codyfincher/Code/database-tools/oracle-database-assessment/src/server/dbma/database.py\u001b\\\u001b[2mdatabase.py\u001b[0m\u001b]8;;\u001b\\\u001b[2m:\u001b[0m\u001b]8;id=953210;file:///usr/local/google/home/codyfincher/Code/database-tools/oracle-database-assessment/src/server/dbma/database.py#153\u001b\\\u001b[2m153\u001b[0m\u001b]8;;\u001b\\\n"
      ]
     },
     "metadata": {},
     "output_type": "display_data"
    },
    {
     "data": {
      "text/html": [
       "<pre style=\"white-space:pre;overflow-x:auto;line-height:normal;font-family:Menlo,'DejaVu Sans Mono',consolas,'Courier New',monospace\"><span style=\"color: #7fbfbf; text-decoration-color: #7fbfbf\">[10/17/22 16:51:10] </span><span style=\"color: #000080; text-decoration-color: #000080\">INFO    </span> <span style=\"color: #808000; text-decoration-color: #808000\">...</span> db_dataguard  <span style=\"color: #008000; text-decoration-color: #008000; font-weight: bold\">SUCCESS</span> <span style=\"font-weight: bold\">[</span><span style=\"color: #008080; text-decoration-color: #008080; font-weight: bold\">2</span> <span style=\"color: #800080; text-decoration-color: #800080; font-weight: bold\">rows</span><span style=\"font-weight: bold\">(</span>s<span style=\"font-weight: bold\">)]</span>                                  <a href=\"file:///usr/local/google/home/codyfincher/Code/database-tools/oracle-database-assessment/src/server/dbma/database.py\" target=\"_blank\"><span style=\"color: #7f7f7f; text-decoration-color: #7f7f7f\">database.py</span></a><span style=\"color: #7f7f7f; text-decoration-color: #7f7f7f\">:</span><a href=\"file:///usr/local/google/home/codyfincher/Code/database-tools/oracle-database-assessment/src/server/dbma/database.py#160\" target=\"_blank\"><span style=\"color: #7f7f7f; text-decoration-color: #7f7f7f\">160</span></a>\n",
       "</pre>\n"
      ],
      "text/plain": [
       "\u001b[2;36m[10/17/22 16:51:10]\u001b[0m\u001b[2;36m \u001b[0m\u001b[34mINFO    \u001b[0m \u001b[33m...\u001b[0m db_dataguard  \u001b[1;32mSUCCESS\u001b[0m \u001b[1m[\u001b[0m\u001b[1;36m2\u001b[0m \u001b[1;35mrows\u001b[0m\u001b[1m(\u001b[0ms\u001b[1m)\u001b[0m\u001b[1m]\u001b[0m                                  \u001b]8;id=873534;file:///usr/local/google/home/codyfincher/Code/database-tools/oracle-database-assessment/src/server/dbma/database.py\u001b\\\u001b[2mdatabase.py\u001b[0m\u001b]8;;\u001b\\\u001b[2m:\u001b[0m\u001b]8;id=155252;file:///usr/local/google/home/codyfincher/Code/database-tools/oracle-database-assessment/src/server/dbma/database.py#160\u001b\\\u001b[2m160\u001b[0m\u001b]8;;\u001b\\\n"
      ]
     },
     "metadata": {},
     "output_type": "display_data"
    },
    {
     "data": {
      "text/html": [
       "<pre style=\"white-space:pre;overflow-x:auto;line-height:normal;font-family:Menlo,'DejaVu Sans Mono',consolas,'Courier New',monospace\"><span style=\"color: #7fbfbf; text-decoration-color: #7fbfbf\">[10/17/22 16:51:10] </span><span style=\"color: #000080; text-decoration-color: #000080\">INFO    </span> delimiter is |                                                         <a href=\"file:///usr/local/google/home/codyfincher/Code/database-tools/oracle-database-assessment/src/server/dbma/database.py\" target=\"_blank\"><span style=\"color: #7f7f7f; text-decoration-color: #7f7f7f\">database.py</span></a><span style=\"color: #7f7f7f; text-decoration-color: #7f7f7f\">:</span><a href=\"file:///usr/local/google/home/codyfincher/Code/database-tools/oracle-database-assessment/src/server/dbma/database.py#153\" target=\"_blank\"><span style=\"color: #7f7f7f; text-decoration-color: #7f7f7f\">153</span></a>\n",
       "</pre>\n"
      ],
      "text/plain": [
       "\u001b[2;36m[10/17/22 16:51:10]\u001b[0m\u001b[2;36m \u001b[0m\u001b[34mINFO    \u001b[0m delimiter is |                                                         \u001b]8;id=416604;file:///usr/local/google/home/codyfincher/Code/database-tools/oracle-database-assessment/src/server/dbma/database.py\u001b\\\u001b[2mdatabase.py\u001b[0m\u001b]8;;\u001b\\\u001b[2m:\u001b[0m\u001b]8;id=803517;file:///usr/local/google/home/codyfincher/Code/database-tools/oracle-database-assessment/src/server/dbma/database.py#153\u001b\\\u001b[2m153\u001b[0m\u001b]8;;\u001b\\\n"
      ]
     },
     "metadata": {},
     "output_type": "display_data"
    },
    {
     "data": {
      "text/html": [
       "<pre style=\"white-space:pre;overflow-x:auto;line-height:normal;font-family:Menlo,'DejaVu Sans Mono',consolas,'Courier New',monospace\"><span style=\"color: #7fbfbf; text-decoration-color: #7fbfbf\">[10/17/22 16:51:10] </span><span style=\"color: #000080; text-decoration-color: #000080\">INFO    </span> <span style=\"color: #808000; text-decoration-color: #808000\">...</span> db_data_types  <span style=\"color: #008000; text-decoration-color: #008000; font-weight: bold\">SUCCESS</span> <span style=\"font-weight: bold\">[</span><span style=\"color: #008080; text-decoration-color: #008080; font-weight: bold\">309</span> <span style=\"color: #800080; text-decoration-color: #800080; font-weight: bold\">rows</span><span style=\"font-weight: bold\">(</span>s<span style=\"font-weight: bold\">)]</span>                               <a href=\"file:///usr/local/google/home/codyfincher/Code/database-tools/oracle-database-assessment/src/server/dbma/database.py\" target=\"_blank\"><span style=\"color: #7f7f7f; text-decoration-color: #7f7f7f\">database.py</span></a><span style=\"color: #7f7f7f; text-decoration-color: #7f7f7f\">:</span><a href=\"file:///usr/local/google/home/codyfincher/Code/database-tools/oracle-database-assessment/src/server/dbma/database.py#160\" target=\"_blank\"><span style=\"color: #7f7f7f; text-decoration-color: #7f7f7f\">160</span></a>\n",
       "</pre>\n"
      ],
      "text/plain": [
       "\u001b[2;36m[10/17/22 16:51:10]\u001b[0m\u001b[2;36m \u001b[0m\u001b[34mINFO    \u001b[0m \u001b[33m...\u001b[0m db_data_types  \u001b[1;32mSUCCESS\u001b[0m \u001b[1m[\u001b[0m\u001b[1;36m309\u001b[0m \u001b[1;35mrows\u001b[0m\u001b[1m(\u001b[0ms\u001b[1m)\u001b[0m\u001b[1m]\u001b[0m                               \u001b]8;id=83183;file:///usr/local/google/home/codyfincher/Code/database-tools/oracle-database-assessment/src/server/dbma/database.py\u001b\\\u001b[2mdatabase.py\u001b[0m\u001b]8;;\u001b\\\u001b[2m:\u001b[0m\u001b]8;id=957165;file:///usr/local/google/home/codyfincher/Code/database-tools/oracle-database-assessment/src/server/dbma/database.py#160\u001b\\\u001b[2m160\u001b[0m\u001b]8;;\u001b\\\n"
      ]
     },
     "metadata": {},
     "output_type": "display_data"
    },
    {
     "data": {
      "text/html": [
       "<pre style=\"white-space:pre;overflow-x:auto;line-height:normal;font-family:Menlo,'DejaVu Sans Mono',consolas,'Courier New',monospace\"><span style=\"color: #7fbfbf; text-decoration-color: #7fbfbf\">[10/17/22 16:51:10] </span><span style=\"color: #000080; text-decoration-color: #000080\">INFO    </span> delimiter is |                                                         <a href=\"file:///usr/local/google/home/codyfincher/Code/database-tools/oracle-database-assessment/src/server/dbma/database.py\" target=\"_blank\"><span style=\"color: #7f7f7f; text-decoration-color: #7f7f7f\">database.py</span></a><span style=\"color: #7f7f7f; text-decoration-color: #7f7f7f\">:</span><a href=\"file:///usr/local/google/home/codyfincher/Code/database-tools/oracle-database-assessment/src/server/dbma/database.py#153\" target=\"_blank\"><span style=\"color: #7f7f7f; text-decoration-color: #7f7f7f\">153</span></a>\n",
       "</pre>\n"
      ],
      "text/plain": [
       "\u001b[2;36m[10/17/22 16:51:10]\u001b[0m\u001b[2;36m \u001b[0m\u001b[34mINFO    \u001b[0m delimiter is |                                                         \u001b]8;id=435390;file:///usr/local/google/home/codyfincher/Code/database-tools/oracle-database-assessment/src/server/dbma/database.py\u001b\\\u001b[2mdatabase.py\u001b[0m\u001b]8;;\u001b\\\u001b[2m:\u001b[0m\u001b]8;id=433599;file:///usr/local/google/home/codyfincher/Code/database-tools/oracle-database-assessment/src/server/dbma/database.py#153\u001b\\\u001b[2m153\u001b[0m\u001b]8;;\u001b\\\n"
      ]
     },
     "metadata": {},
     "output_type": "display_data"
    },
    {
     "data": {
      "text/html": [
       "<pre style=\"white-space:pre;overflow-x:auto;line-height:normal;font-family:Menlo,'DejaVu Sans Mono',consolas,'Courier New',monospace\"><span style=\"color: #7fbfbf; text-decoration-color: #7fbfbf\">[10/17/22 16:51:10] </span><span style=\"color: #000080; text-decoration-color: #000080\">INFO    </span> <span style=\"color: #808000; text-decoration-color: #808000\">...</span> dba_hist_sys_stat  <span style=\"color: #008000; text-decoration-color: #008000; font-weight: bold\">SUCCESS</span> <span style=\"font-weight: bold\">[</span><span style=\"color: #008080; text-decoration-color: #008080; font-weight: bold\">3480</span> <span style=\"color: #800080; text-decoration-color: #800080; font-weight: bold\">rows</span><span style=\"font-weight: bold\">(</span>s<span style=\"font-weight: bold\">)]</span>                          <a href=\"file:///usr/local/google/home/codyfincher/Code/database-tools/oracle-database-assessment/src/server/dbma/database.py\" target=\"_blank\"><span style=\"color: #7f7f7f; text-decoration-color: #7f7f7f\">database.py</span></a><span style=\"color: #7f7f7f; text-decoration-color: #7f7f7f\">:</span><a href=\"file:///usr/local/google/home/codyfincher/Code/database-tools/oracle-database-assessment/src/server/dbma/database.py#160\" target=\"_blank\"><span style=\"color: #7f7f7f; text-decoration-color: #7f7f7f\">160</span></a>\n",
       "</pre>\n"
      ],
      "text/plain": [
       "\u001b[2;36m[10/17/22 16:51:10]\u001b[0m\u001b[2;36m \u001b[0m\u001b[34mINFO    \u001b[0m \u001b[33m...\u001b[0m dba_hist_sys_stat  \u001b[1;32mSUCCESS\u001b[0m \u001b[1m[\u001b[0m\u001b[1;36m3480\u001b[0m \u001b[1;35mrows\u001b[0m\u001b[1m(\u001b[0ms\u001b[1m)\u001b[0m\u001b[1m]\u001b[0m                          \u001b]8;id=395060;file:///usr/local/google/home/codyfincher/Code/database-tools/oracle-database-assessment/src/server/dbma/database.py\u001b\\\u001b[2mdatabase.py\u001b[0m\u001b]8;;\u001b\\\u001b[2m:\u001b[0m\u001b]8;id=597563;file:///usr/local/google/home/codyfincher/Code/database-tools/oracle-database-assessment/src/server/dbma/database.py#160\u001b\\\u001b[2m160\u001b[0m\u001b]8;;\u001b\\\n"
      ]
     },
     "metadata": {},
     "output_type": "display_data"
    },
    {
     "data": {
      "text/html": [
       "<pre style=\"white-space:pre;overflow-x:auto;line-height:normal;font-family:Menlo,'DejaVu Sans Mono',consolas,'Courier New',monospace\"><span style=\"color: #7fbfbf; text-decoration-color: #7fbfbf\">[10/17/22 16:51:10] </span><span style=\"color: #000080; text-decoration-color: #000080\">INFO    </span> delimiter is |                                                         <a href=\"file:///usr/local/google/home/codyfincher/Code/database-tools/oracle-database-assessment/src/server/dbma/database.py\" target=\"_blank\"><span style=\"color: #7f7f7f; text-decoration-color: #7f7f7f\">database.py</span></a><span style=\"color: #7f7f7f; text-decoration-color: #7f7f7f\">:</span><a href=\"file:///usr/local/google/home/codyfincher/Code/database-tools/oracle-database-assessment/src/server/dbma/database.py#153\" target=\"_blank\"><span style=\"color: #7f7f7f; text-decoration-color: #7f7f7f\">153</span></a>\n",
       "</pre>\n"
      ],
      "text/plain": [
       "\u001b[2;36m[10/17/22 16:51:10]\u001b[0m\u001b[2;36m \u001b[0m\u001b[34mINFO    \u001b[0m delimiter is |                                                         \u001b]8;id=404734;file:///usr/local/google/home/codyfincher/Code/database-tools/oracle-database-assessment/src/server/dbma/database.py\u001b\\\u001b[2mdatabase.py\u001b[0m\u001b]8;;\u001b\\\u001b[2m:\u001b[0m\u001b]8;id=80455;file:///usr/local/google/home/codyfincher/Code/database-tools/oracle-database-assessment/src/server/dbma/database.py#153\u001b\\\u001b[2m153\u001b[0m\u001b]8;;\u001b\\\n"
      ]
     },
     "metadata": {},
     "output_type": "display_data"
    },
    {
     "data": {
      "text/html": [
       "<pre style=\"white-space:pre;overflow-x:auto;line-height:normal;font-family:Menlo,'DejaVu Sans Mono',consolas,'Courier New',monospace\"><span style=\"color: #7fbfbf; text-decoration-color: #7fbfbf\">[10/17/22 16:51:10] </span><span style=\"color: #000080; text-decoration-color: #000080\">INFO    </span> <span style=\"color: #808000; text-decoration-color: #808000\">...</span> dba_hist_sys_time_model  <span style=\"color: #008000; text-decoration-color: #008000; font-weight: bold\">SUCCESS</span> <span style=\"font-weight: bold\">[</span><span style=\"color: #008080; text-decoration-color: #008080; font-weight: bold\">744</span> <span style=\"color: #800080; text-decoration-color: #800080; font-weight: bold\">rows</span><span style=\"font-weight: bold\">(</span>s<span style=\"font-weight: bold\">)]</span>                     <a href=\"file:///usr/local/google/home/codyfincher/Code/database-tools/oracle-database-assessment/src/server/dbma/database.py\" target=\"_blank\"><span style=\"color: #7f7f7f; text-decoration-color: #7f7f7f\">database.py</span></a><span style=\"color: #7f7f7f; text-decoration-color: #7f7f7f\">:</span><a href=\"file:///usr/local/google/home/codyfincher/Code/database-tools/oracle-database-assessment/src/server/dbma/database.py#160\" target=\"_blank\"><span style=\"color: #7f7f7f; text-decoration-color: #7f7f7f\">160</span></a>\n",
       "</pre>\n"
      ],
      "text/plain": [
       "\u001b[2;36m[10/17/22 16:51:10]\u001b[0m\u001b[2;36m \u001b[0m\u001b[34mINFO    \u001b[0m \u001b[33m...\u001b[0m dba_hist_sys_time_model  \u001b[1;32mSUCCESS\u001b[0m \u001b[1m[\u001b[0m\u001b[1;36m744\u001b[0m \u001b[1;35mrows\u001b[0m\u001b[1m(\u001b[0ms\u001b[1m)\u001b[0m\u001b[1m]\u001b[0m                     \u001b]8;id=55788;file:///usr/local/google/home/codyfincher/Code/database-tools/oracle-database-assessment/src/server/dbma/database.py\u001b\\\u001b[2mdatabase.py\u001b[0m\u001b]8;;\u001b\\\u001b[2m:\u001b[0m\u001b]8;id=51558;file:///usr/local/google/home/codyfincher/Code/database-tools/oracle-database-assessment/src/server/dbma/database.py#160\u001b\\\u001b[2m160\u001b[0m\u001b]8;;\u001b\\\n"
      ]
     },
     "metadata": {},
     "output_type": "display_data"
    },
    {
     "data": {
      "text/html": [
       "<pre style=\"white-space:pre;overflow-x:auto;line-height:normal;font-family:Menlo,'DejaVu Sans Mono',consolas,'Courier New',monospace\"><span style=\"color: #7fbfbf; text-decoration-color: #7fbfbf\">[10/17/22 16:51:10] </span><span style=\"color: #000080; text-decoration-color: #000080\">INFO    </span> delimiter is |                                                         <a href=\"file:///usr/local/google/home/codyfincher/Code/database-tools/oracle-database-assessment/src/server/dbma/database.py\" target=\"_blank\"><span style=\"color: #7f7f7f; text-decoration-color: #7f7f7f\">database.py</span></a><span style=\"color: #7f7f7f; text-decoration-color: #7f7f7f\">:</span><a href=\"file:///usr/local/google/home/codyfincher/Code/database-tools/oracle-database-assessment/src/server/dbma/database.py#153\" target=\"_blank\"><span style=\"color: #7f7f7f; text-decoration-color: #7f7f7f\">153</span></a>\n",
       "</pre>\n"
      ],
      "text/plain": [
       "\u001b[2;36m[10/17/22 16:51:10]\u001b[0m\u001b[2;36m \u001b[0m\u001b[34mINFO    \u001b[0m delimiter is |                                                         \u001b]8;id=198815;file:///usr/local/google/home/codyfincher/Code/database-tools/oracle-database-assessment/src/server/dbma/database.py\u001b\\\u001b[2mdatabase.py\u001b[0m\u001b]8;;\u001b\\\u001b[2m:\u001b[0m\u001b]8;id=776878;file:///usr/local/google/home/codyfincher/Code/database-tools/oracle-database-assessment/src/server/dbma/database.py#153\u001b\\\u001b[2m153\u001b[0m\u001b]8;;\u001b\\\n"
      ]
     },
     "metadata": {},
     "output_type": "display_data"
    },
    {
     "data": {
      "text/html": [
       "<pre style=\"white-space:pre;overflow-x:auto;line-height:normal;font-family:Menlo,'DejaVu Sans Mono',consolas,'Courier New',monospace\"><span style=\"color: #7fbfbf; text-decoration-color: #7fbfbf\">[10/17/22 16:51:10] </span><span style=\"color: #000080; text-decoration-color: #000080\">INFO    </span> <span style=\"color: #808000; text-decoration-color: #808000\">...</span> db_features  <span style=\"color: #008000; text-decoration-color: #008000; font-weight: bold\">SUCCESS</span> <span style=\"font-weight: bold\">[</span><span style=\"color: #008080; text-decoration-color: #008080; font-weight: bold\">703</span> <span style=\"color: #800080; text-decoration-color: #800080; font-weight: bold\">rows</span><span style=\"font-weight: bold\">(</span>s<span style=\"font-weight: bold\">)]</span>                                 <a href=\"file:///usr/local/google/home/codyfincher/Code/database-tools/oracle-database-assessment/src/server/dbma/database.py\" target=\"_blank\"><span style=\"color: #7f7f7f; text-decoration-color: #7f7f7f\">database.py</span></a><span style=\"color: #7f7f7f; text-decoration-color: #7f7f7f\">:</span><a href=\"file:///usr/local/google/home/codyfincher/Code/database-tools/oracle-database-assessment/src/server/dbma/database.py#160\" target=\"_blank\"><span style=\"color: #7f7f7f; text-decoration-color: #7f7f7f\">160</span></a>\n",
       "</pre>\n"
      ],
      "text/plain": [
       "\u001b[2;36m[10/17/22 16:51:10]\u001b[0m\u001b[2;36m \u001b[0m\u001b[34mINFO    \u001b[0m \u001b[33m...\u001b[0m db_features  \u001b[1;32mSUCCESS\u001b[0m \u001b[1m[\u001b[0m\u001b[1;36m703\u001b[0m \u001b[1;35mrows\u001b[0m\u001b[1m(\u001b[0ms\u001b[1m)\u001b[0m\u001b[1m]\u001b[0m                                 \u001b]8;id=307147;file:///usr/local/google/home/codyfincher/Code/database-tools/oracle-database-assessment/src/server/dbma/database.py\u001b\\\u001b[2mdatabase.py\u001b[0m\u001b]8;;\u001b\\\u001b[2m:\u001b[0m\u001b]8;id=224068;file:///usr/local/google/home/codyfincher/Code/database-tools/oracle-database-assessment/src/server/dbma/database.py#160\u001b\\\u001b[2m160\u001b[0m\u001b]8;;\u001b\\\n"
      ]
     },
     "metadata": {},
     "output_type": "display_data"
    },
    {
     "data": {
      "text/html": [
       "<pre style=\"white-space:pre;overflow-x:auto;line-height:normal;font-family:Menlo,'DejaVu Sans Mono',consolas,'Courier New',monospace\"><span style=\"color: #7fbfbf; text-decoration-color: #7fbfbf\">[10/17/22 16:51:10] </span><span style=\"color: #000080; text-decoration-color: #000080\">INFO    </span> delimiter is |                                                         <a href=\"file:///usr/local/google/home/codyfincher/Code/database-tools/oracle-database-assessment/src/server/dbma/database.py\" target=\"_blank\"><span style=\"color: #7f7f7f; text-decoration-color: #7f7f7f\">database.py</span></a><span style=\"color: #7f7f7f; text-decoration-color: #7f7f7f\">:</span><a href=\"file:///usr/local/google/home/codyfincher/Code/database-tools/oracle-database-assessment/src/server/dbma/database.py#153\" target=\"_blank\"><span style=\"color: #7f7f7f; text-decoration-color: #7f7f7f\">153</span></a>\n",
       "</pre>\n"
      ],
      "text/plain": [
       "\u001b[2;36m[10/17/22 16:51:10]\u001b[0m\u001b[2;36m \u001b[0m\u001b[34mINFO    \u001b[0m delimiter is |                                                         \u001b]8;id=814571;file:///usr/local/google/home/codyfincher/Code/database-tools/oracle-database-assessment/src/server/dbma/database.py\u001b\\\u001b[2mdatabase.py\u001b[0m\u001b]8;;\u001b\\\u001b[2m:\u001b[0m\u001b]8;id=66420;file:///usr/local/google/home/codyfincher/Code/database-tools/oracle-database-assessment/src/server/dbma/database.py#153\u001b\\\u001b[2m153\u001b[0m\u001b]8;;\u001b\\\n"
      ]
     },
     "metadata": {},
     "output_type": "display_data"
    },
    {
     "data": {
      "text/html": [
       "<pre style=\"white-space:pre;overflow-x:auto;line-height:normal;font-family:Menlo,'DejaVu Sans Mono',consolas,'Courier New',monospace\"><span style=\"color: #7fbfbf; text-decoration-color: #7fbfbf\">[10/17/22 16:51:10] </span><span style=\"color: #000080; text-decoration-color: #000080\">INFO    </span> <span style=\"color: #808000; text-decoration-color: #808000\">...</span> db_high_water_stats  <span style=\"color: #008000; text-decoration-color: #008000; font-weight: bold\">SUCCESS</span> <span style=\"font-weight: bold\">[</span><span style=\"color: #008080; text-decoration-color: #008080; font-weight: bold\">72</span> <span style=\"color: #800080; text-decoration-color: #800080; font-weight: bold\">rows</span><span style=\"font-weight: bold\">(</span>s<span style=\"font-weight: bold\">)]</span>                          <a href=\"file:///usr/local/google/home/codyfincher/Code/database-tools/oracle-database-assessment/src/server/dbma/database.py\" target=\"_blank\"><span style=\"color: #7f7f7f; text-decoration-color: #7f7f7f\">database.py</span></a><span style=\"color: #7f7f7f; text-decoration-color: #7f7f7f\">:</span><a href=\"file:///usr/local/google/home/codyfincher/Code/database-tools/oracle-database-assessment/src/server/dbma/database.py#160\" target=\"_blank\"><span style=\"color: #7f7f7f; text-decoration-color: #7f7f7f\">160</span></a>\n",
       "</pre>\n"
      ],
      "text/plain": [
       "\u001b[2;36m[10/17/22 16:51:10]\u001b[0m\u001b[2;36m \u001b[0m\u001b[34mINFO    \u001b[0m \u001b[33m...\u001b[0m db_high_water_stats  \u001b[1;32mSUCCESS\u001b[0m \u001b[1m[\u001b[0m\u001b[1;36m72\u001b[0m \u001b[1;35mrows\u001b[0m\u001b[1m(\u001b[0ms\u001b[1m)\u001b[0m\u001b[1m]\u001b[0m                          \u001b]8;id=258492;file:///usr/local/google/home/codyfincher/Code/database-tools/oracle-database-assessment/src/server/dbma/database.py\u001b\\\u001b[2mdatabase.py\u001b[0m\u001b]8;;\u001b\\\u001b[2m:\u001b[0m\u001b]8;id=782986;file:///usr/local/google/home/codyfincher/Code/database-tools/oracle-database-assessment/src/server/dbma/database.py#160\u001b\\\u001b[2m160\u001b[0m\u001b]8;;\u001b\\\n"
      ]
     },
     "metadata": {},
     "output_type": "display_data"
    },
    {
     "data": {
      "text/html": [
       "<pre style=\"white-space:pre;overflow-x:auto;line-height:normal;font-family:Menlo,'DejaVu Sans Mono',consolas,'Courier New',monospace\"><span style=\"color: #7fbfbf; text-decoration-color: #7fbfbf\">[10/17/22 16:51:10] </span><span style=\"color: #000080; text-decoration-color: #000080\">INFO    </span> delimiter is |                                                         <a href=\"file:///usr/local/google/home/codyfincher/Code/database-tools/oracle-database-assessment/src/server/dbma/database.py\" target=\"_blank\"><span style=\"color: #7f7f7f; text-decoration-color: #7f7f7f\">database.py</span></a><span style=\"color: #7f7f7f; text-decoration-color: #7f7f7f\">:</span><a href=\"file:///usr/local/google/home/codyfincher/Code/database-tools/oracle-database-assessment/src/server/dbma/database.py#153\" target=\"_blank\"><span style=\"color: #7f7f7f; text-decoration-color: #7f7f7f\">153</span></a>\n",
       "</pre>\n"
      ],
      "text/plain": [
       "\u001b[2;36m[10/17/22 16:51:10]\u001b[0m\u001b[2;36m \u001b[0m\u001b[34mINFO    \u001b[0m delimiter is |                                                         \u001b]8;id=911935;file:///usr/local/google/home/codyfincher/Code/database-tools/oracle-database-assessment/src/server/dbma/database.py\u001b\\\u001b[2mdatabase.py\u001b[0m\u001b]8;;\u001b\\\u001b[2m:\u001b[0m\u001b]8;id=63798;file:///usr/local/google/home/codyfincher/Code/database-tools/oracle-database-assessment/src/server/dbma/database.py#153\u001b\\\u001b[2m153\u001b[0m\u001b]8;;\u001b\\\n"
      ]
     },
     "metadata": {},
     "output_type": "display_data"
    },
    {
     "data": {
      "text/html": [
       "<pre style=\"white-space:pre;overflow-x:auto;line-height:normal;font-family:Menlo,'DejaVu Sans Mono',consolas,'Courier New',monospace\"><span style=\"color: #7fbfbf; text-decoration-color: #7fbfbf\">[10/17/22 16:51:10] </span><span style=\"color: #000080; text-decoration-color: #000080\">INFO    </span> <span style=\"color: #808000; text-decoration-color: #808000\">...</span> db_instances  <span style=\"color: #008000; text-decoration-color: #008000; font-weight: bold\">SUCCESS</span> <span style=\"font-weight: bold\">[</span><span style=\"color: #008080; text-decoration-color: #008080; font-weight: bold\">1</span> <span style=\"color: #800080; text-decoration-color: #800080; font-weight: bold\">rows</span><span style=\"font-weight: bold\">(</span>s<span style=\"font-weight: bold\">)]</span>                                  <a href=\"file:///usr/local/google/home/codyfincher/Code/database-tools/oracle-database-assessment/src/server/dbma/database.py\" target=\"_blank\"><span style=\"color: #7f7f7f; text-decoration-color: #7f7f7f\">database.py</span></a><span style=\"color: #7f7f7f; text-decoration-color: #7f7f7f\">:</span><a href=\"file:///usr/local/google/home/codyfincher/Code/database-tools/oracle-database-assessment/src/server/dbma/database.py#160\" target=\"_blank\"><span style=\"color: #7f7f7f; text-decoration-color: #7f7f7f\">160</span></a>\n",
       "</pre>\n"
      ],
      "text/plain": [
       "\u001b[2;36m[10/17/22 16:51:10]\u001b[0m\u001b[2;36m \u001b[0m\u001b[34mINFO    \u001b[0m \u001b[33m...\u001b[0m db_instances  \u001b[1;32mSUCCESS\u001b[0m \u001b[1m[\u001b[0m\u001b[1;36m1\u001b[0m \u001b[1;35mrows\u001b[0m\u001b[1m(\u001b[0ms\u001b[1m)\u001b[0m\u001b[1m]\u001b[0m                                  \u001b]8;id=556199;file:///usr/local/google/home/codyfincher/Code/database-tools/oracle-database-assessment/src/server/dbma/database.py\u001b\\\u001b[2mdatabase.py\u001b[0m\u001b]8;;\u001b\\\u001b[2m:\u001b[0m\u001b]8;id=282331;file:///usr/local/google/home/codyfincher/Code/database-tools/oracle-database-assessment/src/server/dbma/database.py#160\u001b\\\u001b[2m160\u001b[0m\u001b]8;;\u001b\\\n"
      ]
     },
     "metadata": {},
     "output_type": "display_data"
    },
    {
     "data": {
      "text/html": [
       "<pre style=\"white-space:pre;overflow-x:auto;line-height:normal;font-family:Menlo,'DejaVu Sans Mono',consolas,'Courier New',monospace\"><span style=\"color: #7fbfbf; text-decoration-color: #7fbfbf\">[10/17/22 16:51:10] </span><span style=\"color: #000080; text-decoration-color: #000080\">INFO    </span> delimiter is |                                                         <a href=\"file:///usr/local/google/home/codyfincher/Code/database-tools/oracle-database-assessment/src/server/dbma/database.py\" target=\"_blank\"><span style=\"color: #7f7f7f; text-decoration-color: #7f7f7f\">database.py</span></a><span style=\"color: #7f7f7f; text-decoration-color: #7f7f7f\">:</span><a href=\"file:///usr/local/google/home/codyfincher/Code/database-tools/oracle-database-assessment/src/server/dbma/database.py#153\" target=\"_blank\"><span style=\"color: #7f7f7f; text-decoration-color: #7f7f7f\">153</span></a>\n",
       "</pre>\n"
      ],
      "text/plain": [
       "\u001b[2;36m[10/17/22 16:51:10]\u001b[0m\u001b[2;36m \u001b[0m\u001b[34mINFO    \u001b[0m delimiter is |                                                         \u001b]8;id=812410;file:///usr/local/google/home/codyfincher/Code/database-tools/oracle-database-assessment/src/server/dbma/database.py\u001b\\\u001b[2mdatabase.py\u001b[0m\u001b]8;;\u001b\\\u001b[2m:\u001b[0m\u001b]8;id=593448;file:///usr/local/google/home/codyfincher/Code/database-tools/oracle-database-assessment/src/server/dbma/database.py#153\u001b\\\u001b[2m153\u001b[0m\u001b]8;;\u001b\\\n"
      ]
     },
     "metadata": {},
     "output_type": "display_data"
    },
    {
     "data": {
      "text/html": [
       "<pre style=\"white-space:pre;overflow-x:auto;line-height:normal;font-family:Menlo,'DejaVu Sans Mono',consolas,'Courier New',monospace\"><span style=\"color: #7fbfbf; text-decoration-color: #7fbfbf\">[10/17/22 16:51:10] </span><span style=\"color: #000080; text-decoration-color: #000080\">INFO    </span> <span style=\"color: #808000; text-decoration-color: #808000\">...</span> db_links  <span style=\"color: #008000; text-decoration-color: #008000; font-weight: bold\">SUCCESS</span> <span style=\"font-weight: bold\">[</span><span style=\"color: #008080; text-decoration-color: #008080; font-weight: bold\">13</span> <span style=\"color: #800080; text-decoration-color: #800080; font-weight: bold\">rows</span><span style=\"font-weight: bold\">(</span>s<span style=\"font-weight: bold\">)]</span>                                     <a href=\"file:///usr/local/google/home/codyfincher/Code/database-tools/oracle-database-assessment/src/server/dbma/database.py\" target=\"_blank\"><span style=\"color: #7f7f7f; text-decoration-color: #7f7f7f\">database.py</span></a><span style=\"color: #7f7f7f; text-decoration-color: #7f7f7f\">:</span><a href=\"file:///usr/local/google/home/codyfincher/Code/database-tools/oracle-database-assessment/src/server/dbma/database.py#160\" target=\"_blank\"><span style=\"color: #7f7f7f; text-decoration-color: #7f7f7f\">160</span></a>\n",
       "</pre>\n"
      ],
      "text/plain": [
       "\u001b[2;36m[10/17/22 16:51:10]\u001b[0m\u001b[2;36m \u001b[0m\u001b[34mINFO    \u001b[0m \u001b[33m...\u001b[0m db_links  \u001b[1;32mSUCCESS\u001b[0m \u001b[1m[\u001b[0m\u001b[1;36m13\u001b[0m \u001b[1;35mrows\u001b[0m\u001b[1m(\u001b[0ms\u001b[1m)\u001b[0m\u001b[1m]\u001b[0m                                     \u001b]8;id=127839;file:///usr/local/google/home/codyfincher/Code/database-tools/oracle-database-assessment/src/server/dbma/database.py\u001b\\\u001b[2mdatabase.py\u001b[0m\u001b]8;;\u001b\\\u001b[2m:\u001b[0m\u001b]8;id=848994;file:///usr/local/google/home/codyfincher/Code/database-tools/oracle-database-assessment/src/server/dbma/database.py#160\u001b\\\u001b[2m160\u001b[0m\u001b]8;;\u001b\\\n"
      ]
     },
     "metadata": {},
     "output_type": "display_data"
    },
    {
     "data": {
      "text/html": [
       "<pre style=\"white-space:pre;overflow-x:auto;line-height:normal;font-family:Menlo,'DejaVu Sans Mono',consolas,'Courier New',monospace\"><span style=\"color: #7fbfbf; text-decoration-color: #7fbfbf\">[10/17/22 16:51:10] </span><span style=\"color: #000080; text-decoration-color: #000080\">INFO    </span> delimiter is |                                                         <a href=\"file:///usr/local/google/home/codyfincher/Code/database-tools/oracle-database-assessment/src/server/dbma/database.py\" target=\"_blank\"><span style=\"color: #7f7f7f; text-decoration-color: #7f7f7f\">database.py</span></a><span style=\"color: #7f7f7f; text-decoration-color: #7f7f7f\">:</span><a href=\"file:///usr/local/google/home/codyfincher/Code/database-tools/oracle-database-assessment/src/server/dbma/database.py#153\" target=\"_blank\"><span style=\"color: #7f7f7f; text-decoration-color: #7f7f7f\">153</span></a>\n",
       "</pre>\n"
      ],
      "text/plain": [
       "\u001b[2;36m[10/17/22 16:51:10]\u001b[0m\u001b[2;36m \u001b[0m\u001b[34mINFO    \u001b[0m delimiter is |                                                         \u001b]8;id=557362;file:///usr/local/google/home/codyfincher/Code/database-tools/oracle-database-assessment/src/server/dbma/database.py\u001b\\\u001b[2mdatabase.py\u001b[0m\u001b]8;;\u001b\\\u001b[2m:\u001b[0m\u001b]8;id=507312;file:///usr/local/google/home/codyfincher/Code/database-tools/oracle-database-assessment/src/server/dbma/database.py#153\u001b\\\u001b[2m153\u001b[0m\u001b]8;;\u001b\\\n"
      ]
     },
     "metadata": {},
     "output_type": "display_data"
    },
    {
     "data": {
      "text/html": [
       "<pre style=\"white-space:pre;overflow-x:auto;line-height:normal;font-family:Menlo,'DejaVu Sans Mono',consolas,'Courier New',monospace\"><span style=\"color: #7fbfbf; text-decoration-color: #7fbfbf\">[10/17/22 16:51:10] </span><span style=\"color: #000080; text-decoration-color: #000080\">INFO    </span> <span style=\"color: #808000; text-decoration-color: #808000\">...</span> db_objects  <span style=\"color: #008000; text-decoration-color: #008000; font-weight: bold\">SUCCESS</span> <span style=\"font-weight: bold\">[</span><span style=\"color: #008080; text-decoration-color: #008080; font-weight: bold\">489</span> <span style=\"color: #800080; text-decoration-color: #800080; font-weight: bold\">rows</span><span style=\"font-weight: bold\">(</span>s<span style=\"font-weight: bold\">)]</span>                                  <a href=\"file:///usr/local/google/home/codyfincher/Code/database-tools/oracle-database-assessment/src/server/dbma/database.py\" target=\"_blank\"><span style=\"color: #7f7f7f; text-decoration-color: #7f7f7f\">database.py</span></a><span style=\"color: #7f7f7f; text-decoration-color: #7f7f7f\">:</span><a href=\"file:///usr/local/google/home/codyfincher/Code/database-tools/oracle-database-assessment/src/server/dbma/database.py#160\" target=\"_blank\"><span style=\"color: #7f7f7f; text-decoration-color: #7f7f7f\">160</span></a>\n",
       "</pre>\n"
      ],
      "text/plain": [
       "\u001b[2;36m[10/17/22 16:51:10]\u001b[0m\u001b[2;36m \u001b[0m\u001b[34mINFO    \u001b[0m \u001b[33m...\u001b[0m db_objects  \u001b[1;32mSUCCESS\u001b[0m \u001b[1m[\u001b[0m\u001b[1;36m489\u001b[0m \u001b[1;35mrows\u001b[0m\u001b[1m(\u001b[0ms\u001b[1m)\u001b[0m\u001b[1m]\u001b[0m                                  \u001b]8;id=579181;file:///usr/local/google/home/codyfincher/Code/database-tools/oracle-database-assessment/src/server/dbma/database.py\u001b\\\u001b[2mdatabase.py\u001b[0m\u001b]8;;\u001b\\\u001b[2m:\u001b[0m\u001b]8;id=842811;file:///usr/local/google/home/codyfincher/Code/database-tools/oracle-database-assessment/src/server/dbma/database.py#160\u001b\\\u001b[2m160\u001b[0m\u001b]8;;\u001b\\\n"
      ]
     },
     "metadata": {},
     "output_type": "display_data"
    },
    {
     "data": {
      "text/html": [
       "<pre style=\"white-space:pre;overflow-x:auto;line-height:normal;font-family:Menlo,'DejaVu Sans Mono',consolas,'Courier New',monospace\"><span style=\"color: #7fbfbf; text-decoration-color: #7fbfbf\">[10/17/22 16:51:10] </span><span style=\"color: #000080; text-decoration-color: #000080\">INFO    </span> delimiter is |                                                         <a href=\"file:///usr/local/google/home/codyfincher/Code/database-tools/oracle-database-assessment/src/server/dbma/database.py\" target=\"_blank\"><span style=\"color: #7f7f7f; text-decoration-color: #7f7f7f\">database.py</span></a><span style=\"color: #7f7f7f; text-decoration-color: #7f7f7f\">:</span><a href=\"file:///usr/local/google/home/codyfincher/Code/database-tools/oracle-database-assessment/src/server/dbma/database.py#153\" target=\"_blank\"><span style=\"color: #7f7f7f; text-decoration-color: #7f7f7f\">153</span></a>\n",
       "</pre>\n"
      ],
      "text/plain": [
       "\u001b[2;36m[10/17/22 16:51:10]\u001b[0m\u001b[2;36m \u001b[0m\u001b[34mINFO    \u001b[0m delimiter is |                                                         \u001b]8;id=762799;file:///usr/local/google/home/codyfincher/Code/database-tools/oracle-database-assessment/src/server/dbma/database.py\u001b\\\u001b[2mdatabase.py\u001b[0m\u001b]8;;\u001b\\\u001b[2m:\u001b[0m\u001b]8;id=753456;file:///usr/local/google/home/codyfincher/Code/database-tools/oracle-database-assessment/src/server/dbma/database.py#153\u001b\\\u001b[2m153\u001b[0m\u001b]8;;\u001b\\\n"
      ]
     },
     "metadata": {},
     "output_type": "display_data"
    },
    {
     "data": {
      "text/html": [
       "<pre style=\"white-space:pre;overflow-x:auto;line-height:normal;font-family:Menlo,'DejaVu Sans Mono',consolas,'Courier New',monospace\"><span style=\"color: #7fbfbf; text-decoration-color: #7fbfbf\">[10/17/22 16:51:10] </span><span style=\"color: #000080; text-decoration-color: #000080\">INFO    </span> <span style=\"color: #808000; text-decoration-color: #808000\">...</span> db_parameters  <span style=\"color: #008000; text-decoration-color: #008000; font-weight: bold\">SUCCESS</span> <span style=\"font-weight: bold\">[</span><span style=\"color: #008080; text-decoration-color: #008080; font-weight: bold\">436</span> <span style=\"color: #800080; text-decoration-color: #800080; font-weight: bold\">rows</span><span style=\"font-weight: bold\">(</span>s<span style=\"font-weight: bold\">)]</span>                               <a href=\"file:///usr/local/google/home/codyfincher/Code/database-tools/oracle-database-assessment/src/server/dbma/database.py\" target=\"_blank\"><span style=\"color: #7f7f7f; text-decoration-color: #7f7f7f\">database.py</span></a><span style=\"color: #7f7f7f; text-decoration-color: #7f7f7f\">:</span><a href=\"file:///usr/local/google/home/codyfincher/Code/database-tools/oracle-database-assessment/src/server/dbma/database.py#160\" target=\"_blank\"><span style=\"color: #7f7f7f; text-decoration-color: #7f7f7f\">160</span></a>\n",
       "</pre>\n"
      ],
      "text/plain": [
       "\u001b[2;36m[10/17/22 16:51:10]\u001b[0m\u001b[2;36m \u001b[0m\u001b[34mINFO    \u001b[0m \u001b[33m...\u001b[0m db_parameters  \u001b[1;32mSUCCESS\u001b[0m \u001b[1m[\u001b[0m\u001b[1;36m436\u001b[0m \u001b[1;35mrows\u001b[0m\u001b[1m(\u001b[0ms\u001b[1m)\u001b[0m\u001b[1m]\u001b[0m                               \u001b]8;id=955248;file:///usr/local/google/home/codyfincher/Code/database-tools/oracle-database-assessment/src/server/dbma/database.py\u001b\\\u001b[2mdatabase.py\u001b[0m\u001b]8;;\u001b\\\u001b[2m:\u001b[0m\u001b]8;id=339944;file:///usr/local/google/home/codyfincher/Code/database-tools/oracle-database-assessment/src/server/dbma/database.py#160\u001b\\\u001b[2m160\u001b[0m\u001b]8;;\u001b\\\n"
      ]
     },
     "metadata": {},
     "output_type": "display_data"
    },
    {
     "data": {
      "text/html": [
       "<pre style=\"white-space:pre;overflow-x:auto;line-height:normal;font-family:Menlo,'DejaVu Sans Mono',consolas,'Courier New',monospace\"><span style=\"color: #7fbfbf; text-decoration-color: #7fbfbf\">[10/17/22 16:51:10] </span><span style=\"color: #000080; text-decoration-color: #000080\">INFO    </span> delimiter is |                                                         <a href=\"file:///usr/local/google/home/codyfincher/Code/database-tools/oracle-database-assessment/src/server/dbma/database.py\" target=\"_blank\"><span style=\"color: #7f7f7f; text-decoration-color: #7f7f7f\">database.py</span></a><span style=\"color: #7f7f7f; text-decoration-color: #7f7f7f\">:</span><a href=\"file:///usr/local/google/home/codyfincher/Code/database-tools/oracle-database-assessment/src/server/dbma/database.py#153\" target=\"_blank\"><span style=\"color: #7f7f7f; text-decoration-color: #7f7f7f\">153</span></a>\n",
       "</pre>\n"
      ],
      "text/plain": [
       "\u001b[2;36m[10/17/22 16:51:10]\u001b[0m\u001b[2;36m \u001b[0m\u001b[34mINFO    \u001b[0m delimiter is |                                                         \u001b]8;id=586434;file:///usr/local/google/home/codyfincher/Code/database-tools/oracle-database-assessment/src/server/dbma/database.py\u001b\\\u001b[2mdatabase.py\u001b[0m\u001b]8;;\u001b\\\u001b[2m:\u001b[0m\u001b]8;id=542404;file:///usr/local/google/home/codyfincher/Code/database-tools/oracle-database-assessment/src/server/dbma/database.py#153\u001b\\\u001b[2m153\u001b[0m\u001b]8;;\u001b\\\n"
      ]
     },
     "metadata": {},
     "output_type": "display_data"
    },
    {
     "data": {
      "text/html": [
       "<pre style=\"white-space:pre;overflow-x:auto;line-height:normal;font-family:Menlo,'DejaVu Sans Mono',consolas,'Courier New',monospace\"><span style=\"color: #7fbfbf; text-decoration-color: #7fbfbf\">[10/17/22 16:51:10] </span><span style=\"color: #000080; text-decoration-color: #000080\">INFO    </span> <span style=\"color: #808000; text-decoration-color: #808000\">...</span> db_summary  <span style=\"color: #008000; text-decoration-color: #008000; font-weight: bold\">SUCCESS</span> <span style=\"font-weight: bold\">[</span><span style=\"color: #008080; text-decoration-color: #008080; font-weight: bold\">1</span> <span style=\"color: #800080; text-decoration-color: #800080; font-weight: bold\">rows</span><span style=\"font-weight: bold\">(</span>s<span style=\"font-weight: bold\">)]</span>                                    <a href=\"file:///usr/local/google/home/codyfincher/Code/database-tools/oracle-database-assessment/src/server/dbma/database.py\" target=\"_blank\"><span style=\"color: #7f7f7f; text-decoration-color: #7f7f7f\">database.py</span></a><span style=\"color: #7f7f7f; text-decoration-color: #7f7f7f\">:</span><a href=\"file:///usr/local/google/home/codyfincher/Code/database-tools/oracle-database-assessment/src/server/dbma/database.py#160\" target=\"_blank\"><span style=\"color: #7f7f7f; text-decoration-color: #7f7f7f\">160</span></a>\n",
       "</pre>\n"
      ],
      "text/plain": [
       "\u001b[2;36m[10/17/22 16:51:10]\u001b[0m\u001b[2;36m \u001b[0m\u001b[34mINFO    \u001b[0m \u001b[33m...\u001b[0m db_summary  \u001b[1;32mSUCCESS\u001b[0m \u001b[1m[\u001b[0m\u001b[1;36m1\u001b[0m \u001b[1;35mrows\u001b[0m\u001b[1m(\u001b[0ms\u001b[1m)\u001b[0m\u001b[1m]\u001b[0m                                    \u001b]8;id=471022;file:///usr/local/google/home/codyfincher/Code/database-tools/oracle-database-assessment/src/server/dbma/database.py\u001b\\\u001b[2mdatabase.py\u001b[0m\u001b]8;;\u001b\\\u001b[2m:\u001b[0m\u001b]8;id=109847;file:///usr/local/google/home/codyfincher/Code/database-tools/oracle-database-assessment/src/server/dbma/database.py#160\u001b\\\u001b[2m160\u001b[0m\u001b]8;;\u001b\\\n"
      ]
     },
     "metadata": {},
     "output_type": "display_data"
    },
    {
     "data": {
      "text/html": [
       "<pre style=\"white-space:pre;overflow-x:auto;line-height:normal;font-family:Menlo,'DejaVu Sans Mono',consolas,'Courier New',monospace\"><span style=\"color: #7fbfbf; text-decoration-color: #7fbfbf\">[10/17/22 16:51:10] </span><span style=\"color: #000080; text-decoration-color: #000080\">INFO    </span> delimiter is |                                                         <a href=\"file:///usr/local/google/home/codyfincher/Code/database-tools/oracle-database-assessment/src/server/dbma/database.py\" target=\"_blank\"><span style=\"color: #7f7f7f; text-decoration-color: #7f7f7f\">database.py</span></a><span style=\"color: #7f7f7f; text-decoration-color: #7f7f7f\">:</span><a href=\"file:///usr/local/google/home/codyfincher/Code/database-tools/oracle-database-assessment/src/server/dbma/database.py#153\" target=\"_blank\"><span style=\"color: #7f7f7f; text-decoration-color: #7f7f7f\">153</span></a>\n",
       "</pre>\n"
      ],
      "text/plain": [
       "\u001b[2;36m[10/17/22 16:51:10]\u001b[0m\u001b[2;36m \u001b[0m\u001b[34mINFO    \u001b[0m delimiter is |                                                         \u001b]8;id=528334;file:///usr/local/google/home/codyfincher/Code/database-tools/oracle-database-assessment/src/server/dbma/database.py\u001b\\\u001b[2mdatabase.py\u001b[0m\u001b]8;;\u001b\\\u001b[2m:\u001b[0m\u001b]8;id=365633;file:///usr/local/google/home/codyfincher/Code/database-tools/oracle-database-assessment/src/server/dbma/database.py#153\u001b\\\u001b[2m153\u001b[0m\u001b]8;;\u001b\\\n"
      ]
     },
     "metadata": {},
     "output_type": "display_data"
    },
    {
     "data": {
      "text/html": [
       "<pre style=\"white-space:pre;overflow-x:auto;line-height:normal;font-family:Menlo,'DejaVu Sans Mono',consolas,'Courier New',monospace\"><span style=\"color: #7fbfbf; text-decoration-color: #7fbfbf\">[10/17/22 16:51:10] </span><span style=\"color: #000080; text-decoration-color: #000080\">INFO    </span> <span style=\"color: #808000; text-decoration-color: #808000\">...</span> db_external_tables  <span style=\"color: #008000; text-decoration-color: #008000; font-weight: bold\">SUCCESS</span> <span style=\"font-weight: bold\">[</span><span style=\"color: #008080; text-decoration-color: #008080; font-weight: bold\">510</span> <span style=\"color: #800080; text-decoration-color: #800080; font-weight: bold\">rows</span><span style=\"font-weight: bold\">(</span>s<span style=\"font-weight: bold\">)]</span>                          <a href=\"file:///usr/local/google/home/codyfincher/Code/database-tools/oracle-database-assessment/src/server/dbma/database.py\" target=\"_blank\"><span style=\"color: #7f7f7f; text-decoration-color: #7f7f7f\">database.py</span></a><span style=\"color: #7f7f7f; text-decoration-color: #7f7f7f\">:</span><a href=\"file:///usr/local/google/home/codyfincher/Code/database-tools/oracle-database-assessment/src/server/dbma/database.py#160\" target=\"_blank\"><span style=\"color: #7f7f7f; text-decoration-color: #7f7f7f\">160</span></a>\n",
       "</pre>\n"
      ],
      "text/plain": [
       "\u001b[2;36m[10/17/22 16:51:10]\u001b[0m\u001b[2;36m \u001b[0m\u001b[34mINFO    \u001b[0m \u001b[33m...\u001b[0m db_external_tables  \u001b[1;32mSUCCESS\u001b[0m \u001b[1m[\u001b[0m\u001b[1;36m510\u001b[0m \u001b[1;35mrows\u001b[0m\u001b[1m(\u001b[0ms\u001b[1m)\u001b[0m\u001b[1m]\u001b[0m                          \u001b]8;id=572044;file:///usr/local/google/home/codyfincher/Code/database-tools/oracle-database-assessment/src/server/dbma/database.py\u001b\\\u001b[2mdatabase.py\u001b[0m\u001b]8;;\u001b\\\u001b[2m:\u001b[0m\u001b]8;id=83898;file:///usr/local/google/home/codyfincher/Code/database-tools/oracle-database-assessment/src/server/dbma/database.py#160\u001b\\\u001b[2m160\u001b[0m\u001b]8;;\u001b\\\n"
      ]
     },
     "metadata": {},
     "output_type": "display_data"
    },
    {
     "data": {
      "text/html": [
       "<pre style=\"white-space:pre;overflow-x:auto;line-height:normal;font-family:Menlo,'DejaVu Sans Mono',consolas,'Courier New',monospace\"><span style=\"color: #7fbfbf; text-decoration-color: #7fbfbf\">[10/17/22 16:51:10] </span><span style=\"color: #000080; text-decoration-color: #000080\">INFO    </span> delimiter is |                                                         <a href=\"file:///usr/local/google/home/codyfincher/Code/database-tools/oracle-database-assessment/src/server/dbma/database.py\" target=\"_blank\"><span style=\"color: #7f7f7f; text-decoration-color: #7f7f7f\">database.py</span></a><span style=\"color: #7f7f7f; text-decoration-color: #7f7f7f\">:</span><a href=\"file:///usr/local/google/home/codyfincher/Code/database-tools/oracle-database-assessment/src/server/dbma/database.py#153\" target=\"_blank\"><span style=\"color: #7f7f7f; text-decoration-color: #7f7f7f\">153</span></a>\n",
       "</pre>\n"
      ],
      "text/plain": [
       "\u001b[2;36m[10/17/22 16:51:10]\u001b[0m\u001b[2;36m \u001b[0m\u001b[34mINFO    \u001b[0m delimiter is |                                                         \u001b]8;id=404210;file:///usr/local/google/home/codyfincher/Code/database-tools/oracle-database-assessment/src/server/dbma/database.py\u001b\\\u001b[2mdatabase.py\u001b[0m\u001b]8;;\u001b\\\u001b[2m:\u001b[0m\u001b]8;id=221156;file:///usr/local/google/home/codyfincher/Code/database-tools/oracle-database-assessment/src/server/dbma/database.py#153\u001b\\\u001b[2m153\u001b[0m\u001b]8;;\u001b\\\n"
      ]
     },
     "metadata": {},
     "output_type": "display_data"
    },
    {
     "data": {
      "text/html": [
       "<pre style=\"white-space:pre;overflow-x:auto;line-height:normal;font-family:Menlo,'DejaVu Sans Mono',consolas,'Courier New',monospace\"><span style=\"color: #7fbfbf; text-decoration-color: #7fbfbf\">[10/17/22 16:51:10] </span><span style=\"color: #000080; text-decoration-color: #000080\">INFO    </span> <span style=\"color: #808000; text-decoration-color: #808000\">...</span> index_per_table  <span style=\"color: #008000; text-decoration-color: #008000; font-weight: bold\">SUCCESS</span> <span style=\"font-weight: bold\">[</span><span style=\"color: #008080; text-decoration-color: #008080; font-weight: bold\">26</span> <span style=\"color: #800080; text-decoration-color: #800080; font-weight: bold\">rows</span><span style=\"font-weight: bold\">(</span>s<span style=\"font-weight: bold\">)]</span>                              <a href=\"file:///usr/local/google/home/codyfincher/Code/database-tools/oracle-database-assessment/src/server/dbma/database.py\" target=\"_blank\"><span style=\"color: #7f7f7f; text-decoration-color: #7f7f7f\">database.py</span></a><span style=\"color: #7f7f7f; text-decoration-color: #7f7f7f\">:</span><a href=\"file:///usr/local/google/home/codyfincher/Code/database-tools/oracle-database-assessment/src/server/dbma/database.py#160\" target=\"_blank\"><span style=\"color: #7f7f7f; text-decoration-color: #7f7f7f\">160</span></a>\n",
       "</pre>\n"
      ],
      "text/plain": [
       "\u001b[2;36m[10/17/22 16:51:10]\u001b[0m\u001b[2;36m \u001b[0m\u001b[34mINFO    \u001b[0m \u001b[33m...\u001b[0m index_per_table  \u001b[1;32mSUCCESS\u001b[0m \u001b[1m[\u001b[0m\u001b[1;36m26\u001b[0m \u001b[1;35mrows\u001b[0m\u001b[1m(\u001b[0ms\u001b[1m)\u001b[0m\u001b[1m]\u001b[0m                              \u001b]8;id=432842;file:///usr/local/google/home/codyfincher/Code/database-tools/oracle-database-assessment/src/server/dbma/database.py\u001b\\\u001b[2mdatabase.py\u001b[0m\u001b]8;;\u001b\\\u001b[2m:\u001b[0m\u001b]8;id=651694;file:///usr/local/google/home/codyfincher/Code/database-tools/oracle-database-assessment/src/server/dbma/database.py#160\u001b\\\u001b[2m160\u001b[0m\u001b]8;;\u001b\\\n"
      ]
     },
     "metadata": {},
     "output_type": "display_data"
    },
    {
     "data": {
      "text/html": [
       "<pre style=\"white-space:pre;overflow-x:auto;line-height:normal;font-family:Menlo,'DejaVu Sans Mono',consolas,'Courier New',monospace\"><span style=\"color: #7fbfbf; text-decoration-color: #7fbfbf\">[10/17/22 16:51:10] </span><span style=\"color: #000080; text-decoration-color: #000080\">INFO    </span> delimiter is |                                                         <a href=\"file:///usr/local/google/home/codyfincher/Code/database-tools/oracle-database-assessment/src/server/dbma/database.py\" target=\"_blank\"><span style=\"color: #7f7f7f; text-decoration-color: #7f7f7f\">database.py</span></a><span style=\"color: #7f7f7f; text-decoration-color: #7f7f7f\">:</span><a href=\"file:///usr/local/google/home/codyfincher/Code/database-tools/oracle-database-assessment/src/server/dbma/database.py#153\" target=\"_blank\"><span style=\"color: #7f7f7f; text-decoration-color: #7f7f7f\">153</span></a>\n",
       "</pre>\n"
      ],
      "text/plain": [
       "\u001b[2;36m[10/17/22 16:51:10]\u001b[0m\u001b[2;36m \u001b[0m\u001b[34mINFO    \u001b[0m delimiter is |                                                         \u001b]8;id=127534;file:///usr/local/google/home/codyfincher/Code/database-tools/oracle-database-assessment/src/server/dbma/database.py\u001b\\\u001b[2mdatabase.py\u001b[0m\u001b]8;;\u001b\\\u001b[2m:\u001b[0m\u001b]8;id=389864;file:///usr/local/google/home/codyfincher/Code/database-tools/oracle-database-assessment/src/server/dbma/database.py#153\u001b\\\u001b[2m153\u001b[0m\u001b]8;;\u001b\\\n"
      ]
     },
     "metadata": {},
     "output_type": "display_data"
    },
    {
     "data": {
      "text/html": [
       "<pre style=\"white-space:pre;overflow-x:auto;line-height:normal;font-family:Menlo,'DejaVu Sans Mono',consolas,'Courier New',monospace\"><span style=\"color: #7fbfbf; text-decoration-color: #7fbfbf\">[10/17/22 16:51:10] </span><span style=\"color: #000080; text-decoration-color: #000080\">INFO    </span> <span style=\"color: #808000; text-decoration-color: #808000\">...</span> index_types  <span style=\"color: #008000; text-decoration-color: #008000; font-weight: bold\">SUCCESS</span> <span style=\"font-weight: bold\">[</span><span style=\"color: #008080; text-decoration-color: #008080; font-weight: bold\">97</span> <span style=\"color: #800080; text-decoration-color: #800080; font-weight: bold\">rows</span><span style=\"font-weight: bold\">(</span>s<span style=\"font-weight: bold\">)]</span>                                  <a href=\"file:///usr/local/google/home/codyfincher/Code/database-tools/oracle-database-assessment/src/server/dbma/database.py\" target=\"_blank\"><span style=\"color: #7f7f7f; text-decoration-color: #7f7f7f\">database.py</span></a><span style=\"color: #7f7f7f; text-decoration-color: #7f7f7f\">:</span><a href=\"file:///usr/local/google/home/codyfincher/Code/database-tools/oracle-database-assessment/src/server/dbma/database.py#160\" target=\"_blank\"><span style=\"color: #7f7f7f; text-decoration-color: #7f7f7f\">160</span></a>\n",
       "</pre>\n"
      ],
      "text/plain": [
       "\u001b[2;36m[10/17/22 16:51:10]\u001b[0m\u001b[2;36m \u001b[0m\u001b[34mINFO    \u001b[0m \u001b[33m...\u001b[0m index_types  \u001b[1;32mSUCCESS\u001b[0m \u001b[1m[\u001b[0m\u001b[1;36m97\u001b[0m \u001b[1;35mrows\u001b[0m\u001b[1m(\u001b[0ms\u001b[1m)\u001b[0m\u001b[1m]\u001b[0m                                  \u001b]8;id=797749;file:///usr/local/google/home/codyfincher/Code/database-tools/oracle-database-assessment/src/server/dbma/database.py\u001b\\\u001b[2mdatabase.py\u001b[0m\u001b]8;;\u001b\\\u001b[2m:\u001b[0m\u001b]8;id=535157;file:///usr/local/google/home/codyfincher/Code/database-tools/oracle-database-assessment/src/server/dbma/database.py#160\u001b\\\u001b[2m160\u001b[0m\u001b]8;;\u001b\\\n"
      ]
     },
     "metadata": {},
     "output_type": "display_data"
    },
    {
     "data": {
      "text/html": [
       "<pre style=\"white-space:pre;overflow-x:auto;line-height:normal;font-family:Menlo,'DejaVu Sans Mono',consolas,'Courier New',monospace\"><span style=\"color: #7fbfbf; text-decoration-color: #7fbfbf\">[10/17/22 16:51:10] </span><span style=\"color: #000080; text-decoration-color: #000080\">INFO    </span> delimiter is |                                                         <a href=\"file:///usr/local/google/home/codyfincher/Code/database-tools/oracle-database-assessment/src/server/dbma/database.py\" target=\"_blank\"><span style=\"color: #7f7f7f; text-decoration-color: #7f7f7f\">database.py</span></a><span style=\"color: #7f7f7f; text-decoration-color: #7f7f7f\">:</span><a href=\"file:///usr/local/google/home/codyfincher/Code/database-tools/oracle-database-assessment/src/server/dbma/database.py#153\" target=\"_blank\"><span style=\"color: #7f7f7f; text-decoration-color: #7f7f7f\">153</span></a>\n",
       "</pre>\n"
      ],
      "text/plain": [
       "\u001b[2;36m[10/17/22 16:51:10]\u001b[0m\u001b[2;36m \u001b[0m\u001b[34mINFO    \u001b[0m delimiter is |                                                         \u001b]8;id=423658;file:///usr/local/google/home/codyfincher/Code/database-tools/oracle-database-assessment/src/server/dbma/database.py\u001b\\\u001b[2mdatabase.py\u001b[0m\u001b]8;;\u001b\\\u001b[2m:\u001b[0m\u001b]8;id=645022;file:///usr/local/google/home/codyfincher/Code/database-tools/oracle-database-assessment/src/server/dbma/database.py#153\u001b\\\u001b[2m153\u001b[0m\u001b]8;;\u001b\\\n"
      ]
     },
     "metadata": {},
     "output_type": "display_data"
    },
    {
     "data": {
      "text/html": [
       "<pre style=\"white-space:pre;overflow-x:auto;line-height:normal;font-family:Menlo,'DejaVu Sans Mono',consolas,'Courier New',monospace\"><span style=\"color: #7fbfbf; text-decoration-color: #7fbfbf\">[10/17/22 16:51:10] </span><span style=\"color: #000080; text-decoration-color: #000080\">INFO    </span> <span style=\"color: #808000; text-decoration-color: #808000\">...</span> io_events  <span style=\"color: #008000; text-decoration-color: #008000; font-weight: bold\">SUCCESS</span> <span style=\"font-weight: bold\">[</span><span style=\"color: #008080; text-decoration-color: #008080; font-weight: bold\">844</span> <span style=\"color: #800080; text-decoration-color: #800080; font-weight: bold\">rows</span><span style=\"font-weight: bold\">(</span>s<span style=\"font-weight: bold\">)]</span>                                   <a href=\"file:///usr/local/google/home/codyfincher/Code/database-tools/oracle-database-assessment/src/server/dbma/database.py\" target=\"_blank\"><span style=\"color: #7f7f7f; text-decoration-color: #7f7f7f\">database.py</span></a><span style=\"color: #7f7f7f; text-decoration-color: #7f7f7f\">:</span><a href=\"file:///usr/local/google/home/codyfincher/Code/database-tools/oracle-database-assessment/src/server/dbma/database.py#160\" target=\"_blank\"><span style=\"color: #7f7f7f; text-decoration-color: #7f7f7f\">160</span></a>\n",
       "</pre>\n"
      ],
      "text/plain": [
       "\u001b[2;36m[10/17/22 16:51:10]\u001b[0m\u001b[2;36m \u001b[0m\u001b[34mINFO    \u001b[0m \u001b[33m...\u001b[0m io_events  \u001b[1;32mSUCCESS\u001b[0m \u001b[1m[\u001b[0m\u001b[1;36m844\u001b[0m \u001b[1;35mrows\u001b[0m\u001b[1m(\u001b[0ms\u001b[1m)\u001b[0m\u001b[1m]\u001b[0m                                   \u001b]8;id=184762;file:///usr/local/google/home/codyfincher/Code/database-tools/oracle-database-assessment/src/server/dbma/database.py\u001b\\\u001b[2mdatabase.py\u001b[0m\u001b]8;;\u001b\\\u001b[2m:\u001b[0m\u001b]8;id=304979;file:///usr/local/google/home/codyfincher/Code/database-tools/oracle-database-assessment/src/server/dbma/database.py#160\u001b\\\u001b[2m160\u001b[0m\u001b]8;;\u001b\\\n"
      ]
     },
     "metadata": {},
     "output_type": "display_data"
    },
    {
     "data": {
      "text/html": [
       "<pre style=\"white-space:pre;overflow-x:auto;line-height:normal;font-family:Menlo,'DejaVu Sans Mono',consolas,'Courier New',monospace\"><span style=\"color: #7fbfbf; text-decoration-color: #7fbfbf\">[10/17/22 16:51:10] </span><span style=\"color: #000080; text-decoration-color: #000080\">INFO    </span> delimiter is |                                                         <a href=\"file:///usr/local/google/home/codyfincher/Code/database-tools/oracle-database-assessment/src/server/dbma/database.py\" target=\"_blank\"><span style=\"color: #7f7f7f; text-decoration-color: #7f7f7f\">database.py</span></a><span style=\"color: #7f7f7f; text-decoration-color: #7f7f7f\">:</span><a href=\"file:///usr/local/google/home/codyfincher/Code/database-tools/oracle-database-assessment/src/server/dbma/database.py#153\" target=\"_blank\"><span style=\"color: #7f7f7f; text-decoration-color: #7f7f7f\">153</span></a>\n",
       "</pre>\n"
      ],
      "text/plain": [
       "\u001b[2;36m[10/17/22 16:51:10]\u001b[0m\u001b[2;36m \u001b[0m\u001b[34mINFO    \u001b[0m delimiter is |                                                         \u001b]8;id=698997;file:///usr/local/google/home/codyfincher/Code/database-tools/oracle-database-assessment/src/server/dbma/database.py\u001b\\\u001b[2mdatabase.py\u001b[0m\u001b]8;;\u001b\\\u001b[2m:\u001b[0m\u001b]8;id=40730;file:///usr/local/google/home/codyfincher/Code/database-tools/oracle-database-assessment/src/server/dbma/database.py#153\u001b\\\u001b[2m153\u001b[0m\u001b]8;;\u001b\\\n"
      ]
     },
     "metadata": {},
     "output_type": "display_data"
    },
    {
     "data": {
      "text/html": [
       "<pre style=\"white-space:pre;overflow-x:auto;line-height:normal;font-family:Menlo,'DejaVu Sans Mono',consolas,'Courier New',monospace\"><span style=\"color: #7fbfbf; text-decoration-color: #7fbfbf\">[10/17/22 16:51:10] </span><span style=\"color: #000080; text-decoration-color: #000080\">INFO    </span> <span style=\"color: #808000; text-decoration-color: #808000\">...</span> io_function  <span style=\"color: #008000; text-decoration-color: #008000; font-weight: bold\">SUCCESS</span> <span style=\"font-weight: bold\">[</span><span style=\"color: #008080; text-decoration-color: #008080; font-weight: bold\">360</span> <span style=\"color: #800080; text-decoration-color: #800080; font-weight: bold\">rows</span><span style=\"font-weight: bold\">(</span>s<span style=\"font-weight: bold\">)]</span>                                 <a href=\"file:///usr/local/google/home/codyfincher/Code/database-tools/oracle-database-assessment/src/server/dbma/database.py\" target=\"_blank\"><span style=\"color: #7f7f7f; text-decoration-color: #7f7f7f\">database.py</span></a><span style=\"color: #7f7f7f; text-decoration-color: #7f7f7f\">:</span><a href=\"file:///usr/local/google/home/codyfincher/Code/database-tools/oracle-database-assessment/src/server/dbma/database.py#160\" target=\"_blank\"><span style=\"color: #7f7f7f; text-decoration-color: #7f7f7f\">160</span></a>\n",
       "</pre>\n"
      ],
      "text/plain": [
       "\u001b[2;36m[10/17/22 16:51:10]\u001b[0m\u001b[2;36m \u001b[0m\u001b[34mINFO    \u001b[0m \u001b[33m...\u001b[0m io_function  \u001b[1;32mSUCCESS\u001b[0m \u001b[1m[\u001b[0m\u001b[1;36m360\u001b[0m \u001b[1;35mrows\u001b[0m\u001b[1m(\u001b[0ms\u001b[1m)\u001b[0m\u001b[1m]\u001b[0m                                 \u001b]8;id=640969;file:///usr/local/google/home/codyfincher/Code/database-tools/oracle-database-assessment/src/server/dbma/database.py\u001b\\\u001b[2mdatabase.py\u001b[0m\u001b]8;;\u001b\\\u001b[2m:\u001b[0m\u001b]8;id=128049;file:///usr/local/google/home/codyfincher/Code/database-tools/oracle-database-assessment/src/server/dbma/database.py#160\u001b\\\u001b[2m160\u001b[0m\u001b]8;;\u001b\\\n"
      ]
     },
     "metadata": {},
     "output_type": "display_data"
    },
    {
     "data": {
      "text/html": [
       "<pre style=\"white-space:pre;overflow-x:auto;line-height:normal;font-family:Menlo,'DejaVu Sans Mono',consolas,'Courier New',monospace\"><span style=\"color: #7fbfbf; text-decoration-color: #7fbfbf\">[10/17/22 16:51:10] </span><span style=\"color: #000080; text-decoration-color: #000080\">INFO    </span> delimiter is |                                                         <a href=\"file:///usr/local/google/home/codyfincher/Code/database-tools/oracle-database-assessment/src/server/dbma/database.py\" target=\"_blank\"><span style=\"color: #7f7f7f; text-decoration-color: #7f7f7f\">database.py</span></a><span style=\"color: #7f7f7f; text-decoration-color: #7f7f7f\">:</span><a href=\"file:///usr/local/google/home/codyfincher/Code/database-tools/oracle-database-assessment/src/server/dbma/database.py#153\" target=\"_blank\"><span style=\"color: #7f7f7f; text-decoration-color: #7f7f7f\">153</span></a>\n",
       "</pre>\n"
      ],
      "text/plain": [
       "\u001b[2;36m[10/17/22 16:51:10]\u001b[0m\u001b[2;36m \u001b[0m\u001b[34mINFO    \u001b[0m delimiter is |                                                         \u001b]8;id=693789;file:///usr/local/google/home/codyfincher/Code/database-tools/oracle-database-assessment/src/server/dbma/database.py\u001b\\\u001b[2mdatabase.py\u001b[0m\u001b]8;;\u001b\\\u001b[2m:\u001b[0m\u001b]8;id=410943;file:///usr/local/google/home/codyfincher/Code/database-tools/oracle-database-assessment/src/server/dbma/database.py#153\u001b\\\u001b[2m153\u001b[0m\u001b]8;;\u001b\\\n"
      ]
     },
     "metadata": {},
     "output_type": "display_data"
    },
    {
     "data": {
      "text/html": [
       "<pre style=\"white-space:pre;overflow-x:auto;line-height:normal;font-family:Menlo,'DejaVu Sans Mono',consolas,'Courier New',monospace\"><span style=\"color: #7fbfbf; text-decoration-color: #7fbfbf\">[10/17/22 16:51:10] </span><span style=\"color: #000080; text-decoration-color: #000080\">INFO    </span> <span style=\"color: #808000; text-decoration-color: #808000\">...</span> pdbs_info  <span style=\"color: #7f7f7f; text-decoration-color: #7f7f7f; font-weight: bold\">SKIPPED</span>                                                 <a href=\"file:///usr/local/google/home/codyfincher/Code/database-tools/oracle-database-assessment/src/server/dbma/database.py\" target=\"_blank\"><span style=\"color: #7f7f7f; text-decoration-color: #7f7f7f\">database.py</span></a><span style=\"color: #7f7f7f; text-decoration-color: #7f7f7f\">:</span><a href=\"file:///usr/local/google/home/codyfincher/Code/database-tools/oracle-database-assessment/src/server/dbma/database.py#163\" target=\"_blank\"><span style=\"color: #7f7f7f; text-decoration-color: #7f7f7f\">163</span></a>\n",
       "</pre>\n"
      ],
      "text/plain": [
       "\u001b[2;36m[10/17/22 16:51:10]\u001b[0m\u001b[2;36m \u001b[0m\u001b[34mINFO    \u001b[0m \u001b[33m...\u001b[0m pdbs_info  \u001b[1;2mSKIPPED\u001b[0m                                                 \u001b]8;id=887052;file:///usr/local/google/home/codyfincher/Code/database-tools/oracle-database-assessment/src/server/dbma/database.py\u001b\\\u001b[2mdatabase.py\u001b[0m\u001b]8;;\u001b\\\u001b[2m:\u001b[0m\u001b]8;id=628144;file:///usr/local/google/home/codyfincher/Code/database-tools/oracle-database-assessment/src/server/dbma/database.py#163\u001b\\\u001b[2m163\u001b[0m\u001b]8;;\u001b\\\n"
      ]
     },
     "metadata": {},
     "output_type": "display_data"
    },
    {
     "data": {
      "text/html": [
       "<pre style=\"white-space:pre;overflow-x:auto;line-height:normal;font-family:Menlo,'DejaVu Sans Mono',consolas,'Courier New',monospace\"><span style=\"color: #7fbfbf; text-decoration-color: #7fbfbf\">[10/17/22 16:51:10] </span><span style=\"color: #000080; text-decoration-color: #000080\">INFO    </span> delimiter is |                                                         <a href=\"file:///usr/local/google/home/codyfincher/Code/database-tools/oracle-database-assessment/src/server/dbma/database.py\" target=\"_blank\"><span style=\"color: #7f7f7f; text-decoration-color: #7f7f7f\">database.py</span></a><span style=\"color: #7f7f7f; text-decoration-color: #7f7f7f\">:</span><a href=\"file:///usr/local/google/home/codyfincher/Code/database-tools/oracle-database-assessment/src/server/dbma/database.py#153\" target=\"_blank\"><span style=\"color: #7f7f7f; text-decoration-color: #7f7f7f\">153</span></a>\n",
       "</pre>\n"
      ],
      "text/plain": [
       "\u001b[2;36m[10/17/22 16:51:10]\u001b[0m\u001b[2;36m \u001b[0m\u001b[34mINFO    \u001b[0m delimiter is |                                                         \u001b]8;id=948514;file:///usr/local/google/home/codyfincher/Code/database-tools/oracle-database-assessment/src/server/dbma/database.py\u001b\\\u001b[2mdatabase.py\u001b[0m\u001b]8;;\u001b\\\u001b[2m:\u001b[0m\u001b]8;id=391172;file:///usr/local/google/home/codyfincher/Code/database-tools/oracle-database-assessment/src/server/dbma/database.py#153\u001b\\\u001b[2m153\u001b[0m\u001b]8;;\u001b\\\n"
      ]
     },
     "metadata": {},
     "output_type": "display_data"
    },
    {
     "data": {
      "text/html": [
       "<pre style=\"white-space:pre;overflow-x:auto;line-height:normal;font-family:Menlo,'DejaVu Sans Mono',consolas,'Courier New',monospace\"><span style=\"color: #7fbfbf; text-decoration-color: #7fbfbf\">[10/17/22 16:51:10] </span><span style=\"color: #000080; text-decoration-color: #000080\">INFO    </span> <span style=\"color: #808000; text-decoration-color: #808000\">...</span> pdbs_in_open_mode  <span style=\"color: #7f7f7f; text-decoration-color: #7f7f7f; font-weight: bold\">SKIPPED</span>                                         <a href=\"file:///usr/local/google/home/codyfincher/Code/database-tools/oracle-database-assessment/src/server/dbma/database.py\" target=\"_blank\"><span style=\"color: #7f7f7f; text-decoration-color: #7f7f7f\">database.py</span></a><span style=\"color: #7f7f7f; text-decoration-color: #7f7f7f\">:</span><a href=\"file:///usr/local/google/home/codyfincher/Code/database-tools/oracle-database-assessment/src/server/dbma/database.py#163\" target=\"_blank\"><span style=\"color: #7f7f7f; text-decoration-color: #7f7f7f\">163</span></a>\n",
       "</pre>\n"
      ],
      "text/plain": [
       "\u001b[2;36m[10/17/22 16:51:10]\u001b[0m\u001b[2;36m \u001b[0m\u001b[34mINFO    \u001b[0m \u001b[33m...\u001b[0m pdbs_in_open_mode  \u001b[1;2mSKIPPED\u001b[0m                                         \u001b]8;id=600500;file:///usr/local/google/home/codyfincher/Code/database-tools/oracle-database-assessment/src/server/dbma/database.py\u001b\\\u001b[2mdatabase.py\u001b[0m\u001b]8;;\u001b\\\u001b[2m:\u001b[0m\u001b]8;id=171804;file:///usr/local/google/home/codyfincher/Code/database-tools/oracle-database-assessment/src/server/dbma/database.py#163\u001b\\\u001b[2m163\u001b[0m\u001b]8;;\u001b\\\n"
      ]
     },
     "metadata": {},
     "output_type": "display_data"
    },
    {
     "data": {
      "text/html": [
       "<pre style=\"white-space:pre;overflow-x:auto;line-height:normal;font-family:Menlo,'DejaVu Sans Mono',consolas,'Courier New',monospace\"><span style=\"color: #7fbfbf; text-decoration-color: #7fbfbf\">[10/17/22 16:51:10] </span><span style=\"color: #000080; text-decoration-color: #000080\">INFO    </span> delimiter is |                                                         <a href=\"file:///usr/local/google/home/codyfincher/Code/database-tools/oracle-database-assessment/src/server/dbma/database.py\" target=\"_blank\"><span style=\"color: #7f7f7f; text-decoration-color: #7f7f7f\">database.py</span></a><span style=\"color: #7f7f7f; text-decoration-color: #7f7f7f\">:</span><a href=\"file:///usr/local/google/home/codyfincher/Code/database-tools/oracle-database-assessment/src/server/dbma/database.py#153\" target=\"_blank\"><span style=\"color: #7f7f7f; text-decoration-color: #7f7f7f\">153</span></a>\n",
       "</pre>\n"
      ],
      "text/plain": [
       "\u001b[2;36m[10/17/22 16:51:10]\u001b[0m\u001b[2;36m \u001b[0m\u001b[34mINFO    \u001b[0m delimiter is |                                                         \u001b]8;id=209008;file:///usr/local/google/home/codyfincher/Code/database-tools/oracle-database-assessment/src/server/dbma/database.py\u001b\\\u001b[2mdatabase.py\u001b[0m\u001b]8;;\u001b\\\u001b[2m:\u001b[0m\u001b]8;id=70742;file:///usr/local/google/home/codyfincher/Code/database-tools/oracle-database-assessment/src/server/dbma/database.py#153\u001b\\\u001b[2m153\u001b[0m\u001b]8;;\u001b\\\n"
      ]
     },
     "metadata": {},
     "output_type": "display_data"
    },
    {
     "data": {
      "text/html": [
       "<pre style=\"white-space:pre;overflow-x:auto;line-height:normal;font-family:Menlo,'DejaVu Sans Mono',consolas,'Courier New',monospace\"><span style=\"color: #7fbfbf; text-decoration-color: #7fbfbf\">[10/17/22 16:51:10] </span><span style=\"color: #000080; text-decoration-color: #000080\">INFO    </span> <span style=\"color: #808000; text-decoration-color: #808000\">...</span> db_source_code  <span style=\"color: #008000; text-decoration-color: #008000; font-weight: bold\">SUCCESS</span> <span style=\"font-weight: bold\">[</span><span style=\"color: #008080; text-decoration-color: #008080; font-weight: bold\">174</span> <span style=\"color: #800080; text-decoration-color: #800080; font-weight: bold\">rows</span><span style=\"font-weight: bold\">(</span>s<span style=\"font-weight: bold\">)]</span>                              <a href=\"file:///usr/local/google/home/codyfincher/Code/database-tools/oracle-database-assessment/src/server/dbma/database.py\" target=\"_blank\"><span style=\"color: #7f7f7f; text-decoration-color: #7f7f7f\">database.py</span></a><span style=\"color: #7f7f7f; text-decoration-color: #7f7f7f\">:</span><a href=\"file:///usr/local/google/home/codyfincher/Code/database-tools/oracle-database-assessment/src/server/dbma/database.py#160\" target=\"_blank\"><span style=\"color: #7f7f7f; text-decoration-color: #7f7f7f\">160</span></a>\n",
       "</pre>\n"
      ],
      "text/plain": [
       "\u001b[2;36m[10/17/22 16:51:10]\u001b[0m\u001b[2;36m \u001b[0m\u001b[34mINFO    \u001b[0m \u001b[33m...\u001b[0m db_source_code  \u001b[1;32mSUCCESS\u001b[0m \u001b[1m[\u001b[0m\u001b[1;36m174\u001b[0m \u001b[1;35mrows\u001b[0m\u001b[1m(\u001b[0ms\u001b[1m)\u001b[0m\u001b[1m]\u001b[0m                              \u001b]8;id=501444;file:///usr/local/google/home/codyfincher/Code/database-tools/oracle-database-assessment/src/server/dbma/database.py\u001b\\\u001b[2mdatabase.py\u001b[0m\u001b]8;;\u001b\\\u001b[2m:\u001b[0m\u001b]8;id=389173;file:///usr/local/google/home/codyfincher/Code/database-tools/oracle-database-assessment/src/server/dbma/database.py#160\u001b\\\u001b[2m160\u001b[0m\u001b]8;;\u001b\\\n"
      ]
     },
     "metadata": {},
     "output_type": "display_data"
    },
    {
     "data": {
      "text/html": [
       "<pre style=\"white-space:pre;overflow-x:auto;line-height:normal;font-family:Menlo,'DejaVu Sans Mono',consolas,'Courier New',monospace\"><span style=\"color: #7fbfbf; text-decoration-color: #7fbfbf\">[10/17/22 16:51:10] </span><span style=\"color: #000080; text-decoration-color: #000080\">INFO    </span> delimiter is |                                                         <a href=\"file:///usr/local/google/home/codyfincher/Code/database-tools/oracle-database-assessment/src/server/dbma/database.py\" target=\"_blank\"><span style=\"color: #7f7f7f; text-decoration-color: #7f7f7f\">database.py</span></a><span style=\"color: #7f7f7f; text-decoration-color: #7f7f7f\">:</span><a href=\"file:///usr/local/google/home/codyfincher/Code/database-tools/oracle-database-assessment/src/server/dbma/database.py#153\" target=\"_blank\"><span style=\"color: #7f7f7f; text-decoration-color: #7f7f7f\">153</span></a>\n",
       "</pre>\n"
      ],
      "text/plain": [
       "\u001b[2;36m[10/17/22 16:51:10]\u001b[0m\u001b[2;36m \u001b[0m\u001b[34mINFO    \u001b[0m delimiter is |                                                         \u001b]8;id=768729;file:///usr/local/google/home/codyfincher/Code/database-tools/oracle-database-assessment/src/server/dbma/database.py\u001b\\\u001b[2mdatabase.py\u001b[0m\u001b]8;;\u001b\\\u001b[2m:\u001b[0m\u001b]8;id=883158;file:///usr/local/google/home/codyfincher/Code/database-tools/oracle-database-assessment/src/server/dbma/database.py#153\u001b\\\u001b[2m153\u001b[0m\u001b]8;;\u001b\\\n"
      ]
     },
     "metadata": {},
     "output_type": "display_data"
    },
    {
     "data": {
      "text/html": [
       "<pre style=\"white-space:pre;overflow-x:auto;line-height:normal;font-family:Menlo,'DejaVu Sans Mono',consolas,'Courier New',monospace\"><span style=\"color: #7fbfbf; text-decoration-color: #7fbfbf\">[10/17/22 16:51:11] </span><span style=\"color: #000080; text-decoration-color: #000080\">INFO    </span> <span style=\"color: #808000; text-decoration-color: #808000\">...</span> db_source_connections  <span style=\"color: #008000; text-decoration-color: #008000; font-weight: bold\">SUCCESS</span> <span style=\"font-weight: bold\">[</span><span style=\"color: #008080; text-decoration-color: #008080; font-weight: bold\">25382</span> <span style=\"color: #800080; text-decoration-color: #800080; font-weight: bold\">rows</span><span style=\"font-weight: bold\">(</span>s<span style=\"font-weight: bold\">)]</span>                     <a href=\"file:///usr/local/google/home/codyfincher/Code/database-tools/oracle-database-assessment/src/server/dbma/database.py\" target=\"_blank\"><span style=\"color: #7f7f7f; text-decoration-color: #7f7f7f\">database.py</span></a><span style=\"color: #7f7f7f; text-decoration-color: #7f7f7f\">:</span><a href=\"file:///usr/local/google/home/codyfincher/Code/database-tools/oracle-database-assessment/src/server/dbma/database.py#160\" target=\"_blank\"><span style=\"color: #7f7f7f; text-decoration-color: #7f7f7f\">160</span></a>\n",
       "</pre>\n"
      ],
      "text/plain": [
       "\u001b[2;36m[10/17/22 16:51:11]\u001b[0m\u001b[2;36m \u001b[0m\u001b[34mINFO    \u001b[0m \u001b[33m...\u001b[0m db_source_connections  \u001b[1;32mSUCCESS\u001b[0m \u001b[1m[\u001b[0m\u001b[1;36m25382\u001b[0m \u001b[1;35mrows\u001b[0m\u001b[1m(\u001b[0ms\u001b[1m)\u001b[0m\u001b[1m]\u001b[0m                     \u001b]8;id=685356;file:///usr/local/google/home/codyfincher/Code/database-tools/oracle-database-assessment/src/server/dbma/database.py\u001b\\\u001b[2mdatabase.py\u001b[0m\u001b]8;;\u001b\\\u001b[2m:\u001b[0m\u001b]8;id=727311;file:///usr/local/google/home/codyfincher/Code/database-tools/oracle-database-assessment/src/server/dbma/database.py#160\u001b\\\u001b[2m160\u001b[0m\u001b]8;;\u001b\\\n"
      ]
     },
     "metadata": {},
     "output_type": "display_data"
    },
    {
     "data": {
      "text/html": [
       "<pre style=\"white-space:pre;overflow-x:auto;line-height:normal;font-family:Menlo,'DejaVu Sans Mono',consolas,'Courier New',monospace\"><span style=\"color: #7fbfbf; text-decoration-color: #7fbfbf\">[10/17/22 16:51:11] </span><span style=\"color: #000080; text-decoration-color: #000080\">INFO    </span> delimiter is |                                                         <a href=\"file:///usr/local/google/home/codyfincher/Code/database-tools/oracle-database-assessment/src/server/dbma/database.py\" target=\"_blank\"><span style=\"color: #7f7f7f; text-decoration-color: #7f7f7f\">database.py</span></a><span style=\"color: #7f7f7f; text-decoration-color: #7f7f7f\">:</span><a href=\"file:///usr/local/google/home/codyfincher/Code/database-tools/oracle-database-assessment/src/server/dbma/database.py#153\" target=\"_blank\"><span style=\"color: #7f7f7f; text-decoration-color: #7f7f7f\">153</span></a>\n",
       "</pre>\n"
      ],
      "text/plain": [
       "\u001b[2;36m[10/17/22 16:51:11]\u001b[0m\u001b[2;36m \u001b[0m\u001b[34mINFO    \u001b[0m delimiter is |                                                         \u001b]8;id=730564;file:///usr/local/google/home/codyfincher/Code/database-tools/oracle-database-assessment/src/server/dbma/database.py\u001b\\\u001b[2mdatabase.py\u001b[0m\u001b]8;;\u001b\\\u001b[2m:\u001b[0m\u001b]8;id=423737;file:///usr/local/google/home/codyfincher/Code/database-tools/oracle-database-assessment/src/server/dbma/database.py#153\u001b\\\u001b[2m153\u001b[0m\u001b]8;;\u001b\\\n"
      ]
     },
     "metadata": {},
     "output_type": "display_data"
    },
    {
     "data": {
      "text/html": [
       "<pre style=\"white-space:pre;overflow-x:auto;line-height:normal;font-family:Menlo,'DejaVu Sans Mono',consolas,'Courier New',monospace\"><span style=\"color: #7fbfbf; text-decoration-color: #7fbfbf\">[10/17/22 16:51:11] </span><span style=\"color: #000080; text-decoration-color: #000080\">INFO    </span> <span style=\"color: #808000; text-decoration-color: #808000\">...</span> db_sql_stats  <span style=\"color: #008000; text-decoration-color: #008000; font-weight: bold\">SUCCESS</span> <span style=\"font-weight: bold\">[</span><span style=\"color: #008080; text-decoration-color: #008080; font-weight: bold\">299</span> <span style=\"color: #800080; text-decoration-color: #800080; font-weight: bold\">rows</span><span style=\"font-weight: bold\">(</span>s<span style=\"font-weight: bold\">)]</span>                                <a href=\"file:///usr/local/google/home/codyfincher/Code/database-tools/oracle-database-assessment/src/server/dbma/database.py\" target=\"_blank\"><span style=\"color: #7f7f7f; text-decoration-color: #7f7f7f\">database.py</span></a><span style=\"color: #7f7f7f; text-decoration-color: #7f7f7f\">:</span><a href=\"file:///usr/local/google/home/codyfincher/Code/database-tools/oracle-database-assessment/src/server/dbma/database.py#160\" target=\"_blank\"><span style=\"color: #7f7f7f; text-decoration-color: #7f7f7f\">160</span></a>\n",
       "</pre>\n"
      ],
      "text/plain": [
       "\u001b[2;36m[10/17/22 16:51:11]\u001b[0m\u001b[2;36m \u001b[0m\u001b[34mINFO    \u001b[0m \u001b[33m...\u001b[0m db_sql_stats  \u001b[1;32mSUCCESS\u001b[0m \u001b[1m[\u001b[0m\u001b[1;36m299\u001b[0m \u001b[1;35mrows\u001b[0m\u001b[1m(\u001b[0ms\u001b[1m)\u001b[0m\u001b[1m]\u001b[0m                                \u001b]8;id=787450;file:///usr/local/google/home/codyfincher/Code/database-tools/oracle-database-assessment/src/server/dbma/database.py\u001b\\\u001b[2mdatabase.py\u001b[0m\u001b]8;;\u001b\\\u001b[2m:\u001b[0m\u001b]8;id=1733;file:///usr/local/google/home/codyfincher/Code/database-tools/oracle-database-assessment/src/server/dbma/database.py#160\u001b\\\u001b[2m160\u001b[0m\u001b]8;;\u001b\\\n"
      ]
     },
     "metadata": {},
     "output_type": "display_data"
    },
    {
     "data": {
      "text/html": [
       "<pre style=\"white-space:pre;overflow-x:auto;line-height:normal;font-family:Menlo,'DejaVu Sans Mono',consolas,'Courier New',monospace\"><span style=\"color: #7fbfbf; text-decoration-color: #7fbfbf\">[10/17/22 16:51:11] </span><span style=\"color: #000080; text-decoration-color: #000080\">INFO    </span> delimiter is |                                                         <a href=\"file:///usr/local/google/home/codyfincher/Code/database-tools/oracle-database-assessment/src/server/dbma/database.py\" target=\"_blank\"><span style=\"color: #7f7f7f; text-decoration-color: #7f7f7f\">database.py</span></a><span style=\"color: #7f7f7f; text-decoration-color: #7f7f7f\">:</span><a href=\"file:///usr/local/google/home/codyfincher/Code/database-tools/oracle-database-assessment/src/server/dbma/database.py#153\" target=\"_blank\"><span style=\"color: #7f7f7f; text-decoration-color: #7f7f7f\">153</span></a>\n",
       "</pre>\n"
      ],
      "text/plain": [
       "\u001b[2;36m[10/17/22 16:51:11]\u001b[0m\u001b[2;36m \u001b[0m\u001b[34mINFO    \u001b[0m delimiter is |                                                         \u001b]8;id=212257;file:///usr/local/google/home/codyfincher/Code/database-tools/oracle-database-assessment/src/server/dbma/database.py\u001b\\\u001b[2mdatabase.py\u001b[0m\u001b]8;;\u001b\\\u001b[2m:\u001b[0m\u001b]8;id=881912;file:///usr/local/google/home/codyfincher/Code/database-tools/oracle-database-assessment/src/server/dbma/database.py#153\u001b\\\u001b[2m153\u001b[0m\u001b]8;;\u001b\\\n"
      ]
     },
     "metadata": {},
     "output_type": "display_data"
    },
    {
     "data": {
      "text/html": [
       "<pre style=\"white-space:pre;overflow-x:auto;line-height:normal;font-family:Menlo,'DejaVu Sans Mono',consolas,'Courier New',monospace\"><span style=\"color: #7fbfbf; text-decoration-color: #7fbfbf\">[10/17/22 16:51:11] </span><span style=\"color: #000080; text-decoration-color: #000080\">INFO    </span> <span style=\"color: #808000; text-decoration-color: #808000\">...</span> db_constraint_summary  <span style=\"color: #008000; text-decoration-color: #008000; font-weight: bold\">SUCCESS</span> <span style=\"font-weight: bold\">[</span><span style=\"color: #008080; text-decoration-color: #008080; font-weight: bold\">60</span> <span style=\"color: #800080; text-decoration-color: #800080; font-weight: bold\">rows</span><span style=\"font-weight: bold\">(</span>s<span style=\"font-weight: bold\">)]</span>                        <a href=\"file:///usr/local/google/home/codyfincher/Code/database-tools/oracle-database-assessment/src/server/dbma/database.py\" target=\"_blank\"><span style=\"color: #7f7f7f; text-decoration-color: #7f7f7f\">database.py</span></a><span style=\"color: #7f7f7f; text-decoration-color: #7f7f7f\">:</span><a href=\"file:///usr/local/google/home/codyfincher/Code/database-tools/oracle-database-assessment/src/server/dbma/database.py#160\" target=\"_blank\"><span style=\"color: #7f7f7f; text-decoration-color: #7f7f7f\">160</span></a>\n",
       "</pre>\n"
      ],
      "text/plain": [
       "\u001b[2;36m[10/17/22 16:51:11]\u001b[0m\u001b[2;36m \u001b[0m\u001b[34mINFO    \u001b[0m \u001b[33m...\u001b[0m db_constraint_summary  \u001b[1;32mSUCCESS\u001b[0m \u001b[1m[\u001b[0m\u001b[1;36m60\u001b[0m \u001b[1;35mrows\u001b[0m\u001b[1m(\u001b[0ms\u001b[1m)\u001b[0m\u001b[1m]\u001b[0m                        \u001b]8;id=682978;file:///usr/local/google/home/codyfincher/Code/database-tools/oracle-database-assessment/src/server/dbma/database.py\u001b\\\u001b[2mdatabase.py\u001b[0m\u001b]8;;\u001b\\\u001b[2m:\u001b[0m\u001b]8;id=313588;file:///usr/local/google/home/codyfincher/Code/database-tools/oracle-database-assessment/src/server/dbma/database.py#160\u001b\\\u001b[2m160\u001b[0m\u001b]8;;\u001b\\\n"
      ]
     },
     "metadata": {},
     "output_type": "display_data"
    },
    {
     "data": {
      "text/html": [
       "<pre style=\"white-space:pre;overflow-x:auto;line-height:normal;font-family:Menlo,'DejaVu Sans Mono',consolas,'Courier New',monospace\"><span style=\"color: #7fbfbf; text-decoration-color: #7fbfbf\">[10/17/22 16:51:11] </span><span style=\"color: #000080; text-decoration-color: #000080\">INFO    </span> delimiter is |                                                         <a href=\"file:///usr/local/google/home/codyfincher/Code/database-tools/oracle-database-assessment/src/server/dbma/database.py\" target=\"_blank\"><span style=\"color: #7f7f7f; text-decoration-color: #7f7f7f\">database.py</span></a><span style=\"color: #7f7f7f; text-decoration-color: #7f7f7f\">:</span><a href=\"file:///usr/local/google/home/codyfincher/Code/database-tools/oracle-database-assessment/src/server/dbma/database.py#153\" target=\"_blank\"><span style=\"color: #7f7f7f; text-decoration-color: #7f7f7f\">153</span></a>\n",
       "</pre>\n"
      ],
      "text/plain": [
       "\u001b[2;36m[10/17/22 16:51:11]\u001b[0m\u001b[2;36m \u001b[0m\u001b[34mINFO    \u001b[0m delimiter is |                                                         \u001b]8;id=425668;file:///usr/local/google/home/codyfincher/Code/database-tools/oracle-database-assessment/src/server/dbma/database.py\u001b\\\u001b[2mdatabase.py\u001b[0m\u001b]8;;\u001b\\\u001b[2m:\u001b[0m\u001b]8;id=316118;file:///usr/local/google/home/codyfincher/Code/database-tools/oracle-database-assessment/src/server/dbma/database.py#153\u001b\\\u001b[2m153\u001b[0m\u001b]8;;\u001b\\\n"
      ]
     },
     "metadata": {},
     "output_type": "display_data"
    },
    {
     "data": {
      "text/html": [
       "<pre style=\"white-space:pre;overflow-x:auto;line-height:normal;font-family:Menlo,'DejaVu Sans Mono',consolas,'Courier New',monospace\"><span style=\"color: #7fbfbf; text-decoration-color: #7fbfbf\">[10/17/22 16:51:11] </span><span style=\"color: #000080; text-decoration-color: #000080\">INFO    </span> <span style=\"color: #808000; text-decoration-color: #808000\">...</span> db_used_space_details  <span style=\"color: #008000; text-decoration-color: #008000; font-weight: bold\">SUCCESS</span> <span style=\"font-weight: bold\">[</span><span style=\"color: #008080; text-decoration-color: #008080; font-weight: bold\">155</span> <span style=\"color: #800080; text-decoration-color: #800080; font-weight: bold\">rows</span><span style=\"font-weight: bold\">(</span>s<span style=\"font-weight: bold\">)]</span>                       <a href=\"file:///usr/local/google/home/codyfincher/Code/database-tools/oracle-database-assessment/src/server/dbma/database.py\" target=\"_blank\"><span style=\"color: #7f7f7f; text-decoration-color: #7f7f7f\">database.py</span></a><span style=\"color: #7f7f7f; text-decoration-color: #7f7f7f\">:</span><a href=\"file:///usr/local/google/home/codyfincher/Code/database-tools/oracle-database-assessment/src/server/dbma/database.py#160\" target=\"_blank\"><span style=\"color: #7f7f7f; text-decoration-color: #7f7f7f\">160</span></a>\n",
       "</pre>\n"
      ],
      "text/plain": [
       "\u001b[2;36m[10/17/22 16:51:11]\u001b[0m\u001b[2;36m \u001b[0m\u001b[34mINFO    \u001b[0m \u001b[33m...\u001b[0m db_used_space_details  \u001b[1;32mSUCCESS\u001b[0m \u001b[1m[\u001b[0m\u001b[1;36m155\u001b[0m \u001b[1;35mrows\u001b[0m\u001b[1m(\u001b[0ms\u001b[1m)\u001b[0m\u001b[1m]\u001b[0m                       \u001b]8;id=114628;file:///usr/local/google/home/codyfincher/Code/database-tools/oracle-database-assessment/src/server/dbma/database.py\u001b\\\u001b[2mdatabase.py\u001b[0m\u001b]8;;\u001b\\\u001b[2m:\u001b[0m\u001b]8;id=524406;file:///usr/local/google/home/codyfincher/Code/database-tools/oracle-database-assessment/src/server/dbma/database.py#160\u001b\\\u001b[2m160\u001b[0m\u001b]8;;\u001b\\\n"
      ]
     },
     "metadata": {},
     "output_type": "display_data"
    },
    {
     "data": {
      "text/html": [
       "<pre style=\"white-space:pre;overflow-x:auto;line-height:normal;font-family:Menlo,'DejaVu Sans Mono',consolas,'Courier New',monospace\"><span style=\"color: #7fbfbf; text-decoration-color: #7fbfbf\">[10/17/22 16:51:11] </span><span style=\"color: #000080; text-decoration-color: #000080\">INFO    </span> delimiter is |                                                         <a href=\"file:///usr/local/google/home/codyfincher/Code/database-tools/oracle-database-assessment/src/server/dbma/database.py\" target=\"_blank\"><span style=\"color: #7f7f7f; text-decoration-color: #7f7f7f\">database.py</span></a><span style=\"color: #7f7f7f; text-decoration-color: #7f7f7f\">:</span><a href=\"file:///usr/local/google/home/codyfincher/Code/database-tools/oracle-database-assessment/src/server/dbma/database.py#153\" target=\"_blank\"><span style=\"color: #7f7f7f; text-decoration-color: #7f7f7f\">153</span></a>\n",
       "</pre>\n"
      ],
      "text/plain": [
       "\u001b[2;36m[10/17/22 16:51:11]\u001b[0m\u001b[2;36m \u001b[0m\u001b[34mINFO    \u001b[0m delimiter is |                                                         \u001b]8;id=430827;file:///usr/local/google/home/codyfincher/Code/database-tools/oracle-database-assessment/src/server/dbma/database.py\u001b\\\u001b[2mdatabase.py\u001b[0m\u001b]8;;\u001b\\\u001b[2m:\u001b[0m\u001b]8;id=217309;file:///usr/local/google/home/codyfincher/Code/database-tools/oracle-database-assessment/src/server/dbma/database.py#153\u001b\\\u001b[2m153\u001b[0m\u001b]8;;\u001b\\\n"
      ]
     },
     "metadata": {},
     "output_type": "display_data"
    },
    {
     "data": {
      "text/html": [
       "<pre style=\"white-space:pre;overflow-x:auto;line-height:normal;font-family:Menlo,'DejaVu Sans Mono',consolas,'Courier New',monospace\"><span style=\"color: #7fbfbf; text-decoration-color: #7fbfbf\">[10/17/22 16:51:11] </span><span style=\"color: #000080; text-decoration-color: #000080\">INFO    </span> <span style=\"color: #808000; text-decoration-color: #808000\">...</span> db_user_tablespace_segments  <span style=\"color: #008000; text-decoration-color: #008000; font-weight: bold\">SUCCESS</span> <span style=\"font-weight: bold\">[</span><span style=\"color: #008080; text-decoration-color: #008080; font-weight: bold\">467</span> <span style=\"color: #800080; text-decoration-color: #800080; font-weight: bold\">rows</span><span style=\"font-weight: bold\">(</span>s<span style=\"font-weight: bold\">)]</span>                 <a href=\"file:///usr/local/google/home/codyfincher/Code/database-tools/oracle-database-assessment/src/server/dbma/database.py\" target=\"_blank\"><span style=\"color: #7f7f7f; text-decoration-color: #7f7f7f\">database.py</span></a><span style=\"color: #7f7f7f; text-decoration-color: #7f7f7f\">:</span><a href=\"file:///usr/local/google/home/codyfincher/Code/database-tools/oracle-database-assessment/src/server/dbma/database.py#160\" target=\"_blank\"><span style=\"color: #7f7f7f; text-decoration-color: #7f7f7f\">160</span></a>\n",
       "</pre>\n"
      ],
      "text/plain": [
       "\u001b[2;36m[10/17/22 16:51:11]\u001b[0m\u001b[2;36m \u001b[0m\u001b[34mINFO    \u001b[0m \u001b[33m...\u001b[0m db_user_tablespace_segments  \u001b[1;32mSUCCESS\u001b[0m \u001b[1m[\u001b[0m\u001b[1;36m467\u001b[0m \u001b[1;35mrows\u001b[0m\u001b[1m(\u001b[0ms\u001b[1m)\u001b[0m\u001b[1m]\u001b[0m                 \u001b]8;id=458277;file:///usr/local/google/home/codyfincher/Code/database-tools/oracle-database-assessment/src/server/dbma/database.py\u001b\\\u001b[2mdatabase.py\u001b[0m\u001b]8;;\u001b\\\u001b[2m:\u001b[0m\u001b]8;id=304314;file:///usr/local/google/home/codyfincher/Code/database-tools/oracle-database-assessment/src/server/dbma/database.py#160\u001b\\\u001b[2m160\u001b[0m\u001b]8;;\u001b\\\n"
      ]
     },
     "metadata": {},
     "output_type": "display_data"
    },
    {
     "data": {
      "text/html": [
       "<pre style=\"white-space:pre;overflow-x:auto;line-height:normal;font-family:Menlo,'DejaVu Sans Mono',consolas,'Courier New',monospace\"><span style=\"color: #7fbfbf; text-decoration-color: #7fbfbf\">[10/17/22 16:51:17] </span><span style=\"color: #000080; text-decoration-color: #000080\">INFO    </span> <span style=\"font-weight: bold\">[]</span>                                                                        <a href=\"file:///usr/local/google/home/codyfincher/Code/database-tools/oracle-database-assessment/src/server/dbma/transformer/engine.py\" target=\"_blank\"><span style=\"color: #7f7f7f; text-decoration-color: #7f7f7f\">engine.py</span></a><span style=\"color: #7f7f7f; text-decoration-color: #7f7f7f\">:</span><a href=\"file:///usr/local/google/home/codyfincher/Code/database-tools/oracle-database-assessment/src/server/dbma/transformer/engine.py#87\" target=\"_blank\"><span style=\"color: #7f7f7f; text-decoration-color: #7f7f7f\">87</span></a>\n",
       "</pre>\n"
      ],
      "text/plain": [
       "\u001b[2;36m[10/17/22 16:51:17]\u001b[0m\u001b[2;36m \u001b[0m\u001b[34mINFO    \u001b[0m \u001b[1m[\u001b[0m\u001b[1m]\u001b[0m                                                                        \u001b]8;id=401575;file:///usr/local/google/home/codyfincher/Code/database-tools/oracle-database-assessment/src/server/dbma/transformer/engine.py\u001b\\\u001b[2mengine.py\u001b[0m\u001b]8;;\u001b\\\u001b[2m:\u001b[0m\u001b]8;id=227818;file:///usr/local/google/home/codyfincher/Code/database-tools/oracle-database-assessment/src/server/dbma/transformer/engine.py#87\u001b\\\u001b[2m87\u001b[0m\u001b]8;;\u001b\\\n"
      ]
     },
     "metadata": {},
     "output_type": "display_data"
    },
    {
     "data": {
      "text/html": [
       "<pre style=\"white-space:pre;overflow-x:auto;line-height:normal;font-family:Menlo,'DejaVu Sans Mono',consolas,'Courier New',monospace\"><span style=\"color: #7fbfbf; text-decoration-color: #7fbfbf\">[10/17/22 16:51:17] </span><span style=\"color: #000080; text-decoration-color: #000080\">INFO    </span> delimiter is |                                                         <a href=\"file:///usr/local/google/home/codyfincher/Code/database-tools/oracle-database-assessment/src/server/dbma/database.py\" target=\"_blank\"><span style=\"color: #7f7f7f; text-decoration-color: #7f7f7f\">database.py</span></a><span style=\"color: #7f7f7f; text-decoration-color: #7f7f7f\">:</span><a href=\"file:///usr/local/google/home/codyfincher/Code/database-tools/oracle-database-assessment/src/server/dbma/database.py#153\" target=\"_blank\"><span style=\"color: #7f7f7f; text-decoration-color: #7f7f7f\">153</span></a>\n",
       "</pre>\n"
      ],
      "text/plain": [
       "\u001b[2;36m[10/17/22 16:51:17]\u001b[0m\u001b[2;36m \u001b[0m\u001b[34mINFO    \u001b[0m delimiter is |                                                         \u001b]8;id=868972;file:///usr/local/google/home/codyfincher/Code/database-tools/oracle-database-assessment/src/server/dbma/database.py\u001b\\\u001b[2mdatabase.py\u001b[0m\u001b]8;;\u001b\\\u001b[2m:\u001b[0m\u001b]8;id=980979;file:///usr/local/google/home/codyfincher/Code/database-tools/oracle-database-assessment/src/server/dbma/database.py#153\u001b\\\u001b[2m153\u001b[0m\u001b]8;;\u001b\\\n"
      ]
     },
     "metadata": {},
     "output_type": "display_data"
    },
    {
     "data": {
      "text/html": [
       "<pre style=\"white-space:pre;overflow-x:auto;line-height:normal;font-family:Menlo,'DejaVu Sans Mono',consolas,'Courier New',monospace\"><span style=\"color: #7fbfbf; text-decoration-color: #7fbfbf\">[10/17/22 16:51:17] </span><span style=\"color: #000080; text-decoration-color: #000080\">INFO    </span> <span style=\"color: #808000; text-decoration-color: #808000\">...</span> awr_hist_cmd_types  <span style=\"color: #008000; text-decoration-color: #008000; font-weight: bold\">SUCCESS</span> <span style=\"font-weight: bold\">[</span><span style=\"color: #008080; text-decoration-color: #008080; font-weight: bold\">167</span> <span style=\"color: #800080; text-decoration-color: #800080; font-weight: bold\">rows</span><span style=\"font-weight: bold\">(</span>s<span style=\"font-weight: bold\">)]</span>                          <a href=\"file:///usr/local/google/home/codyfincher/Code/database-tools/oracle-database-assessment/src/server/dbma/database.py\" target=\"_blank\"><span style=\"color: #7f7f7f; text-decoration-color: #7f7f7f\">database.py</span></a><span style=\"color: #7f7f7f; text-decoration-color: #7f7f7f\">:</span><a href=\"file:///usr/local/google/home/codyfincher/Code/database-tools/oracle-database-assessment/src/server/dbma/database.py#160\" target=\"_blank\"><span style=\"color: #7f7f7f; text-decoration-color: #7f7f7f\">160</span></a>\n",
       "</pre>\n"
      ],
      "text/plain": [
       "\u001b[2;36m[10/17/22 16:51:17]\u001b[0m\u001b[2;36m \u001b[0m\u001b[34mINFO    \u001b[0m \u001b[33m...\u001b[0m awr_hist_cmd_types  \u001b[1;32mSUCCESS\u001b[0m \u001b[1m[\u001b[0m\u001b[1;36m167\u001b[0m \u001b[1;35mrows\u001b[0m\u001b[1m(\u001b[0ms\u001b[1m)\u001b[0m\u001b[1m]\u001b[0m                          \u001b]8;id=460019;file:///usr/local/google/home/codyfincher/Code/database-tools/oracle-database-assessment/src/server/dbma/database.py\u001b\\\u001b[2mdatabase.py\u001b[0m\u001b]8;;\u001b\\\u001b[2m:\u001b[0m\u001b]8;id=910402;file:///usr/local/google/home/codyfincher/Code/database-tools/oracle-database-assessment/src/server/dbma/database.py#160\u001b\\\u001b[2m160\u001b[0m\u001b]8;;\u001b\\\n"
      ]
     },
     "metadata": {},
     "output_type": "display_data"
    },
    {
     "data": {
      "text/html": [
       "<pre style=\"white-space:pre;overflow-x:auto;line-height:normal;font-family:Menlo,'DejaVu Sans Mono',consolas,'Courier New',monospace\"><span style=\"color: #7fbfbf; text-decoration-color: #7fbfbf\">[10/17/22 16:51:17] </span><span style=\"color: #000080; text-decoration-color: #000080\">INFO    </span> delimiter is |                                                         <a href=\"file:///usr/local/google/home/codyfincher/Code/database-tools/oracle-database-assessment/src/server/dbma/database.py\" target=\"_blank\"><span style=\"color: #7f7f7f; text-decoration-color: #7f7f7f\">database.py</span></a><span style=\"color: #7f7f7f; text-decoration-color: #7f7f7f\">:</span><a href=\"file:///usr/local/google/home/codyfincher/Code/database-tools/oracle-database-assessment/src/server/dbma/database.py#153\" target=\"_blank\"><span style=\"color: #7f7f7f; text-decoration-color: #7f7f7f\">153</span></a>\n",
       "</pre>\n"
      ],
      "text/plain": [
       "\u001b[2;36m[10/17/22 16:51:17]\u001b[0m\u001b[2;36m \u001b[0m\u001b[34mINFO    \u001b[0m delimiter is |                                                         \u001b]8;id=774696;file:///usr/local/google/home/codyfincher/Code/database-tools/oracle-database-assessment/src/server/dbma/database.py\u001b\\\u001b[2mdatabase.py\u001b[0m\u001b]8;;\u001b\\\u001b[2m:\u001b[0m\u001b]8;id=866635;file:///usr/local/google/home/codyfincher/Code/database-tools/oracle-database-assessment/src/server/dbma/database.py#153\u001b\\\u001b[2m153\u001b[0m\u001b]8;;\u001b\\\n"
      ]
     },
     "metadata": {},
     "output_type": "display_data"
    },
    {
     "data": {
      "text/html": [
       "<pre style=\"white-space:pre;overflow-x:auto;line-height:normal;font-family:Menlo,'DejaVu Sans Mono',consolas,'Courier New',monospace\"><span style=\"color: #7fbfbf; text-decoration-color: #7fbfbf\">[10/17/22 16:51:17] </span><span style=\"color: #000080; text-decoration-color: #000080\">INFO    </span> <span style=\"color: #808000; text-decoration-color: #808000\">...</span> awr_hist_os_stat  <span style=\"color: #008000; text-decoration-color: #008000; font-weight: bold\">SUCCESS</span> <span style=\"font-weight: bold\">[</span><span style=\"color: #008080; text-decoration-color: #008080; font-weight: bold\">600</span> <span style=\"color: #800080; text-decoration-color: #800080; font-weight: bold\">rows</span><span style=\"font-weight: bold\">(</span>s<span style=\"font-weight: bold\">)]</span>                            <a href=\"file:///usr/local/google/home/codyfincher/Code/database-tools/oracle-database-assessment/src/server/dbma/database.py\" target=\"_blank\"><span style=\"color: #7f7f7f; text-decoration-color: #7f7f7f\">database.py</span></a><span style=\"color: #7f7f7f; text-decoration-color: #7f7f7f\">:</span><a href=\"file:///usr/local/google/home/codyfincher/Code/database-tools/oracle-database-assessment/src/server/dbma/database.py#160\" target=\"_blank\"><span style=\"color: #7f7f7f; text-decoration-color: #7f7f7f\">160</span></a>\n",
       "</pre>\n"
      ],
      "text/plain": [
       "\u001b[2;36m[10/17/22 16:51:17]\u001b[0m\u001b[2;36m \u001b[0m\u001b[34mINFO    \u001b[0m \u001b[33m...\u001b[0m awr_hist_os_stat  \u001b[1;32mSUCCESS\u001b[0m \u001b[1m[\u001b[0m\u001b[1;36m600\u001b[0m \u001b[1;35mrows\u001b[0m\u001b[1m(\u001b[0ms\u001b[1m)\u001b[0m\u001b[1m]\u001b[0m                            \u001b]8;id=753387;file:///usr/local/google/home/codyfincher/Code/database-tools/oracle-database-assessment/src/server/dbma/database.py\u001b\\\u001b[2mdatabase.py\u001b[0m\u001b]8;;\u001b\\\u001b[2m:\u001b[0m\u001b]8;id=503581;file:///usr/local/google/home/codyfincher/Code/database-tools/oracle-database-assessment/src/server/dbma/database.py#160\u001b\\\u001b[2m160\u001b[0m\u001b]8;;\u001b\\\n"
      ]
     },
     "metadata": {},
     "output_type": "display_data"
    },
    {
     "data": {
      "text/html": [
       "<pre style=\"white-space:pre;overflow-x:auto;line-height:normal;font-family:Menlo,'DejaVu Sans Mono',consolas,'Courier New',monospace\"><span style=\"color: #7fbfbf; text-decoration-color: #7fbfbf\">[10/17/22 16:51:17] </span><span style=\"color: #000080; text-decoration-color: #000080\">INFO    </span> delimiter is |                                                         <a href=\"file:///usr/local/google/home/codyfincher/Code/database-tools/oracle-database-assessment/src/server/dbma/database.py\" target=\"_blank\"><span style=\"color: #7f7f7f; text-decoration-color: #7f7f7f\">database.py</span></a><span style=\"color: #7f7f7f; text-decoration-color: #7f7f7f\">:</span><a href=\"file:///usr/local/google/home/codyfincher/Code/database-tools/oracle-database-assessment/src/server/dbma/database.py#153\" target=\"_blank\"><span style=\"color: #7f7f7f; text-decoration-color: #7f7f7f\">153</span></a>\n",
       "</pre>\n"
      ],
      "text/plain": [
       "\u001b[2;36m[10/17/22 16:51:17]\u001b[0m\u001b[2;36m \u001b[0m\u001b[34mINFO    \u001b[0m delimiter is |                                                         \u001b]8;id=296721;file:///usr/local/google/home/codyfincher/Code/database-tools/oracle-database-assessment/src/server/dbma/database.py\u001b\\\u001b[2mdatabase.py\u001b[0m\u001b]8;;\u001b\\\u001b[2m:\u001b[0m\u001b]8;id=824836;file:///usr/local/google/home/codyfincher/Code/database-tools/oracle-database-assessment/src/server/dbma/database.py#153\u001b\\\u001b[2m153\u001b[0m\u001b]8;;\u001b\\\n"
      ]
     },
     "metadata": {},
     "output_type": "display_data"
    },
    {
     "data": {
      "text/html": [
       "<pre style=\"white-space:pre;overflow-x:auto;line-height:normal;font-family:Menlo,'DejaVu Sans Mono',consolas,'Courier New',monospace\"><span style=\"color: #7fbfbf; text-decoration-color: #7fbfbf\">[10/17/22 16:51:17] </span><span style=\"color: #000080; text-decoration-color: #000080\">INFO    </span> <span style=\"color: #808000; text-decoration-color: #808000\">...</span> awr_hist_sys_metric_hist  <span style=\"color: #008000; text-decoration-color: #008000; font-weight: bold\">SUCCESS</span> <span style=\"font-weight: bold\">[</span><span style=\"color: #008080; text-decoration-color: #008080; font-weight: bold\">552</span> <span style=\"color: #800080; text-decoration-color: #800080; font-weight: bold\">rows</span><span style=\"font-weight: bold\">(</span>s<span style=\"font-weight: bold\">)]</span>                    <a href=\"file:///usr/local/google/home/codyfincher/Code/database-tools/oracle-database-assessment/src/server/dbma/database.py\" target=\"_blank\"><span style=\"color: #7f7f7f; text-decoration-color: #7f7f7f\">database.py</span></a><span style=\"color: #7f7f7f; text-decoration-color: #7f7f7f\">:</span><a href=\"file:///usr/local/google/home/codyfincher/Code/database-tools/oracle-database-assessment/src/server/dbma/database.py#160\" target=\"_blank\"><span style=\"color: #7f7f7f; text-decoration-color: #7f7f7f\">160</span></a>\n",
       "</pre>\n"
      ],
      "text/plain": [
       "\u001b[2;36m[10/17/22 16:51:17]\u001b[0m\u001b[2;36m \u001b[0m\u001b[34mINFO    \u001b[0m \u001b[33m...\u001b[0m awr_hist_sys_metric_hist  \u001b[1;32mSUCCESS\u001b[0m \u001b[1m[\u001b[0m\u001b[1;36m552\u001b[0m \u001b[1;35mrows\u001b[0m\u001b[1m(\u001b[0ms\u001b[1m)\u001b[0m\u001b[1m]\u001b[0m                    \u001b]8;id=781381;file:///usr/local/google/home/codyfincher/Code/database-tools/oracle-database-assessment/src/server/dbma/database.py\u001b\\\u001b[2mdatabase.py\u001b[0m\u001b]8;;\u001b\\\u001b[2m:\u001b[0m\u001b]8;id=187786;file:///usr/local/google/home/codyfincher/Code/database-tools/oracle-database-assessment/src/server/dbma/database.py#160\u001b\\\u001b[2m160\u001b[0m\u001b]8;;\u001b\\\n"
      ]
     },
     "metadata": {},
     "output_type": "display_data"
    },
    {
     "data": {
      "text/html": [
       "<pre style=\"white-space:pre;overflow-x:auto;line-height:normal;font-family:Menlo,'DejaVu Sans Mono',consolas,'Courier New',monospace\"><span style=\"color: #7fbfbf; text-decoration-color: #7fbfbf\">[10/17/22 16:51:17] </span><span style=\"color: #000080; text-decoration-color: #000080\">INFO    </span> delimiter is |                                                         <a href=\"file:///usr/local/google/home/codyfincher/Code/database-tools/oracle-database-assessment/src/server/dbma/database.py\" target=\"_blank\"><span style=\"color: #7f7f7f; text-decoration-color: #7f7f7f\">database.py</span></a><span style=\"color: #7f7f7f; text-decoration-color: #7f7f7f\">:</span><a href=\"file:///usr/local/google/home/codyfincher/Code/database-tools/oracle-database-assessment/src/server/dbma/database.py#153\" target=\"_blank\"><span style=\"color: #7f7f7f; text-decoration-color: #7f7f7f\">153</span></a>\n",
       "</pre>\n"
      ],
      "text/plain": [
       "\u001b[2;36m[10/17/22 16:51:17]\u001b[0m\u001b[2;36m \u001b[0m\u001b[34mINFO    \u001b[0m delimiter is |                                                         \u001b]8;id=839381;file:///usr/local/google/home/codyfincher/Code/database-tools/oracle-database-assessment/src/server/dbma/database.py\u001b\\\u001b[2mdatabase.py\u001b[0m\u001b]8;;\u001b\\\u001b[2m:\u001b[0m\u001b]8;id=337683;file:///usr/local/google/home/codyfincher/Code/database-tools/oracle-database-assessment/src/server/dbma/database.py#153\u001b\\\u001b[2m153\u001b[0m\u001b]8;;\u001b\\\n"
      ]
     },
     "metadata": {},
     "output_type": "display_data"
    },
    {
     "data": {
      "text/html": [
       "<pre style=\"white-space:pre;overflow-x:auto;line-height:normal;font-family:Menlo,'DejaVu Sans Mono',consolas,'Courier New',monospace\"><span style=\"color: #7fbfbf; text-decoration-color: #7fbfbf\">[10/17/22 16:51:17] </span><span style=\"color: #000080; text-decoration-color: #000080\">INFO    </span> <span style=\"color: #808000; text-decoration-color: #808000\">...</span> awr_hist_sys_metric_summary  <span style=\"color: #008000; text-decoration-color: #008000; font-weight: bold\">SUCCESS</span> <span style=\"font-weight: bold\">[</span><span style=\"color: #008080; text-decoration-color: #008080; font-weight: bold\">3864</span> <span style=\"color: #800080; text-decoration-color: #800080; font-weight: bold\">rows</span><span style=\"font-weight: bold\">(</span>s<span style=\"font-weight: bold\">)]</span>                <a href=\"file:///usr/local/google/home/codyfincher/Code/database-tools/oracle-database-assessment/src/server/dbma/database.py\" target=\"_blank\"><span style=\"color: #7f7f7f; text-decoration-color: #7f7f7f\">database.py</span></a><span style=\"color: #7f7f7f; text-decoration-color: #7f7f7f\">:</span><a href=\"file:///usr/local/google/home/codyfincher/Code/database-tools/oracle-database-assessment/src/server/dbma/database.py#160\" target=\"_blank\"><span style=\"color: #7f7f7f; text-decoration-color: #7f7f7f\">160</span></a>\n",
       "</pre>\n"
      ],
      "text/plain": [
       "\u001b[2;36m[10/17/22 16:51:17]\u001b[0m\u001b[2;36m \u001b[0m\u001b[34mINFO    \u001b[0m \u001b[33m...\u001b[0m awr_hist_sys_metric_summary  \u001b[1;32mSUCCESS\u001b[0m \u001b[1m[\u001b[0m\u001b[1;36m3864\u001b[0m \u001b[1;35mrows\u001b[0m\u001b[1m(\u001b[0ms\u001b[1m)\u001b[0m\u001b[1m]\u001b[0m                \u001b]8;id=734638;file:///usr/local/google/home/codyfincher/Code/database-tools/oracle-database-assessment/src/server/dbma/database.py\u001b\\\u001b[2mdatabase.py\u001b[0m\u001b]8;;\u001b\\\u001b[2m:\u001b[0m\u001b]8;id=479973;file:///usr/local/google/home/codyfincher/Code/database-tools/oracle-database-assessment/src/server/dbma/database.py#160\u001b\\\u001b[2m160\u001b[0m\u001b]8;;\u001b\\\n"
      ]
     },
     "metadata": {},
     "output_type": "display_data"
    },
    {
     "data": {
      "text/html": [
       "<pre style=\"white-space:pre;overflow-x:auto;line-height:normal;font-family:Menlo,'DejaVu Sans Mono',consolas,'Courier New',monospace\"><span style=\"color: #7fbfbf; text-decoration-color: #7fbfbf\">[10/17/22 16:51:17] </span><span style=\"color: #000080; text-decoration-color: #000080\">INFO    </span> delimiter is |                                                         <a href=\"file:///usr/local/google/home/codyfincher/Code/database-tools/oracle-database-assessment/src/server/dbma/database.py\" target=\"_blank\"><span style=\"color: #7f7f7f; text-decoration-color: #7f7f7f\">database.py</span></a><span style=\"color: #7f7f7f; text-decoration-color: #7f7f7f\">:</span><a href=\"file:///usr/local/google/home/codyfincher/Code/database-tools/oracle-database-assessment/src/server/dbma/database.py#153\" target=\"_blank\"><span style=\"color: #7f7f7f; text-decoration-color: #7f7f7f\">153</span></a>\n",
       "</pre>\n"
      ],
      "text/plain": [
       "\u001b[2;36m[10/17/22 16:51:17]\u001b[0m\u001b[2;36m \u001b[0m\u001b[34mINFO    \u001b[0m delimiter is |                                                         \u001b]8;id=100055;file:///usr/local/google/home/codyfincher/Code/database-tools/oracle-database-assessment/src/server/dbma/database.py\u001b\\\u001b[2mdatabase.py\u001b[0m\u001b]8;;\u001b\\\u001b[2m:\u001b[0m\u001b]8;id=554616;file:///usr/local/google/home/codyfincher/Code/database-tools/oracle-database-assessment/src/server/dbma/database.py#153\u001b\\\u001b[2m153\u001b[0m\u001b]8;;\u001b\\\n"
      ]
     },
     "metadata": {},
     "output_type": "display_data"
    },
    {
     "data": {
      "text/html": [
       "<pre style=\"white-space:pre;overflow-x:auto;line-height:normal;font-family:Menlo,'DejaVu Sans Mono',consolas,'Courier New',monospace\"><span style=\"color: #7fbfbf; text-decoration-color: #7fbfbf\">[10/17/22 16:51:17] </span><span style=\"color: #000080; text-decoration-color: #000080\">INFO    </span> <span style=\"color: #808000; text-decoration-color: #808000\">...</span> awr_snap_details  <span style=\"color: #008000; text-decoration-color: #008000; font-weight: bold\">SUCCESS</span> <span style=\"font-weight: bold\">[</span><span style=\"color: #008080; text-decoration-color: #008080; font-weight: bold\">24</span> <span style=\"color: #800080; text-decoration-color: #800080; font-weight: bold\">rows</span><span style=\"font-weight: bold\">(</span>s<span style=\"font-weight: bold\">)]</span>                             <a href=\"file:///usr/local/google/home/codyfincher/Code/database-tools/oracle-database-assessment/src/server/dbma/database.py\" target=\"_blank\"><span style=\"color: #7f7f7f; text-decoration-color: #7f7f7f\">database.py</span></a><span style=\"color: #7f7f7f; text-decoration-color: #7f7f7f\">:</span><a href=\"file:///usr/local/google/home/codyfincher/Code/database-tools/oracle-database-assessment/src/server/dbma/database.py#160\" target=\"_blank\"><span style=\"color: #7f7f7f; text-decoration-color: #7f7f7f\">160</span></a>\n",
       "</pre>\n"
      ],
      "text/plain": [
       "\u001b[2;36m[10/17/22 16:51:17]\u001b[0m\u001b[2;36m \u001b[0m\u001b[34mINFO    \u001b[0m \u001b[33m...\u001b[0m awr_snap_details  \u001b[1;32mSUCCESS\u001b[0m \u001b[1m[\u001b[0m\u001b[1;36m24\u001b[0m \u001b[1;35mrows\u001b[0m\u001b[1m(\u001b[0ms\u001b[1m)\u001b[0m\u001b[1m]\u001b[0m                             \u001b]8;id=532856;file:///usr/local/google/home/codyfincher/Code/database-tools/oracle-database-assessment/src/server/dbma/database.py\u001b\\\u001b[2mdatabase.py\u001b[0m\u001b]8;;\u001b\\\u001b[2m:\u001b[0m\u001b]8;id=260014;file:///usr/local/google/home/codyfincher/Code/database-tools/oracle-database-assessment/src/server/dbma/database.py#160\u001b\\\u001b[2m160\u001b[0m\u001b]8;;\u001b\\\n"
      ]
     },
     "metadata": {},
     "output_type": "display_data"
    },
    {
     "data": {
      "text/html": [
       "<pre style=\"white-space:pre;overflow-x:auto;line-height:normal;font-family:Menlo,'DejaVu Sans Mono',consolas,'Courier New',monospace\"><span style=\"color: #7fbfbf; text-decoration-color: #7fbfbf\">[10/17/22 16:51:17] </span><span style=\"color: #000080; text-decoration-color: #000080\">INFO    </span> delimiter is |                                                         <a href=\"file:///usr/local/google/home/codyfincher/Code/database-tools/oracle-database-assessment/src/server/dbma/database.py\" target=\"_blank\"><span style=\"color: #7f7f7f; text-decoration-color: #7f7f7f\">database.py</span></a><span style=\"color: #7f7f7f; text-decoration-color: #7f7f7f\">:</span><a href=\"file:///usr/local/google/home/codyfincher/Code/database-tools/oracle-database-assessment/src/server/dbma/database.py#153\" target=\"_blank\"><span style=\"color: #7f7f7f; text-decoration-color: #7f7f7f\">153</span></a>\n",
       "</pre>\n"
      ],
      "text/plain": [
       "\u001b[2;36m[10/17/22 16:51:17]\u001b[0m\u001b[2;36m \u001b[0m\u001b[34mINFO    \u001b[0m delimiter is |                                                         \u001b]8;id=67287;file:///usr/local/google/home/codyfincher/Code/database-tools/oracle-database-assessment/src/server/dbma/database.py\u001b\\\u001b[2mdatabase.py\u001b[0m\u001b]8;;\u001b\\\u001b[2m:\u001b[0m\u001b]8;id=679651;file:///usr/local/google/home/codyfincher/Code/database-tools/oracle-database-assessment/src/server/dbma/database.py#153\u001b\\\u001b[2m153\u001b[0m\u001b]8;;\u001b\\\n"
      ]
     },
     "metadata": {},
     "output_type": "display_data"
    },
    {
     "data": {
      "text/html": [
       "<pre style=\"white-space:pre;overflow-x:auto;line-height:normal;font-family:Menlo,'DejaVu Sans Mono',consolas,'Courier New',monospace\"><span style=\"color: #7fbfbf; text-decoration-color: #7fbfbf\">[10/17/22 16:51:17] </span><span style=\"color: #000080; text-decoration-color: #000080\">INFO    </span> <span style=\"color: #808000; text-decoration-color: #808000\">...</span> db_compression_by_type  <span style=\"color: #008000; text-decoration-color: #008000; font-weight: bold\">SUCCESS</span> <span style=\"font-weight: bold\">[</span><span style=\"color: #008080; text-decoration-color: #008080; font-weight: bold\">2</span> <span style=\"color: #800080; text-decoration-color: #800080; font-weight: bold\">rows</span><span style=\"font-weight: bold\">(</span>s<span style=\"font-weight: bold\">)]</span>                        <a href=\"file:///usr/local/google/home/codyfincher/Code/database-tools/oracle-database-assessment/src/server/dbma/database.py\" target=\"_blank\"><span style=\"color: #7f7f7f; text-decoration-color: #7f7f7f\">database.py</span></a><span style=\"color: #7f7f7f; text-decoration-color: #7f7f7f\">:</span><a href=\"file:///usr/local/google/home/codyfincher/Code/database-tools/oracle-database-assessment/src/server/dbma/database.py#160\" target=\"_blank\"><span style=\"color: #7f7f7f; text-decoration-color: #7f7f7f\">160</span></a>\n",
       "</pre>\n"
      ],
      "text/plain": [
       "\u001b[2;36m[10/17/22 16:51:17]\u001b[0m\u001b[2;36m \u001b[0m\u001b[34mINFO    \u001b[0m \u001b[33m...\u001b[0m db_compression_by_type  \u001b[1;32mSUCCESS\u001b[0m \u001b[1m[\u001b[0m\u001b[1;36m2\u001b[0m \u001b[1;35mrows\u001b[0m\u001b[1m(\u001b[0ms\u001b[1m)\u001b[0m\u001b[1m]\u001b[0m                        \u001b]8;id=617001;file:///usr/local/google/home/codyfincher/Code/database-tools/oracle-database-assessment/src/server/dbma/database.py\u001b\\\u001b[2mdatabase.py\u001b[0m\u001b]8;;\u001b\\\u001b[2m:\u001b[0m\u001b]8;id=794277;file:///usr/local/google/home/codyfincher/Code/database-tools/oracle-database-assessment/src/server/dbma/database.py#160\u001b\\\u001b[2m160\u001b[0m\u001b]8;;\u001b\\\n"
      ]
     },
     "metadata": {},
     "output_type": "display_data"
    },
    {
     "data": {
      "text/html": [
       "<pre style=\"white-space:pre;overflow-x:auto;line-height:normal;font-family:Menlo,'DejaVu Sans Mono',consolas,'Courier New',monospace\"><span style=\"color: #7fbfbf; text-decoration-color: #7fbfbf\">[10/17/22 16:51:17] </span><span style=\"color: #000080; text-decoration-color: #000080\">INFO    </span> delimiter is |                                                         <a href=\"file:///usr/local/google/home/codyfincher/Code/database-tools/oracle-database-assessment/src/server/dbma/database.py\" target=\"_blank\"><span style=\"color: #7f7f7f; text-decoration-color: #7f7f7f\">database.py</span></a><span style=\"color: #7f7f7f; text-decoration-color: #7f7f7f\">:</span><a href=\"file:///usr/local/google/home/codyfincher/Code/database-tools/oracle-database-assessment/src/server/dbma/database.py#153\" target=\"_blank\"><span style=\"color: #7f7f7f; text-decoration-color: #7f7f7f\">153</span></a>\n",
       "</pre>\n"
      ],
      "text/plain": [
       "\u001b[2;36m[10/17/22 16:51:17]\u001b[0m\u001b[2;36m \u001b[0m\u001b[34mINFO    \u001b[0m delimiter is |                                                         \u001b]8;id=686995;file:///usr/local/google/home/codyfincher/Code/database-tools/oracle-database-assessment/src/server/dbma/database.py\u001b\\\u001b[2mdatabase.py\u001b[0m\u001b]8;;\u001b\\\u001b[2m:\u001b[0m\u001b]8;id=403752;file:///usr/local/google/home/codyfincher/Code/database-tools/oracle-database-assessment/src/server/dbma/database.py#153\u001b\\\u001b[2m153\u001b[0m\u001b]8;;\u001b\\\n"
      ]
     },
     "metadata": {},
     "output_type": "display_data"
    },
    {
     "data": {
      "text/html": [
       "<pre style=\"white-space:pre;overflow-x:auto;line-height:normal;font-family:Menlo,'DejaVu Sans Mono',consolas,'Courier New',monospace\"><span style=\"color: #7fbfbf; text-decoration-color: #7fbfbf\">[10/17/22 16:51:17] </span><span style=\"color: #000080; text-decoration-color: #000080\">INFO    </span> <span style=\"color: #808000; text-decoration-color: #808000\">...</span> db_cpu_core_usage  <span style=\"color: #008000; text-decoration-color: #008000; font-weight: bold\">SUCCESS</span> <span style=\"font-weight: bold\">[</span><span style=\"color: #008080; text-decoration-color: #008080; font-weight: bold\">44</span> <span style=\"color: #800080; text-decoration-color: #800080; font-weight: bold\">rows</span><span style=\"font-weight: bold\">(</span>s<span style=\"font-weight: bold\">)]</span>                            <a href=\"file:///usr/local/google/home/codyfincher/Code/database-tools/oracle-database-assessment/src/server/dbma/database.py\" target=\"_blank\"><span style=\"color: #7f7f7f; text-decoration-color: #7f7f7f\">database.py</span></a><span style=\"color: #7f7f7f; text-decoration-color: #7f7f7f\">:</span><a href=\"file:///usr/local/google/home/codyfincher/Code/database-tools/oracle-database-assessment/src/server/dbma/database.py#160\" target=\"_blank\"><span style=\"color: #7f7f7f; text-decoration-color: #7f7f7f\">160</span></a>\n",
       "</pre>\n"
      ],
      "text/plain": [
       "\u001b[2;36m[10/17/22 16:51:17]\u001b[0m\u001b[2;36m \u001b[0m\u001b[34mINFO    \u001b[0m \u001b[33m...\u001b[0m db_cpu_core_usage  \u001b[1;32mSUCCESS\u001b[0m \u001b[1m[\u001b[0m\u001b[1;36m44\u001b[0m \u001b[1;35mrows\u001b[0m\u001b[1m(\u001b[0ms\u001b[1m)\u001b[0m\u001b[1m]\u001b[0m                            \u001b]8;id=935567;file:///usr/local/google/home/codyfincher/Code/database-tools/oracle-database-assessment/src/server/dbma/database.py\u001b\\\u001b[2mdatabase.py\u001b[0m\u001b]8;;\u001b\\\u001b[2m:\u001b[0m\u001b]8;id=469547;file:///usr/local/google/home/codyfincher/Code/database-tools/oracle-database-assessment/src/server/dbma/database.py#160\u001b\\\u001b[2m160\u001b[0m\u001b]8;;\u001b\\\n"
      ]
     },
     "metadata": {},
     "output_type": "display_data"
    },
    {
     "data": {
      "text/html": [
       "<pre style=\"white-space:pre;overflow-x:auto;line-height:normal;font-family:Menlo,'DejaVu Sans Mono',consolas,'Courier New',monospace\"><span style=\"color: #7fbfbf; text-decoration-color: #7fbfbf\">[10/17/22 16:51:17] </span><span style=\"color: #000080; text-decoration-color: #000080\">INFO    </span> delimiter is |                                                         <a href=\"file:///usr/local/google/home/codyfincher/Code/database-tools/oracle-database-assessment/src/server/dbma/database.py\" target=\"_blank\"><span style=\"color: #7f7f7f; text-decoration-color: #7f7f7f\">database.py</span></a><span style=\"color: #7f7f7f; text-decoration-color: #7f7f7f\">:</span><a href=\"file:///usr/local/google/home/codyfincher/Code/database-tools/oracle-database-assessment/src/server/dbma/database.py#153\" target=\"_blank\"><span style=\"color: #7f7f7f; text-decoration-color: #7f7f7f\">153</span></a>\n",
       "</pre>\n"
      ],
      "text/plain": [
       "\u001b[2;36m[10/17/22 16:51:17]\u001b[0m\u001b[2;36m \u001b[0m\u001b[34mINFO    \u001b[0m delimiter is |                                                         \u001b]8;id=382426;file:///usr/local/google/home/codyfincher/Code/database-tools/oracle-database-assessment/src/server/dbma/database.py\u001b\\\u001b[2mdatabase.py\u001b[0m\u001b]8;;\u001b\\\u001b[2m:\u001b[0m\u001b]8;id=519384;file:///usr/local/google/home/codyfincher/Code/database-tools/oracle-database-assessment/src/server/dbma/database.py#153\u001b\\\u001b[2m153\u001b[0m\u001b]8;;\u001b\\\n"
      ]
     },
     "metadata": {},
     "output_type": "display_data"
    },
    {
     "data": {
      "text/html": [
       "<pre style=\"white-space:pre;overflow-x:auto;line-height:normal;font-family:Menlo,'DejaVu Sans Mono',consolas,'Courier New',monospace\"><span style=\"color: #7fbfbf; text-decoration-color: #7fbfbf\">[10/17/22 16:51:17] </span><span style=\"color: #000080; text-decoration-color: #000080\">INFO    </span> <span style=\"color: #808000; text-decoration-color: #808000\">...</span> db_dataguard  <span style=\"color: #008000; text-decoration-color: #008000; font-weight: bold\">SUCCESS</span> <span style=\"font-weight: bold\">[</span><span style=\"color: #008080; text-decoration-color: #008080; font-weight: bold\">2</span> <span style=\"color: #800080; text-decoration-color: #800080; font-weight: bold\">rows</span><span style=\"font-weight: bold\">(</span>s<span style=\"font-weight: bold\">)]</span>                                  <a href=\"file:///usr/local/google/home/codyfincher/Code/database-tools/oracle-database-assessment/src/server/dbma/database.py\" target=\"_blank\"><span style=\"color: #7f7f7f; text-decoration-color: #7f7f7f\">database.py</span></a><span style=\"color: #7f7f7f; text-decoration-color: #7f7f7f\">:</span><a href=\"file:///usr/local/google/home/codyfincher/Code/database-tools/oracle-database-assessment/src/server/dbma/database.py#160\" target=\"_blank\"><span style=\"color: #7f7f7f; text-decoration-color: #7f7f7f\">160</span></a>\n",
       "</pre>\n"
      ],
      "text/plain": [
       "\u001b[2;36m[10/17/22 16:51:17]\u001b[0m\u001b[2;36m \u001b[0m\u001b[34mINFO    \u001b[0m \u001b[33m...\u001b[0m db_dataguard  \u001b[1;32mSUCCESS\u001b[0m \u001b[1m[\u001b[0m\u001b[1;36m2\u001b[0m \u001b[1;35mrows\u001b[0m\u001b[1m(\u001b[0ms\u001b[1m)\u001b[0m\u001b[1m]\u001b[0m                                  \u001b]8;id=561069;file:///usr/local/google/home/codyfincher/Code/database-tools/oracle-database-assessment/src/server/dbma/database.py\u001b\\\u001b[2mdatabase.py\u001b[0m\u001b]8;;\u001b\\\u001b[2m:\u001b[0m\u001b]8;id=626743;file:///usr/local/google/home/codyfincher/Code/database-tools/oracle-database-assessment/src/server/dbma/database.py#160\u001b\\\u001b[2m160\u001b[0m\u001b]8;;\u001b\\\n"
      ]
     },
     "metadata": {},
     "output_type": "display_data"
    },
    {
     "data": {
      "text/html": [
       "<pre style=\"white-space:pre;overflow-x:auto;line-height:normal;font-family:Menlo,'DejaVu Sans Mono',consolas,'Courier New',monospace\"><span style=\"color: #7fbfbf; text-decoration-color: #7fbfbf\">[10/17/22 16:51:17] </span><span style=\"color: #000080; text-decoration-color: #000080\">INFO    </span> delimiter is |                                                         <a href=\"file:///usr/local/google/home/codyfincher/Code/database-tools/oracle-database-assessment/src/server/dbma/database.py\" target=\"_blank\"><span style=\"color: #7f7f7f; text-decoration-color: #7f7f7f\">database.py</span></a><span style=\"color: #7f7f7f; text-decoration-color: #7f7f7f\">:</span><a href=\"file:///usr/local/google/home/codyfincher/Code/database-tools/oracle-database-assessment/src/server/dbma/database.py#153\" target=\"_blank\"><span style=\"color: #7f7f7f; text-decoration-color: #7f7f7f\">153</span></a>\n",
       "</pre>\n"
      ],
      "text/plain": [
       "\u001b[2;36m[10/17/22 16:51:17]\u001b[0m\u001b[2;36m \u001b[0m\u001b[34mINFO    \u001b[0m delimiter is |                                                         \u001b]8;id=320205;file:///usr/local/google/home/codyfincher/Code/database-tools/oracle-database-assessment/src/server/dbma/database.py\u001b\\\u001b[2mdatabase.py\u001b[0m\u001b]8;;\u001b\\\u001b[2m:\u001b[0m\u001b]8;id=517680;file:///usr/local/google/home/codyfincher/Code/database-tools/oracle-database-assessment/src/server/dbma/database.py#153\u001b\\\u001b[2m153\u001b[0m\u001b]8;;\u001b\\\n"
      ]
     },
     "metadata": {},
     "output_type": "display_data"
    },
    {
     "data": {
      "text/html": [
       "<pre style=\"white-space:pre;overflow-x:auto;line-height:normal;font-family:Menlo,'DejaVu Sans Mono',consolas,'Courier New',monospace\"><span style=\"color: #7fbfbf; text-decoration-color: #7fbfbf\">[10/17/22 16:51:17] </span><span style=\"color: #000080; text-decoration-color: #000080\">INFO    </span> <span style=\"color: #808000; text-decoration-color: #808000\">...</span> db_data_types  <span style=\"color: #008000; text-decoration-color: #008000; font-weight: bold\">SUCCESS</span> <span style=\"font-weight: bold\">[</span><span style=\"color: #008080; text-decoration-color: #008080; font-weight: bold\">35</span> <span style=\"color: #800080; text-decoration-color: #800080; font-weight: bold\">rows</span><span style=\"font-weight: bold\">(</span>s<span style=\"font-weight: bold\">)]</span>                                <a href=\"file:///usr/local/google/home/codyfincher/Code/database-tools/oracle-database-assessment/src/server/dbma/database.py\" target=\"_blank\"><span style=\"color: #7f7f7f; text-decoration-color: #7f7f7f\">database.py</span></a><span style=\"color: #7f7f7f; text-decoration-color: #7f7f7f\">:</span><a href=\"file:///usr/local/google/home/codyfincher/Code/database-tools/oracle-database-assessment/src/server/dbma/database.py#160\" target=\"_blank\"><span style=\"color: #7f7f7f; text-decoration-color: #7f7f7f\">160</span></a>\n",
       "</pre>\n"
      ],
      "text/plain": [
       "\u001b[2;36m[10/17/22 16:51:17]\u001b[0m\u001b[2;36m \u001b[0m\u001b[34mINFO    \u001b[0m \u001b[33m...\u001b[0m db_data_types  \u001b[1;32mSUCCESS\u001b[0m \u001b[1m[\u001b[0m\u001b[1;36m35\u001b[0m \u001b[1;35mrows\u001b[0m\u001b[1m(\u001b[0ms\u001b[1m)\u001b[0m\u001b[1m]\u001b[0m                                \u001b]8;id=766316;file:///usr/local/google/home/codyfincher/Code/database-tools/oracle-database-assessment/src/server/dbma/database.py\u001b\\\u001b[2mdatabase.py\u001b[0m\u001b]8;;\u001b\\\u001b[2m:\u001b[0m\u001b]8;id=473791;file:///usr/local/google/home/codyfincher/Code/database-tools/oracle-database-assessment/src/server/dbma/database.py#160\u001b\\\u001b[2m160\u001b[0m\u001b]8;;\u001b\\\n"
      ]
     },
     "metadata": {},
     "output_type": "display_data"
    },
    {
     "data": {
      "text/html": [
       "<pre style=\"white-space:pre;overflow-x:auto;line-height:normal;font-family:Menlo,'DejaVu Sans Mono',consolas,'Courier New',monospace\"><span style=\"color: #7fbfbf; text-decoration-color: #7fbfbf\">[10/17/22 16:51:17] </span><span style=\"color: #000080; text-decoration-color: #000080\">INFO    </span> delimiter is |                                                         <a href=\"file:///usr/local/google/home/codyfincher/Code/database-tools/oracle-database-assessment/src/server/dbma/database.py\" target=\"_blank\"><span style=\"color: #7f7f7f; text-decoration-color: #7f7f7f\">database.py</span></a><span style=\"color: #7f7f7f; text-decoration-color: #7f7f7f\">:</span><a href=\"file:///usr/local/google/home/codyfincher/Code/database-tools/oracle-database-assessment/src/server/dbma/database.py#153\" target=\"_blank\"><span style=\"color: #7f7f7f; text-decoration-color: #7f7f7f\">153</span></a>\n",
       "</pre>\n"
      ],
      "text/plain": [
       "\u001b[2;36m[10/17/22 16:51:17]\u001b[0m\u001b[2;36m \u001b[0m\u001b[34mINFO    \u001b[0m delimiter is |                                                         \u001b]8;id=301800;file:///usr/local/google/home/codyfincher/Code/database-tools/oracle-database-assessment/src/server/dbma/database.py\u001b\\\u001b[2mdatabase.py\u001b[0m\u001b]8;;\u001b\\\u001b[2m:\u001b[0m\u001b]8;id=414949;file:///usr/local/google/home/codyfincher/Code/database-tools/oracle-database-assessment/src/server/dbma/database.py#153\u001b\\\u001b[2m153\u001b[0m\u001b]8;;\u001b\\\n"
      ]
     },
     "metadata": {},
     "output_type": "display_data"
    },
    {
     "data": {
      "text/html": [
       "<pre style=\"white-space:pre;overflow-x:auto;line-height:normal;font-family:Menlo,'DejaVu Sans Mono',consolas,'Courier New',monospace\"><span style=\"color: #7fbfbf; text-decoration-color: #7fbfbf\">[10/17/22 16:51:17] </span><span style=\"color: #000080; text-decoration-color: #000080\">INFO    </span> <span style=\"color: #808000; text-decoration-color: #808000\">...</span> dba_hist_sys_stat  <span style=\"color: #008000; text-decoration-color: #008000; font-weight: bold\">SUCCESS</span> <span style=\"font-weight: bold\">[</span><span style=\"color: #008080; text-decoration-color: #008080; font-weight: bold\">3816</span> <span style=\"color: #800080; text-decoration-color: #800080; font-weight: bold\">rows</span><span style=\"font-weight: bold\">(</span>s<span style=\"font-weight: bold\">)]</span>                          <a href=\"file:///usr/local/google/home/codyfincher/Code/database-tools/oracle-database-assessment/src/server/dbma/database.py\" target=\"_blank\"><span style=\"color: #7f7f7f; text-decoration-color: #7f7f7f\">database.py</span></a><span style=\"color: #7f7f7f; text-decoration-color: #7f7f7f\">:</span><a href=\"file:///usr/local/google/home/codyfincher/Code/database-tools/oracle-database-assessment/src/server/dbma/database.py#160\" target=\"_blank\"><span style=\"color: #7f7f7f; text-decoration-color: #7f7f7f\">160</span></a>\n",
       "</pre>\n"
      ],
      "text/plain": [
       "\u001b[2;36m[10/17/22 16:51:17]\u001b[0m\u001b[2;36m \u001b[0m\u001b[34mINFO    \u001b[0m \u001b[33m...\u001b[0m dba_hist_sys_stat  \u001b[1;32mSUCCESS\u001b[0m \u001b[1m[\u001b[0m\u001b[1;36m3816\u001b[0m \u001b[1;35mrows\u001b[0m\u001b[1m(\u001b[0ms\u001b[1m)\u001b[0m\u001b[1m]\u001b[0m                          \u001b]8;id=936105;file:///usr/local/google/home/codyfincher/Code/database-tools/oracle-database-assessment/src/server/dbma/database.py\u001b\\\u001b[2mdatabase.py\u001b[0m\u001b]8;;\u001b\\\u001b[2m:\u001b[0m\u001b]8;id=615658;file:///usr/local/google/home/codyfincher/Code/database-tools/oracle-database-assessment/src/server/dbma/database.py#160\u001b\\\u001b[2m160\u001b[0m\u001b]8;;\u001b\\\n"
      ]
     },
     "metadata": {},
     "output_type": "display_data"
    },
    {
     "data": {
      "text/html": [
       "<pre style=\"white-space:pre;overflow-x:auto;line-height:normal;font-family:Menlo,'DejaVu Sans Mono',consolas,'Courier New',monospace\"><span style=\"color: #7fbfbf; text-decoration-color: #7fbfbf\">[10/17/22 16:51:17] </span><span style=\"color: #000080; text-decoration-color: #000080\">INFO    </span> delimiter is |                                                         <a href=\"file:///usr/local/google/home/codyfincher/Code/database-tools/oracle-database-assessment/src/server/dbma/database.py\" target=\"_blank\"><span style=\"color: #7f7f7f; text-decoration-color: #7f7f7f\">database.py</span></a><span style=\"color: #7f7f7f; text-decoration-color: #7f7f7f\">:</span><a href=\"file:///usr/local/google/home/codyfincher/Code/database-tools/oracle-database-assessment/src/server/dbma/database.py#153\" target=\"_blank\"><span style=\"color: #7f7f7f; text-decoration-color: #7f7f7f\">153</span></a>\n",
       "</pre>\n"
      ],
      "text/plain": [
       "\u001b[2;36m[10/17/22 16:51:17]\u001b[0m\u001b[2;36m \u001b[0m\u001b[34mINFO    \u001b[0m delimiter is |                                                         \u001b]8;id=153925;file:///usr/local/google/home/codyfincher/Code/database-tools/oracle-database-assessment/src/server/dbma/database.py\u001b\\\u001b[2mdatabase.py\u001b[0m\u001b]8;;\u001b\\\u001b[2m:\u001b[0m\u001b]8;id=91076;file:///usr/local/google/home/codyfincher/Code/database-tools/oracle-database-assessment/src/server/dbma/database.py#153\u001b\\\u001b[2m153\u001b[0m\u001b]8;;\u001b\\\n"
      ]
     },
     "metadata": {},
     "output_type": "display_data"
    },
    {
     "data": {
      "text/html": [
       "<pre style=\"white-space:pre;overflow-x:auto;line-height:normal;font-family:Menlo,'DejaVu Sans Mono',consolas,'Courier New',monospace\"><span style=\"color: #7fbfbf; text-decoration-color: #7fbfbf\">[10/17/22 16:51:17] </span><span style=\"color: #000080; text-decoration-color: #000080\">INFO    </span> <span style=\"color: #808000; text-decoration-color: #808000\">...</span> dba_hist_sys_time_model  <span style=\"color: #008000; text-decoration-color: #008000; font-weight: bold\">SUCCESS</span> <span style=\"font-weight: bold\">[</span><span style=\"color: #008080; text-decoration-color: #008080; font-weight: bold\">744</span> <span style=\"color: #800080; text-decoration-color: #800080; font-weight: bold\">rows</span><span style=\"font-weight: bold\">(</span>s<span style=\"font-weight: bold\">)]</span>                     <a href=\"file:///usr/local/google/home/codyfincher/Code/database-tools/oracle-database-assessment/src/server/dbma/database.py\" target=\"_blank\"><span style=\"color: #7f7f7f; text-decoration-color: #7f7f7f\">database.py</span></a><span style=\"color: #7f7f7f; text-decoration-color: #7f7f7f\">:</span><a href=\"file:///usr/local/google/home/codyfincher/Code/database-tools/oracle-database-assessment/src/server/dbma/database.py#160\" target=\"_blank\"><span style=\"color: #7f7f7f; text-decoration-color: #7f7f7f\">160</span></a>\n",
       "</pre>\n"
      ],
      "text/plain": [
       "\u001b[2;36m[10/17/22 16:51:17]\u001b[0m\u001b[2;36m \u001b[0m\u001b[34mINFO    \u001b[0m \u001b[33m...\u001b[0m dba_hist_sys_time_model  \u001b[1;32mSUCCESS\u001b[0m \u001b[1m[\u001b[0m\u001b[1;36m744\u001b[0m \u001b[1;35mrows\u001b[0m\u001b[1m(\u001b[0ms\u001b[1m)\u001b[0m\u001b[1m]\u001b[0m                     \u001b]8;id=958231;file:///usr/local/google/home/codyfincher/Code/database-tools/oracle-database-assessment/src/server/dbma/database.py\u001b\\\u001b[2mdatabase.py\u001b[0m\u001b]8;;\u001b\\\u001b[2m:\u001b[0m\u001b]8;id=274738;file:///usr/local/google/home/codyfincher/Code/database-tools/oracle-database-assessment/src/server/dbma/database.py#160\u001b\\\u001b[2m160\u001b[0m\u001b]8;;\u001b\\\n"
      ]
     },
     "metadata": {},
     "output_type": "display_data"
    },
    {
     "data": {
      "text/html": [
       "<pre style=\"white-space:pre;overflow-x:auto;line-height:normal;font-family:Menlo,'DejaVu Sans Mono',consolas,'Courier New',monospace\"><span style=\"color: #7fbfbf; text-decoration-color: #7fbfbf\">[10/17/22 16:51:17] </span><span style=\"color: #000080; text-decoration-color: #000080\">INFO    </span> delimiter is |                                                         <a href=\"file:///usr/local/google/home/codyfincher/Code/database-tools/oracle-database-assessment/src/server/dbma/database.py\" target=\"_blank\"><span style=\"color: #7f7f7f; text-decoration-color: #7f7f7f\">database.py</span></a><span style=\"color: #7f7f7f; text-decoration-color: #7f7f7f\">:</span><a href=\"file:///usr/local/google/home/codyfincher/Code/database-tools/oracle-database-assessment/src/server/dbma/database.py#153\" target=\"_blank\"><span style=\"color: #7f7f7f; text-decoration-color: #7f7f7f\">153</span></a>\n",
       "</pre>\n"
      ],
      "text/plain": [
       "\u001b[2;36m[10/17/22 16:51:17]\u001b[0m\u001b[2;36m \u001b[0m\u001b[34mINFO    \u001b[0m delimiter is |                                                         \u001b]8;id=629783;file:///usr/local/google/home/codyfincher/Code/database-tools/oracle-database-assessment/src/server/dbma/database.py\u001b\\\u001b[2mdatabase.py\u001b[0m\u001b]8;;\u001b\\\u001b[2m:\u001b[0m\u001b]8;id=749892;file:///usr/local/google/home/codyfincher/Code/database-tools/oracle-database-assessment/src/server/dbma/database.py#153\u001b\\\u001b[2m153\u001b[0m\u001b]8;;\u001b\\\n"
      ]
     },
     "metadata": {},
     "output_type": "display_data"
    },
    {
     "data": {
      "text/html": [
       "<pre style=\"white-space:pre;overflow-x:auto;line-height:normal;font-family:Menlo,'DejaVu Sans Mono',consolas,'Courier New',monospace\"><span style=\"color: #7fbfbf; text-decoration-color: #7fbfbf\">[10/17/22 16:51:17] </span><span style=\"color: #000080; text-decoration-color: #000080\">INFO    </span> <span style=\"color: #808000; text-decoration-color: #808000\">...</span> db_features  <span style=\"color: #008000; text-decoration-color: #008000; font-weight: bold\">SUCCESS</span> <span style=\"font-weight: bold\">[</span><span style=\"color: #008080; text-decoration-color: #008080; font-weight: bold\">1019</span> <span style=\"color: #800080; text-decoration-color: #800080; font-weight: bold\">rows</span><span style=\"font-weight: bold\">(</span>s<span style=\"font-weight: bold\">)]</span>                                <a href=\"file:///usr/local/google/home/codyfincher/Code/database-tools/oracle-database-assessment/src/server/dbma/database.py\" target=\"_blank\"><span style=\"color: #7f7f7f; text-decoration-color: #7f7f7f\">database.py</span></a><span style=\"color: #7f7f7f; text-decoration-color: #7f7f7f\">:</span><a href=\"file:///usr/local/google/home/codyfincher/Code/database-tools/oracle-database-assessment/src/server/dbma/database.py#160\" target=\"_blank\"><span style=\"color: #7f7f7f; text-decoration-color: #7f7f7f\">160</span></a>\n",
       "</pre>\n"
      ],
      "text/plain": [
       "\u001b[2;36m[10/17/22 16:51:17]\u001b[0m\u001b[2;36m \u001b[0m\u001b[34mINFO    \u001b[0m \u001b[33m...\u001b[0m db_features  \u001b[1;32mSUCCESS\u001b[0m \u001b[1m[\u001b[0m\u001b[1;36m1019\u001b[0m \u001b[1;35mrows\u001b[0m\u001b[1m(\u001b[0ms\u001b[1m)\u001b[0m\u001b[1m]\u001b[0m                                \u001b]8;id=416904;file:///usr/local/google/home/codyfincher/Code/database-tools/oracle-database-assessment/src/server/dbma/database.py\u001b\\\u001b[2mdatabase.py\u001b[0m\u001b]8;;\u001b\\\u001b[2m:\u001b[0m\u001b]8;id=436023;file:///usr/local/google/home/codyfincher/Code/database-tools/oracle-database-assessment/src/server/dbma/database.py#160\u001b\\\u001b[2m160\u001b[0m\u001b]8;;\u001b\\\n"
      ]
     },
     "metadata": {},
     "output_type": "display_data"
    },
    {
     "data": {
      "text/html": [
       "<pre style=\"white-space:pre;overflow-x:auto;line-height:normal;font-family:Menlo,'DejaVu Sans Mono',consolas,'Courier New',monospace\"><span style=\"color: #7fbfbf; text-decoration-color: #7fbfbf\">[10/17/22 16:51:17] </span><span style=\"color: #000080; text-decoration-color: #000080\">INFO    </span> delimiter is |                                                         <a href=\"file:///usr/local/google/home/codyfincher/Code/database-tools/oracle-database-assessment/src/server/dbma/database.py\" target=\"_blank\"><span style=\"color: #7f7f7f; text-decoration-color: #7f7f7f\">database.py</span></a><span style=\"color: #7f7f7f; text-decoration-color: #7f7f7f\">:</span><a href=\"file:///usr/local/google/home/codyfincher/Code/database-tools/oracle-database-assessment/src/server/dbma/database.py#153\" target=\"_blank\"><span style=\"color: #7f7f7f; text-decoration-color: #7f7f7f\">153</span></a>\n",
       "</pre>\n"
      ],
      "text/plain": [
       "\u001b[2;36m[10/17/22 16:51:17]\u001b[0m\u001b[2;36m \u001b[0m\u001b[34mINFO    \u001b[0m delimiter is |                                                         \u001b]8;id=300479;file:///usr/local/google/home/codyfincher/Code/database-tools/oracle-database-assessment/src/server/dbma/database.py\u001b\\\u001b[2mdatabase.py\u001b[0m\u001b]8;;\u001b\\\u001b[2m:\u001b[0m\u001b]8;id=720129;file:///usr/local/google/home/codyfincher/Code/database-tools/oracle-database-assessment/src/server/dbma/database.py#153\u001b\\\u001b[2m153\u001b[0m\u001b]8;;\u001b\\\n"
      ]
     },
     "metadata": {},
     "output_type": "display_data"
    },
    {
     "data": {
      "text/html": [
       "<pre style=\"white-space:pre;overflow-x:auto;line-height:normal;font-family:Menlo,'DejaVu Sans Mono',consolas,'Courier New',monospace\"><span style=\"color: #7fbfbf; text-decoration-color: #7fbfbf\">[10/17/22 16:51:17] </span><span style=\"color: #000080; text-decoration-color: #000080\">INFO    </span> <span style=\"color: #808000; text-decoration-color: #808000\">...</span> db_high_water_stats  <span style=\"color: #008000; text-decoration-color: #008000; font-weight: bold\">SUCCESS</span> <span style=\"font-weight: bold\">[</span><span style=\"color: #008080; text-decoration-color: #008080; font-weight: bold\">128</span> <span style=\"color: #800080; text-decoration-color: #800080; font-weight: bold\">rows</span><span style=\"font-weight: bold\">(</span>s<span style=\"font-weight: bold\">)]</span>                         <a href=\"file:///usr/local/google/home/codyfincher/Code/database-tools/oracle-database-assessment/src/server/dbma/database.py\" target=\"_blank\"><span style=\"color: #7f7f7f; text-decoration-color: #7f7f7f\">database.py</span></a><span style=\"color: #7f7f7f; text-decoration-color: #7f7f7f\">:</span><a href=\"file:///usr/local/google/home/codyfincher/Code/database-tools/oracle-database-assessment/src/server/dbma/database.py#160\" target=\"_blank\"><span style=\"color: #7f7f7f; text-decoration-color: #7f7f7f\">160</span></a>\n",
       "</pre>\n"
      ],
      "text/plain": [
       "\u001b[2;36m[10/17/22 16:51:17]\u001b[0m\u001b[2;36m \u001b[0m\u001b[34mINFO    \u001b[0m \u001b[33m...\u001b[0m db_high_water_stats  \u001b[1;32mSUCCESS\u001b[0m \u001b[1m[\u001b[0m\u001b[1;36m128\u001b[0m \u001b[1;35mrows\u001b[0m\u001b[1m(\u001b[0ms\u001b[1m)\u001b[0m\u001b[1m]\u001b[0m                         \u001b]8;id=307050;file:///usr/local/google/home/codyfincher/Code/database-tools/oracle-database-assessment/src/server/dbma/database.py\u001b\\\u001b[2mdatabase.py\u001b[0m\u001b]8;;\u001b\\\u001b[2m:\u001b[0m\u001b]8;id=713914;file:///usr/local/google/home/codyfincher/Code/database-tools/oracle-database-assessment/src/server/dbma/database.py#160\u001b\\\u001b[2m160\u001b[0m\u001b]8;;\u001b\\\n"
      ]
     },
     "metadata": {},
     "output_type": "display_data"
    },
    {
     "data": {
      "text/html": [
       "<pre style=\"white-space:pre;overflow-x:auto;line-height:normal;font-family:Menlo,'DejaVu Sans Mono',consolas,'Courier New',monospace\"><span style=\"color: #7fbfbf; text-decoration-color: #7fbfbf\">[10/17/22 16:51:17] </span><span style=\"color: #000080; text-decoration-color: #000080\">INFO    </span> delimiter is |                                                         <a href=\"file:///usr/local/google/home/codyfincher/Code/database-tools/oracle-database-assessment/src/server/dbma/database.py\" target=\"_blank\"><span style=\"color: #7f7f7f; text-decoration-color: #7f7f7f\">database.py</span></a><span style=\"color: #7f7f7f; text-decoration-color: #7f7f7f\">:</span><a href=\"file:///usr/local/google/home/codyfincher/Code/database-tools/oracle-database-assessment/src/server/dbma/database.py#153\" target=\"_blank\"><span style=\"color: #7f7f7f; text-decoration-color: #7f7f7f\">153</span></a>\n",
       "</pre>\n"
      ],
      "text/plain": [
       "\u001b[2;36m[10/17/22 16:51:17]\u001b[0m\u001b[2;36m \u001b[0m\u001b[34mINFO    \u001b[0m delimiter is |                                                         \u001b]8;id=582869;file:///usr/local/google/home/codyfincher/Code/database-tools/oracle-database-assessment/src/server/dbma/database.py\u001b\\\u001b[2mdatabase.py\u001b[0m\u001b]8;;\u001b\\\u001b[2m:\u001b[0m\u001b]8;id=355377;file:///usr/local/google/home/codyfincher/Code/database-tools/oracle-database-assessment/src/server/dbma/database.py#153\u001b\\\u001b[2m153\u001b[0m\u001b]8;;\u001b\\\n"
      ]
     },
     "metadata": {},
     "output_type": "display_data"
    },
    {
     "data": {
      "text/html": [
       "<pre style=\"white-space:pre;overflow-x:auto;line-height:normal;font-family:Menlo,'DejaVu Sans Mono',consolas,'Courier New',monospace\"><span style=\"color: #7fbfbf; text-decoration-color: #7fbfbf\">[10/17/22 16:51:17] </span><span style=\"color: #000080; text-decoration-color: #000080\">INFO    </span> <span style=\"color: #808000; text-decoration-color: #808000\">...</span> db_instances  <span style=\"color: #008000; text-decoration-color: #008000; font-weight: bold\">SUCCESS</span> <span style=\"font-weight: bold\">[</span><span style=\"color: #008080; text-decoration-color: #008080; font-weight: bold\">1</span> <span style=\"color: #800080; text-decoration-color: #800080; font-weight: bold\">rows</span><span style=\"font-weight: bold\">(</span>s<span style=\"font-weight: bold\">)]</span>                                  <a href=\"file:///usr/local/google/home/codyfincher/Code/database-tools/oracle-database-assessment/src/server/dbma/database.py\" target=\"_blank\"><span style=\"color: #7f7f7f; text-decoration-color: #7f7f7f\">database.py</span></a><span style=\"color: #7f7f7f; text-decoration-color: #7f7f7f\">:</span><a href=\"file:///usr/local/google/home/codyfincher/Code/database-tools/oracle-database-assessment/src/server/dbma/database.py#160\" target=\"_blank\"><span style=\"color: #7f7f7f; text-decoration-color: #7f7f7f\">160</span></a>\n",
       "</pre>\n"
      ],
      "text/plain": [
       "\u001b[2;36m[10/17/22 16:51:17]\u001b[0m\u001b[2;36m \u001b[0m\u001b[34mINFO    \u001b[0m \u001b[33m...\u001b[0m db_instances  \u001b[1;32mSUCCESS\u001b[0m \u001b[1m[\u001b[0m\u001b[1;36m1\u001b[0m \u001b[1;35mrows\u001b[0m\u001b[1m(\u001b[0ms\u001b[1m)\u001b[0m\u001b[1m]\u001b[0m                                  \u001b]8;id=34641;file:///usr/local/google/home/codyfincher/Code/database-tools/oracle-database-assessment/src/server/dbma/database.py\u001b\\\u001b[2mdatabase.py\u001b[0m\u001b]8;;\u001b\\\u001b[2m:\u001b[0m\u001b]8;id=676897;file:///usr/local/google/home/codyfincher/Code/database-tools/oracle-database-assessment/src/server/dbma/database.py#160\u001b\\\u001b[2m160\u001b[0m\u001b]8;;\u001b\\\n"
      ]
     },
     "metadata": {},
     "output_type": "display_data"
    },
    {
     "data": {
      "text/html": [
       "<pre style=\"white-space:pre;overflow-x:auto;line-height:normal;font-family:Menlo,'DejaVu Sans Mono',consolas,'Courier New',monospace\"><span style=\"color: #7fbfbf; text-decoration-color: #7fbfbf\">[10/17/22 16:51:17] </span><span style=\"color: #000080; text-decoration-color: #000080\">INFO    </span> delimiter is |                                                         <a href=\"file:///usr/local/google/home/codyfincher/Code/database-tools/oracle-database-assessment/src/server/dbma/database.py\" target=\"_blank\"><span style=\"color: #7f7f7f; text-decoration-color: #7f7f7f\">database.py</span></a><span style=\"color: #7f7f7f; text-decoration-color: #7f7f7f\">:</span><a href=\"file:///usr/local/google/home/codyfincher/Code/database-tools/oracle-database-assessment/src/server/dbma/database.py#153\" target=\"_blank\"><span style=\"color: #7f7f7f; text-decoration-color: #7f7f7f\">153</span></a>\n",
       "</pre>\n"
      ],
      "text/plain": [
       "\u001b[2;36m[10/17/22 16:51:17]\u001b[0m\u001b[2;36m \u001b[0m\u001b[34mINFO    \u001b[0m delimiter is |                                                         \u001b]8;id=688975;file:///usr/local/google/home/codyfincher/Code/database-tools/oracle-database-assessment/src/server/dbma/database.py\u001b\\\u001b[2mdatabase.py\u001b[0m\u001b]8;;\u001b\\\u001b[2m:\u001b[0m\u001b]8;id=257251;file:///usr/local/google/home/codyfincher/Code/database-tools/oracle-database-assessment/src/server/dbma/database.py#153\u001b\\\u001b[2m153\u001b[0m\u001b]8;;\u001b\\\n"
      ]
     },
     "metadata": {},
     "output_type": "display_data"
    },
    {
     "data": {
      "text/html": [
       "<pre style=\"white-space:pre;overflow-x:auto;line-height:normal;font-family:Menlo,'DejaVu Sans Mono',consolas,'Courier New',monospace\"><span style=\"color: #7fbfbf; text-decoration-color: #7fbfbf\">[10/17/22 16:51:17] </span><span style=\"color: #000080; text-decoration-color: #000080\">INFO    </span> <span style=\"color: #808000; text-decoration-color: #808000\">...</span> db_links  <span style=\"color: #008000; text-decoration-color: #008000; font-weight: bold\">SUCCESS</span> <span style=\"font-weight: bold\">[</span><span style=\"color: #008080; text-decoration-color: #008080; font-weight: bold\">3</span> <span style=\"color: #800080; text-decoration-color: #800080; font-weight: bold\">rows</span><span style=\"font-weight: bold\">(</span>s<span style=\"font-weight: bold\">)]</span>                                      <a href=\"file:///usr/local/google/home/codyfincher/Code/database-tools/oracle-database-assessment/src/server/dbma/database.py\" target=\"_blank\"><span style=\"color: #7f7f7f; text-decoration-color: #7f7f7f\">database.py</span></a><span style=\"color: #7f7f7f; text-decoration-color: #7f7f7f\">:</span><a href=\"file:///usr/local/google/home/codyfincher/Code/database-tools/oracle-database-assessment/src/server/dbma/database.py#160\" target=\"_blank\"><span style=\"color: #7f7f7f; text-decoration-color: #7f7f7f\">160</span></a>\n",
       "</pre>\n"
      ],
      "text/plain": [
       "\u001b[2;36m[10/17/22 16:51:17]\u001b[0m\u001b[2;36m \u001b[0m\u001b[34mINFO    \u001b[0m \u001b[33m...\u001b[0m db_links  \u001b[1;32mSUCCESS\u001b[0m \u001b[1m[\u001b[0m\u001b[1;36m3\u001b[0m \u001b[1;35mrows\u001b[0m\u001b[1m(\u001b[0ms\u001b[1m)\u001b[0m\u001b[1m]\u001b[0m                                      \u001b]8;id=753760;file:///usr/local/google/home/codyfincher/Code/database-tools/oracle-database-assessment/src/server/dbma/database.py\u001b\\\u001b[2mdatabase.py\u001b[0m\u001b]8;;\u001b\\\u001b[2m:\u001b[0m\u001b]8;id=577587;file:///usr/local/google/home/codyfincher/Code/database-tools/oracle-database-assessment/src/server/dbma/database.py#160\u001b\\\u001b[2m160\u001b[0m\u001b]8;;\u001b\\\n"
      ]
     },
     "metadata": {},
     "output_type": "display_data"
    },
    {
     "data": {
      "text/html": [
       "<pre style=\"white-space:pre;overflow-x:auto;line-height:normal;font-family:Menlo,'DejaVu Sans Mono',consolas,'Courier New',monospace\"><span style=\"color: #7fbfbf; text-decoration-color: #7fbfbf\">[10/17/22 16:51:17] </span><span style=\"color: #000080; text-decoration-color: #000080\">INFO    </span> delimiter is |                                                         <a href=\"file:///usr/local/google/home/codyfincher/Code/database-tools/oracle-database-assessment/src/server/dbma/database.py\" target=\"_blank\"><span style=\"color: #7f7f7f; text-decoration-color: #7f7f7f\">database.py</span></a><span style=\"color: #7f7f7f; text-decoration-color: #7f7f7f\">:</span><a href=\"file:///usr/local/google/home/codyfincher/Code/database-tools/oracle-database-assessment/src/server/dbma/database.py#153\" target=\"_blank\"><span style=\"color: #7f7f7f; text-decoration-color: #7f7f7f\">153</span></a>\n",
       "</pre>\n"
      ],
      "text/plain": [
       "\u001b[2;36m[10/17/22 16:51:17]\u001b[0m\u001b[2;36m \u001b[0m\u001b[34mINFO    \u001b[0m delimiter is |                                                         \u001b]8;id=318280;file:///usr/local/google/home/codyfincher/Code/database-tools/oracle-database-assessment/src/server/dbma/database.py\u001b\\\u001b[2mdatabase.py\u001b[0m\u001b]8;;\u001b\\\u001b[2m:\u001b[0m\u001b]8;id=654271;file:///usr/local/google/home/codyfincher/Code/database-tools/oracle-database-assessment/src/server/dbma/database.py#153\u001b\\\u001b[2m153\u001b[0m\u001b]8;;\u001b\\\n"
      ]
     },
     "metadata": {},
     "output_type": "display_data"
    },
    {
     "data": {
      "text/html": [
       "<pre style=\"white-space:pre;overflow-x:auto;line-height:normal;font-family:Menlo,'DejaVu Sans Mono',consolas,'Courier New',monospace\"><span style=\"color: #7fbfbf; text-decoration-color: #7fbfbf\">[10/17/22 16:51:17] </span><span style=\"color: #000080; text-decoration-color: #000080\">INFO    </span> <span style=\"color: #808000; text-decoration-color: #808000\">...</span> db_objects  <span style=\"color: #008000; text-decoration-color: #008000; font-weight: bold\">SUCCESS</span> <span style=\"font-weight: bold\">[</span><span style=\"color: #008080; text-decoration-color: #008080; font-weight: bold\">67</span> <span style=\"color: #800080; text-decoration-color: #800080; font-weight: bold\">rows</span><span style=\"font-weight: bold\">(</span>s<span style=\"font-weight: bold\">)]</span>                                   <a href=\"file:///usr/local/google/home/codyfincher/Code/database-tools/oracle-database-assessment/src/server/dbma/database.py\" target=\"_blank\"><span style=\"color: #7f7f7f; text-decoration-color: #7f7f7f\">database.py</span></a><span style=\"color: #7f7f7f; text-decoration-color: #7f7f7f\">:</span><a href=\"file:///usr/local/google/home/codyfincher/Code/database-tools/oracle-database-assessment/src/server/dbma/database.py#160\" target=\"_blank\"><span style=\"color: #7f7f7f; text-decoration-color: #7f7f7f\">160</span></a>\n",
       "</pre>\n"
      ],
      "text/plain": [
       "\u001b[2;36m[10/17/22 16:51:17]\u001b[0m\u001b[2;36m \u001b[0m\u001b[34mINFO    \u001b[0m \u001b[33m...\u001b[0m db_objects  \u001b[1;32mSUCCESS\u001b[0m \u001b[1m[\u001b[0m\u001b[1;36m67\u001b[0m \u001b[1;35mrows\u001b[0m\u001b[1m(\u001b[0ms\u001b[1m)\u001b[0m\u001b[1m]\u001b[0m                                   \u001b]8;id=62601;file:///usr/local/google/home/codyfincher/Code/database-tools/oracle-database-assessment/src/server/dbma/database.py\u001b\\\u001b[2mdatabase.py\u001b[0m\u001b]8;;\u001b\\\u001b[2m:\u001b[0m\u001b]8;id=255132;file:///usr/local/google/home/codyfincher/Code/database-tools/oracle-database-assessment/src/server/dbma/database.py#160\u001b\\\u001b[2m160\u001b[0m\u001b]8;;\u001b\\\n"
      ]
     },
     "metadata": {},
     "output_type": "display_data"
    },
    {
     "data": {
      "text/html": [
       "<pre style=\"white-space:pre;overflow-x:auto;line-height:normal;font-family:Menlo,'DejaVu Sans Mono',consolas,'Courier New',monospace\"><span style=\"color: #7fbfbf; text-decoration-color: #7fbfbf\">[10/17/22 16:51:17] </span><span style=\"color: #000080; text-decoration-color: #000080\">INFO    </span> delimiter is |                                                         <a href=\"file:///usr/local/google/home/codyfincher/Code/database-tools/oracle-database-assessment/src/server/dbma/database.py\" target=\"_blank\"><span style=\"color: #7f7f7f; text-decoration-color: #7f7f7f\">database.py</span></a><span style=\"color: #7f7f7f; text-decoration-color: #7f7f7f\">:</span><a href=\"file:///usr/local/google/home/codyfincher/Code/database-tools/oracle-database-assessment/src/server/dbma/database.py#153\" target=\"_blank\"><span style=\"color: #7f7f7f; text-decoration-color: #7f7f7f\">153</span></a>\n",
       "</pre>\n"
      ],
      "text/plain": [
       "\u001b[2;36m[10/17/22 16:51:17]\u001b[0m\u001b[2;36m \u001b[0m\u001b[34mINFO    \u001b[0m delimiter is |                                                         \u001b]8;id=513255;file:///usr/local/google/home/codyfincher/Code/database-tools/oracle-database-assessment/src/server/dbma/database.py\u001b\\\u001b[2mdatabase.py\u001b[0m\u001b]8;;\u001b\\\u001b[2m:\u001b[0m\u001b]8;id=313969;file:///usr/local/google/home/codyfincher/Code/database-tools/oracle-database-assessment/src/server/dbma/database.py#153\u001b\\\u001b[2m153\u001b[0m\u001b]8;;\u001b\\\n"
      ]
     },
     "metadata": {},
     "output_type": "display_data"
    },
    {
     "data": {
      "text/html": [
       "<pre style=\"white-space:pre;overflow-x:auto;line-height:normal;font-family:Menlo,'DejaVu Sans Mono',consolas,'Courier New',monospace\"><span style=\"color: #7fbfbf; text-decoration-color: #7fbfbf\">[10/17/22 16:51:17] </span><span style=\"color: #000080; text-decoration-color: #000080\">INFO    </span> <span style=\"color: #808000; text-decoration-color: #808000\">...</span> db_parameters  <span style=\"color: #008000; text-decoration-color: #008000; font-weight: bold\">SUCCESS</span> <span style=\"font-weight: bold\">[</span><span style=\"color: #008080; text-decoration-color: #008080; font-weight: bold\">454</span> <span style=\"color: #800080; text-decoration-color: #800080; font-weight: bold\">rows</span><span style=\"font-weight: bold\">(</span>s<span style=\"font-weight: bold\">)]</span>                               <a href=\"file:///usr/local/google/home/codyfincher/Code/database-tools/oracle-database-assessment/src/server/dbma/database.py\" target=\"_blank\"><span style=\"color: #7f7f7f; text-decoration-color: #7f7f7f\">database.py</span></a><span style=\"color: #7f7f7f; text-decoration-color: #7f7f7f\">:</span><a href=\"file:///usr/local/google/home/codyfincher/Code/database-tools/oracle-database-assessment/src/server/dbma/database.py#160\" target=\"_blank\"><span style=\"color: #7f7f7f; text-decoration-color: #7f7f7f\">160</span></a>\n",
       "</pre>\n"
      ],
      "text/plain": [
       "\u001b[2;36m[10/17/22 16:51:17]\u001b[0m\u001b[2;36m \u001b[0m\u001b[34mINFO    \u001b[0m \u001b[33m...\u001b[0m db_parameters  \u001b[1;32mSUCCESS\u001b[0m \u001b[1m[\u001b[0m\u001b[1;36m454\u001b[0m \u001b[1;35mrows\u001b[0m\u001b[1m(\u001b[0ms\u001b[1m)\u001b[0m\u001b[1m]\u001b[0m                               \u001b]8;id=430356;file:///usr/local/google/home/codyfincher/Code/database-tools/oracle-database-assessment/src/server/dbma/database.py\u001b\\\u001b[2mdatabase.py\u001b[0m\u001b]8;;\u001b\\\u001b[2m:\u001b[0m\u001b]8;id=750323;file:///usr/local/google/home/codyfincher/Code/database-tools/oracle-database-assessment/src/server/dbma/database.py#160\u001b\\\u001b[2m160\u001b[0m\u001b]8;;\u001b\\\n"
      ]
     },
     "metadata": {},
     "output_type": "display_data"
    },
    {
     "data": {
      "text/html": [
       "<pre style=\"white-space:pre;overflow-x:auto;line-height:normal;font-family:Menlo,'DejaVu Sans Mono',consolas,'Courier New',monospace\"><span style=\"color: #7fbfbf; text-decoration-color: #7fbfbf\">[10/17/22 16:51:17] </span><span style=\"color: #000080; text-decoration-color: #000080\">INFO    </span> delimiter is |                                                         <a href=\"file:///usr/local/google/home/codyfincher/Code/database-tools/oracle-database-assessment/src/server/dbma/database.py\" target=\"_blank\"><span style=\"color: #7f7f7f; text-decoration-color: #7f7f7f\">database.py</span></a><span style=\"color: #7f7f7f; text-decoration-color: #7f7f7f\">:</span><a href=\"file:///usr/local/google/home/codyfincher/Code/database-tools/oracle-database-assessment/src/server/dbma/database.py#153\" target=\"_blank\"><span style=\"color: #7f7f7f; text-decoration-color: #7f7f7f\">153</span></a>\n",
       "</pre>\n"
      ],
      "text/plain": [
       "\u001b[2;36m[10/17/22 16:51:17]\u001b[0m\u001b[2;36m \u001b[0m\u001b[34mINFO    \u001b[0m delimiter is |                                                         \u001b]8;id=739950;file:///usr/local/google/home/codyfincher/Code/database-tools/oracle-database-assessment/src/server/dbma/database.py\u001b\\\u001b[2mdatabase.py\u001b[0m\u001b]8;;\u001b\\\u001b[2m:\u001b[0m\u001b]8;id=577434;file:///usr/local/google/home/codyfincher/Code/database-tools/oracle-database-assessment/src/server/dbma/database.py#153\u001b\\\u001b[2m153\u001b[0m\u001b]8;;\u001b\\\n"
      ]
     },
     "metadata": {},
     "output_type": "display_data"
    },
    {
     "data": {
      "text/html": [
       "<pre style=\"white-space:pre;overflow-x:auto;line-height:normal;font-family:Menlo,'DejaVu Sans Mono',consolas,'Courier New',monospace\"><span style=\"color: #7fbfbf; text-decoration-color: #7fbfbf\">[10/17/22 16:51:17] </span><span style=\"color: #000080; text-decoration-color: #000080\">INFO    </span> <span style=\"color: #808000; text-decoration-color: #808000\">...</span> db_summary  <span style=\"color: #008000; text-decoration-color: #008000; font-weight: bold\">SUCCESS</span> <span style=\"font-weight: bold\">[</span><span style=\"color: #008080; text-decoration-color: #008080; font-weight: bold\">1</span> <span style=\"color: #800080; text-decoration-color: #800080; font-weight: bold\">rows</span><span style=\"font-weight: bold\">(</span>s<span style=\"font-weight: bold\">)]</span>                                    <a href=\"file:///usr/local/google/home/codyfincher/Code/database-tools/oracle-database-assessment/src/server/dbma/database.py\" target=\"_blank\"><span style=\"color: #7f7f7f; text-decoration-color: #7f7f7f\">database.py</span></a><span style=\"color: #7f7f7f; text-decoration-color: #7f7f7f\">:</span><a href=\"file:///usr/local/google/home/codyfincher/Code/database-tools/oracle-database-assessment/src/server/dbma/database.py#160\" target=\"_blank\"><span style=\"color: #7f7f7f; text-decoration-color: #7f7f7f\">160</span></a>\n",
       "</pre>\n"
      ],
      "text/plain": [
       "\u001b[2;36m[10/17/22 16:51:17]\u001b[0m\u001b[2;36m \u001b[0m\u001b[34mINFO    \u001b[0m \u001b[33m...\u001b[0m db_summary  \u001b[1;32mSUCCESS\u001b[0m \u001b[1m[\u001b[0m\u001b[1;36m1\u001b[0m \u001b[1;35mrows\u001b[0m\u001b[1m(\u001b[0ms\u001b[1m)\u001b[0m\u001b[1m]\u001b[0m                                    \u001b]8;id=882638;file:///usr/local/google/home/codyfincher/Code/database-tools/oracle-database-assessment/src/server/dbma/database.py\u001b\\\u001b[2mdatabase.py\u001b[0m\u001b]8;;\u001b\\\u001b[2m:\u001b[0m\u001b]8;id=733304;file:///usr/local/google/home/codyfincher/Code/database-tools/oracle-database-assessment/src/server/dbma/database.py#160\u001b\\\u001b[2m160\u001b[0m\u001b]8;;\u001b\\\n"
      ]
     },
     "metadata": {},
     "output_type": "display_data"
    },
    {
     "data": {
      "text/html": [
       "<pre style=\"white-space:pre;overflow-x:auto;line-height:normal;font-family:Menlo,'DejaVu Sans Mono',consolas,'Courier New',monospace\"><span style=\"color: #7fbfbf; text-decoration-color: #7fbfbf\">[10/17/22 16:51:17] </span><span style=\"color: #000080; text-decoration-color: #000080\">INFO    </span> delimiter is |                                                         <a href=\"file:///usr/local/google/home/codyfincher/Code/database-tools/oracle-database-assessment/src/server/dbma/database.py\" target=\"_blank\"><span style=\"color: #7f7f7f; text-decoration-color: #7f7f7f\">database.py</span></a><span style=\"color: #7f7f7f; text-decoration-color: #7f7f7f\">:</span><a href=\"file:///usr/local/google/home/codyfincher/Code/database-tools/oracle-database-assessment/src/server/dbma/database.py#153\" target=\"_blank\"><span style=\"color: #7f7f7f; text-decoration-color: #7f7f7f\">153</span></a>\n",
       "</pre>\n"
      ],
      "text/plain": [
       "\u001b[2;36m[10/17/22 16:51:17]\u001b[0m\u001b[2;36m \u001b[0m\u001b[34mINFO    \u001b[0m delimiter is |                                                         \u001b]8;id=971048;file:///usr/local/google/home/codyfincher/Code/database-tools/oracle-database-assessment/src/server/dbma/database.py\u001b\\\u001b[2mdatabase.py\u001b[0m\u001b]8;;\u001b\\\u001b[2m:\u001b[0m\u001b]8;id=231169;file:///usr/local/google/home/codyfincher/Code/database-tools/oracle-database-assessment/src/server/dbma/database.py#153\u001b\\\u001b[2m153\u001b[0m\u001b]8;;\u001b\\\n"
      ]
     },
     "metadata": {},
     "output_type": "display_data"
    },
    {
     "data": {
      "text/html": [
       "<pre style=\"white-space:pre;overflow-x:auto;line-height:normal;font-family:Menlo,'DejaVu Sans Mono',consolas,'Courier New',monospace\"><span style=\"color: #7fbfbf; text-decoration-color: #7fbfbf\">[10/17/22 16:51:17] </span><span style=\"color: #000080; text-decoration-color: #000080\">INFO    </span> <span style=\"color: #808000; text-decoration-color: #808000\">...</span> db_external_tables  <span style=\"color: #008000; text-decoration-color: #008000; font-weight: bold\">SUCCESS</span> <span style=\"font-weight: bold\">[</span><span style=\"color: #008080; text-decoration-color: #008080; font-weight: bold\">2</span> <span style=\"color: #800080; text-decoration-color: #800080; font-weight: bold\">rows</span><span style=\"font-weight: bold\">(</span>s<span style=\"font-weight: bold\">)]</span>                            <a href=\"file:///usr/local/google/home/codyfincher/Code/database-tools/oracle-database-assessment/src/server/dbma/database.py\" target=\"_blank\"><span style=\"color: #7f7f7f; text-decoration-color: #7f7f7f\">database.py</span></a><span style=\"color: #7f7f7f; text-decoration-color: #7f7f7f\">:</span><a href=\"file:///usr/local/google/home/codyfincher/Code/database-tools/oracle-database-assessment/src/server/dbma/database.py#160\" target=\"_blank\"><span style=\"color: #7f7f7f; text-decoration-color: #7f7f7f\">160</span></a>\n",
       "</pre>\n"
      ],
      "text/plain": [
       "\u001b[2;36m[10/17/22 16:51:17]\u001b[0m\u001b[2;36m \u001b[0m\u001b[34mINFO    \u001b[0m \u001b[33m...\u001b[0m db_external_tables  \u001b[1;32mSUCCESS\u001b[0m \u001b[1m[\u001b[0m\u001b[1;36m2\u001b[0m \u001b[1;35mrows\u001b[0m\u001b[1m(\u001b[0ms\u001b[1m)\u001b[0m\u001b[1m]\u001b[0m                            \u001b]8;id=886399;file:///usr/local/google/home/codyfincher/Code/database-tools/oracle-database-assessment/src/server/dbma/database.py\u001b\\\u001b[2mdatabase.py\u001b[0m\u001b]8;;\u001b\\\u001b[2m:\u001b[0m\u001b]8;id=812170;file:///usr/local/google/home/codyfincher/Code/database-tools/oracle-database-assessment/src/server/dbma/database.py#160\u001b\\\u001b[2m160\u001b[0m\u001b]8;;\u001b\\\n"
      ]
     },
     "metadata": {},
     "output_type": "display_data"
    },
    {
     "data": {
      "text/html": [
       "<pre style=\"white-space:pre;overflow-x:auto;line-height:normal;font-family:Menlo,'DejaVu Sans Mono',consolas,'Courier New',monospace\"><span style=\"color: #7fbfbf; text-decoration-color: #7fbfbf\">[10/17/22 16:51:17] </span><span style=\"color: #000080; text-decoration-color: #000080\">INFO    </span> delimiter is |                                                         <a href=\"file:///usr/local/google/home/codyfincher/Code/database-tools/oracle-database-assessment/src/server/dbma/database.py\" target=\"_blank\"><span style=\"color: #7f7f7f; text-decoration-color: #7f7f7f\">database.py</span></a><span style=\"color: #7f7f7f; text-decoration-color: #7f7f7f\">:</span><a href=\"file:///usr/local/google/home/codyfincher/Code/database-tools/oracle-database-assessment/src/server/dbma/database.py#153\" target=\"_blank\"><span style=\"color: #7f7f7f; text-decoration-color: #7f7f7f\">153</span></a>\n",
       "</pre>\n"
      ],
      "text/plain": [
       "\u001b[2;36m[10/17/22 16:51:17]\u001b[0m\u001b[2;36m \u001b[0m\u001b[34mINFO    \u001b[0m delimiter is |                                                         \u001b]8;id=61882;file:///usr/local/google/home/codyfincher/Code/database-tools/oracle-database-assessment/src/server/dbma/database.py\u001b\\\u001b[2mdatabase.py\u001b[0m\u001b]8;;\u001b\\\u001b[2m:\u001b[0m\u001b]8;id=903942;file:///usr/local/google/home/codyfincher/Code/database-tools/oracle-database-assessment/src/server/dbma/database.py#153\u001b\\\u001b[2m153\u001b[0m\u001b]8;;\u001b\\\n"
      ]
     },
     "metadata": {},
     "output_type": "display_data"
    },
    {
     "data": {
      "text/html": [
       "<pre style=\"white-space:pre;overflow-x:auto;line-height:normal;font-family:Menlo,'DejaVu Sans Mono',consolas,'Courier New',monospace\"><span style=\"color: #7fbfbf; text-decoration-color: #7fbfbf\">[10/17/22 16:51:17] </span><span style=\"color: #000080; text-decoration-color: #000080\">INFO    </span> <span style=\"color: #808000; text-decoration-color: #808000\">...</span> index_per_table  <span style=\"color: #008000; text-decoration-color: #008000; font-weight: bold\">SUCCESS</span> <span style=\"font-weight: bold\">[</span><span style=\"color: #008080; text-decoration-color: #008080; font-weight: bold\">8</span> <span style=\"color: #800080; text-decoration-color: #800080; font-weight: bold\">rows</span><span style=\"font-weight: bold\">(</span>s<span style=\"font-weight: bold\">)]</span>                               <a href=\"file:///usr/local/google/home/codyfincher/Code/database-tools/oracle-database-assessment/src/server/dbma/database.py\" target=\"_blank\"><span style=\"color: #7f7f7f; text-decoration-color: #7f7f7f\">database.py</span></a><span style=\"color: #7f7f7f; text-decoration-color: #7f7f7f\">:</span><a href=\"file:///usr/local/google/home/codyfincher/Code/database-tools/oracle-database-assessment/src/server/dbma/database.py#160\" target=\"_blank\"><span style=\"color: #7f7f7f; text-decoration-color: #7f7f7f\">160</span></a>\n",
       "</pre>\n"
      ],
      "text/plain": [
       "\u001b[2;36m[10/17/22 16:51:17]\u001b[0m\u001b[2;36m \u001b[0m\u001b[34mINFO    \u001b[0m \u001b[33m...\u001b[0m index_per_table  \u001b[1;32mSUCCESS\u001b[0m \u001b[1m[\u001b[0m\u001b[1;36m8\u001b[0m \u001b[1;35mrows\u001b[0m\u001b[1m(\u001b[0ms\u001b[1m)\u001b[0m\u001b[1m]\u001b[0m                               \u001b]8;id=690042;file:///usr/local/google/home/codyfincher/Code/database-tools/oracle-database-assessment/src/server/dbma/database.py\u001b\\\u001b[2mdatabase.py\u001b[0m\u001b]8;;\u001b\\\u001b[2m:\u001b[0m\u001b]8;id=430747;file:///usr/local/google/home/codyfincher/Code/database-tools/oracle-database-assessment/src/server/dbma/database.py#160\u001b\\\u001b[2m160\u001b[0m\u001b]8;;\u001b\\\n"
      ]
     },
     "metadata": {},
     "output_type": "display_data"
    },
    {
     "data": {
      "text/html": [
       "<pre style=\"white-space:pre;overflow-x:auto;line-height:normal;font-family:Menlo,'DejaVu Sans Mono',consolas,'Courier New',monospace\"><span style=\"color: #7fbfbf; text-decoration-color: #7fbfbf\">[10/17/22 16:51:17] </span><span style=\"color: #000080; text-decoration-color: #000080\">INFO    </span> delimiter is |                                                         <a href=\"file:///usr/local/google/home/codyfincher/Code/database-tools/oracle-database-assessment/src/server/dbma/database.py\" target=\"_blank\"><span style=\"color: #7f7f7f; text-decoration-color: #7f7f7f\">database.py</span></a><span style=\"color: #7f7f7f; text-decoration-color: #7f7f7f\">:</span><a href=\"file:///usr/local/google/home/codyfincher/Code/database-tools/oracle-database-assessment/src/server/dbma/database.py#153\" target=\"_blank\"><span style=\"color: #7f7f7f; text-decoration-color: #7f7f7f\">153</span></a>\n",
       "</pre>\n"
      ],
      "text/plain": [
       "\u001b[2;36m[10/17/22 16:51:17]\u001b[0m\u001b[2;36m \u001b[0m\u001b[34mINFO    \u001b[0m delimiter is |                                                         \u001b]8;id=448567;file:///usr/local/google/home/codyfincher/Code/database-tools/oracle-database-assessment/src/server/dbma/database.py\u001b\\\u001b[2mdatabase.py\u001b[0m\u001b]8;;\u001b\\\u001b[2m:\u001b[0m\u001b]8;id=383343;file:///usr/local/google/home/codyfincher/Code/database-tools/oracle-database-assessment/src/server/dbma/database.py#153\u001b\\\u001b[2m153\u001b[0m\u001b]8;;\u001b\\\n"
      ]
     },
     "metadata": {},
     "output_type": "display_data"
    },
    {
     "data": {
      "text/html": [
       "<pre style=\"white-space:pre;overflow-x:auto;line-height:normal;font-family:Menlo,'DejaVu Sans Mono',consolas,'Courier New',monospace\"><span style=\"color: #7fbfbf; text-decoration-color: #7fbfbf\">[10/17/22 16:51:17] </span><span style=\"color: #000080; text-decoration-color: #000080\">INFO    </span> <span style=\"color: #808000; text-decoration-color: #808000\">...</span> index_types  <span style=\"color: #008000; text-decoration-color: #008000; font-weight: bold\">SUCCESS</span> <span style=\"font-weight: bold\">[</span><span style=\"color: #008080; text-decoration-color: #008080; font-weight: bold\">9</span> <span style=\"color: #800080; text-decoration-color: #800080; font-weight: bold\">rows</span><span style=\"font-weight: bold\">(</span>s<span style=\"font-weight: bold\">)]</span>                                   <a href=\"file:///usr/local/google/home/codyfincher/Code/database-tools/oracle-database-assessment/src/server/dbma/database.py\" target=\"_blank\"><span style=\"color: #7f7f7f; text-decoration-color: #7f7f7f\">database.py</span></a><span style=\"color: #7f7f7f; text-decoration-color: #7f7f7f\">:</span><a href=\"file:///usr/local/google/home/codyfincher/Code/database-tools/oracle-database-assessment/src/server/dbma/database.py#160\" target=\"_blank\"><span style=\"color: #7f7f7f; text-decoration-color: #7f7f7f\">160</span></a>\n",
       "</pre>\n"
      ],
      "text/plain": [
       "\u001b[2;36m[10/17/22 16:51:17]\u001b[0m\u001b[2;36m \u001b[0m\u001b[34mINFO    \u001b[0m \u001b[33m...\u001b[0m index_types  \u001b[1;32mSUCCESS\u001b[0m \u001b[1m[\u001b[0m\u001b[1;36m9\u001b[0m \u001b[1;35mrows\u001b[0m\u001b[1m(\u001b[0ms\u001b[1m)\u001b[0m\u001b[1m]\u001b[0m                                   \u001b]8;id=690749;file:///usr/local/google/home/codyfincher/Code/database-tools/oracle-database-assessment/src/server/dbma/database.py\u001b\\\u001b[2mdatabase.py\u001b[0m\u001b]8;;\u001b\\\u001b[2m:\u001b[0m\u001b]8;id=283086;file:///usr/local/google/home/codyfincher/Code/database-tools/oracle-database-assessment/src/server/dbma/database.py#160\u001b\\\u001b[2m160\u001b[0m\u001b]8;;\u001b\\\n"
      ]
     },
     "metadata": {},
     "output_type": "display_data"
    },
    {
     "data": {
      "text/html": [
       "<pre style=\"white-space:pre;overflow-x:auto;line-height:normal;font-family:Menlo,'DejaVu Sans Mono',consolas,'Courier New',monospace\"><span style=\"color: #7fbfbf; text-decoration-color: #7fbfbf\">[10/17/22 16:51:17] </span><span style=\"color: #000080; text-decoration-color: #000080\">INFO    </span> delimiter is |                                                         <a href=\"file:///usr/local/google/home/codyfincher/Code/database-tools/oracle-database-assessment/src/server/dbma/database.py\" target=\"_blank\"><span style=\"color: #7f7f7f; text-decoration-color: #7f7f7f\">database.py</span></a><span style=\"color: #7f7f7f; text-decoration-color: #7f7f7f\">:</span><a href=\"file:///usr/local/google/home/codyfincher/Code/database-tools/oracle-database-assessment/src/server/dbma/database.py#153\" target=\"_blank\"><span style=\"color: #7f7f7f; text-decoration-color: #7f7f7f\">153</span></a>\n",
       "</pre>\n"
      ],
      "text/plain": [
       "\u001b[2;36m[10/17/22 16:51:17]\u001b[0m\u001b[2;36m \u001b[0m\u001b[34mINFO    \u001b[0m delimiter is |                                                         \u001b]8;id=466712;file:///usr/local/google/home/codyfincher/Code/database-tools/oracle-database-assessment/src/server/dbma/database.py\u001b\\\u001b[2mdatabase.py\u001b[0m\u001b]8;;\u001b\\\u001b[2m:\u001b[0m\u001b]8;id=137884;file:///usr/local/google/home/codyfincher/Code/database-tools/oracle-database-assessment/src/server/dbma/database.py#153\u001b\\\u001b[2m153\u001b[0m\u001b]8;;\u001b\\\n"
      ]
     },
     "metadata": {},
     "output_type": "display_data"
    },
    {
     "data": {
      "text/html": [
       "<pre style=\"white-space:pre;overflow-x:auto;line-height:normal;font-family:Menlo,'DejaVu Sans Mono',consolas,'Courier New',monospace\"><span style=\"color: #7fbfbf; text-decoration-color: #7fbfbf\">[10/17/22 16:51:18] </span><span style=\"color: #000080; text-decoration-color: #000080\">INFO    </span> <span style=\"color: #808000; text-decoration-color: #808000\">...</span> io_events  <span style=\"color: #008000; text-decoration-color: #008000; font-weight: bold\">SUCCESS</span> <span style=\"font-weight: bold\">[</span><span style=\"color: #008080; text-decoration-color: #008080; font-weight: bold\">770</span> <span style=\"color: #800080; text-decoration-color: #800080; font-weight: bold\">rows</span><span style=\"font-weight: bold\">(</span>s<span style=\"font-weight: bold\">)]</span>                                   <a href=\"file:///usr/local/google/home/codyfincher/Code/database-tools/oracle-database-assessment/src/server/dbma/database.py\" target=\"_blank\"><span style=\"color: #7f7f7f; text-decoration-color: #7f7f7f\">database.py</span></a><span style=\"color: #7f7f7f; text-decoration-color: #7f7f7f\">:</span><a href=\"file:///usr/local/google/home/codyfincher/Code/database-tools/oracle-database-assessment/src/server/dbma/database.py#160\" target=\"_blank\"><span style=\"color: #7f7f7f; text-decoration-color: #7f7f7f\">160</span></a>\n",
       "</pre>\n"
      ],
      "text/plain": [
       "\u001b[2;36m[10/17/22 16:51:18]\u001b[0m\u001b[2;36m \u001b[0m\u001b[34mINFO    \u001b[0m \u001b[33m...\u001b[0m io_events  \u001b[1;32mSUCCESS\u001b[0m \u001b[1m[\u001b[0m\u001b[1;36m770\u001b[0m \u001b[1;35mrows\u001b[0m\u001b[1m(\u001b[0ms\u001b[1m)\u001b[0m\u001b[1m]\u001b[0m                                   \u001b]8;id=983424;file:///usr/local/google/home/codyfincher/Code/database-tools/oracle-database-assessment/src/server/dbma/database.py\u001b\\\u001b[2mdatabase.py\u001b[0m\u001b]8;;\u001b\\\u001b[2m:\u001b[0m\u001b]8;id=185967;file:///usr/local/google/home/codyfincher/Code/database-tools/oracle-database-assessment/src/server/dbma/database.py#160\u001b\\\u001b[2m160\u001b[0m\u001b]8;;\u001b\\\n"
      ]
     },
     "metadata": {},
     "output_type": "display_data"
    },
    {
     "data": {
      "text/html": [
       "<pre style=\"white-space:pre;overflow-x:auto;line-height:normal;font-family:Menlo,'DejaVu Sans Mono',consolas,'Courier New',monospace\"><span style=\"color: #7fbfbf; text-decoration-color: #7fbfbf\">[10/17/22 16:51:18] </span><span style=\"color: #000080; text-decoration-color: #000080\">INFO    </span> delimiter is |                                                         <a href=\"file:///usr/local/google/home/codyfincher/Code/database-tools/oracle-database-assessment/src/server/dbma/database.py\" target=\"_blank\"><span style=\"color: #7f7f7f; text-decoration-color: #7f7f7f\">database.py</span></a><span style=\"color: #7f7f7f; text-decoration-color: #7f7f7f\">:</span><a href=\"file:///usr/local/google/home/codyfincher/Code/database-tools/oracle-database-assessment/src/server/dbma/database.py#153\" target=\"_blank\"><span style=\"color: #7f7f7f; text-decoration-color: #7f7f7f\">153</span></a>\n",
       "</pre>\n"
      ],
      "text/plain": [
       "\u001b[2;36m[10/17/22 16:51:18]\u001b[0m\u001b[2;36m \u001b[0m\u001b[34mINFO    \u001b[0m delimiter is |                                                         \u001b]8;id=742903;file:///usr/local/google/home/codyfincher/Code/database-tools/oracle-database-assessment/src/server/dbma/database.py\u001b\\\u001b[2mdatabase.py\u001b[0m\u001b]8;;\u001b\\\u001b[2m:\u001b[0m\u001b]8;id=901523;file:///usr/local/google/home/codyfincher/Code/database-tools/oracle-database-assessment/src/server/dbma/database.py#153\u001b\\\u001b[2m153\u001b[0m\u001b]8;;\u001b\\\n"
      ]
     },
     "metadata": {},
     "output_type": "display_data"
    },
    {
     "data": {
      "text/html": [
       "<pre style=\"white-space:pre;overflow-x:auto;line-height:normal;font-family:Menlo,'DejaVu Sans Mono',consolas,'Courier New',monospace\"><span style=\"color: #7fbfbf; text-decoration-color: #7fbfbf\">[10/17/22 16:51:18] </span><span style=\"color: #000080; text-decoration-color: #000080\">INFO    </span> <span style=\"color: #808000; text-decoration-color: #808000\">...</span> io_function  <span style=\"color: #008000; text-decoration-color: #008000; font-weight: bold\">SUCCESS</span> <span style=\"font-weight: bold\">[</span><span style=\"color: #008080; text-decoration-color: #008080; font-weight: bold\">360</span> <span style=\"color: #800080; text-decoration-color: #800080; font-weight: bold\">rows</span><span style=\"font-weight: bold\">(</span>s<span style=\"font-weight: bold\">)]</span>                                 <a href=\"file:///usr/local/google/home/codyfincher/Code/database-tools/oracle-database-assessment/src/server/dbma/database.py\" target=\"_blank\"><span style=\"color: #7f7f7f; text-decoration-color: #7f7f7f\">database.py</span></a><span style=\"color: #7f7f7f; text-decoration-color: #7f7f7f\">:</span><a href=\"file:///usr/local/google/home/codyfincher/Code/database-tools/oracle-database-assessment/src/server/dbma/database.py#160\" target=\"_blank\"><span style=\"color: #7f7f7f; text-decoration-color: #7f7f7f\">160</span></a>\n",
       "</pre>\n"
      ],
      "text/plain": [
       "\u001b[2;36m[10/17/22 16:51:18]\u001b[0m\u001b[2;36m \u001b[0m\u001b[34mINFO    \u001b[0m \u001b[33m...\u001b[0m io_function  \u001b[1;32mSUCCESS\u001b[0m \u001b[1m[\u001b[0m\u001b[1;36m360\u001b[0m \u001b[1;35mrows\u001b[0m\u001b[1m(\u001b[0ms\u001b[1m)\u001b[0m\u001b[1m]\u001b[0m                                 \u001b]8;id=800247;file:///usr/local/google/home/codyfincher/Code/database-tools/oracle-database-assessment/src/server/dbma/database.py\u001b\\\u001b[2mdatabase.py\u001b[0m\u001b]8;;\u001b\\\u001b[2m:\u001b[0m\u001b]8;id=246889;file:///usr/local/google/home/codyfincher/Code/database-tools/oracle-database-assessment/src/server/dbma/database.py#160\u001b\\\u001b[2m160\u001b[0m\u001b]8;;\u001b\\\n"
      ]
     },
     "metadata": {},
     "output_type": "display_data"
    },
    {
     "data": {
      "text/html": [
       "<pre style=\"white-space:pre;overflow-x:auto;line-height:normal;font-family:Menlo,'DejaVu Sans Mono',consolas,'Courier New',monospace\"><span style=\"color: #7fbfbf; text-decoration-color: #7fbfbf\">[10/17/22 16:51:18] </span><span style=\"color: #000080; text-decoration-color: #000080\">INFO    </span> delimiter is |                                                         <a href=\"file:///usr/local/google/home/codyfincher/Code/database-tools/oracle-database-assessment/src/server/dbma/database.py\" target=\"_blank\"><span style=\"color: #7f7f7f; text-decoration-color: #7f7f7f\">database.py</span></a><span style=\"color: #7f7f7f; text-decoration-color: #7f7f7f\">:</span><a href=\"file:///usr/local/google/home/codyfincher/Code/database-tools/oracle-database-assessment/src/server/dbma/database.py#153\" target=\"_blank\"><span style=\"color: #7f7f7f; text-decoration-color: #7f7f7f\">153</span></a>\n",
       "</pre>\n"
      ],
      "text/plain": [
       "\u001b[2;36m[10/17/22 16:51:18]\u001b[0m\u001b[2;36m \u001b[0m\u001b[34mINFO    \u001b[0m delimiter is |                                                         \u001b]8;id=549684;file:///usr/local/google/home/codyfincher/Code/database-tools/oracle-database-assessment/src/server/dbma/database.py\u001b\\\u001b[2mdatabase.py\u001b[0m\u001b]8;;\u001b\\\u001b[2m:\u001b[0m\u001b]8;id=134526;file:///usr/local/google/home/codyfincher/Code/database-tools/oracle-database-assessment/src/server/dbma/database.py#153\u001b\\\u001b[2m153\u001b[0m\u001b]8;;\u001b\\\n"
      ]
     },
     "metadata": {},
     "output_type": "display_data"
    },
    {
     "data": {
      "text/html": [
       "<pre style=\"white-space:pre;overflow-x:auto;line-height:normal;font-family:Menlo,'DejaVu Sans Mono',consolas,'Courier New',monospace\"><span style=\"color: #7fbfbf; text-decoration-color: #7fbfbf\">[10/17/22 16:51:18] </span><span style=\"color: #000080; text-decoration-color: #000080\">INFO    </span> <span style=\"color: #808000; text-decoration-color: #808000\">...</span> pdbs_info  <span style=\"color: #7f7f7f; text-decoration-color: #7f7f7f; font-weight: bold\">SKIPPED</span>                                                 <a href=\"file:///usr/local/google/home/codyfincher/Code/database-tools/oracle-database-assessment/src/server/dbma/database.py\" target=\"_blank\"><span style=\"color: #7f7f7f; text-decoration-color: #7f7f7f\">database.py</span></a><span style=\"color: #7f7f7f; text-decoration-color: #7f7f7f\">:</span><a href=\"file:///usr/local/google/home/codyfincher/Code/database-tools/oracle-database-assessment/src/server/dbma/database.py#163\" target=\"_blank\"><span style=\"color: #7f7f7f; text-decoration-color: #7f7f7f\">163</span></a>\n",
       "</pre>\n"
      ],
      "text/plain": [
       "\u001b[2;36m[10/17/22 16:51:18]\u001b[0m\u001b[2;36m \u001b[0m\u001b[34mINFO    \u001b[0m \u001b[33m...\u001b[0m pdbs_info  \u001b[1;2mSKIPPED\u001b[0m                                                 \u001b]8;id=218233;file:///usr/local/google/home/codyfincher/Code/database-tools/oracle-database-assessment/src/server/dbma/database.py\u001b\\\u001b[2mdatabase.py\u001b[0m\u001b]8;;\u001b\\\u001b[2m:\u001b[0m\u001b]8;id=323740;file:///usr/local/google/home/codyfincher/Code/database-tools/oracle-database-assessment/src/server/dbma/database.py#163\u001b\\\u001b[2m163\u001b[0m\u001b]8;;\u001b\\\n"
      ]
     },
     "metadata": {},
     "output_type": "display_data"
    },
    {
     "data": {
      "text/html": [
       "<pre style=\"white-space:pre;overflow-x:auto;line-height:normal;font-family:Menlo,'DejaVu Sans Mono',consolas,'Courier New',monospace\"><span style=\"color: #7fbfbf; text-decoration-color: #7fbfbf\">[10/17/22 16:51:18] </span><span style=\"color: #000080; text-decoration-color: #000080\">INFO    </span> delimiter is |                                                         <a href=\"file:///usr/local/google/home/codyfincher/Code/database-tools/oracle-database-assessment/src/server/dbma/database.py\" target=\"_blank\"><span style=\"color: #7f7f7f; text-decoration-color: #7f7f7f\">database.py</span></a><span style=\"color: #7f7f7f; text-decoration-color: #7f7f7f\">:</span><a href=\"file:///usr/local/google/home/codyfincher/Code/database-tools/oracle-database-assessment/src/server/dbma/database.py#153\" target=\"_blank\"><span style=\"color: #7f7f7f; text-decoration-color: #7f7f7f\">153</span></a>\n",
       "</pre>\n"
      ],
      "text/plain": [
       "\u001b[2;36m[10/17/22 16:51:18]\u001b[0m\u001b[2;36m \u001b[0m\u001b[34mINFO    \u001b[0m delimiter is |                                                         \u001b]8;id=960324;file:///usr/local/google/home/codyfincher/Code/database-tools/oracle-database-assessment/src/server/dbma/database.py\u001b\\\u001b[2mdatabase.py\u001b[0m\u001b]8;;\u001b\\\u001b[2m:\u001b[0m\u001b]8;id=381634;file:///usr/local/google/home/codyfincher/Code/database-tools/oracle-database-assessment/src/server/dbma/database.py#153\u001b\\\u001b[2m153\u001b[0m\u001b]8;;\u001b\\\n"
      ]
     },
     "metadata": {},
     "output_type": "display_data"
    },
    {
     "data": {
      "text/html": [
       "<pre style=\"white-space:pre;overflow-x:auto;line-height:normal;font-family:Menlo,'DejaVu Sans Mono',consolas,'Courier New',monospace\"><span style=\"color: #7fbfbf; text-decoration-color: #7fbfbf\">[10/17/22 16:51:18] </span><span style=\"color: #000080; text-decoration-color: #000080\">INFO    </span> <span style=\"color: #808000; text-decoration-color: #808000\">...</span> pdbs_in_open_mode  <span style=\"color: #7f7f7f; text-decoration-color: #7f7f7f; font-weight: bold\">SKIPPED</span>                                         <a href=\"file:///usr/local/google/home/codyfincher/Code/database-tools/oracle-database-assessment/src/server/dbma/database.py\" target=\"_blank\"><span style=\"color: #7f7f7f; text-decoration-color: #7f7f7f\">database.py</span></a><span style=\"color: #7f7f7f; text-decoration-color: #7f7f7f\">:</span><a href=\"file:///usr/local/google/home/codyfincher/Code/database-tools/oracle-database-assessment/src/server/dbma/database.py#163\" target=\"_blank\"><span style=\"color: #7f7f7f; text-decoration-color: #7f7f7f\">163</span></a>\n",
       "</pre>\n"
      ],
      "text/plain": [
       "\u001b[2;36m[10/17/22 16:51:18]\u001b[0m\u001b[2;36m \u001b[0m\u001b[34mINFO    \u001b[0m \u001b[33m...\u001b[0m pdbs_in_open_mode  \u001b[1;2mSKIPPED\u001b[0m                                         \u001b]8;id=807293;file:///usr/local/google/home/codyfincher/Code/database-tools/oracle-database-assessment/src/server/dbma/database.py\u001b\\\u001b[2mdatabase.py\u001b[0m\u001b]8;;\u001b\\\u001b[2m:\u001b[0m\u001b]8;id=878875;file:///usr/local/google/home/codyfincher/Code/database-tools/oracle-database-assessment/src/server/dbma/database.py#163\u001b\\\u001b[2m163\u001b[0m\u001b]8;;\u001b\\\n"
      ]
     },
     "metadata": {},
     "output_type": "display_data"
    },
    {
     "data": {
      "text/html": [
       "<pre style=\"white-space:pre;overflow-x:auto;line-height:normal;font-family:Menlo,'DejaVu Sans Mono',consolas,'Courier New',monospace\"><span style=\"color: #7fbfbf; text-decoration-color: #7fbfbf\">[10/17/22 16:51:18] </span><span style=\"color: #000080; text-decoration-color: #000080\">INFO    </span> delimiter is |                                                         <a href=\"file:///usr/local/google/home/codyfincher/Code/database-tools/oracle-database-assessment/src/server/dbma/database.py\" target=\"_blank\"><span style=\"color: #7f7f7f; text-decoration-color: #7f7f7f\">database.py</span></a><span style=\"color: #7f7f7f; text-decoration-color: #7f7f7f\">:</span><a href=\"file:///usr/local/google/home/codyfincher/Code/database-tools/oracle-database-assessment/src/server/dbma/database.py#153\" target=\"_blank\"><span style=\"color: #7f7f7f; text-decoration-color: #7f7f7f\">153</span></a>\n",
       "</pre>\n"
      ],
      "text/plain": [
       "\u001b[2;36m[10/17/22 16:51:18]\u001b[0m\u001b[2;36m \u001b[0m\u001b[34mINFO    \u001b[0m delimiter is |                                                         \u001b]8;id=563578;file:///usr/local/google/home/codyfincher/Code/database-tools/oracle-database-assessment/src/server/dbma/database.py\u001b\\\u001b[2mdatabase.py\u001b[0m\u001b]8;;\u001b\\\u001b[2m:\u001b[0m\u001b]8;id=474190;file:///usr/local/google/home/codyfincher/Code/database-tools/oracle-database-assessment/src/server/dbma/database.py#153\u001b\\\u001b[2m153\u001b[0m\u001b]8;;\u001b\\\n"
      ]
     },
     "metadata": {},
     "output_type": "display_data"
    },
    {
     "data": {
      "text/html": [
       "<pre style=\"white-space:pre;overflow-x:auto;line-height:normal;font-family:Menlo,'DejaVu Sans Mono',consolas,'Courier New',monospace\"><span style=\"color: #7fbfbf; text-decoration-color: #7fbfbf\">[10/17/22 16:51:18] </span><span style=\"color: #000080; text-decoration-color: #000080\">INFO    </span> <span style=\"color: #808000; text-decoration-color: #808000\">...</span> db_source_code  <span style=\"color: #008000; text-decoration-color: #008000; font-weight: bold\">SUCCESS</span> <span style=\"font-weight: bold\">[</span><span style=\"color: #008080; text-decoration-color: #008080; font-weight: bold\">16</span> <span style=\"color: #800080; text-decoration-color: #800080; font-weight: bold\">rows</span><span style=\"font-weight: bold\">(</span>s<span style=\"font-weight: bold\">)]</span>                               <a href=\"file:///usr/local/google/home/codyfincher/Code/database-tools/oracle-database-assessment/src/server/dbma/database.py\" target=\"_blank\"><span style=\"color: #7f7f7f; text-decoration-color: #7f7f7f\">database.py</span></a><span style=\"color: #7f7f7f; text-decoration-color: #7f7f7f\">:</span><a href=\"file:///usr/local/google/home/codyfincher/Code/database-tools/oracle-database-assessment/src/server/dbma/database.py#160\" target=\"_blank\"><span style=\"color: #7f7f7f; text-decoration-color: #7f7f7f\">160</span></a>\n",
       "</pre>\n"
      ],
      "text/plain": [
       "\u001b[2;36m[10/17/22 16:51:18]\u001b[0m\u001b[2;36m \u001b[0m\u001b[34mINFO    \u001b[0m \u001b[33m...\u001b[0m db_source_code  \u001b[1;32mSUCCESS\u001b[0m \u001b[1m[\u001b[0m\u001b[1;36m16\u001b[0m \u001b[1;35mrows\u001b[0m\u001b[1m(\u001b[0ms\u001b[1m)\u001b[0m\u001b[1m]\u001b[0m                               \u001b]8;id=48432;file:///usr/local/google/home/codyfincher/Code/database-tools/oracle-database-assessment/src/server/dbma/database.py\u001b\\\u001b[2mdatabase.py\u001b[0m\u001b]8;;\u001b\\\u001b[2m:\u001b[0m\u001b]8;id=129838;file:///usr/local/google/home/codyfincher/Code/database-tools/oracle-database-assessment/src/server/dbma/database.py#160\u001b\\\u001b[2m160\u001b[0m\u001b]8;;\u001b\\\n"
      ]
     },
     "metadata": {},
     "output_type": "display_data"
    },
    {
     "data": {
      "text/html": [
       "<pre style=\"white-space:pre;overflow-x:auto;line-height:normal;font-family:Menlo,'DejaVu Sans Mono',consolas,'Courier New',monospace\"><span style=\"color: #7fbfbf; text-decoration-color: #7fbfbf\">[10/17/22 16:51:18] </span><span style=\"color: #000080; text-decoration-color: #000080\">INFO    </span> delimiter is |                                                         <a href=\"file:///usr/local/google/home/codyfincher/Code/database-tools/oracle-database-assessment/src/server/dbma/database.py\" target=\"_blank\"><span style=\"color: #7f7f7f; text-decoration-color: #7f7f7f\">database.py</span></a><span style=\"color: #7f7f7f; text-decoration-color: #7f7f7f\">:</span><a href=\"file:///usr/local/google/home/codyfincher/Code/database-tools/oracle-database-assessment/src/server/dbma/database.py#153\" target=\"_blank\"><span style=\"color: #7f7f7f; text-decoration-color: #7f7f7f\">153</span></a>\n",
       "</pre>\n"
      ],
      "text/plain": [
       "\u001b[2;36m[10/17/22 16:51:18]\u001b[0m\u001b[2;36m \u001b[0m\u001b[34mINFO    \u001b[0m delimiter is |                                                         \u001b]8;id=281469;file:///usr/local/google/home/codyfincher/Code/database-tools/oracle-database-assessment/src/server/dbma/database.py\u001b\\\u001b[2mdatabase.py\u001b[0m\u001b]8;;\u001b\\\u001b[2m:\u001b[0m\u001b]8;id=745025;file:///usr/local/google/home/codyfincher/Code/database-tools/oracle-database-assessment/src/server/dbma/database.py#153\u001b\\\u001b[2m153\u001b[0m\u001b]8;;\u001b\\\n"
      ]
     },
     "metadata": {},
     "output_type": "display_data"
    },
    {
     "data": {
      "text/html": [
       "<pre style=\"white-space:pre;overflow-x:auto;line-height:normal;font-family:Menlo,'DejaVu Sans Mono',consolas,'Courier New',monospace\"><span style=\"color: #7fbfbf; text-decoration-color: #7fbfbf\">[10/17/22 16:51:18] </span><span style=\"color: #000080; text-decoration-color: #000080\">INFO    </span> <span style=\"color: #808000; text-decoration-color: #808000\">...</span> db_source_connections  <span style=\"color: #008000; text-decoration-color: #008000; font-weight: bold\">SUCCESS</span> <span style=\"font-weight: bold\">[</span><span style=\"color: #008080; text-decoration-color: #008080; font-weight: bold\">1011</span> <span style=\"color: #800080; text-decoration-color: #800080; font-weight: bold\">rows</span><span style=\"font-weight: bold\">(</span>s<span style=\"font-weight: bold\">)]</span>                      <a href=\"file:///usr/local/google/home/codyfincher/Code/database-tools/oracle-database-assessment/src/server/dbma/database.py\" target=\"_blank\"><span style=\"color: #7f7f7f; text-decoration-color: #7f7f7f\">database.py</span></a><span style=\"color: #7f7f7f; text-decoration-color: #7f7f7f\">:</span><a href=\"file:///usr/local/google/home/codyfincher/Code/database-tools/oracle-database-assessment/src/server/dbma/database.py#160\" target=\"_blank\"><span style=\"color: #7f7f7f; text-decoration-color: #7f7f7f\">160</span></a>\n",
       "</pre>\n"
      ],
      "text/plain": [
       "\u001b[2;36m[10/17/22 16:51:18]\u001b[0m\u001b[2;36m \u001b[0m\u001b[34mINFO    \u001b[0m \u001b[33m...\u001b[0m db_source_connections  \u001b[1;32mSUCCESS\u001b[0m \u001b[1m[\u001b[0m\u001b[1;36m1011\u001b[0m \u001b[1;35mrows\u001b[0m\u001b[1m(\u001b[0ms\u001b[1m)\u001b[0m\u001b[1m]\u001b[0m                      \u001b]8;id=293402;file:///usr/local/google/home/codyfincher/Code/database-tools/oracle-database-assessment/src/server/dbma/database.py\u001b\\\u001b[2mdatabase.py\u001b[0m\u001b]8;;\u001b\\\u001b[2m:\u001b[0m\u001b]8;id=985004;file:///usr/local/google/home/codyfincher/Code/database-tools/oracle-database-assessment/src/server/dbma/database.py#160\u001b\\\u001b[2m160\u001b[0m\u001b]8;;\u001b\\\n"
      ]
     },
     "metadata": {},
     "output_type": "display_data"
    },
    {
     "data": {
      "text/html": [
       "<pre style=\"white-space:pre;overflow-x:auto;line-height:normal;font-family:Menlo,'DejaVu Sans Mono',consolas,'Courier New',monospace\"><span style=\"color: #7fbfbf; text-decoration-color: #7fbfbf\">[10/17/22 16:51:18] </span><span style=\"color: #000080; text-decoration-color: #000080\">INFO    </span> delimiter is |                                                         <a href=\"file:///usr/local/google/home/codyfincher/Code/database-tools/oracle-database-assessment/src/server/dbma/database.py\" target=\"_blank\"><span style=\"color: #7f7f7f; text-decoration-color: #7f7f7f\">database.py</span></a><span style=\"color: #7f7f7f; text-decoration-color: #7f7f7f\">:</span><a href=\"file:///usr/local/google/home/codyfincher/Code/database-tools/oracle-database-assessment/src/server/dbma/database.py#153\" target=\"_blank\"><span style=\"color: #7f7f7f; text-decoration-color: #7f7f7f\">153</span></a>\n",
       "</pre>\n"
      ],
      "text/plain": [
       "\u001b[2;36m[10/17/22 16:51:18]\u001b[0m\u001b[2;36m \u001b[0m\u001b[34mINFO    \u001b[0m delimiter is |                                                         \u001b]8;id=519634;file:///usr/local/google/home/codyfincher/Code/database-tools/oracle-database-assessment/src/server/dbma/database.py\u001b\\\u001b[2mdatabase.py\u001b[0m\u001b]8;;\u001b\\\u001b[2m:\u001b[0m\u001b]8;id=184771;file:///usr/local/google/home/codyfincher/Code/database-tools/oracle-database-assessment/src/server/dbma/database.py#153\u001b\\\u001b[2m153\u001b[0m\u001b]8;;\u001b\\\n"
      ]
     },
     "metadata": {},
     "output_type": "display_data"
    },
    {
     "data": {
      "text/html": [
       "<pre style=\"white-space:pre;overflow-x:auto;line-height:normal;font-family:Menlo,'DejaVu Sans Mono',consolas,'Courier New',monospace\"><span style=\"color: #7fbfbf; text-decoration-color: #7fbfbf\">[10/17/22 16:51:18] </span><span style=\"color: #000080; text-decoration-color: #000080\">INFO    </span> <span style=\"color: #808000; text-decoration-color: #808000\">...</span> db_sql_stats  <span style=\"color: #008000; text-decoration-color: #008000; font-weight: bold\">SUCCESS</span> <span style=\"font-weight: bold\">[</span><span style=\"color: #008080; text-decoration-color: #008080; font-weight: bold\">299</span> <span style=\"color: #800080; text-decoration-color: #800080; font-weight: bold\">rows</span><span style=\"font-weight: bold\">(</span>s<span style=\"font-weight: bold\">)]</span>                                <a href=\"file:///usr/local/google/home/codyfincher/Code/database-tools/oracle-database-assessment/src/server/dbma/database.py\" target=\"_blank\"><span style=\"color: #7f7f7f; text-decoration-color: #7f7f7f\">database.py</span></a><span style=\"color: #7f7f7f; text-decoration-color: #7f7f7f\">:</span><a href=\"file:///usr/local/google/home/codyfincher/Code/database-tools/oracle-database-assessment/src/server/dbma/database.py#160\" target=\"_blank\"><span style=\"color: #7f7f7f; text-decoration-color: #7f7f7f\">160</span></a>\n",
       "</pre>\n"
      ],
      "text/plain": [
       "\u001b[2;36m[10/17/22 16:51:18]\u001b[0m\u001b[2;36m \u001b[0m\u001b[34mINFO    \u001b[0m \u001b[33m...\u001b[0m db_sql_stats  \u001b[1;32mSUCCESS\u001b[0m \u001b[1m[\u001b[0m\u001b[1;36m299\u001b[0m \u001b[1;35mrows\u001b[0m\u001b[1m(\u001b[0ms\u001b[1m)\u001b[0m\u001b[1m]\u001b[0m                                \u001b]8;id=632652;file:///usr/local/google/home/codyfincher/Code/database-tools/oracle-database-assessment/src/server/dbma/database.py\u001b\\\u001b[2mdatabase.py\u001b[0m\u001b]8;;\u001b\\\u001b[2m:\u001b[0m\u001b]8;id=656338;file:///usr/local/google/home/codyfincher/Code/database-tools/oracle-database-assessment/src/server/dbma/database.py#160\u001b\\\u001b[2m160\u001b[0m\u001b]8;;\u001b\\\n"
      ]
     },
     "metadata": {},
     "output_type": "display_data"
    },
    {
     "data": {
      "text/html": [
       "<pre style=\"white-space:pre;overflow-x:auto;line-height:normal;font-family:Menlo,'DejaVu Sans Mono',consolas,'Courier New',monospace\"><span style=\"color: #7fbfbf; text-decoration-color: #7fbfbf\">[10/17/22 16:51:18] </span><span style=\"color: #000080; text-decoration-color: #000080\">INFO    </span> delimiter is |                                                         <a href=\"file:///usr/local/google/home/codyfincher/Code/database-tools/oracle-database-assessment/src/server/dbma/database.py\" target=\"_blank\"><span style=\"color: #7f7f7f; text-decoration-color: #7f7f7f\">database.py</span></a><span style=\"color: #7f7f7f; text-decoration-color: #7f7f7f\">:</span><a href=\"file:///usr/local/google/home/codyfincher/Code/database-tools/oracle-database-assessment/src/server/dbma/database.py#153\" target=\"_blank\"><span style=\"color: #7f7f7f; text-decoration-color: #7f7f7f\">153</span></a>\n",
       "</pre>\n"
      ],
      "text/plain": [
       "\u001b[2;36m[10/17/22 16:51:18]\u001b[0m\u001b[2;36m \u001b[0m\u001b[34mINFO    \u001b[0m delimiter is |                                                         \u001b]8;id=13383;file:///usr/local/google/home/codyfincher/Code/database-tools/oracle-database-assessment/src/server/dbma/database.py\u001b\\\u001b[2mdatabase.py\u001b[0m\u001b]8;;\u001b\\\u001b[2m:\u001b[0m\u001b]8;id=65642;file:///usr/local/google/home/codyfincher/Code/database-tools/oracle-database-assessment/src/server/dbma/database.py#153\u001b\\\u001b[2m153\u001b[0m\u001b]8;;\u001b\\\n"
      ]
     },
     "metadata": {},
     "output_type": "display_data"
    },
    {
     "data": {
      "text/html": [
       "<pre style=\"white-space:pre;overflow-x:auto;line-height:normal;font-family:Menlo,'DejaVu Sans Mono',consolas,'Courier New',monospace\"><span style=\"color: #7fbfbf; text-decoration-color: #7fbfbf\">[10/17/22 16:51:18] </span><span style=\"color: #000080; text-decoration-color: #000080\">INFO    </span> <span style=\"color: #808000; text-decoration-color: #808000\">...</span> db_constraint_summary  <span style=\"color: #008000; text-decoration-color: #008000; font-weight: bold\">SUCCESS</span> <span style=\"font-weight: bold\">[</span><span style=\"color: #008080; text-decoration-color: #008080; font-weight: bold\">20</span> <span style=\"color: #800080; text-decoration-color: #800080; font-weight: bold\">rows</span><span style=\"font-weight: bold\">(</span>s<span style=\"font-weight: bold\">)]</span>                        <a href=\"file:///usr/local/google/home/codyfincher/Code/database-tools/oracle-database-assessment/src/server/dbma/database.py\" target=\"_blank\"><span style=\"color: #7f7f7f; text-decoration-color: #7f7f7f\">database.py</span></a><span style=\"color: #7f7f7f; text-decoration-color: #7f7f7f\">:</span><a href=\"file:///usr/local/google/home/codyfincher/Code/database-tools/oracle-database-assessment/src/server/dbma/database.py#160\" target=\"_blank\"><span style=\"color: #7f7f7f; text-decoration-color: #7f7f7f\">160</span></a>\n",
       "</pre>\n"
      ],
      "text/plain": [
       "\u001b[2;36m[10/17/22 16:51:18]\u001b[0m\u001b[2;36m \u001b[0m\u001b[34mINFO    \u001b[0m \u001b[33m...\u001b[0m db_constraint_summary  \u001b[1;32mSUCCESS\u001b[0m \u001b[1m[\u001b[0m\u001b[1;36m20\u001b[0m \u001b[1;35mrows\u001b[0m\u001b[1m(\u001b[0ms\u001b[1m)\u001b[0m\u001b[1m]\u001b[0m                        \u001b]8;id=590327;file:///usr/local/google/home/codyfincher/Code/database-tools/oracle-database-assessment/src/server/dbma/database.py\u001b\\\u001b[2mdatabase.py\u001b[0m\u001b]8;;\u001b\\\u001b[2m:\u001b[0m\u001b]8;id=633583;file:///usr/local/google/home/codyfincher/Code/database-tools/oracle-database-assessment/src/server/dbma/database.py#160\u001b\\\u001b[2m160\u001b[0m\u001b]8;;\u001b\\\n"
      ]
     },
     "metadata": {},
     "output_type": "display_data"
    },
    {
     "data": {
      "text/html": [
       "<pre style=\"white-space:pre;overflow-x:auto;line-height:normal;font-family:Menlo,'DejaVu Sans Mono',consolas,'Courier New',monospace\"><span style=\"color: #7fbfbf; text-decoration-color: #7fbfbf\">[10/17/22 16:51:18] </span><span style=\"color: #000080; text-decoration-color: #000080\">INFO    </span> delimiter is |                                                         <a href=\"file:///usr/local/google/home/codyfincher/Code/database-tools/oracle-database-assessment/src/server/dbma/database.py\" target=\"_blank\"><span style=\"color: #7f7f7f; text-decoration-color: #7f7f7f\">database.py</span></a><span style=\"color: #7f7f7f; text-decoration-color: #7f7f7f\">:</span><a href=\"file:///usr/local/google/home/codyfincher/Code/database-tools/oracle-database-assessment/src/server/dbma/database.py#153\" target=\"_blank\"><span style=\"color: #7f7f7f; text-decoration-color: #7f7f7f\">153</span></a>\n",
       "</pre>\n"
      ],
      "text/plain": [
       "\u001b[2;36m[10/17/22 16:51:18]\u001b[0m\u001b[2;36m \u001b[0m\u001b[34mINFO    \u001b[0m delimiter is |                                                         \u001b]8;id=982519;file:///usr/local/google/home/codyfincher/Code/database-tools/oracle-database-assessment/src/server/dbma/database.py\u001b\\\u001b[2mdatabase.py\u001b[0m\u001b]8;;\u001b\\\u001b[2m:\u001b[0m\u001b]8;id=755818;file:///usr/local/google/home/codyfincher/Code/database-tools/oracle-database-assessment/src/server/dbma/database.py#153\u001b\\\u001b[2m153\u001b[0m\u001b]8;;\u001b\\\n"
      ]
     },
     "metadata": {},
     "output_type": "display_data"
    },
    {
     "data": {
      "text/html": [
       "<pre style=\"white-space:pre;overflow-x:auto;line-height:normal;font-family:Menlo,'DejaVu Sans Mono',consolas,'Courier New',monospace\"><span style=\"color: #7fbfbf; text-decoration-color: #7fbfbf\">[10/17/22 16:51:18] </span><span style=\"color: #000080; text-decoration-color: #000080\">INFO    </span> <span style=\"color: #808000; text-decoration-color: #808000\">...</span> db_used_space_details  <span style=\"color: #008000; text-decoration-color: #008000; font-weight: bold\">SUCCESS</span> <span style=\"font-weight: bold\">[</span><span style=\"color: #008080; text-decoration-color: #008080; font-weight: bold\">20</span> <span style=\"color: #800080; text-decoration-color: #800080; font-weight: bold\">rows</span><span style=\"font-weight: bold\">(</span>s<span style=\"font-weight: bold\">)]</span>                        <a href=\"file:///usr/local/google/home/codyfincher/Code/database-tools/oracle-database-assessment/src/server/dbma/database.py\" target=\"_blank\"><span style=\"color: #7f7f7f; text-decoration-color: #7f7f7f\">database.py</span></a><span style=\"color: #7f7f7f; text-decoration-color: #7f7f7f\">:</span><a href=\"file:///usr/local/google/home/codyfincher/Code/database-tools/oracle-database-assessment/src/server/dbma/database.py#160\" target=\"_blank\"><span style=\"color: #7f7f7f; text-decoration-color: #7f7f7f\">160</span></a>\n",
       "</pre>\n"
      ],
      "text/plain": [
       "\u001b[2;36m[10/17/22 16:51:18]\u001b[0m\u001b[2;36m \u001b[0m\u001b[34mINFO    \u001b[0m \u001b[33m...\u001b[0m db_used_space_details  \u001b[1;32mSUCCESS\u001b[0m \u001b[1m[\u001b[0m\u001b[1;36m20\u001b[0m \u001b[1;35mrows\u001b[0m\u001b[1m(\u001b[0ms\u001b[1m)\u001b[0m\u001b[1m]\u001b[0m                        \u001b]8;id=874773;file:///usr/local/google/home/codyfincher/Code/database-tools/oracle-database-assessment/src/server/dbma/database.py\u001b\\\u001b[2mdatabase.py\u001b[0m\u001b]8;;\u001b\\\u001b[2m:\u001b[0m\u001b]8;id=870501;file:///usr/local/google/home/codyfincher/Code/database-tools/oracle-database-assessment/src/server/dbma/database.py#160\u001b\\\u001b[2m160\u001b[0m\u001b]8;;\u001b\\\n"
      ]
     },
     "metadata": {},
     "output_type": "display_data"
    },
    {
     "data": {
      "text/html": [
       "<pre style=\"white-space:pre;overflow-x:auto;line-height:normal;font-family:Menlo,'DejaVu Sans Mono',consolas,'Courier New',monospace\"><span style=\"color: #7fbfbf; text-decoration-color: #7fbfbf\">[10/17/22 16:51:18] </span><span style=\"color: #000080; text-decoration-color: #000080\">INFO    </span> delimiter is |                                                         <a href=\"file:///usr/local/google/home/codyfincher/Code/database-tools/oracle-database-assessment/src/server/dbma/database.py\" target=\"_blank\"><span style=\"color: #7f7f7f; text-decoration-color: #7f7f7f\">database.py</span></a><span style=\"color: #7f7f7f; text-decoration-color: #7f7f7f\">:</span><a href=\"file:///usr/local/google/home/codyfincher/Code/database-tools/oracle-database-assessment/src/server/dbma/database.py#153\" target=\"_blank\"><span style=\"color: #7f7f7f; text-decoration-color: #7f7f7f\">153</span></a>\n",
       "</pre>\n"
      ],
      "text/plain": [
       "\u001b[2;36m[10/17/22 16:51:18]\u001b[0m\u001b[2;36m \u001b[0m\u001b[34mINFO    \u001b[0m delimiter is |                                                         \u001b]8;id=561071;file:///usr/local/google/home/codyfincher/Code/database-tools/oracle-database-assessment/src/server/dbma/database.py\u001b\\\u001b[2mdatabase.py\u001b[0m\u001b]8;;\u001b\\\u001b[2m:\u001b[0m\u001b]8;id=328855;file:///usr/local/google/home/codyfincher/Code/database-tools/oracle-database-assessment/src/server/dbma/database.py#153\u001b\\\u001b[2m153\u001b[0m\u001b]8;;\u001b\\\n"
      ]
     },
     "metadata": {},
     "output_type": "display_data"
    },
    {
     "data": {
      "text/html": [
       "<pre style=\"white-space:pre;overflow-x:auto;line-height:normal;font-family:Menlo,'DejaVu Sans Mono',consolas,'Courier New',monospace\"><span style=\"color: #7fbfbf; text-decoration-color: #7fbfbf\">[10/17/22 16:51:18] </span><span style=\"color: #000080; text-decoration-color: #000080\">INFO    </span> <span style=\"color: #808000; text-decoration-color: #808000\">...</span> db_user_tablespace_segments  <span style=\"color: #7f7f7f; text-decoration-color: #7f7f7f; font-weight: bold\">SKIPPED</span>                               <a href=\"file:///usr/local/google/home/codyfincher/Code/database-tools/oracle-database-assessment/src/server/dbma/database.py\" target=\"_blank\"><span style=\"color: #7f7f7f; text-decoration-color: #7f7f7f\">database.py</span></a><span style=\"color: #7f7f7f; text-decoration-color: #7f7f7f\">:</span><a href=\"file:///usr/local/google/home/codyfincher/Code/database-tools/oracle-database-assessment/src/server/dbma/database.py#163\" target=\"_blank\"><span style=\"color: #7f7f7f; text-decoration-color: #7f7f7f\">163</span></a>\n",
       "</pre>\n"
      ],
      "text/plain": [
       "\u001b[2;36m[10/17/22 16:51:18]\u001b[0m\u001b[2;36m \u001b[0m\u001b[34mINFO    \u001b[0m \u001b[33m...\u001b[0m db_user_tablespace_segments  \u001b[1;2mSKIPPED\u001b[0m                               \u001b]8;id=768976;file:///usr/local/google/home/codyfincher/Code/database-tools/oracle-database-assessment/src/server/dbma/database.py\u001b\\\u001b[2mdatabase.py\u001b[0m\u001b]8;;\u001b\\\u001b[2m:\u001b[0m\u001b]8;id=622216;file:///usr/local/google/home/codyfincher/Code/database-tools/oracle-database-assessment/src/server/dbma/database.py#163\u001b\\\u001b[2m163\u001b[0m\u001b]8;;\u001b\\\n"
      ]
     },
     "metadata": {},
     "output_type": "display_data"
    },
    {
     "data": {
      "text/html": [
       "<pre style=\"white-space:pre;overflow-x:auto;line-height:normal;font-family:Menlo,'DejaVu Sans Mono',consolas,'Courier New',monospace\"><span style=\"color: #7fbfbf; text-decoration-color: #7fbfbf\">[10/17/22 16:51:24] </span><span style=\"color: #000080; text-decoration-color: #000080\">INFO    </span> <span style=\"font-weight: bold\">[]</span>                                                                        <a href=\"file:///usr/local/google/home/codyfincher/Code/database-tools/oracle-database-assessment/src/server/dbma/transformer/engine.py\" target=\"_blank\"><span style=\"color: #7f7f7f; text-decoration-color: #7f7f7f\">engine.py</span></a><span style=\"color: #7f7f7f; text-decoration-color: #7f7f7f\">:</span><a href=\"file:///usr/local/google/home/codyfincher/Code/database-tools/oracle-database-assessment/src/server/dbma/transformer/engine.py#87\" target=\"_blank\"><span style=\"color: #7f7f7f; text-decoration-color: #7f7f7f\">87</span></a>\n",
       "</pre>\n"
      ],
      "text/plain": [
       "\u001b[2;36m[10/17/22 16:51:24]\u001b[0m\u001b[2;36m \u001b[0m\u001b[34mINFO    \u001b[0m \u001b[1m[\u001b[0m\u001b[1m]\u001b[0m                                                                        \u001b]8;id=545559;file:///usr/local/google/home/codyfincher/Code/database-tools/oracle-database-assessment/src/server/dbma/transformer/engine.py\u001b\\\u001b[2mengine.py\u001b[0m\u001b]8;;\u001b\\\u001b[2m:\u001b[0m\u001b]8;id=8976;file:///usr/local/google/home/codyfincher/Code/database-tools/oracle-database-assessment/src/server/dbma/transformer/engine.py#87\u001b\\\u001b[2m87\u001b[0m\u001b]8;;\u001b\\\n"
      ]
     },
     "metadata": {},
     "output_type": "display_data"
    },
    {
     "data": {
      "text/html": [
       "<pre style=\"white-space:pre;overflow-x:auto;line-height:normal;font-family:Menlo,'DejaVu Sans Mono',consolas,'Courier New',monospace\"><span style=\"color: #7fbfbf; text-decoration-color: #7fbfbf\">[10/17/22 16:51:24] </span><span style=\"color: #000080; text-decoration-color: #000080\">INFO    </span> delimiter is |                                                         <a href=\"file:///usr/local/google/home/codyfincher/Code/database-tools/oracle-database-assessment/src/server/dbma/database.py\" target=\"_blank\"><span style=\"color: #7f7f7f; text-decoration-color: #7f7f7f\">database.py</span></a><span style=\"color: #7f7f7f; text-decoration-color: #7f7f7f\">:</span><a href=\"file:///usr/local/google/home/codyfincher/Code/database-tools/oracle-database-assessment/src/server/dbma/database.py#153\" target=\"_blank\"><span style=\"color: #7f7f7f; text-decoration-color: #7f7f7f\">153</span></a>\n",
       "</pre>\n"
      ],
      "text/plain": [
       "\u001b[2;36m[10/17/22 16:51:24]\u001b[0m\u001b[2;36m \u001b[0m\u001b[34mINFO    \u001b[0m delimiter is |                                                         \u001b]8;id=578819;file:///usr/local/google/home/codyfincher/Code/database-tools/oracle-database-assessment/src/server/dbma/database.py\u001b\\\u001b[2mdatabase.py\u001b[0m\u001b]8;;\u001b\\\u001b[2m:\u001b[0m\u001b]8;id=308031;file:///usr/local/google/home/codyfincher/Code/database-tools/oracle-database-assessment/src/server/dbma/database.py#153\u001b\\\u001b[2m153\u001b[0m\u001b]8;;\u001b\\\n"
      ]
     },
     "metadata": {},
     "output_type": "display_data"
    },
    {
     "data": {
      "text/html": [
       "<pre style=\"white-space:pre;overflow-x:auto;line-height:normal;font-family:Menlo,'DejaVu Sans Mono',consolas,'Courier New',monospace\"><span style=\"color: #7fbfbf; text-decoration-color: #7fbfbf\">[10/17/22 16:51:24] </span><span style=\"color: #000080; text-decoration-color: #000080\">INFO    </span> <span style=\"color: #808000; text-decoration-color: #808000\">...</span> awr_hist_cmd_types  <span style=\"color: #008000; text-decoration-color: #008000; font-weight: bold\">SUCCESS</span> <span style=\"font-weight: bold\">[</span><span style=\"color: #008080; text-decoration-color: #008080; font-weight: bold\">234</span> <span style=\"color: #800080; text-decoration-color: #800080; font-weight: bold\">rows</span><span style=\"font-weight: bold\">(</span>s<span style=\"font-weight: bold\">)]</span>                          <a href=\"file:///usr/local/google/home/codyfincher/Code/database-tools/oracle-database-assessment/src/server/dbma/database.py\" target=\"_blank\"><span style=\"color: #7f7f7f; text-decoration-color: #7f7f7f\">database.py</span></a><span style=\"color: #7f7f7f; text-decoration-color: #7f7f7f\">:</span><a href=\"file:///usr/local/google/home/codyfincher/Code/database-tools/oracle-database-assessment/src/server/dbma/database.py#160\" target=\"_blank\"><span style=\"color: #7f7f7f; text-decoration-color: #7f7f7f\">160</span></a>\n",
       "</pre>\n"
      ],
      "text/plain": [
       "\u001b[2;36m[10/17/22 16:51:24]\u001b[0m\u001b[2;36m \u001b[0m\u001b[34mINFO    \u001b[0m \u001b[33m...\u001b[0m awr_hist_cmd_types  \u001b[1;32mSUCCESS\u001b[0m \u001b[1m[\u001b[0m\u001b[1;36m234\u001b[0m \u001b[1;35mrows\u001b[0m\u001b[1m(\u001b[0ms\u001b[1m)\u001b[0m\u001b[1m]\u001b[0m                          \u001b]8;id=760373;file:///usr/local/google/home/codyfincher/Code/database-tools/oracle-database-assessment/src/server/dbma/database.py\u001b\\\u001b[2mdatabase.py\u001b[0m\u001b]8;;\u001b\\\u001b[2m:\u001b[0m\u001b]8;id=454637;file:///usr/local/google/home/codyfincher/Code/database-tools/oracle-database-assessment/src/server/dbma/database.py#160\u001b\\\u001b[2m160\u001b[0m\u001b]8;;\u001b\\\n"
      ]
     },
     "metadata": {},
     "output_type": "display_data"
    },
    {
     "data": {
      "text/html": [
       "<pre style=\"white-space:pre;overflow-x:auto;line-height:normal;font-family:Menlo,'DejaVu Sans Mono',consolas,'Courier New',monospace\"><span style=\"color: #7fbfbf; text-decoration-color: #7fbfbf\">[10/17/22 16:51:24] </span><span style=\"color: #000080; text-decoration-color: #000080\">INFO    </span> delimiter is |                                                         <a href=\"file:///usr/local/google/home/codyfincher/Code/database-tools/oracle-database-assessment/src/server/dbma/database.py\" target=\"_blank\"><span style=\"color: #7f7f7f; text-decoration-color: #7f7f7f\">database.py</span></a><span style=\"color: #7f7f7f; text-decoration-color: #7f7f7f\">:</span><a href=\"file:///usr/local/google/home/codyfincher/Code/database-tools/oracle-database-assessment/src/server/dbma/database.py#153\" target=\"_blank\"><span style=\"color: #7f7f7f; text-decoration-color: #7f7f7f\">153</span></a>\n",
       "</pre>\n"
      ],
      "text/plain": [
       "\u001b[2;36m[10/17/22 16:51:24]\u001b[0m\u001b[2;36m \u001b[0m\u001b[34mINFO    \u001b[0m delimiter is |                                                         \u001b]8;id=169063;file:///usr/local/google/home/codyfincher/Code/database-tools/oracle-database-assessment/src/server/dbma/database.py\u001b\\\u001b[2mdatabase.py\u001b[0m\u001b]8;;\u001b\\\u001b[2m:\u001b[0m\u001b]8;id=193987;file:///usr/local/google/home/codyfincher/Code/database-tools/oracle-database-assessment/src/server/dbma/database.py#153\u001b\\\u001b[2m153\u001b[0m\u001b]8;;\u001b\\\n"
      ]
     },
     "metadata": {},
     "output_type": "display_data"
    },
    {
     "data": {
      "text/html": [
       "<pre style=\"white-space:pre;overflow-x:auto;line-height:normal;font-family:Menlo,'DejaVu Sans Mono',consolas,'Courier New',monospace\"><span style=\"color: #7fbfbf; text-decoration-color: #7fbfbf\">[10/17/22 16:51:24] </span><span style=\"color: #000080; text-decoration-color: #000080\">INFO    </span> <span style=\"color: #808000; text-decoration-color: #808000\">...</span> awr_hist_os_stat  <span style=\"color: #008000; text-decoration-color: #008000; font-weight: bold\">SUCCESS</span> <span style=\"font-weight: bold\">[</span><span style=\"color: #008080; text-decoration-color: #008080; font-weight: bold\">600</span> <span style=\"color: #800080; text-decoration-color: #800080; font-weight: bold\">rows</span><span style=\"font-weight: bold\">(</span>s<span style=\"font-weight: bold\">)]</span>                            <a href=\"file:///usr/local/google/home/codyfincher/Code/database-tools/oracle-database-assessment/src/server/dbma/database.py\" target=\"_blank\"><span style=\"color: #7f7f7f; text-decoration-color: #7f7f7f\">database.py</span></a><span style=\"color: #7f7f7f; text-decoration-color: #7f7f7f\">:</span><a href=\"file:///usr/local/google/home/codyfincher/Code/database-tools/oracle-database-assessment/src/server/dbma/database.py#160\" target=\"_blank\"><span style=\"color: #7f7f7f; text-decoration-color: #7f7f7f\">160</span></a>\n",
       "</pre>\n"
      ],
      "text/plain": [
       "\u001b[2;36m[10/17/22 16:51:24]\u001b[0m\u001b[2;36m \u001b[0m\u001b[34mINFO    \u001b[0m \u001b[33m...\u001b[0m awr_hist_os_stat  \u001b[1;32mSUCCESS\u001b[0m \u001b[1m[\u001b[0m\u001b[1;36m600\u001b[0m \u001b[1;35mrows\u001b[0m\u001b[1m(\u001b[0ms\u001b[1m)\u001b[0m\u001b[1m]\u001b[0m                            \u001b]8;id=432558;file:///usr/local/google/home/codyfincher/Code/database-tools/oracle-database-assessment/src/server/dbma/database.py\u001b\\\u001b[2mdatabase.py\u001b[0m\u001b]8;;\u001b\\\u001b[2m:\u001b[0m\u001b]8;id=989222;file:///usr/local/google/home/codyfincher/Code/database-tools/oracle-database-assessment/src/server/dbma/database.py#160\u001b\\\u001b[2m160\u001b[0m\u001b]8;;\u001b\\\n"
      ]
     },
     "metadata": {},
     "output_type": "display_data"
    },
    {
     "data": {
      "text/html": [
       "<pre style=\"white-space:pre;overflow-x:auto;line-height:normal;font-family:Menlo,'DejaVu Sans Mono',consolas,'Courier New',monospace\"><span style=\"color: #7fbfbf; text-decoration-color: #7fbfbf\">[10/17/22 16:51:24] </span><span style=\"color: #000080; text-decoration-color: #000080\">INFO    </span> delimiter is |                                                         <a href=\"file:///usr/local/google/home/codyfincher/Code/database-tools/oracle-database-assessment/src/server/dbma/database.py\" target=\"_blank\"><span style=\"color: #7f7f7f; text-decoration-color: #7f7f7f\">database.py</span></a><span style=\"color: #7f7f7f; text-decoration-color: #7f7f7f\">:</span><a href=\"file:///usr/local/google/home/codyfincher/Code/database-tools/oracle-database-assessment/src/server/dbma/database.py#153\" target=\"_blank\"><span style=\"color: #7f7f7f; text-decoration-color: #7f7f7f\">153</span></a>\n",
       "</pre>\n"
      ],
      "text/plain": [
       "\u001b[2;36m[10/17/22 16:51:24]\u001b[0m\u001b[2;36m \u001b[0m\u001b[34mINFO    \u001b[0m delimiter is |                                                         \u001b]8;id=546557;file:///usr/local/google/home/codyfincher/Code/database-tools/oracle-database-assessment/src/server/dbma/database.py\u001b\\\u001b[2mdatabase.py\u001b[0m\u001b]8;;\u001b\\\u001b[2m:\u001b[0m\u001b]8;id=281269;file:///usr/local/google/home/codyfincher/Code/database-tools/oracle-database-assessment/src/server/dbma/database.py#153\u001b\\\u001b[2m153\u001b[0m\u001b]8;;\u001b\\\n"
      ]
     },
     "metadata": {},
     "output_type": "display_data"
    },
    {
     "data": {
      "text/html": [
       "<pre style=\"white-space:pre;overflow-x:auto;line-height:normal;font-family:Menlo,'DejaVu Sans Mono',consolas,'Courier New',monospace\"><span style=\"color: #7fbfbf; text-decoration-color: #7fbfbf\">[10/17/22 16:51:24] </span><span style=\"color: #000080; text-decoration-color: #000080\">INFO    </span> <span style=\"color: #808000; text-decoration-color: #808000\">...</span> awr_hist_sys_metric_hist  <span style=\"color: #008000; text-decoration-color: #008000; font-weight: bold\">SUCCESS</span> <span style=\"font-weight: bold\">[</span><span style=\"color: #008080; text-decoration-color: #008080; font-weight: bold\">552</span> <span style=\"color: #800080; text-decoration-color: #800080; font-weight: bold\">rows</span><span style=\"font-weight: bold\">(</span>s<span style=\"font-weight: bold\">)]</span>                    <a href=\"file:///usr/local/google/home/codyfincher/Code/database-tools/oracle-database-assessment/src/server/dbma/database.py\" target=\"_blank\"><span style=\"color: #7f7f7f; text-decoration-color: #7f7f7f\">database.py</span></a><span style=\"color: #7f7f7f; text-decoration-color: #7f7f7f\">:</span><a href=\"file:///usr/local/google/home/codyfincher/Code/database-tools/oracle-database-assessment/src/server/dbma/database.py#160\" target=\"_blank\"><span style=\"color: #7f7f7f; text-decoration-color: #7f7f7f\">160</span></a>\n",
       "</pre>\n"
      ],
      "text/plain": [
       "\u001b[2;36m[10/17/22 16:51:24]\u001b[0m\u001b[2;36m \u001b[0m\u001b[34mINFO    \u001b[0m \u001b[33m...\u001b[0m awr_hist_sys_metric_hist  \u001b[1;32mSUCCESS\u001b[0m \u001b[1m[\u001b[0m\u001b[1;36m552\u001b[0m \u001b[1;35mrows\u001b[0m\u001b[1m(\u001b[0ms\u001b[1m)\u001b[0m\u001b[1m]\u001b[0m                    \u001b]8;id=136461;file:///usr/local/google/home/codyfincher/Code/database-tools/oracle-database-assessment/src/server/dbma/database.py\u001b\\\u001b[2mdatabase.py\u001b[0m\u001b]8;;\u001b\\\u001b[2m:\u001b[0m\u001b]8;id=140514;file:///usr/local/google/home/codyfincher/Code/database-tools/oracle-database-assessment/src/server/dbma/database.py#160\u001b\\\u001b[2m160\u001b[0m\u001b]8;;\u001b\\\n"
      ]
     },
     "metadata": {},
     "output_type": "display_data"
    },
    {
     "data": {
      "text/html": [
       "<pre style=\"white-space:pre;overflow-x:auto;line-height:normal;font-family:Menlo,'DejaVu Sans Mono',consolas,'Courier New',monospace\"><span style=\"color: #7fbfbf; text-decoration-color: #7fbfbf\">[10/17/22 16:51:24] </span><span style=\"color: #000080; text-decoration-color: #000080\">INFO    </span> delimiter is |                                                         <a href=\"file:///usr/local/google/home/codyfincher/Code/database-tools/oracle-database-assessment/src/server/dbma/database.py\" target=\"_blank\"><span style=\"color: #7f7f7f; text-decoration-color: #7f7f7f\">database.py</span></a><span style=\"color: #7f7f7f; text-decoration-color: #7f7f7f\">:</span><a href=\"file:///usr/local/google/home/codyfincher/Code/database-tools/oracle-database-assessment/src/server/dbma/database.py#153\" target=\"_blank\"><span style=\"color: #7f7f7f; text-decoration-color: #7f7f7f\">153</span></a>\n",
       "</pre>\n"
      ],
      "text/plain": [
       "\u001b[2;36m[10/17/22 16:51:24]\u001b[0m\u001b[2;36m \u001b[0m\u001b[34mINFO    \u001b[0m delimiter is |                                                         \u001b]8;id=304048;file:///usr/local/google/home/codyfincher/Code/database-tools/oracle-database-assessment/src/server/dbma/database.py\u001b\\\u001b[2mdatabase.py\u001b[0m\u001b]8;;\u001b\\\u001b[2m:\u001b[0m\u001b]8;id=93043;file:///usr/local/google/home/codyfincher/Code/database-tools/oracle-database-assessment/src/server/dbma/database.py#153\u001b\\\u001b[2m153\u001b[0m\u001b]8;;\u001b\\\n"
      ]
     },
     "metadata": {},
     "output_type": "display_data"
    },
    {
     "data": {
      "text/html": [
       "<pre style=\"white-space:pre;overflow-x:auto;line-height:normal;font-family:Menlo,'DejaVu Sans Mono',consolas,'Courier New',monospace\"><span style=\"color: #7fbfbf; text-decoration-color: #7fbfbf\">[10/17/22 16:51:24] </span><span style=\"color: #000080; text-decoration-color: #000080\">INFO    </span> <span style=\"color: #808000; text-decoration-color: #808000\">...</span> awr_hist_sys_metric_summary  <span style=\"color: #008000; text-decoration-color: #008000; font-weight: bold\">SUCCESS</span> <span style=\"font-weight: bold\">[</span><span style=\"color: #008080; text-decoration-color: #008080; font-weight: bold\">3864</span> <span style=\"color: #800080; text-decoration-color: #800080; font-weight: bold\">rows</span><span style=\"font-weight: bold\">(</span>s<span style=\"font-weight: bold\">)]</span>                <a href=\"file:///usr/local/google/home/codyfincher/Code/database-tools/oracle-database-assessment/src/server/dbma/database.py\" target=\"_blank\"><span style=\"color: #7f7f7f; text-decoration-color: #7f7f7f\">database.py</span></a><span style=\"color: #7f7f7f; text-decoration-color: #7f7f7f\">:</span><a href=\"file:///usr/local/google/home/codyfincher/Code/database-tools/oracle-database-assessment/src/server/dbma/database.py#160\" target=\"_blank\"><span style=\"color: #7f7f7f; text-decoration-color: #7f7f7f\">160</span></a>\n",
       "</pre>\n"
      ],
      "text/plain": [
       "\u001b[2;36m[10/17/22 16:51:24]\u001b[0m\u001b[2;36m \u001b[0m\u001b[34mINFO    \u001b[0m \u001b[33m...\u001b[0m awr_hist_sys_metric_summary  \u001b[1;32mSUCCESS\u001b[0m \u001b[1m[\u001b[0m\u001b[1;36m3864\u001b[0m \u001b[1;35mrows\u001b[0m\u001b[1m(\u001b[0ms\u001b[1m)\u001b[0m\u001b[1m]\u001b[0m                \u001b]8;id=393734;file:///usr/local/google/home/codyfincher/Code/database-tools/oracle-database-assessment/src/server/dbma/database.py\u001b\\\u001b[2mdatabase.py\u001b[0m\u001b]8;;\u001b\\\u001b[2m:\u001b[0m\u001b]8;id=227750;file:///usr/local/google/home/codyfincher/Code/database-tools/oracle-database-assessment/src/server/dbma/database.py#160\u001b\\\u001b[2m160\u001b[0m\u001b]8;;\u001b\\\n"
      ]
     },
     "metadata": {},
     "output_type": "display_data"
    },
    {
     "data": {
      "text/html": [
       "<pre style=\"white-space:pre;overflow-x:auto;line-height:normal;font-family:Menlo,'DejaVu Sans Mono',consolas,'Courier New',monospace\"><span style=\"color: #7fbfbf; text-decoration-color: #7fbfbf\">[10/17/22 16:51:24] </span><span style=\"color: #000080; text-decoration-color: #000080\">INFO    </span> delimiter is |                                                         <a href=\"file:///usr/local/google/home/codyfincher/Code/database-tools/oracle-database-assessment/src/server/dbma/database.py\" target=\"_blank\"><span style=\"color: #7f7f7f; text-decoration-color: #7f7f7f\">database.py</span></a><span style=\"color: #7f7f7f; text-decoration-color: #7f7f7f\">:</span><a href=\"file:///usr/local/google/home/codyfincher/Code/database-tools/oracle-database-assessment/src/server/dbma/database.py#153\" target=\"_blank\"><span style=\"color: #7f7f7f; text-decoration-color: #7f7f7f\">153</span></a>\n",
       "</pre>\n"
      ],
      "text/plain": [
       "\u001b[2;36m[10/17/22 16:51:24]\u001b[0m\u001b[2;36m \u001b[0m\u001b[34mINFO    \u001b[0m delimiter is |                                                         \u001b]8;id=890608;file:///usr/local/google/home/codyfincher/Code/database-tools/oracle-database-assessment/src/server/dbma/database.py\u001b\\\u001b[2mdatabase.py\u001b[0m\u001b]8;;\u001b\\\u001b[2m:\u001b[0m\u001b]8;id=77086;file:///usr/local/google/home/codyfincher/Code/database-tools/oracle-database-assessment/src/server/dbma/database.py#153\u001b\\\u001b[2m153\u001b[0m\u001b]8;;\u001b\\\n"
      ]
     },
     "metadata": {},
     "output_type": "display_data"
    },
    {
     "data": {
      "text/html": [
       "<pre style=\"white-space:pre;overflow-x:auto;line-height:normal;font-family:Menlo,'DejaVu Sans Mono',consolas,'Courier New',monospace\"><span style=\"color: #7fbfbf; text-decoration-color: #7fbfbf\">[10/17/22 16:51:24] </span><span style=\"color: #000080; text-decoration-color: #000080\">INFO    </span> <span style=\"color: #808000; text-decoration-color: #808000\">...</span> awr_snap_details  <span style=\"color: #008000; text-decoration-color: #008000; font-weight: bold\">SUCCESS</span> <span style=\"font-weight: bold\">[</span><span style=\"color: #008080; text-decoration-color: #008080; font-weight: bold\">24</span> <span style=\"color: #800080; text-decoration-color: #800080; font-weight: bold\">rows</span><span style=\"font-weight: bold\">(</span>s<span style=\"font-weight: bold\">)]</span>                             <a href=\"file:///usr/local/google/home/codyfincher/Code/database-tools/oracle-database-assessment/src/server/dbma/database.py\" target=\"_blank\"><span style=\"color: #7f7f7f; text-decoration-color: #7f7f7f\">database.py</span></a><span style=\"color: #7f7f7f; text-decoration-color: #7f7f7f\">:</span><a href=\"file:///usr/local/google/home/codyfincher/Code/database-tools/oracle-database-assessment/src/server/dbma/database.py#160\" target=\"_blank\"><span style=\"color: #7f7f7f; text-decoration-color: #7f7f7f\">160</span></a>\n",
       "</pre>\n"
      ],
      "text/plain": [
       "\u001b[2;36m[10/17/22 16:51:24]\u001b[0m\u001b[2;36m \u001b[0m\u001b[34mINFO    \u001b[0m \u001b[33m...\u001b[0m awr_snap_details  \u001b[1;32mSUCCESS\u001b[0m \u001b[1m[\u001b[0m\u001b[1;36m24\u001b[0m \u001b[1;35mrows\u001b[0m\u001b[1m(\u001b[0ms\u001b[1m)\u001b[0m\u001b[1m]\u001b[0m                             \u001b]8;id=603953;file:///usr/local/google/home/codyfincher/Code/database-tools/oracle-database-assessment/src/server/dbma/database.py\u001b\\\u001b[2mdatabase.py\u001b[0m\u001b]8;;\u001b\\\u001b[2m:\u001b[0m\u001b]8;id=165357;file:///usr/local/google/home/codyfincher/Code/database-tools/oracle-database-assessment/src/server/dbma/database.py#160\u001b\\\u001b[2m160\u001b[0m\u001b]8;;\u001b\\\n"
      ]
     },
     "metadata": {},
     "output_type": "display_data"
    },
    {
     "data": {
      "text/html": [
       "<pre style=\"white-space:pre;overflow-x:auto;line-height:normal;font-family:Menlo,'DejaVu Sans Mono',consolas,'Courier New',monospace\"><span style=\"color: #7fbfbf; text-decoration-color: #7fbfbf\">[10/17/22 16:51:24] </span><span style=\"color: #000080; text-decoration-color: #000080\">INFO    </span> delimiter is |                                                         <a href=\"file:///usr/local/google/home/codyfincher/Code/database-tools/oracle-database-assessment/src/server/dbma/database.py\" target=\"_blank\"><span style=\"color: #7f7f7f; text-decoration-color: #7f7f7f\">database.py</span></a><span style=\"color: #7f7f7f; text-decoration-color: #7f7f7f\">:</span><a href=\"file:///usr/local/google/home/codyfincher/Code/database-tools/oracle-database-assessment/src/server/dbma/database.py#153\" target=\"_blank\"><span style=\"color: #7f7f7f; text-decoration-color: #7f7f7f\">153</span></a>\n",
       "</pre>\n"
      ],
      "text/plain": [
       "\u001b[2;36m[10/17/22 16:51:24]\u001b[0m\u001b[2;36m \u001b[0m\u001b[34mINFO    \u001b[0m delimiter is |                                                         \u001b]8;id=83363;file:///usr/local/google/home/codyfincher/Code/database-tools/oracle-database-assessment/src/server/dbma/database.py\u001b\\\u001b[2mdatabase.py\u001b[0m\u001b]8;;\u001b\\\u001b[2m:\u001b[0m\u001b]8;id=323918;file:///usr/local/google/home/codyfincher/Code/database-tools/oracle-database-assessment/src/server/dbma/database.py#153\u001b\\\u001b[2m153\u001b[0m\u001b]8;;\u001b\\\n"
      ]
     },
     "metadata": {},
     "output_type": "display_data"
    },
    {
     "data": {
      "text/html": [
       "<pre style=\"white-space:pre;overflow-x:auto;line-height:normal;font-family:Menlo,'DejaVu Sans Mono',consolas,'Courier New',monospace\"><span style=\"color: #7fbfbf; text-decoration-color: #7fbfbf\">[10/17/22 16:51:24] </span><span style=\"color: #000080; text-decoration-color: #000080\">INFO    </span> <span style=\"color: #808000; text-decoration-color: #808000\">...</span> db_compression_by_type  <span style=\"color: #008000; text-decoration-color: #008000; font-weight: bold\">SUCCESS</span> <span style=\"font-weight: bold\">[</span><span style=\"color: #008080; text-decoration-color: #008080; font-weight: bold\">74</span> <span style=\"color: #800080; text-decoration-color: #800080; font-weight: bold\">rows</span><span style=\"font-weight: bold\">(</span>s<span style=\"font-weight: bold\">)]</span>                       <a href=\"file:///usr/local/google/home/codyfincher/Code/database-tools/oracle-database-assessment/src/server/dbma/database.py\" target=\"_blank\"><span style=\"color: #7f7f7f; text-decoration-color: #7f7f7f\">database.py</span></a><span style=\"color: #7f7f7f; text-decoration-color: #7f7f7f\">:</span><a href=\"file:///usr/local/google/home/codyfincher/Code/database-tools/oracle-database-assessment/src/server/dbma/database.py#160\" target=\"_blank\"><span style=\"color: #7f7f7f; text-decoration-color: #7f7f7f\">160</span></a>\n",
       "</pre>\n"
      ],
      "text/plain": [
       "\u001b[2;36m[10/17/22 16:51:24]\u001b[0m\u001b[2;36m \u001b[0m\u001b[34mINFO    \u001b[0m \u001b[33m...\u001b[0m db_compression_by_type  \u001b[1;32mSUCCESS\u001b[0m \u001b[1m[\u001b[0m\u001b[1;36m74\u001b[0m \u001b[1;35mrows\u001b[0m\u001b[1m(\u001b[0ms\u001b[1m)\u001b[0m\u001b[1m]\u001b[0m                       \u001b]8;id=558126;file:///usr/local/google/home/codyfincher/Code/database-tools/oracle-database-assessment/src/server/dbma/database.py\u001b\\\u001b[2mdatabase.py\u001b[0m\u001b]8;;\u001b\\\u001b[2m:\u001b[0m\u001b]8;id=469728;file:///usr/local/google/home/codyfincher/Code/database-tools/oracle-database-assessment/src/server/dbma/database.py#160\u001b\\\u001b[2m160\u001b[0m\u001b]8;;\u001b\\\n"
      ]
     },
     "metadata": {},
     "output_type": "display_data"
    },
    {
     "data": {
      "text/html": [
       "<pre style=\"white-space:pre;overflow-x:auto;line-height:normal;font-family:Menlo,'DejaVu Sans Mono',consolas,'Courier New',monospace\"><span style=\"color: #7fbfbf; text-decoration-color: #7fbfbf\">[10/17/22 16:51:24] </span><span style=\"color: #000080; text-decoration-color: #000080\">INFO    </span> delimiter is |                                                         <a href=\"file:///usr/local/google/home/codyfincher/Code/database-tools/oracle-database-assessment/src/server/dbma/database.py\" target=\"_blank\"><span style=\"color: #7f7f7f; text-decoration-color: #7f7f7f\">database.py</span></a><span style=\"color: #7f7f7f; text-decoration-color: #7f7f7f\">:</span><a href=\"file:///usr/local/google/home/codyfincher/Code/database-tools/oracle-database-assessment/src/server/dbma/database.py#153\" target=\"_blank\"><span style=\"color: #7f7f7f; text-decoration-color: #7f7f7f\">153</span></a>\n",
       "</pre>\n"
      ],
      "text/plain": [
       "\u001b[2;36m[10/17/22 16:51:24]\u001b[0m\u001b[2;36m \u001b[0m\u001b[34mINFO    \u001b[0m delimiter is |                                                         \u001b]8;id=792929;file:///usr/local/google/home/codyfincher/Code/database-tools/oracle-database-assessment/src/server/dbma/database.py\u001b\\\u001b[2mdatabase.py\u001b[0m\u001b]8;;\u001b\\\u001b[2m:\u001b[0m\u001b]8;id=377463;file:///usr/local/google/home/codyfincher/Code/database-tools/oracle-database-assessment/src/server/dbma/database.py#153\u001b\\\u001b[2m153\u001b[0m\u001b]8;;\u001b\\\n"
      ]
     },
     "metadata": {},
     "output_type": "display_data"
    },
    {
     "data": {
      "text/html": [
       "<pre style=\"white-space:pre;overflow-x:auto;line-height:normal;font-family:Menlo,'DejaVu Sans Mono',consolas,'Courier New',monospace\"><span style=\"color: #7fbfbf; text-decoration-color: #7fbfbf\">[10/17/22 16:51:24] </span><span style=\"color: #000080; text-decoration-color: #000080\">INFO    </span> <span style=\"color: #808000; text-decoration-color: #808000\">...</span> db_cpu_core_usage  <span style=\"color: #008000; text-decoration-color: #008000; font-weight: bold\">SUCCESS</span> <span style=\"font-weight: bold\">[</span><span style=\"color: #008080; text-decoration-color: #008080; font-weight: bold\">5</span> <span style=\"color: #800080; text-decoration-color: #800080; font-weight: bold\">rows</span><span style=\"font-weight: bold\">(</span>s<span style=\"font-weight: bold\">)]</span>                             <a href=\"file:///usr/local/google/home/codyfincher/Code/database-tools/oracle-database-assessment/src/server/dbma/database.py\" target=\"_blank\"><span style=\"color: #7f7f7f; text-decoration-color: #7f7f7f\">database.py</span></a><span style=\"color: #7f7f7f; text-decoration-color: #7f7f7f\">:</span><a href=\"file:///usr/local/google/home/codyfincher/Code/database-tools/oracle-database-assessment/src/server/dbma/database.py#160\" target=\"_blank\"><span style=\"color: #7f7f7f; text-decoration-color: #7f7f7f\">160</span></a>\n",
       "</pre>\n"
      ],
      "text/plain": [
       "\u001b[2;36m[10/17/22 16:51:24]\u001b[0m\u001b[2;36m \u001b[0m\u001b[34mINFO    \u001b[0m \u001b[33m...\u001b[0m db_cpu_core_usage  \u001b[1;32mSUCCESS\u001b[0m \u001b[1m[\u001b[0m\u001b[1;36m5\u001b[0m \u001b[1;35mrows\u001b[0m\u001b[1m(\u001b[0ms\u001b[1m)\u001b[0m\u001b[1m]\u001b[0m                             \u001b]8;id=795983;file:///usr/local/google/home/codyfincher/Code/database-tools/oracle-database-assessment/src/server/dbma/database.py\u001b\\\u001b[2mdatabase.py\u001b[0m\u001b]8;;\u001b\\\u001b[2m:\u001b[0m\u001b]8;id=779405;file:///usr/local/google/home/codyfincher/Code/database-tools/oracle-database-assessment/src/server/dbma/database.py#160\u001b\\\u001b[2m160\u001b[0m\u001b]8;;\u001b\\\n"
      ]
     },
     "metadata": {},
     "output_type": "display_data"
    },
    {
     "data": {
      "text/html": [
       "<pre style=\"white-space:pre;overflow-x:auto;line-height:normal;font-family:Menlo,'DejaVu Sans Mono',consolas,'Courier New',monospace\"><span style=\"color: #7fbfbf; text-decoration-color: #7fbfbf\">[10/17/22 16:51:24] </span><span style=\"color: #000080; text-decoration-color: #000080\">INFO    </span> delimiter is |                                                         <a href=\"file:///usr/local/google/home/codyfincher/Code/database-tools/oracle-database-assessment/src/server/dbma/database.py\" target=\"_blank\"><span style=\"color: #7f7f7f; text-decoration-color: #7f7f7f\">database.py</span></a><span style=\"color: #7f7f7f; text-decoration-color: #7f7f7f\">:</span><a href=\"file:///usr/local/google/home/codyfincher/Code/database-tools/oracle-database-assessment/src/server/dbma/database.py#153\" target=\"_blank\"><span style=\"color: #7f7f7f; text-decoration-color: #7f7f7f\">153</span></a>\n",
       "</pre>\n"
      ],
      "text/plain": [
       "\u001b[2;36m[10/17/22 16:51:24]\u001b[0m\u001b[2;36m \u001b[0m\u001b[34mINFO    \u001b[0m delimiter is |                                                         \u001b]8;id=9063;file:///usr/local/google/home/codyfincher/Code/database-tools/oracle-database-assessment/src/server/dbma/database.py\u001b\\\u001b[2mdatabase.py\u001b[0m\u001b]8;;\u001b\\\u001b[2m:\u001b[0m\u001b]8;id=309231;file:///usr/local/google/home/codyfincher/Code/database-tools/oracle-database-assessment/src/server/dbma/database.py#153\u001b\\\u001b[2m153\u001b[0m\u001b]8;;\u001b\\\n"
      ]
     },
     "metadata": {},
     "output_type": "display_data"
    },
    {
     "data": {
      "text/html": [
       "<pre style=\"white-space:pre;overflow-x:auto;line-height:normal;font-family:Menlo,'DejaVu Sans Mono',consolas,'Courier New',monospace\"><span style=\"color: #7fbfbf; text-decoration-color: #7fbfbf\">[10/17/22 16:51:24] </span><span style=\"color: #000080; text-decoration-color: #000080\">INFO    </span> <span style=\"color: #808000; text-decoration-color: #808000\">...</span> db_dataguard  <span style=\"color: #008000; text-decoration-color: #008000; font-weight: bold\">SUCCESS</span> <span style=\"font-weight: bold\">[</span><span style=\"color: #008080; text-decoration-color: #008080; font-weight: bold\">2</span> <span style=\"color: #800080; text-decoration-color: #800080; font-weight: bold\">rows</span><span style=\"font-weight: bold\">(</span>s<span style=\"font-weight: bold\">)]</span>                                  <a href=\"file:///usr/local/google/home/codyfincher/Code/database-tools/oracle-database-assessment/src/server/dbma/database.py\" target=\"_blank\"><span style=\"color: #7f7f7f; text-decoration-color: #7f7f7f\">database.py</span></a><span style=\"color: #7f7f7f; text-decoration-color: #7f7f7f\">:</span><a href=\"file:///usr/local/google/home/codyfincher/Code/database-tools/oracle-database-assessment/src/server/dbma/database.py#160\" target=\"_blank\"><span style=\"color: #7f7f7f; text-decoration-color: #7f7f7f\">160</span></a>\n",
       "</pre>\n"
      ],
      "text/plain": [
       "\u001b[2;36m[10/17/22 16:51:24]\u001b[0m\u001b[2;36m \u001b[0m\u001b[34mINFO    \u001b[0m \u001b[33m...\u001b[0m db_dataguard  \u001b[1;32mSUCCESS\u001b[0m \u001b[1m[\u001b[0m\u001b[1;36m2\u001b[0m \u001b[1;35mrows\u001b[0m\u001b[1m(\u001b[0ms\u001b[1m)\u001b[0m\u001b[1m]\u001b[0m                                  \u001b]8;id=282244;file:///usr/local/google/home/codyfincher/Code/database-tools/oracle-database-assessment/src/server/dbma/database.py\u001b\\\u001b[2mdatabase.py\u001b[0m\u001b]8;;\u001b\\\u001b[2m:\u001b[0m\u001b]8;id=682264;file:///usr/local/google/home/codyfincher/Code/database-tools/oracle-database-assessment/src/server/dbma/database.py#160\u001b\\\u001b[2m160\u001b[0m\u001b]8;;\u001b\\\n"
      ]
     },
     "metadata": {},
     "output_type": "display_data"
    },
    {
     "data": {
      "text/html": [
       "<pre style=\"white-space:pre;overflow-x:auto;line-height:normal;font-family:Menlo,'DejaVu Sans Mono',consolas,'Courier New',monospace\"><span style=\"color: #7fbfbf; text-decoration-color: #7fbfbf\">[10/17/22 16:51:24] </span><span style=\"color: #000080; text-decoration-color: #000080\">INFO    </span> delimiter is |                                                         <a href=\"file:///usr/local/google/home/codyfincher/Code/database-tools/oracle-database-assessment/src/server/dbma/database.py\" target=\"_blank\"><span style=\"color: #7f7f7f; text-decoration-color: #7f7f7f\">database.py</span></a><span style=\"color: #7f7f7f; text-decoration-color: #7f7f7f\">:</span><a href=\"file:///usr/local/google/home/codyfincher/Code/database-tools/oracle-database-assessment/src/server/dbma/database.py#153\" target=\"_blank\"><span style=\"color: #7f7f7f; text-decoration-color: #7f7f7f\">153</span></a>\n",
       "</pre>\n"
      ],
      "text/plain": [
       "\u001b[2;36m[10/17/22 16:51:24]\u001b[0m\u001b[2;36m \u001b[0m\u001b[34mINFO    \u001b[0m delimiter is |                                                         \u001b]8;id=41922;file:///usr/local/google/home/codyfincher/Code/database-tools/oracle-database-assessment/src/server/dbma/database.py\u001b\\\u001b[2mdatabase.py\u001b[0m\u001b]8;;\u001b\\\u001b[2m:\u001b[0m\u001b]8;id=210614;file:///usr/local/google/home/codyfincher/Code/database-tools/oracle-database-assessment/src/server/dbma/database.py#153\u001b\\\u001b[2m153\u001b[0m\u001b]8;;\u001b\\\n"
      ]
     },
     "metadata": {},
     "output_type": "display_data"
    },
    {
     "data": {
      "text/html": [
       "<pre style=\"white-space:pre;overflow-x:auto;line-height:normal;font-family:Menlo,'DejaVu Sans Mono',consolas,'Courier New',monospace\"><span style=\"color: #7fbfbf; text-decoration-color: #7fbfbf\">[10/17/22 16:51:24] </span><span style=\"color: #000080; text-decoration-color: #000080\">INFO    </span> <span style=\"color: #808000; text-decoration-color: #808000\">...</span> db_data_types  <span style=\"color: #008000; text-decoration-color: #008000; font-weight: bold\">SUCCESS</span> <span style=\"font-weight: bold\">[</span><span style=\"color: #008080; text-decoration-color: #008080; font-weight: bold\">672</span> <span style=\"color: #800080; text-decoration-color: #800080; font-weight: bold\">rows</span><span style=\"font-weight: bold\">(</span>s<span style=\"font-weight: bold\">)]</span>                               <a href=\"file:///usr/local/google/home/codyfincher/Code/database-tools/oracle-database-assessment/src/server/dbma/database.py\" target=\"_blank\"><span style=\"color: #7f7f7f; text-decoration-color: #7f7f7f\">database.py</span></a><span style=\"color: #7f7f7f; text-decoration-color: #7f7f7f\">:</span><a href=\"file:///usr/local/google/home/codyfincher/Code/database-tools/oracle-database-assessment/src/server/dbma/database.py#160\" target=\"_blank\"><span style=\"color: #7f7f7f; text-decoration-color: #7f7f7f\">160</span></a>\n",
       "</pre>\n"
      ],
      "text/plain": [
       "\u001b[2;36m[10/17/22 16:51:24]\u001b[0m\u001b[2;36m \u001b[0m\u001b[34mINFO    \u001b[0m \u001b[33m...\u001b[0m db_data_types  \u001b[1;32mSUCCESS\u001b[0m \u001b[1m[\u001b[0m\u001b[1;36m672\u001b[0m \u001b[1;35mrows\u001b[0m\u001b[1m(\u001b[0ms\u001b[1m)\u001b[0m\u001b[1m]\u001b[0m                               \u001b]8;id=143091;file:///usr/local/google/home/codyfincher/Code/database-tools/oracle-database-assessment/src/server/dbma/database.py\u001b\\\u001b[2mdatabase.py\u001b[0m\u001b]8;;\u001b\\\u001b[2m:\u001b[0m\u001b]8;id=791095;file:///usr/local/google/home/codyfincher/Code/database-tools/oracle-database-assessment/src/server/dbma/database.py#160\u001b\\\u001b[2m160\u001b[0m\u001b]8;;\u001b\\\n"
      ]
     },
     "metadata": {},
     "output_type": "display_data"
    },
    {
     "data": {
      "text/html": [
       "<pre style=\"white-space:pre;overflow-x:auto;line-height:normal;font-family:Menlo,'DejaVu Sans Mono',consolas,'Courier New',monospace\"><span style=\"color: #7fbfbf; text-decoration-color: #7fbfbf\">[10/17/22 16:51:24] </span><span style=\"color: #000080; text-decoration-color: #000080\">INFO    </span> delimiter is |                                                         <a href=\"file:///usr/local/google/home/codyfincher/Code/database-tools/oracle-database-assessment/src/server/dbma/database.py\" target=\"_blank\"><span style=\"color: #7f7f7f; text-decoration-color: #7f7f7f\">database.py</span></a><span style=\"color: #7f7f7f; text-decoration-color: #7f7f7f\">:</span><a href=\"file:///usr/local/google/home/codyfincher/Code/database-tools/oracle-database-assessment/src/server/dbma/database.py#153\" target=\"_blank\"><span style=\"color: #7f7f7f; text-decoration-color: #7f7f7f\">153</span></a>\n",
       "</pre>\n"
      ],
      "text/plain": [
       "\u001b[2;36m[10/17/22 16:51:24]\u001b[0m\u001b[2;36m \u001b[0m\u001b[34mINFO    \u001b[0m delimiter is |                                                         \u001b]8;id=919679;file:///usr/local/google/home/codyfincher/Code/database-tools/oracle-database-assessment/src/server/dbma/database.py\u001b\\\u001b[2mdatabase.py\u001b[0m\u001b]8;;\u001b\\\u001b[2m:\u001b[0m\u001b]8;id=335925;file:///usr/local/google/home/codyfincher/Code/database-tools/oracle-database-assessment/src/server/dbma/database.py#153\u001b\\\u001b[2m153\u001b[0m\u001b]8;;\u001b\\\n"
      ]
     },
     "metadata": {},
     "output_type": "display_data"
    },
    {
     "data": {
      "text/html": [
       "<pre style=\"white-space:pre;overflow-x:auto;line-height:normal;font-family:Menlo,'DejaVu Sans Mono',consolas,'Courier New',monospace\"><span style=\"color: #7fbfbf; text-decoration-color: #7fbfbf\">[10/17/22 16:51:24] </span><span style=\"color: #000080; text-decoration-color: #000080\">INFO    </span> <span style=\"color: #808000; text-decoration-color: #808000\">...</span> dba_hist_sys_stat  <span style=\"color: #008000; text-decoration-color: #008000; font-weight: bold\">SUCCESS</span> <span style=\"font-weight: bold\">[</span><span style=\"color: #008080; text-decoration-color: #008080; font-weight: bold\">3816</span> <span style=\"color: #800080; text-decoration-color: #800080; font-weight: bold\">rows</span><span style=\"font-weight: bold\">(</span>s<span style=\"font-weight: bold\">)]</span>                          <a href=\"file:///usr/local/google/home/codyfincher/Code/database-tools/oracle-database-assessment/src/server/dbma/database.py\" target=\"_blank\"><span style=\"color: #7f7f7f; text-decoration-color: #7f7f7f\">database.py</span></a><span style=\"color: #7f7f7f; text-decoration-color: #7f7f7f\">:</span><a href=\"file:///usr/local/google/home/codyfincher/Code/database-tools/oracle-database-assessment/src/server/dbma/database.py#160\" target=\"_blank\"><span style=\"color: #7f7f7f; text-decoration-color: #7f7f7f\">160</span></a>\n",
       "</pre>\n"
      ],
      "text/plain": [
       "\u001b[2;36m[10/17/22 16:51:24]\u001b[0m\u001b[2;36m \u001b[0m\u001b[34mINFO    \u001b[0m \u001b[33m...\u001b[0m dba_hist_sys_stat  \u001b[1;32mSUCCESS\u001b[0m \u001b[1m[\u001b[0m\u001b[1;36m3816\u001b[0m \u001b[1;35mrows\u001b[0m\u001b[1m(\u001b[0ms\u001b[1m)\u001b[0m\u001b[1m]\u001b[0m                          \u001b]8;id=176564;file:///usr/local/google/home/codyfincher/Code/database-tools/oracle-database-assessment/src/server/dbma/database.py\u001b\\\u001b[2mdatabase.py\u001b[0m\u001b]8;;\u001b\\\u001b[2m:\u001b[0m\u001b]8;id=908140;file:///usr/local/google/home/codyfincher/Code/database-tools/oracle-database-assessment/src/server/dbma/database.py#160\u001b\\\u001b[2m160\u001b[0m\u001b]8;;\u001b\\\n"
      ]
     },
     "metadata": {},
     "output_type": "display_data"
    },
    {
     "data": {
      "text/html": [
       "<pre style=\"white-space:pre;overflow-x:auto;line-height:normal;font-family:Menlo,'DejaVu Sans Mono',consolas,'Courier New',monospace\"><span style=\"color: #7fbfbf; text-decoration-color: #7fbfbf\">[10/17/22 16:51:24] </span><span style=\"color: #000080; text-decoration-color: #000080\">INFO    </span> delimiter is |                                                         <a href=\"file:///usr/local/google/home/codyfincher/Code/database-tools/oracle-database-assessment/src/server/dbma/database.py\" target=\"_blank\"><span style=\"color: #7f7f7f; text-decoration-color: #7f7f7f\">database.py</span></a><span style=\"color: #7f7f7f; text-decoration-color: #7f7f7f\">:</span><a href=\"file:///usr/local/google/home/codyfincher/Code/database-tools/oracle-database-assessment/src/server/dbma/database.py#153\" target=\"_blank\"><span style=\"color: #7f7f7f; text-decoration-color: #7f7f7f\">153</span></a>\n",
       "</pre>\n"
      ],
      "text/plain": [
       "\u001b[2;36m[10/17/22 16:51:24]\u001b[0m\u001b[2;36m \u001b[0m\u001b[34mINFO    \u001b[0m delimiter is |                                                         \u001b]8;id=210464;file:///usr/local/google/home/codyfincher/Code/database-tools/oracle-database-assessment/src/server/dbma/database.py\u001b\\\u001b[2mdatabase.py\u001b[0m\u001b]8;;\u001b\\\u001b[2m:\u001b[0m\u001b]8;id=350884;file:///usr/local/google/home/codyfincher/Code/database-tools/oracle-database-assessment/src/server/dbma/database.py#153\u001b\\\u001b[2m153\u001b[0m\u001b]8;;\u001b\\\n"
      ]
     },
     "metadata": {},
     "output_type": "display_data"
    },
    {
     "data": {
      "text/html": [
       "<pre style=\"white-space:pre;overflow-x:auto;line-height:normal;font-family:Menlo,'DejaVu Sans Mono',consolas,'Courier New',monospace\"><span style=\"color: #7fbfbf; text-decoration-color: #7fbfbf\">[10/17/22 16:51:24] </span><span style=\"color: #000080; text-decoration-color: #000080\">INFO    </span> <span style=\"color: #808000; text-decoration-color: #808000\">...</span> dba_hist_sys_time_model  <span style=\"color: #008000; text-decoration-color: #008000; font-weight: bold\">SUCCESS</span> <span style=\"font-weight: bold\">[</span><span style=\"color: #008080; text-decoration-color: #008080; font-weight: bold\">744</span> <span style=\"color: #800080; text-decoration-color: #800080; font-weight: bold\">rows</span><span style=\"font-weight: bold\">(</span>s<span style=\"font-weight: bold\">)]</span>                     <a href=\"file:///usr/local/google/home/codyfincher/Code/database-tools/oracle-database-assessment/src/server/dbma/database.py\" target=\"_blank\"><span style=\"color: #7f7f7f; text-decoration-color: #7f7f7f\">database.py</span></a><span style=\"color: #7f7f7f; text-decoration-color: #7f7f7f\">:</span><a href=\"file:///usr/local/google/home/codyfincher/Code/database-tools/oracle-database-assessment/src/server/dbma/database.py#160\" target=\"_blank\"><span style=\"color: #7f7f7f; text-decoration-color: #7f7f7f\">160</span></a>\n",
       "</pre>\n"
      ],
      "text/plain": [
       "\u001b[2;36m[10/17/22 16:51:24]\u001b[0m\u001b[2;36m \u001b[0m\u001b[34mINFO    \u001b[0m \u001b[33m...\u001b[0m dba_hist_sys_time_model  \u001b[1;32mSUCCESS\u001b[0m \u001b[1m[\u001b[0m\u001b[1;36m744\u001b[0m \u001b[1;35mrows\u001b[0m\u001b[1m(\u001b[0ms\u001b[1m)\u001b[0m\u001b[1m]\u001b[0m                     \u001b]8;id=725692;file:///usr/local/google/home/codyfincher/Code/database-tools/oracle-database-assessment/src/server/dbma/database.py\u001b\\\u001b[2mdatabase.py\u001b[0m\u001b]8;;\u001b\\\u001b[2m:\u001b[0m\u001b]8;id=729252;file:///usr/local/google/home/codyfincher/Code/database-tools/oracle-database-assessment/src/server/dbma/database.py#160\u001b\\\u001b[2m160\u001b[0m\u001b]8;;\u001b\\\n"
      ]
     },
     "metadata": {},
     "output_type": "display_data"
    },
    {
     "data": {
      "text/html": [
       "<pre style=\"white-space:pre;overflow-x:auto;line-height:normal;font-family:Menlo,'DejaVu Sans Mono',consolas,'Courier New',monospace\"><span style=\"color: #7fbfbf; text-decoration-color: #7fbfbf\">[10/17/22 16:51:24] </span><span style=\"color: #000080; text-decoration-color: #000080\">INFO    </span> delimiter is |                                                         <a href=\"file:///usr/local/google/home/codyfincher/Code/database-tools/oracle-database-assessment/src/server/dbma/database.py\" target=\"_blank\"><span style=\"color: #7f7f7f; text-decoration-color: #7f7f7f\">database.py</span></a><span style=\"color: #7f7f7f; text-decoration-color: #7f7f7f\">:</span><a href=\"file:///usr/local/google/home/codyfincher/Code/database-tools/oracle-database-assessment/src/server/dbma/database.py#153\" target=\"_blank\"><span style=\"color: #7f7f7f; text-decoration-color: #7f7f7f\">153</span></a>\n",
       "</pre>\n"
      ],
      "text/plain": [
       "\u001b[2;36m[10/17/22 16:51:24]\u001b[0m\u001b[2;36m \u001b[0m\u001b[34mINFO    \u001b[0m delimiter is |                                                         \u001b]8;id=239147;file:///usr/local/google/home/codyfincher/Code/database-tools/oracle-database-assessment/src/server/dbma/database.py\u001b\\\u001b[2mdatabase.py\u001b[0m\u001b]8;;\u001b\\\u001b[2m:\u001b[0m\u001b]8;id=580952;file:///usr/local/google/home/codyfincher/Code/database-tools/oracle-database-assessment/src/server/dbma/database.py#153\u001b\\\u001b[2m153\u001b[0m\u001b]8;;\u001b\\\n"
      ]
     },
     "metadata": {},
     "output_type": "display_data"
    },
    {
     "data": {
      "text/html": [
       "<pre style=\"white-space:pre;overflow-x:auto;line-height:normal;font-family:Menlo,'DejaVu Sans Mono',consolas,'Courier New',monospace\"><span style=\"color: #7fbfbf; text-decoration-color: #7fbfbf\">[10/17/22 16:51:24] </span><span style=\"color: #000080; text-decoration-color: #000080\">INFO    </span> <span style=\"color: #808000; text-decoration-color: #808000\">...</span> db_features  <span style=\"color: #008000; text-decoration-color: #008000; font-weight: bold\">SUCCESS</span> <span style=\"font-weight: bold\">[</span><span style=\"color: #008080; text-decoration-color: #008080; font-weight: bold\">991</span> <span style=\"color: #800080; text-decoration-color: #800080; font-weight: bold\">rows</span><span style=\"font-weight: bold\">(</span>s<span style=\"font-weight: bold\">)]</span>                                 <a href=\"file:///usr/local/google/home/codyfincher/Code/database-tools/oracle-database-assessment/src/server/dbma/database.py\" target=\"_blank\"><span style=\"color: #7f7f7f; text-decoration-color: #7f7f7f\">database.py</span></a><span style=\"color: #7f7f7f; text-decoration-color: #7f7f7f\">:</span><a href=\"file:///usr/local/google/home/codyfincher/Code/database-tools/oracle-database-assessment/src/server/dbma/database.py#160\" target=\"_blank\"><span style=\"color: #7f7f7f; text-decoration-color: #7f7f7f\">160</span></a>\n",
       "</pre>\n"
      ],
      "text/plain": [
       "\u001b[2;36m[10/17/22 16:51:24]\u001b[0m\u001b[2;36m \u001b[0m\u001b[34mINFO    \u001b[0m \u001b[33m...\u001b[0m db_features  \u001b[1;32mSUCCESS\u001b[0m \u001b[1m[\u001b[0m\u001b[1;36m991\u001b[0m \u001b[1;35mrows\u001b[0m\u001b[1m(\u001b[0ms\u001b[1m)\u001b[0m\u001b[1m]\u001b[0m                                 \u001b]8;id=563032;file:///usr/local/google/home/codyfincher/Code/database-tools/oracle-database-assessment/src/server/dbma/database.py\u001b\\\u001b[2mdatabase.py\u001b[0m\u001b]8;;\u001b\\\u001b[2m:\u001b[0m\u001b]8;id=83140;file:///usr/local/google/home/codyfincher/Code/database-tools/oracle-database-assessment/src/server/dbma/database.py#160\u001b\\\u001b[2m160\u001b[0m\u001b]8;;\u001b\\\n"
      ]
     },
     "metadata": {},
     "output_type": "display_data"
    },
    {
     "data": {
      "text/html": [
       "<pre style=\"white-space:pre;overflow-x:auto;line-height:normal;font-family:Menlo,'DejaVu Sans Mono',consolas,'Courier New',monospace\"><span style=\"color: #7fbfbf; text-decoration-color: #7fbfbf\">[10/17/22 16:51:24] </span><span style=\"color: #000080; text-decoration-color: #000080\">INFO    </span> delimiter is |                                                         <a href=\"file:///usr/local/google/home/codyfincher/Code/database-tools/oracle-database-assessment/src/server/dbma/database.py\" target=\"_blank\"><span style=\"color: #7f7f7f; text-decoration-color: #7f7f7f\">database.py</span></a><span style=\"color: #7f7f7f; text-decoration-color: #7f7f7f\">:</span><a href=\"file:///usr/local/google/home/codyfincher/Code/database-tools/oracle-database-assessment/src/server/dbma/database.py#153\" target=\"_blank\"><span style=\"color: #7f7f7f; text-decoration-color: #7f7f7f\">153</span></a>\n",
       "</pre>\n"
      ],
      "text/plain": [
       "\u001b[2;36m[10/17/22 16:51:24]\u001b[0m\u001b[2;36m \u001b[0m\u001b[34mINFO    \u001b[0m delimiter is |                                                         \u001b]8;id=572060;file:///usr/local/google/home/codyfincher/Code/database-tools/oracle-database-assessment/src/server/dbma/database.py\u001b\\\u001b[2mdatabase.py\u001b[0m\u001b]8;;\u001b\\\u001b[2m:\u001b[0m\u001b]8;id=462795;file:///usr/local/google/home/codyfincher/Code/database-tools/oracle-database-assessment/src/server/dbma/database.py#153\u001b\\\u001b[2m153\u001b[0m\u001b]8;;\u001b\\\n"
      ]
     },
     "metadata": {},
     "output_type": "display_data"
    },
    {
     "data": {
      "text/html": [
       "<pre style=\"white-space:pre;overflow-x:auto;line-height:normal;font-family:Menlo,'DejaVu Sans Mono',consolas,'Courier New',monospace\"><span style=\"color: #7fbfbf; text-decoration-color: #7fbfbf\">[10/17/22 16:51:24] </span><span style=\"color: #000080; text-decoration-color: #000080\">INFO    </span> <span style=\"color: #808000; text-decoration-color: #808000\">...</span> db_high_water_stats  <span style=\"color: #008000; text-decoration-color: #008000; font-weight: bold\">SUCCESS</span> <span style=\"font-weight: bold\">[</span><span style=\"color: #008080; text-decoration-color: #008080; font-weight: bold\">114</span> <span style=\"color: #800080; text-decoration-color: #800080; font-weight: bold\">rows</span><span style=\"font-weight: bold\">(</span>s<span style=\"font-weight: bold\">)]</span>                         <a href=\"file:///usr/local/google/home/codyfincher/Code/database-tools/oracle-database-assessment/src/server/dbma/database.py\" target=\"_blank\"><span style=\"color: #7f7f7f; text-decoration-color: #7f7f7f\">database.py</span></a><span style=\"color: #7f7f7f; text-decoration-color: #7f7f7f\">:</span><a href=\"file:///usr/local/google/home/codyfincher/Code/database-tools/oracle-database-assessment/src/server/dbma/database.py#160\" target=\"_blank\"><span style=\"color: #7f7f7f; text-decoration-color: #7f7f7f\">160</span></a>\n",
       "</pre>\n"
      ],
      "text/plain": [
       "\u001b[2;36m[10/17/22 16:51:24]\u001b[0m\u001b[2;36m \u001b[0m\u001b[34mINFO    \u001b[0m \u001b[33m...\u001b[0m db_high_water_stats  \u001b[1;32mSUCCESS\u001b[0m \u001b[1m[\u001b[0m\u001b[1;36m114\u001b[0m \u001b[1;35mrows\u001b[0m\u001b[1m(\u001b[0ms\u001b[1m)\u001b[0m\u001b[1m]\u001b[0m                         \u001b]8;id=720836;file:///usr/local/google/home/codyfincher/Code/database-tools/oracle-database-assessment/src/server/dbma/database.py\u001b\\\u001b[2mdatabase.py\u001b[0m\u001b]8;;\u001b\\\u001b[2m:\u001b[0m\u001b]8;id=37204;file:///usr/local/google/home/codyfincher/Code/database-tools/oracle-database-assessment/src/server/dbma/database.py#160\u001b\\\u001b[2m160\u001b[0m\u001b]8;;\u001b\\\n"
      ]
     },
     "metadata": {},
     "output_type": "display_data"
    },
    {
     "data": {
      "text/html": [
       "<pre style=\"white-space:pre;overflow-x:auto;line-height:normal;font-family:Menlo,'DejaVu Sans Mono',consolas,'Courier New',monospace\"><span style=\"color: #7fbfbf; text-decoration-color: #7fbfbf\">[10/17/22 16:51:24] </span><span style=\"color: #000080; text-decoration-color: #000080\">INFO    </span> delimiter is |                                                         <a href=\"file:///usr/local/google/home/codyfincher/Code/database-tools/oracle-database-assessment/src/server/dbma/database.py\" target=\"_blank\"><span style=\"color: #7f7f7f; text-decoration-color: #7f7f7f\">database.py</span></a><span style=\"color: #7f7f7f; text-decoration-color: #7f7f7f\">:</span><a href=\"file:///usr/local/google/home/codyfincher/Code/database-tools/oracle-database-assessment/src/server/dbma/database.py#153\" target=\"_blank\"><span style=\"color: #7f7f7f; text-decoration-color: #7f7f7f\">153</span></a>\n",
       "</pre>\n"
      ],
      "text/plain": [
       "\u001b[2;36m[10/17/22 16:51:24]\u001b[0m\u001b[2;36m \u001b[0m\u001b[34mINFO    \u001b[0m delimiter is |                                                         \u001b]8;id=758936;file:///usr/local/google/home/codyfincher/Code/database-tools/oracle-database-assessment/src/server/dbma/database.py\u001b\\\u001b[2mdatabase.py\u001b[0m\u001b]8;;\u001b\\\u001b[2m:\u001b[0m\u001b]8;id=188938;file:///usr/local/google/home/codyfincher/Code/database-tools/oracle-database-assessment/src/server/dbma/database.py#153\u001b\\\u001b[2m153\u001b[0m\u001b]8;;\u001b\\\n"
      ]
     },
     "metadata": {},
     "output_type": "display_data"
    },
    {
     "data": {
      "text/html": [
       "<pre style=\"white-space:pre;overflow-x:auto;line-height:normal;font-family:Menlo,'DejaVu Sans Mono',consolas,'Courier New',monospace\"><span style=\"color: #7fbfbf; text-decoration-color: #7fbfbf\">[10/17/22 16:51:24] </span><span style=\"color: #000080; text-decoration-color: #000080\">INFO    </span> <span style=\"color: #808000; text-decoration-color: #808000\">...</span> db_instances  <span style=\"color: #008000; text-decoration-color: #008000; font-weight: bold\">SUCCESS</span> <span style=\"font-weight: bold\">[</span><span style=\"color: #008080; text-decoration-color: #008080; font-weight: bold\">1</span> <span style=\"color: #800080; text-decoration-color: #800080; font-weight: bold\">rows</span><span style=\"font-weight: bold\">(</span>s<span style=\"font-weight: bold\">)]</span>                                  <a href=\"file:///usr/local/google/home/codyfincher/Code/database-tools/oracle-database-assessment/src/server/dbma/database.py\" target=\"_blank\"><span style=\"color: #7f7f7f; text-decoration-color: #7f7f7f\">database.py</span></a><span style=\"color: #7f7f7f; text-decoration-color: #7f7f7f\">:</span><a href=\"file:///usr/local/google/home/codyfincher/Code/database-tools/oracle-database-assessment/src/server/dbma/database.py#160\" target=\"_blank\"><span style=\"color: #7f7f7f; text-decoration-color: #7f7f7f\">160</span></a>\n",
       "</pre>\n"
      ],
      "text/plain": [
       "\u001b[2;36m[10/17/22 16:51:24]\u001b[0m\u001b[2;36m \u001b[0m\u001b[34mINFO    \u001b[0m \u001b[33m...\u001b[0m db_instances  \u001b[1;32mSUCCESS\u001b[0m \u001b[1m[\u001b[0m\u001b[1;36m1\u001b[0m \u001b[1;35mrows\u001b[0m\u001b[1m(\u001b[0ms\u001b[1m)\u001b[0m\u001b[1m]\u001b[0m                                  \u001b]8;id=770368;file:///usr/local/google/home/codyfincher/Code/database-tools/oracle-database-assessment/src/server/dbma/database.py\u001b\\\u001b[2mdatabase.py\u001b[0m\u001b]8;;\u001b\\\u001b[2m:\u001b[0m\u001b]8;id=363876;file:///usr/local/google/home/codyfincher/Code/database-tools/oracle-database-assessment/src/server/dbma/database.py#160\u001b\\\u001b[2m160\u001b[0m\u001b]8;;\u001b\\\n"
      ]
     },
     "metadata": {},
     "output_type": "display_data"
    },
    {
     "data": {
      "text/html": [
       "<pre style=\"white-space:pre;overflow-x:auto;line-height:normal;font-family:Menlo,'DejaVu Sans Mono',consolas,'Courier New',monospace\"><span style=\"color: #7fbfbf; text-decoration-color: #7fbfbf\">[10/17/22 16:51:24] </span><span style=\"color: #000080; text-decoration-color: #000080\">INFO    </span> delimiter is |                                                         <a href=\"file:///usr/local/google/home/codyfincher/Code/database-tools/oracle-database-assessment/src/server/dbma/database.py\" target=\"_blank\"><span style=\"color: #7f7f7f; text-decoration-color: #7f7f7f\">database.py</span></a><span style=\"color: #7f7f7f; text-decoration-color: #7f7f7f\">:</span><a href=\"file:///usr/local/google/home/codyfincher/Code/database-tools/oracle-database-assessment/src/server/dbma/database.py#153\" target=\"_blank\"><span style=\"color: #7f7f7f; text-decoration-color: #7f7f7f\">153</span></a>\n",
       "</pre>\n"
      ],
      "text/plain": [
       "\u001b[2;36m[10/17/22 16:51:24]\u001b[0m\u001b[2;36m \u001b[0m\u001b[34mINFO    \u001b[0m delimiter is |                                                         \u001b]8;id=11318;file:///usr/local/google/home/codyfincher/Code/database-tools/oracle-database-assessment/src/server/dbma/database.py\u001b\\\u001b[2mdatabase.py\u001b[0m\u001b]8;;\u001b\\\u001b[2m:\u001b[0m\u001b]8;id=522553;file:///usr/local/google/home/codyfincher/Code/database-tools/oracle-database-assessment/src/server/dbma/database.py#153\u001b\\\u001b[2m153\u001b[0m\u001b]8;;\u001b\\\n"
      ]
     },
     "metadata": {},
     "output_type": "display_data"
    },
    {
     "data": {
      "text/html": [
       "<pre style=\"white-space:pre;overflow-x:auto;line-height:normal;font-family:Menlo,'DejaVu Sans Mono',consolas,'Courier New',monospace\"><span style=\"color: #7fbfbf; text-decoration-color: #7fbfbf\">[10/17/22 16:51:24] </span><span style=\"color: #000080; text-decoration-color: #000080\">INFO    </span> <span style=\"color: #808000; text-decoration-color: #808000\">...</span> db_links  <span style=\"color: #008000; text-decoration-color: #008000; font-weight: bold\">SUCCESS</span> <span style=\"font-weight: bold\">[</span><span style=\"color: #008080; text-decoration-color: #008080; font-weight: bold\">22</span> <span style=\"color: #800080; text-decoration-color: #800080; font-weight: bold\">rows</span><span style=\"font-weight: bold\">(</span>s<span style=\"font-weight: bold\">)]</span>                                     <a href=\"file:///usr/local/google/home/codyfincher/Code/database-tools/oracle-database-assessment/src/server/dbma/database.py\" target=\"_blank\"><span style=\"color: #7f7f7f; text-decoration-color: #7f7f7f\">database.py</span></a><span style=\"color: #7f7f7f; text-decoration-color: #7f7f7f\">:</span><a href=\"file:///usr/local/google/home/codyfincher/Code/database-tools/oracle-database-assessment/src/server/dbma/database.py#160\" target=\"_blank\"><span style=\"color: #7f7f7f; text-decoration-color: #7f7f7f\">160</span></a>\n",
       "</pre>\n"
      ],
      "text/plain": [
       "\u001b[2;36m[10/17/22 16:51:24]\u001b[0m\u001b[2;36m \u001b[0m\u001b[34mINFO    \u001b[0m \u001b[33m...\u001b[0m db_links  \u001b[1;32mSUCCESS\u001b[0m \u001b[1m[\u001b[0m\u001b[1;36m22\u001b[0m \u001b[1;35mrows\u001b[0m\u001b[1m(\u001b[0ms\u001b[1m)\u001b[0m\u001b[1m]\u001b[0m                                     \u001b]8;id=139093;file:///usr/local/google/home/codyfincher/Code/database-tools/oracle-database-assessment/src/server/dbma/database.py\u001b\\\u001b[2mdatabase.py\u001b[0m\u001b]8;;\u001b\\\u001b[2m:\u001b[0m\u001b]8;id=231346;file:///usr/local/google/home/codyfincher/Code/database-tools/oracle-database-assessment/src/server/dbma/database.py#160\u001b\\\u001b[2m160\u001b[0m\u001b]8;;\u001b\\\n"
      ]
     },
     "metadata": {},
     "output_type": "display_data"
    },
    {
     "data": {
      "text/html": [
       "<pre style=\"white-space:pre;overflow-x:auto;line-height:normal;font-family:Menlo,'DejaVu Sans Mono',consolas,'Courier New',monospace\"><span style=\"color: #7fbfbf; text-decoration-color: #7fbfbf\">[10/17/22 16:51:24] </span><span style=\"color: #000080; text-decoration-color: #000080\">INFO    </span> delimiter is |                                                         <a href=\"file:///usr/local/google/home/codyfincher/Code/database-tools/oracle-database-assessment/src/server/dbma/database.py\" target=\"_blank\"><span style=\"color: #7f7f7f; text-decoration-color: #7f7f7f\">database.py</span></a><span style=\"color: #7f7f7f; text-decoration-color: #7f7f7f\">:</span><a href=\"file:///usr/local/google/home/codyfincher/Code/database-tools/oracle-database-assessment/src/server/dbma/database.py#153\" target=\"_blank\"><span style=\"color: #7f7f7f; text-decoration-color: #7f7f7f\">153</span></a>\n",
       "</pre>\n"
      ],
      "text/plain": [
       "\u001b[2;36m[10/17/22 16:51:24]\u001b[0m\u001b[2;36m \u001b[0m\u001b[34mINFO    \u001b[0m delimiter is |                                                         \u001b]8;id=283166;file:///usr/local/google/home/codyfincher/Code/database-tools/oracle-database-assessment/src/server/dbma/database.py\u001b\\\u001b[2mdatabase.py\u001b[0m\u001b]8;;\u001b\\\u001b[2m:\u001b[0m\u001b]8;id=876020;file:///usr/local/google/home/codyfincher/Code/database-tools/oracle-database-assessment/src/server/dbma/database.py#153\u001b\\\u001b[2m153\u001b[0m\u001b]8;;\u001b\\\n"
      ]
     },
     "metadata": {},
     "output_type": "display_data"
    },
    {
     "data": {
      "text/html": [
       "<pre style=\"white-space:pre;overflow-x:auto;line-height:normal;font-family:Menlo,'DejaVu Sans Mono',consolas,'Courier New',monospace\"><span style=\"color: #7fbfbf; text-decoration-color: #7fbfbf\">[10/17/22 16:51:24] </span><span style=\"color: #000080; text-decoration-color: #000080\">INFO    </span> <span style=\"color: #808000; text-decoration-color: #808000\">...</span> db_objects  <span style=\"color: #008000; text-decoration-color: #008000; font-weight: bold\">SUCCESS</span> <span style=\"font-weight: bold\">[</span><span style=\"color: #008080; text-decoration-color: #008080; font-weight: bold\">645</span> <span style=\"color: #800080; text-decoration-color: #800080; font-weight: bold\">rows</span><span style=\"font-weight: bold\">(</span>s<span style=\"font-weight: bold\">)]</span>                                  <a href=\"file:///usr/local/google/home/codyfincher/Code/database-tools/oracle-database-assessment/src/server/dbma/database.py\" target=\"_blank\"><span style=\"color: #7f7f7f; text-decoration-color: #7f7f7f\">database.py</span></a><span style=\"color: #7f7f7f; text-decoration-color: #7f7f7f\">:</span><a href=\"file:///usr/local/google/home/codyfincher/Code/database-tools/oracle-database-assessment/src/server/dbma/database.py#160\" target=\"_blank\"><span style=\"color: #7f7f7f; text-decoration-color: #7f7f7f\">160</span></a>\n",
       "</pre>\n"
      ],
      "text/plain": [
       "\u001b[2;36m[10/17/22 16:51:24]\u001b[0m\u001b[2;36m \u001b[0m\u001b[34mINFO    \u001b[0m \u001b[33m...\u001b[0m db_objects  \u001b[1;32mSUCCESS\u001b[0m \u001b[1m[\u001b[0m\u001b[1;36m645\u001b[0m \u001b[1;35mrows\u001b[0m\u001b[1m(\u001b[0ms\u001b[1m)\u001b[0m\u001b[1m]\u001b[0m                                  \u001b]8;id=34426;file:///usr/local/google/home/codyfincher/Code/database-tools/oracle-database-assessment/src/server/dbma/database.py\u001b\\\u001b[2mdatabase.py\u001b[0m\u001b]8;;\u001b\\\u001b[2m:\u001b[0m\u001b]8;id=218755;file:///usr/local/google/home/codyfincher/Code/database-tools/oracle-database-assessment/src/server/dbma/database.py#160\u001b\\\u001b[2m160\u001b[0m\u001b]8;;\u001b\\\n"
      ]
     },
     "metadata": {},
     "output_type": "display_data"
    },
    {
     "data": {
      "text/html": [
       "<pre style=\"white-space:pre;overflow-x:auto;line-height:normal;font-family:Menlo,'DejaVu Sans Mono',consolas,'Courier New',monospace\"><span style=\"color: #7fbfbf; text-decoration-color: #7fbfbf\">[10/17/22 16:51:24] </span><span style=\"color: #000080; text-decoration-color: #000080\">INFO    </span> delimiter is |                                                         <a href=\"file:///usr/local/google/home/codyfincher/Code/database-tools/oracle-database-assessment/src/server/dbma/database.py\" target=\"_blank\"><span style=\"color: #7f7f7f; text-decoration-color: #7f7f7f\">database.py</span></a><span style=\"color: #7f7f7f; text-decoration-color: #7f7f7f\">:</span><a href=\"file:///usr/local/google/home/codyfincher/Code/database-tools/oracle-database-assessment/src/server/dbma/database.py#153\" target=\"_blank\"><span style=\"color: #7f7f7f; text-decoration-color: #7f7f7f\">153</span></a>\n",
       "</pre>\n"
      ],
      "text/plain": [
       "\u001b[2;36m[10/17/22 16:51:24]\u001b[0m\u001b[2;36m \u001b[0m\u001b[34mINFO    \u001b[0m delimiter is |                                                         \u001b]8;id=638387;file:///usr/local/google/home/codyfincher/Code/database-tools/oracle-database-assessment/src/server/dbma/database.py\u001b\\\u001b[2mdatabase.py\u001b[0m\u001b]8;;\u001b\\\u001b[2m:\u001b[0m\u001b]8;id=380161;file:///usr/local/google/home/codyfincher/Code/database-tools/oracle-database-assessment/src/server/dbma/database.py#153\u001b\\\u001b[2m153\u001b[0m\u001b]8;;\u001b\\\n"
      ]
     },
     "metadata": {},
     "output_type": "display_data"
    },
    {
     "data": {
      "text/html": [
       "<pre style=\"white-space:pre;overflow-x:auto;line-height:normal;font-family:Menlo,'DejaVu Sans Mono',consolas,'Courier New',monospace\"><span style=\"color: #7fbfbf; text-decoration-color: #7fbfbf\">[10/17/22 16:51:24] </span><span style=\"color: #000080; text-decoration-color: #000080\">INFO    </span> <span style=\"color: #808000; text-decoration-color: #808000\">...</span> db_parameters  <span style=\"color: #008000; text-decoration-color: #008000; font-weight: bold\">SUCCESS</span> <span style=\"font-weight: bold\">[</span><span style=\"color: #008080; text-decoration-color: #008080; font-weight: bold\">461</span> <span style=\"color: #800080; text-decoration-color: #800080; font-weight: bold\">rows</span><span style=\"font-weight: bold\">(</span>s<span style=\"font-weight: bold\">)]</span>                               <a href=\"file:///usr/local/google/home/codyfincher/Code/database-tools/oracle-database-assessment/src/server/dbma/database.py\" target=\"_blank\"><span style=\"color: #7f7f7f; text-decoration-color: #7f7f7f\">database.py</span></a><span style=\"color: #7f7f7f; text-decoration-color: #7f7f7f\">:</span><a href=\"file:///usr/local/google/home/codyfincher/Code/database-tools/oracle-database-assessment/src/server/dbma/database.py#160\" target=\"_blank\"><span style=\"color: #7f7f7f; text-decoration-color: #7f7f7f\">160</span></a>\n",
       "</pre>\n"
      ],
      "text/plain": [
       "\u001b[2;36m[10/17/22 16:51:24]\u001b[0m\u001b[2;36m \u001b[0m\u001b[34mINFO    \u001b[0m \u001b[33m...\u001b[0m db_parameters  \u001b[1;32mSUCCESS\u001b[0m \u001b[1m[\u001b[0m\u001b[1;36m461\u001b[0m \u001b[1;35mrows\u001b[0m\u001b[1m(\u001b[0ms\u001b[1m)\u001b[0m\u001b[1m]\u001b[0m                               \u001b]8;id=124000;file:///usr/local/google/home/codyfincher/Code/database-tools/oracle-database-assessment/src/server/dbma/database.py\u001b\\\u001b[2mdatabase.py\u001b[0m\u001b]8;;\u001b\\\u001b[2m:\u001b[0m\u001b]8;id=342851;file:///usr/local/google/home/codyfincher/Code/database-tools/oracle-database-assessment/src/server/dbma/database.py#160\u001b\\\u001b[2m160\u001b[0m\u001b]8;;\u001b\\\n"
      ]
     },
     "metadata": {},
     "output_type": "display_data"
    },
    {
     "data": {
      "text/html": [
       "<pre style=\"white-space:pre;overflow-x:auto;line-height:normal;font-family:Menlo,'DejaVu Sans Mono',consolas,'Courier New',monospace\"><span style=\"color: #7fbfbf; text-decoration-color: #7fbfbf\">[10/17/22 16:51:24] </span><span style=\"color: #000080; text-decoration-color: #000080\">INFO    </span> delimiter is |                                                         <a href=\"file:///usr/local/google/home/codyfincher/Code/database-tools/oracle-database-assessment/src/server/dbma/database.py\" target=\"_blank\"><span style=\"color: #7f7f7f; text-decoration-color: #7f7f7f\">database.py</span></a><span style=\"color: #7f7f7f; text-decoration-color: #7f7f7f\">:</span><a href=\"file:///usr/local/google/home/codyfincher/Code/database-tools/oracle-database-assessment/src/server/dbma/database.py#153\" target=\"_blank\"><span style=\"color: #7f7f7f; text-decoration-color: #7f7f7f\">153</span></a>\n",
       "</pre>\n"
      ],
      "text/plain": [
       "\u001b[2;36m[10/17/22 16:51:24]\u001b[0m\u001b[2;36m \u001b[0m\u001b[34mINFO    \u001b[0m delimiter is |                                                         \u001b]8;id=611057;file:///usr/local/google/home/codyfincher/Code/database-tools/oracle-database-assessment/src/server/dbma/database.py\u001b\\\u001b[2mdatabase.py\u001b[0m\u001b]8;;\u001b\\\u001b[2m:\u001b[0m\u001b]8;id=60998;file:///usr/local/google/home/codyfincher/Code/database-tools/oracle-database-assessment/src/server/dbma/database.py#153\u001b\\\u001b[2m153\u001b[0m\u001b]8;;\u001b\\\n"
      ]
     },
     "metadata": {},
     "output_type": "display_data"
    },
    {
     "data": {
      "text/html": [
       "<pre style=\"white-space:pre;overflow-x:auto;line-height:normal;font-family:Menlo,'DejaVu Sans Mono',consolas,'Courier New',monospace\"><span style=\"color: #7fbfbf; text-decoration-color: #7fbfbf\">[10/17/22 16:51:24] </span><span style=\"color: #000080; text-decoration-color: #000080\">INFO    </span> <span style=\"color: #808000; text-decoration-color: #808000\">...</span> db_summary  <span style=\"color: #008000; text-decoration-color: #008000; font-weight: bold\">SUCCESS</span> <span style=\"font-weight: bold\">[</span><span style=\"color: #008080; text-decoration-color: #008080; font-weight: bold\">1</span> <span style=\"color: #800080; text-decoration-color: #800080; font-weight: bold\">rows</span><span style=\"font-weight: bold\">(</span>s<span style=\"font-weight: bold\">)]</span>                                    <a href=\"file:///usr/local/google/home/codyfincher/Code/database-tools/oracle-database-assessment/src/server/dbma/database.py\" target=\"_blank\"><span style=\"color: #7f7f7f; text-decoration-color: #7f7f7f\">database.py</span></a><span style=\"color: #7f7f7f; text-decoration-color: #7f7f7f\">:</span><a href=\"file:///usr/local/google/home/codyfincher/Code/database-tools/oracle-database-assessment/src/server/dbma/database.py#160\" target=\"_blank\"><span style=\"color: #7f7f7f; text-decoration-color: #7f7f7f\">160</span></a>\n",
       "</pre>\n"
      ],
      "text/plain": [
       "\u001b[2;36m[10/17/22 16:51:24]\u001b[0m\u001b[2;36m \u001b[0m\u001b[34mINFO    \u001b[0m \u001b[33m...\u001b[0m db_summary  \u001b[1;32mSUCCESS\u001b[0m \u001b[1m[\u001b[0m\u001b[1;36m1\u001b[0m \u001b[1;35mrows\u001b[0m\u001b[1m(\u001b[0ms\u001b[1m)\u001b[0m\u001b[1m]\u001b[0m                                    \u001b]8;id=157634;file:///usr/local/google/home/codyfincher/Code/database-tools/oracle-database-assessment/src/server/dbma/database.py\u001b\\\u001b[2mdatabase.py\u001b[0m\u001b]8;;\u001b\\\u001b[2m:\u001b[0m\u001b]8;id=832232;file:///usr/local/google/home/codyfincher/Code/database-tools/oracle-database-assessment/src/server/dbma/database.py#160\u001b\\\u001b[2m160\u001b[0m\u001b]8;;\u001b\\\n"
      ]
     },
     "metadata": {},
     "output_type": "display_data"
    },
    {
     "data": {
      "text/html": [
       "<pre style=\"white-space:pre;overflow-x:auto;line-height:normal;font-family:Menlo,'DejaVu Sans Mono',consolas,'Courier New',monospace\"><span style=\"color: #7fbfbf; text-decoration-color: #7fbfbf\">[10/17/22 16:51:24] </span><span style=\"color: #000080; text-decoration-color: #000080\">INFO    </span> delimiter is |                                                         <a href=\"file:///usr/local/google/home/codyfincher/Code/database-tools/oracle-database-assessment/src/server/dbma/database.py\" target=\"_blank\"><span style=\"color: #7f7f7f; text-decoration-color: #7f7f7f\">database.py</span></a><span style=\"color: #7f7f7f; text-decoration-color: #7f7f7f\">:</span><a href=\"file:///usr/local/google/home/codyfincher/Code/database-tools/oracle-database-assessment/src/server/dbma/database.py#153\" target=\"_blank\"><span style=\"color: #7f7f7f; text-decoration-color: #7f7f7f\">153</span></a>\n",
       "</pre>\n"
      ],
      "text/plain": [
       "\u001b[2;36m[10/17/22 16:51:24]\u001b[0m\u001b[2;36m \u001b[0m\u001b[34mINFO    \u001b[0m delimiter is |                                                         \u001b]8;id=119388;file:///usr/local/google/home/codyfincher/Code/database-tools/oracle-database-assessment/src/server/dbma/database.py\u001b\\\u001b[2mdatabase.py\u001b[0m\u001b]8;;\u001b\\\u001b[2m:\u001b[0m\u001b]8;id=956709;file:///usr/local/google/home/codyfincher/Code/database-tools/oracle-database-assessment/src/server/dbma/database.py#153\u001b\\\u001b[2m153\u001b[0m\u001b]8;;\u001b\\\n"
      ]
     },
     "metadata": {},
     "output_type": "display_data"
    },
    {
     "data": {
      "text/html": [
       "<pre style=\"white-space:pre;overflow-x:auto;line-height:normal;font-family:Menlo,'DejaVu Sans Mono',consolas,'Courier New',monospace\"><span style=\"color: #7fbfbf; text-decoration-color: #7fbfbf\">[10/17/22 16:51:24] </span><span style=\"color: #000080; text-decoration-color: #000080\">INFO    </span> <span style=\"color: #808000; text-decoration-color: #808000\">...</span> db_external_tables  <span style=\"color: #008000; text-decoration-color: #008000; font-weight: bold\">SUCCESS</span> <span style=\"font-weight: bold\">[</span><span style=\"color: #008080; text-decoration-color: #008080; font-weight: bold\">7</span> <span style=\"color: #800080; text-decoration-color: #800080; font-weight: bold\">rows</span><span style=\"font-weight: bold\">(</span>s<span style=\"font-weight: bold\">)]</span>                            <a href=\"file:///usr/local/google/home/codyfincher/Code/database-tools/oracle-database-assessment/src/server/dbma/database.py\" target=\"_blank\"><span style=\"color: #7f7f7f; text-decoration-color: #7f7f7f\">database.py</span></a><span style=\"color: #7f7f7f; text-decoration-color: #7f7f7f\">:</span><a href=\"file:///usr/local/google/home/codyfincher/Code/database-tools/oracle-database-assessment/src/server/dbma/database.py#160\" target=\"_blank\"><span style=\"color: #7f7f7f; text-decoration-color: #7f7f7f\">160</span></a>\n",
       "</pre>\n"
      ],
      "text/plain": [
       "\u001b[2;36m[10/17/22 16:51:24]\u001b[0m\u001b[2;36m \u001b[0m\u001b[34mINFO    \u001b[0m \u001b[33m...\u001b[0m db_external_tables  \u001b[1;32mSUCCESS\u001b[0m \u001b[1m[\u001b[0m\u001b[1;36m7\u001b[0m \u001b[1;35mrows\u001b[0m\u001b[1m(\u001b[0ms\u001b[1m)\u001b[0m\u001b[1m]\u001b[0m                            \u001b]8;id=170953;file:///usr/local/google/home/codyfincher/Code/database-tools/oracle-database-assessment/src/server/dbma/database.py\u001b\\\u001b[2mdatabase.py\u001b[0m\u001b]8;;\u001b\\\u001b[2m:\u001b[0m\u001b]8;id=58038;file:///usr/local/google/home/codyfincher/Code/database-tools/oracle-database-assessment/src/server/dbma/database.py#160\u001b\\\u001b[2m160\u001b[0m\u001b]8;;\u001b\\\n"
      ]
     },
     "metadata": {},
     "output_type": "display_data"
    },
    {
     "data": {
      "text/html": [
       "<pre style=\"white-space:pre;overflow-x:auto;line-height:normal;font-family:Menlo,'DejaVu Sans Mono',consolas,'Courier New',monospace\"><span style=\"color: #7fbfbf; text-decoration-color: #7fbfbf\">[10/17/22 16:51:24] </span><span style=\"color: #000080; text-decoration-color: #000080\">INFO    </span> delimiter is |                                                         <a href=\"file:///usr/local/google/home/codyfincher/Code/database-tools/oracle-database-assessment/src/server/dbma/database.py\" target=\"_blank\"><span style=\"color: #7f7f7f; text-decoration-color: #7f7f7f\">database.py</span></a><span style=\"color: #7f7f7f; text-decoration-color: #7f7f7f\">:</span><a href=\"file:///usr/local/google/home/codyfincher/Code/database-tools/oracle-database-assessment/src/server/dbma/database.py#153\" target=\"_blank\"><span style=\"color: #7f7f7f; text-decoration-color: #7f7f7f\">153</span></a>\n",
       "</pre>\n"
      ],
      "text/plain": [
       "\u001b[2;36m[10/17/22 16:51:24]\u001b[0m\u001b[2;36m \u001b[0m\u001b[34mINFO    \u001b[0m delimiter is |                                                         \u001b]8;id=283435;file:///usr/local/google/home/codyfincher/Code/database-tools/oracle-database-assessment/src/server/dbma/database.py\u001b\\\u001b[2mdatabase.py\u001b[0m\u001b]8;;\u001b\\\u001b[2m:\u001b[0m\u001b]8;id=289562;file:///usr/local/google/home/codyfincher/Code/database-tools/oracle-database-assessment/src/server/dbma/database.py#153\u001b\\\u001b[2m153\u001b[0m\u001b]8;;\u001b\\\n"
      ]
     },
     "metadata": {},
     "output_type": "display_data"
    },
    {
     "data": {
      "text/html": [
       "<pre style=\"white-space:pre;overflow-x:auto;line-height:normal;font-family:Menlo,'DejaVu Sans Mono',consolas,'Courier New',monospace\"><span style=\"color: #7fbfbf; text-decoration-color: #7fbfbf\">[10/17/22 16:51:24] </span><span style=\"color: #000080; text-decoration-color: #000080\">INFO    </span> <span style=\"color: #808000; text-decoration-color: #808000\">...</span> index_per_table  <span style=\"color: #008000; text-decoration-color: #008000; font-weight: bold\">SUCCESS</span> <span style=\"font-weight: bold\">[</span><span style=\"color: #008080; text-decoration-color: #008080; font-weight: bold\">20</span> <span style=\"color: #800080; text-decoration-color: #800080; font-weight: bold\">rows</span><span style=\"font-weight: bold\">(</span>s<span style=\"font-weight: bold\">)]</span>                              <a href=\"file:///usr/local/google/home/codyfincher/Code/database-tools/oracle-database-assessment/src/server/dbma/database.py\" target=\"_blank\"><span style=\"color: #7f7f7f; text-decoration-color: #7f7f7f\">database.py</span></a><span style=\"color: #7f7f7f; text-decoration-color: #7f7f7f\">:</span><a href=\"file:///usr/local/google/home/codyfincher/Code/database-tools/oracle-database-assessment/src/server/dbma/database.py#160\" target=\"_blank\"><span style=\"color: #7f7f7f; text-decoration-color: #7f7f7f\">160</span></a>\n",
       "</pre>\n"
      ],
      "text/plain": [
       "\u001b[2;36m[10/17/22 16:51:24]\u001b[0m\u001b[2;36m \u001b[0m\u001b[34mINFO    \u001b[0m \u001b[33m...\u001b[0m index_per_table  \u001b[1;32mSUCCESS\u001b[0m \u001b[1m[\u001b[0m\u001b[1;36m20\u001b[0m \u001b[1;35mrows\u001b[0m\u001b[1m(\u001b[0ms\u001b[1m)\u001b[0m\u001b[1m]\u001b[0m                              \u001b]8;id=562146;file:///usr/local/google/home/codyfincher/Code/database-tools/oracle-database-assessment/src/server/dbma/database.py\u001b\\\u001b[2mdatabase.py\u001b[0m\u001b]8;;\u001b\\\u001b[2m:\u001b[0m\u001b]8;id=768419;file:///usr/local/google/home/codyfincher/Code/database-tools/oracle-database-assessment/src/server/dbma/database.py#160\u001b\\\u001b[2m160\u001b[0m\u001b]8;;\u001b\\\n"
      ]
     },
     "metadata": {},
     "output_type": "display_data"
    },
    {
     "data": {
      "text/html": [
       "<pre style=\"white-space:pre;overflow-x:auto;line-height:normal;font-family:Menlo,'DejaVu Sans Mono',consolas,'Courier New',monospace\"><span style=\"color: #7fbfbf; text-decoration-color: #7fbfbf\">[10/17/22 16:51:24] </span><span style=\"color: #000080; text-decoration-color: #000080\">INFO    </span> delimiter is |                                                         <a href=\"file:///usr/local/google/home/codyfincher/Code/database-tools/oracle-database-assessment/src/server/dbma/database.py\" target=\"_blank\"><span style=\"color: #7f7f7f; text-decoration-color: #7f7f7f\">database.py</span></a><span style=\"color: #7f7f7f; text-decoration-color: #7f7f7f\">:</span><a href=\"file:///usr/local/google/home/codyfincher/Code/database-tools/oracle-database-assessment/src/server/dbma/database.py#153\" target=\"_blank\"><span style=\"color: #7f7f7f; text-decoration-color: #7f7f7f\">153</span></a>\n",
       "</pre>\n"
      ],
      "text/plain": [
       "\u001b[2;36m[10/17/22 16:51:24]\u001b[0m\u001b[2;36m \u001b[0m\u001b[34mINFO    \u001b[0m delimiter is |                                                         \u001b]8;id=852331;file:///usr/local/google/home/codyfincher/Code/database-tools/oracle-database-assessment/src/server/dbma/database.py\u001b\\\u001b[2mdatabase.py\u001b[0m\u001b]8;;\u001b\\\u001b[2m:\u001b[0m\u001b]8;id=835145;file:///usr/local/google/home/codyfincher/Code/database-tools/oracle-database-assessment/src/server/dbma/database.py#153\u001b\\\u001b[2m153\u001b[0m\u001b]8;;\u001b\\\n"
      ]
     },
     "metadata": {},
     "output_type": "display_data"
    },
    {
     "data": {
      "text/html": [
       "<pre style=\"white-space:pre;overflow-x:auto;line-height:normal;font-family:Menlo,'DejaVu Sans Mono',consolas,'Courier New',monospace\"><span style=\"color: #7fbfbf; text-decoration-color: #7fbfbf\">[10/17/22 16:51:24] </span><span style=\"color: #000080; text-decoration-color: #000080\">INFO    </span> <span style=\"color: #808000; text-decoration-color: #808000\">...</span> index_types  <span style=\"color: #008000; text-decoration-color: #008000; font-weight: bold\">SUCCESS</span> <span style=\"font-weight: bold\">[</span><span style=\"color: #008080; text-decoration-color: #008080; font-weight: bold\">138</span> <span style=\"color: #800080; text-decoration-color: #800080; font-weight: bold\">rows</span><span style=\"font-weight: bold\">(</span>s<span style=\"font-weight: bold\">)]</span>                                 <a href=\"file:///usr/local/google/home/codyfincher/Code/database-tools/oracle-database-assessment/src/server/dbma/database.py\" target=\"_blank\"><span style=\"color: #7f7f7f; text-decoration-color: #7f7f7f\">database.py</span></a><span style=\"color: #7f7f7f; text-decoration-color: #7f7f7f\">:</span><a href=\"file:///usr/local/google/home/codyfincher/Code/database-tools/oracle-database-assessment/src/server/dbma/database.py#160\" target=\"_blank\"><span style=\"color: #7f7f7f; text-decoration-color: #7f7f7f\">160</span></a>\n",
       "</pre>\n"
      ],
      "text/plain": [
       "\u001b[2;36m[10/17/22 16:51:24]\u001b[0m\u001b[2;36m \u001b[0m\u001b[34mINFO    \u001b[0m \u001b[33m...\u001b[0m index_types  \u001b[1;32mSUCCESS\u001b[0m \u001b[1m[\u001b[0m\u001b[1;36m138\u001b[0m \u001b[1;35mrows\u001b[0m\u001b[1m(\u001b[0ms\u001b[1m)\u001b[0m\u001b[1m]\u001b[0m                                 \u001b]8;id=592127;file:///usr/local/google/home/codyfincher/Code/database-tools/oracle-database-assessment/src/server/dbma/database.py\u001b\\\u001b[2mdatabase.py\u001b[0m\u001b]8;;\u001b\\\u001b[2m:\u001b[0m\u001b]8;id=351733;file:///usr/local/google/home/codyfincher/Code/database-tools/oracle-database-assessment/src/server/dbma/database.py#160\u001b\\\u001b[2m160\u001b[0m\u001b]8;;\u001b\\\n"
      ]
     },
     "metadata": {},
     "output_type": "display_data"
    },
    {
     "data": {
      "text/html": [
       "<pre style=\"white-space:pre;overflow-x:auto;line-height:normal;font-family:Menlo,'DejaVu Sans Mono',consolas,'Courier New',monospace\"><span style=\"color: #7fbfbf; text-decoration-color: #7fbfbf\">[10/17/22 16:51:24] </span><span style=\"color: #000080; text-decoration-color: #000080\">INFO    </span> delimiter is |                                                         <a href=\"file:///usr/local/google/home/codyfincher/Code/database-tools/oracle-database-assessment/src/server/dbma/database.py\" target=\"_blank\"><span style=\"color: #7f7f7f; text-decoration-color: #7f7f7f\">database.py</span></a><span style=\"color: #7f7f7f; text-decoration-color: #7f7f7f\">:</span><a href=\"file:///usr/local/google/home/codyfincher/Code/database-tools/oracle-database-assessment/src/server/dbma/database.py#153\" target=\"_blank\"><span style=\"color: #7f7f7f; text-decoration-color: #7f7f7f\">153</span></a>\n",
       "</pre>\n"
      ],
      "text/plain": [
       "\u001b[2;36m[10/17/22 16:51:24]\u001b[0m\u001b[2;36m \u001b[0m\u001b[34mINFO    \u001b[0m delimiter is |                                                         \u001b]8;id=712420;file:///usr/local/google/home/codyfincher/Code/database-tools/oracle-database-assessment/src/server/dbma/database.py\u001b\\\u001b[2mdatabase.py\u001b[0m\u001b]8;;\u001b\\\u001b[2m:\u001b[0m\u001b]8;id=789933;file:///usr/local/google/home/codyfincher/Code/database-tools/oracle-database-assessment/src/server/dbma/database.py#153\u001b\\\u001b[2m153\u001b[0m\u001b]8;;\u001b\\\n"
      ]
     },
     "metadata": {},
     "output_type": "display_data"
    },
    {
     "data": {
      "text/html": [
       "<pre style=\"white-space:pre;overflow-x:auto;line-height:normal;font-family:Menlo,'DejaVu Sans Mono',consolas,'Courier New',monospace\"><span style=\"color: #7fbfbf; text-decoration-color: #7fbfbf\">[10/17/22 16:51:24] </span><span style=\"color: #000080; text-decoration-color: #000080\">INFO    </span> <span style=\"color: #808000; text-decoration-color: #808000\">...</span> io_events  <span style=\"color: #008000; text-decoration-color: #008000; font-weight: bold\">SUCCESS</span> <span style=\"font-weight: bold\">[</span><span style=\"color: #008080; text-decoration-color: #008080; font-weight: bold\">768</span> <span style=\"color: #800080; text-decoration-color: #800080; font-weight: bold\">rows</span><span style=\"font-weight: bold\">(</span>s<span style=\"font-weight: bold\">)]</span>                                   <a href=\"file:///usr/local/google/home/codyfincher/Code/database-tools/oracle-database-assessment/src/server/dbma/database.py\" target=\"_blank\"><span style=\"color: #7f7f7f; text-decoration-color: #7f7f7f\">database.py</span></a><span style=\"color: #7f7f7f; text-decoration-color: #7f7f7f\">:</span><a href=\"file:///usr/local/google/home/codyfincher/Code/database-tools/oracle-database-assessment/src/server/dbma/database.py#160\" target=\"_blank\"><span style=\"color: #7f7f7f; text-decoration-color: #7f7f7f\">160</span></a>\n",
       "</pre>\n"
      ],
      "text/plain": [
       "\u001b[2;36m[10/17/22 16:51:24]\u001b[0m\u001b[2;36m \u001b[0m\u001b[34mINFO    \u001b[0m \u001b[33m...\u001b[0m io_events  \u001b[1;32mSUCCESS\u001b[0m \u001b[1m[\u001b[0m\u001b[1;36m768\u001b[0m \u001b[1;35mrows\u001b[0m\u001b[1m(\u001b[0ms\u001b[1m)\u001b[0m\u001b[1m]\u001b[0m                                   \u001b]8;id=670340;file:///usr/local/google/home/codyfincher/Code/database-tools/oracle-database-assessment/src/server/dbma/database.py\u001b\\\u001b[2mdatabase.py\u001b[0m\u001b]8;;\u001b\\\u001b[2m:\u001b[0m\u001b]8;id=748156;file:///usr/local/google/home/codyfincher/Code/database-tools/oracle-database-assessment/src/server/dbma/database.py#160\u001b\\\u001b[2m160\u001b[0m\u001b]8;;\u001b\\\n"
      ]
     },
     "metadata": {},
     "output_type": "display_data"
    },
    {
     "data": {
      "text/html": [
       "<pre style=\"white-space:pre;overflow-x:auto;line-height:normal;font-family:Menlo,'DejaVu Sans Mono',consolas,'Courier New',monospace\"><span style=\"color: #7fbfbf; text-decoration-color: #7fbfbf\">[10/17/22 16:51:24] </span><span style=\"color: #000080; text-decoration-color: #000080\">INFO    </span> delimiter is |                                                         <a href=\"file:///usr/local/google/home/codyfincher/Code/database-tools/oracle-database-assessment/src/server/dbma/database.py\" target=\"_blank\"><span style=\"color: #7f7f7f; text-decoration-color: #7f7f7f\">database.py</span></a><span style=\"color: #7f7f7f; text-decoration-color: #7f7f7f\">:</span><a href=\"file:///usr/local/google/home/codyfincher/Code/database-tools/oracle-database-assessment/src/server/dbma/database.py#153\" target=\"_blank\"><span style=\"color: #7f7f7f; text-decoration-color: #7f7f7f\">153</span></a>\n",
       "</pre>\n"
      ],
      "text/plain": [
       "\u001b[2;36m[10/17/22 16:51:24]\u001b[0m\u001b[2;36m \u001b[0m\u001b[34mINFO    \u001b[0m delimiter is |                                                         \u001b]8;id=71586;file:///usr/local/google/home/codyfincher/Code/database-tools/oracle-database-assessment/src/server/dbma/database.py\u001b\\\u001b[2mdatabase.py\u001b[0m\u001b]8;;\u001b\\\u001b[2m:\u001b[0m\u001b]8;id=51897;file:///usr/local/google/home/codyfincher/Code/database-tools/oracle-database-assessment/src/server/dbma/database.py#153\u001b\\\u001b[2m153\u001b[0m\u001b]8;;\u001b\\\n"
      ]
     },
     "metadata": {},
     "output_type": "display_data"
    },
    {
     "data": {
      "text/html": [
       "<pre style=\"white-space:pre;overflow-x:auto;line-height:normal;font-family:Menlo,'DejaVu Sans Mono',consolas,'Courier New',monospace\"><span style=\"color: #7fbfbf; text-decoration-color: #7fbfbf\">[10/17/22 16:51:24] </span><span style=\"color: #000080; text-decoration-color: #000080\">INFO    </span> <span style=\"color: #808000; text-decoration-color: #808000\">...</span> io_function  <span style=\"color: #008000; text-decoration-color: #008000; font-weight: bold\">SUCCESS</span> <span style=\"font-weight: bold\">[</span><span style=\"color: #008080; text-decoration-color: #008080; font-weight: bold\">360</span> <span style=\"color: #800080; text-decoration-color: #800080; font-weight: bold\">rows</span><span style=\"font-weight: bold\">(</span>s<span style=\"font-weight: bold\">)]</span>                                 <a href=\"file:///usr/local/google/home/codyfincher/Code/database-tools/oracle-database-assessment/src/server/dbma/database.py\" target=\"_blank\"><span style=\"color: #7f7f7f; text-decoration-color: #7f7f7f\">database.py</span></a><span style=\"color: #7f7f7f; text-decoration-color: #7f7f7f\">:</span><a href=\"file:///usr/local/google/home/codyfincher/Code/database-tools/oracle-database-assessment/src/server/dbma/database.py#160\" target=\"_blank\"><span style=\"color: #7f7f7f; text-decoration-color: #7f7f7f\">160</span></a>\n",
       "</pre>\n"
      ],
      "text/plain": [
       "\u001b[2;36m[10/17/22 16:51:24]\u001b[0m\u001b[2;36m \u001b[0m\u001b[34mINFO    \u001b[0m \u001b[33m...\u001b[0m io_function  \u001b[1;32mSUCCESS\u001b[0m \u001b[1m[\u001b[0m\u001b[1;36m360\u001b[0m \u001b[1;35mrows\u001b[0m\u001b[1m(\u001b[0ms\u001b[1m)\u001b[0m\u001b[1m]\u001b[0m                                 \u001b]8;id=182391;file:///usr/local/google/home/codyfincher/Code/database-tools/oracle-database-assessment/src/server/dbma/database.py\u001b\\\u001b[2mdatabase.py\u001b[0m\u001b]8;;\u001b\\\u001b[2m:\u001b[0m\u001b]8;id=995515;file:///usr/local/google/home/codyfincher/Code/database-tools/oracle-database-assessment/src/server/dbma/database.py#160\u001b\\\u001b[2m160\u001b[0m\u001b]8;;\u001b\\\n"
      ]
     },
     "metadata": {},
     "output_type": "display_data"
    },
    {
     "data": {
      "text/html": [
       "<pre style=\"white-space:pre;overflow-x:auto;line-height:normal;font-family:Menlo,'DejaVu Sans Mono',consolas,'Courier New',monospace\"><span style=\"color: #7fbfbf; text-decoration-color: #7fbfbf\">[10/17/22 16:51:24] </span><span style=\"color: #000080; text-decoration-color: #000080\">INFO    </span> delimiter is |                                                         <a href=\"file:///usr/local/google/home/codyfincher/Code/database-tools/oracle-database-assessment/src/server/dbma/database.py\" target=\"_blank\"><span style=\"color: #7f7f7f; text-decoration-color: #7f7f7f\">database.py</span></a><span style=\"color: #7f7f7f; text-decoration-color: #7f7f7f\">:</span><a href=\"file:///usr/local/google/home/codyfincher/Code/database-tools/oracle-database-assessment/src/server/dbma/database.py#153\" target=\"_blank\"><span style=\"color: #7f7f7f; text-decoration-color: #7f7f7f\">153</span></a>\n",
       "</pre>\n"
      ],
      "text/plain": [
       "\u001b[2;36m[10/17/22 16:51:24]\u001b[0m\u001b[2;36m \u001b[0m\u001b[34mINFO    \u001b[0m delimiter is |                                                         \u001b]8;id=183234;file:///usr/local/google/home/codyfincher/Code/database-tools/oracle-database-assessment/src/server/dbma/database.py\u001b\\\u001b[2mdatabase.py\u001b[0m\u001b]8;;\u001b\\\u001b[2m:\u001b[0m\u001b]8;id=374020;file:///usr/local/google/home/codyfincher/Code/database-tools/oracle-database-assessment/src/server/dbma/database.py#153\u001b\\\u001b[2m153\u001b[0m\u001b]8;;\u001b\\\n"
      ]
     },
     "metadata": {},
     "output_type": "display_data"
    },
    {
     "data": {
      "text/html": [
       "<pre style=\"white-space:pre;overflow-x:auto;line-height:normal;font-family:Menlo,'DejaVu Sans Mono',consolas,'Courier New',monospace\"><span style=\"color: #7fbfbf; text-decoration-color: #7fbfbf\">[10/17/22 16:51:24] </span><span style=\"color: #000080; text-decoration-color: #000080\">INFO    </span> <span style=\"color: #808000; text-decoration-color: #808000\">...</span> pdbs_info  <span style=\"color: #7f7f7f; text-decoration-color: #7f7f7f; font-weight: bold\">SKIPPED</span>                                                 <a href=\"file:///usr/local/google/home/codyfincher/Code/database-tools/oracle-database-assessment/src/server/dbma/database.py\" target=\"_blank\"><span style=\"color: #7f7f7f; text-decoration-color: #7f7f7f\">database.py</span></a><span style=\"color: #7f7f7f; text-decoration-color: #7f7f7f\">:</span><a href=\"file:///usr/local/google/home/codyfincher/Code/database-tools/oracle-database-assessment/src/server/dbma/database.py#163\" target=\"_blank\"><span style=\"color: #7f7f7f; text-decoration-color: #7f7f7f\">163</span></a>\n",
       "</pre>\n"
      ],
      "text/plain": [
       "\u001b[2;36m[10/17/22 16:51:24]\u001b[0m\u001b[2;36m \u001b[0m\u001b[34mINFO    \u001b[0m \u001b[33m...\u001b[0m pdbs_info  \u001b[1;2mSKIPPED\u001b[0m                                                 \u001b]8;id=375876;file:///usr/local/google/home/codyfincher/Code/database-tools/oracle-database-assessment/src/server/dbma/database.py\u001b\\\u001b[2mdatabase.py\u001b[0m\u001b]8;;\u001b\\\u001b[2m:\u001b[0m\u001b]8;id=916481;file:///usr/local/google/home/codyfincher/Code/database-tools/oracle-database-assessment/src/server/dbma/database.py#163\u001b\\\u001b[2m163\u001b[0m\u001b]8;;\u001b\\\n"
      ]
     },
     "metadata": {},
     "output_type": "display_data"
    },
    {
     "data": {
      "text/html": [
       "<pre style=\"white-space:pre;overflow-x:auto;line-height:normal;font-family:Menlo,'DejaVu Sans Mono',consolas,'Courier New',monospace\"><span style=\"color: #7fbfbf; text-decoration-color: #7fbfbf\">[10/17/22 16:51:24] </span><span style=\"color: #000080; text-decoration-color: #000080\">INFO    </span> delimiter is |                                                         <a href=\"file:///usr/local/google/home/codyfincher/Code/database-tools/oracle-database-assessment/src/server/dbma/database.py\" target=\"_blank\"><span style=\"color: #7f7f7f; text-decoration-color: #7f7f7f\">database.py</span></a><span style=\"color: #7f7f7f; text-decoration-color: #7f7f7f\">:</span><a href=\"file:///usr/local/google/home/codyfincher/Code/database-tools/oracle-database-assessment/src/server/dbma/database.py#153\" target=\"_blank\"><span style=\"color: #7f7f7f; text-decoration-color: #7f7f7f\">153</span></a>\n",
       "</pre>\n"
      ],
      "text/plain": [
       "\u001b[2;36m[10/17/22 16:51:24]\u001b[0m\u001b[2;36m \u001b[0m\u001b[34mINFO    \u001b[0m delimiter is |                                                         \u001b]8;id=539772;file:///usr/local/google/home/codyfincher/Code/database-tools/oracle-database-assessment/src/server/dbma/database.py\u001b\\\u001b[2mdatabase.py\u001b[0m\u001b]8;;\u001b\\\u001b[2m:\u001b[0m\u001b]8;id=71149;file:///usr/local/google/home/codyfincher/Code/database-tools/oracle-database-assessment/src/server/dbma/database.py#153\u001b\\\u001b[2m153\u001b[0m\u001b]8;;\u001b\\\n"
      ]
     },
     "metadata": {},
     "output_type": "display_data"
    },
    {
     "data": {
      "text/html": [
       "<pre style=\"white-space:pre;overflow-x:auto;line-height:normal;font-family:Menlo,'DejaVu Sans Mono',consolas,'Courier New',monospace\"><span style=\"color: #7fbfbf; text-decoration-color: #7fbfbf\">[10/17/22 16:51:24] </span><span style=\"color: #000080; text-decoration-color: #000080\">INFO    </span> <span style=\"color: #808000; text-decoration-color: #808000\">...</span> pdbs_in_open_mode  <span style=\"color: #7f7f7f; text-decoration-color: #7f7f7f; font-weight: bold\">SKIPPED</span>                                         <a href=\"file:///usr/local/google/home/codyfincher/Code/database-tools/oracle-database-assessment/src/server/dbma/database.py\" target=\"_blank\"><span style=\"color: #7f7f7f; text-decoration-color: #7f7f7f\">database.py</span></a><span style=\"color: #7f7f7f; text-decoration-color: #7f7f7f\">:</span><a href=\"file:///usr/local/google/home/codyfincher/Code/database-tools/oracle-database-assessment/src/server/dbma/database.py#163\" target=\"_blank\"><span style=\"color: #7f7f7f; text-decoration-color: #7f7f7f\">163</span></a>\n",
       "</pre>\n"
      ],
      "text/plain": [
       "\u001b[2;36m[10/17/22 16:51:24]\u001b[0m\u001b[2;36m \u001b[0m\u001b[34mINFO    \u001b[0m \u001b[33m...\u001b[0m pdbs_in_open_mode  \u001b[1;2mSKIPPED\u001b[0m                                         \u001b]8;id=887576;file:///usr/local/google/home/codyfincher/Code/database-tools/oracle-database-assessment/src/server/dbma/database.py\u001b\\\u001b[2mdatabase.py\u001b[0m\u001b]8;;\u001b\\\u001b[2m:\u001b[0m\u001b]8;id=786395;file:///usr/local/google/home/codyfincher/Code/database-tools/oracle-database-assessment/src/server/dbma/database.py#163\u001b\\\u001b[2m163\u001b[0m\u001b]8;;\u001b\\\n"
      ]
     },
     "metadata": {},
     "output_type": "display_data"
    },
    {
     "data": {
      "text/html": [
       "<pre style=\"white-space:pre;overflow-x:auto;line-height:normal;font-family:Menlo,'DejaVu Sans Mono',consolas,'Courier New',monospace\"><span style=\"color: #7fbfbf; text-decoration-color: #7fbfbf\">[10/17/22 16:51:24] </span><span style=\"color: #000080; text-decoration-color: #000080\">INFO    </span> delimiter is |                                                         <a href=\"file:///usr/local/google/home/codyfincher/Code/database-tools/oracle-database-assessment/src/server/dbma/database.py\" target=\"_blank\"><span style=\"color: #7f7f7f; text-decoration-color: #7f7f7f\">database.py</span></a><span style=\"color: #7f7f7f; text-decoration-color: #7f7f7f\">:</span><a href=\"file:///usr/local/google/home/codyfincher/Code/database-tools/oracle-database-assessment/src/server/dbma/database.py#153\" target=\"_blank\"><span style=\"color: #7f7f7f; text-decoration-color: #7f7f7f\">153</span></a>\n",
       "</pre>\n"
      ],
      "text/plain": [
       "\u001b[2;36m[10/17/22 16:51:24]\u001b[0m\u001b[2;36m \u001b[0m\u001b[34mINFO    \u001b[0m delimiter is |                                                         \u001b]8;id=885298;file:///usr/local/google/home/codyfincher/Code/database-tools/oracle-database-assessment/src/server/dbma/database.py\u001b\\\u001b[2mdatabase.py\u001b[0m\u001b]8;;\u001b\\\u001b[2m:\u001b[0m\u001b]8;id=501865;file:///usr/local/google/home/codyfincher/Code/database-tools/oracle-database-assessment/src/server/dbma/database.py#153\u001b\\\u001b[2m153\u001b[0m\u001b]8;;\u001b\\\n"
      ]
     },
     "metadata": {},
     "output_type": "display_data"
    },
    {
     "data": {
      "text/html": [
       "<pre style=\"white-space:pre;overflow-x:auto;line-height:normal;font-family:Menlo,'DejaVu Sans Mono',consolas,'Courier New',monospace\"><span style=\"color: #7fbfbf; text-decoration-color: #7fbfbf\">[10/17/22 16:51:24] </span><span style=\"color: #000080; text-decoration-color: #000080\">INFO    </span> <span style=\"color: #808000; text-decoration-color: #808000\">...</span> db_source_code  <span style=\"color: #008000; text-decoration-color: #008000; font-weight: bold\">SUCCESS</span> <span style=\"font-weight: bold\">[</span><span style=\"color: #008080; text-decoration-color: #008080; font-weight: bold\">184</span> <span style=\"color: #800080; text-decoration-color: #800080; font-weight: bold\">rows</span><span style=\"font-weight: bold\">(</span>s<span style=\"font-weight: bold\">)]</span>                              <a href=\"file:///usr/local/google/home/codyfincher/Code/database-tools/oracle-database-assessment/src/server/dbma/database.py\" target=\"_blank\"><span style=\"color: #7f7f7f; text-decoration-color: #7f7f7f\">database.py</span></a><span style=\"color: #7f7f7f; text-decoration-color: #7f7f7f\">:</span><a href=\"file:///usr/local/google/home/codyfincher/Code/database-tools/oracle-database-assessment/src/server/dbma/database.py#160\" target=\"_blank\"><span style=\"color: #7f7f7f; text-decoration-color: #7f7f7f\">160</span></a>\n",
       "</pre>\n"
      ],
      "text/plain": [
       "\u001b[2;36m[10/17/22 16:51:24]\u001b[0m\u001b[2;36m \u001b[0m\u001b[34mINFO    \u001b[0m \u001b[33m...\u001b[0m db_source_code  \u001b[1;32mSUCCESS\u001b[0m \u001b[1m[\u001b[0m\u001b[1;36m184\u001b[0m \u001b[1;35mrows\u001b[0m\u001b[1m(\u001b[0ms\u001b[1m)\u001b[0m\u001b[1m]\u001b[0m                              \u001b]8;id=945268;file:///usr/local/google/home/codyfincher/Code/database-tools/oracle-database-assessment/src/server/dbma/database.py\u001b\\\u001b[2mdatabase.py\u001b[0m\u001b]8;;\u001b\\\u001b[2m:\u001b[0m\u001b]8;id=129486;file:///usr/local/google/home/codyfincher/Code/database-tools/oracle-database-assessment/src/server/dbma/database.py#160\u001b\\\u001b[2m160\u001b[0m\u001b]8;;\u001b\\\n"
      ]
     },
     "metadata": {},
     "output_type": "display_data"
    },
    {
     "data": {
      "text/html": [
       "<pre style=\"white-space:pre;overflow-x:auto;line-height:normal;font-family:Menlo,'DejaVu Sans Mono',consolas,'Courier New',monospace\"><span style=\"color: #7fbfbf; text-decoration-color: #7fbfbf\">[10/17/22 16:51:24] </span><span style=\"color: #000080; text-decoration-color: #000080\">INFO    </span> delimiter is |                                                         <a href=\"file:///usr/local/google/home/codyfincher/Code/database-tools/oracle-database-assessment/src/server/dbma/database.py\" target=\"_blank\"><span style=\"color: #7f7f7f; text-decoration-color: #7f7f7f\">database.py</span></a><span style=\"color: #7f7f7f; text-decoration-color: #7f7f7f\">:</span><a href=\"file:///usr/local/google/home/codyfincher/Code/database-tools/oracle-database-assessment/src/server/dbma/database.py#153\" target=\"_blank\"><span style=\"color: #7f7f7f; text-decoration-color: #7f7f7f\">153</span></a>\n",
       "</pre>\n"
      ],
      "text/plain": [
       "\u001b[2;36m[10/17/22 16:51:24]\u001b[0m\u001b[2;36m \u001b[0m\u001b[34mINFO    \u001b[0m delimiter is |                                                         \u001b]8;id=556436;file:///usr/local/google/home/codyfincher/Code/database-tools/oracle-database-assessment/src/server/dbma/database.py\u001b\\\u001b[2mdatabase.py\u001b[0m\u001b]8;;\u001b\\\u001b[2m:\u001b[0m\u001b]8;id=833402;file:///usr/local/google/home/codyfincher/Code/database-tools/oracle-database-assessment/src/server/dbma/database.py#153\u001b\\\u001b[2m153\u001b[0m\u001b]8;;\u001b\\\n"
      ]
     },
     "metadata": {},
     "output_type": "display_data"
    },
    {
     "data": {
      "text/html": [
       "<pre style=\"white-space:pre;overflow-x:auto;line-height:normal;font-family:Menlo,'DejaVu Sans Mono',consolas,'Courier New',monospace\"><span style=\"color: #7fbfbf; text-decoration-color: #7fbfbf\">[10/17/22 16:51:24] </span><span style=\"color: #000080; text-decoration-color: #000080\">INFO    </span> <span style=\"color: #808000; text-decoration-color: #808000\">...</span> db_source_connections  <span style=\"color: #008000; text-decoration-color: #008000; font-weight: bold\">SUCCESS</span> <span style=\"font-weight: bold\">[</span><span style=\"color: #008080; text-decoration-color: #008080; font-weight: bold\">13885</span> <span style=\"color: #800080; text-decoration-color: #800080; font-weight: bold\">rows</span><span style=\"font-weight: bold\">(</span>s<span style=\"font-weight: bold\">)]</span>                     <a href=\"file:///usr/local/google/home/codyfincher/Code/database-tools/oracle-database-assessment/src/server/dbma/database.py\" target=\"_blank\"><span style=\"color: #7f7f7f; text-decoration-color: #7f7f7f\">database.py</span></a><span style=\"color: #7f7f7f; text-decoration-color: #7f7f7f\">:</span><a href=\"file:///usr/local/google/home/codyfincher/Code/database-tools/oracle-database-assessment/src/server/dbma/database.py#160\" target=\"_blank\"><span style=\"color: #7f7f7f; text-decoration-color: #7f7f7f\">160</span></a>\n",
       "</pre>\n"
      ],
      "text/plain": [
       "\u001b[2;36m[10/17/22 16:51:24]\u001b[0m\u001b[2;36m \u001b[0m\u001b[34mINFO    \u001b[0m \u001b[33m...\u001b[0m db_source_connections  \u001b[1;32mSUCCESS\u001b[0m \u001b[1m[\u001b[0m\u001b[1;36m13885\u001b[0m \u001b[1;35mrows\u001b[0m\u001b[1m(\u001b[0ms\u001b[1m)\u001b[0m\u001b[1m]\u001b[0m                     \u001b]8;id=261094;file:///usr/local/google/home/codyfincher/Code/database-tools/oracle-database-assessment/src/server/dbma/database.py\u001b\\\u001b[2mdatabase.py\u001b[0m\u001b]8;;\u001b\\\u001b[2m:\u001b[0m\u001b]8;id=165364;file:///usr/local/google/home/codyfincher/Code/database-tools/oracle-database-assessment/src/server/dbma/database.py#160\u001b\\\u001b[2m160\u001b[0m\u001b]8;;\u001b\\\n"
      ]
     },
     "metadata": {},
     "output_type": "display_data"
    },
    {
     "data": {
      "text/html": [
       "<pre style=\"white-space:pre;overflow-x:auto;line-height:normal;font-family:Menlo,'DejaVu Sans Mono',consolas,'Courier New',monospace\"><span style=\"color: #7fbfbf; text-decoration-color: #7fbfbf\">[10/17/22 16:51:24] </span><span style=\"color: #000080; text-decoration-color: #000080\">INFO    </span> delimiter is |                                                         <a href=\"file:///usr/local/google/home/codyfincher/Code/database-tools/oracle-database-assessment/src/server/dbma/database.py\" target=\"_blank\"><span style=\"color: #7f7f7f; text-decoration-color: #7f7f7f\">database.py</span></a><span style=\"color: #7f7f7f; text-decoration-color: #7f7f7f\">:</span><a href=\"file:///usr/local/google/home/codyfincher/Code/database-tools/oracle-database-assessment/src/server/dbma/database.py#153\" target=\"_blank\"><span style=\"color: #7f7f7f; text-decoration-color: #7f7f7f\">153</span></a>\n",
       "</pre>\n"
      ],
      "text/plain": [
       "\u001b[2;36m[10/17/22 16:51:24]\u001b[0m\u001b[2;36m \u001b[0m\u001b[34mINFO    \u001b[0m delimiter is |                                                         \u001b]8;id=30293;file:///usr/local/google/home/codyfincher/Code/database-tools/oracle-database-assessment/src/server/dbma/database.py\u001b\\\u001b[2mdatabase.py\u001b[0m\u001b]8;;\u001b\\\u001b[2m:\u001b[0m\u001b]8;id=31222;file:///usr/local/google/home/codyfincher/Code/database-tools/oracle-database-assessment/src/server/dbma/database.py#153\u001b\\\u001b[2m153\u001b[0m\u001b]8;;\u001b\\\n"
      ]
     },
     "metadata": {},
     "output_type": "display_data"
    },
    {
     "data": {
      "text/html": [
       "<pre style=\"white-space:pre;overflow-x:auto;line-height:normal;font-family:Menlo,'DejaVu Sans Mono',consolas,'Courier New',monospace\"><span style=\"color: #7fbfbf; text-decoration-color: #7fbfbf\">[10/17/22 16:51:24] </span><span style=\"color: #000080; text-decoration-color: #000080\">INFO    </span> <span style=\"color: #808000; text-decoration-color: #808000\">...</span> db_sql_stats  <span style=\"color: #008000; text-decoration-color: #008000; font-weight: bold\">SUCCESS</span> <span style=\"font-weight: bold\">[</span><span style=\"color: #008080; text-decoration-color: #008080; font-weight: bold\">299</span> <span style=\"color: #800080; text-decoration-color: #800080; font-weight: bold\">rows</span><span style=\"font-weight: bold\">(</span>s<span style=\"font-weight: bold\">)]</span>                                <a href=\"file:///usr/local/google/home/codyfincher/Code/database-tools/oracle-database-assessment/src/server/dbma/database.py\" target=\"_blank\"><span style=\"color: #7f7f7f; text-decoration-color: #7f7f7f\">database.py</span></a><span style=\"color: #7f7f7f; text-decoration-color: #7f7f7f\">:</span><a href=\"file:///usr/local/google/home/codyfincher/Code/database-tools/oracle-database-assessment/src/server/dbma/database.py#160\" target=\"_blank\"><span style=\"color: #7f7f7f; text-decoration-color: #7f7f7f\">160</span></a>\n",
       "</pre>\n"
      ],
      "text/plain": [
       "\u001b[2;36m[10/17/22 16:51:24]\u001b[0m\u001b[2;36m \u001b[0m\u001b[34mINFO    \u001b[0m \u001b[33m...\u001b[0m db_sql_stats  \u001b[1;32mSUCCESS\u001b[0m \u001b[1m[\u001b[0m\u001b[1;36m299\u001b[0m \u001b[1;35mrows\u001b[0m\u001b[1m(\u001b[0ms\u001b[1m)\u001b[0m\u001b[1m]\u001b[0m                                \u001b]8;id=434842;file:///usr/local/google/home/codyfincher/Code/database-tools/oracle-database-assessment/src/server/dbma/database.py\u001b\\\u001b[2mdatabase.py\u001b[0m\u001b]8;;\u001b\\\u001b[2m:\u001b[0m\u001b]8;id=852976;file:///usr/local/google/home/codyfincher/Code/database-tools/oracle-database-assessment/src/server/dbma/database.py#160\u001b\\\u001b[2m160\u001b[0m\u001b]8;;\u001b\\\n"
      ]
     },
     "metadata": {},
     "output_type": "display_data"
    },
    {
     "data": {
      "text/html": [
       "<pre style=\"white-space:pre;overflow-x:auto;line-height:normal;font-family:Menlo,'DejaVu Sans Mono',consolas,'Courier New',monospace\"><span style=\"color: #7fbfbf; text-decoration-color: #7fbfbf\">[10/17/22 16:51:24] </span><span style=\"color: #000080; text-decoration-color: #000080\">INFO    </span> delimiter is |                                                         <a href=\"file:///usr/local/google/home/codyfincher/Code/database-tools/oracle-database-assessment/src/server/dbma/database.py\" target=\"_blank\"><span style=\"color: #7f7f7f; text-decoration-color: #7f7f7f\">database.py</span></a><span style=\"color: #7f7f7f; text-decoration-color: #7f7f7f\">:</span><a href=\"file:///usr/local/google/home/codyfincher/Code/database-tools/oracle-database-assessment/src/server/dbma/database.py#153\" target=\"_blank\"><span style=\"color: #7f7f7f; text-decoration-color: #7f7f7f\">153</span></a>\n",
       "</pre>\n"
      ],
      "text/plain": [
       "\u001b[2;36m[10/17/22 16:51:24]\u001b[0m\u001b[2;36m \u001b[0m\u001b[34mINFO    \u001b[0m delimiter is |                                                         \u001b]8;id=345364;file:///usr/local/google/home/codyfincher/Code/database-tools/oracle-database-assessment/src/server/dbma/database.py\u001b\\\u001b[2mdatabase.py\u001b[0m\u001b]8;;\u001b\\\u001b[2m:\u001b[0m\u001b]8;id=763509;file:///usr/local/google/home/codyfincher/Code/database-tools/oracle-database-assessment/src/server/dbma/database.py#153\u001b\\\u001b[2m153\u001b[0m\u001b]8;;\u001b\\\n"
      ]
     },
     "metadata": {},
     "output_type": "display_data"
    },
    {
     "data": {
      "text/html": [
       "<pre style=\"white-space:pre;overflow-x:auto;line-height:normal;font-family:Menlo,'DejaVu Sans Mono',consolas,'Courier New',monospace\"><span style=\"color: #7fbfbf; text-decoration-color: #7fbfbf\">[10/17/22 16:51:24] </span><span style=\"color: #000080; text-decoration-color: #000080\">INFO    </span> <span style=\"color: #808000; text-decoration-color: #808000\">...</span> db_constraint_summary  <span style=\"color: #008000; text-decoration-color: #008000; font-weight: bold\">SUCCESS</span> <span style=\"font-weight: bold\">[</span><span style=\"color: #008080; text-decoration-color: #008080; font-weight: bold\">123</span> <span style=\"color: #800080; text-decoration-color: #800080; font-weight: bold\">rows</span><span style=\"font-weight: bold\">(</span>s<span style=\"font-weight: bold\">)]</span>                       <a href=\"file:///usr/local/google/home/codyfincher/Code/database-tools/oracle-database-assessment/src/server/dbma/database.py\" target=\"_blank\"><span style=\"color: #7f7f7f; text-decoration-color: #7f7f7f\">database.py</span></a><span style=\"color: #7f7f7f; text-decoration-color: #7f7f7f\">:</span><a href=\"file:///usr/local/google/home/codyfincher/Code/database-tools/oracle-database-assessment/src/server/dbma/database.py#160\" target=\"_blank\"><span style=\"color: #7f7f7f; text-decoration-color: #7f7f7f\">160</span></a>\n",
       "</pre>\n"
      ],
      "text/plain": [
       "\u001b[2;36m[10/17/22 16:51:24]\u001b[0m\u001b[2;36m \u001b[0m\u001b[34mINFO    \u001b[0m \u001b[33m...\u001b[0m db_constraint_summary  \u001b[1;32mSUCCESS\u001b[0m \u001b[1m[\u001b[0m\u001b[1;36m123\u001b[0m \u001b[1;35mrows\u001b[0m\u001b[1m(\u001b[0ms\u001b[1m)\u001b[0m\u001b[1m]\u001b[0m                       \u001b]8;id=183509;file:///usr/local/google/home/codyfincher/Code/database-tools/oracle-database-assessment/src/server/dbma/database.py\u001b\\\u001b[2mdatabase.py\u001b[0m\u001b]8;;\u001b\\\u001b[2m:\u001b[0m\u001b]8;id=615197;file:///usr/local/google/home/codyfincher/Code/database-tools/oracle-database-assessment/src/server/dbma/database.py#160\u001b\\\u001b[2m160\u001b[0m\u001b]8;;\u001b\\\n"
      ]
     },
     "metadata": {},
     "output_type": "display_data"
    },
    {
     "data": {
      "text/html": [
       "<pre style=\"white-space:pre;overflow-x:auto;line-height:normal;font-family:Menlo,'DejaVu Sans Mono',consolas,'Courier New',monospace\"><span style=\"color: #7fbfbf; text-decoration-color: #7fbfbf\">[10/17/22 16:51:24] </span><span style=\"color: #000080; text-decoration-color: #000080\">INFO    </span> delimiter is |                                                         <a href=\"file:///usr/local/google/home/codyfincher/Code/database-tools/oracle-database-assessment/src/server/dbma/database.py\" target=\"_blank\"><span style=\"color: #7f7f7f; text-decoration-color: #7f7f7f\">database.py</span></a><span style=\"color: #7f7f7f; text-decoration-color: #7f7f7f\">:</span><a href=\"file:///usr/local/google/home/codyfincher/Code/database-tools/oracle-database-assessment/src/server/dbma/database.py#153\" target=\"_blank\"><span style=\"color: #7f7f7f; text-decoration-color: #7f7f7f\">153</span></a>\n",
       "</pre>\n"
      ],
      "text/plain": [
       "\u001b[2;36m[10/17/22 16:51:24]\u001b[0m\u001b[2;36m \u001b[0m\u001b[34mINFO    \u001b[0m delimiter is |                                                         \u001b]8;id=528848;file:///usr/local/google/home/codyfincher/Code/database-tools/oracle-database-assessment/src/server/dbma/database.py\u001b\\\u001b[2mdatabase.py\u001b[0m\u001b]8;;\u001b\\\u001b[2m:\u001b[0m\u001b]8;id=454225;file:///usr/local/google/home/codyfincher/Code/database-tools/oracle-database-assessment/src/server/dbma/database.py#153\u001b\\\u001b[2m153\u001b[0m\u001b]8;;\u001b\\\n"
      ]
     },
     "metadata": {},
     "output_type": "display_data"
    },
    {
     "data": {
      "text/html": [
       "<pre style=\"white-space:pre;overflow-x:auto;line-height:normal;font-family:Menlo,'DejaVu Sans Mono',consolas,'Courier New',monospace\"><span style=\"color: #7fbfbf; text-decoration-color: #7fbfbf\">[10/17/22 16:51:24] </span><span style=\"color: #000080; text-decoration-color: #000080\">INFO    </span> <span style=\"color: #808000; text-decoration-color: #808000\">...</span> db_used_space_details  <span style=\"color: #008000; text-decoration-color: #008000; font-weight: bold\">SUCCESS</span> <span style=\"font-weight: bold\">[</span><span style=\"color: #008080; text-decoration-color: #008080; font-weight: bold\">284</span> <span style=\"color: #800080; text-decoration-color: #800080; font-weight: bold\">rows</span><span style=\"font-weight: bold\">(</span>s<span style=\"font-weight: bold\">)]</span>                       <a href=\"file:///usr/local/google/home/codyfincher/Code/database-tools/oracle-database-assessment/src/server/dbma/database.py\" target=\"_blank\"><span style=\"color: #7f7f7f; text-decoration-color: #7f7f7f\">database.py</span></a><span style=\"color: #7f7f7f; text-decoration-color: #7f7f7f\">:</span><a href=\"file:///usr/local/google/home/codyfincher/Code/database-tools/oracle-database-assessment/src/server/dbma/database.py#160\" target=\"_blank\"><span style=\"color: #7f7f7f; text-decoration-color: #7f7f7f\">160</span></a>\n",
       "</pre>\n"
      ],
      "text/plain": [
       "\u001b[2;36m[10/17/22 16:51:24]\u001b[0m\u001b[2;36m \u001b[0m\u001b[34mINFO    \u001b[0m \u001b[33m...\u001b[0m db_used_space_details  \u001b[1;32mSUCCESS\u001b[0m \u001b[1m[\u001b[0m\u001b[1;36m284\u001b[0m \u001b[1;35mrows\u001b[0m\u001b[1m(\u001b[0ms\u001b[1m)\u001b[0m\u001b[1m]\u001b[0m                       \u001b]8;id=678947;file:///usr/local/google/home/codyfincher/Code/database-tools/oracle-database-assessment/src/server/dbma/database.py\u001b\\\u001b[2mdatabase.py\u001b[0m\u001b]8;;\u001b\\\u001b[2m:\u001b[0m\u001b]8;id=99133;file:///usr/local/google/home/codyfincher/Code/database-tools/oracle-database-assessment/src/server/dbma/database.py#160\u001b\\\u001b[2m160\u001b[0m\u001b]8;;\u001b\\\n"
      ]
     },
     "metadata": {},
     "output_type": "display_data"
    },
    {
     "data": {
      "text/html": [
       "<pre style=\"white-space:pre;overflow-x:auto;line-height:normal;font-family:Menlo,'DejaVu Sans Mono',consolas,'Courier New',monospace\"><span style=\"color: #7fbfbf; text-decoration-color: #7fbfbf\">[10/17/22 16:51:24] </span><span style=\"color: #000080; text-decoration-color: #000080\">INFO    </span> delimiter is |                                                         <a href=\"file:///usr/local/google/home/codyfincher/Code/database-tools/oracle-database-assessment/src/server/dbma/database.py\" target=\"_blank\"><span style=\"color: #7f7f7f; text-decoration-color: #7f7f7f\">database.py</span></a><span style=\"color: #7f7f7f; text-decoration-color: #7f7f7f\">:</span><a href=\"file:///usr/local/google/home/codyfincher/Code/database-tools/oracle-database-assessment/src/server/dbma/database.py#153\" target=\"_blank\"><span style=\"color: #7f7f7f; text-decoration-color: #7f7f7f\">153</span></a>\n",
       "</pre>\n"
      ],
      "text/plain": [
       "\u001b[2;36m[10/17/22 16:51:24]\u001b[0m\u001b[2;36m \u001b[0m\u001b[34mINFO    \u001b[0m delimiter is |                                                         \u001b]8;id=799299;file:///usr/local/google/home/codyfincher/Code/database-tools/oracle-database-assessment/src/server/dbma/database.py\u001b\\\u001b[2mdatabase.py\u001b[0m\u001b]8;;\u001b\\\u001b[2m:\u001b[0m\u001b]8;id=65774;file:///usr/local/google/home/codyfincher/Code/database-tools/oracle-database-assessment/src/server/dbma/database.py#153\u001b\\\u001b[2m153\u001b[0m\u001b]8;;\u001b\\\n"
      ]
     },
     "metadata": {},
     "output_type": "display_data"
    },
    {
     "data": {
      "text/html": [
       "<pre style=\"white-space:pre;overflow-x:auto;line-height:normal;font-family:Menlo,'DejaVu Sans Mono',consolas,'Courier New',monospace\"><span style=\"color: #7fbfbf; text-decoration-color: #7fbfbf\">[10/17/22 16:51:24] </span><span style=\"color: #000080; text-decoration-color: #000080\">INFO    </span> <span style=\"color: #808000; text-decoration-color: #808000\">...</span> db_user_tablespace_segments  <span style=\"color: #008000; text-decoration-color: #008000; font-weight: bold\">SUCCESS</span> <span style=\"font-weight: bold\">[</span><span style=\"color: #008080; text-decoration-color: #008080; font-weight: bold\">4</span> <span style=\"color: #800080; text-decoration-color: #800080; font-weight: bold\">rows</span><span style=\"font-weight: bold\">(</span>s<span style=\"font-weight: bold\">)]</span>                   <a href=\"file:///usr/local/google/home/codyfincher/Code/database-tools/oracle-database-assessment/src/server/dbma/database.py\" target=\"_blank\"><span style=\"color: #7f7f7f; text-decoration-color: #7f7f7f\">database.py</span></a><span style=\"color: #7f7f7f; text-decoration-color: #7f7f7f\">:</span><a href=\"file:///usr/local/google/home/codyfincher/Code/database-tools/oracle-database-assessment/src/server/dbma/database.py#160\" target=\"_blank\"><span style=\"color: #7f7f7f; text-decoration-color: #7f7f7f\">160</span></a>\n",
       "</pre>\n"
      ],
      "text/plain": [
       "\u001b[2;36m[10/17/22 16:51:24]\u001b[0m\u001b[2;36m \u001b[0m\u001b[34mINFO    \u001b[0m \u001b[33m...\u001b[0m db_user_tablespace_segments  \u001b[1;32mSUCCESS\u001b[0m \u001b[1m[\u001b[0m\u001b[1;36m4\u001b[0m \u001b[1;35mrows\u001b[0m\u001b[1m(\u001b[0ms\u001b[1m)\u001b[0m\u001b[1m]\u001b[0m                   \u001b]8;id=381739;file:///usr/local/google/home/codyfincher/Code/database-tools/oracle-database-assessment/src/server/dbma/database.py\u001b\\\u001b[2mdatabase.py\u001b[0m\u001b]8;;\u001b\\\u001b[2m:\u001b[0m\u001b]8;id=395702;file:///usr/local/google/home/codyfincher/Code/database-tools/oracle-database-assessment/src/server/dbma/database.py#160\u001b\\\u001b[2m160\u001b[0m\u001b]8;;\u001b\\\n"
      ]
     },
     "metadata": {},
     "output_type": "display_data"
    },
    {
     "data": {
      "text/html": [
       "<pre style=\"white-space:pre;overflow-x:auto;line-height:normal;font-family:Menlo,'DejaVu Sans Mono',consolas,'Courier New',monospace\"><span style=\"color: #7fbfbf; text-decoration-color: #7fbfbf\">[10/17/22 16:51:30] </span><span style=\"color: #000080; text-decoration-color: #000080\">INFO    </span> <span style=\"font-weight: bold\">[]</span>                                                                        <a href=\"file:///usr/local/google/home/codyfincher/Code/database-tools/oracle-database-assessment/src/server/dbma/transformer/engine.py\" target=\"_blank\"><span style=\"color: #7f7f7f; text-decoration-color: #7f7f7f\">engine.py</span></a><span style=\"color: #7f7f7f; text-decoration-color: #7f7f7f\">:</span><a href=\"file:///usr/local/google/home/codyfincher/Code/database-tools/oracle-database-assessment/src/server/dbma/transformer/engine.py#87\" target=\"_blank\"><span style=\"color: #7f7f7f; text-decoration-color: #7f7f7f\">87</span></a>\n",
       "</pre>\n"
      ],
      "text/plain": [
       "\u001b[2;36m[10/17/22 16:51:30]\u001b[0m\u001b[2;36m \u001b[0m\u001b[34mINFO    \u001b[0m \u001b[1m[\u001b[0m\u001b[1m]\u001b[0m                                                                        \u001b]8;id=265511;file:///usr/local/google/home/codyfincher/Code/database-tools/oracle-database-assessment/src/server/dbma/transformer/engine.py\u001b\\\u001b[2mengine.py\u001b[0m\u001b]8;;\u001b\\\u001b[2m:\u001b[0m\u001b]8;id=607069;file:///usr/local/google/home/codyfincher/Code/database-tools/oracle-database-assessment/src/server/dbma/transformer/engine.py#87\u001b\\\u001b[2m87\u001b[0m\u001b]8;;\u001b\\\n"
      ]
     },
     "metadata": {},
     "output_type": "display_data"
    },
    {
     "data": {
      "text/html": [
       "<pre style=\"white-space:pre;overflow-x:auto;line-height:normal;font-family:Menlo,'DejaVu Sans Mono',consolas,'Courier New',monospace\"><span style=\"color: #7fbfbf; text-decoration-color: #7fbfbf\">[10/17/22 16:51:30] </span><span style=\"color: #000080; text-decoration-color: #000080\">INFO    </span> delimiter is |                                                         <a href=\"file:///usr/local/google/home/codyfincher/Code/database-tools/oracle-database-assessment/src/server/dbma/database.py\" target=\"_blank\"><span style=\"color: #7f7f7f; text-decoration-color: #7f7f7f\">database.py</span></a><span style=\"color: #7f7f7f; text-decoration-color: #7f7f7f\">:</span><a href=\"file:///usr/local/google/home/codyfincher/Code/database-tools/oracle-database-assessment/src/server/dbma/database.py#153\" target=\"_blank\"><span style=\"color: #7f7f7f; text-decoration-color: #7f7f7f\">153</span></a>\n",
       "</pre>\n"
      ],
      "text/plain": [
       "\u001b[2;36m[10/17/22 16:51:30]\u001b[0m\u001b[2;36m \u001b[0m\u001b[34mINFO    \u001b[0m delimiter is |                                                         \u001b]8;id=110803;file:///usr/local/google/home/codyfincher/Code/database-tools/oracle-database-assessment/src/server/dbma/database.py\u001b\\\u001b[2mdatabase.py\u001b[0m\u001b]8;;\u001b\\\u001b[2m:\u001b[0m\u001b]8;id=54553;file:///usr/local/google/home/codyfincher/Code/database-tools/oracle-database-assessment/src/server/dbma/database.py#153\u001b\\\u001b[2m153\u001b[0m\u001b]8;;\u001b\\\n"
      ]
     },
     "metadata": {},
     "output_type": "display_data"
    },
    {
     "data": {
      "text/html": [
       "<pre style=\"white-space:pre;overflow-x:auto;line-height:normal;font-family:Menlo,'DejaVu Sans Mono',consolas,'Courier New',monospace\"><span style=\"color: #7fbfbf; text-decoration-color: #7fbfbf\">[10/17/22 16:51:30] </span><span style=\"color: #000080; text-decoration-color: #000080\">INFO    </span> <span style=\"color: #808000; text-decoration-color: #808000\">...</span> awr_hist_cmd_types  <span style=\"color: #008000; text-decoration-color: #008000; font-weight: bold\">SUCCESS</span> <span style=\"font-weight: bold\">[</span><span style=\"color: #008080; text-decoration-color: #008080; font-weight: bold\">214</span> <span style=\"color: #800080; text-decoration-color: #800080; font-weight: bold\">rows</span><span style=\"font-weight: bold\">(</span>s<span style=\"font-weight: bold\">)]</span>                          <a href=\"file:///usr/local/google/home/codyfincher/Code/database-tools/oracle-database-assessment/src/server/dbma/database.py\" target=\"_blank\"><span style=\"color: #7f7f7f; text-decoration-color: #7f7f7f\">database.py</span></a><span style=\"color: #7f7f7f; text-decoration-color: #7f7f7f\">:</span><a href=\"file:///usr/local/google/home/codyfincher/Code/database-tools/oracle-database-assessment/src/server/dbma/database.py#160\" target=\"_blank\"><span style=\"color: #7f7f7f; text-decoration-color: #7f7f7f\">160</span></a>\n",
       "</pre>\n"
      ],
      "text/plain": [
       "\u001b[2;36m[10/17/22 16:51:30]\u001b[0m\u001b[2;36m \u001b[0m\u001b[34mINFO    \u001b[0m \u001b[33m...\u001b[0m awr_hist_cmd_types  \u001b[1;32mSUCCESS\u001b[0m \u001b[1m[\u001b[0m\u001b[1;36m214\u001b[0m \u001b[1;35mrows\u001b[0m\u001b[1m(\u001b[0ms\u001b[1m)\u001b[0m\u001b[1m]\u001b[0m                          \u001b]8;id=483210;file:///usr/local/google/home/codyfincher/Code/database-tools/oracle-database-assessment/src/server/dbma/database.py\u001b\\\u001b[2mdatabase.py\u001b[0m\u001b]8;;\u001b\\\u001b[2m:\u001b[0m\u001b]8;id=218630;file:///usr/local/google/home/codyfincher/Code/database-tools/oracle-database-assessment/src/server/dbma/database.py#160\u001b\\\u001b[2m160\u001b[0m\u001b]8;;\u001b\\\n"
      ]
     },
     "metadata": {},
     "output_type": "display_data"
    },
    {
     "data": {
      "text/html": [
       "<pre style=\"white-space:pre;overflow-x:auto;line-height:normal;font-family:Menlo,'DejaVu Sans Mono',consolas,'Courier New',monospace\"><span style=\"color: #7fbfbf; text-decoration-color: #7fbfbf\">[10/17/22 16:51:30] </span><span style=\"color: #000080; text-decoration-color: #000080\">INFO    </span> delimiter is |                                                         <a href=\"file:///usr/local/google/home/codyfincher/Code/database-tools/oracle-database-assessment/src/server/dbma/database.py\" target=\"_blank\"><span style=\"color: #7f7f7f; text-decoration-color: #7f7f7f\">database.py</span></a><span style=\"color: #7f7f7f; text-decoration-color: #7f7f7f\">:</span><a href=\"file:///usr/local/google/home/codyfincher/Code/database-tools/oracle-database-assessment/src/server/dbma/database.py#153\" target=\"_blank\"><span style=\"color: #7f7f7f; text-decoration-color: #7f7f7f\">153</span></a>\n",
       "</pre>\n"
      ],
      "text/plain": [
       "\u001b[2;36m[10/17/22 16:51:30]\u001b[0m\u001b[2;36m \u001b[0m\u001b[34mINFO    \u001b[0m delimiter is |                                                         \u001b]8;id=806007;file:///usr/local/google/home/codyfincher/Code/database-tools/oracle-database-assessment/src/server/dbma/database.py\u001b\\\u001b[2mdatabase.py\u001b[0m\u001b]8;;\u001b\\\u001b[2m:\u001b[0m\u001b]8;id=81531;file:///usr/local/google/home/codyfincher/Code/database-tools/oracle-database-assessment/src/server/dbma/database.py#153\u001b\\\u001b[2m153\u001b[0m\u001b]8;;\u001b\\\n"
      ]
     },
     "metadata": {},
     "output_type": "display_data"
    },
    {
     "data": {
      "text/html": [
       "<pre style=\"white-space:pre;overflow-x:auto;line-height:normal;font-family:Menlo,'DejaVu Sans Mono',consolas,'Courier New',monospace\"><span style=\"color: #7fbfbf; text-decoration-color: #7fbfbf\">[10/17/22 16:51:30] </span><span style=\"color: #000080; text-decoration-color: #000080\">INFO    </span> <span style=\"color: #808000; text-decoration-color: #808000\">...</span> awr_hist_os_stat  <span style=\"color: #008000; text-decoration-color: #008000; font-weight: bold\">SUCCESS</span> <span style=\"font-weight: bold\">[</span><span style=\"color: #008080; text-decoration-color: #008080; font-weight: bold\">600</span> <span style=\"color: #800080; text-decoration-color: #800080; font-weight: bold\">rows</span><span style=\"font-weight: bold\">(</span>s<span style=\"font-weight: bold\">)]</span>                            <a href=\"file:///usr/local/google/home/codyfincher/Code/database-tools/oracle-database-assessment/src/server/dbma/database.py\" target=\"_blank\"><span style=\"color: #7f7f7f; text-decoration-color: #7f7f7f\">database.py</span></a><span style=\"color: #7f7f7f; text-decoration-color: #7f7f7f\">:</span><a href=\"file:///usr/local/google/home/codyfincher/Code/database-tools/oracle-database-assessment/src/server/dbma/database.py#160\" target=\"_blank\"><span style=\"color: #7f7f7f; text-decoration-color: #7f7f7f\">160</span></a>\n",
       "</pre>\n"
      ],
      "text/plain": [
       "\u001b[2;36m[10/17/22 16:51:30]\u001b[0m\u001b[2;36m \u001b[0m\u001b[34mINFO    \u001b[0m \u001b[33m...\u001b[0m awr_hist_os_stat  \u001b[1;32mSUCCESS\u001b[0m \u001b[1m[\u001b[0m\u001b[1;36m600\u001b[0m \u001b[1;35mrows\u001b[0m\u001b[1m(\u001b[0ms\u001b[1m)\u001b[0m\u001b[1m]\u001b[0m                            \u001b]8;id=403683;file:///usr/local/google/home/codyfincher/Code/database-tools/oracle-database-assessment/src/server/dbma/database.py\u001b\\\u001b[2mdatabase.py\u001b[0m\u001b]8;;\u001b\\\u001b[2m:\u001b[0m\u001b]8;id=310493;file:///usr/local/google/home/codyfincher/Code/database-tools/oracle-database-assessment/src/server/dbma/database.py#160\u001b\\\u001b[2m160\u001b[0m\u001b]8;;\u001b\\\n"
      ]
     },
     "metadata": {},
     "output_type": "display_data"
    },
    {
     "data": {
      "text/html": [
       "<pre style=\"white-space:pre;overflow-x:auto;line-height:normal;font-family:Menlo,'DejaVu Sans Mono',consolas,'Courier New',monospace\"><span style=\"color: #7fbfbf; text-decoration-color: #7fbfbf\">[10/17/22 16:51:30] </span><span style=\"color: #000080; text-decoration-color: #000080\">INFO    </span> delimiter is |                                                         <a href=\"file:///usr/local/google/home/codyfincher/Code/database-tools/oracle-database-assessment/src/server/dbma/database.py\" target=\"_blank\"><span style=\"color: #7f7f7f; text-decoration-color: #7f7f7f\">database.py</span></a><span style=\"color: #7f7f7f; text-decoration-color: #7f7f7f\">:</span><a href=\"file:///usr/local/google/home/codyfincher/Code/database-tools/oracle-database-assessment/src/server/dbma/database.py#153\" target=\"_blank\"><span style=\"color: #7f7f7f; text-decoration-color: #7f7f7f\">153</span></a>\n",
       "</pre>\n"
      ],
      "text/plain": [
       "\u001b[2;36m[10/17/22 16:51:30]\u001b[0m\u001b[2;36m \u001b[0m\u001b[34mINFO    \u001b[0m delimiter is |                                                         \u001b]8;id=87092;file:///usr/local/google/home/codyfincher/Code/database-tools/oracle-database-assessment/src/server/dbma/database.py\u001b\\\u001b[2mdatabase.py\u001b[0m\u001b]8;;\u001b\\\u001b[2m:\u001b[0m\u001b]8;id=665719;file:///usr/local/google/home/codyfincher/Code/database-tools/oracle-database-assessment/src/server/dbma/database.py#153\u001b\\\u001b[2m153\u001b[0m\u001b]8;;\u001b\\\n"
      ]
     },
     "metadata": {},
     "output_type": "display_data"
    },
    {
     "data": {
      "text/html": [
       "<pre style=\"white-space:pre;overflow-x:auto;line-height:normal;font-family:Menlo,'DejaVu Sans Mono',consolas,'Courier New',monospace\"><span style=\"color: #7fbfbf; text-decoration-color: #7fbfbf\">[10/17/22 16:51:30] </span><span style=\"color: #000080; text-decoration-color: #000080\">INFO    </span> <span style=\"color: #808000; text-decoration-color: #808000\">...</span> awr_hist_sys_metric_hist  <span style=\"color: #008000; text-decoration-color: #008000; font-weight: bold\">SUCCESS</span> <span style=\"font-weight: bold\">[</span><span style=\"color: #008080; text-decoration-color: #008080; font-weight: bold\">552</span> <span style=\"color: #800080; text-decoration-color: #800080; font-weight: bold\">rows</span><span style=\"font-weight: bold\">(</span>s<span style=\"font-weight: bold\">)]</span>                    <a href=\"file:///usr/local/google/home/codyfincher/Code/database-tools/oracle-database-assessment/src/server/dbma/database.py\" target=\"_blank\"><span style=\"color: #7f7f7f; text-decoration-color: #7f7f7f\">database.py</span></a><span style=\"color: #7f7f7f; text-decoration-color: #7f7f7f\">:</span><a href=\"file:///usr/local/google/home/codyfincher/Code/database-tools/oracle-database-assessment/src/server/dbma/database.py#160\" target=\"_blank\"><span style=\"color: #7f7f7f; text-decoration-color: #7f7f7f\">160</span></a>\n",
       "</pre>\n"
      ],
      "text/plain": [
       "\u001b[2;36m[10/17/22 16:51:30]\u001b[0m\u001b[2;36m \u001b[0m\u001b[34mINFO    \u001b[0m \u001b[33m...\u001b[0m awr_hist_sys_metric_hist  \u001b[1;32mSUCCESS\u001b[0m \u001b[1m[\u001b[0m\u001b[1;36m552\u001b[0m \u001b[1;35mrows\u001b[0m\u001b[1m(\u001b[0ms\u001b[1m)\u001b[0m\u001b[1m]\u001b[0m                    \u001b]8;id=502163;file:///usr/local/google/home/codyfincher/Code/database-tools/oracle-database-assessment/src/server/dbma/database.py\u001b\\\u001b[2mdatabase.py\u001b[0m\u001b]8;;\u001b\\\u001b[2m:\u001b[0m\u001b]8;id=510087;file:///usr/local/google/home/codyfincher/Code/database-tools/oracle-database-assessment/src/server/dbma/database.py#160\u001b\\\u001b[2m160\u001b[0m\u001b]8;;\u001b\\\n"
      ]
     },
     "metadata": {},
     "output_type": "display_data"
    },
    {
     "data": {
      "text/html": [
       "<pre style=\"white-space:pre;overflow-x:auto;line-height:normal;font-family:Menlo,'DejaVu Sans Mono',consolas,'Courier New',monospace\"><span style=\"color: #7fbfbf; text-decoration-color: #7fbfbf\">[10/17/22 16:51:30] </span><span style=\"color: #000080; text-decoration-color: #000080\">INFO    </span> delimiter is |                                                         <a href=\"file:///usr/local/google/home/codyfincher/Code/database-tools/oracle-database-assessment/src/server/dbma/database.py\" target=\"_blank\"><span style=\"color: #7f7f7f; text-decoration-color: #7f7f7f\">database.py</span></a><span style=\"color: #7f7f7f; text-decoration-color: #7f7f7f\">:</span><a href=\"file:///usr/local/google/home/codyfincher/Code/database-tools/oracle-database-assessment/src/server/dbma/database.py#153\" target=\"_blank\"><span style=\"color: #7f7f7f; text-decoration-color: #7f7f7f\">153</span></a>\n",
       "</pre>\n"
      ],
      "text/plain": [
       "\u001b[2;36m[10/17/22 16:51:30]\u001b[0m\u001b[2;36m \u001b[0m\u001b[34mINFO    \u001b[0m delimiter is |                                                         \u001b]8;id=862210;file:///usr/local/google/home/codyfincher/Code/database-tools/oracle-database-assessment/src/server/dbma/database.py\u001b\\\u001b[2mdatabase.py\u001b[0m\u001b]8;;\u001b\\\u001b[2m:\u001b[0m\u001b]8;id=720425;file:///usr/local/google/home/codyfincher/Code/database-tools/oracle-database-assessment/src/server/dbma/database.py#153\u001b\\\u001b[2m153\u001b[0m\u001b]8;;\u001b\\\n"
      ]
     },
     "metadata": {},
     "output_type": "display_data"
    },
    {
     "data": {
      "text/html": [
       "<pre style=\"white-space:pre;overflow-x:auto;line-height:normal;font-family:Menlo,'DejaVu Sans Mono',consolas,'Courier New',monospace\"><span style=\"color: #7fbfbf; text-decoration-color: #7fbfbf\">[10/17/22 16:51:30] </span><span style=\"color: #000080; text-decoration-color: #000080\">INFO    </span> <span style=\"color: #808000; text-decoration-color: #808000\">...</span> awr_hist_sys_metric_summary  <span style=\"color: #008000; text-decoration-color: #008000; font-weight: bold\">SUCCESS</span> <span style=\"font-weight: bold\">[</span><span style=\"color: #008080; text-decoration-color: #008080; font-weight: bold\">3864</span> <span style=\"color: #800080; text-decoration-color: #800080; font-weight: bold\">rows</span><span style=\"font-weight: bold\">(</span>s<span style=\"font-weight: bold\">)]</span>                <a href=\"file:///usr/local/google/home/codyfincher/Code/database-tools/oracle-database-assessment/src/server/dbma/database.py\" target=\"_blank\"><span style=\"color: #7f7f7f; text-decoration-color: #7f7f7f\">database.py</span></a><span style=\"color: #7f7f7f; text-decoration-color: #7f7f7f\">:</span><a href=\"file:///usr/local/google/home/codyfincher/Code/database-tools/oracle-database-assessment/src/server/dbma/database.py#160\" target=\"_blank\"><span style=\"color: #7f7f7f; text-decoration-color: #7f7f7f\">160</span></a>\n",
       "</pre>\n"
      ],
      "text/plain": [
       "\u001b[2;36m[10/17/22 16:51:30]\u001b[0m\u001b[2;36m \u001b[0m\u001b[34mINFO    \u001b[0m \u001b[33m...\u001b[0m awr_hist_sys_metric_summary  \u001b[1;32mSUCCESS\u001b[0m \u001b[1m[\u001b[0m\u001b[1;36m3864\u001b[0m \u001b[1;35mrows\u001b[0m\u001b[1m(\u001b[0ms\u001b[1m)\u001b[0m\u001b[1m]\u001b[0m                \u001b]8;id=346224;file:///usr/local/google/home/codyfincher/Code/database-tools/oracle-database-assessment/src/server/dbma/database.py\u001b\\\u001b[2mdatabase.py\u001b[0m\u001b]8;;\u001b\\\u001b[2m:\u001b[0m\u001b]8;id=846462;file:///usr/local/google/home/codyfincher/Code/database-tools/oracle-database-assessment/src/server/dbma/database.py#160\u001b\\\u001b[2m160\u001b[0m\u001b]8;;\u001b\\\n"
      ]
     },
     "metadata": {},
     "output_type": "display_data"
    },
    {
     "data": {
      "text/html": [
       "<pre style=\"white-space:pre;overflow-x:auto;line-height:normal;font-family:Menlo,'DejaVu Sans Mono',consolas,'Courier New',monospace\"><span style=\"color: #7fbfbf; text-decoration-color: #7fbfbf\">[10/17/22 16:51:31] </span><span style=\"color: #000080; text-decoration-color: #000080\">INFO    </span> delimiter is |                                                         <a href=\"file:///usr/local/google/home/codyfincher/Code/database-tools/oracle-database-assessment/src/server/dbma/database.py\" target=\"_blank\"><span style=\"color: #7f7f7f; text-decoration-color: #7f7f7f\">database.py</span></a><span style=\"color: #7f7f7f; text-decoration-color: #7f7f7f\">:</span><a href=\"file:///usr/local/google/home/codyfincher/Code/database-tools/oracle-database-assessment/src/server/dbma/database.py#153\" target=\"_blank\"><span style=\"color: #7f7f7f; text-decoration-color: #7f7f7f\">153</span></a>\n",
       "</pre>\n"
      ],
      "text/plain": [
       "\u001b[2;36m[10/17/22 16:51:31]\u001b[0m\u001b[2;36m \u001b[0m\u001b[34mINFO    \u001b[0m delimiter is |                                                         \u001b]8;id=261692;file:///usr/local/google/home/codyfincher/Code/database-tools/oracle-database-assessment/src/server/dbma/database.py\u001b\\\u001b[2mdatabase.py\u001b[0m\u001b]8;;\u001b\\\u001b[2m:\u001b[0m\u001b]8;id=876181;file:///usr/local/google/home/codyfincher/Code/database-tools/oracle-database-assessment/src/server/dbma/database.py#153\u001b\\\u001b[2m153\u001b[0m\u001b]8;;\u001b\\\n"
      ]
     },
     "metadata": {},
     "output_type": "display_data"
    },
    {
     "data": {
      "text/html": [
       "<pre style=\"white-space:pre;overflow-x:auto;line-height:normal;font-family:Menlo,'DejaVu Sans Mono',consolas,'Courier New',monospace\"><span style=\"color: #7fbfbf; text-decoration-color: #7fbfbf\">[10/17/22 16:51:31] </span><span style=\"color: #000080; text-decoration-color: #000080\">INFO    </span> <span style=\"color: #808000; text-decoration-color: #808000\">...</span> awr_snap_details  <span style=\"color: #008000; text-decoration-color: #008000; font-weight: bold\">SUCCESS</span> <span style=\"font-weight: bold\">[</span><span style=\"color: #008080; text-decoration-color: #008080; font-weight: bold\">24</span> <span style=\"color: #800080; text-decoration-color: #800080; font-weight: bold\">rows</span><span style=\"font-weight: bold\">(</span>s<span style=\"font-weight: bold\">)]</span>                             <a href=\"file:///usr/local/google/home/codyfincher/Code/database-tools/oracle-database-assessment/src/server/dbma/database.py\" target=\"_blank\"><span style=\"color: #7f7f7f; text-decoration-color: #7f7f7f\">database.py</span></a><span style=\"color: #7f7f7f; text-decoration-color: #7f7f7f\">:</span><a href=\"file:///usr/local/google/home/codyfincher/Code/database-tools/oracle-database-assessment/src/server/dbma/database.py#160\" target=\"_blank\"><span style=\"color: #7f7f7f; text-decoration-color: #7f7f7f\">160</span></a>\n",
       "</pre>\n"
      ],
      "text/plain": [
       "\u001b[2;36m[10/17/22 16:51:31]\u001b[0m\u001b[2;36m \u001b[0m\u001b[34mINFO    \u001b[0m \u001b[33m...\u001b[0m awr_snap_details  \u001b[1;32mSUCCESS\u001b[0m \u001b[1m[\u001b[0m\u001b[1;36m24\u001b[0m \u001b[1;35mrows\u001b[0m\u001b[1m(\u001b[0ms\u001b[1m)\u001b[0m\u001b[1m]\u001b[0m                             \u001b]8;id=932255;file:///usr/local/google/home/codyfincher/Code/database-tools/oracle-database-assessment/src/server/dbma/database.py\u001b\\\u001b[2mdatabase.py\u001b[0m\u001b]8;;\u001b\\\u001b[2m:\u001b[0m\u001b]8;id=729524;file:///usr/local/google/home/codyfincher/Code/database-tools/oracle-database-assessment/src/server/dbma/database.py#160\u001b\\\u001b[2m160\u001b[0m\u001b]8;;\u001b\\\n"
      ]
     },
     "metadata": {},
     "output_type": "display_data"
    },
    {
     "data": {
      "text/html": [
       "<pre style=\"white-space:pre;overflow-x:auto;line-height:normal;font-family:Menlo,'DejaVu Sans Mono',consolas,'Courier New',monospace\"><span style=\"color: #7fbfbf; text-decoration-color: #7fbfbf\">[10/17/22 16:51:31] </span><span style=\"color: #000080; text-decoration-color: #000080\">INFO    </span> delimiter is |                                                         <a href=\"file:///usr/local/google/home/codyfincher/Code/database-tools/oracle-database-assessment/src/server/dbma/database.py\" target=\"_blank\"><span style=\"color: #7f7f7f; text-decoration-color: #7f7f7f\">database.py</span></a><span style=\"color: #7f7f7f; text-decoration-color: #7f7f7f\">:</span><a href=\"file:///usr/local/google/home/codyfincher/Code/database-tools/oracle-database-assessment/src/server/dbma/database.py#153\" target=\"_blank\"><span style=\"color: #7f7f7f; text-decoration-color: #7f7f7f\">153</span></a>\n",
       "</pre>\n"
      ],
      "text/plain": [
       "\u001b[2;36m[10/17/22 16:51:31]\u001b[0m\u001b[2;36m \u001b[0m\u001b[34mINFO    \u001b[0m delimiter is |                                                         \u001b]8;id=855823;file:///usr/local/google/home/codyfincher/Code/database-tools/oracle-database-assessment/src/server/dbma/database.py\u001b\\\u001b[2mdatabase.py\u001b[0m\u001b]8;;\u001b\\\u001b[2m:\u001b[0m\u001b]8;id=715986;file:///usr/local/google/home/codyfincher/Code/database-tools/oracle-database-assessment/src/server/dbma/database.py#153\u001b\\\u001b[2m153\u001b[0m\u001b]8;;\u001b\\\n"
      ]
     },
     "metadata": {},
     "output_type": "display_data"
    },
    {
     "data": {
      "text/html": [
       "<pre style=\"white-space:pre;overflow-x:auto;line-height:normal;font-family:Menlo,'DejaVu Sans Mono',consolas,'Courier New',monospace\"><span style=\"color: #7fbfbf; text-decoration-color: #7fbfbf\">[10/17/22 16:51:31] </span><span style=\"color: #000080; text-decoration-color: #000080\">INFO    </span> <span style=\"color: #808000; text-decoration-color: #808000\">...</span> db_compression_by_type  <span style=\"color: #008000; text-decoration-color: #008000; font-weight: bold\">SUCCESS</span> <span style=\"font-weight: bold\">[</span><span style=\"color: #008080; text-decoration-color: #008080; font-weight: bold\">13</span> <span style=\"color: #800080; text-decoration-color: #800080; font-weight: bold\">rows</span><span style=\"font-weight: bold\">(</span>s<span style=\"font-weight: bold\">)]</span>                       <a href=\"file:///usr/local/google/home/codyfincher/Code/database-tools/oracle-database-assessment/src/server/dbma/database.py\" target=\"_blank\"><span style=\"color: #7f7f7f; text-decoration-color: #7f7f7f\">database.py</span></a><span style=\"color: #7f7f7f; text-decoration-color: #7f7f7f\">:</span><a href=\"file:///usr/local/google/home/codyfincher/Code/database-tools/oracle-database-assessment/src/server/dbma/database.py#160\" target=\"_blank\"><span style=\"color: #7f7f7f; text-decoration-color: #7f7f7f\">160</span></a>\n",
       "</pre>\n"
      ],
      "text/plain": [
       "\u001b[2;36m[10/17/22 16:51:31]\u001b[0m\u001b[2;36m \u001b[0m\u001b[34mINFO    \u001b[0m \u001b[33m...\u001b[0m db_compression_by_type  \u001b[1;32mSUCCESS\u001b[0m \u001b[1m[\u001b[0m\u001b[1;36m13\u001b[0m \u001b[1;35mrows\u001b[0m\u001b[1m(\u001b[0ms\u001b[1m)\u001b[0m\u001b[1m]\u001b[0m                       \u001b]8;id=996015;file:///usr/local/google/home/codyfincher/Code/database-tools/oracle-database-assessment/src/server/dbma/database.py\u001b\\\u001b[2mdatabase.py\u001b[0m\u001b]8;;\u001b\\\u001b[2m:\u001b[0m\u001b]8;id=980630;file:///usr/local/google/home/codyfincher/Code/database-tools/oracle-database-assessment/src/server/dbma/database.py#160\u001b\\\u001b[2m160\u001b[0m\u001b]8;;\u001b\\\n"
      ]
     },
     "metadata": {},
     "output_type": "display_data"
    },
    {
     "data": {
      "text/html": [
       "<pre style=\"white-space:pre;overflow-x:auto;line-height:normal;font-family:Menlo,'DejaVu Sans Mono',consolas,'Courier New',monospace\"><span style=\"color: #7fbfbf; text-decoration-color: #7fbfbf\">[10/17/22 16:51:31] </span><span style=\"color: #000080; text-decoration-color: #000080\">INFO    </span> delimiter is |                                                         <a href=\"file:///usr/local/google/home/codyfincher/Code/database-tools/oracle-database-assessment/src/server/dbma/database.py\" target=\"_blank\"><span style=\"color: #7f7f7f; text-decoration-color: #7f7f7f\">database.py</span></a><span style=\"color: #7f7f7f; text-decoration-color: #7f7f7f\">:</span><a href=\"file:///usr/local/google/home/codyfincher/Code/database-tools/oracle-database-assessment/src/server/dbma/database.py#153\" target=\"_blank\"><span style=\"color: #7f7f7f; text-decoration-color: #7f7f7f\">153</span></a>\n",
       "</pre>\n"
      ],
      "text/plain": [
       "\u001b[2;36m[10/17/22 16:51:31]\u001b[0m\u001b[2;36m \u001b[0m\u001b[34mINFO    \u001b[0m delimiter is |                                                         \u001b]8;id=81037;file:///usr/local/google/home/codyfincher/Code/database-tools/oracle-database-assessment/src/server/dbma/database.py\u001b\\\u001b[2mdatabase.py\u001b[0m\u001b]8;;\u001b\\\u001b[2m:\u001b[0m\u001b]8;id=535334;file:///usr/local/google/home/codyfincher/Code/database-tools/oracle-database-assessment/src/server/dbma/database.py#153\u001b\\\u001b[2m153\u001b[0m\u001b]8;;\u001b\\\n"
      ]
     },
     "metadata": {},
     "output_type": "display_data"
    },
    {
     "data": {
      "text/html": [
       "<pre style=\"white-space:pre;overflow-x:auto;line-height:normal;font-family:Menlo,'DejaVu Sans Mono',consolas,'Courier New',monospace\"><span style=\"color: #7fbfbf; text-decoration-color: #7fbfbf\">[10/17/22 16:51:31] </span><span style=\"color: #000080; text-decoration-color: #000080\">INFO    </span> <span style=\"color: #808000; text-decoration-color: #808000\">...</span> db_cpu_core_usage  <span style=\"color: #008000; text-decoration-color: #008000; font-weight: bold\">SUCCESS</span> <span style=\"font-weight: bold\">[</span><span style=\"color: #008080; text-decoration-color: #008080; font-weight: bold\">5</span> <span style=\"color: #800080; text-decoration-color: #800080; font-weight: bold\">rows</span><span style=\"font-weight: bold\">(</span>s<span style=\"font-weight: bold\">)]</span>                             <a href=\"file:///usr/local/google/home/codyfincher/Code/database-tools/oracle-database-assessment/src/server/dbma/database.py\" target=\"_blank\"><span style=\"color: #7f7f7f; text-decoration-color: #7f7f7f\">database.py</span></a><span style=\"color: #7f7f7f; text-decoration-color: #7f7f7f\">:</span><a href=\"file:///usr/local/google/home/codyfincher/Code/database-tools/oracle-database-assessment/src/server/dbma/database.py#160\" target=\"_blank\"><span style=\"color: #7f7f7f; text-decoration-color: #7f7f7f\">160</span></a>\n",
       "</pre>\n"
      ],
      "text/plain": [
       "\u001b[2;36m[10/17/22 16:51:31]\u001b[0m\u001b[2;36m \u001b[0m\u001b[34mINFO    \u001b[0m \u001b[33m...\u001b[0m db_cpu_core_usage  \u001b[1;32mSUCCESS\u001b[0m \u001b[1m[\u001b[0m\u001b[1;36m5\u001b[0m \u001b[1;35mrows\u001b[0m\u001b[1m(\u001b[0ms\u001b[1m)\u001b[0m\u001b[1m]\u001b[0m                             \u001b]8;id=264864;file:///usr/local/google/home/codyfincher/Code/database-tools/oracle-database-assessment/src/server/dbma/database.py\u001b\\\u001b[2mdatabase.py\u001b[0m\u001b]8;;\u001b\\\u001b[2m:\u001b[0m\u001b]8;id=97508;file:///usr/local/google/home/codyfincher/Code/database-tools/oracle-database-assessment/src/server/dbma/database.py#160\u001b\\\u001b[2m160\u001b[0m\u001b]8;;\u001b\\\n"
      ]
     },
     "metadata": {},
     "output_type": "display_data"
    },
    {
     "data": {
      "text/html": [
       "<pre style=\"white-space:pre;overflow-x:auto;line-height:normal;font-family:Menlo,'DejaVu Sans Mono',consolas,'Courier New',monospace\"><span style=\"color: #7fbfbf; text-decoration-color: #7fbfbf\">[10/17/22 16:51:31] </span><span style=\"color: #000080; text-decoration-color: #000080\">INFO    </span> delimiter is |                                                         <a href=\"file:///usr/local/google/home/codyfincher/Code/database-tools/oracle-database-assessment/src/server/dbma/database.py\" target=\"_blank\"><span style=\"color: #7f7f7f; text-decoration-color: #7f7f7f\">database.py</span></a><span style=\"color: #7f7f7f; text-decoration-color: #7f7f7f\">:</span><a href=\"file:///usr/local/google/home/codyfincher/Code/database-tools/oracle-database-assessment/src/server/dbma/database.py#153\" target=\"_blank\"><span style=\"color: #7f7f7f; text-decoration-color: #7f7f7f\">153</span></a>\n",
       "</pre>\n"
      ],
      "text/plain": [
       "\u001b[2;36m[10/17/22 16:51:31]\u001b[0m\u001b[2;36m \u001b[0m\u001b[34mINFO    \u001b[0m delimiter is |                                                         \u001b]8;id=727612;file:///usr/local/google/home/codyfincher/Code/database-tools/oracle-database-assessment/src/server/dbma/database.py\u001b\\\u001b[2mdatabase.py\u001b[0m\u001b]8;;\u001b\\\u001b[2m:\u001b[0m\u001b]8;id=484818;file:///usr/local/google/home/codyfincher/Code/database-tools/oracle-database-assessment/src/server/dbma/database.py#153\u001b\\\u001b[2m153\u001b[0m\u001b]8;;\u001b\\\n"
      ]
     },
     "metadata": {},
     "output_type": "display_data"
    },
    {
     "data": {
      "text/html": [
       "<pre style=\"white-space:pre;overflow-x:auto;line-height:normal;font-family:Menlo,'DejaVu Sans Mono',consolas,'Courier New',monospace\"><span style=\"color: #7fbfbf; text-decoration-color: #7fbfbf\">[10/17/22 16:51:31] </span><span style=\"color: #000080; text-decoration-color: #000080\">INFO    </span> <span style=\"color: #808000; text-decoration-color: #808000\">...</span> db_dataguard  <span style=\"color: #008000; text-decoration-color: #008000; font-weight: bold\">SUCCESS</span> <span style=\"font-weight: bold\">[</span><span style=\"color: #008080; text-decoration-color: #008080; font-weight: bold\">1</span> <span style=\"color: #800080; text-decoration-color: #800080; font-weight: bold\">rows</span><span style=\"font-weight: bold\">(</span>s<span style=\"font-weight: bold\">)]</span>                                  <a href=\"file:///usr/local/google/home/codyfincher/Code/database-tools/oracle-database-assessment/src/server/dbma/database.py\" target=\"_blank\"><span style=\"color: #7f7f7f; text-decoration-color: #7f7f7f\">database.py</span></a><span style=\"color: #7f7f7f; text-decoration-color: #7f7f7f\">:</span><a href=\"file:///usr/local/google/home/codyfincher/Code/database-tools/oracle-database-assessment/src/server/dbma/database.py#160\" target=\"_blank\"><span style=\"color: #7f7f7f; text-decoration-color: #7f7f7f\">160</span></a>\n",
       "</pre>\n"
      ],
      "text/plain": [
       "\u001b[2;36m[10/17/22 16:51:31]\u001b[0m\u001b[2;36m \u001b[0m\u001b[34mINFO    \u001b[0m \u001b[33m...\u001b[0m db_dataguard  \u001b[1;32mSUCCESS\u001b[0m \u001b[1m[\u001b[0m\u001b[1;36m1\u001b[0m \u001b[1;35mrows\u001b[0m\u001b[1m(\u001b[0ms\u001b[1m)\u001b[0m\u001b[1m]\u001b[0m                                  \u001b]8;id=962482;file:///usr/local/google/home/codyfincher/Code/database-tools/oracle-database-assessment/src/server/dbma/database.py\u001b\\\u001b[2mdatabase.py\u001b[0m\u001b]8;;\u001b\\\u001b[2m:\u001b[0m\u001b]8;id=75532;file:///usr/local/google/home/codyfincher/Code/database-tools/oracle-database-assessment/src/server/dbma/database.py#160\u001b\\\u001b[2m160\u001b[0m\u001b]8;;\u001b\\\n"
      ]
     },
     "metadata": {},
     "output_type": "display_data"
    },
    {
     "data": {
      "text/html": [
       "<pre style=\"white-space:pre;overflow-x:auto;line-height:normal;font-family:Menlo,'DejaVu Sans Mono',consolas,'Courier New',monospace\"><span style=\"color: #7fbfbf; text-decoration-color: #7fbfbf\">[10/17/22 16:51:31] </span><span style=\"color: #000080; text-decoration-color: #000080\">INFO    </span> delimiter is |                                                         <a href=\"file:///usr/local/google/home/codyfincher/Code/database-tools/oracle-database-assessment/src/server/dbma/database.py\" target=\"_blank\"><span style=\"color: #7f7f7f; text-decoration-color: #7f7f7f\">database.py</span></a><span style=\"color: #7f7f7f; text-decoration-color: #7f7f7f\">:</span><a href=\"file:///usr/local/google/home/codyfincher/Code/database-tools/oracle-database-assessment/src/server/dbma/database.py#153\" target=\"_blank\"><span style=\"color: #7f7f7f; text-decoration-color: #7f7f7f\">153</span></a>\n",
       "</pre>\n"
      ],
      "text/plain": [
       "\u001b[2;36m[10/17/22 16:51:31]\u001b[0m\u001b[2;36m \u001b[0m\u001b[34mINFO    \u001b[0m delimiter is |                                                         \u001b]8;id=886235;file:///usr/local/google/home/codyfincher/Code/database-tools/oracle-database-assessment/src/server/dbma/database.py\u001b\\\u001b[2mdatabase.py\u001b[0m\u001b]8;;\u001b\\\u001b[2m:\u001b[0m\u001b]8;id=919315;file:///usr/local/google/home/codyfincher/Code/database-tools/oracle-database-assessment/src/server/dbma/database.py#153\u001b\\\u001b[2m153\u001b[0m\u001b]8;;\u001b\\\n"
      ]
     },
     "metadata": {},
     "output_type": "display_data"
    },
    {
     "data": {
      "text/html": [
       "<pre style=\"white-space:pre;overflow-x:auto;line-height:normal;font-family:Menlo,'DejaVu Sans Mono',consolas,'Courier New',monospace\"><span style=\"color: #7fbfbf; text-decoration-color: #7fbfbf\">[10/17/22 16:51:31] </span><span style=\"color: #000080; text-decoration-color: #000080\">INFO    </span> <span style=\"color: #808000; text-decoration-color: #808000\">...</span> db_data_types  <span style=\"color: #008000; text-decoration-color: #008000; font-weight: bold\">SUCCESS</span> <span style=\"font-weight: bold\">[</span><span style=\"color: #008080; text-decoration-color: #008080; font-weight: bold\">163</span> <span style=\"color: #800080; text-decoration-color: #800080; font-weight: bold\">rows</span><span style=\"font-weight: bold\">(</span>s<span style=\"font-weight: bold\">)]</span>                               <a href=\"file:///usr/local/google/home/codyfincher/Code/database-tools/oracle-database-assessment/src/server/dbma/database.py\" target=\"_blank\"><span style=\"color: #7f7f7f; text-decoration-color: #7f7f7f\">database.py</span></a><span style=\"color: #7f7f7f; text-decoration-color: #7f7f7f\">:</span><a href=\"file:///usr/local/google/home/codyfincher/Code/database-tools/oracle-database-assessment/src/server/dbma/database.py#160\" target=\"_blank\"><span style=\"color: #7f7f7f; text-decoration-color: #7f7f7f\">160</span></a>\n",
       "</pre>\n"
      ],
      "text/plain": [
       "\u001b[2;36m[10/17/22 16:51:31]\u001b[0m\u001b[2;36m \u001b[0m\u001b[34mINFO    \u001b[0m \u001b[33m...\u001b[0m db_data_types  \u001b[1;32mSUCCESS\u001b[0m \u001b[1m[\u001b[0m\u001b[1;36m163\u001b[0m \u001b[1;35mrows\u001b[0m\u001b[1m(\u001b[0ms\u001b[1m)\u001b[0m\u001b[1m]\u001b[0m                               \u001b]8;id=612461;file:///usr/local/google/home/codyfincher/Code/database-tools/oracle-database-assessment/src/server/dbma/database.py\u001b\\\u001b[2mdatabase.py\u001b[0m\u001b]8;;\u001b\\\u001b[2m:\u001b[0m\u001b]8;id=209609;file:///usr/local/google/home/codyfincher/Code/database-tools/oracle-database-assessment/src/server/dbma/database.py#160\u001b\\\u001b[2m160\u001b[0m\u001b]8;;\u001b\\\n"
      ]
     },
     "metadata": {},
     "output_type": "display_data"
    },
    {
     "data": {
      "text/html": [
       "<pre style=\"white-space:pre;overflow-x:auto;line-height:normal;font-family:Menlo,'DejaVu Sans Mono',consolas,'Courier New',monospace\"><span style=\"color: #7fbfbf; text-decoration-color: #7fbfbf\">[10/17/22 16:51:31] </span><span style=\"color: #000080; text-decoration-color: #000080\">INFO    </span> delimiter is |                                                         <a href=\"file:///usr/local/google/home/codyfincher/Code/database-tools/oracle-database-assessment/src/server/dbma/database.py\" target=\"_blank\"><span style=\"color: #7f7f7f; text-decoration-color: #7f7f7f\">database.py</span></a><span style=\"color: #7f7f7f; text-decoration-color: #7f7f7f\">:</span><a href=\"file:///usr/local/google/home/codyfincher/Code/database-tools/oracle-database-assessment/src/server/dbma/database.py#153\" target=\"_blank\"><span style=\"color: #7f7f7f; text-decoration-color: #7f7f7f\">153</span></a>\n",
       "</pre>\n"
      ],
      "text/plain": [
       "\u001b[2;36m[10/17/22 16:51:31]\u001b[0m\u001b[2;36m \u001b[0m\u001b[34mINFO    \u001b[0m delimiter is |                                                         \u001b]8;id=822405;file:///usr/local/google/home/codyfincher/Code/database-tools/oracle-database-assessment/src/server/dbma/database.py\u001b\\\u001b[2mdatabase.py\u001b[0m\u001b]8;;\u001b\\\u001b[2m:\u001b[0m\u001b]8;id=900309;file:///usr/local/google/home/codyfincher/Code/database-tools/oracle-database-assessment/src/server/dbma/database.py#153\u001b\\\u001b[2m153\u001b[0m\u001b]8;;\u001b\\\n"
      ]
     },
     "metadata": {},
     "output_type": "display_data"
    },
    {
     "data": {
      "text/html": [
       "<pre style=\"white-space:pre;overflow-x:auto;line-height:normal;font-family:Menlo,'DejaVu Sans Mono',consolas,'Courier New',monospace\"><span style=\"color: #7fbfbf; text-decoration-color: #7fbfbf\">[10/17/22 16:51:31] </span><span style=\"color: #000080; text-decoration-color: #000080\">INFO    </span> <span style=\"color: #808000; text-decoration-color: #808000\">...</span> dba_hist_sys_stat  <span style=\"color: #008000; text-decoration-color: #008000; font-weight: bold\">SUCCESS</span> <span style=\"font-weight: bold\">[</span><span style=\"color: #008080; text-decoration-color: #008080; font-weight: bold\">3816</span> <span style=\"color: #800080; text-decoration-color: #800080; font-weight: bold\">rows</span><span style=\"font-weight: bold\">(</span>s<span style=\"font-weight: bold\">)]</span>                          <a href=\"file:///usr/local/google/home/codyfincher/Code/database-tools/oracle-database-assessment/src/server/dbma/database.py\" target=\"_blank\"><span style=\"color: #7f7f7f; text-decoration-color: #7f7f7f\">database.py</span></a><span style=\"color: #7f7f7f; text-decoration-color: #7f7f7f\">:</span><a href=\"file:///usr/local/google/home/codyfincher/Code/database-tools/oracle-database-assessment/src/server/dbma/database.py#160\" target=\"_blank\"><span style=\"color: #7f7f7f; text-decoration-color: #7f7f7f\">160</span></a>\n",
       "</pre>\n"
      ],
      "text/plain": [
       "\u001b[2;36m[10/17/22 16:51:31]\u001b[0m\u001b[2;36m \u001b[0m\u001b[34mINFO    \u001b[0m \u001b[33m...\u001b[0m dba_hist_sys_stat  \u001b[1;32mSUCCESS\u001b[0m \u001b[1m[\u001b[0m\u001b[1;36m3816\u001b[0m \u001b[1;35mrows\u001b[0m\u001b[1m(\u001b[0ms\u001b[1m)\u001b[0m\u001b[1m]\u001b[0m                          \u001b]8;id=715922;file:///usr/local/google/home/codyfincher/Code/database-tools/oracle-database-assessment/src/server/dbma/database.py\u001b\\\u001b[2mdatabase.py\u001b[0m\u001b]8;;\u001b\\\u001b[2m:\u001b[0m\u001b]8;id=781904;file:///usr/local/google/home/codyfincher/Code/database-tools/oracle-database-assessment/src/server/dbma/database.py#160\u001b\\\u001b[2m160\u001b[0m\u001b]8;;\u001b\\\n"
      ]
     },
     "metadata": {},
     "output_type": "display_data"
    },
    {
     "data": {
      "text/html": [
       "<pre style=\"white-space:pre;overflow-x:auto;line-height:normal;font-family:Menlo,'DejaVu Sans Mono',consolas,'Courier New',monospace\"><span style=\"color: #7fbfbf; text-decoration-color: #7fbfbf\">[10/17/22 16:51:31] </span><span style=\"color: #000080; text-decoration-color: #000080\">INFO    </span> delimiter is |                                                         <a href=\"file:///usr/local/google/home/codyfincher/Code/database-tools/oracle-database-assessment/src/server/dbma/database.py\" target=\"_blank\"><span style=\"color: #7f7f7f; text-decoration-color: #7f7f7f\">database.py</span></a><span style=\"color: #7f7f7f; text-decoration-color: #7f7f7f\">:</span><a href=\"file:///usr/local/google/home/codyfincher/Code/database-tools/oracle-database-assessment/src/server/dbma/database.py#153\" target=\"_blank\"><span style=\"color: #7f7f7f; text-decoration-color: #7f7f7f\">153</span></a>\n",
       "</pre>\n"
      ],
      "text/plain": [
       "\u001b[2;36m[10/17/22 16:51:31]\u001b[0m\u001b[2;36m \u001b[0m\u001b[34mINFO    \u001b[0m delimiter is |                                                         \u001b]8;id=260862;file:///usr/local/google/home/codyfincher/Code/database-tools/oracle-database-assessment/src/server/dbma/database.py\u001b\\\u001b[2mdatabase.py\u001b[0m\u001b]8;;\u001b\\\u001b[2m:\u001b[0m\u001b]8;id=428859;file:///usr/local/google/home/codyfincher/Code/database-tools/oracle-database-assessment/src/server/dbma/database.py#153\u001b\\\u001b[2m153\u001b[0m\u001b]8;;\u001b\\\n"
      ]
     },
     "metadata": {},
     "output_type": "display_data"
    },
    {
     "data": {
      "text/html": [
       "<pre style=\"white-space:pre;overflow-x:auto;line-height:normal;font-family:Menlo,'DejaVu Sans Mono',consolas,'Courier New',monospace\"><span style=\"color: #7fbfbf; text-decoration-color: #7fbfbf\">[10/17/22 16:51:31] </span><span style=\"color: #000080; text-decoration-color: #000080\">INFO    </span> <span style=\"color: #808000; text-decoration-color: #808000\">...</span> dba_hist_sys_time_model  <span style=\"color: #008000; text-decoration-color: #008000; font-weight: bold\">SUCCESS</span> <span style=\"font-weight: bold\">[</span><span style=\"color: #008080; text-decoration-color: #008080; font-weight: bold\">744</span> <span style=\"color: #800080; text-decoration-color: #800080; font-weight: bold\">rows</span><span style=\"font-weight: bold\">(</span>s<span style=\"font-weight: bold\">)]</span>                     <a href=\"file:///usr/local/google/home/codyfincher/Code/database-tools/oracle-database-assessment/src/server/dbma/database.py\" target=\"_blank\"><span style=\"color: #7f7f7f; text-decoration-color: #7f7f7f\">database.py</span></a><span style=\"color: #7f7f7f; text-decoration-color: #7f7f7f\">:</span><a href=\"file:///usr/local/google/home/codyfincher/Code/database-tools/oracle-database-assessment/src/server/dbma/database.py#160\" target=\"_blank\"><span style=\"color: #7f7f7f; text-decoration-color: #7f7f7f\">160</span></a>\n",
       "</pre>\n"
      ],
      "text/plain": [
       "\u001b[2;36m[10/17/22 16:51:31]\u001b[0m\u001b[2;36m \u001b[0m\u001b[34mINFO    \u001b[0m \u001b[33m...\u001b[0m dba_hist_sys_time_model  \u001b[1;32mSUCCESS\u001b[0m \u001b[1m[\u001b[0m\u001b[1;36m744\u001b[0m \u001b[1;35mrows\u001b[0m\u001b[1m(\u001b[0ms\u001b[1m)\u001b[0m\u001b[1m]\u001b[0m                     \u001b]8;id=873864;file:///usr/local/google/home/codyfincher/Code/database-tools/oracle-database-assessment/src/server/dbma/database.py\u001b\\\u001b[2mdatabase.py\u001b[0m\u001b]8;;\u001b\\\u001b[2m:\u001b[0m\u001b]8;id=157553;file:///usr/local/google/home/codyfincher/Code/database-tools/oracle-database-assessment/src/server/dbma/database.py#160\u001b\\\u001b[2m160\u001b[0m\u001b]8;;\u001b\\\n"
      ]
     },
     "metadata": {},
     "output_type": "display_data"
    },
    {
     "data": {
      "text/html": [
       "<pre style=\"white-space:pre;overflow-x:auto;line-height:normal;font-family:Menlo,'DejaVu Sans Mono',consolas,'Courier New',monospace\"><span style=\"color: #7fbfbf; text-decoration-color: #7fbfbf\">[10/17/22 16:51:31] </span><span style=\"color: #000080; text-decoration-color: #000080\">INFO    </span> delimiter is |                                                         <a href=\"file:///usr/local/google/home/codyfincher/Code/database-tools/oracle-database-assessment/src/server/dbma/database.py\" target=\"_blank\"><span style=\"color: #7f7f7f; text-decoration-color: #7f7f7f\">database.py</span></a><span style=\"color: #7f7f7f; text-decoration-color: #7f7f7f\">:</span><a href=\"file:///usr/local/google/home/codyfincher/Code/database-tools/oracle-database-assessment/src/server/dbma/database.py#153\" target=\"_blank\"><span style=\"color: #7f7f7f; text-decoration-color: #7f7f7f\">153</span></a>\n",
       "</pre>\n"
      ],
      "text/plain": [
       "\u001b[2;36m[10/17/22 16:51:31]\u001b[0m\u001b[2;36m \u001b[0m\u001b[34mINFO    \u001b[0m delimiter is |                                                         \u001b]8;id=214553;file:///usr/local/google/home/codyfincher/Code/database-tools/oracle-database-assessment/src/server/dbma/database.py\u001b\\\u001b[2mdatabase.py\u001b[0m\u001b]8;;\u001b\\\u001b[2m:\u001b[0m\u001b]8;id=535102;file:///usr/local/google/home/codyfincher/Code/database-tools/oracle-database-assessment/src/server/dbma/database.py#153\u001b\\\u001b[2m153\u001b[0m\u001b]8;;\u001b\\\n"
      ]
     },
     "metadata": {},
     "output_type": "display_data"
    },
    {
     "data": {
      "text/html": [
       "<pre style=\"white-space:pre;overflow-x:auto;line-height:normal;font-family:Menlo,'DejaVu Sans Mono',consolas,'Courier New',monospace\"><span style=\"color: #7fbfbf; text-decoration-color: #7fbfbf\">[10/17/22 16:51:31] </span><span style=\"color: #000080; text-decoration-color: #000080\">INFO    </span> <span style=\"color: #808000; text-decoration-color: #808000\">...</span> db_features  <span style=\"color: #008000; text-decoration-color: #008000; font-weight: bold\">SUCCESS</span> <span style=\"font-weight: bold\">[</span><span style=\"color: #008080; text-decoration-color: #008080; font-weight: bold\">991</span> <span style=\"color: #800080; text-decoration-color: #800080; font-weight: bold\">rows</span><span style=\"font-weight: bold\">(</span>s<span style=\"font-weight: bold\">)]</span>                                 <a href=\"file:///usr/local/google/home/codyfincher/Code/database-tools/oracle-database-assessment/src/server/dbma/database.py\" target=\"_blank\"><span style=\"color: #7f7f7f; text-decoration-color: #7f7f7f\">database.py</span></a><span style=\"color: #7f7f7f; text-decoration-color: #7f7f7f\">:</span><a href=\"file:///usr/local/google/home/codyfincher/Code/database-tools/oracle-database-assessment/src/server/dbma/database.py#160\" target=\"_blank\"><span style=\"color: #7f7f7f; text-decoration-color: #7f7f7f\">160</span></a>\n",
       "</pre>\n"
      ],
      "text/plain": [
       "\u001b[2;36m[10/17/22 16:51:31]\u001b[0m\u001b[2;36m \u001b[0m\u001b[34mINFO    \u001b[0m \u001b[33m...\u001b[0m db_features  \u001b[1;32mSUCCESS\u001b[0m \u001b[1m[\u001b[0m\u001b[1;36m991\u001b[0m \u001b[1;35mrows\u001b[0m\u001b[1m(\u001b[0ms\u001b[1m)\u001b[0m\u001b[1m]\u001b[0m                                 \u001b]8;id=104738;file:///usr/local/google/home/codyfincher/Code/database-tools/oracle-database-assessment/src/server/dbma/database.py\u001b\\\u001b[2mdatabase.py\u001b[0m\u001b]8;;\u001b\\\u001b[2m:\u001b[0m\u001b]8;id=292068;file:///usr/local/google/home/codyfincher/Code/database-tools/oracle-database-assessment/src/server/dbma/database.py#160\u001b\\\u001b[2m160\u001b[0m\u001b]8;;\u001b\\\n"
      ]
     },
     "metadata": {},
     "output_type": "display_data"
    },
    {
     "data": {
      "text/html": [
       "<pre style=\"white-space:pre;overflow-x:auto;line-height:normal;font-family:Menlo,'DejaVu Sans Mono',consolas,'Courier New',monospace\"><span style=\"color: #7fbfbf; text-decoration-color: #7fbfbf\">[10/17/22 16:51:31] </span><span style=\"color: #000080; text-decoration-color: #000080\">INFO    </span> delimiter is |                                                         <a href=\"file:///usr/local/google/home/codyfincher/Code/database-tools/oracle-database-assessment/src/server/dbma/database.py\" target=\"_blank\"><span style=\"color: #7f7f7f; text-decoration-color: #7f7f7f\">database.py</span></a><span style=\"color: #7f7f7f; text-decoration-color: #7f7f7f\">:</span><a href=\"file:///usr/local/google/home/codyfincher/Code/database-tools/oracle-database-assessment/src/server/dbma/database.py#153\" target=\"_blank\"><span style=\"color: #7f7f7f; text-decoration-color: #7f7f7f\">153</span></a>\n",
       "</pre>\n"
      ],
      "text/plain": [
       "\u001b[2;36m[10/17/22 16:51:31]\u001b[0m\u001b[2;36m \u001b[0m\u001b[34mINFO    \u001b[0m delimiter is |                                                         \u001b]8;id=128087;file:///usr/local/google/home/codyfincher/Code/database-tools/oracle-database-assessment/src/server/dbma/database.py\u001b\\\u001b[2mdatabase.py\u001b[0m\u001b]8;;\u001b\\\u001b[2m:\u001b[0m\u001b]8;id=185756;file:///usr/local/google/home/codyfincher/Code/database-tools/oracle-database-assessment/src/server/dbma/database.py#153\u001b\\\u001b[2m153\u001b[0m\u001b]8;;\u001b\\\n"
      ]
     },
     "metadata": {},
     "output_type": "display_data"
    },
    {
     "data": {
      "text/html": [
       "<pre style=\"white-space:pre;overflow-x:auto;line-height:normal;font-family:Menlo,'DejaVu Sans Mono',consolas,'Courier New',monospace\"><span style=\"color: #7fbfbf; text-decoration-color: #7fbfbf\">[10/17/22 16:51:31] </span><span style=\"color: #000080; text-decoration-color: #000080\">INFO    </span> <span style=\"color: #808000; text-decoration-color: #808000\">...</span> db_high_water_stats  <span style=\"color: #008000; text-decoration-color: #008000; font-weight: bold\">SUCCESS</span> <span style=\"font-weight: bold\">[</span><span style=\"color: #008080; text-decoration-color: #008080; font-weight: bold\">114</span> <span style=\"color: #800080; text-decoration-color: #800080; font-weight: bold\">rows</span><span style=\"font-weight: bold\">(</span>s<span style=\"font-weight: bold\">)]</span>                         <a href=\"file:///usr/local/google/home/codyfincher/Code/database-tools/oracle-database-assessment/src/server/dbma/database.py\" target=\"_blank\"><span style=\"color: #7f7f7f; text-decoration-color: #7f7f7f\">database.py</span></a><span style=\"color: #7f7f7f; text-decoration-color: #7f7f7f\">:</span><a href=\"file:///usr/local/google/home/codyfincher/Code/database-tools/oracle-database-assessment/src/server/dbma/database.py#160\" target=\"_blank\"><span style=\"color: #7f7f7f; text-decoration-color: #7f7f7f\">160</span></a>\n",
       "</pre>\n"
      ],
      "text/plain": [
       "\u001b[2;36m[10/17/22 16:51:31]\u001b[0m\u001b[2;36m \u001b[0m\u001b[34mINFO    \u001b[0m \u001b[33m...\u001b[0m db_high_water_stats  \u001b[1;32mSUCCESS\u001b[0m \u001b[1m[\u001b[0m\u001b[1;36m114\u001b[0m \u001b[1;35mrows\u001b[0m\u001b[1m(\u001b[0ms\u001b[1m)\u001b[0m\u001b[1m]\u001b[0m                         \u001b]8;id=994152;file:///usr/local/google/home/codyfincher/Code/database-tools/oracle-database-assessment/src/server/dbma/database.py\u001b\\\u001b[2mdatabase.py\u001b[0m\u001b]8;;\u001b\\\u001b[2m:\u001b[0m\u001b]8;id=40109;file:///usr/local/google/home/codyfincher/Code/database-tools/oracle-database-assessment/src/server/dbma/database.py#160\u001b\\\u001b[2m160\u001b[0m\u001b]8;;\u001b\\\n"
      ]
     },
     "metadata": {},
     "output_type": "display_data"
    },
    {
     "data": {
      "text/html": [
       "<pre style=\"white-space:pre;overflow-x:auto;line-height:normal;font-family:Menlo,'DejaVu Sans Mono',consolas,'Courier New',monospace\"><span style=\"color: #7fbfbf; text-decoration-color: #7fbfbf\">[10/17/22 16:51:31] </span><span style=\"color: #000080; text-decoration-color: #000080\">INFO    </span> delimiter is |                                                         <a href=\"file:///usr/local/google/home/codyfincher/Code/database-tools/oracle-database-assessment/src/server/dbma/database.py\" target=\"_blank\"><span style=\"color: #7f7f7f; text-decoration-color: #7f7f7f\">database.py</span></a><span style=\"color: #7f7f7f; text-decoration-color: #7f7f7f\">:</span><a href=\"file:///usr/local/google/home/codyfincher/Code/database-tools/oracle-database-assessment/src/server/dbma/database.py#153\" target=\"_blank\"><span style=\"color: #7f7f7f; text-decoration-color: #7f7f7f\">153</span></a>\n",
       "</pre>\n"
      ],
      "text/plain": [
       "\u001b[2;36m[10/17/22 16:51:31]\u001b[0m\u001b[2;36m \u001b[0m\u001b[34mINFO    \u001b[0m delimiter is |                                                         \u001b]8;id=866726;file:///usr/local/google/home/codyfincher/Code/database-tools/oracle-database-assessment/src/server/dbma/database.py\u001b\\\u001b[2mdatabase.py\u001b[0m\u001b]8;;\u001b\\\u001b[2m:\u001b[0m\u001b]8;id=42563;file:///usr/local/google/home/codyfincher/Code/database-tools/oracle-database-assessment/src/server/dbma/database.py#153\u001b\\\u001b[2m153\u001b[0m\u001b]8;;\u001b\\\n"
      ]
     },
     "metadata": {},
     "output_type": "display_data"
    },
    {
     "data": {
      "text/html": [
       "<pre style=\"white-space:pre;overflow-x:auto;line-height:normal;font-family:Menlo,'DejaVu Sans Mono',consolas,'Courier New',monospace\"><span style=\"color: #7fbfbf; text-decoration-color: #7fbfbf\">[10/17/22 16:51:31] </span><span style=\"color: #000080; text-decoration-color: #000080\">INFO    </span> <span style=\"color: #808000; text-decoration-color: #808000\">...</span> db_instances  <span style=\"color: #008000; text-decoration-color: #008000; font-weight: bold\">SUCCESS</span> <span style=\"font-weight: bold\">[</span><span style=\"color: #008080; text-decoration-color: #008080; font-weight: bold\">1</span> <span style=\"color: #800080; text-decoration-color: #800080; font-weight: bold\">rows</span><span style=\"font-weight: bold\">(</span>s<span style=\"font-weight: bold\">)]</span>                                  <a href=\"file:///usr/local/google/home/codyfincher/Code/database-tools/oracle-database-assessment/src/server/dbma/database.py\" target=\"_blank\"><span style=\"color: #7f7f7f; text-decoration-color: #7f7f7f\">database.py</span></a><span style=\"color: #7f7f7f; text-decoration-color: #7f7f7f\">:</span><a href=\"file:///usr/local/google/home/codyfincher/Code/database-tools/oracle-database-assessment/src/server/dbma/database.py#160\" target=\"_blank\"><span style=\"color: #7f7f7f; text-decoration-color: #7f7f7f\">160</span></a>\n",
       "</pre>\n"
      ],
      "text/plain": [
       "\u001b[2;36m[10/17/22 16:51:31]\u001b[0m\u001b[2;36m \u001b[0m\u001b[34mINFO    \u001b[0m \u001b[33m...\u001b[0m db_instances  \u001b[1;32mSUCCESS\u001b[0m \u001b[1m[\u001b[0m\u001b[1;36m1\u001b[0m \u001b[1;35mrows\u001b[0m\u001b[1m(\u001b[0ms\u001b[1m)\u001b[0m\u001b[1m]\u001b[0m                                  \u001b]8;id=593339;file:///usr/local/google/home/codyfincher/Code/database-tools/oracle-database-assessment/src/server/dbma/database.py\u001b\\\u001b[2mdatabase.py\u001b[0m\u001b]8;;\u001b\\\u001b[2m:\u001b[0m\u001b]8;id=408791;file:///usr/local/google/home/codyfincher/Code/database-tools/oracle-database-assessment/src/server/dbma/database.py#160\u001b\\\u001b[2m160\u001b[0m\u001b]8;;\u001b\\\n"
      ]
     },
     "metadata": {},
     "output_type": "display_data"
    },
    {
     "data": {
      "text/html": [
       "<pre style=\"white-space:pre;overflow-x:auto;line-height:normal;font-family:Menlo,'DejaVu Sans Mono',consolas,'Courier New',monospace\"><span style=\"color: #7fbfbf; text-decoration-color: #7fbfbf\">[10/17/22 16:51:31] </span><span style=\"color: #000080; text-decoration-color: #000080\">INFO    </span> delimiter is |                                                         <a href=\"file:///usr/local/google/home/codyfincher/Code/database-tools/oracle-database-assessment/src/server/dbma/database.py\" target=\"_blank\"><span style=\"color: #7f7f7f; text-decoration-color: #7f7f7f\">database.py</span></a><span style=\"color: #7f7f7f; text-decoration-color: #7f7f7f\">:</span><a href=\"file:///usr/local/google/home/codyfincher/Code/database-tools/oracle-database-assessment/src/server/dbma/database.py#153\" target=\"_blank\"><span style=\"color: #7f7f7f; text-decoration-color: #7f7f7f\">153</span></a>\n",
       "</pre>\n"
      ],
      "text/plain": [
       "\u001b[2;36m[10/17/22 16:51:31]\u001b[0m\u001b[2;36m \u001b[0m\u001b[34mINFO    \u001b[0m delimiter is |                                                         \u001b]8;id=192573;file:///usr/local/google/home/codyfincher/Code/database-tools/oracle-database-assessment/src/server/dbma/database.py\u001b\\\u001b[2mdatabase.py\u001b[0m\u001b]8;;\u001b\\\u001b[2m:\u001b[0m\u001b]8;id=184015;file:///usr/local/google/home/codyfincher/Code/database-tools/oracle-database-assessment/src/server/dbma/database.py#153\u001b\\\u001b[2m153\u001b[0m\u001b]8;;\u001b\\\n"
      ]
     },
     "metadata": {},
     "output_type": "display_data"
    },
    {
     "data": {
      "text/html": [
       "<pre style=\"white-space:pre;overflow-x:auto;line-height:normal;font-family:Menlo,'DejaVu Sans Mono',consolas,'Courier New',monospace\"><span style=\"color: #7fbfbf; text-decoration-color: #7fbfbf\">[10/17/22 16:51:31] </span><span style=\"color: #000080; text-decoration-color: #000080\">INFO    </span> <span style=\"color: #808000; text-decoration-color: #808000\">...</span> db_links  <span style=\"color: #008000; text-decoration-color: #008000; font-weight: bold\">SUCCESS</span> <span style=\"font-weight: bold\">[</span><span style=\"color: #008080; text-decoration-color: #008080; font-weight: bold\">3</span> <span style=\"color: #800080; text-decoration-color: #800080; font-weight: bold\">rows</span><span style=\"font-weight: bold\">(</span>s<span style=\"font-weight: bold\">)]</span>                                      <a href=\"file:///usr/local/google/home/codyfincher/Code/database-tools/oracle-database-assessment/src/server/dbma/database.py\" target=\"_blank\"><span style=\"color: #7f7f7f; text-decoration-color: #7f7f7f\">database.py</span></a><span style=\"color: #7f7f7f; text-decoration-color: #7f7f7f\">:</span><a href=\"file:///usr/local/google/home/codyfincher/Code/database-tools/oracle-database-assessment/src/server/dbma/database.py#160\" target=\"_blank\"><span style=\"color: #7f7f7f; text-decoration-color: #7f7f7f\">160</span></a>\n",
       "</pre>\n"
      ],
      "text/plain": [
       "\u001b[2;36m[10/17/22 16:51:31]\u001b[0m\u001b[2;36m \u001b[0m\u001b[34mINFO    \u001b[0m \u001b[33m...\u001b[0m db_links  \u001b[1;32mSUCCESS\u001b[0m \u001b[1m[\u001b[0m\u001b[1;36m3\u001b[0m \u001b[1;35mrows\u001b[0m\u001b[1m(\u001b[0ms\u001b[1m)\u001b[0m\u001b[1m]\u001b[0m                                      \u001b]8;id=736834;file:///usr/local/google/home/codyfincher/Code/database-tools/oracle-database-assessment/src/server/dbma/database.py\u001b\\\u001b[2mdatabase.py\u001b[0m\u001b]8;;\u001b\\\u001b[2m:\u001b[0m\u001b]8;id=7827;file:///usr/local/google/home/codyfincher/Code/database-tools/oracle-database-assessment/src/server/dbma/database.py#160\u001b\\\u001b[2m160\u001b[0m\u001b]8;;\u001b\\\n"
      ]
     },
     "metadata": {},
     "output_type": "display_data"
    },
    {
     "data": {
      "text/html": [
       "<pre style=\"white-space:pre;overflow-x:auto;line-height:normal;font-family:Menlo,'DejaVu Sans Mono',consolas,'Courier New',monospace\"><span style=\"color: #7fbfbf; text-decoration-color: #7fbfbf\">[10/17/22 16:51:31] </span><span style=\"color: #000080; text-decoration-color: #000080\">INFO    </span> delimiter is |                                                         <a href=\"file:///usr/local/google/home/codyfincher/Code/database-tools/oracle-database-assessment/src/server/dbma/database.py\" target=\"_blank\"><span style=\"color: #7f7f7f; text-decoration-color: #7f7f7f\">database.py</span></a><span style=\"color: #7f7f7f; text-decoration-color: #7f7f7f\">:</span><a href=\"file:///usr/local/google/home/codyfincher/Code/database-tools/oracle-database-assessment/src/server/dbma/database.py#153\" target=\"_blank\"><span style=\"color: #7f7f7f; text-decoration-color: #7f7f7f\">153</span></a>\n",
       "</pre>\n"
      ],
      "text/plain": [
       "\u001b[2;36m[10/17/22 16:51:31]\u001b[0m\u001b[2;36m \u001b[0m\u001b[34mINFO    \u001b[0m delimiter is |                                                         \u001b]8;id=397786;file:///usr/local/google/home/codyfincher/Code/database-tools/oracle-database-assessment/src/server/dbma/database.py\u001b\\\u001b[2mdatabase.py\u001b[0m\u001b]8;;\u001b\\\u001b[2m:\u001b[0m\u001b]8;id=155074;file:///usr/local/google/home/codyfincher/Code/database-tools/oracle-database-assessment/src/server/dbma/database.py#153\u001b\\\u001b[2m153\u001b[0m\u001b]8;;\u001b\\\n"
      ]
     },
     "metadata": {},
     "output_type": "display_data"
    },
    {
     "data": {
      "text/html": [
       "<pre style=\"white-space:pre;overflow-x:auto;line-height:normal;font-family:Menlo,'DejaVu Sans Mono',consolas,'Courier New',monospace\"><span style=\"color: #7fbfbf; text-decoration-color: #7fbfbf\">[10/17/22 16:51:31] </span><span style=\"color: #000080; text-decoration-color: #000080\">INFO    </span> <span style=\"color: #808000; text-decoration-color: #808000\">...</span> db_objects  <span style=\"color: #008000; text-decoration-color: #008000; font-weight: bold\">SUCCESS</span> <span style=\"font-weight: bold\">[</span><span style=\"color: #008080; text-decoration-color: #008080; font-weight: bold\">197</span> <span style=\"color: #800080; text-decoration-color: #800080; font-weight: bold\">rows</span><span style=\"font-weight: bold\">(</span>s<span style=\"font-weight: bold\">)]</span>                                  <a href=\"file:///usr/local/google/home/codyfincher/Code/database-tools/oracle-database-assessment/src/server/dbma/database.py\" target=\"_blank\"><span style=\"color: #7f7f7f; text-decoration-color: #7f7f7f\">database.py</span></a><span style=\"color: #7f7f7f; text-decoration-color: #7f7f7f\">:</span><a href=\"file:///usr/local/google/home/codyfincher/Code/database-tools/oracle-database-assessment/src/server/dbma/database.py#160\" target=\"_blank\"><span style=\"color: #7f7f7f; text-decoration-color: #7f7f7f\">160</span></a>\n",
       "</pre>\n"
      ],
      "text/plain": [
       "\u001b[2;36m[10/17/22 16:51:31]\u001b[0m\u001b[2;36m \u001b[0m\u001b[34mINFO    \u001b[0m \u001b[33m...\u001b[0m db_objects  \u001b[1;32mSUCCESS\u001b[0m \u001b[1m[\u001b[0m\u001b[1;36m197\u001b[0m \u001b[1;35mrows\u001b[0m\u001b[1m(\u001b[0ms\u001b[1m)\u001b[0m\u001b[1m]\u001b[0m                                  \u001b]8;id=566652;file:///usr/local/google/home/codyfincher/Code/database-tools/oracle-database-assessment/src/server/dbma/database.py\u001b\\\u001b[2mdatabase.py\u001b[0m\u001b]8;;\u001b\\\u001b[2m:\u001b[0m\u001b]8;id=436139;file:///usr/local/google/home/codyfincher/Code/database-tools/oracle-database-assessment/src/server/dbma/database.py#160\u001b\\\u001b[2m160\u001b[0m\u001b]8;;\u001b\\\n"
      ]
     },
     "metadata": {},
     "output_type": "display_data"
    },
    {
     "data": {
      "text/html": [
       "<pre style=\"white-space:pre;overflow-x:auto;line-height:normal;font-family:Menlo,'DejaVu Sans Mono',consolas,'Courier New',monospace\"><span style=\"color: #7fbfbf; text-decoration-color: #7fbfbf\">[10/17/22 16:51:31] </span><span style=\"color: #000080; text-decoration-color: #000080\">INFO    </span> delimiter is |                                                         <a href=\"file:///usr/local/google/home/codyfincher/Code/database-tools/oracle-database-assessment/src/server/dbma/database.py\" target=\"_blank\"><span style=\"color: #7f7f7f; text-decoration-color: #7f7f7f\">database.py</span></a><span style=\"color: #7f7f7f; text-decoration-color: #7f7f7f\">:</span><a href=\"file:///usr/local/google/home/codyfincher/Code/database-tools/oracle-database-assessment/src/server/dbma/database.py#153\" target=\"_blank\"><span style=\"color: #7f7f7f; text-decoration-color: #7f7f7f\">153</span></a>\n",
       "</pre>\n"
      ],
      "text/plain": [
       "\u001b[2;36m[10/17/22 16:51:31]\u001b[0m\u001b[2;36m \u001b[0m\u001b[34mINFO    \u001b[0m delimiter is |                                                         \u001b]8;id=381269;file:///usr/local/google/home/codyfincher/Code/database-tools/oracle-database-assessment/src/server/dbma/database.py\u001b\\\u001b[2mdatabase.py\u001b[0m\u001b]8;;\u001b\\\u001b[2m:\u001b[0m\u001b]8;id=90946;file:///usr/local/google/home/codyfincher/Code/database-tools/oracle-database-assessment/src/server/dbma/database.py#153\u001b\\\u001b[2m153\u001b[0m\u001b]8;;\u001b\\\n"
      ]
     },
     "metadata": {},
     "output_type": "display_data"
    },
    {
     "data": {
      "text/html": [
       "<pre style=\"white-space:pre;overflow-x:auto;line-height:normal;font-family:Menlo,'DejaVu Sans Mono',consolas,'Courier New',monospace\"><span style=\"color: #7fbfbf; text-decoration-color: #7fbfbf\">[10/17/22 16:51:31] </span><span style=\"color: #000080; text-decoration-color: #000080\">INFO    </span> <span style=\"color: #808000; text-decoration-color: #808000\">...</span> db_parameters  <span style=\"color: #008000; text-decoration-color: #008000; font-weight: bold\">SUCCESS</span> <span style=\"font-weight: bold\">[</span><span style=\"color: #008080; text-decoration-color: #008080; font-weight: bold\">457</span> <span style=\"color: #800080; text-decoration-color: #800080; font-weight: bold\">rows</span><span style=\"font-weight: bold\">(</span>s<span style=\"font-weight: bold\">)]</span>                               <a href=\"file:///usr/local/google/home/codyfincher/Code/database-tools/oracle-database-assessment/src/server/dbma/database.py\" target=\"_blank\"><span style=\"color: #7f7f7f; text-decoration-color: #7f7f7f\">database.py</span></a><span style=\"color: #7f7f7f; text-decoration-color: #7f7f7f\">:</span><a href=\"file:///usr/local/google/home/codyfincher/Code/database-tools/oracle-database-assessment/src/server/dbma/database.py#160\" target=\"_blank\"><span style=\"color: #7f7f7f; text-decoration-color: #7f7f7f\">160</span></a>\n",
       "</pre>\n"
      ],
      "text/plain": [
       "\u001b[2;36m[10/17/22 16:51:31]\u001b[0m\u001b[2;36m \u001b[0m\u001b[34mINFO    \u001b[0m \u001b[33m...\u001b[0m db_parameters  \u001b[1;32mSUCCESS\u001b[0m \u001b[1m[\u001b[0m\u001b[1;36m457\u001b[0m \u001b[1;35mrows\u001b[0m\u001b[1m(\u001b[0ms\u001b[1m)\u001b[0m\u001b[1m]\u001b[0m                               \u001b]8;id=286876;file:///usr/local/google/home/codyfincher/Code/database-tools/oracle-database-assessment/src/server/dbma/database.py\u001b\\\u001b[2mdatabase.py\u001b[0m\u001b]8;;\u001b\\\u001b[2m:\u001b[0m\u001b]8;id=174850;file:///usr/local/google/home/codyfincher/Code/database-tools/oracle-database-assessment/src/server/dbma/database.py#160\u001b\\\u001b[2m160\u001b[0m\u001b]8;;\u001b\\\n"
      ]
     },
     "metadata": {},
     "output_type": "display_data"
    },
    {
     "data": {
      "text/html": [
       "<pre style=\"white-space:pre;overflow-x:auto;line-height:normal;font-family:Menlo,'DejaVu Sans Mono',consolas,'Courier New',monospace\"><span style=\"color: #7fbfbf; text-decoration-color: #7fbfbf\">[10/17/22 16:51:31] </span><span style=\"color: #000080; text-decoration-color: #000080\">INFO    </span> delimiter is |                                                         <a href=\"file:///usr/local/google/home/codyfincher/Code/database-tools/oracle-database-assessment/src/server/dbma/database.py\" target=\"_blank\"><span style=\"color: #7f7f7f; text-decoration-color: #7f7f7f\">database.py</span></a><span style=\"color: #7f7f7f; text-decoration-color: #7f7f7f\">:</span><a href=\"file:///usr/local/google/home/codyfincher/Code/database-tools/oracle-database-assessment/src/server/dbma/database.py#153\" target=\"_blank\"><span style=\"color: #7f7f7f; text-decoration-color: #7f7f7f\">153</span></a>\n",
       "</pre>\n"
      ],
      "text/plain": [
       "\u001b[2;36m[10/17/22 16:51:31]\u001b[0m\u001b[2;36m \u001b[0m\u001b[34mINFO    \u001b[0m delimiter is |                                                         \u001b]8;id=247670;file:///usr/local/google/home/codyfincher/Code/database-tools/oracle-database-assessment/src/server/dbma/database.py\u001b\\\u001b[2mdatabase.py\u001b[0m\u001b]8;;\u001b\\\u001b[2m:\u001b[0m\u001b]8;id=159204;file:///usr/local/google/home/codyfincher/Code/database-tools/oracle-database-assessment/src/server/dbma/database.py#153\u001b\\\u001b[2m153\u001b[0m\u001b]8;;\u001b\\\n"
      ]
     },
     "metadata": {},
     "output_type": "display_data"
    },
    {
     "data": {
      "text/html": [
       "<pre style=\"white-space:pre;overflow-x:auto;line-height:normal;font-family:Menlo,'DejaVu Sans Mono',consolas,'Courier New',monospace\"><span style=\"color: #7fbfbf; text-decoration-color: #7fbfbf\">[10/17/22 16:51:31] </span><span style=\"color: #000080; text-decoration-color: #000080\">INFO    </span> <span style=\"color: #808000; text-decoration-color: #808000\">...</span> db_summary  <span style=\"color: #008000; text-decoration-color: #008000; font-weight: bold\">SUCCESS</span> <span style=\"font-weight: bold\">[</span><span style=\"color: #008080; text-decoration-color: #008080; font-weight: bold\">1</span> <span style=\"color: #800080; text-decoration-color: #800080; font-weight: bold\">rows</span><span style=\"font-weight: bold\">(</span>s<span style=\"font-weight: bold\">)]</span>                                    <a href=\"file:///usr/local/google/home/codyfincher/Code/database-tools/oracle-database-assessment/src/server/dbma/database.py\" target=\"_blank\"><span style=\"color: #7f7f7f; text-decoration-color: #7f7f7f\">database.py</span></a><span style=\"color: #7f7f7f; text-decoration-color: #7f7f7f\">:</span><a href=\"file:///usr/local/google/home/codyfincher/Code/database-tools/oracle-database-assessment/src/server/dbma/database.py#160\" target=\"_blank\"><span style=\"color: #7f7f7f; text-decoration-color: #7f7f7f\">160</span></a>\n",
       "</pre>\n"
      ],
      "text/plain": [
       "\u001b[2;36m[10/17/22 16:51:31]\u001b[0m\u001b[2;36m \u001b[0m\u001b[34mINFO    \u001b[0m \u001b[33m...\u001b[0m db_summary  \u001b[1;32mSUCCESS\u001b[0m \u001b[1m[\u001b[0m\u001b[1;36m1\u001b[0m \u001b[1;35mrows\u001b[0m\u001b[1m(\u001b[0ms\u001b[1m)\u001b[0m\u001b[1m]\u001b[0m                                    \u001b]8;id=878832;file:///usr/local/google/home/codyfincher/Code/database-tools/oracle-database-assessment/src/server/dbma/database.py\u001b\\\u001b[2mdatabase.py\u001b[0m\u001b]8;;\u001b\\\u001b[2m:\u001b[0m\u001b]8;id=432262;file:///usr/local/google/home/codyfincher/Code/database-tools/oracle-database-assessment/src/server/dbma/database.py#160\u001b\\\u001b[2m160\u001b[0m\u001b]8;;\u001b\\\n"
      ]
     },
     "metadata": {},
     "output_type": "display_data"
    },
    {
     "data": {
      "text/html": [
       "<pre style=\"white-space:pre;overflow-x:auto;line-height:normal;font-family:Menlo,'DejaVu Sans Mono',consolas,'Courier New',monospace\"><span style=\"color: #7fbfbf; text-decoration-color: #7fbfbf\">[10/17/22 16:51:31] </span><span style=\"color: #000080; text-decoration-color: #000080\">INFO    </span> delimiter is |                                                         <a href=\"file:///usr/local/google/home/codyfincher/Code/database-tools/oracle-database-assessment/src/server/dbma/database.py\" target=\"_blank\"><span style=\"color: #7f7f7f; text-decoration-color: #7f7f7f\">database.py</span></a><span style=\"color: #7f7f7f; text-decoration-color: #7f7f7f\">:</span><a href=\"file:///usr/local/google/home/codyfincher/Code/database-tools/oracle-database-assessment/src/server/dbma/database.py#153\" target=\"_blank\"><span style=\"color: #7f7f7f; text-decoration-color: #7f7f7f\">153</span></a>\n",
       "</pre>\n"
      ],
      "text/plain": [
       "\u001b[2;36m[10/17/22 16:51:31]\u001b[0m\u001b[2;36m \u001b[0m\u001b[34mINFO    \u001b[0m delimiter is |                                                         \u001b]8;id=53637;file:///usr/local/google/home/codyfincher/Code/database-tools/oracle-database-assessment/src/server/dbma/database.py\u001b\\\u001b[2mdatabase.py\u001b[0m\u001b]8;;\u001b\\\u001b[2m:\u001b[0m\u001b]8;id=457681;file:///usr/local/google/home/codyfincher/Code/database-tools/oracle-database-assessment/src/server/dbma/database.py#153\u001b\\\u001b[2m153\u001b[0m\u001b]8;;\u001b\\\n"
      ]
     },
     "metadata": {},
     "output_type": "display_data"
    },
    {
     "data": {
      "text/html": [
       "<pre style=\"white-space:pre;overflow-x:auto;line-height:normal;font-family:Menlo,'DejaVu Sans Mono',consolas,'Courier New',monospace\"><span style=\"color: #7fbfbf; text-decoration-color: #7fbfbf\">[10/17/22 16:51:31] </span><span style=\"color: #000080; text-decoration-color: #000080\">INFO    </span> <span style=\"color: #808000; text-decoration-color: #808000\">...</span> db_external_tables  <span style=\"color: #008000; text-decoration-color: #008000; font-weight: bold\">SUCCESS</span> <span style=\"font-weight: bold\">[</span><span style=\"color: #008080; text-decoration-color: #008080; font-weight: bold\">2</span> <span style=\"color: #800080; text-decoration-color: #800080; font-weight: bold\">rows</span><span style=\"font-weight: bold\">(</span>s<span style=\"font-weight: bold\">)]</span>                            <a href=\"file:///usr/local/google/home/codyfincher/Code/database-tools/oracle-database-assessment/src/server/dbma/database.py\" target=\"_blank\"><span style=\"color: #7f7f7f; text-decoration-color: #7f7f7f\">database.py</span></a><span style=\"color: #7f7f7f; text-decoration-color: #7f7f7f\">:</span><a href=\"file:///usr/local/google/home/codyfincher/Code/database-tools/oracle-database-assessment/src/server/dbma/database.py#160\" target=\"_blank\"><span style=\"color: #7f7f7f; text-decoration-color: #7f7f7f\">160</span></a>\n",
       "</pre>\n"
      ],
      "text/plain": [
       "\u001b[2;36m[10/17/22 16:51:31]\u001b[0m\u001b[2;36m \u001b[0m\u001b[34mINFO    \u001b[0m \u001b[33m...\u001b[0m db_external_tables  \u001b[1;32mSUCCESS\u001b[0m \u001b[1m[\u001b[0m\u001b[1;36m2\u001b[0m \u001b[1;35mrows\u001b[0m\u001b[1m(\u001b[0ms\u001b[1m)\u001b[0m\u001b[1m]\u001b[0m                            \u001b]8;id=383287;file:///usr/local/google/home/codyfincher/Code/database-tools/oracle-database-assessment/src/server/dbma/database.py\u001b\\\u001b[2mdatabase.py\u001b[0m\u001b]8;;\u001b\\\u001b[2m:\u001b[0m\u001b]8;id=599745;file:///usr/local/google/home/codyfincher/Code/database-tools/oracle-database-assessment/src/server/dbma/database.py#160\u001b\\\u001b[2m160\u001b[0m\u001b]8;;\u001b\\\n"
      ]
     },
     "metadata": {},
     "output_type": "display_data"
    },
    {
     "data": {
      "text/html": [
       "<pre style=\"white-space:pre;overflow-x:auto;line-height:normal;font-family:Menlo,'DejaVu Sans Mono',consolas,'Courier New',monospace\"><span style=\"color: #7fbfbf; text-decoration-color: #7fbfbf\">[10/17/22 16:51:31] </span><span style=\"color: #000080; text-decoration-color: #000080\">INFO    </span> delimiter is |                                                         <a href=\"file:///usr/local/google/home/codyfincher/Code/database-tools/oracle-database-assessment/src/server/dbma/database.py\" target=\"_blank\"><span style=\"color: #7f7f7f; text-decoration-color: #7f7f7f\">database.py</span></a><span style=\"color: #7f7f7f; text-decoration-color: #7f7f7f\">:</span><a href=\"file:///usr/local/google/home/codyfincher/Code/database-tools/oracle-database-assessment/src/server/dbma/database.py#153\" target=\"_blank\"><span style=\"color: #7f7f7f; text-decoration-color: #7f7f7f\">153</span></a>\n",
       "</pre>\n"
      ],
      "text/plain": [
       "\u001b[2;36m[10/17/22 16:51:31]\u001b[0m\u001b[2;36m \u001b[0m\u001b[34mINFO    \u001b[0m delimiter is |                                                         \u001b]8;id=255804;file:///usr/local/google/home/codyfincher/Code/database-tools/oracle-database-assessment/src/server/dbma/database.py\u001b\\\u001b[2mdatabase.py\u001b[0m\u001b]8;;\u001b\\\u001b[2m:\u001b[0m\u001b]8;id=602112;file:///usr/local/google/home/codyfincher/Code/database-tools/oracle-database-assessment/src/server/dbma/database.py#153\u001b\\\u001b[2m153\u001b[0m\u001b]8;;\u001b\\\n"
      ]
     },
     "metadata": {},
     "output_type": "display_data"
    },
    {
     "data": {
      "text/html": [
       "<pre style=\"white-space:pre;overflow-x:auto;line-height:normal;font-family:Menlo,'DejaVu Sans Mono',consolas,'Courier New',monospace\"><span style=\"color: #7fbfbf; text-decoration-color: #7fbfbf\">[10/17/22 16:51:31] </span><span style=\"color: #000080; text-decoration-color: #000080\">INFO    </span> <span style=\"color: #808000; text-decoration-color: #808000\">...</span> index_per_table  <span style=\"color: #008000; text-decoration-color: #008000; font-weight: bold\">SUCCESS</span> <span style=\"font-weight: bold\">[</span><span style=\"color: #008080; text-decoration-color: #008080; font-weight: bold\">17</span> <span style=\"color: #800080; text-decoration-color: #800080; font-weight: bold\">rows</span><span style=\"font-weight: bold\">(</span>s<span style=\"font-weight: bold\">)]</span>                              <a href=\"file:///usr/local/google/home/codyfincher/Code/database-tools/oracle-database-assessment/src/server/dbma/database.py\" target=\"_blank\"><span style=\"color: #7f7f7f; text-decoration-color: #7f7f7f\">database.py</span></a><span style=\"color: #7f7f7f; text-decoration-color: #7f7f7f\">:</span><a href=\"file:///usr/local/google/home/codyfincher/Code/database-tools/oracle-database-assessment/src/server/dbma/database.py#160\" target=\"_blank\"><span style=\"color: #7f7f7f; text-decoration-color: #7f7f7f\">160</span></a>\n",
       "</pre>\n"
      ],
      "text/plain": [
       "\u001b[2;36m[10/17/22 16:51:31]\u001b[0m\u001b[2;36m \u001b[0m\u001b[34mINFO    \u001b[0m \u001b[33m...\u001b[0m index_per_table  \u001b[1;32mSUCCESS\u001b[0m \u001b[1m[\u001b[0m\u001b[1;36m17\u001b[0m \u001b[1;35mrows\u001b[0m\u001b[1m(\u001b[0ms\u001b[1m)\u001b[0m\u001b[1m]\u001b[0m                              \u001b]8;id=819572;file:///usr/local/google/home/codyfincher/Code/database-tools/oracle-database-assessment/src/server/dbma/database.py\u001b\\\u001b[2mdatabase.py\u001b[0m\u001b]8;;\u001b\\\u001b[2m:\u001b[0m\u001b]8;id=514763;file:///usr/local/google/home/codyfincher/Code/database-tools/oracle-database-assessment/src/server/dbma/database.py#160\u001b\\\u001b[2m160\u001b[0m\u001b]8;;\u001b\\\n"
      ]
     },
     "metadata": {},
     "output_type": "display_data"
    },
    {
     "data": {
      "text/html": [
       "<pre style=\"white-space:pre;overflow-x:auto;line-height:normal;font-family:Menlo,'DejaVu Sans Mono',consolas,'Courier New',monospace\"><span style=\"color: #7fbfbf; text-decoration-color: #7fbfbf\">[10/17/22 16:51:31] </span><span style=\"color: #000080; text-decoration-color: #000080\">INFO    </span> delimiter is |                                                         <a href=\"file:///usr/local/google/home/codyfincher/Code/database-tools/oracle-database-assessment/src/server/dbma/database.py\" target=\"_blank\"><span style=\"color: #7f7f7f; text-decoration-color: #7f7f7f\">database.py</span></a><span style=\"color: #7f7f7f; text-decoration-color: #7f7f7f\">:</span><a href=\"file:///usr/local/google/home/codyfincher/Code/database-tools/oracle-database-assessment/src/server/dbma/database.py#153\" target=\"_blank\"><span style=\"color: #7f7f7f; text-decoration-color: #7f7f7f\">153</span></a>\n",
       "</pre>\n"
      ],
      "text/plain": [
       "\u001b[2;36m[10/17/22 16:51:31]\u001b[0m\u001b[2;36m \u001b[0m\u001b[34mINFO    \u001b[0m delimiter is |                                                         \u001b]8;id=38814;file:///usr/local/google/home/codyfincher/Code/database-tools/oracle-database-assessment/src/server/dbma/database.py\u001b\\\u001b[2mdatabase.py\u001b[0m\u001b]8;;\u001b\\\u001b[2m:\u001b[0m\u001b]8;id=65202;file:///usr/local/google/home/codyfincher/Code/database-tools/oracle-database-assessment/src/server/dbma/database.py#153\u001b\\\u001b[2m153\u001b[0m\u001b]8;;\u001b\\\n"
      ]
     },
     "metadata": {},
     "output_type": "display_data"
    },
    {
     "data": {
      "text/html": [
       "<pre style=\"white-space:pre;overflow-x:auto;line-height:normal;font-family:Menlo,'DejaVu Sans Mono',consolas,'Courier New',monospace\"><span style=\"color: #7fbfbf; text-decoration-color: #7fbfbf\">[10/17/22 16:51:31] </span><span style=\"color: #000080; text-decoration-color: #000080\">INFO    </span> <span style=\"color: #808000; text-decoration-color: #808000\">...</span> index_types  <span style=\"color: #008000; text-decoration-color: #008000; font-weight: bold\">SUCCESS</span> <span style=\"font-weight: bold\">[</span><span style=\"color: #008080; text-decoration-color: #008080; font-weight: bold\">32</span> <span style=\"color: #800080; text-decoration-color: #800080; font-weight: bold\">rows</span><span style=\"font-weight: bold\">(</span>s<span style=\"font-weight: bold\">)]</span>                                  <a href=\"file:///usr/local/google/home/codyfincher/Code/database-tools/oracle-database-assessment/src/server/dbma/database.py\" target=\"_blank\"><span style=\"color: #7f7f7f; text-decoration-color: #7f7f7f\">database.py</span></a><span style=\"color: #7f7f7f; text-decoration-color: #7f7f7f\">:</span><a href=\"file:///usr/local/google/home/codyfincher/Code/database-tools/oracle-database-assessment/src/server/dbma/database.py#160\" target=\"_blank\"><span style=\"color: #7f7f7f; text-decoration-color: #7f7f7f\">160</span></a>\n",
       "</pre>\n"
      ],
      "text/plain": [
       "\u001b[2;36m[10/17/22 16:51:31]\u001b[0m\u001b[2;36m \u001b[0m\u001b[34mINFO    \u001b[0m \u001b[33m...\u001b[0m index_types  \u001b[1;32mSUCCESS\u001b[0m \u001b[1m[\u001b[0m\u001b[1;36m32\u001b[0m \u001b[1;35mrows\u001b[0m\u001b[1m(\u001b[0ms\u001b[1m)\u001b[0m\u001b[1m]\u001b[0m                                  \u001b]8;id=164213;file:///usr/local/google/home/codyfincher/Code/database-tools/oracle-database-assessment/src/server/dbma/database.py\u001b\\\u001b[2mdatabase.py\u001b[0m\u001b]8;;\u001b\\\u001b[2m:\u001b[0m\u001b]8;id=569823;file:///usr/local/google/home/codyfincher/Code/database-tools/oracle-database-assessment/src/server/dbma/database.py#160\u001b\\\u001b[2m160\u001b[0m\u001b]8;;\u001b\\\n"
      ]
     },
     "metadata": {},
     "output_type": "display_data"
    },
    {
     "data": {
      "text/html": [
       "<pre style=\"white-space:pre;overflow-x:auto;line-height:normal;font-family:Menlo,'DejaVu Sans Mono',consolas,'Courier New',monospace\"><span style=\"color: #7fbfbf; text-decoration-color: #7fbfbf\">[10/17/22 16:51:31] </span><span style=\"color: #000080; text-decoration-color: #000080\">INFO    </span> delimiter is |                                                         <a href=\"file:///usr/local/google/home/codyfincher/Code/database-tools/oracle-database-assessment/src/server/dbma/database.py\" target=\"_blank\"><span style=\"color: #7f7f7f; text-decoration-color: #7f7f7f\">database.py</span></a><span style=\"color: #7f7f7f; text-decoration-color: #7f7f7f\">:</span><a href=\"file:///usr/local/google/home/codyfincher/Code/database-tools/oracle-database-assessment/src/server/dbma/database.py#153\" target=\"_blank\"><span style=\"color: #7f7f7f; text-decoration-color: #7f7f7f\">153</span></a>\n",
       "</pre>\n"
      ],
      "text/plain": [
       "\u001b[2;36m[10/17/22 16:51:31]\u001b[0m\u001b[2;36m \u001b[0m\u001b[34mINFO    \u001b[0m delimiter is |                                                         \u001b]8;id=104120;file:///usr/local/google/home/codyfincher/Code/database-tools/oracle-database-assessment/src/server/dbma/database.py\u001b\\\u001b[2mdatabase.py\u001b[0m\u001b]8;;\u001b\\\u001b[2m:\u001b[0m\u001b]8;id=100067;file:///usr/local/google/home/codyfincher/Code/database-tools/oracle-database-assessment/src/server/dbma/database.py#153\u001b\\\u001b[2m153\u001b[0m\u001b]8;;\u001b\\\n"
      ]
     },
     "metadata": {},
     "output_type": "display_data"
    },
    {
     "data": {
      "text/html": [
       "<pre style=\"white-space:pre;overflow-x:auto;line-height:normal;font-family:Menlo,'DejaVu Sans Mono',consolas,'Courier New',monospace\"><span style=\"color: #7fbfbf; text-decoration-color: #7fbfbf\">[10/17/22 16:51:31] </span><span style=\"color: #000080; text-decoration-color: #000080\">INFO    </span> <span style=\"color: #808000; text-decoration-color: #808000\">...</span> io_events  <span style=\"color: #008000; text-decoration-color: #008000; font-weight: bold\">SUCCESS</span> <span style=\"font-weight: bold\">[</span><span style=\"color: #008080; text-decoration-color: #008080; font-weight: bold\">720</span> <span style=\"color: #800080; text-decoration-color: #800080; font-weight: bold\">rows</span><span style=\"font-weight: bold\">(</span>s<span style=\"font-weight: bold\">)]</span>                                   <a href=\"file:///usr/local/google/home/codyfincher/Code/database-tools/oracle-database-assessment/src/server/dbma/database.py\" target=\"_blank\"><span style=\"color: #7f7f7f; text-decoration-color: #7f7f7f\">database.py</span></a><span style=\"color: #7f7f7f; text-decoration-color: #7f7f7f\">:</span><a href=\"file:///usr/local/google/home/codyfincher/Code/database-tools/oracle-database-assessment/src/server/dbma/database.py#160\" target=\"_blank\"><span style=\"color: #7f7f7f; text-decoration-color: #7f7f7f\">160</span></a>\n",
       "</pre>\n"
      ],
      "text/plain": [
       "\u001b[2;36m[10/17/22 16:51:31]\u001b[0m\u001b[2;36m \u001b[0m\u001b[34mINFO    \u001b[0m \u001b[33m...\u001b[0m io_events  \u001b[1;32mSUCCESS\u001b[0m \u001b[1m[\u001b[0m\u001b[1;36m720\u001b[0m \u001b[1;35mrows\u001b[0m\u001b[1m(\u001b[0ms\u001b[1m)\u001b[0m\u001b[1m]\u001b[0m                                   \u001b]8;id=336064;file:///usr/local/google/home/codyfincher/Code/database-tools/oracle-database-assessment/src/server/dbma/database.py\u001b\\\u001b[2mdatabase.py\u001b[0m\u001b]8;;\u001b\\\u001b[2m:\u001b[0m\u001b]8;id=114201;file:///usr/local/google/home/codyfincher/Code/database-tools/oracle-database-assessment/src/server/dbma/database.py#160\u001b\\\u001b[2m160\u001b[0m\u001b]8;;\u001b\\\n"
      ]
     },
     "metadata": {},
     "output_type": "display_data"
    },
    {
     "data": {
      "text/html": [
       "<pre style=\"white-space:pre;overflow-x:auto;line-height:normal;font-family:Menlo,'DejaVu Sans Mono',consolas,'Courier New',monospace\"><span style=\"color: #7fbfbf; text-decoration-color: #7fbfbf\">[10/17/22 16:51:31] </span><span style=\"color: #000080; text-decoration-color: #000080\">INFO    </span> delimiter is |                                                         <a href=\"file:///usr/local/google/home/codyfincher/Code/database-tools/oracle-database-assessment/src/server/dbma/database.py\" target=\"_blank\"><span style=\"color: #7f7f7f; text-decoration-color: #7f7f7f\">database.py</span></a><span style=\"color: #7f7f7f; text-decoration-color: #7f7f7f\">:</span><a href=\"file:///usr/local/google/home/codyfincher/Code/database-tools/oracle-database-assessment/src/server/dbma/database.py#153\" target=\"_blank\"><span style=\"color: #7f7f7f; text-decoration-color: #7f7f7f\">153</span></a>\n",
       "</pre>\n"
      ],
      "text/plain": [
       "\u001b[2;36m[10/17/22 16:51:31]\u001b[0m\u001b[2;36m \u001b[0m\u001b[34mINFO    \u001b[0m delimiter is |                                                         \u001b]8;id=100823;file:///usr/local/google/home/codyfincher/Code/database-tools/oracle-database-assessment/src/server/dbma/database.py\u001b\\\u001b[2mdatabase.py\u001b[0m\u001b]8;;\u001b\\\u001b[2m:\u001b[0m\u001b]8;id=333569;file:///usr/local/google/home/codyfincher/Code/database-tools/oracle-database-assessment/src/server/dbma/database.py#153\u001b\\\u001b[2m153\u001b[0m\u001b]8;;\u001b\\\n"
      ]
     },
     "metadata": {},
     "output_type": "display_data"
    },
    {
     "data": {
      "text/html": [
       "<pre style=\"white-space:pre;overflow-x:auto;line-height:normal;font-family:Menlo,'DejaVu Sans Mono',consolas,'Courier New',monospace\"><span style=\"color: #7fbfbf; text-decoration-color: #7fbfbf\">[10/17/22 16:51:31] </span><span style=\"color: #000080; text-decoration-color: #000080\">INFO    </span> <span style=\"color: #808000; text-decoration-color: #808000\">...</span> io_function  <span style=\"color: #008000; text-decoration-color: #008000; font-weight: bold\">SUCCESS</span> <span style=\"font-weight: bold\">[</span><span style=\"color: #008080; text-decoration-color: #008080; font-weight: bold\">360</span> <span style=\"color: #800080; text-decoration-color: #800080; font-weight: bold\">rows</span><span style=\"font-weight: bold\">(</span>s<span style=\"font-weight: bold\">)]</span>                                 <a href=\"file:///usr/local/google/home/codyfincher/Code/database-tools/oracle-database-assessment/src/server/dbma/database.py\" target=\"_blank\"><span style=\"color: #7f7f7f; text-decoration-color: #7f7f7f\">database.py</span></a><span style=\"color: #7f7f7f; text-decoration-color: #7f7f7f\">:</span><a href=\"file:///usr/local/google/home/codyfincher/Code/database-tools/oracle-database-assessment/src/server/dbma/database.py#160\" target=\"_blank\"><span style=\"color: #7f7f7f; text-decoration-color: #7f7f7f\">160</span></a>\n",
       "</pre>\n"
      ],
      "text/plain": [
       "\u001b[2;36m[10/17/22 16:51:31]\u001b[0m\u001b[2;36m \u001b[0m\u001b[34mINFO    \u001b[0m \u001b[33m...\u001b[0m io_function  \u001b[1;32mSUCCESS\u001b[0m \u001b[1m[\u001b[0m\u001b[1;36m360\u001b[0m \u001b[1;35mrows\u001b[0m\u001b[1m(\u001b[0ms\u001b[1m)\u001b[0m\u001b[1m]\u001b[0m                                 \u001b]8;id=178590;file:///usr/local/google/home/codyfincher/Code/database-tools/oracle-database-assessment/src/server/dbma/database.py\u001b\\\u001b[2mdatabase.py\u001b[0m\u001b]8;;\u001b\\\u001b[2m:\u001b[0m\u001b]8;id=693543;file:///usr/local/google/home/codyfincher/Code/database-tools/oracle-database-assessment/src/server/dbma/database.py#160\u001b\\\u001b[2m160\u001b[0m\u001b]8;;\u001b\\\n"
      ]
     },
     "metadata": {},
     "output_type": "display_data"
    },
    {
     "data": {
      "text/html": [
       "<pre style=\"white-space:pre;overflow-x:auto;line-height:normal;font-family:Menlo,'DejaVu Sans Mono',consolas,'Courier New',monospace\"><span style=\"color: #7fbfbf; text-decoration-color: #7fbfbf\">[10/17/22 16:51:31] </span><span style=\"color: #000080; text-decoration-color: #000080\">INFO    </span> delimiter is |                                                         <a href=\"file:///usr/local/google/home/codyfincher/Code/database-tools/oracle-database-assessment/src/server/dbma/database.py\" target=\"_blank\"><span style=\"color: #7f7f7f; text-decoration-color: #7f7f7f\">database.py</span></a><span style=\"color: #7f7f7f; text-decoration-color: #7f7f7f\">:</span><a href=\"file:///usr/local/google/home/codyfincher/Code/database-tools/oracle-database-assessment/src/server/dbma/database.py#153\" target=\"_blank\"><span style=\"color: #7f7f7f; text-decoration-color: #7f7f7f\">153</span></a>\n",
       "</pre>\n"
      ],
      "text/plain": [
       "\u001b[2;36m[10/17/22 16:51:31]\u001b[0m\u001b[2;36m \u001b[0m\u001b[34mINFO    \u001b[0m delimiter is |                                                         \u001b]8;id=839990;file:///usr/local/google/home/codyfincher/Code/database-tools/oracle-database-assessment/src/server/dbma/database.py\u001b\\\u001b[2mdatabase.py\u001b[0m\u001b]8;;\u001b\\\u001b[2m:\u001b[0m\u001b]8;id=435487;file:///usr/local/google/home/codyfincher/Code/database-tools/oracle-database-assessment/src/server/dbma/database.py#153\u001b\\\u001b[2m153\u001b[0m\u001b]8;;\u001b\\\n"
      ]
     },
     "metadata": {},
     "output_type": "display_data"
    },
    {
     "data": {
      "text/html": [
       "<pre style=\"white-space:pre;overflow-x:auto;line-height:normal;font-family:Menlo,'DejaVu Sans Mono',consolas,'Courier New',monospace\"><span style=\"color: #7fbfbf; text-decoration-color: #7fbfbf\">[10/17/22 16:51:31] </span><span style=\"color: #000080; text-decoration-color: #000080\">INFO    </span> <span style=\"color: #808000; text-decoration-color: #808000\">...</span> pdbs_info  <span style=\"color: #7f7f7f; text-decoration-color: #7f7f7f; font-weight: bold\">SKIPPED</span>                                                 <a href=\"file:///usr/local/google/home/codyfincher/Code/database-tools/oracle-database-assessment/src/server/dbma/database.py\" target=\"_blank\"><span style=\"color: #7f7f7f; text-decoration-color: #7f7f7f\">database.py</span></a><span style=\"color: #7f7f7f; text-decoration-color: #7f7f7f\">:</span><a href=\"file:///usr/local/google/home/codyfincher/Code/database-tools/oracle-database-assessment/src/server/dbma/database.py#163\" target=\"_blank\"><span style=\"color: #7f7f7f; text-decoration-color: #7f7f7f\">163</span></a>\n",
       "</pre>\n"
      ],
      "text/plain": [
       "\u001b[2;36m[10/17/22 16:51:31]\u001b[0m\u001b[2;36m \u001b[0m\u001b[34mINFO    \u001b[0m \u001b[33m...\u001b[0m pdbs_info  \u001b[1;2mSKIPPED\u001b[0m                                                 \u001b]8;id=257470;file:///usr/local/google/home/codyfincher/Code/database-tools/oracle-database-assessment/src/server/dbma/database.py\u001b\\\u001b[2mdatabase.py\u001b[0m\u001b]8;;\u001b\\\u001b[2m:\u001b[0m\u001b]8;id=493657;file:///usr/local/google/home/codyfincher/Code/database-tools/oracle-database-assessment/src/server/dbma/database.py#163\u001b\\\u001b[2m163\u001b[0m\u001b]8;;\u001b\\\n"
      ]
     },
     "metadata": {},
     "output_type": "display_data"
    },
    {
     "data": {
      "text/html": [
       "<pre style=\"white-space:pre;overflow-x:auto;line-height:normal;font-family:Menlo,'DejaVu Sans Mono',consolas,'Courier New',monospace\"><span style=\"color: #7fbfbf; text-decoration-color: #7fbfbf\">[10/17/22 16:51:31] </span><span style=\"color: #000080; text-decoration-color: #000080\">INFO    </span> delimiter is |                                                         <a href=\"file:///usr/local/google/home/codyfincher/Code/database-tools/oracle-database-assessment/src/server/dbma/database.py\" target=\"_blank\"><span style=\"color: #7f7f7f; text-decoration-color: #7f7f7f\">database.py</span></a><span style=\"color: #7f7f7f; text-decoration-color: #7f7f7f\">:</span><a href=\"file:///usr/local/google/home/codyfincher/Code/database-tools/oracle-database-assessment/src/server/dbma/database.py#153\" target=\"_blank\"><span style=\"color: #7f7f7f; text-decoration-color: #7f7f7f\">153</span></a>\n",
       "</pre>\n"
      ],
      "text/plain": [
       "\u001b[2;36m[10/17/22 16:51:31]\u001b[0m\u001b[2;36m \u001b[0m\u001b[34mINFO    \u001b[0m delimiter is |                                                         \u001b]8;id=493373;file:///usr/local/google/home/codyfincher/Code/database-tools/oracle-database-assessment/src/server/dbma/database.py\u001b\\\u001b[2mdatabase.py\u001b[0m\u001b]8;;\u001b\\\u001b[2m:\u001b[0m\u001b]8;id=895307;file:///usr/local/google/home/codyfincher/Code/database-tools/oracle-database-assessment/src/server/dbma/database.py#153\u001b\\\u001b[2m153\u001b[0m\u001b]8;;\u001b\\\n"
      ]
     },
     "metadata": {},
     "output_type": "display_data"
    },
    {
     "data": {
      "text/html": [
       "<pre style=\"white-space:pre;overflow-x:auto;line-height:normal;font-family:Menlo,'DejaVu Sans Mono',consolas,'Courier New',monospace\"><span style=\"color: #7fbfbf; text-decoration-color: #7fbfbf\">[10/17/22 16:51:31] </span><span style=\"color: #000080; text-decoration-color: #000080\">INFO    </span> <span style=\"color: #808000; text-decoration-color: #808000\">...</span> pdbs_in_open_mode  <span style=\"color: #7f7f7f; text-decoration-color: #7f7f7f; font-weight: bold\">SKIPPED</span>                                         <a href=\"file:///usr/local/google/home/codyfincher/Code/database-tools/oracle-database-assessment/src/server/dbma/database.py\" target=\"_blank\"><span style=\"color: #7f7f7f; text-decoration-color: #7f7f7f\">database.py</span></a><span style=\"color: #7f7f7f; text-decoration-color: #7f7f7f\">:</span><a href=\"file:///usr/local/google/home/codyfincher/Code/database-tools/oracle-database-assessment/src/server/dbma/database.py#163\" target=\"_blank\"><span style=\"color: #7f7f7f; text-decoration-color: #7f7f7f\">163</span></a>\n",
       "</pre>\n"
      ],
      "text/plain": [
       "\u001b[2;36m[10/17/22 16:51:31]\u001b[0m\u001b[2;36m \u001b[0m\u001b[34mINFO    \u001b[0m \u001b[33m...\u001b[0m pdbs_in_open_mode  \u001b[1;2mSKIPPED\u001b[0m                                         \u001b]8;id=987959;file:///usr/local/google/home/codyfincher/Code/database-tools/oracle-database-assessment/src/server/dbma/database.py\u001b\\\u001b[2mdatabase.py\u001b[0m\u001b]8;;\u001b\\\u001b[2m:\u001b[0m\u001b]8;id=962772;file:///usr/local/google/home/codyfincher/Code/database-tools/oracle-database-assessment/src/server/dbma/database.py#163\u001b\\\u001b[2m163\u001b[0m\u001b]8;;\u001b\\\n"
      ]
     },
     "metadata": {},
     "output_type": "display_data"
    },
    {
     "data": {
      "text/html": [
       "<pre style=\"white-space:pre;overflow-x:auto;line-height:normal;font-family:Menlo,'DejaVu Sans Mono',consolas,'Courier New',monospace\"><span style=\"color: #7fbfbf; text-decoration-color: #7fbfbf\">[10/17/22 16:51:31] </span><span style=\"color: #000080; text-decoration-color: #000080\">INFO    </span> delimiter is |                                                         <a href=\"file:///usr/local/google/home/codyfincher/Code/database-tools/oracle-database-assessment/src/server/dbma/database.py\" target=\"_blank\"><span style=\"color: #7f7f7f; text-decoration-color: #7f7f7f\">database.py</span></a><span style=\"color: #7f7f7f; text-decoration-color: #7f7f7f\">:</span><a href=\"file:///usr/local/google/home/codyfincher/Code/database-tools/oracle-database-assessment/src/server/dbma/database.py#153\" target=\"_blank\"><span style=\"color: #7f7f7f; text-decoration-color: #7f7f7f\">153</span></a>\n",
       "</pre>\n"
      ],
      "text/plain": [
       "\u001b[2;36m[10/17/22 16:51:31]\u001b[0m\u001b[2;36m \u001b[0m\u001b[34mINFO    \u001b[0m delimiter is |                                                         \u001b]8;id=631935;file:///usr/local/google/home/codyfincher/Code/database-tools/oracle-database-assessment/src/server/dbma/database.py\u001b\\\u001b[2mdatabase.py\u001b[0m\u001b]8;;\u001b\\\u001b[2m:\u001b[0m\u001b]8;id=131930;file:///usr/local/google/home/codyfincher/Code/database-tools/oracle-database-assessment/src/server/dbma/database.py#153\u001b\\\u001b[2m153\u001b[0m\u001b]8;;\u001b\\\n"
      ]
     },
     "metadata": {},
     "output_type": "display_data"
    },
    {
     "data": {
      "text/html": [
       "<pre style=\"white-space:pre;overflow-x:auto;line-height:normal;font-family:Menlo,'DejaVu Sans Mono',consolas,'Courier New',monospace\"><span style=\"color: #7fbfbf; text-decoration-color: #7fbfbf\">[10/17/22 16:51:31] </span><span style=\"color: #000080; text-decoration-color: #000080\">INFO    </span> <span style=\"color: #808000; text-decoration-color: #808000\">...</span> db_source_code  <span style=\"color: #008000; text-decoration-color: #008000; font-weight: bold\">SUCCESS</span> <span style=\"font-weight: bold\">[</span><span style=\"color: #008080; text-decoration-color: #008080; font-weight: bold\">51</span> <span style=\"color: #800080; text-decoration-color: #800080; font-weight: bold\">rows</span><span style=\"font-weight: bold\">(</span>s<span style=\"font-weight: bold\">)]</span>                               <a href=\"file:///usr/local/google/home/codyfincher/Code/database-tools/oracle-database-assessment/src/server/dbma/database.py\" target=\"_blank\"><span style=\"color: #7f7f7f; text-decoration-color: #7f7f7f\">database.py</span></a><span style=\"color: #7f7f7f; text-decoration-color: #7f7f7f\">:</span><a href=\"file:///usr/local/google/home/codyfincher/Code/database-tools/oracle-database-assessment/src/server/dbma/database.py#160\" target=\"_blank\"><span style=\"color: #7f7f7f; text-decoration-color: #7f7f7f\">160</span></a>\n",
       "</pre>\n"
      ],
      "text/plain": [
       "\u001b[2;36m[10/17/22 16:51:31]\u001b[0m\u001b[2;36m \u001b[0m\u001b[34mINFO    \u001b[0m \u001b[33m...\u001b[0m db_source_code  \u001b[1;32mSUCCESS\u001b[0m \u001b[1m[\u001b[0m\u001b[1;36m51\u001b[0m \u001b[1;35mrows\u001b[0m\u001b[1m(\u001b[0ms\u001b[1m)\u001b[0m\u001b[1m]\u001b[0m                               \u001b]8;id=470051;file:///usr/local/google/home/codyfincher/Code/database-tools/oracle-database-assessment/src/server/dbma/database.py\u001b\\\u001b[2mdatabase.py\u001b[0m\u001b]8;;\u001b\\\u001b[2m:\u001b[0m\u001b]8;id=642944;file:///usr/local/google/home/codyfincher/Code/database-tools/oracle-database-assessment/src/server/dbma/database.py#160\u001b\\\u001b[2m160\u001b[0m\u001b]8;;\u001b\\\n"
      ]
     },
     "metadata": {},
     "output_type": "display_data"
    },
    {
     "data": {
      "text/html": [
       "<pre style=\"white-space:pre;overflow-x:auto;line-height:normal;font-family:Menlo,'DejaVu Sans Mono',consolas,'Courier New',monospace\"><span style=\"color: #7fbfbf; text-decoration-color: #7fbfbf\">[10/17/22 16:51:31] </span><span style=\"color: #000080; text-decoration-color: #000080\">INFO    </span> delimiter is |                                                         <a href=\"file:///usr/local/google/home/codyfincher/Code/database-tools/oracle-database-assessment/src/server/dbma/database.py\" target=\"_blank\"><span style=\"color: #7f7f7f; text-decoration-color: #7f7f7f\">database.py</span></a><span style=\"color: #7f7f7f; text-decoration-color: #7f7f7f\">:</span><a href=\"file:///usr/local/google/home/codyfincher/Code/database-tools/oracle-database-assessment/src/server/dbma/database.py#153\" target=\"_blank\"><span style=\"color: #7f7f7f; text-decoration-color: #7f7f7f\">153</span></a>\n",
       "</pre>\n"
      ],
      "text/plain": [
       "\u001b[2;36m[10/17/22 16:51:31]\u001b[0m\u001b[2;36m \u001b[0m\u001b[34mINFO    \u001b[0m delimiter is |                                                         \u001b]8;id=213910;file:///usr/local/google/home/codyfincher/Code/database-tools/oracle-database-assessment/src/server/dbma/database.py\u001b\\\u001b[2mdatabase.py\u001b[0m\u001b]8;;\u001b\\\u001b[2m:\u001b[0m\u001b]8;id=222911;file:///usr/local/google/home/codyfincher/Code/database-tools/oracle-database-assessment/src/server/dbma/database.py#153\u001b\\\u001b[2m153\u001b[0m\u001b]8;;\u001b\\\n"
      ]
     },
     "metadata": {},
     "output_type": "display_data"
    },
    {
     "data": {
      "text/html": [
       "<pre style=\"white-space:pre;overflow-x:auto;line-height:normal;font-family:Menlo,'DejaVu Sans Mono',consolas,'Courier New',monospace\"><span style=\"color: #7fbfbf; text-decoration-color: #7fbfbf\">[10/17/22 16:51:31] </span><span style=\"color: #000080; text-decoration-color: #000080\">INFO    </span> <span style=\"color: #808000; text-decoration-color: #808000\">...</span> db_source_connections  <span style=\"color: #008000; text-decoration-color: #008000; font-weight: bold\">SUCCESS</span> <span style=\"font-weight: bold\">[</span><span style=\"color: #008080; text-decoration-color: #008080; font-weight: bold\">2708</span> <span style=\"color: #800080; text-decoration-color: #800080; font-weight: bold\">rows</span><span style=\"font-weight: bold\">(</span>s<span style=\"font-weight: bold\">)]</span>                      <a href=\"file:///usr/local/google/home/codyfincher/Code/database-tools/oracle-database-assessment/src/server/dbma/database.py\" target=\"_blank\"><span style=\"color: #7f7f7f; text-decoration-color: #7f7f7f\">database.py</span></a><span style=\"color: #7f7f7f; text-decoration-color: #7f7f7f\">:</span><a href=\"file:///usr/local/google/home/codyfincher/Code/database-tools/oracle-database-assessment/src/server/dbma/database.py#160\" target=\"_blank\"><span style=\"color: #7f7f7f; text-decoration-color: #7f7f7f\">160</span></a>\n",
       "</pre>\n"
      ],
      "text/plain": [
       "\u001b[2;36m[10/17/22 16:51:31]\u001b[0m\u001b[2;36m \u001b[0m\u001b[34mINFO    \u001b[0m \u001b[33m...\u001b[0m db_source_connections  \u001b[1;32mSUCCESS\u001b[0m \u001b[1m[\u001b[0m\u001b[1;36m2708\u001b[0m \u001b[1;35mrows\u001b[0m\u001b[1m(\u001b[0ms\u001b[1m)\u001b[0m\u001b[1m]\u001b[0m                      \u001b]8;id=530070;file:///usr/local/google/home/codyfincher/Code/database-tools/oracle-database-assessment/src/server/dbma/database.py\u001b\\\u001b[2mdatabase.py\u001b[0m\u001b]8;;\u001b\\\u001b[2m:\u001b[0m\u001b]8;id=724367;file:///usr/local/google/home/codyfincher/Code/database-tools/oracle-database-assessment/src/server/dbma/database.py#160\u001b\\\u001b[2m160\u001b[0m\u001b]8;;\u001b\\\n"
      ]
     },
     "metadata": {},
     "output_type": "display_data"
    },
    {
     "data": {
      "text/html": [
       "<pre style=\"white-space:pre;overflow-x:auto;line-height:normal;font-family:Menlo,'DejaVu Sans Mono',consolas,'Courier New',monospace\"><span style=\"color: #7fbfbf; text-decoration-color: #7fbfbf\">[10/17/22 16:51:31] </span><span style=\"color: #000080; text-decoration-color: #000080\">INFO    </span> delimiter is |                                                         <a href=\"file:///usr/local/google/home/codyfincher/Code/database-tools/oracle-database-assessment/src/server/dbma/database.py\" target=\"_blank\"><span style=\"color: #7f7f7f; text-decoration-color: #7f7f7f\">database.py</span></a><span style=\"color: #7f7f7f; text-decoration-color: #7f7f7f\">:</span><a href=\"file:///usr/local/google/home/codyfincher/Code/database-tools/oracle-database-assessment/src/server/dbma/database.py#153\" target=\"_blank\"><span style=\"color: #7f7f7f; text-decoration-color: #7f7f7f\">153</span></a>\n",
       "</pre>\n"
      ],
      "text/plain": [
       "\u001b[2;36m[10/17/22 16:51:31]\u001b[0m\u001b[2;36m \u001b[0m\u001b[34mINFO    \u001b[0m delimiter is |                                                         \u001b]8;id=495436;file:///usr/local/google/home/codyfincher/Code/database-tools/oracle-database-assessment/src/server/dbma/database.py\u001b\\\u001b[2mdatabase.py\u001b[0m\u001b]8;;\u001b\\\u001b[2m:\u001b[0m\u001b]8;id=737762;file:///usr/local/google/home/codyfincher/Code/database-tools/oracle-database-assessment/src/server/dbma/database.py#153\u001b\\\u001b[2m153\u001b[0m\u001b]8;;\u001b\\\n"
      ]
     },
     "metadata": {},
     "output_type": "display_data"
    },
    {
     "data": {
      "text/html": [
       "<pre style=\"white-space:pre;overflow-x:auto;line-height:normal;font-family:Menlo,'DejaVu Sans Mono',consolas,'Courier New',monospace\"><span style=\"color: #7fbfbf; text-decoration-color: #7fbfbf\">[10/17/22 16:51:31] </span><span style=\"color: #000080; text-decoration-color: #000080\">INFO    </span> <span style=\"color: #808000; text-decoration-color: #808000\">...</span> db_sql_stats  <span style=\"color: #008000; text-decoration-color: #008000; font-weight: bold\">SUCCESS</span> <span style=\"font-weight: bold\">[</span><span style=\"color: #008080; text-decoration-color: #008080; font-weight: bold\">299</span> <span style=\"color: #800080; text-decoration-color: #800080; font-weight: bold\">rows</span><span style=\"font-weight: bold\">(</span>s<span style=\"font-weight: bold\">)]</span>                                <a href=\"file:///usr/local/google/home/codyfincher/Code/database-tools/oracle-database-assessment/src/server/dbma/database.py\" target=\"_blank\"><span style=\"color: #7f7f7f; text-decoration-color: #7f7f7f\">database.py</span></a><span style=\"color: #7f7f7f; text-decoration-color: #7f7f7f\">:</span><a href=\"file:///usr/local/google/home/codyfincher/Code/database-tools/oracle-database-assessment/src/server/dbma/database.py#160\" target=\"_blank\"><span style=\"color: #7f7f7f; text-decoration-color: #7f7f7f\">160</span></a>\n",
       "</pre>\n"
      ],
      "text/plain": [
       "\u001b[2;36m[10/17/22 16:51:31]\u001b[0m\u001b[2;36m \u001b[0m\u001b[34mINFO    \u001b[0m \u001b[33m...\u001b[0m db_sql_stats  \u001b[1;32mSUCCESS\u001b[0m \u001b[1m[\u001b[0m\u001b[1;36m299\u001b[0m \u001b[1;35mrows\u001b[0m\u001b[1m(\u001b[0ms\u001b[1m)\u001b[0m\u001b[1m]\u001b[0m                                \u001b]8;id=686591;file:///usr/local/google/home/codyfincher/Code/database-tools/oracle-database-assessment/src/server/dbma/database.py\u001b\\\u001b[2mdatabase.py\u001b[0m\u001b]8;;\u001b\\\u001b[2m:\u001b[0m\u001b]8;id=134637;file:///usr/local/google/home/codyfincher/Code/database-tools/oracle-database-assessment/src/server/dbma/database.py#160\u001b\\\u001b[2m160\u001b[0m\u001b]8;;\u001b\\\n"
      ]
     },
     "metadata": {},
     "output_type": "display_data"
    },
    {
     "data": {
      "text/html": [
       "<pre style=\"white-space:pre;overflow-x:auto;line-height:normal;font-family:Menlo,'DejaVu Sans Mono',consolas,'Courier New',monospace\"><span style=\"color: #7fbfbf; text-decoration-color: #7fbfbf\">[10/17/22 16:51:31] </span><span style=\"color: #000080; text-decoration-color: #000080\">INFO    </span> delimiter is |                                                         <a href=\"file:///usr/local/google/home/codyfincher/Code/database-tools/oracle-database-assessment/src/server/dbma/database.py\" target=\"_blank\"><span style=\"color: #7f7f7f; text-decoration-color: #7f7f7f\">database.py</span></a><span style=\"color: #7f7f7f; text-decoration-color: #7f7f7f\">:</span><a href=\"file:///usr/local/google/home/codyfincher/Code/database-tools/oracle-database-assessment/src/server/dbma/database.py#153\" target=\"_blank\"><span style=\"color: #7f7f7f; text-decoration-color: #7f7f7f\">153</span></a>\n",
       "</pre>\n"
      ],
      "text/plain": [
       "\u001b[2;36m[10/17/22 16:51:31]\u001b[0m\u001b[2;36m \u001b[0m\u001b[34mINFO    \u001b[0m delimiter is |                                                         \u001b]8;id=559232;file:///usr/local/google/home/codyfincher/Code/database-tools/oracle-database-assessment/src/server/dbma/database.py\u001b\\\u001b[2mdatabase.py\u001b[0m\u001b]8;;\u001b\\\u001b[2m:\u001b[0m\u001b]8;id=870802;file:///usr/local/google/home/codyfincher/Code/database-tools/oracle-database-assessment/src/server/dbma/database.py#153\u001b\\\u001b[2m153\u001b[0m\u001b]8;;\u001b\\\n"
      ]
     },
     "metadata": {},
     "output_type": "display_data"
    },
    {
     "data": {
      "text/html": [
       "<pre style=\"white-space:pre;overflow-x:auto;line-height:normal;font-family:Menlo,'DejaVu Sans Mono',consolas,'Courier New',monospace\"><span style=\"color: #7fbfbf; text-decoration-color: #7fbfbf\">[10/17/22 16:51:31] </span><span style=\"color: #000080; text-decoration-color: #000080\">INFO    </span> <span style=\"color: #808000; text-decoration-color: #808000\">...</span> db_constraint_summary  <span style=\"color: #008000; text-decoration-color: #008000; font-weight: bold\">SUCCESS</span> <span style=\"font-weight: bold\">[</span><span style=\"color: #008080; text-decoration-color: #008080; font-weight: bold\">50</span> <span style=\"color: #800080; text-decoration-color: #800080; font-weight: bold\">rows</span><span style=\"font-weight: bold\">(</span>s<span style=\"font-weight: bold\">)]</span>                        <a href=\"file:///usr/local/google/home/codyfincher/Code/database-tools/oracle-database-assessment/src/server/dbma/database.py\" target=\"_blank\"><span style=\"color: #7f7f7f; text-decoration-color: #7f7f7f\">database.py</span></a><span style=\"color: #7f7f7f; text-decoration-color: #7f7f7f\">:</span><a href=\"file:///usr/local/google/home/codyfincher/Code/database-tools/oracle-database-assessment/src/server/dbma/database.py#160\" target=\"_blank\"><span style=\"color: #7f7f7f; text-decoration-color: #7f7f7f\">160</span></a>\n",
       "</pre>\n"
      ],
      "text/plain": [
       "\u001b[2;36m[10/17/22 16:51:31]\u001b[0m\u001b[2;36m \u001b[0m\u001b[34mINFO    \u001b[0m \u001b[33m...\u001b[0m db_constraint_summary  \u001b[1;32mSUCCESS\u001b[0m \u001b[1m[\u001b[0m\u001b[1;36m50\u001b[0m \u001b[1;35mrows\u001b[0m\u001b[1m(\u001b[0ms\u001b[1m)\u001b[0m\u001b[1m]\u001b[0m                        \u001b]8;id=480913;file:///usr/local/google/home/codyfincher/Code/database-tools/oracle-database-assessment/src/server/dbma/database.py\u001b\\\u001b[2mdatabase.py\u001b[0m\u001b]8;;\u001b\\\u001b[2m:\u001b[0m\u001b]8;id=128861;file:///usr/local/google/home/codyfincher/Code/database-tools/oracle-database-assessment/src/server/dbma/database.py#160\u001b\\\u001b[2m160\u001b[0m\u001b]8;;\u001b\\\n"
      ]
     },
     "metadata": {},
     "output_type": "display_data"
    },
    {
     "data": {
      "text/html": [
       "<pre style=\"white-space:pre;overflow-x:auto;line-height:normal;font-family:Menlo,'DejaVu Sans Mono',consolas,'Courier New',monospace\"><span style=\"color: #7fbfbf; text-decoration-color: #7fbfbf\">[10/17/22 16:51:31] </span><span style=\"color: #000080; text-decoration-color: #000080\">INFO    </span> delimiter is |                                                         <a href=\"file:///usr/local/google/home/codyfincher/Code/database-tools/oracle-database-assessment/src/server/dbma/database.py\" target=\"_blank\"><span style=\"color: #7f7f7f; text-decoration-color: #7f7f7f\">database.py</span></a><span style=\"color: #7f7f7f; text-decoration-color: #7f7f7f\">:</span><a href=\"file:///usr/local/google/home/codyfincher/Code/database-tools/oracle-database-assessment/src/server/dbma/database.py#153\" target=\"_blank\"><span style=\"color: #7f7f7f; text-decoration-color: #7f7f7f\">153</span></a>\n",
       "</pre>\n"
      ],
      "text/plain": [
       "\u001b[2;36m[10/17/22 16:51:31]\u001b[0m\u001b[2;36m \u001b[0m\u001b[34mINFO    \u001b[0m delimiter is |                                                         \u001b]8;id=968025;file:///usr/local/google/home/codyfincher/Code/database-tools/oracle-database-assessment/src/server/dbma/database.py\u001b\\\u001b[2mdatabase.py\u001b[0m\u001b]8;;\u001b\\\u001b[2m:\u001b[0m\u001b]8;id=409441;file:///usr/local/google/home/codyfincher/Code/database-tools/oracle-database-assessment/src/server/dbma/database.py#153\u001b\\\u001b[2m153\u001b[0m\u001b]8;;\u001b\\\n"
      ]
     },
     "metadata": {},
     "output_type": "display_data"
    },
    {
     "data": {
      "text/html": [
       "<pre style=\"white-space:pre;overflow-x:auto;line-height:normal;font-family:Menlo,'DejaVu Sans Mono',consolas,'Courier New',monospace\"><span style=\"color: #7fbfbf; text-decoration-color: #7fbfbf\">[10/17/22 16:51:31] </span><span style=\"color: #000080; text-decoration-color: #000080\">INFO    </span> <span style=\"color: #808000; text-decoration-color: #808000\">...</span> db_used_space_details  <span style=\"color: #008000; text-decoration-color: #008000; font-weight: bold\">SUCCESS</span> <span style=\"font-weight: bold\">[</span><span style=\"color: #008080; text-decoration-color: #008080; font-weight: bold\">63</span> <span style=\"color: #800080; text-decoration-color: #800080; font-weight: bold\">rows</span><span style=\"font-weight: bold\">(</span>s<span style=\"font-weight: bold\">)]</span>                        <a href=\"file:///usr/local/google/home/codyfincher/Code/database-tools/oracle-database-assessment/src/server/dbma/database.py\" target=\"_blank\"><span style=\"color: #7f7f7f; text-decoration-color: #7f7f7f\">database.py</span></a><span style=\"color: #7f7f7f; text-decoration-color: #7f7f7f\">:</span><a href=\"file:///usr/local/google/home/codyfincher/Code/database-tools/oracle-database-assessment/src/server/dbma/database.py#160\" target=\"_blank\"><span style=\"color: #7f7f7f; text-decoration-color: #7f7f7f\">160</span></a>\n",
       "</pre>\n"
      ],
      "text/plain": [
       "\u001b[2;36m[10/17/22 16:51:31]\u001b[0m\u001b[2;36m \u001b[0m\u001b[34mINFO    \u001b[0m \u001b[33m...\u001b[0m db_used_space_details  \u001b[1;32mSUCCESS\u001b[0m \u001b[1m[\u001b[0m\u001b[1;36m63\u001b[0m \u001b[1;35mrows\u001b[0m\u001b[1m(\u001b[0ms\u001b[1m)\u001b[0m\u001b[1m]\u001b[0m                        \u001b]8;id=23576;file:///usr/local/google/home/codyfincher/Code/database-tools/oracle-database-assessment/src/server/dbma/database.py\u001b\\\u001b[2mdatabase.py\u001b[0m\u001b]8;;\u001b\\\u001b[2m:\u001b[0m\u001b]8;id=423736;file:///usr/local/google/home/codyfincher/Code/database-tools/oracle-database-assessment/src/server/dbma/database.py#160\u001b\\\u001b[2m160\u001b[0m\u001b]8;;\u001b\\\n"
      ]
     },
     "metadata": {},
     "output_type": "display_data"
    },
    {
     "data": {
      "text/html": [
       "<pre style=\"white-space:pre;overflow-x:auto;line-height:normal;font-family:Menlo,'DejaVu Sans Mono',consolas,'Courier New',monospace\"><span style=\"color: #7fbfbf; text-decoration-color: #7fbfbf\">[10/17/22 16:51:31] </span><span style=\"color: #000080; text-decoration-color: #000080\">INFO    </span> delimiter is |                                                         <a href=\"file:///usr/local/google/home/codyfincher/Code/database-tools/oracle-database-assessment/src/server/dbma/database.py\" target=\"_blank\"><span style=\"color: #7f7f7f; text-decoration-color: #7f7f7f\">database.py</span></a><span style=\"color: #7f7f7f; text-decoration-color: #7f7f7f\">:</span><a href=\"file:///usr/local/google/home/codyfincher/Code/database-tools/oracle-database-assessment/src/server/dbma/database.py#153\" target=\"_blank\"><span style=\"color: #7f7f7f; text-decoration-color: #7f7f7f\">153</span></a>\n",
       "</pre>\n"
      ],
      "text/plain": [
       "\u001b[2;36m[10/17/22 16:51:31]\u001b[0m\u001b[2;36m \u001b[0m\u001b[34mINFO    \u001b[0m delimiter is |                                                         \u001b]8;id=943302;file:///usr/local/google/home/codyfincher/Code/database-tools/oracle-database-assessment/src/server/dbma/database.py\u001b\\\u001b[2mdatabase.py\u001b[0m\u001b]8;;\u001b\\\u001b[2m:\u001b[0m\u001b]8;id=254475;file:///usr/local/google/home/codyfincher/Code/database-tools/oracle-database-assessment/src/server/dbma/database.py#153\u001b\\\u001b[2m153\u001b[0m\u001b]8;;\u001b\\\n"
      ]
     },
     "metadata": {},
     "output_type": "display_data"
    },
    {
     "data": {
      "text/html": [
       "<pre style=\"white-space:pre;overflow-x:auto;line-height:normal;font-family:Menlo,'DejaVu Sans Mono',consolas,'Courier New',monospace\"><span style=\"color: #7fbfbf; text-decoration-color: #7fbfbf\">[10/17/22 16:51:31] </span><span style=\"color: #000080; text-decoration-color: #000080\">INFO    </span> <span style=\"color: #808000; text-decoration-color: #808000\">...</span> db_user_tablespace_segments  <span style=\"color: #7f7f7f; text-decoration-color: #7f7f7f; font-weight: bold\">SKIPPED</span>                               <a href=\"file:///usr/local/google/home/codyfincher/Code/database-tools/oracle-database-assessment/src/server/dbma/database.py\" target=\"_blank\"><span style=\"color: #7f7f7f; text-decoration-color: #7f7f7f\">database.py</span></a><span style=\"color: #7f7f7f; text-decoration-color: #7f7f7f\">:</span><a href=\"file:///usr/local/google/home/codyfincher/Code/database-tools/oracle-database-assessment/src/server/dbma/database.py#163\" target=\"_blank\"><span style=\"color: #7f7f7f; text-decoration-color: #7f7f7f\">163</span></a>\n",
       "</pre>\n"
      ],
      "text/plain": [
       "\u001b[2;36m[10/17/22 16:51:31]\u001b[0m\u001b[2;36m \u001b[0m\u001b[34mINFO    \u001b[0m \u001b[33m...\u001b[0m db_user_tablespace_segments  \u001b[1;2mSKIPPED\u001b[0m                               \u001b]8;id=80050;file:///usr/local/google/home/codyfincher/Code/database-tools/oracle-database-assessment/src/server/dbma/database.py\u001b\\\u001b[2mdatabase.py\u001b[0m\u001b]8;;\u001b\\\u001b[2m:\u001b[0m\u001b]8;id=83031;file:///usr/local/google/home/codyfincher/Code/database-tools/oracle-database-assessment/src/server/dbma/database.py#163\u001b\\\u001b[2m163\u001b[0m\u001b]8;;\u001b\\\n"
      ]
     },
     "metadata": {},
     "output_type": "display_data"
    },
    {
     "data": {
      "text/html": [
       "<pre style=\"white-space:pre;overflow-x:auto;line-height:normal;font-family:Menlo,'DejaVu Sans Mono',consolas,'Courier New',monospace\"><span style=\"color: #7fbfbf; text-decoration-color: #7fbfbf\">[10/17/22 16:51:37] </span><span style=\"color: #000080; text-decoration-color: #000080\">INFO    </span> <span style=\"font-weight: bold\">[]</span>                                                                        <a href=\"file:///usr/local/google/home/codyfincher/Code/database-tools/oracle-database-assessment/src/server/dbma/transformer/engine.py\" target=\"_blank\"><span style=\"color: #7f7f7f; text-decoration-color: #7f7f7f\">engine.py</span></a><span style=\"color: #7f7f7f; text-decoration-color: #7f7f7f\">:</span><a href=\"file:///usr/local/google/home/codyfincher/Code/database-tools/oracle-database-assessment/src/server/dbma/transformer/engine.py#87\" target=\"_blank\"><span style=\"color: #7f7f7f; text-decoration-color: #7f7f7f\">87</span></a>\n",
       "</pre>\n"
      ],
      "text/plain": [
       "\u001b[2;36m[10/17/22 16:51:37]\u001b[0m\u001b[2;36m \u001b[0m\u001b[34mINFO    \u001b[0m \u001b[1m[\u001b[0m\u001b[1m]\u001b[0m                                                                        \u001b]8;id=949376;file:///usr/local/google/home/codyfincher/Code/database-tools/oracle-database-assessment/src/server/dbma/transformer/engine.py\u001b\\\u001b[2mengine.py\u001b[0m\u001b]8;;\u001b\\\u001b[2m:\u001b[0m\u001b]8;id=720117;file:///usr/local/google/home/codyfincher/Code/database-tools/oracle-database-assessment/src/server/dbma/transformer/engine.py#87\u001b\\\u001b[2m87\u001b[0m\u001b]8;;\u001b\\\n"
      ]
     },
     "metadata": {},
     "output_type": "display_data"
    },
    {
     "data": {
      "text/html": [
       "<pre style=\"white-space:pre;overflow-x:auto;line-height:normal;font-family:Menlo,'DejaVu Sans Mono',consolas,'Courier New',monospace\"><span style=\"color: #7fbfbf; text-decoration-color: #7fbfbf\">[10/17/22 16:51:37] </span><span style=\"color: #000080; text-decoration-color: #000080\">INFO    </span> delimiter is |                                                         <a href=\"file:///usr/local/google/home/codyfincher/Code/database-tools/oracle-database-assessment/src/server/dbma/database.py\" target=\"_blank\"><span style=\"color: #7f7f7f; text-decoration-color: #7f7f7f\">database.py</span></a><span style=\"color: #7f7f7f; text-decoration-color: #7f7f7f\">:</span><a href=\"file:///usr/local/google/home/codyfincher/Code/database-tools/oracle-database-assessment/src/server/dbma/database.py#153\" target=\"_blank\"><span style=\"color: #7f7f7f; text-decoration-color: #7f7f7f\">153</span></a>\n",
       "</pre>\n"
      ],
      "text/plain": [
       "\u001b[2;36m[10/17/22 16:51:37]\u001b[0m\u001b[2;36m \u001b[0m\u001b[34mINFO    \u001b[0m delimiter is |                                                         \u001b]8;id=68749;file:///usr/local/google/home/codyfincher/Code/database-tools/oracle-database-assessment/src/server/dbma/database.py\u001b\\\u001b[2mdatabase.py\u001b[0m\u001b]8;;\u001b\\\u001b[2m:\u001b[0m\u001b]8;id=426816;file:///usr/local/google/home/codyfincher/Code/database-tools/oracle-database-assessment/src/server/dbma/database.py#153\u001b\\\u001b[2m153\u001b[0m\u001b]8;;\u001b\\\n"
      ]
     },
     "metadata": {},
     "output_type": "display_data"
    },
    {
     "data": {
      "text/html": [
       "<pre style=\"white-space:pre;overflow-x:auto;line-height:normal;font-family:Menlo,'DejaVu Sans Mono',consolas,'Courier New',monospace\"><span style=\"color: #7fbfbf; text-decoration-color: #7fbfbf\">[10/17/22 16:51:37] </span><span style=\"color: #000080; text-decoration-color: #000080\">INFO    </span> <span style=\"color: #808000; text-decoration-color: #808000\">...</span> awr_hist_cmd_types  <span style=\"color: #008000; text-decoration-color: #008000; font-weight: bold\">SUCCESS</span> <span style=\"font-weight: bold\">[</span><span style=\"color: #008080; text-decoration-color: #008080; font-weight: bold\">185</span> <span style=\"color: #800080; text-decoration-color: #800080; font-weight: bold\">rows</span><span style=\"font-weight: bold\">(</span>s<span style=\"font-weight: bold\">)]</span>                          <a href=\"file:///usr/local/google/home/codyfincher/Code/database-tools/oracle-database-assessment/src/server/dbma/database.py\" target=\"_blank\"><span style=\"color: #7f7f7f; text-decoration-color: #7f7f7f\">database.py</span></a><span style=\"color: #7f7f7f; text-decoration-color: #7f7f7f\">:</span><a href=\"file:///usr/local/google/home/codyfincher/Code/database-tools/oracle-database-assessment/src/server/dbma/database.py#160\" target=\"_blank\"><span style=\"color: #7f7f7f; text-decoration-color: #7f7f7f\">160</span></a>\n",
       "</pre>\n"
      ],
      "text/plain": [
       "\u001b[2;36m[10/17/22 16:51:37]\u001b[0m\u001b[2;36m \u001b[0m\u001b[34mINFO    \u001b[0m \u001b[33m...\u001b[0m awr_hist_cmd_types  \u001b[1;32mSUCCESS\u001b[0m \u001b[1m[\u001b[0m\u001b[1;36m185\u001b[0m \u001b[1;35mrows\u001b[0m\u001b[1m(\u001b[0ms\u001b[1m)\u001b[0m\u001b[1m]\u001b[0m                          \u001b]8;id=164304;file:///usr/local/google/home/codyfincher/Code/database-tools/oracle-database-assessment/src/server/dbma/database.py\u001b\\\u001b[2mdatabase.py\u001b[0m\u001b]8;;\u001b\\\u001b[2m:\u001b[0m\u001b]8;id=787620;file:///usr/local/google/home/codyfincher/Code/database-tools/oracle-database-assessment/src/server/dbma/database.py#160\u001b\\\u001b[2m160\u001b[0m\u001b]8;;\u001b\\\n"
      ]
     },
     "metadata": {},
     "output_type": "display_data"
    },
    {
     "data": {
      "text/html": [
       "<pre style=\"white-space:pre;overflow-x:auto;line-height:normal;font-family:Menlo,'DejaVu Sans Mono',consolas,'Courier New',monospace\"><span style=\"color: #7fbfbf; text-decoration-color: #7fbfbf\">[10/17/22 16:51:37] </span><span style=\"color: #000080; text-decoration-color: #000080\">INFO    </span> delimiter is |                                                         <a href=\"file:///usr/local/google/home/codyfincher/Code/database-tools/oracle-database-assessment/src/server/dbma/database.py\" target=\"_blank\"><span style=\"color: #7f7f7f; text-decoration-color: #7f7f7f\">database.py</span></a><span style=\"color: #7f7f7f; text-decoration-color: #7f7f7f\">:</span><a href=\"file:///usr/local/google/home/codyfincher/Code/database-tools/oracle-database-assessment/src/server/dbma/database.py#153\" target=\"_blank\"><span style=\"color: #7f7f7f; text-decoration-color: #7f7f7f\">153</span></a>\n",
       "</pre>\n"
      ],
      "text/plain": [
       "\u001b[2;36m[10/17/22 16:51:37]\u001b[0m\u001b[2;36m \u001b[0m\u001b[34mINFO    \u001b[0m delimiter is |                                                         \u001b]8;id=842334;file:///usr/local/google/home/codyfincher/Code/database-tools/oracle-database-assessment/src/server/dbma/database.py\u001b\\\u001b[2mdatabase.py\u001b[0m\u001b]8;;\u001b\\\u001b[2m:\u001b[0m\u001b]8;id=264569;file:///usr/local/google/home/codyfincher/Code/database-tools/oracle-database-assessment/src/server/dbma/database.py#153\u001b\\\u001b[2m153\u001b[0m\u001b]8;;\u001b\\\n"
      ]
     },
     "metadata": {},
     "output_type": "display_data"
    },
    {
     "data": {
      "text/html": [
       "<pre style=\"white-space:pre;overflow-x:auto;line-height:normal;font-family:Menlo,'DejaVu Sans Mono',consolas,'Courier New',monospace\"><span style=\"color: #7fbfbf; text-decoration-color: #7fbfbf\">[10/17/22 16:51:37] </span><span style=\"color: #000080; text-decoration-color: #000080\">INFO    </span> <span style=\"color: #808000; text-decoration-color: #808000\">...</span> awr_hist_os_stat  <span style=\"color: #008000; text-decoration-color: #008000; font-weight: bold\">SUCCESS</span> <span style=\"font-weight: bold\">[</span><span style=\"color: #008080; text-decoration-color: #008080; font-weight: bold\">624</span> <span style=\"color: #800080; text-decoration-color: #800080; font-weight: bold\">rows</span><span style=\"font-weight: bold\">(</span>s<span style=\"font-weight: bold\">)]</span>                            <a href=\"file:///usr/local/google/home/codyfincher/Code/database-tools/oracle-database-assessment/src/server/dbma/database.py\" target=\"_blank\"><span style=\"color: #7f7f7f; text-decoration-color: #7f7f7f\">database.py</span></a><span style=\"color: #7f7f7f; text-decoration-color: #7f7f7f\">:</span><a href=\"file:///usr/local/google/home/codyfincher/Code/database-tools/oracle-database-assessment/src/server/dbma/database.py#160\" target=\"_blank\"><span style=\"color: #7f7f7f; text-decoration-color: #7f7f7f\">160</span></a>\n",
       "</pre>\n"
      ],
      "text/plain": [
       "\u001b[2;36m[10/17/22 16:51:37]\u001b[0m\u001b[2;36m \u001b[0m\u001b[34mINFO    \u001b[0m \u001b[33m...\u001b[0m awr_hist_os_stat  \u001b[1;32mSUCCESS\u001b[0m \u001b[1m[\u001b[0m\u001b[1;36m624\u001b[0m \u001b[1;35mrows\u001b[0m\u001b[1m(\u001b[0ms\u001b[1m)\u001b[0m\u001b[1m]\u001b[0m                            \u001b]8;id=611436;file:///usr/local/google/home/codyfincher/Code/database-tools/oracle-database-assessment/src/server/dbma/database.py\u001b\\\u001b[2mdatabase.py\u001b[0m\u001b]8;;\u001b\\\u001b[2m:\u001b[0m\u001b]8;id=731429;file:///usr/local/google/home/codyfincher/Code/database-tools/oracle-database-assessment/src/server/dbma/database.py#160\u001b\\\u001b[2m160\u001b[0m\u001b]8;;\u001b\\\n"
      ]
     },
     "metadata": {},
     "output_type": "display_data"
    },
    {
     "data": {
      "text/html": [
       "<pre style=\"white-space:pre;overflow-x:auto;line-height:normal;font-family:Menlo,'DejaVu Sans Mono',consolas,'Courier New',monospace\"><span style=\"color: #7fbfbf; text-decoration-color: #7fbfbf\">[10/17/22 16:51:37] </span><span style=\"color: #000080; text-decoration-color: #000080\">INFO    </span> delimiter is |                                                         <a href=\"file:///usr/local/google/home/codyfincher/Code/database-tools/oracle-database-assessment/src/server/dbma/database.py\" target=\"_blank\"><span style=\"color: #7f7f7f; text-decoration-color: #7f7f7f\">database.py</span></a><span style=\"color: #7f7f7f; text-decoration-color: #7f7f7f\">:</span><a href=\"file:///usr/local/google/home/codyfincher/Code/database-tools/oracle-database-assessment/src/server/dbma/database.py#153\" target=\"_blank\"><span style=\"color: #7f7f7f; text-decoration-color: #7f7f7f\">153</span></a>\n",
       "</pre>\n"
      ],
      "text/plain": [
       "\u001b[2;36m[10/17/22 16:51:37]\u001b[0m\u001b[2;36m \u001b[0m\u001b[34mINFO    \u001b[0m delimiter is |                                                         \u001b]8;id=85814;file:///usr/local/google/home/codyfincher/Code/database-tools/oracle-database-assessment/src/server/dbma/database.py\u001b\\\u001b[2mdatabase.py\u001b[0m\u001b]8;;\u001b\\\u001b[2m:\u001b[0m\u001b]8;id=722787;file:///usr/local/google/home/codyfincher/Code/database-tools/oracle-database-assessment/src/server/dbma/database.py#153\u001b\\\u001b[2m153\u001b[0m\u001b]8;;\u001b\\\n"
      ]
     },
     "metadata": {},
     "output_type": "display_data"
    },
    {
     "data": {
      "text/html": [
       "<pre style=\"white-space:pre;overflow-x:auto;line-height:normal;font-family:Menlo,'DejaVu Sans Mono',consolas,'Courier New',monospace\"><span style=\"color: #7fbfbf; text-decoration-color: #7fbfbf\">[10/17/22 16:51:37] </span><span style=\"color: #000080; text-decoration-color: #000080\">INFO    </span> <span style=\"color: #808000; text-decoration-color: #808000\">...</span> awr_hist_sys_metric_hist  <span style=\"color: #008000; text-decoration-color: #008000; font-weight: bold\">SUCCESS</span> <span style=\"font-weight: bold\">[</span><span style=\"color: #008080; text-decoration-color: #008080; font-weight: bold\">552</span> <span style=\"color: #800080; text-decoration-color: #800080; font-weight: bold\">rows</span><span style=\"font-weight: bold\">(</span>s<span style=\"font-weight: bold\">)]</span>                    <a href=\"file:///usr/local/google/home/codyfincher/Code/database-tools/oracle-database-assessment/src/server/dbma/database.py\" target=\"_blank\"><span style=\"color: #7f7f7f; text-decoration-color: #7f7f7f\">database.py</span></a><span style=\"color: #7f7f7f; text-decoration-color: #7f7f7f\">:</span><a href=\"file:///usr/local/google/home/codyfincher/Code/database-tools/oracle-database-assessment/src/server/dbma/database.py#160\" target=\"_blank\"><span style=\"color: #7f7f7f; text-decoration-color: #7f7f7f\">160</span></a>\n",
       "</pre>\n"
      ],
      "text/plain": [
       "\u001b[2;36m[10/17/22 16:51:37]\u001b[0m\u001b[2;36m \u001b[0m\u001b[34mINFO    \u001b[0m \u001b[33m...\u001b[0m awr_hist_sys_metric_hist  \u001b[1;32mSUCCESS\u001b[0m \u001b[1m[\u001b[0m\u001b[1;36m552\u001b[0m \u001b[1;35mrows\u001b[0m\u001b[1m(\u001b[0ms\u001b[1m)\u001b[0m\u001b[1m]\u001b[0m                    \u001b]8;id=693789;file:///usr/local/google/home/codyfincher/Code/database-tools/oracle-database-assessment/src/server/dbma/database.py\u001b\\\u001b[2mdatabase.py\u001b[0m\u001b]8;;\u001b\\\u001b[2m:\u001b[0m\u001b]8;id=564467;file:///usr/local/google/home/codyfincher/Code/database-tools/oracle-database-assessment/src/server/dbma/database.py#160\u001b\\\u001b[2m160\u001b[0m\u001b]8;;\u001b\\\n"
      ]
     },
     "metadata": {},
     "output_type": "display_data"
    },
    {
     "data": {
      "text/html": [
       "<pre style=\"white-space:pre;overflow-x:auto;line-height:normal;font-family:Menlo,'DejaVu Sans Mono',consolas,'Courier New',monospace\"><span style=\"color: #7fbfbf; text-decoration-color: #7fbfbf\">[10/17/22 16:51:37] </span><span style=\"color: #000080; text-decoration-color: #000080\">INFO    </span> delimiter is |                                                         <a href=\"file:///usr/local/google/home/codyfincher/Code/database-tools/oracle-database-assessment/src/server/dbma/database.py\" target=\"_blank\"><span style=\"color: #7f7f7f; text-decoration-color: #7f7f7f\">database.py</span></a><span style=\"color: #7f7f7f; text-decoration-color: #7f7f7f\">:</span><a href=\"file:///usr/local/google/home/codyfincher/Code/database-tools/oracle-database-assessment/src/server/dbma/database.py#153\" target=\"_blank\"><span style=\"color: #7f7f7f; text-decoration-color: #7f7f7f\">153</span></a>\n",
       "</pre>\n"
      ],
      "text/plain": [
       "\u001b[2;36m[10/17/22 16:51:37]\u001b[0m\u001b[2;36m \u001b[0m\u001b[34mINFO    \u001b[0m delimiter is |                                                         \u001b]8;id=236819;file:///usr/local/google/home/codyfincher/Code/database-tools/oracle-database-assessment/src/server/dbma/database.py\u001b\\\u001b[2mdatabase.py\u001b[0m\u001b]8;;\u001b\\\u001b[2m:\u001b[0m\u001b]8;id=227507;file:///usr/local/google/home/codyfincher/Code/database-tools/oracle-database-assessment/src/server/dbma/database.py#153\u001b\\\u001b[2m153\u001b[0m\u001b]8;;\u001b\\\n"
      ]
     },
     "metadata": {},
     "output_type": "display_data"
    },
    {
     "data": {
      "text/html": [
       "<pre style=\"white-space:pre;overflow-x:auto;line-height:normal;font-family:Menlo,'DejaVu Sans Mono',consolas,'Courier New',monospace\"><span style=\"color: #7fbfbf; text-decoration-color: #7fbfbf\">[10/17/22 16:51:37] </span><span style=\"color: #000080; text-decoration-color: #000080\">INFO    </span> <span style=\"color: #808000; text-decoration-color: #808000\">...</span> awr_hist_sys_metric_summary  <span style=\"color: #008000; text-decoration-color: #008000; font-weight: bold\">SUCCESS</span> <span style=\"font-weight: bold\">[</span><span style=\"color: #008080; text-decoration-color: #008080; font-weight: bold\">3864</span> <span style=\"color: #800080; text-decoration-color: #800080; font-weight: bold\">rows</span><span style=\"font-weight: bold\">(</span>s<span style=\"font-weight: bold\">)]</span>                <a href=\"file:///usr/local/google/home/codyfincher/Code/database-tools/oracle-database-assessment/src/server/dbma/database.py\" target=\"_blank\"><span style=\"color: #7f7f7f; text-decoration-color: #7f7f7f\">database.py</span></a><span style=\"color: #7f7f7f; text-decoration-color: #7f7f7f\">:</span><a href=\"file:///usr/local/google/home/codyfincher/Code/database-tools/oracle-database-assessment/src/server/dbma/database.py#160\" target=\"_blank\"><span style=\"color: #7f7f7f; text-decoration-color: #7f7f7f\">160</span></a>\n",
       "</pre>\n"
      ],
      "text/plain": [
       "\u001b[2;36m[10/17/22 16:51:37]\u001b[0m\u001b[2;36m \u001b[0m\u001b[34mINFO    \u001b[0m \u001b[33m...\u001b[0m awr_hist_sys_metric_summary  \u001b[1;32mSUCCESS\u001b[0m \u001b[1m[\u001b[0m\u001b[1;36m3864\u001b[0m \u001b[1;35mrows\u001b[0m\u001b[1m(\u001b[0ms\u001b[1m)\u001b[0m\u001b[1m]\u001b[0m                \u001b]8;id=281625;file:///usr/local/google/home/codyfincher/Code/database-tools/oracle-database-assessment/src/server/dbma/database.py\u001b\\\u001b[2mdatabase.py\u001b[0m\u001b]8;;\u001b\\\u001b[2m:\u001b[0m\u001b]8;id=723896;file:///usr/local/google/home/codyfincher/Code/database-tools/oracle-database-assessment/src/server/dbma/database.py#160\u001b\\\u001b[2m160\u001b[0m\u001b]8;;\u001b\\\n"
      ]
     },
     "metadata": {},
     "output_type": "display_data"
    },
    {
     "data": {
      "text/html": [
       "<pre style=\"white-space:pre;overflow-x:auto;line-height:normal;font-family:Menlo,'DejaVu Sans Mono',consolas,'Courier New',monospace\"><span style=\"color: #7fbfbf; text-decoration-color: #7fbfbf\">[10/17/22 16:51:37] </span><span style=\"color: #000080; text-decoration-color: #000080\">INFO    </span> delimiter is |                                                         <a href=\"file:///usr/local/google/home/codyfincher/Code/database-tools/oracle-database-assessment/src/server/dbma/database.py\" target=\"_blank\"><span style=\"color: #7f7f7f; text-decoration-color: #7f7f7f\">database.py</span></a><span style=\"color: #7f7f7f; text-decoration-color: #7f7f7f\">:</span><a href=\"file:///usr/local/google/home/codyfincher/Code/database-tools/oracle-database-assessment/src/server/dbma/database.py#153\" target=\"_blank\"><span style=\"color: #7f7f7f; text-decoration-color: #7f7f7f\">153</span></a>\n",
       "</pre>\n"
      ],
      "text/plain": [
       "\u001b[2;36m[10/17/22 16:51:37]\u001b[0m\u001b[2;36m \u001b[0m\u001b[34mINFO    \u001b[0m delimiter is |                                                         \u001b]8;id=187353;file:///usr/local/google/home/codyfincher/Code/database-tools/oracle-database-assessment/src/server/dbma/database.py\u001b\\\u001b[2mdatabase.py\u001b[0m\u001b]8;;\u001b\\\u001b[2m:\u001b[0m\u001b]8;id=174438;file:///usr/local/google/home/codyfincher/Code/database-tools/oracle-database-assessment/src/server/dbma/database.py#153\u001b\\\u001b[2m153\u001b[0m\u001b]8;;\u001b\\\n"
      ]
     },
     "metadata": {},
     "output_type": "display_data"
    },
    {
     "data": {
      "text/html": [
       "<pre style=\"white-space:pre;overflow-x:auto;line-height:normal;font-family:Menlo,'DejaVu Sans Mono',consolas,'Courier New',monospace\"><span style=\"color: #7fbfbf; text-decoration-color: #7fbfbf\">[10/17/22 16:51:37] </span><span style=\"color: #000080; text-decoration-color: #000080\">INFO    </span> <span style=\"color: #808000; text-decoration-color: #808000\">...</span> awr_snap_details  <span style=\"color: #008000; text-decoration-color: #008000; font-weight: bold\">SUCCESS</span> <span style=\"font-weight: bold\">[</span><span style=\"color: #008080; text-decoration-color: #008080; font-weight: bold\">24</span> <span style=\"color: #800080; text-decoration-color: #800080; font-weight: bold\">rows</span><span style=\"font-weight: bold\">(</span>s<span style=\"font-weight: bold\">)]</span>                             <a href=\"file:///usr/local/google/home/codyfincher/Code/database-tools/oracle-database-assessment/src/server/dbma/database.py\" target=\"_blank\"><span style=\"color: #7f7f7f; text-decoration-color: #7f7f7f\">database.py</span></a><span style=\"color: #7f7f7f; text-decoration-color: #7f7f7f\">:</span><a href=\"file:///usr/local/google/home/codyfincher/Code/database-tools/oracle-database-assessment/src/server/dbma/database.py#160\" target=\"_blank\"><span style=\"color: #7f7f7f; text-decoration-color: #7f7f7f\">160</span></a>\n",
       "</pre>\n"
      ],
      "text/plain": [
       "\u001b[2;36m[10/17/22 16:51:37]\u001b[0m\u001b[2;36m \u001b[0m\u001b[34mINFO    \u001b[0m \u001b[33m...\u001b[0m awr_snap_details  \u001b[1;32mSUCCESS\u001b[0m \u001b[1m[\u001b[0m\u001b[1;36m24\u001b[0m \u001b[1;35mrows\u001b[0m\u001b[1m(\u001b[0ms\u001b[1m)\u001b[0m\u001b[1m]\u001b[0m                             \u001b]8;id=970877;file:///usr/local/google/home/codyfincher/Code/database-tools/oracle-database-assessment/src/server/dbma/database.py\u001b\\\u001b[2mdatabase.py\u001b[0m\u001b]8;;\u001b\\\u001b[2m:\u001b[0m\u001b]8;id=170226;file:///usr/local/google/home/codyfincher/Code/database-tools/oracle-database-assessment/src/server/dbma/database.py#160\u001b\\\u001b[2m160\u001b[0m\u001b]8;;\u001b\\\n"
      ]
     },
     "metadata": {},
     "output_type": "display_data"
    },
    {
     "data": {
      "text/html": [
       "<pre style=\"white-space:pre;overflow-x:auto;line-height:normal;font-family:Menlo,'DejaVu Sans Mono',consolas,'Courier New',monospace\"><span style=\"color: #7fbfbf; text-decoration-color: #7fbfbf\">[10/17/22 16:51:37] </span><span style=\"color: #000080; text-decoration-color: #000080\">INFO    </span> delimiter is |                                                         <a href=\"file:///usr/local/google/home/codyfincher/Code/database-tools/oracle-database-assessment/src/server/dbma/database.py\" target=\"_blank\"><span style=\"color: #7f7f7f; text-decoration-color: #7f7f7f\">database.py</span></a><span style=\"color: #7f7f7f; text-decoration-color: #7f7f7f\">:</span><a href=\"file:///usr/local/google/home/codyfincher/Code/database-tools/oracle-database-assessment/src/server/dbma/database.py#153\" target=\"_blank\"><span style=\"color: #7f7f7f; text-decoration-color: #7f7f7f\">153</span></a>\n",
       "</pre>\n"
      ],
      "text/plain": [
       "\u001b[2;36m[10/17/22 16:51:37]\u001b[0m\u001b[2;36m \u001b[0m\u001b[34mINFO    \u001b[0m delimiter is |                                                         \u001b]8;id=720830;file:///usr/local/google/home/codyfincher/Code/database-tools/oracle-database-assessment/src/server/dbma/database.py\u001b\\\u001b[2mdatabase.py\u001b[0m\u001b]8;;\u001b\\\u001b[2m:\u001b[0m\u001b]8;id=891428;file:///usr/local/google/home/codyfincher/Code/database-tools/oracle-database-assessment/src/server/dbma/database.py#153\u001b\\\u001b[2m153\u001b[0m\u001b]8;;\u001b\\\n"
      ]
     },
     "metadata": {},
     "output_type": "display_data"
    },
    {
     "data": {
      "text/html": [
       "<pre style=\"white-space:pre;overflow-x:auto;line-height:normal;font-family:Menlo,'DejaVu Sans Mono',consolas,'Courier New',monospace\"><span style=\"color: #7fbfbf; text-decoration-color: #7fbfbf\">[10/17/22 16:51:37] </span><span style=\"color: #000080; text-decoration-color: #000080\">INFO    </span> <span style=\"color: #808000; text-decoration-color: #808000\">...</span> db_compression_by_type  <span style=\"color: #008000; text-decoration-color: #008000; font-weight: bold\">SUCCESS</span> <span style=\"font-weight: bold\">[</span><span style=\"color: #008080; text-decoration-color: #008080; font-weight: bold\">75</span> <span style=\"color: #800080; text-decoration-color: #800080; font-weight: bold\">rows</span><span style=\"font-weight: bold\">(</span>s<span style=\"font-weight: bold\">)]</span>                       <a href=\"file:///usr/local/google/home/codyfincher/Code/database-tools/oracle-database-assessment/src/server/dbma/database.py\" target=\"_blank\"><span style=\"color: #7f7f7f; text-decoration-color: #7f7f7f\">database.py</span></a><span style=\"color: #7f7f7f; text-decoration-color: #7f7f7f\">:</span><a href=\"file:///usr/local/google/home/codyfincher/Code/database-tools/oracle-database-assessment/src/server/dbma/database.py#160\" target=\"_blank\"><span style=\"color: #7f7f7f; text-decoration-color: #7f7f7f\">160</span></a>\n",
       "</pre>\n"
      ],
      "text/plain": [
       "\u001b[2;36m[10/17/22 16:51:37]\u001b[0m\u001b[2;36m \u001b[0m\u001b[34mINFO    \u001b[0m \u001b[33m...\u001b[0m db_compression_by_type  \u001b[1;32mSUCCESS\u001b[0m \u001b[1m[\u001b[0m\u001b[1;36m75\u001b[0m \u001b[1;35mrows\u001b[0m\u001b[1m(\u001b[0ms\u001b[1m)\u001b[0m\u001b[1m]\u001b[0m                       \u001b]8;id=266409;file:///usr/local/google/home/codyfincher/Code/database-tools/oracle-database-assessment/src/server/dbma/database.py\u001b\\\u001b[2mdatabase.py\u001b[0m\u001b]8;;\u001b\\\u001b[2m:\u001b[0m\u001b]8;id=410647;file:///usr/local/google/home/codyfincher/Code/database-tools/oracle-database-assessment/src/server/dbma/database.py#160\u001b\\\u001b[2m160\u001b[0m\u001b]8;;\u001b\\\n"
      ]
     },
     "metadata": {},
     "output_type": "display_data"
    },
    {
     "data": {
      "text/html": [
       "<pre style=\"white-space:pre;overflow-x:auto;line-height:normal;font-family:Menlo,'DejaVu Sans Mono',consolas,'Courier New',monospace\"><span style=\"color: #7fbfbf; text-decoration-color: #7fbfbf\">[10/17/22 16:51:37] </span><span style=\"color: #000080; text-decoration-color: #000080\">INFO    </span> delimiter is |                                                         <a href=\"file:///usr/local/google/home/codyfincher/Code/database-tools/oracle-database-assessment/src/server/dbma/database.py\" target=\"_blank\"><span style=\"color: #7f7f7f; text-decoration-color: #7f7f7f\">database.py</span></a><span style=\"color: #7f7f7f; text-decoration-color: #7f7f7f\">:</span><a href=\"file:///usr/local/google/home/codyfincher/Code/database-tools/oracle-database-assessment/src/server/dbma/database.py#153\" target=\"_blank\"><span style=\"color: #7f7f7f; text-decoration-color: #7f7f7f\">153</span></a>\n",
       "</pre>\n"
      ],
      "text/plain": [
       "\u001b[2;36m[10/17/22 16:51:37]\u001b[0m\u001b[2;36m \u001b[0m\u001b[34mINFO    \u001b[0m delimiter is |                                                         \u001b]8;id=588297;file:///usr/local/google/home/codyfincher/Code/database-tools/oracle-database-assessment/src/server/dbma/database.py\u001b\\\u001b[2mdatabase.py\u001b[0m\u001b]8;;\u001b\\\u001b[2m:\u001b[0m\u001b]8;id=117090;file:///usr/local/google/home/codyfincher/Code/database-tools/oracle-database-assessment/src/server/dbma/database.py#153\u001b\\\u001b[2m153\u001b[0m\u001b]8;;\u001b\\\n"
      ]
     },
     "metadata": {},
     "output_type": "display_data"
    },
    {
     "data": {
      "text/html": [
       "<pre style=\"white-space:pre;overflow-x:auto;line-height:normal;font-family:Menlo,'DejaVu Sans Mono',consolas,'Courier New',monospace\"><span style=\"color: #7fbfbf; text-decoration-color: #7fbfbf\">[10/17/22 16:51:37] </span><span style=\"color: #000080; text-decoration-color: #000080\">INFO    </span> <span style=\"color: #808000; text-decoration-color: #808000\">...</span> db_cpu_core_usage  <span style=\"color: #008000; text-decoration-color: #008000; font-weight: bold\">SUCCESS</span> <span style=\"font-weight: bold\">[</span><span style=\"color: #008080; text-decoration-color: #008080; font-weight: bold\">26</span> <span style=\"color: #800080; text-decoration-color: #800080; font-weight: bold\">rows</span><span style=\"font-weight: bold\">(</span>s<span style=\"font-weight: bold\">)]</span>                            <a href=\"file:///usr/local/google/home/codyfincher/Code/database-tools/oracle-database-assessment/src/server/dbma/database.py\" target=\"_blank\"><span style=\"color: #7f7f7f; text-decoration-color: #7f7f7f\">database.py</span></a><span style=\"color: #7f7f7f; text-decoration-color: #7f7f7f\">:</span><a href=\"file:///usr/local/google/home/codyfincher/Code/database-tools/oracle-database-assessment/src/server/dbma/database.py#160\" target=\"_blank\"><span style=\"color: #7f7f7f; text-decoration-color: #7f7f7f\">160</span></a>\n",
       "</pre>\n"
      ],
      "text/plain": [
       "\u001b[2;36m[10/17/22 16:51:37]\u001b[0m\u001b[2;36m \u001b[0m\u001b[34mINFO    \u001b[0m \u001b[33m...\u001b[0m db_cpu_core_usage  \u001b[1;32mSUCCESS\u001b[0m \u001b[1m[\u001b[0m\u001b[1;36m26\u001b[0m \u001b[1;35mrows\u001b[0m\u001b[1m(\u001b[0ms\u001b[1m)\u001b[0m\u001b[1m]\u001b[0m                            \u001b]8;id=952246;file:///usr/local/google/home/codyfincher/Code/database-tools/oracle-database-assessment/src/server/dbma/database.py\u001b\\\u001b[2mdatabase.py\u001b[0m\u001b]8;;\u001b\\\u001b[2m:\u001b[0m\u001b]8;id=452855;file:///usr/local/google/home/codyfincher/Code/database-tools/oracle-database-assessment/src/server/dbma/database.py#160\u001b\\\u001b[2m160\u001b[0m\u001b]8;;\u001b\\\n"
      ]
     },
     "metadata": {},
     "output_type": "display_data"
    },
    {
     "data": {
      "text/html": [
       "<pre style=\"white-space:pre;overflow-x:auto;line-height:normal;font-family:Menlo,'DejaVu Sans Mono',consolas,'Courier New',monospace\"><span style=\"color: #7fbfbf; text-decoration-color: #7fbfbf\">[10/17/22 16:51:37] </span><span style=\"color: #000080; text-decoration-color: #000080\">INFO    </span> delimiter is |                                                         <a href=\"file:///usr/local/google/home/codyfincher/Code/database-tools/oracle-database-assessment/src/server/dbma/database.py\" target=\"_blank\"><span style=\"color: #7f7f7f; text-decoration-color: #7f7f7f\">database.py</span></a><span style=\"color: #7f7f7f; text-decoration-color: #7f7f7f\">:</span><a href=\"file:///usr/local/google/home/codyfincher/Code/database-tools/oracle-database-assessment/src/server/dbma/database.py#153\" target=\"_blank\"><span style=\"color: #7f7f7f; text-decoration-color: #7f7f7f\">153</span></a>\n",
       "</pre>\n"
      ],
      "text/plain": [
       "\u001b[2;36m[10/17/22 16:51:37]\u001b[0m\u001b[2;36m \u001b[0m\u001b[34mINFO    \u001b[0m delimiter is |                                                         \u001b]8;id=542447;file:///usr/local/google/home/codyfincher/Code/database-tools/oracle-database-assessment/src/server/dbma/database.py\u001b\\\u001b[2mdatabase.py\u001b[0m\u001b]8;;\u001b\\\u001b[2m:\u001b[0m\u001b]8;id=121226;file:///usr/local/google/home/codyfincher/Code/database-tools/oracle-database-assessment/src/server/dbma/database.py#153\u001b\\\u001b[2m153\u001b[0m\u001b]8;;\u001b\\\n"
      ]
     },
     "metadata": {},
     "output_type": "display_data"
    },
    {
     "data": {
      "text/html": [
       "<pre style=\"white-space:pre;overflow-x:auto;line-height:normal;font-family:Menlo,'DejaVu Sans Mono',consolas,'Courier New',monospace\"><span style=\"color: #7fbfbf; text-decoration-color: #7fbfbf\">[10/17/22 16:51:37] </span><span style=\"color: #000080; text-decoration-color: #000080\">INFO    </span> <span style=\"color: #808000; text-decoration-color: #808000\">...</span> db_dataguard  <span style=\"color: #008000; text-decoration-color: #008000; font-weight: bold\">SUCCESS</span> <span style=\"font-weight: bold\">[</span><span style=\"color: #008080; text-decoration-color: #008080; font-weight: bold\">2</span> <span style=\"color: #800080; text-decoration-color: #800080; font-weight: bold\">rows</span><span style=\"font-weight: bold\">(</span>s<span style=\"font-weight: bold\">)]</span>                                  <a href=\"file:///usr/local/google/home/codyfincher/Code/database-tools/oracle-database-assessment/src/server/dbma/database.py\" target=\"_blank\"><span style=\"color: #7f7f7f; text-decoration-color: #7f7f7f\">database.py</span></a><span style=\"color: #7f7f7f; text-decoration-color: #7f7f7f\">:</span><a href=\"file:///usr/local/google/home/codyfincher/Code/database-tools/oracle-database-assessment/src/server/dbma/database.py#160\" target=\"_blank\"><span style=\"color: #7f7f7f; text-decoration-color: #7f7f7f\">160</span></a>\n",
       "</pre>\n"
      ],
      "text/plain": [
       "\u001b[2;36m[10/17/22 16:51:37]\u001b[0m\u001b[2;36m \u001b[0m\u001b[34mINFO    \u001b[0m \u001b[33m...\u001b[0m db_dataguard  \u001b[1;32mSUCCESS\u001b[0m \u001b[1m[\u001b[0m\u001b[1;36m2\u001b[0m \u001b[1;35mrows\u001b[0m\u001b[1m(\u001b[0ms\u001b[1m)\u001b[0m\u001b[1m]\u001b[0m                                  \u001b]8;id=703919;file:///usr/local/google/home/codyfincher/Code/database-tools/oracle-database-assessment/src/server/dbma/database.py\u001b\\\u001b[2mdatabase.py\u001b[0m\u001b]8;;\u001b\\\u001b[2m:\u001b[0m\u001b]8;id=746105;file:///usr/local/google/home/codyfincher/Code/database-tools/oracle-database-assessment/src/server/dbma/database.py#160\u001b\\\u001b[2m160\u001b[0m\u001b]8;;\u001b\\\n"
      ]
     },
     "metadata": {},
     "output_type": "display_data"
    },
    {
     "data": {
      "text/html": [
       "<pre style=\"white-space:pre;overflow-x:auto;line-height:normal;font-family:Menlo,'DejaVu Sans Mono',consolas,'Courier New',monospace\"><span style=\"color: #7fbfbf; text-decoration-color: #7fbfbf\">[10/17/22 16:51:37] </span><span style=\"color: #000080; text-decoration-color: #000080\">INFO    </span> delimiter is |                                                         <a href=\"file:///usr/local/google/home/codyfincher/Code/database-tools/oracle-database-assessment/src/server/dbma/database.py\" target=\"_blank\"><span style=\"color: #7f7f7f; text-decoration-color: #7f7f7f\">database.py</span></a><span style=\"color: #7f7f7f; text-decoration-color: #7f7f7f\">:</span><a href=\"file:///usr/local/google/home/codyfincher/Code/database-tools/oracle-database-assessment/src/server/dbma/database.py#153\" target=\"_blank\"><span style=\"color: #7f7f7f; text-decoration-color: #7f7f7f\">153</span></a>\n",
       "</pre>\n"
      ],
      "text/plain": [
       "\u001b[2;36m[10/17/22 16:51:37]\u001b[0m\u001b[2;36m \u001b[0m\u001b[34mINFO    \u001b[0m delimiter is |                                                         \u001b]8;id=436497;file:///usr/local/google/home/codyfincher/Code/database-tools/oracle-database-assessment/src/server/dbma/database.py\u001b\\\u001b[2mdatabase.py\u001b[0m\u001b]8;;\u001b\\\u001b[2m:\u001b[0m\u001b]8;id=883221;file:///usr/local/google/home/codyfincher/Code/database-tools/oracle-database-assessment/src/server/dbma/database.py#153\u001b\\\u001b[2m153\u001b[0m\u001b]8;;\u001b\\\n"
      ]
     },
     "metadata": {},
     "output_type": "display_data"
    },
    {
     "data": {
      "text/html": [
       "<pre style=\"white-space:pre;overflow-x:auto;line-height:normal;font-family:Menlo,'DejaVu Sans Mono',consolas,'Courier New',monospace\"><span style=\"color: #7fbfbf; text-decoration-color: #7fbfbf\">[10/17/22 16:51:37] </span><span style=\"color: #000080; text-decoration-color: #000080\">INFO    </span> <span style=\"color: #808000; text-decoration-color: #808000\">...</span> db_data_types  <span style=\"color: #008000; text-decoration-color: #008000; font-weight: bold\">SUCCESS</span> <span style=\"font-weight: bold\">[</span><span style=\"color: #008080; text-decoration-color: #008080; font-weight: bold\">508</span> <span style=\"color: #800080; text-decoration-color: #800080; font-weight: bold\">rows</span><span style=\"font-weight: bold\">(</span>s<span style=\"font-weight: bold\">)]</span>                               <a href=\"file:///usr/local/google/home/codyfincher/Code/database-tools/oracle-database-assessment/src/server/dbma/database.py\" target=\"_blank\"><span style=\"color: #7f7f7f; text-decoration-color: #7f7f7f\">database.py</span></a><span style=\"color: #7f7f7f; text-decoration-color: #7f7f7f\">:</span><a href=\"file:///usr/local/google/home/codyfincher/Code/database-tools/oracle-database-assessment/src/server/dbma/database.py#160\" target=\"_blank\"><span style=\"color: #7f7f7f; text-decoration-color: #7f7f7f\">160</span></a>\n",
       "</pre>\n"
      ],
      "text/plain": [
       "\u001b[2;36m[10/17/22 16:51:37]\u001b[0m\u001b[2;36m \u001b[0m\u001b[34mINFO    \u001b[0m \u001b[33m...\u001b[0m db_data_types  \u001b[1;32mSUCCESS\u001b[0m \u001b[1m[\u001b[0m\u001b[1;36m508\u001b[0m \u001b[1;35mrows\u001b[0m\u001b[1m(\u001b[0ms\u001b[1m)\u001b[0m\u001b[1m]\u001b[0m                               \u001b]8;id=543385;file:///usr/local/google/home/codyfincher/Code/database-tools/oracle-database-assessment/src/server/dbma/database.py\u001b\\\u001b[2mdatabase.py\u001b[0m\u001b]8;;\u001b\\\u001b[2m:\u001b[0m\u001b]8;id=25004;file:///usr/local/google/home/codyfincher/Code/database-tools/oracle-database-assessment/src/server/dbma/database.py#160\u001b\\\u001b[2m160\u001b[0m\u001b]8;;\u001b\\\n"
      ]
     },
     "metadata": {},
     "output_type": "display_data"
    },
    {
     "data": {
      "text/html": [
       "<pre style=\"white-space:pre;overflow-x:auto;line-height:normal;font-family:Menlo,'DejaVu Sans Mono',consolas,'Courier New',monospace\"><span style=\"color: #7fbfbf; text-decoration-color: #7fbfbf\">[10/17/22 16:51:37] </span><span style=\"color: #000080; text-decoration-color: #000080\">INFO    </span> delimiter is |                                                         <a href=\"file:///usr/local/google/home/codyfincher/Code/database-tools/oracle-database-assessment/src/server/dbma/database.py\" target=\"_blank\"><span style=\"color: #7f7f7f; text-decoration-color: #7f7f7f\">database.py</span></a><span style=\"color: #7f7f7f; text-decoration-color: #7f7f7f\">:</span><a href=\"file:///usr/local/google/home/codyfincher/Code/database-tools/oracle-database-assessment/src/server/dbma/database.py#153\" target=\"_blank\"><span style=\"color: #7f7f7f; text-decoration-color: #7f7f7f\">153</span></a>\n",
       "</pre>\n"
      ],
      "text/plain": [
       "\u001b[2;36m[10/17/22 16:51:37]\u001b[0m\u001b[2;36m \u001b[0m\u001b[34mINFO    \u001b[0m delimiter is |                                                         \u001b]8;id=277779;file:///usr/local/google/home/codyfincher/Code/database-tools/oracle-database-assessment/src/server/dbma/database.py\u001b\\\u001b[2mdatabase.py\u001b[0m\u001b]8;;\u001b\\\u001b[2m:\u001b[0m\u001b]8;id=364670;file:///usr/local/google/home/codyfincher/Code/database-tools/oracle-database-assessment/src/server/dbma/database.py#153\u001b\\\u001b[2m153\u001b[0m\u001b]8;;\u001b\\\n"
      ]
     },
     "metadata": {},
     "output_type": "display_data"
    },
    {
     "data": {
      "text/html": [
       "<pre style=\"white-space:pre;overflow-x:auto;line-height:normal;font-family:Menlo,'DejaVu Sans Mono',consolas,'Courier New',monospace\"><span style=\"color: #7fbfbf; text-decoration-color: #7fbfbf\">[10/17/22 16:51:38] </span><span style=\"color: #000080; text-decoration-color: #000080\">INFO    </span> <span style=\"color: #808000; text-decoration-color: #808000\">...</span> dba_hist_sys_stat  <span style=\"color: #008000; text-decoration-color: #008000; font-weight: bold\">SUCCESS</span> <span style=\"font-weight: bold\">[</span><span style=\"color: #008080; text-decoration-color: #008080; font-weight: bold\">3480</span> <span style=\"color: #800080; text-decoration-color: #800080; font-weight: bold\">rows</span><span style=\"font-weight: bold\">(</span>s<span style=\"font-weight: bold\">)]</span>                          <a href=\"file:///usr/local/google/home/codyfincher/Code/database-tools/oracle-database-assessment/src/server/dbma/database.py\" target=\"_blank\"><span style=\"color: #7f7f7f; text-decoration-color: #7f7f7f\">database.py</span></a><span style=\"color: #7f7f7f; text-decoration-color: #7f7f7f\">:</span><a href=\"file:///usr/local/google/home/codyfincher/Code/database-tools/oracle-database-assessment/src/server/dbma/database.py#160\" target=\"_blank\"><span style=\"color: #7f7f7f; text-decoration-color: #7f7f7f\">160</span></a>\n",
       "</pre>\n"
      ],
      "text/plain": [
       "\u001b[2;36m[10/17/22 16:51:38]\u001b[0m\u001b[2;36m \u001b[0m\u001b[34mINFO    \u001b[0m \u001b[33m...\u001b[0m dba_hist_sys_stat  \u001b[1;32mSUCCESS\u001b[0m \u001b[1m[\u001b[0m\u001b[1;36m3480\u001b[0m \u001b[1;35mrows\u001b[0m\u001b[1m(\u001b[0ms\u001b[1m)\u001b[0m\u001b[1m]\u001b[0m                          \u001b]8;id=532329;file:///usr/local/google/home/codyfincher/Code/database-tools/oracle-database-assessment/src/server/dbma/database.py\u001b\\\u001b[2mdatabase.py\u001b[0m\u001b]8;;\u001b\\\u001b[2m:\u001b[0m\u001b]8;id=327233;file:///usr/local/google/home/codyfincher/Code/database-tools/oracle-database-assessment/src/server/dbma/database.py#160\u001b\\\u001b[2m160\u001b[0m\u001b]8;;\u001b\\\n"
      ]
     },
     "metadata": {},
     "output_type": "display_data"
    },
    {
     "data": {
      "text/html": [
       "<pre style=\"white-space:pre;overflow-x:auto;line-height:normal;font-family:Menlo,'DejaVu Sans Mono',consolas,'Courier New',monospace\"><span style=\"color: #7fbfbf; text-decoration-color: #7fbfbf\">[10/17/22 16:51:38] </span><span style=\"color: #000080; text-decoration-color: #000080\">INFO    </span> delimiter is |                                                         <a href=\"file:///usr/local/google/home/codyfincher/Code/database-tools/oracle-database-assessment/src/server/dbma/database.py\" target=\"_blank\"><span style=\"color: #7f7f7f; text-decoration-color: #7f7f7f\">database.py</span></a><span style=\"color: #7f7f7f; text-decoration-color: #7f7f7f\">:</span><a href=\"file:///usr/local/google/home/codyfincher/Code/database-tools/oracle-database-assessment/src/server/dbma/database.py#153\" target=\"_blank\"><span style=\"color: #7f7f7f; text-decoration-color: #7f7f7f\">153</span></a>\n",
       "</pre>\n"
      ],
      "text/plain": [
       "\u001b[2;36m[10/17/22 16:51:38]\u001b[0m\u001b[2;36m \u001b[0m\u001b[34mINFO    \u001b[0m delimiter is |                                                         \u001b]8;id=625926;file:///usr/local/google/home/codyfincher/Code/database-tools/oracle-database-assessment/src/server/dbma/database.py\u001b\\\u001b[2mdatabase.py\u001b[0m\u001b]8;;\u001b\\\u001b[2m:\u001b[0m\u001b]8;id=787550;file:///usr/local/google/home/codyfincher/Code/database-tools/oracle-database-assessment/src/server/dbma/database.py#153\u001b\\\u001b[2m153\u001b[0m\u001b]8;;\u001b\\\n"
      ]
     },
     "metadata": {},
     "output_type": "display_data"
    },
    {
     "data": {
      "text/html": [
       "<pre style=\"white-space:pre;overflow-x:auto;line-height:normal;font-family:Menlo,'DejaVu Sans Mono',consolas,'Courier New',monospace\"><span style=\"color: #7fbfbf; text-decoration-color: #7fbfbf\">[10/17/22 16:51:38] </span><span style=\"color: #000080; text-decoration-color: #000080\">INFO    </span> <span style=\"color: #808000; text-decoration-color: #808000\">...</span> dba_hist_sys_time_model  <span style=\"color: #008000; text-decoration-color: #008000; font-weight: bold\">SUCCESS</span> <span style=\"font-weight: bold\">[</span><span style=\"color: #008080; text-decoration-color: #008080; font-weight: bold\">744</span> <span style=\"color: #800080; text-decoration-color: #800080; font-weight: bold\">rows</span><span style=\"font-weight: bold\">(</span>s<span style=\"font-weight: bold\">)]</span>                     <a href=\"file:///usr/local/google/home/codyfincher/Code/database-tools/oracle-database-assessment/src/server/dbma/database.py\" target=\"_blank\"><span style=\"color: #7f7f7f; text-decoration-color: #7f7f7f\">database.py</span></a><span style=\"color: #7f7f7f; text-decoration-color: #7f7f7f\">:</span><a href=\"file:///usr/local/google/home/codyfincher/Code/database-tools/oracle-database-assessment/src/server/dbma/database.py#160\" target=\"_blank\"><span style=\"color: #7f7f7f; text-decoration-color: #7f7f7f\">160</span></a>\n",
       "</pre>\n"
      ],
      "text/plain": [
       "\u001b[2;36m[10/17/22 16:51:38]\u001b[0m\u001b[2;36m \u001b[0m\u001b[34mINFO    \u001b[0m \u001b[33m...\u001b[0m dba_hist_sys_time_model  \u001b[1;32mSUCCESS\u001b[0m \u001b[1m[\u001b[0m\u001b[1;36m744\u001b[0m \u001b[1;35mrows\u001b[0m\u001b[1m(\u001b[0ms\u001b[1m)\u001b[0m\u001b[1m]\u001b[0m                     \u001b]8;id=183413;file:///usr/local/google/home/codyfincher/Code/database-tools/oracle-database-assessment/src/server/dbma/database.py\u001b\\\u001b[2mdatabase.py\u001b[0m\u001b]8;;\u001b\\\u001b[2m:\u001b[0m\u001b]8;id=776363;file:///usr/local/google/home/codyfincher/Code/database-tools/oracle-database-assessment/src/server/dbma/database.py#160\u001b\\\u001b[2m160\u001b[0m\u001b]8;;\u001b\\\n"
      ]
     },
     "metadata": {},
     "output_type": "display_data"
    },
    {
     "data": {
      "text/html": [
       "<pre style=\"white-space:pre;overflow-x:auto;line-height:normal;font-family:Menlo,'DejaVu Sans Mono',consolas,'Courier New',monospace\"><span style=\"color: #7fbfbf; text-decoration-color: #7fbfbf\">[10/17/22 16:51:38] </span><span style=\"color: #000080; text-decoration-color: #000080\">INFO    </span> delimiter is |                                                         <a href=\"file:///usr/local/google/home/codyfincher/Code/database-tools/oracle-database-assessment/src/server/dbma/database.py\" target=\"_blank\"><span style=\"color: #7f7f7f; text-decoration-color: #7f7f7f\">database.py</span></a><span style=\"color: #7f7f7f; text-decoration-color: #7f7f7f\">:</span><a href=\"file:///usr/local/google/home/codyfincher/Code/database-tools/oracle-database-assessment/src/server/dbma/database.py#153\" target=\"_blank\"><span style=\"color: #7f7f7f; text-decoration-color: #7f7f7f\">153</span></a>\n",
       "</pre>\n"
      ],
      "text/plain": [
       "\u001b[2;36m[10/17/22 16:51:38]\u001b[0m\u001b[2;36m \u001b[0m\u001b[34mINFO    \u001b[0m delimiter is |                                                         \u001b]8;id=139279;file:///usr/local/google/home/codyfincher/Code/database-tools/oracle-database-assessment/src/server/dbma/database.py\u001b\\\u001b[2mdatabase.py\u001b[0m\u001b]8;;\u001b\\\u001b[2m:\u001b[0m\u001b]8;id=372190;file:///usr/local/google/home/codyfincher/Code/database-tools/oracle-database-assessment/src/server/dbma/database.py#153\u001b\\\u001b[2m153\u001b[0m\u001b]8;;\u001b\\\n"
      ]
     },
     "metadata": {},
     "output_type": "display_data"
    },
    {
     "data": {
      "text/html": [
       "<pre style=\"white-space:pre;overflow-x:auto;line-height:normal;font-family:Menlo,'DejaVu Sans Mono',consolas,'Courier New',monospace\"><span style=\"color: #7fbfbf; text-decoration-color: #7fbfbf\">[10/17/22 16:51:38] </span><span style=\"color: #000080; text-decoration-color: #000080\">INFO    </span> <span style=\"color: #808000; text-decoration-color: #808000\">...</span> db_features  <span style=\"color: #008000; text-decoration-color: #008000; font-weight: bold\">SUCCESS</span> <span style=\"font-weight: bold\">[</span><span style=\"color: #008080; text-decoration-color: #008080; font-weight: bold\">1093</span> <span style=\"color: #800080; text-decoration-color: #800080; font-weight: bold\">rows</span><span style=\"font-weight: bold\">(</span>s<span style=\"font-weight: bold\">)]</span>                                <a href=\"file:///usr/local/google/home/codyfincher/Code/database-tools/oracle-database-assessment/src/server/dbma/database.py\" target=\"_blank\"><span style=\"color: #7f7f7f; text-decoration-color: #7f7f7f\">database.py</span></a><span style=\"color: #7f7f7f; text-decoration-color: #7f7f7f\">:</span><a href=\"file:///usr/local/google/home/codyfincher/Code/database-tools/oracle-database-assessment/src/server/dbma/database.py#160\" target=\"_blank\"><span style=\"color: #7f7f7f; text-decoration-color: #7f7f7f\">160</span></a>\n",
       "</pre>\n"
      ],
      "text/plain": [
       "\u001b[2;36m[10/17/22 16:51:38]\u001b[0m\u001b[2;36m \u001b[0m\u001b[34mINFO    \u001b[0m \u001b[33m...\u001b[0m db_features  \u001b[1;32mSUCCESS\u001b[0m \u001b[1m[\u001b[0m\u001b[1;36m1093\u001b[0m \u001b[1;35mrows\u001b[0m\u001b[1m(\u001b[0ms\u001b[1m)\u001b[0m\u001b[1m]\u001b[0m                                \u001b]8;id=830399;file:///usr/local/google/home/codyfincher/Code/database-tools/oracle-database-assessment/src/server/dbma/database.py\u001b\\\u001b[2mdatabase.py\u001b[0m\u001b]8;;\u001b\\\u001b[2m:\u001b[0m\u001b]8;id=361330;file:///usr/local/google/home/codyfincher/Code/database-tools/oracle-database-assessment/src/server/dbma/database.py#160\u001b\\\u001b[2m160\u001b[0m\u001b]8;;\u001b\\\n"
      ]
     },
     "metadata": {},
     "output_type": "display_data"
    },
    {
     "data": {
      "text/html": [
       "<pre style=\"white-space:pre;overflow-x:auto;line-height:normal;font-family:Menlo,'DejaVu Sans Mono',consolas,'Courier New',monospace\"><span style=\"color: #7fbfbf; text-decoration-color: #7fbfbf\">[10/17/22 16:51:38] </span><span style=\"color: #000080; text-decoration-color: #000080\">INFO    </span> delimiter is |                                                         <a href=\"file:///usr/local/google/home/codyfincher/Code/database-tools/oracle-database-assessment/src/server/dbma/database.py\" target=\"_blank\"><span style=\"color: #7f7f7f; text-decoration-color: #7f7f7f\">database.py</span></a><span style=\"color: #7f7f7f; text-decoration-color: #7f7f7f\">:</span><a href=\"file:///usr/local/google/home/codyfincher/Code/database-tools/oracle-database-assessment/src/server/dbma/database.py#153\" target=\"_blank\"><span style=\"color: #7f7f7f; text-decoration-color: #7f7f7f\">153</span></a>\n",
       "</pre>\n"
      ],
      "text/plain": [
       "\u001b[2;36m[10/17/22 16:51:38]\u001b[0m\u001b[2;36m \u001b[0m\u001b[34mINFO    \u001b[0m delimiter is |                                                         \u001b]8;id=728809;file:///usr/local/google/home/codyfincher/Code/database-tools/oracle-database-assessment/src/server/dbma/database.py\u001b\\\u001b[2mdatabase.py\u001b[0m\u001b]8;;\u001b\\\u001b[2m:\u001b[0m\u001b]8;id=586045;file:///usr/local/google/home/codyfincher/Code/database-tools/oracle-database-assessment/src/server/dbma/database.py#153\u001b\\\u001b[2m153\u001b[0m\u001b]8;;\u001b\\\n"
      ]
     },
     "metadata": {},
     "output_type": "display_data"
    },
    {
     "data": {
      "text/html": [
       "<pre style=\"white-space:pre;overflow-x:auto;line-height:normal;font-family:Menlo,'DejaVu Sans Mono',consolas,'Courier New',monospace\"><span style=\"color: #7fbfbf; text-decoration-color: #7fbfbf\">[10/17/22 16:51:38] </span><span style=\"color: #000080; text-decoration-color: #000080\">INFO    </span> <span style=\"color: #808000; text-decoration-color: #808000\">...</span> db_high_water_stats  <span style=\"color: #008000; text-decoration-color: #008000; font-weight: bold\">SUCCESS</span> <span style=\"font-weight: bold\">[</span><span style=\"color: #008080; text-decoration-color: #008080; font-weight: bold\">131</span> <span style=\"color: #800080; text-decoration-color: #800080; font-weight: bold\">rows</span><span style=\"font-weight: bold\">(</span>s<span style=\"font-weight: bold\">)]</span>                         <a href=\"file:///usr/local/google/home/codyfincher/Code/database-tools/oracle-database-assessment/src/server/dbma/database.py\" target=\"_blank\"><span style=\"color: #7f7f7f; text-decoration-color: #7f7f7f\">database.py</span></a><span style=\"color: #7f7f7f; text-decoration-color: #7f7f7f\">:</span><a href=\"file:///usr/local/google/home/codyfincher/Code/database-tools/oracle-database-assessment/src/server/dbma/database.py#160\" target=\"_blank\"><span style=\"color: #7f7f7f; text-decoration-color: #7f7f7f\">160</span></a>\n",
       "</pre>\n"
      ],
      "text/plain": [
       "\u001b[2;36m[10/17/22 16:51:38]\u001b[0m\u001b[2;36m \u001b[0m\u001b[34mINFO    \u001b[0m \u001b[33m...\u001b[0m db_high_water_stats  \u001b[1;32mSUCCESS\u001b[0m \u001b[1m[\u001b[0m\u001b[1;36m131\u001b[0m \u001b[1;35mrows\u001b[0m\u001b[1m(\u001b[0ms\u001b[1m)\u001b[0m\u001b[1m]\u001b[0m                         \u001b]8;id=96631;file:///usr/local/google/home/codyfincher/Code/database-tools/oracle-database-assessment/src/server/dbma/database.py\u001b\\\u001b[2mdatabase.py\u001b[0m\u001b]8;;\u001b\\\u001b[2m:\u001b[0m\u001b]8;id=168942;file:///usr/local/google/home/codyfincher/Code/database-tools/oracle-database-assessment/src/server/dbma/database.py#160\u001b\\\u001b[2m160\u001b[0m\u001b]8;;\u001b\\\n"
      ]
     },
     "metadata": {},
     "output_type": "display_data"
    },
    {
     "data": {
      "text/html": [
       "<pre style=\"white-space:pre;overflow-x:auto;line-height:normal;font-family:Menlo,'DejaVu Sans Mono',consolas,'Courier New',monospace\"><span style=\"color: #7fbfbf; text-decoration-color: #7fbfbf\">[10/17/22 16:51:38] </span><span style=\"color: #000080; text-decoration-color: #000080\">INFO    </span> delimiter is |                                                         <a href=\"file:///usr/local/google/home/codyfincher/Code/database-tools/oracle-database-assessment/src/server/dbma/database.py\" target=\"_blank\"><span style=\"color: #7f7f7f; text-decoration-color: #7f7f7f\">database.py</span></a><span style=\"color: #7f7f7f; text-decoration-color: #7f7f7f\">:</span><a href=\"file:///usr/local/google/home/codyfincher/Code/database-tools/oracle-database-assessment/src/server/dbma/database.py#153\" target=\"_blank\"><span style=\"color: #7f7f7f; text-decoration-color: #7f7f7f\">153</span></a>\n",
       "</pre>\n"
      ],
      "text/plain": [
       "\u001b[2;36m[10/17/22 16:51:38]\u001b[0m\u001b[2;36m \u001b[0m\u001b[34mINFO    \u001b[0m delimiter is |                                                         \u001b]8;id=448044;file:///usr/local/google/home/codyfincher/Code/database-tools/oracle-database-assessment/src/server/dbma/database.py\u001b\\\u001b[2mdatabase.py\u001b[0m\u001b]8;;\u001b\\\u001b[2m:\u001b[0m\u001b]8;id=691007;file:///usr/local/google/home/codyfincher/Code/database-tools/oracle-database-assessment/src/server/dbma/database.py#153\u001b\\\u001b[2m153\u001b[0m\u001b]8;;\u001b\\\n"
      ]
     },
     "metadata": {},
     "output_type": "display_data"
    },
    {
     "data": {
      "text/html": [
       "<pre style=\"white-space:pre;overflow-x:auto;line-height:normal;font-family:Menlo,'DejaVu Sans Mono',consolas,'Courier New',monospace\"><span style=\"color: #7fbfbf; text-decoration-color: #7fbfbf\">[10/17/22 16:51:38] </span><span style=\"color: #000080; text-decoration-color: #000080\">INFO    </span> <span style=\"color: #808000; text-decoration-color: #808000\">...</span> db_instances  <span style=\"color: #008000; text-decoration-color: #008000; font-weight: bold\">SUCCESS</span> <span style=\"font-weight: bold\">[</span><span style=\"color: #008080; text-decoration-color: #008080; font-weight: bold\">1</span> <span style=\"color: #800080; text-decoration-color: #800080; font-weight: bold\">rows</span><span style=\"font-weight: bold\">(</span>s<span style=\"font-weight: bold\">)]</span>                                  <a href=\"file:///usr/local/google/home/codyfincher/Code/database-tools/oracle-database-assessment/src/server/dbma/database.py\" target=\"_blank\"><span style=\"color: #7f7f7f; text-decoration-color: #7f7f7f\">database.py</span></a><span style=\"color: #7f7f7f; text-decoration-color: #7f7f7f\">:</span><a href=\"file:///usr/local/google/home/codyfincher/Code/database-tools/oracle-database-assessment/src/server/dbma/database.py#160\" target=\"_blank\"><span style=\"color: #7f7f7f; text-decoration-color: #7f7f7f\">160</span></a>\n",
       "</pre>\n"
      ],
      "text/plain": [
       "\u001b[2;36m[10/17/22 16:51:38]\u001b[0m\u001b[2;36m \u001b[0m\u001b[34mINFO    \u001b[0m \u001b[33m...\u001b[0m db_instances  \u001b[1;32mSUCCESS\u001b[0m \u001b[1m[\u001b[0m\u001b[1;36m1\u001b[0m \u001b[1;35mrows\u001b[0m\u001b[1m(\u001b[0ms\u001b[1m)\u001b[0m\u001b[1m]\u001b[0m                                  \u001b]8;id=119171;file:///usr/local/google/home/codyfincher/Code/database-tools/oracle-database-assessment/src/server/dbma/database.py\u001b\\\u001b[2mdatabase.py\u001b[0m\u001b]8;;\u001b\\\u001b[2m:\u001b[0m\u001b]8;id=966881;file:///usr/local/google/home/codyfincher/Code/database-tools/oracle-database-assessment/src/server/dbma/database.py#160\u001b\\\u001b[2m160\u001b[0m\u001b]8;;\u001b\\\n"
      ]
     },
     "metadata": {},
     "output_type": "display_data"
    },
    {
     "data": {
      "text/html": [
       "<pre style=\"white-space:pre;overflow-x:auto;line-height:normal;font-family:Menlo,'DejaVu Sans Mono',consolas,'Courier New',monospace\"><span style=\"color: #7fbfbf; text-decoration-color: #7fbfbf\">[10/17/22 16:51:38] </span><span style=\"color: #000080; text-decoration-color: #000080\">INFO    </span> delimiter is |                                                         <a href=\"file:///usr/local/google/home/codyfincher/Code/database-tools/oracle-database-assessment/src/server/dbma/database.py\" target=\"_blank\"><span style=\"color: #7f7f7f; text-decoration-color: #7f7f7f\">database.py</span></a><span style=\"color: #7f7f7f; text-decoration-color: #7f7f7f\">:</span><a href=\"file:///usr/local/google/home/codyfincher/Code/database-tools/oracle-database-assessment/src/server/dbma/database.py#153\" target=\"_blank\"><span style=\"color: #7f7f7f; text-decoration-color: #7f7f7f\">153</span></a>\n",
       "</pre>\n"
      ],
      "text/plain": [
       "\u001b[2;36m[10/17/22 16:51:38]\u001b[0m\u001b[2;36m \u001b[0m\u001b[34mINFO    \u001b[0m delimiter is |                                                         \u001b]8;id=586413;file:///usr/local/google/home/codyfincher/Code/database-tools/oracle-database-assessment/src/server/dbma/database.py\u001b\\\u001b[2mdatabase.py\u001b[0m\u001b]8;;\u001b\\\u001b[2m:\u001b[0m\u001b]8;id=502372;file:///usr/local/google/home/codyfincher/Code/database-tools/oracle-database-assessment/src/server/dbma/database.py#153\u001b\\\u001b[2m153\u001b[0m\u001b]8;;\u001b\\\n"
      ]
     },
     "metadata": {},
     "output_type": "display_data"
    },
    {
     "data": {
      "text/html": [
       "<pre style=\"white-space:pre;overflow-x:auto;line-height:normal;font-family:Menlo,'DejaVu Sans Mono',consolas,'Courier New',monospace\"><span style=\"color: #7fbfbf; text-decoration-color: #7fbfbf\">[10/17/22 16:51:38] </span><span style=\"color: #000080; text-decoration-color: #000080\">INFO    </span> <span style=\"color: #808000; text-decoration-color: #808000\">...</span> db_links  <span style=\"color: #008000; text-decoration-color: #008000; font-weight: bold\">SUCCESS</span> <span style=\"font-weight: bold\">[</span><span style=\"color: #008080; text-decoration-color: #008080; font-weight: bold\">19</span> <span style=\"color: #800080; text-decoration-color: #800080; font-weight: bold\">rows</span><span style=\"font-weight: bold\">(</span>s<span style=\"font-weight: bold\">)]</span>                                     <a href=\"file:///usr/local/google/home/codyfincher/Code/database-tools/oracle-database-assessment/src/server/dbma/database.py\" target=\"_blank\"><span style=\"color: #7f7f7f; text-decoration-color: #7f7f7f\">database.py</span></a><span style=\"color: #7f7f7f; text-decoration-color: #7f7f7f\">:</span><a href=\"file:///usr/local/google/home/codyfincher/Code/database-tools/oracle-database-assessment/src/server/dbma/database.py#160\" target=\"_blank\"><span style=\"color: #7f7f7f; text-decoration-color: #7f7f7f\">160</span></a>\n",
       "</pre>\n"
      ],
      "text/plain": [
       "\u001b[2;36m[10/17/22 16:51:38]\u001b[0m\u001b[2;36m \u001b[0m\u001b[34mINFO    \u001b[0m \u001b[33m...\u001b[0m db_links  \u001b[1;32mSUCCESS\u001b[0m \u001b[1m[\u001b[0m\u001b[1;36m19\u001b[0m \u001b[1;35mrows\u001b[0m\u001b[1m(\u001b[0ms\u001b[1m)\u001b[0m\u001b[1m]\u001b[0m                                     \u001b]8;id=848167;file:///usr/local/google/home/codyfincher/Code/database-tools/oracle-database-assessment/src/server/dbma/database.py\u001b\\\u001b[2mdatabase.py\u001b[0m\u001b]8;;\u001b\\\u001b[2m:\u001b[0m\u001b]8;id=65096;file:///usr/local/google/home/codyfincher/Code/database-tools/oracle-database-assessment/src/server/dbma/database.py#160\u001b\\\u001b[2m160\u001b[0m\u001b]8;;\u001b\\\n"
      ]
     },
     "metadata": {},
     "output_type": "display_data"
    },
    {
     "data": {
      "text/html": [
       "<pre style=\"white-space:pre;overflow-x:auto;line-height:normal;font-family:Menlo,'DejaVu Sans Mono',consolas,'Courier New',monospace\"><span style=\"color: #7fbfbf; text-decoration-color: #7fbfbf\">[10/17/22 16:51:38] </span><span style=\"color: #000080; text-decoration-color: #000080\">INFO    </span> delimiter is |                                                         <a href=\"file:///usr/local/google/home/codyfincher/Code/database-tools/oracle-database-assessment/src/server/dbma/database.py\" target=\"_blank\"><span style=\"color: #7f7f7f; text-decoration-color: #7f7f7f\">database.py</span></a><span style=\"color: #7f7f7f; text-decoration-color: #7f7f7f\">:</span><a href=\"file:///usr/local/google/home/codyfincher/Code/database-tools/oracle-database-assessment/src/server/dbma/database.py#153\" target=\"_blank\"><span style=\"color: #7f7f7f; text-decoration-color: #7f7f7f\">153</span></a>\n",
       "</pre>\n"
      ],
      "text/plain": [
       "\u001b[2;36m[10/17/22 16:51:38]\u001b[0m\u001b[2;36m \u001b[0m\u001b[34mINFO    \u001b[0m delimiter is |                                                         \u001b]8;id=979536;file:///usr/local/google/home/codyfincher/Code/database-tools/oracle-database-assessment/src/server/dbma/database.py\u001b\\\u001b[2mdatabase.py\u001b[0m\u001b]8;;\u001b\\\u001b[2m:\u001b[0m\u001b]8;id=571050;file:///usr/local/google/home/codyfincher/Code/database-tools/oracle-database-assessment/src/server/dbma/database.py#153\u001b\\\u001b[2m153\u001b[0m\u001b]8;;\u001b\\\n"
      ]
     },
     "metadata": {},
     "output_type": "display_data"
    },
    {
     "data": {
      "text/html": [
       "<pre style=\"white-space:pre;overflow-x:auto;line-height:normal;font-family:Menlo,'DejaVu Sans Mono',consolas,'Courier New',monospace\"><span style=\"color: #7fbfbf; text-decoration-color: #7fbfbf\">[10/17/22 16:51:38] </span><span style=\"color: #000080; text-decoration-color: #000080\">INFO    </span> <span style=\"color: #808000; text-decoration-color: #808000\">...</span> db_objects  <span style=\"color: #008000; text-decoration-color: #008000; font-weight: bold\">SUCCESS</span> <span style=\"font-weight: bold\">[</span><span style=\"color: #008080; text-decoration-color: #008080; font-weight: bold\">817</span> <span style=\"color: #800080; text-decoration-color: #800080; font-weight: bold\">rows</span><span style=\"font-weight: bold\">(</span>s<span style=\"font-weight: bold\">)]</span>                                  <a href=\"file:///usr/local/google/home/codyfincher/Code/database-tools/oracle-database-assessment/src/server/dbma/database.py\" target=\"_blank\"><span style=\"color: #7f7f7f; text-decoration-color: #7f7f7f\">database.py</span></a><span style=\"color: #7f7f7f; text-decoration-color: #7f7f7f\">:</span><a href=\"file:///usr/local/google/home/codyfincher/Code/database-tools/oracle-database-assessment/src/server/dbma/database.py#160\" target=\"_blank\"><span style=\"color: #7f7f7f; text-decoration-color: #7f7f7f\">160</span></a>\n",
       "</pre>\n"
      ],
      "text/plain": [
       "\u001b[2;36m[10/17/22 16:51:38]\u001b[0m\u001b[2;36m \u001b[0m\u001b[34mINFO    \u001b[0m \u001b[33m...\u001b[0m db_objects  \u001b[1;32mSUCCESS\u001b[0m \u001b[1m[\u001b[0m\u001b[1;36m817\u001b[0m \u001b[1;35mrows\u001b[0m\u001b[1m(\u001b[0ms\u001b[1m)\u001b[0m\u001b[1m]\u001b[0m                                  \u001b]8;id=439243;file:///usr/local/google/home/codyfincher/Code/database-tools/oracle-database-assessment/src/server/dbma/database.py\u001b\\\u001b[2mdatabase.py\u001b[0m\u001b]8;;\u001b\\\u001b[2m:\u001b[0m\u001b]8;id=535963;file:///usr/local/google/home/codyfincher/Code/database-tools/oracle-database-assessment/src/server/dbma/database.py#160\u001b\\\u001b[2m160\u001b[0m\u001b]8;;\u001b\\\n"
      ]
     },
     "metadata": {},
     "output_type": "display_data"
    },
    {
     "data": {
      "text/html": [
       "<pre style=\"white-space:pre;overflow-x:auto;line-height:normal;font-family:Menlo,'DejaVu Sans Mono',consolas,'Courier New',monospace\"><span style=\"color: #7fbfbf; text-decoration-color: #7fbfbf\">[10/17/22 16:51:38] </span><span style=\"color: #000080; text-decoration-color: #000080\">INFO    </span> delimiter is |                                                         <a href=\"file:///usr/local/google/home/codyfincher/Code/database-tools/oracle-database-assessment/src/server/dbma/database.py\" target=\"_blank\"><span style=\"color: #7f7f7f; text-decoration-color: #7f7f7f\">database.py</span></a><span style=\"color: #7f7f7f; text-decoration-color: #7f7f7f\">:</span><a href=\"file:///usr/local/google/home/codyfincher/Code/database-tools/oracle-database-assessment/src/server/dbma/database.py#153\" target=\"_blank\"><span style=\"color: #7f7f7f; text-decoration-color: #7f7f7f\">153</span></a>\n",
       "</pre>\n"
      ],
      "text/plain": [
       "\u001b[2;36m[10/17/22 16:51:38]\u001b[0m\u001b[2;36m \u001b[0m\u001b[34mINFO    \u001b[0m delimiter is |                                                         \u001b]8;id=776945;file:///usr/local/google/home/codyfincher/Code/database-tools/oracle-database-assessment/src/server/dbma/database.py\u001b\\\u001b[2mdatabase.py\u001b[0m\u001b]8;;\u001b\\\u001b[2m:\u001b[0m\u001b]8;id=161735;file:///usr/local/google/home/codyfincher/Code/database-tools/oracle-database-assessment/src/server/dbma/database.py#153\u001b\\\u001b[2m153\u001b[0m\u001b]8;;\u001b\\\n"
      ]
     },
     "metadata": {},
     "output_type": "display_data"
    },
    {
     "data": {
      "text/html": [
       "<pre style=\"white-space:pre;overflow-x:auto;line-height:normal;font-family:Menlo,'DejaVu Sans Mono',consolas,'Courier New',monospace\"><span style=\"color: #7fbfbf; text-decoration-color: #7fbfbf\">[10/17/22 16:51:38] </span><span style=\"color: #000080; text-decoration-color: #000080\">INFO    </span> <span style=\"color: #808000; text-decoration-color: #808000\">...</span> db_parameters  <span style=\"color: #008000; text-decoration-color: #008000; font-weight: bold\">SUCCESS</span> <span style=\"font-weight: bold\">[</span><span style=\"color: #008080; text-decoration-color: #008080; font-weight: bold\">431</span> <span style=\"color: #800080; text-decoration-color: #800080; font-weight: bold\">rows</span><span style=\"font-weight: bold\">(</span>s<span style=\"font-weight: bold\">)]</span>                               <a href=\"file:///usr/local/google/home/codyfincher/Code/database-tools/oracle-database-assessment/src/server/dbma/database.py\" target=\"_blank\"><span style=\"color: #7f7f7f; text-decoration-color: #7f7f7f\">database.py</span></a><span style=\"color: #7f7f7f; text-decoration-color: #7f7f7f\">:</span><a href=\"file:///usr/local/google/home/codyfincher/Code/database-tools/oracle-database-assessment/src/server/dbma/database.py#160\" target=\"_blank\"><span style=\"color: #7f7f7f; text-decoration-color: #7f7f7f\">160</span></a>\n",
       "</pre>\n"
      ],
      "text/plain": [
       "\u001b[2;36m[10/17/22 16:51:38]\u001b[0m\u001b[2;36m \u001b[0m\u001b[34mINFO    \u001b[0m \u001b[33m...\u001b[0m db_parameters  \u001b[1;32mSUCCESS\u001b[0m \u001b[1m[\u001b[0m\u001b[1;36m431\u001b[0m \u001b[1;35mrows\u001b[0m\u001b[1m(\u001b[0ms\u001b[1m)\u001b[0m\u001b[1m]\u001b[0m                               \u001b]8;id=441524;file:///usr/local/google/home/codyfincher/Code/database-tools/oracle-database-assessment/src/server/dbma/database.py\u001b\\\u001b[2mdatabase.py\u001b[0m\u001b]8;;\u001b\\\u001b[2m:\u001b[0m\u001b]8;id=792275;file:///usr/local/google/home/codyfincher/Code/database-tools/oracle-database-assessment/src/server/dbma/database.py#160\u001b\\\u001b[2m160\u001b[0m\u001b]8;;\u001b\\\n"
      ]
     },
     "metadata": {},
     "output_type": "display_data"
    },
    {
     "data": {
      "text/html": [
       "<pre style=\"white-space:pre;overflow-x:auto;line-height:normal;font-family:Menlo,'DejaVu Sans Mono',consolas,'Courier New',monospace\"><span style=\"color: #7fbfbf; text-decoration-color: #7fbfbf\">[10/17/22 16:51:38] </span><span style=\"color: #000080; text-decoration-color: #000080\">INFO    </span> delimiter is |                                                         <a href=\"file:///usr/local/google/home/codyfincher/Code/database-tools/oracle-database-assessment/src/server/dbma/database.py\" target=\"_blank\"><span style=\"color: #7f7f7f; text-decoration-color: #7f7f7f\">database.py</span></a><span style=\"color: #7f7f7f; text-decoration-color: #7f7f7f\">:</span><a href=\"file:///usr/local/google/home/codyfincher/Code/database-tools/oracle-database-assessment/src/server/dbma/database.py#153\" target=\"_blank\"><span style=\"color: #7f7f7f; text-decoration-color: #7f7f7f\">153</span></a>\n",
       "</pre>\n"
      ],
      "text/plain": [
       "\u001b[2;36m[10/17/22 16:51:38]\u001b[0m\u001b[2;36m \u001b[0m\u001b[34mINFO    \u001b[0m delimiter is |                                                         \u001b]8;id=927900;file:///usr/local/google/home/codyfincher/Code/database-tools/oracle-database-assessment/src/server/dbma/database.py\u001b\\\u001b[2mdatabase.py\u001b[0m\u001b]8;;\u001b\\\u001b[2m:\u001b[0m\u001b]8;id=273479;file:///usr/local/google/home/codyfincher/Code/database-tools/oracle-database-assessment/src/server/dbma/database.py#153\u001b\\\u001b[2m153\u001b[0m\u001b]8;;\u001b\\\n"
      ]
     },
     "metadata": {},
     "output_type": "display_data"
    },
    {
     "data": {
      "text/html": [
       "<pre style=\"white-space:pre;overflow-x:auto;line-height:normal;font-family:Menlo,'DejaVu Sans Mono',consolas,'Courier New',monospace\"><span style=\"color: #7fbfbf; text-decoration-color: #7fbfbf\">[10/17/22 16:51:38] </span><span style=\"color: #000080; text-decoration-color: #000080\">INFO    </span> <span style=\"color: #808000; text-decoration-color: #808000\">...</span> db_summary  <span style=\"color: #008000; text-decoration-color: #008000; font-weight: bold\">SUCCESS</span> <span style=\"font-weight: bold\">[</span><span style=\"color: #008080; text-decoration-color: #008080; font-weight: bold\">1</span> <span style=\"color: #800080; text-decoration-color: #800080; font-weight: bold\">rows</span><span style=\"font-weight: bold\">(</span>s<span style=\"font-weight: bold\">)]</span>                                    <a href=\"file:///usr/local/google/home/codyfincher/Code/database-tools/oracle-database-assessment/src/server/dbma/database.py\" target=\"_blank\"><span style=\"color: #7f7f7f; text-decoration-color: #7f7f7f\">database.py</span></a><span style=\"color: #7f7f7f; text-decoration-color: #7f7f7f\">:</span><a href=\"file:///usr/local/google/home/codyfincher/Code/database-tools/oracle-database-assessment/src/server/dbma/database.py#160\" target=\"_blank\"><span style=\"color: #7f7f7f; text-decoration-color: #7f7f7f\">160</span></a>\n",
       "</pre>\n"
      ],
      "text/plain": [
       "\u001b[2;36m[10/17/22 16:51:38]\u001b[0m\u001b[2;36m \u001b[0m\u001b[34mINFO    \u001b[0m \u001b[33m...\u001b[0m db_summary  \u001b[1;32mSUCCESS\u001b[0m \u001b[1m[\u001b[0m\u001b[1;36m1\u001b[0m \u001b[1;35mrows\u001b[0m\u001b[1m(\u001b[0ms\u001b[1m)\u001b[0m\u001b[1m]\u001b[0m                                    \u001b]8;id=916650;file:///usr/local/google/home/codyfincher/Code/database-tools/oracle-database-assessment/src/server/dbma/database.py\u001b\\\u001b[2mdatabase.py\u001b[0m\u001b]8;;\u001b\\\u001b[2m:\u001b[0m\u001b]8;id=694187;file:///usr/local/google/home/codyfincher/Code/database-tools/oracle-database-assessment/src/server/dbma/database.py#160\u001b\\\u001b[2m160\u001b[0m\u001b]8;;\u001b\\\n"
      ]
     },
     "metadata": {},
     "output_type": "display_data"
    },
    {
     "data": {
      "text/html": [
       "<pre style=\"white-space:pre;overflow-x:auto;line-height:normal;font-family:Menlo,'DejaVu Sans Mono',consolas,'Courier New',monospace\"><span style=\"color: #7fbfbf; text-decoration-color: #7fbfbf\">[10/17/22 16:51:38] </span><span style=\"color: #000080; text-decoration-color: #000080\">INFO    </span> delimiter is |                                                         <a href=\"file:///usr/local/google/home/codyfincher/Code/database-tools/oracle-database-assessment/src/server/dbma/database.py\" target=\"_blank\"><span style=\"color: #7f7f7f; text-decoration-color: #7f7f7f\">database.py</span></a><span style=\"color: #7f7f7f; text-decoration-color: #7f7f7f\">:</span><a href=\"file:///usr/local/google/home/codyfincher/Code/database-tools/oracle-database-assessment/src/server/dbma/database.py#153\" target=\"_blank\"><span style=\"color: #7f7f7f; text-decoration-color: #7f7f7f\">153</span></a>\n",
       "</pre>\n"
      ],
      "text/plain": [
       "\u001b[2;36m[10/17/22 16:51:38]\u001b[0m\u001b[2;36m \u001b[0m\u001b[34mINFO    \u001b[0m delimiter is |                                                         \u001b]8;id=917343;file:///usr/local/google/home/codyfincher/Code/database-tools/oracle-database-assessment/src/server/dbma/database.py\u001b\\\u001b[2mdatabase.py\u001b[0m\u001b]8;;\u001b\\\u001b[2m:\u001b[0m\u001b]8;id=286504;file:///usr/local/google/home/codyfincher/Code/database-tools/oracle-database-assessment/src/server/dbma/database.py#153\u001b\\\u001b[2m153\u001b[0m\u001b]8;;\u001b\\\n"
      ]
     },
     "metadata": {},
     "output_type": "display_data"
    },
    {
     "data": {
      "text/html": [
       "<pre style=\"white-space:pre;overflow-x:auto;line-height:normal;font-family:Menlo,'DejaVu Sans Mono',consolas,'Courier New',monospace\"><span style=\"color: #7fbfbf; text-decoration-color: #7fbfbf\">[10/17/22 16:51:38] </span><span style=\"color: #000080; text-decoration-color: #000080\">INFO    </span> <span style=\"color: #808000; text-decoration-color: #808000\">...</span> db_external_tables  <span style=\"color: #008000; text-decoration-color: #008000; font-weight: bold\">SUCCESS</span> <span style=\"font-weight: bold\">[</span><span style=\"color: #008080; text-decoration-color: #008080; font-weight: bold\">298</span> <span style=\"color: #800080; text-decoration-color: #800080; font-weight: bold\">rows</span><span style=\"font-weight: bold\">(</span>s<span style=\"font-weight: bold\">)]</span>                          <a href=\"file:///usr/local/google/home/codyfincher/Code/database-tools/oracle-database-assessment/src/server/dbma/database.py\" target=\"_blank\"><span style=\"color: #7f7f7f; text-decoration-color: #7f7f7f\">database.py</span></a><span style=\"color: #7f7f7f; text-decoration-color: #7f7f7f\">:</span><a href=\"file:///usr/local/google/home/codyfincher/Code/database-tools/oracle-database-assessment/src/server/dbma/database.py#160\" target=\"_blank\"><span style=\"color: #7f7f7f; text-decoration-color: #7f7f7f\">160</span></a>\n",
       "</pre>\n"
      ],
      "text/plain": [
       "\u001b[2;36m[10/17/22 16:51:38]\u001b[0m\u001b[2;36m \u001b[0m\u001b[34mINFO    \u001b[0m \u001b[33m...\u001b[0m db_external_tables  \u001b[1;32mSUCCESS\u001b[0m \u001b[1m[\u001b[0m\u001b[1;36m298\u001b[0m \u001b[1;35mrows\u001b[0m\u001b[1m(\u001b[0ms\u001b[1m)\u001b[0m\u001b[1m]\u001b[0m                          \u001b]8;id=616292;file:///usr/local/google/home/codyfincher/Code/database-tools/oracle-database-assessment/src/server/dbma/database.py\u001b\\\u001b[2mdatabase.py\u001b[0m\u001b]8;;\u001b\\\u001b[2m:\u001b[0m\u001b]8;id=527913;file:///usr/local/google/home/codyfincher/Code/database-tools/oracle-database-assessment/src/server/dbma/database.py#160\u001b\\\u001b[2m160\u001b[0m\u001b]8;;\u001b\\\n"
      ]
     },
     "metadata": {},
     "output_type": "display_data"
    },
    {
     "data": {
      "text/html": [
       "<pre style=\"white-space:pre;overflow-x:auto;line-height:normal;font-family:Menlo,'DejaVu Sans Mono',consolas,'Courier New',monospace\"><span style=\"color: #7fbfbf; text-decoration-color: #7fbfbf\">[10/17/22 16:51:38] </span><span style=\"color: #000080; text-decoration-color: #000080\">INFO    </span> delimiter is |                                                         <a href=\"file:///usr/local/google/home/codyfincher/Code/database-tools/oracle-database-assessment/src/server/dbma/database.py\" target=\"_blank\"><span style=\"color: #7f7f7f; text-decoration-color: #7f7f7f\">database.py</span></a><span style=\"color: #7f7f7f; text-decoration-color: #7f7f7f\">:</span><a href=\"file:///usr/local/google/home/codyfincher/Code/database-tools/oracle-database-assessment/src/server/dbma/database.py#153\" target=\"_blank\"><span style=\"color: #7f7f7f; text-decoration-color: #7f7f7f\">153</span></a>\n",
       "</pre>\n"
      ],
      "text/plain": [
       "\u001b[2;36m[10/17/22 16:51:38]\u001b[0m\u001b[2;36m \u001b[0m\u001b[34mINFO    \u001b[0m delimiter is |                                                         \u001b]8;id=939098;file:///usr/local/google/home/codyfincher/Code/database-tools/oracle-database-assessment/src/server/dbma/database.py\u001b\\\u001b[2mdatabase.py\u001b[0m\u001b]8;;\u001b\\\u001b[2m:\u001b[0m\u001b]8;id=651710;file:///usr/local/google/home/codyfincher/Code/database-tools/oracle-database-assessment/src/server/dbma/database.py#153\u001b\\\u001b[2m153\u001b[0m\u001b]8;;\u001b\\\n"
      ]
     },
     "metadata": {},
     "output_type": "display_data"
    },
    {
     "data": {
      "text/html": [
       "<pre style=\"white-space:pre;overflow-x:auto;line-height:normal;font-family:Menlo,'DejaVu Sans Mono',consolas,'Courier New',monospace\"><span style=\"color: #7fbfbf; text-decoration-color: #7fbfbf\">[10/17/22 16:51:38] </span><span style=\"color: #000080; text-decoration-color: #000080\">INFO    </span> <span style=\"color: #808000; text-decoration-color: #808000\">...</span> index_per_table  <span style=\"color: #008000; text-decoration-color: #008000; font-weight: bold\">SUCCESS</span> <span style=\"font-weight: bold\">[</span><span style=\"color: #008080; text-decoration-color: #008080; font-weight: bold\">29</span> <span style=\"color: #800080; text-decoration-color: #800080; font-weight: bold\">rows</span><span style=\"font-weight: bold\">(</span>s<span style=\"font-weight: bold\">)]</span>                              <a href=\"file:///usr/local/google/home/codyfincher/Code/database-tools/oracle-database-assessment/src/server/dbma/database.py\" target=\"_blank\"><span style=\"color: #7f7f7f; text-decoration-color: #7f7f7f\">database.py</span></a><span style=\"color: #7f7f7f; text-decoration-color: #7f7f7f\">:</span><a href=\"file:///usr/local/google/home/codyfincher/Code/database-tools/oracle-database-assessment/src/server/dbma/database.py#160\" target=\"_blank\"><span style=\"color: #7f7f7f; text-decoration-color: #7f7f7f\">160</span></a>\n",
       "</pre>\n"
      ],
      "text/plain": [
       "\u001b[2;36m[10/17/22 16:51:38]\u001b[0m\u001b[2;36m \u001b[0m\u001b[34mINFO    \u001b[0m \u001b[33m...\u001b[0m index_per_table  \u001b[1;32mSUCCESS\u001b[0m \u001b[1m[\u001b[0m\u001b[1;36m29\u001b[0m \u001b[1;35mrows\u001b[0m\u001b[1m(\u001b[0ms\u001b[1m)\u001b[0m\u001b[1m]\u001b[0m                              \u001b]8;id=222386;file:///usr/local/google/home/codyfincher/Code/database-tools/oracle-database-assessment/src/server/dbma/database.py\u001b\\\u001b[2mdatabase.py\u001b[0m\u001b]8;;\u001b\\\u001b[2m:\u001b[0m\u001b]8;id=792395;file:///usr/local/google/home/codyfincher/Code/database-tools/oracle-database-assessment/src/server/dbma/database.py#160\u001b\\\u001b[2m160\u001b[0m\u001b]8;;\u001b\\\n"
      ]
     },
     "metadata": {},
     "output_type": "display_data"
    },
    {
     "data": {
      "text/html": [
       "<pre style=\"white-space:pre;overflow-x:auto;line-height:normal;font-family:Menlo,'DejaVu Sans Mono',consolas,'Courier New',monospace\"><span style=\"color: #7fbfbf; text-decoration-color: #7fbfbf\">[10/17/22 16:51:38] </span><span style=\"color: #000080; text-decoration-color: #000080\">INFO    </span> delimiter is |                                                         <a href=\"file:///usr/local/google/home/codyfincher/Code/database-tools/oracle-database-assessment/src/server/dbma/database.py\" target=\"_blank\"><span style=\"color: #7f7f7f; text-decoration-color: #7f7f7f\">database.py</span></a><span style=\"color: #7f7f7f; text-decoration-color: #7f7f7f\">:</span><a href=\"file:///usr/local/google/home/codyfincher/Code/database-tools/oracle-database-assessment/src/server/dbma/database.py#153\" target=\"_blank\"><span style=\"color: #7f7f7f; text-decoration-color: #7f7f7f\">153</span></a>\n",
       "</pre>\n"
      ],
      "text/plain": [
       "\u001b[2;36m[10/17/22 16:51:38]\u001b[0m\u001b[2;36m \u001b[0m\u001b[34mINFO    \u001b[0m delimiter is |                                                         \u001b]8;id=662720;file:///usr/local/google/home/codyfincher/Code/database-tools/oracle-database-assessment/src/server/dbma/database.py\u001b\\\u001b[2mdatabase.py\u001b[0m\u001b]8;;\u001b\\\u001b[2m:\u001b[0m\u001b]8;id=166313;file:///usr/local/google/home/codyfincher/Code/database-tools/oracle-database-assessment/src/server/dbma/database.py#153\u001b\\\u001b[2m153\u001b[0m\u001b]8;;\u001b\\\n"
      ]
     },
     "metadata": {},
     "output_type": "display_data"
    },
    {
     "data": {
      "text/html": [
       "<pre style=\"white-space:pre;overflow-x:auto;line-height:normal;font-family:Menlo,'DejaVu Sans Mono',consolas,'Courier New',monospace\"><span style=\"color: #7fbfbf; text-decoration-color: #7fbfbf\">[10/17/22 16:51:38] </span><span style=\"color: #000080; text-decoration-color: #000080\">INFO    </span> <span style=\"color: #808000; text-decoration-color: #808000\">...</span> index_types  <span style=\"color: #008000; text-decoration-color: #008000; font-weight: bold\">SUCCESS</span> <span style=\"font-weight: bold\">[</span><span style=\"color: #008080; text-decoration-color: #008080; font-weight: bold\">161</span> <span style=\"color: #800080; text-decoration-color: #800080; font-weight: bold\">rows</span><span style=\"font-weight: bold\">(</span>s<span style=\"font-weight: bold\">)]</span>                                 <a href=\"file:///usr/local/google/home/codyfincher/Code/database-tools/oracle-database-assessment/src/server/dbma/database.py\" target=\"_blank\"><span style=\"color: #7f7f7f; text-decoration-color: #7f7f7f\">database.py</span></a><span style=\"color: #7f7f7f; text-decoration-color: #7f7f7f\">:</span><a href=\"file:///usr/local/google/home/codyfincher/Code/database-tools/oracle-database-assessment/src/server/dbma/database.py#160\" target=\"_blank\"><span style=\"color: #7f7f7f; text-decoration-color: #7f7f7f\">160</span></a>\n",
       "</pre>\n"
      ],
      "text/plain": [
       "\u001b[2;36m[10/17/22 16:51:38]\u001b[0m\u001b[2;36m \u001b[0m\u001b[34mINFO    \u001b[0m \u001b[33m...\u001b[0m index_types  \u001b[1;32mSUCCESS\u001b[0m \u001b[1m[\u001b[0m\u001b[1;36m161\u001b[0m \u001b[1;35mrows\u001b[0m\u001b[1m(\u001b[0ms\u001b[1m)\u001b[0m\u001b[1m]\u001b[0m                                 \u001b]8;id=846270;file:///usr/local/google/home/codyfincher/Code/database-tools/oracle-database-assessment/src/server/dbma/database.py\u001b\\\u001b[2mdatabase.py\u001b[0m\u001b]8;;\u001b\\\u001b[2m:\u001b[0m\u001b]8;id=719028;file:///usr/local/google/home/codyfincher/Code/database-tools/oracle-database-assessment/src/server/dbma/database.py#160\u001b\\\u001b[2m160\u001b[0m\u001b]8;;\u001b\\\n"
      ]
     },
     "metadata": {},
     "output_type": "display_data"
    },
    {
     "data": {
      "text/html": [
       "<pre style=\"white-space:pre;overflow-x:auto;line-height:normal;font-family:Menlo,'DejaVu Sans Mono',consolas,'Courier New',monospace\"><span style=\"color: #7fbfbf; text-decoration-color: #7fbfbf\">[10/17/22 16:51:38] </span><span style=\"color: #000080; text-decoration-color: #000080\">INFO    </span> delimiter is |                                                         <a href=\"file:///usr/local/google/home/codyfincher/Code/database-tools/oracle-database-assessment/src/server/dbma/database.py\" target=\"_blank\"><span style=\"color: #7f7f7f; text-decoration-color: #7f7f7f\">database.py</span></a><span style=\"color: #7f7f7f; text-decoration-color: #7f7f7f\">:</span><a href=\"file:///usr/local/google/home/codyfincher/Code/database-tools/oracle-database-assessment/src/server/dbma/database.py#153\" target=\"_blank\"><span style=\"color: #7f7f7f; text-decoration-color: #7f7f7f\">153</span></a>\n",
       "</pre>\n"
      ],
      "text/plain": [
       "\u001b[2;36m[10/17/22 16:51:38]\u001b[0m\u001b[2;36m \u001b[0m\u001b[34mINFO    \u001b[0m delimiter is |                                                         \u001b]8;id=799891;file:///usr/local/google/home/codyfincher/Code/database-tools/oracle-database-assessment/src/server/dbma/database.py\u001b\\\u001b[2mdatabase.py\u001b[0m\u001b]8;;\u001b\\\u001b[2m:\u001b[0m\u001b]8;id=190123;file:///usr/local/google/home/codyfincher/Code/database-tools/oracle-database-assessment/src/server/dbma/database.py#153\u001b\\\u001b[2m153\u001b[0m\u001b]8;;\u001b\\\n"
      ]
     },
     "metadata": {},
     "output_type": "display_data"
    },
    {
     "data": {
      "text/html": [
       "<pre style=\"white-space:pre;overflow-x:auto;line-height:normal;font-family:Menlo,'DejaVu Sans Mono',consolas,'Courier New',monospace\"><span style=\"color: #7fbfbf; text-decoration-color: #7fbfbf\">[10/17/22 16:51:38] </span><span style=\"color: #000080; text-decoration-color: #000080\">INFO    </span> <span style=\"color: #808000; text-decoration-color: #808000\">...</span> io_events  <span style=\"color: #008000; text-decoration-color: #008000; font-weight: bold\">SUCCESS</span> <span style=\"font-weight: bold\">[</span><span style=\"color: #008080; text-decoration-color: #008080; font-weight: bold\">864</span> <span style=\"color: #800080; text-decoration-color: #800080; font-weight: bold\">rows</span><span style=\"font-weight: bold\">(</span>s<span style=\"font-weight: bold\">)]</span>                                   <a href=\"file:///usr/local/google/home/codyfincher/Code/database-tools/oracle-database-assessment/src/server/dbma/database.py\" target=\"_blank\"><span style=\"color: #7f7f7f; text-decoration-color: #7f7f7f\">database.py</span></a><span style=\"color: #7f7f7f; text-decoration-color: #7f7f7f\">:</span><a href=\"file:///usr/local/google/home/codyfincher/Code/database-tools/oracle-database-assessment/src/server/dbma/database.py#160\" target=\"_blank\"><span style=\"color: #7f7f7f; text-decoration-color: #7f7f7f\">160</span></a>\n",
       "</pre>\n"
      ],
      "text/plain": [
       "\u001b[2;36m[10/17/22 16:51:38]\u001b[0m\u001b[2;36m \u001b[0m\u001b[34mINFO    \u001b[0m \u001b[33m...\u001b[0m io_events  \u001b[1;32mSUCCESS\u001b[0m \u001b[1m[\u001b[0m\u001b[1;36m864\u001b[0m \u001b[1;35mrows\u001b[0m\u001b[1m(\u001b[0ms\u001b[1m)\u001b[0m\u001b[1m]\u001b[0m                                   \u001b]8;id=258780;file:///usr/local/google/home/codyfincher/Code/database-tools/oracle-database-assessment/src/server/dbma/database.py\u001b\\\u001b[2mdatabase.py\u001b[0m\u001b]8;;\u001b\\\u001b[2m:\u001b[0m\u001b]8;id=495844;file:///usr/local/google/home/codyfincher/Code/database-tools/oracle-database-assessment/src/server/dbma/database.py#160\u001b\\\u001b[2m160\u001b[0m\u001b]8;;\u001b\\\n"
      ]
     },
     "metadata": {},
     "output_type": "display_data"
    },
    {
     "data": {
      "text/html": [
       "<pre style=\"white-space:pre;overflow-x:auto;line-height:normal;font-family:Menlo,'DejaVu Sans Mono',consolas,'Courier New',monospace\"><span style=\"color: #7fbfbf; text-decoration-color: #7fbfbf\">[10/17/22 16:51:38] </span><span style=\"color: #000080; text-decoration-color: #000080\">INFO    </span> delimiter is |                                                         <a href=\"file:///usr/local/google/home/codyfincher/Code/database-tools/oracle-database-assessment/src/server/dbma/database.py\" target=\"_blank\"><span style=\"color: #7f7f7f; text-decoration-color: #7f7f7f\">database.py</span></a><span style=\"color: #7f7f7f; text-decoration-color: #7f7f7f\">:</span><a href=\"file:///usr/local/google/home/codyfincher/Code/database-tools/oracle-database-assessment/src/server/dbma/database.py#153\" target=\"_blank\"><span style=\"color: #7f7f7f; text-decoration-color: #7f7f7f\">153</span></a>\n",
       "</pre>\n"
      ],
      "text/plain": [
       "\u001b[2;36m[10/17/22 16:51:38]\u001b[0m\u001b[2;36m \u001b[0m\u001b[34mINFO    \u001b[0m delimiter is |                                                         \u001b]8;id=147713;file:///usr/local/google/home/codyfincher/Code/database-tools/oracle-database-assessment/src/server/dbma/database.py\u001b\\\u001b[2mdatabase.py\u001b[0m\u001b]8;;\u001b\\\u001b[2m:\u001b[0m\u001b]8;id=117178;file:///usr/local/google/home/codyfincher/Code/database-tools/oracle-database-assessment/src/server/dbma/database.py#153\u001b\\\u001b[2m153\u001b[0m\u001b]8;;\u001b\\\n"
      ]
     },
     "metadata": {},
     "output_type": "display_data"
    },
    {
     "data": {
      "text/html": [
       "<pre style=\"white-space:pre;overflow-x:auto;line-height:normal;font-family:Menlo,'DejaVu Sans Mono',consolas,'Courier New',monospace\"><span style=\"color: #7fbfbf; text-decoration-color: #7fbfbf\">[10/17/22 16:51:38] </span><span style=\"color: #000080; text-decoration-color: #000080\">INFO    </span> <span style=\"color: #808000; text-decoration-color: #808000\">...</span> io_function  <span style=\"color: #008000; text-decoration-color: #008000; font-weight: bold\">SUCCESS</span> <span style=\"font-weight: bold\">[</span><span style=\"color: #008080; text-decoration-color: #008080; font-weight: bold\">360</span> <span style=\"color: #800080; text-decoration-color: #800080; font-weight: bold\">rows</span><span style=\"font-weight: bold\">(</span>s<span style=\"font-weight: bold\">)]</span>                                 <a href=\"file:///usr/local/google/home/codyfincher/Code/database-tools/oracle-database-assessment/src/server/dbma/database.py\" target=\"_blank\"><span style=\"color: #7f7f7f; text-decoration-color: #7f7f7f\">database.py</span></a><span style=\"color: #7f7f7f; text-decoration-color: #7f7f7f\">:</span><a href=\"file:///usr/local/google/home/codyfincher/Code/database-tools/oracle-database-assessment/src/server/dbma/database.py#160\" target=\"_blank\"><span style=\"color: #7f7f7f; text-decoration-color: #7f7f7f\">160</span></a>\n",
       "</pre>\n"
      ],
      "text/plain": [
       "\u001b[2;36m[10/17/22 16:51:38]\u001b[0m\u001b[2;36m \u001b[0m\u001b[34mINFO    \u001b[0m \u001b[33m...\u001b[0m io_function  \u001b[1;32mSUCCESS\u001b[0m \u001b[1m[\u001b[0m\u001b[1;36m360\u001b[0m \u001b[1;35mrows\u001b[0m\u001b[1m(\u001b[0ms\u001b[1m)\u001b[0m\u001b[1m]\u001b[0m                                 \u001b]8;id=872041;file:///usr/local/google/home/codyfincher/Code/database-tools/oracle-database-assessment/src/server/dbma/database.py\u001b\\\u001b[2mdatabase.py\u001b[0m\u001b]8;;\u001b\\\u001b[2m:\u001b[0m\u001b]8;id=273239;file:///usr/local/google/home/codyfincher/Code/database-tools/oracle-database-assessment/src/server/dbma/database.py#160\u001b\\\u001b[2m160\u001b[0m\u001b]8;;\u001b\\\n"
      ]
     },
     "metadata": {},
     "output_type": "display_data"
    },
    {
     "data": {
      "text/html": [
       "<pre style=\"white-space:pre;overflow-x:auto;line-height:normal;font-family:Menlo,'DejaVu Sans Mono',consolas,'Courier New',monospace\"><span style=\"color: #7fbfbf; text-decoration-color: #7fbfbf\">[10/17/22 16:51:38] </span><span style=\"color: #000080; text-decoration-color: #000080\">INFO    </span> delimiter is |                                                         <a href=\"file:///usr/local/google/home/codyfincher/Code/database-tools/oracle-database-assessment/src/server/dbma/database.py\" target=\"_blank\"><span style=\"color: #7f7f7f; text-decoration-color: #7f7f7f\">database.py</span></a><span style=\"color: #7f7f7f; text-decoration-color: #7f7f7f\">:</span><a href=\"file:///usr/local/google/home/codyfincher/Code/database-tools/oracle-database-assessment/src/server/dbma/database.py#153\" target=\"_blank\"><span style=\"color: #7f7f7f; text-decoration-color: #7f7f7f\">153</span></a>\n",
       "</pre>\n"
      ],
      "text/plain": [
       "\u001b[2;36m[10/17/22 16:51:38]\u001b[0m\u001b[2;36m \u001b[0m\u001b[34mINFO    \u001b[0m delimiter is |                                                         \u001b]8;id=385013;file:///usr/local/google/home/codyfincher/Code/database-tools/oracle-database-assessment/src/server/dbma/database.py\u001b\\\u001b[2mdatabase.py\u001b[0m\u001b]8;;\u001b\\\u001b[2m:\u001b[0m\u001b]8;id=301069;file:///usr/local/google/home/codyfincher/Code/database-tools/oracle-database-assessment/src/server/dbma/database.py#153\u001b\\\u001b[2m153\u001b[0m\u001b]8;;\u001b\\\n"
      ]
     },
     "metadata": {},
     "output_type": "display_data"
    },
    {
     "data": {
      "text/html": [
       "<pre style=\"white-space:pre;overflow-x:auto;line-height:normal;font-family:Menlo,'DejaVu Sans Mono',consolas,'Courier New',monospace\"><span style=\"color: #7fbfbf; text-decoration-color: #7fbfbf\">[10/17/22 16:51:38] </span><span style=\"color: #000080; text-decoration-color: #000080\">INFO    </span> <span style=\"color: #808000; text-decoration-color: #808000\">...</span> pdbs_info  <span style=\"color: #7f7f7f; text-decoration-color: #7f7f7f; font-weight: bold\">SKIPPED</span>                                                 <a href=\"file:///usr/local/google/home/codyfincher/Code/database-tools/oracle-database-assessment/src/server/dbma/database.py\" target=\"_blank\"><span style=\"color: #7f7f7f; text-decoration-color: #7f7f7f\">database.py</span></a><span style=\"color: #7f7f7f; text-decoration-color: #7f7f7f\">:</span><a href=\"file:///usr/local/google/home/codyfincher/Code/database-tools/oracle-database-assessment/src/server/dbma/database.py#163\" target=\"_blank\"><span style=\"color: #7f7f7f; text-decoration-color: #7f7f7f\">163</span></a>\n",
       "</pre>\n"
      ],
      "text/plain": [
       "\u001b[2;36m[10/17/22 16:51:38]\u001b[0m\u001b[2;36m \u001b[0m\u001b[34mINFO    \u001b[0m \u001b[33m...\u001b[0m pdbs_info  \u001b[1;2mSKIPPED\u001b[0m                                                 \u001b]8;id=93665;file:///usr/local/google/home/codyfincher/Code/database-tools/oracle-database-assessment/src/server/dbma/database.py\u001b\\\u001b[2mdatabase.py\u001b[0m\u001b]8;;\u001b\\\u001b[2m:\u001b[0m\u001b]8;id=64866;file:///usr/local/google/home/codyfincher/Code/database-tools/oracle-database-assessment/src/server/dbma/database.py#163\u001b\\\u001b[2m163\u001b[0m\u001b]8;;\u001b\\\n"
      ]
     },
     "metadata": {},
     "output_type": "display_data"
    },
    {
     "data": {
      "text/html": [
       "<pre style=\"white-space:pre;overflow-x:auto;line-height:normal;font-family:Menlo,'DejaVu Sans Mono',consolas,'Courier New',monospace\"><span style=\"color: #7fbfbf; text-decoration-color: #7fbfbf\">[10/17/22 16:51:38] </span><span style=\"color: #000080; text-decoration-color: #000080\">INFO    </span> delimiter is |                                                         <a href=\"file:///usr/local/google/home/codyfincher/Code/database-tools/oracle-database-assessment/src/server/dbma/database.py\" target=\"_blank\"><span style=\"color: #7f7f7f; text-decoration-color: #7f7f7f\">database.py</span></a><span style=\"color: #7f7f7f; text-decoration-color: #7f7f7f\">:</span><a href=\"file:///usr/local/google/home/codyfincher/Code/database-tools/oracle-database-assessment/src/server/dbma/database.py#153\" target=\"_blank\"><span style=\"color: #7f7f7f; text-decoration-color: #7f7f7f\">153</span></a>\n",
       "</pre>\n"
      ],
      "text/plain": [
       "\u001b[2;36m[10/17/22 16:51:38]\u001b[0m\u001b[2;36m \u001b[0m\u001b[34mINFO    \u001b[0m delimiter is |                                                         \u001b]8;id=548079;file:///usr/local/google/home/codyfincher/Code/database-tools/oracle-database-assessment/src/server/dbma/database.py\u001b\\\u001b[2mdatabase.py\u001b[0m\u001b]8;;\u001b\\\u001b[2m:\u001b[0m\u001b]8;id=915129;file:///usr/local/google/home/codyfincher/Code/database-tools/oracle-database-assessment/src/server/dbma/database.py#153\u001b\\\u001b[2m153\u001b[0m\u001b]8;;\u001b\\\n"
      ]
     },
     "metadata": {},
     "output_type": "display_data"
    },
    {
     "data": {
      "text/html": [
       "<pre style=\"white-space:pre;overflow-x:auto;line-height:normal;font-family:Menlo,'DejaVu Sans Mono',consolas,'Courier New',monospace\"><span style=\"color: #7fbfbf; text-decoration-color: #7fbfbf\">[10/17/22 16:51:38] </span><span style=\"color: #000080; text-decoration-color: #000080\">INFO    </span> <span style=\"color: #808000; text-decoration-color: #808000\">...</span> pdbs_in_open_mode  <span style=\"color: #7f7f7f; text-decoration-color: #7f7f7f; font-weight: bold\">SKIPPED</span>                                         <a href=\"file:///usr/local/google/home/codyfincher/Code/database-tools/oracle-database-assessment/src/server/dbma/database.py\" target=\"_blank\"><span style=\"color: #7f7f7f; text-decoration-color: #7f7f7f\">database.py</span></a><span style=\"color: #7f7f7f; text-decoration-color: #7f7f7f\">:</span><a href=\"file:///usr/local/google/home/codyfincher/Code/database-tools/oracle-database-assessment/src/server/dbma/database.py#163\" target=\"_blank\"><span style=\"color: #7f7f7f; text-decoration-color: #7f7f7f\">163</span></a>\n",
       "</pre>\n"
      ],
      "text/plain": [
       "\u001b[2;36m[10/17/22 16:51:38]\u001b[0m\u001b[2;36m \u001b[0m\u001b[34mINFO    \u001b[0m \u001b[33m...\u001b[0m pdbs_in_open_mode  \u001b[1;2mSKIPPED\u001b[0m                                         \u001b]8;id=279894;file:///usr/local/google/home/codyfincher/Code/database-tools/oracle-database-assessment/src/server/dbma/database.py\u001b\\\u001b[2mdatabase.py\u001b[0m\u001b]8;;\u001b\\\u001b[2m:\u001b[0m\u001b]8;id=13068;file:///usr/local/google/home/codyfincher/Code/database-tools/oracle-database-assessment/src/server/dbma/database.py#163\u001b\\\u001b[2m163\u001b[0m\u001b]8;;\u001b\\\n"
      ]
     },
     "metadata": {},
     "output_type": "display_data"
    },
    {
     "data": {
      "text/html": [
       "<pre style=\"white-space:pre;overflow-x:auto;line-height:normal;font-family:Menlo,'DejaVu Sans Mono',consolas,'Courier New',monospace\"><span style=\"color: #7fbfbf; text-decoration-color: #7fbfbf\">[10/17/22 16:51:38] </span><span style=\"color: #000080; text-decoration-color: #000080\">INFO    </span> delimiter is |                                                         <a href=\"file:///usr/local/google/home/codyfincher/Code/database-tools/oracle-database-assessment/src/server/dbma/database.py\" target=\"_blank\"><span style=\"color: #7f7f7f; text-decoration-color: #7f7f7f\">database.py</span></a><span style=\"color: #7f7f7f; text-decoration-color: #7f7f7f\">:</span><a href=\"file:///usr/local/google/home/codyfincher/Code/database-tools/oracle-database-assessment/src/server/dbma/database.py#153\" target=\"_blank\"><span style=\"color: #7f7f7f; text-decoration-color: #7f7f7f\">153</span></a>\n",
       "</pre>\n"
      ],
      "text/plain": [
       "\u001b[2;36m[10/17/22 16:51:38]\u001b[0m\u001b[2;36m \u001b[0m\u001b[34mINFO    \u001b[0m delimiter is |                                                         \u001b]8;id=114778;file:///usr/local/google/home/codyfincher/Code/database-tools/oracle-database-assessment/src/server/dbma/database.py\u001b\\\u001b[2mdatabase.py\u001b[0m\u001b]8;;\u001b\\\u001b[2m:\u001b[0m\u001b]8;id=664978;file:///usr/local/google/home/codyfincher/Code/database-tools/oracle-database-assessment/src/server/dbma/database.py#153\u001b\\\u001b[2m153\u001b[0m\u001b]8;;\u001b\\\n"
      ]
     },
     "metadata": {},
     "output_type": "display_data"
    },
    {
     "data": {
      "text/html": [
       "<pre style=\"white-space:pre;overflow-x:auto;line-height:normal;font-family:Menlo,'DejaVu Sans Mono',consolas,'Courier New',monospace\"><span style=\"color: #7fbfbf; text-decoration-color: #7fbfbf\">[10/17/22 16:51:38] </span><span style=\"color: #000080; text-decoration-color: #000080\">INFO    </span> <span style=\"color: #808000; text-decoration-color: #808000\">...</span> db_source_code  <span style=\"color: #008000; text-decoration-color: #008000; font-weight: bold\">SUCCESS</span> <span style=\"font-weight: bold\">[</span><span style=\"color: #008080; text-decoration-color: #008080; font-weight: bold\">330</span> <span style=\"color: #800080; text-decoration-color: #800080; font-weight: bold\">rows</span><span style=\"font-weight: bold\">(</span>s<span style=\"font-weight: bold\">)]</span>                              <a href=\"file:///usr/local/google/home/codyfincher/Code/database-tools/oracle-database-assessment/src/server/dbma/database.py\" target=\"_blank\"><span style=\"color: #7f7f7f; text-decoration-color: #7f7f7f\">database.py</span></a><span style=\"color: #7f7f7f; text-decoration-color: #7f7f7f\">:</span><a href=\"file:///usr/local/google/home/codyfincher/Code/database-tools/oracle-database-assessment/src/server/dbma/database.py#160\" target=\"_blank\"><span style=\"color: #7f7f7f; text-decoration-color: #7f7f7f\">160</span></a>\n",
       "</pre>\n"
      ],
      "text/plain": [
       "\u001b[2;36m[10/17/22 16:51:38]\u001b[0m\u001b[2;36m \u001b[0m\u001b[34mINFO    \u001b[0m \u001b[33m...\u001b[0m db_source_code  \u001b[1;32mSUCCESS\u001b[0m \u001b[1m[\u001b[0m\u001b[1;36m330\u001b[0m \u001b[1;35mrows\u001b[0m\u001b[1m(\u001b[0ms\u001b[1m)\u001b[0m\u001b[1m]\u001b[0m                              \u001b]8;id=573561;file:///usr/local/google/home/codyfincher/Code/database-tools/oracle-database-assessment/src/server/dbma/database.py\u001b\\\u001b[2mdatabase.py\u001b[0m\u001b]8;;\u001b\\\u001b[2m:\u001b[0m\u001b]8;id=931220;file:///usr/local/google/home/codyfincher/Code/database-tools/oracle-database-assessment/src/server/dbma/database.py#160\u001b\\\u001b[2m160\u001b[0m\u001b]8;;\u001b\\\n"
      ]
     },
     "metadata": {},
     "output_type": "display_data"
    },
    {
     "data": {
      "text/html": [
       "<pre style=\"white-space:pre;overflow-x:auto;line-height:normal;font-family:Menlo,'DejaVu Sans Mono',consolas,'Courier New',monospace\"><span style=\"color: #7fbfbf; text-decoration-color: #7fbfbf\">[10/17/22 16:51:38] </span><span style=\"color: #000080; text-decoration-color: #000080\">INFO    </span> delimiter is |                                                         <a href=\"file:///usr/local/google/home/codyfincher/Code/database-tools/oracle-database-assessment/src/server/dbma/database.py\" target=\"_blank\"><span style=\"color: #7f7f7f; text-decoration-color: #7f7f7f\">database.py</span></a><span style=\"color: #7f7f7f; text-decoration-color: #7f7f7f\">:</span><a href=\"file:///usr/local/google/home/codyfincher/Code/database-tools/oracle-database-assessment/src/server/dbma/database.py#153\" target=\"_blank\"><span style=\"color: #7f7f7f; text-decoration-color: #7f7f7f\">153</span></a>\n",
       "</pre>\n"
      ],
      "text/plain": [
       "\u001b[2;36m[10/17/22 16:51:38]\u001b[0m\u001b[2;36m \u001b[0m\u001b[34mINFO    \u001b[0m delimiter is |                                                         \u001b]8;id=831324;file:///usr/local/google/home/codyfincher/Code/database-tools/oracle-database-assessment/src/server/dbma/database.py\u001b\\\u001b[2mdatabase.py\u001b[0m\u001b]8;;\u001b\\\u001b[2m:\u001b[0m\u001b]8;id=716007;file:///usr/local/google/home/codyfincher/Code/database-tools/oracle-database-assessment/src/server/dbma/database.py#153\u001b\\\u001b[2m153\u001b[0m\u001b]8;;\u001b\\\n"
      ]
     },
     "metadata": {},
     "output_type": "display_data"
    },
    {
     "data": {
      "text/html": [
       "<pre style=\"white-space:pre;overflow-x:auto;line-height:normal;font-family:Menlo,'DejaVu Sans Mono',consolas,'Courier New',monospace\"><span style=\"color: #7fbfbf; text-decoration-color: #7fbfbf\">[10/17/22 16:51:38] </span><span style=\"color: #000080; text-decoration-color: #000080\">INFO    </span> <span style=\"color: #808000; text-decoration-color: #808000\">...</span> db_source_connections  <span style=\"color: #008000; text-decoration-color: #008000; font-weight: bold\">SUCCESS</span> <span style=\"font-weight: bold\">[</span><span style=\"color: #008080; text-decoration-color: #008080; font-weight: bold\">119753</span> <span style=\"color: #800080; text-decoration-color: #800080; font-weight: bold\">rows</span><span style=\"font-weight: bold\">(</span>s<span style=\"font-weight: bold\">)]</span>                    <a href=\"file:///usr/local/google/home/codyfincher/Code/database-tools/oracle-database-assessment/src/server/dbma/database.py\" target=\"_blank\"><span style=\"color: #7f7f7f; text-decoration-color: #7f7f7f\">database.py</span></a><span style=\"color: #7f7f7f; text-decoration-color: #7f7f7f\">:</span><a href=\"file:///usr/local/google/home/codyfincher/Code/database-tools/oracle-database-assessment/src/server/dbma/database.py#160\" target=\"_blank\"><span style=\"color: #7f7f7f; text-decoration-color: #7f7f7f\">160</span></a>\n",
       "</pre>\n"
      ],
      "text/plain": [
       "\u001b[2;36m[10/17/22 16:51:38]\u001b[0m\u001b[2;36m \u001b[0m\u001b[34mINFO    \u001b[0m \u001b[33m...\u001b[0m db_source_connections  \u001b[1;32mSUCCESS\u001b[0m \u001b[1m[\u001b[0m\u001b[1;36m119753\u001b[0m \u001b[1;35mrows\u001b[0m\u001b[1m(\u001b[0ms\u001b[1m)\u001b[0m\u001b[1m]\u001b[0m                    \u001b]8;id=179667;file:///usr/local/google/home/codyfincher/Code/database-tools/oracle-database-assessment/src/server/dbma/database.py\u001b\\\u001b[2mdatabase.py\u001b[0m\u001b]8;;\u001b\\\u001b[2m:\u001b[0m\u001b]8;id=325146;file:///usr/local/google/home/codyfincher/Code/database-tools/oracle-database-assessment/src/server/dbma/database.py#160\u001b\\\u001b[2m160\u001b[0m\u001b]8;;\u001b\\\n"
      ]
     },
     "metadata": {},
     "output_type": "display_data"
    },
    {
     "data": {
      "text/html": [
       "<pre style=\"white-space:pre;overflow-x:auto;line-height:normal;font-family:Menlo,'DejaVu Sans Mono',consolas,'Courier New',monospace\"><span style=\"color: #7fbfbf; text-decoration-color: #7fbfbf\">[10/17/22 16:51:38] </span><span style=\"color: #000080; text-decoration-color: #000080\">INFO    </span> delimiter is |                                                         <a href=\"file:///usr/local/google/home/codyfincher/Code/database-tools/oracle-database-assessment/src/server/dbma/database.py\" target=\"_blank\"><span style=\"color: #7f7f7f; text-decoration-color: #7f7f7f\">database.py</span></a><span style=\"color: #7f7f7f; text-decoration-color: #7f7f7f\">:</span><a href=\"file:///usr/local/google/home/codyfincher/Code/database-tools/oracle-database-assessment/src/server/dbma/database.py#153\" target=\"_blank\"><span style=\"color: #7f7f7f; text-decoration-color: #7f7f7f\">153</span></a>\n",
       "</pre>\n"
      ],
      "text/plain": [
       "\u001b[2;36m[10/17/22 16:51:38]\u001b[0m\u001b[2;36m \u001b[0m\u001b[34mINFO    \u001b[0m delimiter is |                                                         \u001b]8;id=583210;file:///usr/local/google/home/codyfincher/Code/database-tools/oracle-database-assessment/src/server/dbma/database.py\u001b\\\u001b[2mdatabase.py\u001b[0m\u001b]8;;\u001b\\\u001b[2m:\u001b[0m\u001b]8;id=164879;file:///usr/local/google/home/codyfincher/Code/database-tools/oracle-database-assessment/src/server/dbma/database.py#153\u001b\\\u001b[2m153\u001b[0m\u001b]8;;\u001b\\\n"
      ]
     },
     "metadata": {},
     "output_type": "display_data"
    },
    {
     "data": {
      "text/html": [
       "<pre style=\"white-space:pre;overflow-x:auto;line-height:normal;font-family:Menlo,'DejaVu Sans Mono',consolas,'Courier New',monospace\"><span style=\"color: #7fbfbf; text-decoration-color: #7fbfbf\">[10/17/22 16:51:38] </span><span style=\"color: #000080; text-decoration-color: #000080\">INFO    </span> <span style=\"color: #808000; text-decoration-color: #808000\">...</span> db_sql_stats  <span style=\"color: #008000; text-decoration-color: #008000; font-weight: bold\">SUCCESS</span> <span style=\"font-weight: bold\">[</span><span style=\"color: #008080; text-decoration-color: #008080; font-weight: bold\">299</span> <span style=\"color: #800080; text-decoration-color: #800080; font-weight: bold\">rows</span><span style=\"font-weight: bold\">(</span>s<span style=\"font-weight: bold\">)]</span>                                <a href=\"file:///usr/local/google/home/codyfincher/Code/database-tools/oracle-database-assessment/src/server/dbma/database.py\" target=\"_blank\"><span style=\"color: #7f7f7f; text-decoration-color: #7f7f7f\">database.py</span></a><span style=\"color: #7f7f7f; text-decoration-color: #7f7f7f\">:</span><a href=\"file:///usr/local/google/home/codyfincher/Code/database-tools/oracle-database-assessment/src/server/dbma/database.py#160\" target=\"_blank\"><span style=\"color: #7f7f7f; text-decoration-color: #7f7f7f\">160</span></a>\n",
       "</pre>\n"
      ],
      "text/plain": [
       "\u001b[2;36m[10/17/22 16:51:38]\u001b[0m\u001b[2;36m \u001b[0m\u001b[34mINFO    \u001b[0m \u001b[33m...\u001b[0m db_sql_stats  \u001b[1;32mSUCCESS\u001b[0m \u001b[1m[\u001b[0m\u001b[1;36m299\u001b[0m \u001b[1;35mrows\u001b[0m\u001b[1m(\u001b[0ms\u001b[1m)\u001b[0m\u001b[1m]\u001b[0m                                \u001b]8;id=502880;file:///usr/local/google/home/codyfincher/Code/database-tools/oracle-database-assessment/src/server/dbma/database.py\u001b\\\u001b[2mdatabase.py\u001b[0m\u001b]8;;\u001b\\\u001b[2m:\u001b[0m\u001b]8;id=685818;file:///usr/local/google/home/codyfincher/Code/database-tools/oracle-database-assessment/src/server/dbma/database.py#160\u001b\\\u001b[2m160\u001b[0m\u001b]8;;\u001b\\\n"
      ]
     },
     "metadata": {},
     "output_type": "display_data"
    },
    {
     "data": {
      "text/html": [
       "<pre style=\"white-space:pre;overflow-x:auto;line-height:normal;font-family:Menlo,'DejaVu Sans Mono',consolas,'Courier New',monospace\"><span style=\"color: #7fbfbf; text-decoration-color: #7fbfbf\">[10/17/22 16:51:38] </span><span style=\"color: #000080; text-decoration-color: #000080\">INFO    </span> delimiter is |                                                         <a href=\"file:///usr/local/google/home/codyfincher/Code/database-tools/oracle-database-assessment/src/server/dbma/database.py\" target=\"_blank\"><span style=\"color: #7f7f7f; text-decoration-color: #7f7f7f\">database.py</span></a><span style=\"color: #7f7f7f; text-decoration-color: #7f7f7f\">:</span><a href=\"file:///usr/local/google/home/codyfincher/Code/database-tools/oracle-database-assessment/src/server/dbma/database.py#153\" target=\"_blank\"><span style=\"color: #7f7f7f; text-decoration-color: #7f7f7f\">153</span></a>\n",
       "</pre>\n"
      ],
      "text/plain": [
       "\u001b[2;36m[10/17/22 16:51:38]\u001b[0m\u001b[2;36m \u001b[0m\u001b[34mINFO    \u001b[0m delimiter is |                                                         \u001b]8;id=36418;file:///usr/local/google/home/codyfincher/Code/database-tools/oracle-database-assessment/src/server/dbma/database.py\u001b\\\u001b[2mdatabase.py\u001b[0m\u001b]8;;\u001b\\\u001b[2m:\u001b[0m\u001b]8;id=872094;file:///usr/local/google/home/codyfincher/Code/database-tools/oracle-database-assessment/src/server/dbma/database.py#153\u001b\\\u001b[2m153\u001b[0m\u001b]8;;\u001b\\\n"
      ]
     },
     "metadata": {},
     "output_type": "display_data"
    },
    {
     "data": {
      "text/html": [
       "<pre style=\"white-space:pre;overflow-x:auto;line-height:normal;font-family:Menlo,'DejaVu Sans Mono',consolas,'Courier New',monospace\"><span style=\"color: #7fbfbf; text-decoration-color: #7fbfbf\">[10/17/22 16:51:38] </span><span style=\"color: #000080; text-decoration-color: #000080\">INFO    </span> <span style=\"color: #808000; text-decoration-color: #808000\">...</span> db_constraint_summary  <span style=\"color: #008000; text-decoration-color: #008000; font-weight: bold\">SUCCESS</span> <span style=\"font-weight: bold\">[</span><span style=\"color: #008080; text-decoration-color: #008080; font-weight: bold\">120</span> <span style=\"color: #800080; text-decoration-color: #800080; font-weight: bold\">rows</span><span style=\"font-weight: bold\">(</span>s<span style=\"font-weight: bold\">)]</span>                       <a href=\"file:///usr/local/google/home/codyfincher/Code/database-tools/oracle-database-assessment/src/server/dbma/database.py\" target=\"_blank\"><span style=\"color: #7f7f7f; text-decoration-color: #7f7f7f\">database.py</span></a><span style=\"color: #7f7f7f; text-decoration-color: #7f7f7f\">:</span><a href=\"file:///usr/local/google/home/codyfincher/Code/database-tools/oracle-database-assessment/src/server/dbma/database.py#160\" target=\"_blank\"><span style=\"color: #7f7f7f; text-decoration-color: #7f7f7f\">160</span></a>\n",
       "</pre>\n"
      ],
      "text/plain": [
       "\u001b[2;36m[10/17/22 16:51:38]\u001b[0m\u001b[2;36m \u001b[0m\u001b[34mINFO    \u001b[0m \u001b[33m...\u001b[0m db_constraint_summary  \u001b[1;32mSUCCESS\u001b[0m \u001b[1m[\u001b[0m\u001b[1;36m120\u001b[0m \u001b[1;35mrows\u001b[0m\u001b[1m(\u001b[0ms\u001b[1m)\u001b[0m\u001b[1m]\u001b[0m                       \u001b]8;id=506326;file:///usr/local/google/home/codyfincher/Code/database-tools/oracle-database-assessment/src/server/dbma/database.py\u001b\\\u001b[2mdatabase.py\u001b[0m\u001b]8;;\u001b\\\u001b[2m:\u001b[0m\u001b]8;id=42638;file:///usr/local/google/home/codyfincher/Code/database-tools/oracle-database-assessment/src/server/dbma/database.py#160\u001b\\\u001b[2m160\u001b[0m\u001b]8;;\u001b\\\n"
      ]
     },
     "metadata": {},
     "output_type": "display_data"
    },
    {
     "data": {
      "text/html": [
       "<pre style=\"white-space:pre;overflow-x:auto;line-height:normal;font-family:Menlo,'DejaVu Sans Mono',consolas,'Courier New',monospace\"><span style=\"color: #7fbfbf; text-decoration-color: #7fbfbf\">[10/17/22 16:51:38] </span><span style=\"color: #000080; text-decoration-color: #000080\">INFO    </span> delimiter is |                                                         <a href=\"file:///usr/local/google/home/codyfincher/Code/database-tools/oracle-database-assessment/src/server/dbma/database.py\" target=\"_blank\"><span style=\"color: #7f7f7f; text-decoration-color: #7f7f7f\">database.py</span></a><span style=\"color: #7f7f7f; text-decoration-color: #7f7f7f\">:</span><a href=\"file:///usr/local/google/home/codyfincher/Code/database-tools/oracle-database-assessment/src/server/dbma/database.py#153\" target=\"_blank\"><span style=\"color: #7f7f7f; text-decoration-color: #7f7f7f\">153</span></a>\n",
       "</pre>\n"
      ],
      "text/plain": [
       "\u001b[2;36m[10/17/22 16:51:38]\u001b[0m\u001b[2;36m \u001b[0m\u001b[34mINFO    \u001b[0m delimiter is |                                                         \u001b]8;id=191829;file:///usr/local/google/home/codyfincher/Code/database-tools/oracle-database-assessment/src/server/dbma/database.py\u001b\\\u001b[2mdatabase.py\u001b[0m\u001b]8;;\u001b\\\u001b[2m:\u001b[0m\u001b]8;id=709636;file:///usr/local/google/home/codyfincher/Code/database-tools/oracle-database-assessment/src/server/dbma/database.py#153\u001b\\\u001b[2m153\u001b[0m\u001b]8;;\u001b\\\n"
      ]
     },
     "metadata": {},
     "output_type": "display_data"
    },
    {
     "data": {
      "text/html": [
       "<pre style=\"white-space:pre;overflow-x:auto;line-height:normal;font-family:Menlo,'DejaVu Sans Mono',consolas,'Courier New',monospace\"><span style=\"color: #7fbfbf; text-decoration-color: #7fbfbf\">[10/17/22 16:51:38] </span><span style=\"color: #000080; text-decoration-color: #000080\">INFO    </span> <span style=\"color: #808000; text-decoration-color: #808000\">...</span> db_used_space_details  <span style=\"color: #008000; text-decoration-color: #008000; font-weight: bold\">SUCCESS</span> <span style=\"font-weight: bold\">[</span><span style=\"color: #008080; text-decoration-color: #008080; font-weight: bold\">290</span> <span style=\"color: #800080; text-decoration-color: #800080; font-weight: bold\">rows</span><span style=\"font-weight: bold\">(</span>s<span style=\"font-weight: bold\">)]</span>                       <a href=\"file:///usr/local/google/home/codyfincher/Code/database-tools/oracle-database-assessment/src/server/dbma/database.py\" target=\"_blank\"><span style=\"color: #7f7f7f; text-decoration-color: #7f7f7f\">database.py</span></a><span style=\"color: #7f7f7f; text-decoration-color: #7f7f7f\">:</span><a href=\"file:///usr/local/google/home/codyfincher/Code/database-tools/oracle-database-assessment/src/server/dbma/database.py#160\" target=\"_blank\"><span style=\"color: #7f7f7f; text-decoration-color: #7f7f7f\">160</span></a>\n",
       "</pre>\n"
      ],
      "text/plain": [
       "\u001b[2;36m[10/17/22 16:51:38]\u001b[0m\u001b[2;36m \u001b[0m\u001b[34mINFO    \u001b[0m \u001b[33m...\u001b[0m db_used_space_details  \u001b[1;32mSUCCESS\u001b[0m \u001b[1m[\u001b[0m\u001b[1;36m290\u001b[0m \u001b[1;35mrows\u001b[0m\u001b[1m(\u001b[0ms\u001b[1m)\u001b[0m\u001b[1m]\u001b[0m                       \u001b]8;id=804995;file:///usr/local/google/home/codyfincher/Code/database-tools/oracle-database-assessment/src/server/dbma/database.py\u001b\\\u001b[2mdatabase.py\u001b[0m\u001b]8;;\u001b\\\u001b[2m:\u001b[0m\u001b]8;id=611182;file:///usr/local/google/home/codyfincher/Code/database-tools/oracle-database-assessment/src/server/dbma/database.py#160\u001b\\\u001b[2m160\u001b[0m\u001b]8;;\u001b\\\n"
      ]
     },
     "metadata": {},
     "output_type": "display_data"
    },
    {
     "data": {
      "text/html": [
       "<pre style=\"white-space:pre;overflow-x:auto;line-height:normal;font-family:Menlo,'DejaVu Sans Mono',consolas,'Courier New',monospace\"><span style=\"color: #7fbfbf; text-decoration-color: #7fbfbf\">[10/17/22 16:51:38] </span><span style=\"color: #000080; text-decoration-color: #000080\">INFO    </span> delimiter is |                                                         <a href=\"file:///usr/local/google/home/codyfincher/Code/database-tools/oracle-database-assessment/src/server/dbma/database.py\" target=\"_blank\"><span style=\"color: #7f7f7f; text-decoration-color: #7f7f7f\">database.py</span></a><span style=\"color: #7f7f7f; text-decoration-color: #7f7f7f\">:</span><a href=\"file:///usr/local/google/home/codyfincher/Code/database-tools/oracle-database-assessment/src/server/dbma/database.py#153\" target=\"_blank\"><span style=\"color: #7f7f7f; text-decoration-color: #7f7f7f\">153</span></a>\n",
       "</pre>\n"
      ],
      "text/plain": [
       "\u001b[2;36m[10/17/22 16:51:38]\u001b[0m\u001b[2;36m \u001b[0m\u001b[34mINFO    \u001b[0m delimiter is |                                                         \u001b]8;id=117857;file:///usr/local/google/home/codyfincher/Code/database-tools/oracle-database-assessment/src/server/dbma/database.py\u001b\\\u001b[2mdatabase.py\u001b[0m\u001b]8;;\u001b\\\u001b[2m:\u001b[0m\u001b]8;id=605393;file:///usr/local/google/home/codyfincher/Code/database-tools/oracle-database-assessment/src/server/dbma/database.py#153\u001b\\\u001b[2m153\u001b[0m\u001b]8;;\u001b\\\n"
      ]
     },
     "metadata": {},
     "output_type": "display_data"
    },
    {
     "data": {
      "text/html": [
       "<pre style=\"white-space:pre;overflow-x:auto;line-height:normal;font-family:Menlo,'DejaVu Sans Mono',consolas,'Courier New',monospace\"><span style=\"color: #7fbfbf; text-decoration-color: #7fbfbf\">[10/17/22 16:51:38] </span><span style=\"color: #000080; text-decoration-color: #000080\">INFO    </span> <span style=\"color: #808000; text-decoration-color: #808000\">...</span> db_user_tablespace_segments  <span style=\"color: #7f7f7f; text-decoration-color: #7f7f7f; font-weight: bold\">SKIPPED</span>                               <a href=\"file:///usr/local/google/home/codyfincher/Code/database-tools/oracle-database-assessment/src/server/dbma/database.py\" target=\"_blank\"><span style=\"color: #7f7f7f; text-decoration-color: #7f7f7f\">database.py</span></a><span style=\"color: #7f7f7f; text-decoration-color: #7f7f7f\">:</span><a href=\"file:///usr/local/google/home/codyfincher/Code/database-tools/oracle-database-assessment/src/server/dbma/database.py#163\" target=\"_blank\"><span style=\"color: #7f7f7f; text-decoration-color: #7f7f7f\">163</span></a>\n",
       "</pre>\n"
      ],
      "text/plain": [
       "\u001b[2;36m[10/17/22 16:51:38]\u001b[0m\u001b[2;36m \u001b[0m\u001b[34mINFO    \u001b[0m \u001b[33m...\u001b[0m db_user_tablespace_segments  \u001b[1;2mSKIPPED\u001b[0m                               \u001b]8;id=363912;file:///usr/local/google/home/codyfincher/Code/database-tools/oracle-database-assessment/src/server/dbma/database.py\u001b\\\u001b[2mdatabase.py\u001b[0m\u001b]8;;\u001b\\\u001b[2m:\u001b[0m\u001b]8;id=210192;file:///usr/local/google/home/codyfincher/Code/database-tools/oracle-database-assessment/src/server/dbma/database.py#163\u001b\\\u001b[2m163\u001b[0m\u001b]8;;\u001b\\\n"
      ]
     },
     "metadata": {},
     "output_type": "display_data"
    },
    {
     "data": {
      "text/html": [
       "<pre style=\"white-space:pre;overflow-x:auto;line-height:normal;font-family:Menlo,'DejaVu Sans Mono',consolas,'Courier New',monospace\"><span style=\"color: #7fbfbf; text-decoration-color: #7fbfbf\">[10/17/22 16:51:45] </span><span style=\"color: #000080; text-decoration-color: #000080\">INFO    </span> <span style=\"font-weight: bold\">[]</span>                                                                        <a href=\"file:///usr/local/google/home/codyfincher/Code/database-tools/oracle-database-assessment/src/server/dbma/transformer/engine.py\" target=\"_blank\"><span style=\"color: #7f7f7f; text-decoration-color: #7f7f7f\">engine.py</span></a><span style=\"color: #7f7f7f; text-decoration-color: #7f7f7f\">:</span><a href=\"file:///usr/local/google/home/codyfincher/Code/database-tools/oracle-database-assessment/src/server/dbma/transformer/engine.py#87\" target=\"_blank\"><span style=\"color: #7f7f7f; text-decoration-color: #7f7f7f\">87</span></a>\n",
       "</pre>\n"
      ],
      "text/plain": [
       "\u001b[2;36m[10/17/22 16:51:45]\u001b[0m\u001b[2;36m \u001b[0m\u001b[34mINFO    \u001b[0m \u001b[1m[\u001b[0m\u001b[1m]\u001b[0m                                                                        \u001b]8;id=564004;file:///usr/local/google/home/codyfincher/Code/database-tools/oracle-database-assessment/src/server/dbma/transformer/engine.py\u001b\\\u001b[2mengine.py\u001b[0m\u001b]8;;\u001b\\\u001b[2m:\u001b[0m\u001b]8;id=91668;file:///usr/local/google/home/codyfincher/Code/database-tools/oracle-database-assessment/src/server/dbma/transformer/engine.py#87\u001b\\\u001b[2m87\u001b[0m\u001b]8;;\u001b\\\n"
      ]
     },
     "metadata": {},
     "output_type": "display_data"
    },
    {
     "data": {
      "text/html": [
       "<pre style=\"white-space:pre;overflow-x:auto;line-height:normal;font-family:Menlo,'DejaVu Sans Mono',consolas,'Courier New',monospace\"><span style=\"color: #7fbfbf; text-decoration-color: #7fbfbf\">[10/17/22 16:51:45] </span><span style=\"color: #000080; text-decoration-color: #000080\">INFO    </span> delimiter is |                                                         <a href=\"file:///usr/local/google/home/codyfincher/Code/database-tools/oracle-database-assessment/src/server/dbma/database.py\" target=\"_blank\"><span style=\"color: #7f7f7f; text-decoration-color: #7f7f7f\">database.py</span></a><span style=\"color: #7f7f7f; text-decoration-color: #7f7f7f\">:</span><a href=\"file:///usr/local/google/home/codyfincher/Code/database-tools/oracle-database-assessment/src/server/dbma/database.py#153\" target=\"_blank\"><span style=\"color: #7f7f7f; text-decoration-color: #7f7f7f\">153</span></a>\n",
       "</pre>\n"
      ],
      "text/plain": [
       "\u001b[2;36m[10/17/22 16:51:45]\u001b[0m\u001b[2;36m \u001b[0m\u001b[34mINFO    \u001b[0m delimiter is |                                                         \u001b]8;id=955349;file:///usr/local/google/home/codyfincher/Code/database-tools/oracle-database-assessment/src/server/dbma/database.py\u001b\\\u001b[2mdatabase.py\u001b[0m\u001b]8;;\u001b\\\u001b[2m:\u001b[0m\u001b]8;id=772754;file:///usr/local/google/home/codyfincher/Code/database-tools/oracle-database-assessment/src/server/dbma/database.py#153\u001b\\\u001b[2m153\u001b[0m\u001b]8;;\u001b\\\n"
      ]
     },
     "metadata": {},
     "output_type": "display_data"
    },
    {
     "data": {
      "text/html": [
       "<pre style=\"white-space:pre;overflow-x:auto;line-height:normal;font-family:Menlo,'DejaVu Sans Mono',consolas,'Courier New',monospace\"><span style=\"color: #7fbfbf; text-decoration-color: #7fbfbf\">[10/17/22 16:51:45] </span><span style=\"color: #000080; text-decoration-color: #000080\">INFO    </span> <span style=\"color: #808000; text-decoration-color: #808000\">...</span> awr_hist_cmd_types  <span style=\"color: #008000; text-decoration-color: #008000; font-weight: bold\">SUCCESS</span> <span style=\"font-weight: bold\">[</span><span style=\"color: #008080; text-decoration-color: #008080; font-weight: bold\">174</span> <span style=\"color: #800080; text-decoration-color: #800080; font-weight: bold\">rows</span><span style=\"font-weight: bold\">(</span>s<span style=\"font-weight: bold\">)]</span>                          <a href=\"file:///usr/local/google/home/codyfincher/Code/database-tools/oracle-database-assessment/src/server/dbma/database.py\" target=\"_blank\"><span style=\"color: #7f7f7f; text-decoration-color: #7f7f7f\">database.py</span></a><span style=\"color: #7f7f7f; text-decoration-color: #7f7f7f\">:</span><a href=\"file:///usr/local/google/home/codyfincher/Code/database-tools/oracle-database-assessment/src/server/dbma/database.py#160\" target=\"_blank\"><span style=\"color: #7f7f7f; text-decoration-color: #7f7f7f\">160</span></a>\n",
       "</pre>\n"
      ],
      "text/plain": [
       "\u001b[2;36m[10/17/22 16:51:45]\u001b[0m\u001b[2;36m \u001b[0m\u001b[34mINFO    \u001b[0m \u001b[33m...\u001b[0m awr_hist_cmd_types  \u001b[1;32mSUCCESS\u001b[0m \u001b[1m[\u001b[0m\u001b[1;36m174\u001b[0m \u001b[1;35mrows\u001b[0m\u001b[1m(\u001b[0ms\u001b[1m)\u001b[0m\u001b[1m]\u001b[0m                          \u001b]8;id=957013;file:///usr/local/google/home/codyfincher/Code/database-tools/oracle-database-assessment/src/server/dbma/database.py\u001b\\\u001b[2mdatabase.py\u001b[0m\u001b]8;;\u001b\\\u001b[2m:\u001b[0m\u001b]8;id=267353;file:///usr/local/google/home/codyfincher/Code/database-tools/oracle-database-assessment/src/server/dbma/database.py#160\u001b\\\u001b[2m160\u001b[0m\u001b]8;;\u001b\\\n"
      ]
     },
     "metadata": {},
     "output_type": "display_data"
    },
    {
     "data": {
      "text/html": [
       "<pre style=\"white-space:pre;overflow-x:auto;line-height:normal;font-family:Menlo,'DejaVu Sans Mono',consolas,'Courier New',monospace\"><span style=\"color: #7fbfbf; text-decoration-color: #7fbfbf\">[10/17/22 16:51:45] </span><span style=\"color: #000080; text-decoration-color: #000080\">INFO    </span> delimiter is |                                                         <a href=\"file:///usr/local/google/home/codyfincher/Code/database-tools/oracle-database-assessment/src/server/dbma/database.py\" target=\"_blank\"><span style=\"color: #7f7f7f; text-decoration-color: #7f7f7f\">database.py</span></a><span style=\"color: #7f7f7f; text-decoration-color: #7f7f7f\">:</span><a href=\"file:///usr/local/google/home/codyfincher/Code/database-tools/oracle-database-assessment/src/server/dbma/database.py#153\" target=\"_blank\"><span style=\"color: #7f7f7f; text-decoration-color: #7f7f7f\">153</span></a>\n",
       "</pre>\n"
      ],
      "text/plain": [
       "\u001b[2;36m[10/17/22 16:51:45]\u001b[0m\u001b[2;36m \u001b[0m\u001b[34mINFO    \u001b[0m delimiter is |                                                         \u001b]8;id=713869;file:///usr/local/google/home/codyfincher/Code/database-tools/oracle-database-assessment/src/server/dbma/database.py\u001b\\\u001b[2mdatabase.py\u001b[0m\u001b]8;;\u001b\\\u001b[2m:\u001b[0m\u001b]8;id=559455;file:///usr/local/google/home/codyfincher/Code/database-tools/oracle-database-assessment/src/server/dbma/database.py#153\u001b\\\u001b[2m153\u001b[0m\u001b]8;;\u001b\\\n"
      ]
     },
     "metadata": {},
     "output_type": "display_data"
    },
    {
     "data": {
      "text/html": [
       "<pre style=\"white-space:pre;overflow-x:auto;line-height:normal;font-family:Menlo,'DejaVu Sans Mono',consolas,'Courier New',monospace\"><span style=\"color: #7fbfbf; text-decoration-color: #7fbfbf\">[10/17/22 16:51:45] </span><span style=\"color: #000080; text-decoration-color: #000080\">INFO    </span> <span style=\"color: #808000; text-decoration-color: #808000\">...</span> awr_hist_os_stat  <span style=\"color: #008000; text-decoration-color: #008000; font-weight: bold\">SUCCESS</span> <span style=\"font-weight: bold\">[</span><span style=\"color: #008080; text-decoration-color: #008080; font-weight: bold\">600</span> <span style=\"color: #800080; text-decoration-color: #800080; font-weight: bold\">rows</span><span style=\"font-weight: bold\">(</span>s<span style=\"font-weight: bold\">)]</span>                            <a href=\"file:///usr/local/google/home/codyfincher/Code/database-tools/oracle-database-assessment/src/server/dbma/database.py\" target=\"_blank\"><span style=\"color: #7f7f7f; text-decoration-color: #7f7f7f\">database.py</span></a><span style=\"color: #7f7f7f; text-decoration-color: #7f7f7f\">:</span><a href=\"file:///usr/local/google/home/codyfincher/Code/database-tools/oracle-database-assessment/src/server/dbma/database.py#160\" target=\"_blank\"><span style=\"color: #7f7f7f; text-decoration-color: #7f7f7f\">160</span></a>\n",
       "</pre>\n"
      ],
      "text/plain": [
       "\u001b[2;36m[10/17/22 16:51:45]\u001b[0m\u001b[2;36m \u001b[0m\u001b[34mINFO    \u001b[0m \u001b[33m...\u001b[0m awr_hist_os_stat  \u001b[1;32mSUCCESS\u001b[0m \u001b[1m[\u001b[0m\u001b[1;36m600\u001b[0m \u001b[1;35mrows\u001b[0m\u001b[1m(\u001b[0ms\u001b[1m)\u001b[0m\u001b[1m]\u001b[0m                            \u001b]8;id=708888;file:///usr/local/google/home/codyfincher/Code/database-tools/oracle-database-assessment/src/server/dbma/database.py\u001b\\\u001b[2mdatabase.py\u001b[0m\u001b]8;;\u001b\\\u001b[2m:\u001b[0m\u001b]8;id=973810;file:///usr/local/google/home/codyfincher/Code/database-tools/oracle-database-assessment/src/server/dbma/database.py#160\u001b\\\u001b[2m160\u001b[0m\u001b]8;;\u001b\\\n"
      ]
     },
     "metadata": {},
     "output_type": "display_data"
    },
    {
     "data": {
      "text/html": [
       "<pre style=\"white-space:pre;overflow-x:auto;line-height:normal;font-family:Menlo,'DejaVu Sans Mono',consolas,'Courier New',monospace\"><span style=\"color: #7fbfbf; text-decoration-color: #7fbfbf\">[10/17/22 16:51:45] </span><span style=\"color: #000080; text-decoration-color: #000080\">INFO    </span> delimiter is |                                                         <a href=\"file:///usr/local/google/home/codyfincher/Code/database-tools/oracle-database-assessment/src/server/dbma/database.py\" target=\"_blank\"><span style=\"color: #7f7f7f; text-decoration-color: #7f7f7f\">database.py</span></a><span style=\"color: #7f7f7f; text-decoration-color: #7f7f7f\">:</span><a href=\"file:///usr/local/google/home/codyfincher/Code/database-tools/oracle-database-assessment/src/server/dbma/database.py#153\" target=\"_blank\"><span style=\"color: #7f7f7f; text-decoration-color: #7f7f7f\">153</span></a>\n",
       "</pre>\n"
      ],
      "text/plain": [
       "\u001b[2;36m[10/17/22 16:51:45]\u001b[0m\u001b[2;36m \u001b[0m\u001b[34mINFO    \u001b[0m delimiter is |                                                         \u001b]8;id=337160;file:///usr/local/google/home/codyfincher/Code/database-tools/oracle-database-assessment/src/server/dbma/database.py\u001b\\\u001b[2mdatabase.py\u001b[0m\u001b]8;;\u001b\\\u001b[2m:\u001b[0m\u001b]8;id=2435;file:///usr/local/google/home/codyfincher/Code/database-tools/oracle-database-assessment/src/server/dbma/database.py#153\u001b\\\u001b[2m153\u001b[0m\u001b]8;;\u001b\\\n"
      ]
     },
     "metadata": {},
     "output_type": "display_data"
    },
    {
     "data": {
      "text/html": [
       "<pre style=\"white-space:pre;overflow-x:auto;line-height:normal;font-family:Menlo,'DejaVu Sans Mono',consolas,'Courier New',monospace\"><span style=\"color: #7fbfbf; text-decoration-color: #7fbfbf\">[10/17/22 16:51:45] </span><span style=\"color: #000080; text-decoration-color: #000080\">INFO    </span> <span style=\"color: #808000; text-decoration-color: #808000\">...</span> awr_hist_sys_metric_hist  <span style=\"color: #008000; text-decoration-color: #008000; font-weight: bold\">SUCCESS</span> <span style=\"font-weight: bold\">[</span><span style=\"color: #008080; text-decoration-color: #008080; font-weight: bold\">552</span> <span style=\"color: #800080; text-decoration-color: #800080; font-weight: bold\">rows</span><span style=\"font-weight: bold\">(</span>s<span style=\"font-weight: bold\">)]</span>                    <a href=\"file:///usr/local/google/home/codyfincher/Code/database-tools/oracle-database-assessment/src/server/dbma/database.py\" target=\"_blank\"><span style=\"color: #7f7f7f; text-decoration-color: #7f7f7f\">database.py</span></a><span style=\"color: #7f7f7f; text-decoration-color: #7f7f7f\">:</span><a href=\"file:///usr/local/google/home/codyfincher/Code/database-tools/oracle-database-assessment/src/server/dbma/database.py#160\" target=\"_blank\"><span style=\"color: #7f7f7f; text-decoration-color: #7f7f7f\">160</span></a>\n",
       "</pre>\n"
      ],
      "text/plain": [
       "\u001b[2;36m[10/17/22 16:51:45]\u001b[0m\u001b[2;36m \u001b[0m\u001b[34mINFO    \u001b[0m \u001b[33m...\u001b[0m awr_hist_sys_metric_hist  \u001b[1;32mSUCCESS\u001b[0m \u001b[1m[\u001b[0m\u001b[1;36m552\u001b[0m \u001b[1;35mrows\u001b[0m\u001b[1m(\u001b[0ms\u001b[1m)\u001b[0m\u001b[1m]\u001b[0m                    \u001b]8;id=802410;file:///usr/local/google/home/codyfincher/Code/database-tools/oracle-database-assessment/src/server/dbma/database.py\u001b\\\u001b[2mdatabase.py\u001b[0m\u001b]8;;\u001b\\\u001b[2m:\u001b[0m\u001b]8;id=556074;file:///usr/local/google/home/codyfincher/Code/database-tools/oracle-database-assessment/src/server/dbma/database.py#160\u001b\\\u001b[2m160\u001b[0m\u001b]8;;\u001b\\\n"
      ]
     },
     "metadata": {},
     "output_type": "display_data"
    },
    {
     "data": {
      "text/html": [
       "<pre style=\"white-space:pre;overflow-x:auto;line-height:normal;font-family:Menlo,'DejaVu Sans Mono',consolas,'Courier New',monospace\"><span style=\"color: #7fbfbf; text-decoration-color: #7fbfbf\">[10/17/22 16:51:45] </span><span style=\"color: #000080; text-decoration-color: #000080\">INFO    </span> delimiter is |                                                         <a href=\"file:///usr/local/google/home/codyfincher/Code/database-tools/oracle-database-assessment/src/server/dbma/database.py\" target=\"_blank\"><span style=\"color: #7f7f7f; text-decoration-color: #7f7f7f\">database.py</span></a><span style=\"color: #7f7f7f; text-decoration-color: #7f7f7f\">:</span><a href=\"file:///usr/local/google/home/codyfincher/Code/database-tools/oracle-database-assessment/src/server/dbma/database.py#153\" target=\"_blank\"><span style=\"color: #7f7f7f; text-decoration-color: #7f7f7f\">153</span></a>\n",
       "</pre>\n"
      ],
      "text/plain": [
       "\u001b[2;36m[10/17/22 16:51:45]\u001b[0m\u001b[2;36m \u001b[0m\u001b[34mINFO    \u001b[0m delimiter is |                                                         \u001b]8;id=204054;file:///usr/local/google/home/codyfincher/Code/database-tools/oracle-database-assessment/src/server/dbma/database.py\u001b\\\u001b[2mdatabase.py\u001b[0m\u001b]8;;\u001b\\\u001b[2m:\u001b[0m\u001b]8;id=977758;file:///usr/local/google/home/codyfincher/Code/database-tools/oracle-database-assessment/src/server/dbma/database.py#153\u001b\\\u001b[2m153\u001b[0m\u001b]8;;\u001b\\\n"
      ]
     },
     "metadata": {},
     "output_type": "display_data"
    },
    {
     "data": {
      "text/html": [
       "<pre style=\"white-space:pre;overflow-x:auto;line-height:normal;font-family:Menlo,'DejaVu Sans Mono',consolas,'Courier New',monospace\"><span style=\"color: #7fbfbf; text-decoration-color: #7fbfbf\">[10/17/22 16:51:45] </span><span style=\"color: #000080; text-decoration-color: #000080\">INFO    </span> <span style=\"color: #808000; text-decoration-color: #808000\">...</span> awr_hist_sys_metric_summary  <span style=\"color: #008000; text-decoration-color: #008000; font-weight: bold\">SUCCESS</span> <span style=\"font-weight: bold\">[</span><span style=\"color: #008080; text-decoration-color: #008080; font-weight: bold\">3864</span> <span style=\"color: #800080; text-decoration-color: #800080; font-weight: bold\">rows</span><span style=\"font-weight: bold\">(</span>s<span style=\"font-weight: bold\">)]</span>                <a href=\"file:///usr/local/google/home/codyfincher/Code/database-tools/oracle-database-assessment/src/server/dbma/database.py\" target=\"_blank\"><span style=\"color: #7f7f7f; text-decoration-color: #7f7f7f\">database.py</span></a><span style=\"color: #7f7f7f; text-decoration-color: #7f7f7f\">:</span><a href=\"file:///usr/local/google/home/codyfincher/Code/database-tools/oracle-database-assessment/src/server/dbma/database.py#160\" target=\"_blank\"><span style=\"color: #7f7f7f; text-decoration-color: #7f7f7f\">160</span></a>\n",
       "</pre>\n"
      ],
      "text/plain": [
       "\u001b[2;36m[10/17/22 16:51:45]\u001b[0m\u001b[2;36m \u001b[0m\u001b[34mINFO    \u001b[0m \u001b[33m...\u001b[0m awr_hist_sys_metric_summary  \u001b[1;32mSUCCESS\u001b[0m \u001b[1m[\u001b[0m\u001b[1;36m3864\u001b[0m \u001b[1;35mrows\u001b[0m\u001b[1m(\u001b[0ms\u001b[1m)\u001b[0m\u001b[1m]\u001b[0m                \u001b]8;id=567556;file:///usr/local/google/home/codyfincher/Code/database-tools/oracle-database-assessment/src/server/dbma/database.py\u001b\\\u001b[2mdatabase.py\u001b[0m\u001b]8;;\u001b\\\u001b[2m:\u001b[0m\u001b]8;id=53088;file:///usr/local/google/home/codyfincher/Code/database-tools/oracle-database-assessment/src/server/dbma/database.py#160\u001b\\\u001b[2m160\u001b[0m\u001b]8;;\u001b\\\n"
      ]
     },
     "metadata": {},
     "output_type": "display_data"
    },
    {
     "data": {
      "text/html": [
       "<pre style=\"white-space:pre;overflow-x:auto;line-height:normal;font-family:Menlo,'DejaVu Sans Mono',consolas,'Courier New',monospace\"><span style=\"color: #7fbfbf; text-decoration-color: #7fbfbf\">[10/17/22 16:51:45] </span><span style=\"color: #000080; text-decoration-color: #000080\">INFO    </span> delimiter is |                                                         <a href=\"file:///usr/local/google/home/codyfincher/Code/database-tools/oracle-database-assessment/src/server/dbma/database.py\" target=\"_blank\"><span style=\"color: #7f7f7f; text-decoration-color: #7f7f7f\">database.py</span></a><span style=\"color: #7f7f7f; text-decoration-color: #7f7f7f\">:</span><a href=\"file:///usr/local/google/home/codyfincher/Code/database-tools/oracle-database-assessment/src/server/dbma/database.py#153\" target=\"_blank\"><span style=\"color: #7f7f7f; text-decoration-color: #7f7f7f\">153</span></a>\n",
       "</pre>\n"
      ],
      "text/plain": [
       "\u001b[2;36m[10/17/22 16:51:45]\u001b[0m\u001b[2;36m \u001b[0m\u001b[34mINFO    \u001b[0m delimiter is |                                                         \u001b]8;id=300730;file:///usr/local/google/home/codyfincher/Code/database-tools/oracle-database-assessment/src/server/dbma/database.py\u001b\\\u001b[2mdatabase.py\u001b[0m\u001b]8;;\u001b\\\u001b[2m:\u001b[0m\u001b]8;id=681029;file:///usr/local/google/home/codyfincher/Code/database-tools/oracle-database-assessment/src/server/dbma/database.py#153\u001b\\\u001b[2m153\u001b[0m\u001b]8;;\u001b\\\n"
      ]
     },
     "metadata": {},
     "output_type": "display_data"
    },
    {
     "data": {
      "text/html": [
       "<pre style=\"white-space:pre;overflow-x:auto;line-height:normal;font-family:Menlo,'DejaVu Sans Mono',consolas,'Courier New',monospace\"><span style=\"color: #7fbfbf; text-decoration-color: #7fbfbf\">[10/17/22 16:51:45] </span><span style=\"color: #000080; text-decoration-color: #000080\">INFO    </span> <span style=\"color: #808000; text-decoration-color: #808000\">...</span> awr_snap_details  <span style=\"color: #008000; text-decoration-color: #008000; font-weight: bold\">SUCCESS</span> <span style=\"font-weight: bold\">[</span><span style=\"color: #008080; text-decoration-color: #008080; font-weight: bold\">24</span> <span style=\"color: #800080; text-decoration-color: #800080; font-weight: bold\">rows</span><span style=\"font-weight: bold\">(</span>s<span style=\"font-weight: bold\">)]</span>                             <a href=\"file:///usr/local/google/home/codyfincher/Code/database-tools/oracle-database-assessment/src/server/dbma/database.py\" target=\"_blank\"><span style=\"color: #7f7f7f; text-decoration-color: #7f7f7f\">database.py</span></a><span style=\"color: #7f7f7f; text-decoration-color: #7f7f7f\">:</span><a href=\"file:///usr/local/google/home/codyfincher/Code/database-tools/oracle-database-assessment/src/server/dbma/database.py#160\" target=\"_blank\"><span style=\"color: #7f7f7f; text-decoration-color: #7f7f7f\">160</span></a>\n",
       "</pre>\n"
      ],
      "text/plain": [
       "\u001b[2;36m[10/17/22 16:51:45]\u001b[0m\u001b[2;36m \u001b[0m\u001b[34mINFO    \u001b[0m \u001b[33m...\u001b[0m awr_snap_details  \u001b[1;32mSUCCESS\u001b[0m \u001b[1m[\u001b[0m\u001b[1;36m24\u001b[0m \u001b[1;35mrows\u001b[0m\u001b[1m(\u001b[0ms\u001b[1m)\u001b[0m\u001b[1m]\u001b[0m                             \u001b]8;id=823650;file:///usr/local/google/home/codyfincher/Code/database-tools/oracle-database-assessment/src/server/dbma/database.py\u001b\\\u001b[2mdatabase.py\u001b[0m\u001b]8;;\u001b\\\u001b[2m:\u001b[0m\u001b]8;id=69002;file:///usr/local/google/home/codyfincher/Code/database-tools/oracle-database-assessment/src/server/dbma/database.py#160\u001b\\\u001b[2m160\u001b[0m\u001b]8;;\u001b\\\n"
      ]
     },
     "metadata": {},
     "output_type": "display_data"
    },
    {
     "data": {
      "text/html": [
       "<pre style=\"white-space:pre;overflow-x:auto;line-height:normal;font-family:Menlo,'DejaVu Sans Mono',consolas,'Courier New',monospace\"><span style=\"color: #7fbfbf; text-decoration-color: #7fbfbf\">[10/17/22 16:51:45] </span><span style=\"color: #000080; text-decoration-color: #000080\">INFO    </span> delimiter is |                                                         <a href=\"file:///usr/local/google/home/codyfincher/Code/database-tools/oracle-database-assessment/src/server/dbma/database.py\" target=\"_blank\"><span style=\"color: #7f7f7f; text-decoration-color: #7f7f7f\">database.py</span></a><span style=\"color: #7f7f7f; text-decoration-color: #7f7f7f\">:</span><a href=\"file:///usr/local/google/home/codyfincher/Code/database-tools/oracle-database-assessment/src/server/dbma/database.py#153\" target=\"_blank\"><span style=\"color: #7f7f7f; text-decoration-color: #7f7f7f\">153</span></a>\n",
       "</pre>\n"
      ],
      "text/plain": [
       "\u001b[2;36m[10/17/22 16:51:45]\u001b[0m\u001b[2;36m \u001b[0m\u001b[34mINFO    \u001b[0m delimiter is |                                                         \u001b]8;id=395030;file:///usr/local/google/home/codyfincher/Code/database-tools/oracle-database-assessment/src/server/dbma/database.py\u001b\\\u001b[2mdatabase.py\u001b[0m\u001b]8;;\u001b\\\u001b[2m:\u001b[0m\u001b]8;id=222066;file:///usr/local/google/home/codyfincher/Code/database-tools/oracle-database-assessment/src/server/dbma/database.py#153\u001b\\\u001b[2m153\u001b[0m\u001b]8;;\u001b\\\n"
      ]
     },
     "metadata": {},
     "output_type": "display_data"
    },
    {
     "data": {
      "text/html": [
       "<pre style=\"white-space:pre;overflow-x:auto;line-height:normal;font-family:Menlo,'DejaVu Sans Mono',consolas,'Courier New',monospace\"><span style=\"color: #7fbfbf; text-decoration-color: #7fbfbf\">[10/17/22 16:51:45] </span><span style=\"color: #000080; text-decoration-color: #000080\">INFO    </span> <span style=\"color: #808000; text-decoration-color: #808000\">...</span> db_compression_by_type  <span style=\"color: #008000; text-decoration-color: #008000; font-weight: bold\">SUCCESS</span> <span style=\"font-weight: bold\">[</span><span style=\"color: #008080; text-decoration-color: #008080; font-weight: bold\">6</span> <span style=\"color: #800080; text-decoration-color: #800080; font-weight: bold\">rows</span><span style=\"font-weight: bold\">(</span>s<span style=\"font-weight: bold\">)]</span>                        <a href=\"file:///usr/local/google/home/codyfincher/Code/database-tools/oracle-database-assessment/src/server/dbma/database.py\" target=\"_blank\"><span style=\"color: #7f7f7f; text-decoration-color: #7f7f7f\">database.py</span></a><span style=\"color: #7f7f7f; text-decoration-color: #7f7f7f\">:</span><a href=\"file:///usr/local/google/home/codyfincher/Code/database-tools/oracle-database-assessment/src/server/dbma/database.py#160\" target=\"_blank\"><span style=\"color: #7f7f7f; text-decoration-color: #7f7f7f\">160</span></a>\n",
       "</pre>\n"
      ],
      "text/plain": [
       "\u001b[2;36m[10/17/22 16:51:45]\u001b[0m\u001b[2;36m \u001b[0m\u001b[34mINFO    \u001b[0m \u001b[33m...\u001b[0m db_compression_by_type  \u001b[1;32mSUCCESS\u001b[0m \u001b[1m[\u001b[0m\u001b[1;36m6\u001b[0m \u001b[1;35mrows\u001b[0m\u001b[1m(\u001b[0ms\u001b[1m)\u001b[0m\u001b[1m]\u001b[0m                        \u001b]8;id=818244;file:///usr/local/google/home/codyfincher/Code/database-tools/oracle-database-assessment/src/server/dbma/database.py\u001b\\\u001b[2mdatabase.py\u001b[0m\u001b]8;;\u001b\\\u001b[2m:\u001b[0m\u001b]8;id=848443;file:///usr/local/google/home/codyfincher/Code/database-tools/oracle-database-assessment/src/server/dbma/database.py#160\u001b\\\u001b[2m160\u001b[0m\u001b]8;;\u001b\\\n"
      ]
     },
     "metadata": {},
     "output_type": "display_data"
    },
    {
     "data": {
      "text/html": [
       "<pre style=\"white-space:pre;overflow-x:auto;line-height:normal;font-family:Menlo,'DejaVu Sans Mono',consolas,'Courier New',monospace\"><span style=\"color: #7fbfbf; text-decoration-color: #7fbfbf\">[10/17/22 16:51:45] </span><span style=\"color: #000080; text-decoration-color: #000080\">INFO    </span> delimiter is |                                                         <a href=\"file:///usr/local/google/home/codyfincher/Code/database-tools/oracle-database-assessment/src/server/dbma/database.py\" target=\"_blank\"><span style=\"color: #7f7f7f; text-decoration-color: #7f7f7f\">database.py</span></a><span style=\"color: #7f7f7f; text-decoration-color: #7f7f7f\">:</span><a href=\"file:///usr/local/google/home/codyfincher/Code/database-tools/oracle-database-assessment/src/server/dbma/database.py#153\" target=\"_blank\"><span style=\"color: #7f7f7f; text-decoration-color: #7f7f7f\">153</span></a>\n",
       "</pre>\n"
      ],
      "text/plain": [
       "\u001b[2;36m[10/17/22 16:51:45]\u001b[0m\u001b[2;36m \u001b[0m\u001b[34mINFO    \u001b[0m delimiter is |                                                         \u001b]8;id=169294;file:///usr/local/google/home/codyfincher/Code/database-tools/oracle-database-assessment/src/server/dbma/database.py\u001b\\\u001b[2mdatabase.py\u001b[0m\u001b]8;;\u001b\\\u001b[2m:\u001b[0m\u001b]8;id=769881;file:///usr/local/google/home/codyfincher/Code/database-tools/oracle-database-assessment/src/server/dbma/database.py#153\u001b\\\u001b[2m153\u001b[0m\u001b]8;;\u001b\\\n"
      ]
     },
     "metadata": {},
     "output_type": "display_data"
    },
    {
     "data": {
      "text/html": [
       "<pre style=\"white-space:pre;overflow-x:auto;line-height:normal;font-family:Menlo,'DejaVu Sans Mono',consolas,'Courier New',monospace\"><span style=\"color: #7fbfbf; text-decoration-color: #7fbfbf\">[10/17/22 16:51:45] </span><span style=\"color: #000080; text-decoration-color: #000080\">INFO    </span> <span style=\"color: #808000; text-decoration-color: #808000\">...</span> db_cpu_core_usage  <span style=\"color: #008000; text-decoration-color: #008000; font-weight: bold\">SUCCESS</span> <span style=\"font-weight: bold\">[</span><span style=\"color: #008080; text-decoration-color: #008080; font-weight: bold\">44</span> <span style=\"color: #800080; text-decoration-color: #800080; font-weight: bold\">rows</span><span style=\"font-weight: bold\">(</span>s<span style=\"font-weight: bold\">)]</span>                            <a href=\"file:///usr/local/google/home/codyfincher/Code/database-tools/oracle-database-assessment/src/server/dbma/database.py\" target=\"_blank\"><span style=\"color: #7f7f7f; text-decoration-color: #7f7f7f\">database.py</span></a><span style=\"color: #7f7f7f; text-decoration-color: #7f7f7f\">:</span><a href=\"file:///usr/local/google/home/codyfincher/Code/database-tools/oracle-database-assessment/src/server/dbma/database.py#160\" target=\"_blank\"><span style=\"color: #7f7f7f; text-decoration-color: #7f7f7f\">160</span></a>\n",
       "</pre>\n"
      ],
      "text/plain": [
       "\u001b[2;36m[10/17/22 16:51:45]\u001b[0m\u001b[2;36m \u001b[0m\u001b[34mINFO    \u001b[0m \u001b[33m...\u001b[0m db_cpu_core_usage  \u001b[1;32mSUCCESS\u001b[0m \u001b[1m[\u001b[0m\u001b[1;36m44\u001b[0m \u001b[1;35mrows\u001b[0m\u001b[1m(\u001b[0ms\u001b[1m)\u001b[0m\u001b[1m]\u001b[0m                            \u001b]8;id=386513;file:///usr/local/google/home/codyfincher/Code/database-tools/oracle-database-assessment/src/server/dbma/database.py\u001b\\\u001b[2mdatabase.py\u001b[0m\u001b]8;;\u001b\\\u001b[2m:\u001b[0m\u001b]8;id=671500;file:///usr/local/google/home/codyfincher/Code/database-tools/oracle-database-assessment/src/server/dbma/database.py#160\u001b\\\u001b[2m160\u001b[0m\u001b]8;;\u001b\\\n"
      ]
     },
     "metadata": {},
     "output_type": "display_data"
    },
    {
     "data": {
      "text/html": [
       "<pre style=\"white-space:pre;overflow-x:auto;line-height:normal;font-family:Menlo,'DejaVu Sans Mono',consolas,'Courier New',monospace\"><span style=\"color: #7fbfbf; text-decoration-color: #7fbfbf\">[10/17/22 16:51:45] </span><span style=\"color: #000080; text-decoration-color: #000080\">INFO    </span> delimiter is |                                                         <a href=\"file:///usr/local/google/home/codyfincher/Code/database-tools/oracle-database-assessment/src/server/dbma/database.py\" target=\"_blank\"><span style=\"color: #7f7f7f; text-decoration-color: #7f7f7f\">database.py</span></a><span style=\"color: #7f7f7f; text-decoration-color: #7f7f7f\">:</span><a href=\"file:///usr/local/google/home/codyfincher/Code/database-tools/oracle-database-assessment/src/server/dbma/database.py#153\" target=\"_blank\"><span style=\"color: #7f7f7f; text-decoration-color: #7f7f7f\">153</span></a>\n",
       "</pre>\n"
      ],
      "text/plain": [
       "\u001b[2;36m[10/17/22 16:51:45]\u001b[0m\u001b[2;36m \u001b[0m\u001b[34mINFO    \u001b[0m delimiter is |                                                         \u001b]8;id=954691;file:///usr/local/google/home/codyfincher/Code/database-tools/oracle-database-assessment/src/server/dbma/database.py\u001b\\\u001b[2mdatabase.py\u001b[0m\u001b]8;;\u001b\\\u001b[2m:\u001b[0m\u001b]8;id=825538;file:///usr/local/google/home/codyfincher/Code/database-tools/oracle-database-assessment/src/server/dbma/database.py#153\u001b\\\u001b[2m153\u001b[0m\u001b]8;;\u001b\\\n"
      ]
     },
     "metadata": {},
     "output_type": "display_data"
    },
    {
     "data": {
      "text/html": [
       "<pre style=\"white-space:pre;overflow-x:auto;line-height:normal;font-family:Menlo,'DejaVu Sans Mono',consolas,'Courier New',monospace\"><span style=\"color: #7fbfbf; text-decoration-color: #7fbfbf\">[10/17/22 16:51:45] </span><span style=\"color: #000080; text-decoration-color: #000080\">INFO    </span> <span style=\"color: #808000; text-decoration-color: #808000\">...</span> db_dataguard  <span style=\"color: #008000; text-decoration-color: #008000; font-weight: bold\">SUCCESS</span> <span style=\"font-weight: bold\">[</span><span style=\"color: #008080; text-decoration-color: #008080; font-weight: bold\">2</span> <span style=\"color: #800080; text-decoration-color: #800080; font-weight: bold\">rows</span><span style=\"font-weight: bold\">(</span>s<span style=\"font-weight: bold\">)]</span>                                  <a href=\"file:///usr/local/google/home/codyfincher/Code/database-tools/oracle-database-assessment/src/server/dbma/database.py\" target=\"_blank\"><span style=\"color: #7f7f7f; text-decoration-color: #7f7f7f\">database.py</span></a><span style=\"color: #7f7f7f; text-decoration-color: #7f7f7f\">:</span><a href=\"file:///usr/local/google/home/codyfincher/Code/database-tools/oracle-database-assessment/src/server/dbma/database.py#160\" target=\"_blank\"><span style=\"color: #7f7f7f; text-decoration-color: #7f7f7f\">160</span></a>\n",
       "</pre>\n"
      ],
      "text/plain": [
       "\u001b[2;36m[10/17/22 16:51:45]\u001b[0m\u001b[2;36m \u001b[0m\u001b[34mINFO    \u001b[0m \u001b[33m...\u001b[0m db_dataguard  \u001b[1;32mSUCCESS\u001b[0m \u001b[1m[\u001b[0m\u001b[1;36m2\u001b[0m \u001b[1;35mrows\u001b[0m\u001b[1m(\u001b[0ms\u001b[1m)\u001b[0m\u001b[1m]\u001b[0m                                  \u001b]8;id=134317;file:///usr/local/google/home/codyfincher/Code/database-tools/oracle-database-assessment/src/server/dbma/database.py\u001b\\\u001b[2mdatabase.py\u001b[0m\u001b]8;;\u001b\\\u001b[2m:\u001b[0m\u001b]8;id=394904;file:///usr/local/google/home/codyfincher/Code/database-tools/oracle-database-assessment/src/server/dbma/database.py#160\u001b\\\u001b[2m160\u001b[0m\u001b]8;;\u001b\\\n"
      ]
     },
     "metadata": {},
     "output_type": "display_data"
    },
    {
     "data": {
      "text/html": [
       "<pre style=\"white-space:pre;overflow-x:auto;line-height:normal;font-family:Menlo,'DejaVu Sans Mono',consolas,'Courier New',monospace\"><span style=\"color: #7fbfbf; text-decoration-color: #7fbfbf\">[10/17/22 16:51:45] </span><span style=\"color: #000080; text-decoration-color: #000080\">INFO    </span> delimiter is |                                                         <a href=\"file:///usr/local/google/home/codyfincher/Code/database-tools/oracle-database-assessment/src/server/dbma/database.py\" target=\"_blank\"><span style=\"color: #7f7f7f; text-decoration-color: #7f7f7f\">database.py</span></a><span style=\"color: #7f7f7f; text-decoration-color: #7f7f7f\">:</span><a href=\"file:///usr/local/google/home/codyfincher/Code/database-tools/oracle-database-assessment/src/server/dbma/database.py#153\" target=\"_blank\"><span style=\"color: #7f7f7f; text-decoration-color: #7f7f7f\">153</span></a>\n",
       "</pre>\n"
      ],
      "text/plain": [
       "\u001b[2;36m[10/17/22 16:51:45]\u001b[0m\u001b[2;36m \u001b[0m\u001b[34mINFO    \u001b[0m delimiter is |                                                         \u001b]8;id=835291;file:///usr/local/google/home/codyfincher/Code/database-tools/oracle-database-assessment/src/server/dbma/database.py\u001b\\\u001b[2mdatabase.py\u001b[0m\u001b]8;;\u001b\\\u001b[2m:\u001b[0m\u001b]8;id=899918;file:///usr/local/google/home/codyfincher/Code/database-tools/oracle-database-assessment/src/server/dbma/database.py#153\u001b\\\u001b[2m153\u001b[0m\u001b]8;;\u001b\\\n"
      ]
     },
     "metadata": {},
     "output_type": "display_data"
    },
    {
     "data": {
      "text/html": [
       "<pre style=\"white-space:pre;overflow-x:auto;line-height:normal;font-family:Menlo,'DejaVu Sans Mono',consolas,'Courier New',monospace\"><span style=\"color: #7fbfbf; text-decoration-color: #7fbfbf\">[10/17/22 16:51:45] </span><span style=\"color: #000080; text-decoration-color: #000080\">INFO    </span> <span style=\"color: #808000; text-decoration-color: #808000\">...</span> db_data_types  <span style=\"color: #008000; text-decoration-color: #008000; font-weight: bold\">SUCCESS</span> <span style=\"font-weight: bold\">[</span><span style=\"color: #008080; text-decoration-color: #008080; font-weight: bold\">67</span> <span style=\"color: #800080; text-decoration-color: #800080; font-weight: bold\">rows</span><span style=\"font-weight: bold\">(</span>s<span style=\"font-weight: bold\">)]</span>                                <a href=\"file:///usr/local/google/home/codyfincher/Code/database-tools/oracle-database-assessment/src/server/dbma/database.py\" target=\"_blank\"><span style=\"color: #7f7f7f; text-decoration-color: #7f7f7f\">database.py</span></a><span style=\"color: #7f7f7f; text-decoration-color: #7f7f7f\">:</span><a href=\"file:///usr/local/google/home/codyfincher/Code/database-tools/oracle-database-assessment/src/server/dbma/database.py#160\" target=\"_blank\"><span style=\"color: #7f7f7f; text-decoration-color: #7f7f7f\">160</span></a>\n",
       "</pre>\n"
      ],
      "text/plain": [
       "\u001b[2;36m[10/17/22 16:51:45]\u001b[0m\u001b[2;36m \u001b[0m\u001b[34mINFO    \u001b[0m \u001b[33m...\u001b[0m db_data_types  \u001b[1;32mSUCCESS\u001b[0m \u001b[1m[\u001b[0m\u001b[1;36m67\u001b[0m \u001b[1;35mrows\u001b[0m\u001b[1m(\u001b[0ms\u001b[1m)\u001b[0m\u001b[1m]\u001b[0m                                \u001b]8;id=441465;file:///usr/local/google/home/codyfincher/Code/database-tools/oracle-database-assessment/src/server/dbma/database.py\u001b\\\u001b[2mdatabase.py\u001b[0m\u001b]8;;\u001b\\\u001b[2m:\u001b[0m\u001b]8;id=227043;file:///usr/local/google/home/codyfincher/Code/database-tools/oracle-database-assessment/src/server/dbma/database.py#160\u001b\\\u001b[2m160\u001b[0m\u001b]8;;\u001b\\\n"
      ]
     },
     "metadata": {},
     "output_type": "display_data"
    },
    {
     "data": {
      "text/html": [
       "<pre style=\"white-space:pre;overflow-x:auto;line-height:normal;font-family:Menlo,'DejaVu Sans Mono',consolas,'Courier New',monospace\"><span style=\"color: #7fbfbf; text-decoration-color: #7fbfbf\">[10/17/22 16:51:45] </span><span style=\"color: #000080; text-decoration-color: #000080\">INFO    </span> delimiter is |                                                         <a href=\"file:///usr/local/google/home/codyfincher/Code/database-tools/oracle-database-assessment/src/server/dbma/database.py\" target=\"_blank\"><span style=\"color: #7f7f7f; text-decoration-color: #7f7f7f\">database.py</span></a><span style=\"color: #7f7f7f; text-decoration-color: #7f7f7f\">:</span><a href=\"file:///usr/local/google/home/codyfincher/Code/database-tools/oracle-database-assessment/src/server/dbma/database.py#153\" target=\"_blank\"><span style=\"color: #7f7f7f; text-decoration-color: #7f7f7f\">153</span></a>\n",
       "</pre>\n"
      ],
      "text/plain": [
       "\u001b[2;36m[10/17/22 16:51:45]\u001b[0m\u001b[2;36m \u001b[0m\u001b[34mINFO    \u001b[0m delimiter is |                                                         \u001b]8;id=215534;file:///usr/local/google/home/codyfincher/Code/database-tools/oracle-database-assessment/src/server/dbma/database.py\u001b\\\u001b[2mdatabase.py\u001b[0m\u001b]8;;\u001b\\\u001b[2m:\u001b[0m\u001b]8;id=242142;file:///usr/local/google/home/codyfincher/Code/database-tools/oracle-database-assessment/src/server/dbma/database.py#153\u001b\\\u001b[2m153\u001b[0m\u001b]8;;\u001b\\\n"
      ]
     },
     "metadata": {},
     "output_type": "display_data"
    },
    {
     "data": {
      "text/html": [
       "<pre style=\"white-space:pre;overflow-x:auto;line-height:normal;font-family:Menlo,'DejaVu Sans Mono',consolas,'Courier New',monospace\"><span style=\"color: #7fbfbf; text-decoration-color: #7fbfbf\">[10/17/22 16:51:45] </span><span style=\"color: #000080; text-decoration-color: #000080\">INFO    </span> <span style=\"color: #808000; text-decoration-color: #808000\">...</span> dba_hist_sys_stat  <span style=\"color: #008000; text-decoration-color: #008000; font-weight: bold\">SUCCESS</span> <span style=\"font-weight: bold\">[</span><span style=\"color: #008080; text-decoration-color: #008080; font-weight: bold\">3816</span> <span style=\"color: #800080; text-decoration-color: #800080; font-weight: bold\">rows</span><span style=\"font-weight: bold\">(</span>s<span style=\"font-weight: bold\">)]</span>                          <a href=\"file:///usr/local/google/home/codyfincher/Code/database-tools/oracle-database-assessment/src/server/dbma/database.py\" target=\"_blank\"><span style=\"color: #7f7f7f; text-decoration-color: #7f7f7f\">database.py</span></a><span style=\"color: #7f7f7f; text-decoration-color: #7f7f7f\">:</span><a href=\"file:///usr/local/google/home/codyfincher/Code/database-tools/oracle-database-assessment/src/server/dbma/database.py#160\" target=\"_blank\"><span style=\"color: #7f7f7f; text-decoration-color: #7f7f7f\">160</span></a>\n",
       "</pre>\n"
      ],
      "text/plain": [
       "\u001b[2;36m[10/17/22 16:51:45]\u001b[0m\u001b[2;36m \u001b[0m\u001b[34mINFO    \u001b[0m \u001b[33m...\u001b[0m dba_hist_sys_stat  \u001b[1;32mSUCCESS\u001b[0m \u001b[1m[\u001b[0m\u001b[1;36m3816\u001b[0m \u001b[1;35mrows\u001b[0m\u001b[1m(\u001b[0ms\u001b[1m)\u001b[0m\u001b[1m]\u001b[0m                          \u001b]8;id=872220;file:///usr/local/google/home/codyfincher/Code/database-tools/oracle-database-assessment/src/server/dbma/database.py\u001b\\\u001b[2mdatabase.py\u001b[0m\u001b]8;;\u001b\\\u001b[2m:\u001b[0m\u001b]8;id=231049;file:///usr/local/google/home/codyfincher/Code/database-tools/oracle-database-assessment/src/server/dbma/database.py#160\u001b\\\u001b[2m160\u001b[0m\u001b]8;;\u001b\\\n"
      ]
     },
     "metadata": {},
     "output_type": "display_data"
    },
    {
     "data": {
      "text/html": [
       "<pre style=\"white-space:pre;overflow-x:auto;line-height:normal;font-family:Menlo,'DejaVu Sans Mono',consolas,'Courier New',monospace\"><span style=\"color: #7fbfbf; text-decoration-color: #7fbfbf\">[10/17/22 16:51:45] </span><span style=\"color: #000080; text-decoration-color: #000080\">INFO    </span> delimiter is |                                                         <a href=\"file:///usr/local/google/home/codyfincher/Code/database-tools/oracle-database-assessment/src/server/dbma/database.py\" target=\"_blank\"><span style=\"color: #7f7f7f; text-decoration-color: #7f7f7f\">database.py</span></a><span style=\"color: #7f7f7f; text-decoration-color: #7f7f7f\">:</span><a href=\"file:///usr/local/google/home/codyfincher/Code/database-tools/oracle-database-assessment/src/server/dbma/database.py#153\" target=\"_blank\"><span style=\"color: #7f7f7f; text-decoration-color: #7f7f7f\">153</span></a>\n",
       "</pre>\n"
      ],
      "text/plain": [
       "\u001b[2;36m[10/17/22 16:51:45]\u001b[0m\u001b[2;36m \u001b[0m\u001b[34mINFO    \u001b[0m delimiter is |                                                         \u001b]8;id=986788;file:///usr/local/google/home/codyfincher/Code/database-tools/oracle-database-assessment/src/server/dbma/database.py\u001b\\\u001b[2mdatabase.py\u001b[0m\u001b]8;;\u001b\\\u001b[2m:\u001b[0m\u001b]8;id=797900;file:///usr/local/google/home/codyfincher/Code/database-tools/oracle-database-assessment/src/server/dbma/database.py#153\u001b\\\u001b[2m153\u001b[0m\u001b]8;;\u001b\\\n"
      ]
     },
     "metadata": {},
     "output_type": "display_data"
    },
    {
     "data": {
      "text/html": [
       "<pre style=\"white-space:pre;overflow-x:auto;line-height:normal;font-family:Menlo,'DejaVu Sans Mono',consolas,'Courier New',monospace\"><span style=\"color: #7fbfbf; text-decoration-color: #7fbfbf\">[10/17/22 16:51:45] </span><span style=\"color: #000080; text-decoration-color: #000080\">INFO    </span> <span style=\"color: #808000; text-decoration-color: #808000\">...</span> dba_hist_sys_time_model  <span style=\"color: #008000; text-decoration-color: #008000; font-weight: bold\">SUCCESS</span> <span style=\"font-weight: bold\">[</span><span style=\"color: #008080; text-decoration-color: #008080; font-weight: bold\">744</span> <span style=\"color: #800080; text-decoration-color: #800080; font-weight: bold\">rows</span><span style=\"font-weight: bold\">(</span>s<span style=\"font-weight: bold\">)]</span>                     <a href=\"file:///usr/local/google/home/codyfincher/Code/database-tools/oracle-database-assessment/src/server/dbma/database.py\" target=\"_blank\"><span style=\"color: #7f7f7f; text-decoration-color: #7f7f7f\">database.py</span></a><span style=\"color: #7f7f7f; text-decoration-color: #7f7f7f\">:</span><a href=\"file:///usr/local/google/home/codyfincher/Code/database-tools/oracle-database-assessment/src/server/dbma/database.py#160\" target=\"_blank\"><span style=\"color: #7f7f7f; text-decoration-color: #7f7f7f\">160</span></a>\n",
       "</pre>\n"
      ],
      "text/plain": [
       "\u001b[2;36m[10/17/22 16:51:45]\u001b[0m\u001b[2;36m \u001b[0m\u001b[34mINFO    \u001b[0m \u001b[33m...\u001b[0m dba_hist_sys_time_model  \u001b[1;32mSUCCESS\u001b[0m \u001b[1m[\u001b[0m\u001b[1;36m744\u001b[0m \u001b[1;35mrows\u001b[0m\u001b[1m(\u001b[0ms\u001b[1m)\u001b[0m\u001b[1m]\u001b[0m                     \u001b]8;id=239247;file:///usr/local/google/home/codyfincher/Code/database-tools/oracle-database-assessment/src/server/dbma/database.py\u001b\\\u001b[2mdatabase.py\u001b[0m\u001b]8;;\u001b\\\u001b[2m:\u001b[0m\u001b]8;id=394548;file:///usr/local/google/home/codyfincher/Code/database-tools/oracle-database-assessment/src/server/dbma/database.py#160\u001b\\\u001b[2m160\u001b[0m\u001b]8;;\u001b\\\n"
      ]
     },
     "metadata": {},
     "output_type": "display_data"
    },
    {
     "data": {
      "text/html": [
       "<pre style=\"white-space:pre;overflow-x:auto;line-height:normal;font-family:Menlo,'DejaVu Sans Mono',consolas,'Courier New',monospace\"><span style=\"color: #7fbfbf; text-decoration-color: #7fbfbf\">[10/17/22 16:51:45] </span><span style=\"color: #000080; text-decoration-color: #000080\">INFO    </span> delimiter is |                                                         <a href=\"file:///usr/local/google/home/codyfincher/Code/database-tools/oracle-database-assessment/src/server/dbma/database.py\" target=\"_blank\"><span style=\"color: #7f7f7f; text-decoration-color: #7f7f7f\">database.py</span></a><span style=\"color: #7f7f7f; text-decoration-color: #7f7f7f\">:</span><a href=\"file:///usr/local/google/home/codyfincher/Code/database-tools/oracle-database-assessment/src/server/dbma/database.py#153\" target=\"_blank\"><span style=\"color: #7f7f7f; text-decoration-color: #7f7f7f\">153</span></a>\n",
       "</pre>\n"
      ],
      "text/plain": [
       "\u001b[2;36m[10/17/22 16:51:45]\u001b[0m\u001b[2;36m \u001b[0m\u001b[34mINFO    \u001b[0m delimiter is |                                                         \u001b]8;id=959915;file:///usr/local/google/home/codyfincher/Code/database-tools/oracle-database-assessment/src/server/dbma/database.py\u001b\\\u001b[2mdatabase.py\u001b[0m\u001b]8;;\u001b\\\u001b[2m:\u001b[0m\u001b]8;id=245804;file:///usr/local/google/home/codyfincher/Code/database-tools/oracle-database-assessment/src/server/dbma/database.py#153\u001b\\\u001b[2m153\u001b[0m\u001b]8;;\u001b\\\n"
      ]
     },
     "metadata": {},
     "output_type": "display_data"
    },
    {
     "data": {
      "text/html": [
       "<pre style=\"white-space:pre;overflow-x:auto;line-height:normal;font-family:Menlo,'DejaVu Sans Mono',consolas,'Courier New',monospace\"><span style=\"color: #7fbfbf; text-decoration-color: #7fbfbf\">[10/17/22 16:51:45] </span><span style=\"color: #000080; text-decoration-color: #000080\">INFO    </span> <span style=\"color: #808000; text-decoration-color: #808000\">...</span> db_features  <span style=\"color: #008000; text-decoration-color: #008000; font-weight: bold\">SUCCESS</span> <span style=\"font-weight: bold\">[</span><span style=\"color: #008080; text-decoration-color: #008080; font-weight: bold\">1019</span> <span style=\"color: #800080; text-decoration-color: #800080; font-weight: bold\">rows</span><span style=\"font-weight: bold\">(</span>s<span style=\"font-weight: bold\">)]</span>                                <a href=\"file:///usr/local/google/home/codyfincher/Code/database-tools/oracle-database-assessment/src/server/dbma/database.py\" target=\"_blank\"><span style=\"color: #7f7f7f; text-decoration-color: #7f7f7f\">database.py</span></a><span style=\"color: #7f7f7f; text-decoration-color: #7f7f7f\">:</span><a href=\"file:///usr/local/google/home/codyfincher/Code/database-tools/oracle-database-assessment/src/server/dbma/database.py#160\" target=\"_blank\"><span style=\"color: #7f7f7f; text-decoration-color: #7f7f7f\">160</span></a>\n",
       "</pre>\n"
      ],
      "text/plain": [
       "\u001b[2;36m[10/17/22 16:51:45]\u001b[0m\u001b[2;36m \u001b[0m\u001b[34mINFO    \u001b[0m \u001b[33m...\u001b[0m db_features  \u001b[1;32mSUCCESS\u001b[0m \u001b[1m[\u001b[0m\u001b[1;36m1019\u001b[0m \u001b[1;35mrows\u001b[0m\u001b[1m(\u001b[0ms\u001b[1m)\u001b[0m\u001b[1m]\u001b[0m                                \u001b]8;id=159150;file:///usr/local/google/home/codyfincher/Code/database-tools/oracle-database-assessment/src/server/dbma/database.py\u001b\\\u001b[2mdatabase.py\u001b[0m\u001b]8;;\u001b\\\u001b[2m:\u001b[0m\u001b]8;id=955393;file:///usr/local/google/home/codyfincher/Code/database-tools/oracle-database-assessment/src/server/dbma/database.py#160\u001b\\\u001b[2m160\u001b[0m\u001b]8;;\u001b\\\n"
      ]
     },
     "metadata": {},
     "output_type": "display_data"
    },
    {
     "data": {
      "text/html": [
       "<pre style=\"white-space:pre;overflow-x:auto;line-height:normal;font-family:Menlo,'DejaVu Sans Mono',consolas,'Courier New',monospace\"><span style=\"color: #7fbfbf; text-decoration-color: #7fbfbf\">[10/17/22 16:51:45] </span><span style=\"color: #000080; text-decoration-color: #000080\">INFO    </span> delimiter is |                                                         <a href=\"file:///usr/local/google/home/codyfincher/Code/database-tools/oracle-database-assessment/src/server/dbma/database.py\" target=\"_blank\"><span style=\"color: #7f7f7f; text-decoration-color: #7f7f7f\">database.py</span></a><span style=\"color: #7f7f7f; text-decoration-color: #7f7f7f\">:</span><a href=\"file:///usr/local/google/home/codyfincher/Code/database-tools/oracle-database-assessment/src/server/dbma/database.py#153\" target=\"_blank\"><span style=\"color: #7f7f7f; text-decoration-color: #7f7f7f\">153</span></a>\n",
       "</pre>\n"
      ],
      "text/plain": [
       "\u001b[2;36m[10/17/22 16:51:45]\u001b[0m\u001b[2;36m \u001b[0m\u001b[34mINFO    \u001b[0m delimiter is |                                                         \u001b]8;id=67404;file:///usr/local/google/home/codyfincher/Code/database-tools/oracle-database-assessment/src/server/dbma/database.py\u001b\\\u001b[2mdatabase.py\u001b[0m\u001b]8;;\u001b\\\u001b[2m:\u001b[0m\u001b]8;id=713403;file:///usr/local/google/home/codyfincher/Code/database-tools/oracle-database-assessment/src/server/dbma/database.py#153\u001b\\\u001b[2m153\u001b[0m\u001b]8;;\u001b\\\n"
      ]
     },
     "metadata": {},
     "output_type": "display_data"
    },
    {
     "data": {
      "text/html": [
       "<pre style=\"white-space:pre;overflow-x:auto;line-height:normal;font-family:Menlo,'DejaVu Sans Mono',consolas,'Courier New',monospace\"><span style=\"color: #7fbfbf; text-decoration-color: #7fbfbf\">[10/17/22 16:51:45] </span><span style=\"color: #000080; text-decoration-color: #000080\">INFO    </span> <span style=\"color: #808000; text-decoration-color: #808000\">...</span> db_high_water_stats  <span style=\"color: #008000; text-decoration-color: #008000; font-weight: bold\">SUCCESS</span> <span style=\"font-weight: bold\">[</span><span style=\"color: #008080; text-decoration-color: #008080; font-weight: bold\">128</span> <span style=\"color: #800080; text-decoration-color: #800080; font-weight: bold\">rows</span><span style=\"font-weight: bold\">(</span>s<span style=\"font-weight: bold\">)]</span>                         <a href=\"file:///usr/local/google/home/codyfincher/Code/database-tools/oracle-database-assessment/src/server/dbma/database.py\" target=\"_blank\"><span style=\"color: #7f7f7f; text-decoration-color: #7f7f7f\">database.py</span></a><span style=\"color: #7f7f7f; text-decoration-color: #7f7f7f\">:</span><a href=\"file:///usr/local/google/home/codyfincher/Code/database-tools/oracle-database-assessment/src/server/dbma/database.py#160\" target=\"_blank\"><span style=\"color: #7f7f7f; text-decoration-color: #7f7f7f\">160</span></a>\n",
       "</pre>\n"
      ],
      "text/plain": [
       "\u001b[2;36m[10/17/22 16:51:45]\u001b[0m\u001b[2;36m \u001b[0m\u001b[34mINFO    \u001b[0m \u001b[33m...\u001b[0m db_high_water_stats  \u001b[1;32mSUCCESS\u001b[0m \u001b[1m[\u001b[0m\u001b[1;36m128\u001b[0m \u001b[1;35mrows\u001b[0m\u001b[1m(\u001b[0ms\u001b[1m)\u001b[0m\u001b[1m]\u001b[0m                         \u001b]8;id=638257;file:///usr/local/google/home/codyfincher/Code/database-tools/oracle-database-assessment/src/server/dbma/database.py\u001b\\\u001b[2mdatabase.py\u001b[0m\u001b]8;;\u001b\\\u001b[2m:\u001b[0m\u001b]8;id=7297;file:///usr/local/google/home/codyfincher/Code/database-tools/oracle-database-assessment/src/server/dbma/database.py#160\u001b\\\u001b[2m160\u001b[0m\u001b]8;;\u001b\\\n"
      ]
     },
     "metadata": {},
     "output_type": "display_data"
    },
    {
     "data": {
      "text/html": [
       "<pre style=\"white-space:pre;overflow-x:auto;line-height:normal;font-family:Menlo,'DejaVu Sans Mono',consolas,'Courier New',monospace\"><span style=\"color: #7fbfbf; text-decoration-color: #7fbfbf\">[10/17/22 16:51:45] </span><span style=\"color: #000080; text-decoration-color: #000080\">INFO    </span> delimiter is |                                                         <a href=\"file:///usr/local/google/home/codyfincher/Code/database-tools/oracle-database-assessment/src/server/dbma/database.py\" target=\"_blank\"><span style=\"color: #7f7f7f; text-decoration-color: #7f7f7f\">database.py</span></a><span style=\"color: #7f7f7f; text-decoration-color: #7f7f7f\">:</span><a href=\"file:///usr/local/google/home/codyfincher/Code/database-tools/oracle-database-assessment/src/server/dbma/database.py#153\" target=\"_blank\"><span style=\"color: #7f7f7f; text-decoration-color: #7f7f7f\">153</span></a>\n",
       "</pre>\n"
      ],
      "text/plain": [
       "\u001b[2;36m[10/17/22 16:51:45]\u001b[0m\u001b[2;36m \u001b[0m\u001b[34mINFO    \u001b[0m delimiter is |                                                         \u001b]8;id=98549;file:///usr/local/google/home/codyfincher/Code/database-tools/oracle-database-assessment/src/server/dbma/database.py\u001b\\\u001b[2mdatabase.py\u001b[0m\u001b]8;;\u001b\\\u001b[2m:\u001b[0m\u001b]8;id=972074;file:///usr/local/google/home/codyfincher/Code/database-tools/oracle-database-assessment/src/server/dbma/database.py#153\u001b\\\u001b[2m153\u001b[0m\u001b]8;;\u001b\\\n"
      ]
     },
     "metadata": {},
     "output_type": "display_data"
    },
    {
     "data": {
      "text/html": [
       "<pre style=\"white-space:pre;overflow-x:auto;line-height:normal;font-family:Menlo,'DejaVu Sans Mono',consolas,'Courier New',monospace\"><span style=\"color: #7fbfbf; text-decoration-color: #7fbfbf\">[10/17/22 16:51:45] </span><span style=\"color: #000080; text-decoration-color: #000080\">INFO    </span> <span style=\"color: #808000; text-decoration-color: #808000\">...</span> db_instances  <span style=\"color: #008000; text-decoration-color: #008000; font-weight: bold\">SUCCESS</span> <span style=\"font-weight: bold\">[</span><span style=\"color: #008080; text-decoration-color: #008080; font-weight: bold\">1</span> <span style=\"color: #800080; text-decoration-color: #800080; font-weight: bold\">rows</span><span style=\"font-weight: bold\">(</span>s<span style=\"font-weight: bold\">)]</span>                                  <a href=\"file:///usr/local/google/home/codyfincher/Code/database-tools/oracle-database-assessment/src/server/dbma/database.py\" target=\"_blank\"><span style=\"color: #7f7f7f; text-decoration-color: #7f7f7f\">database.py</span></a><span style=\"color: #7f7f7f; text-decoration-color: #7f7f7f\">:</span><a href=\"file:///usr/local/google/home/codyfincher/Code/database-tools/oracle-database-assessment/src/server/dbma/database.py#160\" target=\"_blank\"><span style=\"color: #7f7f7f; text-decoration-color: #7f7f7f\">160</span></a>\n",
       "</pre>\n"
      ],
      "text/plain": [
       "\u001b[2;36m[10/17/22 16:51:45]\u001b[0m\u001b[2;36m \u001b[0m\u001b[34mINFO    \u001b[0m \u001b[33m...\u001b[0m db_instances  \u001b[1;32mSUCCESS\u001b[0m \u001b[1m[\u001b[0m\u001b[1;36m1\u001b[0m \u001b[1;35mrows\u001b[0m\u001b[1m(\u001b[0ms\u001b[1m)\u001b[0m\u001b[1m]\u001b[0m                                  \u001b]8;id=825924;file:///usr/local/google/home/codyfincher/Code/database-tools/oracle-database-assessment/src/server/dbma/database.py\u001b\\\u001b[2mdatabase.py\u001b[0m\u001b]8;;\u001b\\\u001b[2m:\u001b[0m\u001b]8;id=42601;file:///usr/local/google/home/codyfincher/Code/database-tools/oracle-database-assessment/src/server/dbma/database.py#160\u001b\\\u001b[2m160\u001b[0m\u001b]8;;\u001b\\\n"
      ]
     },
     "metadata": {},
     "output_type": "display_data"
    },
    {
     "data": {
      "text/html": [
       "<pre style=\"white-space:pre;overflow-x:auto;line-height:normal;font-family:Menlo,'DejaVu Sans Mono',consolas,'Courier New',monospace\"><span style=\"color: #7fbfbf; text-decoration-color: #7fbfbf\">[10/17/22 16:51:45] </span><span style=\"color: #000080; text-decoration-color: #000080\">INFO    </span> delimiter is |                                                         <a href=\"file:///usr/local/google/home/codyfincher/Code/database-tools/oracle-database-assessment/src/server/dbma/database.py\" target=\"_blank\"><span style=\"color: #7f7f7f; text-decoration-color: #7f7f7f\">database.py</span></a><span style=\"color: #7f7f7f; text-decoration-color: #7f7f7f\">:</span><a href=\"file:///usr/local/google/home/codyfincher/Code/database-tools/oracle-database-assessment/src/server/dbma/database.py#153\" target=\"_blank\"><span style=\"color: #7f7f7f; text-decoration-color: #7f7f7f\">153</span></a>\n",
       "</pre>\n"
      ],
      "text/plain": [
       "\u001b[2;36m[10/17/22 16:51:45]\u001b[0m\u001b[2;36m \u001b[0m\u001b[34mINFO    \u001b[0m delimiter is |                                                         \u001b]8;id=467141;file:///usr/local/google/home/codyfincher/Code/database-tools/oracle-database-assessment/src/server/dbma/database.py\u001b\\\u001b[2mdatabase.py\u001b[0m\u001b]8;;\u001b\\\u001b[2m:\u001b[0m\u001b]8;id=603853;file:///usr/local/google/home/codyfincher/Code/database-tools/oracle-database-assessment/src/server/dbma/database.py#153\u001b\\\u001b[2m153\u001b[0m\u001b]8;;\u001b\\\n"
      ]
     },
     "metadata": {},
     "output_type": "display_data"
    },
    {
     "data": {
      "text/html": [
       "<pre style=\"white-space:pre;overflow-x:auto;line-height:normal;font-family:Menlo,'DejaVu Sans Mono',consolas,'Courier New',monospace\"><span style=\"color: #7fbfbf; text-decoration-color: #7fbfbf\">[10/17/22 16:51:45] </span><span style=\"color: #000080; text-decoration-color: #000080\">INFO    </span> <span style=\"color: #808000; text-decoration-color: #808000\">...</span> db_links  <span style=\"color: #008000; text-decoration-color: #008000; font-weight: bold\">SUCCESS</span> <span style=\"font-weight: bold\">[</span><span style=\"color: #008080; text-decoration-color: #008080; font-weight: bold\">4</span> <span style=\"color: #800080; text-decoration-color: #800080; font-weight: bold\">rows</span><span style=\"font-weight: bold\">(</span>s<span style=\"font-weight: bold\">)]</span>                                      <a href=\"file:///usr/local/google/home/codyfincher/Code/database-tools/oracle-database-assessment/src/server/dbma/database.py\" target=\"_blank\"><span style=\"color: #7f7f7f; text-decoration-color: #7f7f7f\">database.py</span></a><span style=\"color: #7f7f7f; text-decoration-color: #7f7f7f\">:</span><a href=\"file:///usr/local/google/home/codyfincher/Code/database-tools/oracle-database-assessment/src/server/dbma/database.py#160\" target=\"_blank\"><span style=\"color: #7f7f7f; text-decoration-color: #7f7f7f\">160</span></a>\n",
       "</pre>\n"
      ],
      "text/plain": [
       "\u001b[2;36m[10/17/22 16:51:45]\u001b[0m\u001b[2;36m \u001b[0m\u001b[34mINFO    \u001b[0m \u001b[33m...\u001b[0m db_links  \u001b[1;32mSUCCESS\u001b[0m \u001b[1m[\u001b[0m\u001b[1;36m4\u001b[0m \u001b[1;35mrows\u001b[0m\u001b[1m(\u001b[0ms\u001b[1m)\u001b[0m\u001b[1m]\u001b[0m                                      \u001b]8;id=587233;file:///usr/local/google/home/codyfincher/Code/database-tools/oracle-database-assessment/src/server/dbma/database.py\u001b\\\u001b[2mdatabase.py\u001b[0m\u001b]8;;\u001b\\\u001b[2m:\u001b[0m\u001b]8;id=162753;file:///usr/local/google/home/codyfincher/Code/database-tools/oracle-database-assessment/src/server/dbma/database.py#160\u001b\\\u001b[2m160\u001b[0m\u001b]8;;\u001b\\\n"
      ]
     },
     "metadata": {},
     "output_type": "display_data"
    },
    {
     "data": {
      "text/html": [
       "<pre style=\"white-space:pre;overflow-x:auto;line-height:normal;font-family:Menlo,'DejaVu Sans Mono',consolas,'Courier New',monospace\"><span style=\"color: #7fbfbf; text-decoration-color: #7fbfbf\">[10/17/22 16:51:45] </span><span style=\"color: #000080; text-decoration-color: #000080\">INFO    </span> delimiter is |                                                         <a href=\"file:///usr/local/google/home/codyfincher/Code/database-tools/oracle-database-assessment/src/server/dbma/database.py\" target=\"_blank\"><span style=\"color: #7f7f7f; text-decoration-color: #7f7f7f\">database.py</span></a><span style=\"color: #7f7f7f; text-decoration-color: #7f7f7f\">:</span><a href=\"file:///usr/local/google/home/codyfincher/Code/database-tools/oracle-database-assessment/src/server/dbma/database.py#153\" target=\"_blank\"><span style=\"color: #7f7f7f; text-decoration-color: #7f7f7f\">153</span></a>\n",
       "</pre>\n"
      ],
      "text/plain": [
       "\u001b[2;36m[10/17/22 16:51:45]\u001b[0m\u001b[2;36m \u001b[0m\u001b[34mINFO    \u001b[0m delimiter is |                                                         \u001b]8;id=856331;file:///usr/local/google/home/codyfincher/Code/database-tools/oracle-database-assessment/src/server/dbma/database.py\u001b\\\u001b[2mdatabase.py\u001b[0m\u001b]8;;\u001b\\\u001b[2m:\u001b[0m\u001b]8;id=644898;file:///usr/local/google/home/codyfincher/Code/database-tools/oracle-database-assessment/src/server/dbma/database.py#153\u001b\\\u001b[2m153\u001b[0m\u001b]8;;\u001b\\\n"
      ]
     },
     "metadata": {},
     "output_type": "display_data"
    },
    {
     "data": {
      "text/html": [
       "<pre style=\"white-space:pre;overflow-x:auto;line-height:normal;font-family:Menlo,'DejaVu Sans Mono',consolas,'Courier New',monospace\"><span style=\"color: #7fbfbf; text-decoration-color: #7fbfbf\">[10/17/22 16:51:45] </span><span style=\"color: #000080; text-decoration-color: #000080\">INFO    </span> <span style=\"color: #808000; text-decoration-color: #808000\">...</span> db_objects  <span style=\"color: #008000; text-decoration-color: #008000; font-weight: bold\">SUCCESS</span> <span style=\"font-weight: bold\">[</span><span style=\"color: #008080; text-decoration-color: #008080; font-weight: bold\">98</span> <span style=\"color: #800080; text-decoration-color: #800080; font-weight: bold\">rows</span><span style=\"font-weight: bold\">(</span>s<span style=\"font-weight: bold\">)]</span>                                   <a href=\"file:///usr/local/google/home/codyfincher/Code/database-tools/oracle-database-assessment/src/server/dbma/database.py\" target=\"_blank\"><span style=\"color: #7f7f7f; text-decoration-color: #7f7f7f\">database.py</span></a><span style=\"color: #7f7f7f; text-decoration-color: #7f7f7f\">:</span><a href=\"file:///usr/local/google/home/codyfincher/Code/database-tools/oracle-database-assessment/src/server/dbma/database.py#160\" target=\"_blank\"><span style=\"color: #7f7f7f; text-decoration-color: #7f7f7f\">160</span></a>\n",
       "</pre>\n"
      ],
      "text/plain": [
       "\u001b[2;36m[10/17/22 16:51:45]\u001b[0m\u001b[2;36m \u001b[0m\u001b[34mINFO    \u001b[0m \u001b[33m...\u001b[0m db_objects  \u001b[1;32mSUCCESS\u001b[0m \u001b[1m[\u001b[0m\u001b[1;36m98\u001b[0m \u001b[1;35mrows\u001b[0m\u001b[1m(\u001b[0ms\u001b[1m)\u001b[0m\u001b[1m]\u001b[0m                                   \u001b]8;id=195943;file:///usr/local/google/home/codyfincher/Code/database-tools/oracle-database-assessment/src/server/dbma/database.py\u001b\\\u001b[2mdatabase.py\u001b[0m\u001b]8;;\u001b\\\u001b[2m:\u001b[0m\u001b]8;id=351199;file:///usr/local/google/home/codyfincher/Code/database-tools/oracle-database-assessment/src/server/dbma/database.py#160\u001b\\\u001b[2m160\u001b[0m\u001b]8;;\u001b\\\n"
      ]
     },
     "metadata": {},
     "output_type": "display_data"
    },
    {
     "data": {
      "text/html": [
       "<pre style=\"white-space:pre;overflow-x:auto;line-height:normal;font-family:Menlo,'DejaVu Sans Mono',consolas,'Courier New',monospace\"><span style=\"color: #7fbfbf; text-decoration-color: #7fbfbf\">[10/17/22 16:51:45] </span><span style=\"color: #000080; text-decoration-color: #000080\">INFO    </span> delimiter is |                                                         <a href=\"file:///usr/local/google/home/codyfincher/Code/database-tools/oracle-database-assessment/src/server/dbma/database.py\" target=\"_blank\"><span style=\"color: #7f7f7f; text-decoration-color: #7f7f7f\">database.py</span></a><span style=\"color: #7f7f7f; text-decoration-color: #7f7f7f\">:</span><a href=\"file:///usr/local/google/home/codyfincher/Code/database-tools/oracle-database-assessment/src/server/dbma/database.py#153\" target=\"_blank\"><span style=\"color: #7f7f7f; text-decoration-color: #7f7f7f\">153</span></a>\n",
       "</pre>\n"
      ],
      "text/plain": [
       "\u001b[2;36m[10/17/22 16:51:45]\u001b[0m\u001b[2;36m \u001b[0m\u001b[34mINFO    \u001b[0m delimiter is |                                                         \u001b]8;id=236772;file:///usr/local/google/home/codyfincher/Code/database-tools/oracle-database-assessment/src/server/dbma/database.py\u001b\\\u001b[2mdatabase.py\u001b[0m\u001b]8;;\u001b\\\u001b[2m:\u001b[0m\u001b]8;id=781449;file:///usr/local/google/home/codyfincher/Code/database-tools/oracle-database-assessment/src/server/dbma/database.py#153\u001b\\\u001b[2m153\u001b[0m\u001b]8;;\u001b\\\n"
      ]
     },
     "metadata": {},
     "output_type": "display_data"
    },
    {
     "data": {
      "text/html": [
       "<pre style=\"white-space:pre;overflow-x:auto;line-height:normal;font-family:Menlo,'DejaVu Sans Mono',consolas,'Courier New',monospace\"><span style=\"color: #7fbfbf; text-decoration-color: #7fbfbf\">[10/17/22 16:51:45] </span><span style=\"color: #000080; text-decoration-color: #000080\">INFO    </span> <span style=\"color: #808000; text-decoration-color: #808000\">...</span> db_parameters  <span style=\"color: #008000; text-decoration-color: #008000; font-weight: bold\">SUCCESS</span> <span style=\"font-weight: bold\">[</span><span style=\"color: #008080; text-decoration-color: #008080; font-weight: bold\">454</span> <span style=\"color: #800080; text-decoration-color: #800080; font-weight: bold\">rows</span><span style=\"font-weight: bold\">(</span>s<span style=\"font-weight: bold\">)]</span>                               <a href=\"file:///usr/local/google/home/codyfincher/Code/database-tools/oracle-database-assessment/src/server/dbma/database.py\" target=\"_blank\"><span style=\"color: #7f7f7f; text-decoration-color: #7f7f7f\">database.py</span></a><span style=\"color: #7f7f7f; text-decoration-color: #7f7f7f\">:</span><a href=\"file:///usr/local/google/home/codyfincher/Code/database-tools/oracle-database-assessment/src/server/dbma/database.py#160\" target=\"_blank\"><span style=\"color: #7f7f7f; text-decoration-color: #7f7f7f\">160</span></a>\n",
       "</pre>\n"
      ],
      "text/plain": [
       "\u001b[2;36m[10/17/22 16:51:45]\u001b[0m\u001b[2;36m \u001b[0m\u001b[34mINFO    \u001b[0m \u001b[33m...\u001b[0m db_parameters  \u001b[1;32mSUCCESS\u001b[0m \u001b[1m[\u001b[0m\u001b[1;36m454\u001b[0m \u001b[1;35mrows\u001b[0m\u001b[1m(\u001b[0ms\u001b[1m)\u001b[0m\u001b[1m]\u001b[0m                               \u001b]8;id=787055;file:///usr/local/google/home/codyfincher/Code/database-tools/oracle-database-assessment/src/server/dbma/database.py\u001b\\\u001b[2mdatabase.py\u001b[0m\u001b]8;;\u001b\\\u001b[2m:\u001b[0m\u001b]8;id=138973;file:///usr/local/google/home/codyfincher/Code/database-tools/oracle-database-assessment/src/server/dbma/database.py#160\u001b\\\u001b[2m160\u001b[0m\u001b]8;;\u001b\\\n"
      ]
     },
     "metadata": {},
     "output_type": "display_data"
    },
    {
     "data": {
      "text/html": [
       "<pre style=\"white-space:pre;overflow-x:auto;line-height:normal;font-family:Menlo,'DejaVu Sans Mono',consolas,'Courier New',monospace\"><span style=\"color: #7fbfbf; text-decoration-color: #7fbfbf\">[10/17/22 16:51:45] </span><span style=\"color: #000080; text-decoration-color: #000080\">INFO    </span> delimiter is |                                                         <a href=\"file:///usr/local/google/home/codyfincher/Code/database-tools/oracle-database-assessment/src/server/dbma/database.py\" target=\"_blank\"><span style=\"color: #7f7f7f; text-decoration-color: #7f7f7f\">database.py</span></a><span style=\"color: #7f7f7f; text-decoration-color: #7f7f7f\">:</span><a href=\"file:///usr/local/google/home/codyfincher/Code/database-tools/oracle-database-assessment/src/server/dbma/database.py#153\" target=\"_blank\"><span style=\"color: #7f7f7f; text-decoration-color: #7f7f7f\">153</span></a>\n",
       "</pre>\n"
      ],
      "text/plain": [
       "\u001b[2;36m[10/17/22 16:51:45]\u001b[0m\u001b[2;36m \u001b[0m\u001b[34mINFO    \u001b[0m delimiter is |                                                         \u001b]8;id=36756;file:///usr/local/google/home/codyfincher/Code/database-tools/oracle-database-assessment/src/server/dbma/database.py\u001b\\\u001b[2mdatabase.py\u001b[0m\u001b]8;;\u001b\\\u001b[2m:\u001b[0m\u001b]8;id=914248;file:///usr/local/google/home/codyfincher/Code/database-tools/oracle-database-assessment/src/server/dbma/database.py#153\u001b\\\u001b[2m153\u001b[0m\u001b]8;;\u001b\\\n"
      ]
     },
     "metadata": {},
     "output_type": "display_data"
    },
    {
     "data": {
      "text/html": [
       "<pre style=\"white-space:pre;overflow-x:auto;line-height:normal;font-family:Menlo,'DejaVu Sans Mono',consolas,'Courier New',monospace\"><span style=\"color: #7fbfbf; text-decoration-color: #7fbfbf\">[10/17/22 16:51:45] </span><span style=\"color: #000080; text-decoration-color: #000080\">INFO    </span> <span style=\"color: #808000; text-decoration-color: #808000\">...</span> db_summary  <span style=\"color: #008000; text-decoration-color: #008000; font-weight: bold\">SUCCESS</span> <span style=\"font-weight: bold\">[</span><span style=\"color: #008080; text-decoration-color: #008080; font-weight: bold\">1</span> <span style=\"color: #800080; text-decoration-color: #800080; font-weight: bold\">rows</span><span style=\"font-weight: bold\">(</span>s<span style=\"font-weight: bold\">)]</span>                                    <a href=\"file:///usr/local/google/home/codyfincher/Code/database-tools/oracle-database-assessment/src/server/dbma/database.py\" target=\"_blank\"><span style=\"color: #7f7f7f; text-decoration-color: #7f7f7f\">database.py</span></a><span style=\"color: #7f7f7f; text-decoration-color: #7f7f7f\">:</span><a href=\"file:///usr/local/google/home/codyfincher/Code/database-tools/oracle-database-assessment/src/server/dbma/database.py#160\" target=\"_blank\"><span style=\"color: #7f7f7f; text-decoration-color: #7f7f7f\">160</span></a>\n",
       "</pre>\n"
      ],
      "text/plain": [
       "\u001b[2;36m[10/17/22 16:51:45]\u001b[0m\u001b[2;36m \u001b[0m\u001b[34mINFO    \u001b[0m \u001b[33m...\u001b[0m db_summary  \u001b[1;32mSUCCESS\u001b[0m \u001b[1m[\u001b[0m\u001b[1;36m1\u001b[0m \u001b[1;35mrows\u001b[0m\u001b[1m(\u001b[0ms\u001b[1m)\u001b[0m\u001b[1m]\u001b[0m                                    \u001b]8;id=477112;file:///usr/local/google/home/codyfincher/Code/database-tools/oracle-database-assessment/src/server/dbma/database.py\u001b\\\u001b[2mdatabase.py\u001b[0m\u001b]8;;\u001b\\\u001b[2m:\u001b[0m\u001b]8;id=594738;file:///usr/local/google/home/codyfincher/Code/database-tools/oracle-database-assessment/src/server/dbma/database.py#160\u001b\\\u001b[2m160\u001b[0m\u001b]8;;\u001b\\\n"
      ]
     },
     "metadata": {},
     "output_type": "display_data"
    },
    {
     "data": {
      "text/html": [
       "<pre style=\"white-space:pre;overflow-x:auto;line-height:normal;font-family:Menlo,'DejaVu Sans Mono',consolas,'Courier New',monospace\"><span style=\"color: #7fbfbf; text-decoration-color: #7fbfbf\">[10/17/22 16:51:45] </span><span style=\"color: #000080; text-decoration-color: #000080\">INFO    </span> delimiter is |                                                         <a href=\"file:///usr/local/google/home/codyfincher/Code/database-tools/oracle-database-assessment/src/server/dbma/database.py\" target=\"_blank\"><span style=\"color: #7f7f7f; text-decoration-color: #7f7f7f\">database.py</span></a><span style=\"color: #7f7f7f; text-decoration-color: #7f7f7f\">:</span><a href=\"file:///usr/local/google/home/codyfincher/Code/database-tools/oracle-database-assessment/src/server/dbma/database.py#153\" target=\"_blank\"><span style=\"color: #7f7f7f; text-decoration-color: #7f7f7f\">153</span></a>\n",
       "</pre>\n"
      ],
      "text/plain": [
       "\u001b[2;36m[10/17/22 16:51:45]\u001b[0m\u001b[2;36m \u001b[0m\u001b[34mINFO    \u001b[0m delimiter is |                                                         \u001b]8;id=353005;file:///usr/local/google/home/codyfincher/Code/database-tools/oracle-database-assessment/src/server/dbma/database.py\u001b\\\u001b[2mdatabase.py\u001b[0m\u001b]8;;\u001b\\\u001b[2m:\u001b[0m\u001b]8;id=846038;file:///usr/local/google/home/codyfincher/Code/database-tools/oracle-database-assessment/src/server/dbma/database.py#153\u001b\\\u001b[2m153\u001b[0m\u001b]8;;\u001b\\\n"
      ]
     },
     "metadata": {},
     "output_type": "display_data"
    },
    {
     "data": {
      "text/html": [
       "<pre style=\"white-space:pre;overflow-x:auto;line-height:normal;font-family:Menlo,'DejaVu Sans Mono',consolas,'Courier New',monospace\"><span style=\"color: #7fbfbf; text-decoration-color: #7fbfbf\">[10/17/22 16:51:45] </span><span style=\"color: #000080; text-decoration-color: #000080\">INFO    </span> <span style=\"color: #808000; text-decoration-color: #808000\">...</span> db_external_tables  <span style=\"color: #008000; text-decoration-color: #008000; font-weight: bold\">SUCCESS</span> <span style=\"font-weight: bold\">[</span><span style=\"color: #008080; text-decoration-color: #008080; font-weight: bold\">91</span> <span style=\"color: #800080; text-decoration-color: #800080; font-weight: bold\">rows</span><span style=\"font-weight: bold\">(</span>s<span style=\"font-weight: bold\">)]</span>                           <a href=\"file:///usr/local/google/home/codyfincher/Code/database-tools/oracle-database-assessment/src/server/dbma/database.py\" target=\"_blank\"><span style=\"color: #7f7f7f; text-decoration-color: #7f7f7f\">database.py</span></a><span style=\"color: #7f7f7f; text-decoration-color: #7f7f7f\">:</span><a href=\"file:///usr/local/google/home/codyfincher/Code/database-tools/oracle-database-assessment/src/server/dbma/database.py#160\" target=\"_blank\"><span style=\"color: #7f7f7f; text-decoration-color: #7f7f7f\">160</span></a>\n",
       "</pre>\n"
      ],
      "text/plain": [
       "\u001b[2;36m[10/17/22 16:51:45]\u001b[0m\u001b[2;36m \u001b[0m\u001b[34mINFO    \u001b[0m \u001b[33m...\u001b[0m db_external_tables  \u001b[1;32mSUCCESS\u001b[0m \u001b[1m[\u001b[0m\u001b[1;36m91\u001b[0m \u001b[1;35mrows\u001b[0m\u001b[1m(\u001b[0ms\u001b[1m)\u001b[0m\u001b[1m]\u001b[0m                           \u001b]8;id=355369;file:///usr/local/google/home/codyfincher/Code/database-tools/oracle-database-assessment/src/server/dbma/database.py\u001b\\\u001b[2mdatabase.py\u001b[0m\u001b]8;;\u001b\\\u001b[2m:\u001b[0m\u001b]8;id=864090;file:///usr/local/google/home/codyfincher/Code/database-tools/oracle-database-assessment/src/server/dbma/database.py#160\u001b\\\u001b[2m160\u001b[0m\u001b]8;;\u001b\\\n"
      ]
     },
     "metadata": {},
     "output_type": "display_data"
    },
    {
     "data": {
      "text/html": [
       "<pre style=\"white-space:pre;overflow-x:auto;line-height:normal;font-family:Menlo,'DejaVu Sans Mono',consolas,'Courier New',monospace\"><span style=\"color: #7fbfbf; text-decoration-color: #7fbfbf\">[10/17/22 16:51:45] </span><span style=\"color: #000080; text-decoration-color: #000080\">INFO    </span> delimiter is |                                                         <a href=\"file:///usr/local/google/home/codyfincher/Code/database-tools/oracle-database-assessment/src/server/dbma/database.py\" target=\"_blank\"><span style=\"color: #7f7f7f; text-decoration-color: #7f7f7f\">database.py</span></a><span style=\"color: #7f7f7f; text-decoration-color: #7f7f7f\">:</span><a href=\"file:///usr/local/google/home/codyfincher/Code/database-tools/oracle-database-assessment/src/server/dbma/database.py#153\" target=\"_blank\"><span style=\"color: #7f7f7f; text-decoration-color: #7f7f7f\">153</span></a>\n",
       "</pre>\n"
      ],
      "text/plain": [
       "\u001b[2;36m[10/17/22 16:51:45]\u001b[0m\u001b[2;36m \u001b[0m\u001b[34mINFO    \u001b[0m delimiter is |                                                         \u001b]8;id=13937;file:///usr/local/google/home/codyfincher/Code/database-tools/oracle-database-assessment/src/server/dbma/database.py\u001b\\\u001b[2mdatabase.py\u001b[0m\u001b]8;;\u001b\\\u001b[2m:\u001b[0m\u001b]8;id=536928;file:///usr/local/google/home/codyfincher/Code/database-tools/oracle-database-assessment/src/server/dbma/database.py#153\u001b\\\u001b[2m153\u001b[0m\u001b]8;;\u001b\\\n"
      ]
     },
     "metadata": {},
     "output_type": "display_data"
    },
    {
     "data": {
      "text/html": [
       "<pre style=\"white-space:pre;overflow-x:auto;line-height:normal;font-family:Menlo,'DejaVu Sans Mono',consolas,'Courier New',monospace\"><span style=\"color: #7fbfbf; text-decoration-color: #7fbfbf\">[10/17/22 16:51:45] </span><span style=\"color: #000080; text-decoration-color: #000080\">INFO    </span> <span style=\"color: #808000; text-decoration-color: #808000\">...</span> index_per_table  <span style=\"color: #008000; text-decoration-color: #008000; font-weight: bold\">SUCCESS</span> <span style=\"font-weight: bold\">[</span><span style=\"color: #008080; text-decoration-color: #008080; font-weight: bold\">14</span> <span style=\"color: #800080; text-decoration-color: #800080; font-weight: bold\">rows</span><span style=\"font-weight: bold\">(</span>s<span style=\"font-weight: bold\">)]</span>                              <a href=\"file:///usr/local/google/home/codyfincher/Code/database-tools/oracle-database-assessment/src/server/dbma/database.py\" target=\"_blank\"><span style=\"color: #7f7f7f; text-decoration-color: #7f7f7f\">database.py</span></a><span style=\"color: #7f7f7f; text-decoration-color: #7f7f7f\">:</span><a href=\"file:///usr/local/google/home/codyfincher/Code/database-tools/oracle-database-assessment/src/server/dbma/database.py#160\" target=\"_blank\"><span style=\"color: #7f7f7f; text-decoration-color: #7f7f7f\">160</span></a>\n",
       "</pre>\n"
      ],
      "text/plain": [
       "\u001b[2;36m[10/17/22 16:51:45]\u001b[0m\u001b[2;36m \u001b[0m\u001b[34mINFO    \u001b[0m \u001b[33m...\u001b[0m index_per_table  \u001b[1;32mSUCCESS\u001b[0m \u001b[1m[\u001b[0m\u001b[1;36m14\u001b[0m \u001b[1;35mrows\u001b[0m\u001b[1m(\u001b[0ms\u001b[1m)\u001b[0m\u001b[1m]\u001b[0m                              \u001b]8;id=411747;file:///usr/local/google/home/codyfincher/Code/database-tools/oracle-database-assessment/src/server/dbma/database.py\u001b\\\u001b[2mdatabase.py\u001b[0m\u001b]8;;\u001b\\\u001b[2m:\u001b[0m\u001b]8;id=641358;file:///usr/local/google/home/codyfincher/Code/database-tools/oracle-database-assessment/src/server/dbma/database.py#160\u001b\\\u001b[2m160\u001b[0m\u001b]8;;\u001b\\\n"
      ]
     },
     "metadata": {},
     "output_type": "display_data"
    },
    {
     "data": {
      "text/html": [
       "<pre style=\"white-space:pre;overflow-x:auto;line-height:normal;font-family:Menlo,'DejaVu Sans Mono',consolas,'Courier New',monospace\"><span style=\"color: #7fbfbf; text-decoration-color: #7fbfbf\">[10/17/22 16:51:45] </span><span style=\"color: #000080; text-decoration-color: #000080\">INFO    </span> delimiter is |                                                         <a href=\"file:///usr/local/google/home/codyfincher/Code/database-tools/oracle-database-assessment/src/server/dbma/database.py\" target=\"_blank\"><span style=\"color: #7f7f7f; text-decoration-color: #7f7f7f\">database.py</span></a><span style=\"color: #7f7f7f; text-decoration-color: #7f7f7f\">:</span><a href=\"file:///usr/local/google/home/codyfincher/Code/database-tools/oracle-database-assessment/src/server/dbma/database.py#153\" target=\"_blank\"><span style=\"color: #7f7f7f; text-decoration-color: #7f7f7f\">153</span></a>\n",
       "</pre>\n"
      ],
      "text/plain": [
       "\u001b[2;36m[10/17/22 16:51:45]\u001b[0m\u001b[2;36m \u001b[0m\u001b[34mINFO    \u001b[0m delimiter is |                                                         \u001b]8;id=561044;file:///usr/local/google/home/codyfincher/Code/database-tools/oracle-database-assessment/src/server/dbma/database.py\u001b\\\u001b[2mdatabase.py\u001b[0m\u001b]8;;\u001b\\\u001b[2m:\u001b[0m\u001b]8;id=39395;file:///usr/local/google/home/codyfincher/Code/database-tools/oracle-database-assessment/src/server/dbma/database.py#153\u001b\\\u001b[2m153\u001b[0m\u001b]8;;\u001b\\\n"
      ]
     },
     "metadata": {},
     "output_type": "display_data"
    },
    {
     "data": {
      "text/html": [
       "<pre style=\"white-space:pre;overflow-x:auto;line-height:normal;font-family:Menlo,'DejaVu Sans Mono',consolas,'Courier New',monospace\"><span style=\"color: #7fbfbf; text-decoration-color: #7fbfbf\">[10/17/22 16:51:45] </span><span style=\"color: #000080; text-decoration-color: #000080\">INFO    </span> <span style=\"color: #808000; text-decoration-color: #808000\">...</span> index_types  <span style=\"color: #008000; text-decoration-color: #008000; font-weight: bold\">SUCCESS</span> <span style=\"font-weight: bold\">[</span><span style=\"color: #008080; text-decoration-color: #008080; font-weight: bold\">15</span> <span style=\"color: #800080; text-decoration-color: #800080; font-weight: bold\">rows</span><span style=\"font-weight: bold\">(</span>s<span style=\"font-weight: bold\">)]</span>                                  <a href=\"file:///usr/local/google/home/codyfincher/Code/database-tools/oracle-database-assessment/src/server/dbma/database.py\" target=\"_blank\"><span style=\"color: #7f7f7f; text-decoration-color: #7f7f7f\">database.py</span></a><span style=\"color: #7f7f7f; text-decoration-color: #7f7f7f\">:</span><a href=\"file:///usr/local/google/home/codyfincher/Code/database-tools/oracle-database-assessment/src/server/dbma/database.py#160\" target=\"_blank\"><span style=\"color: #7f7f7f; text-decoration-color: #7f7f7f\">160</span></a>\n",
       "</pre>\n"
      ],
      "text/plain": [
       "\u001b[2;36m[10/17/22 16:51:45]\u001b[0m\u001b[2;36m \u001b[0m\u001b[34mINFO    \u001b[0m \u001b[33m...\u001b[0m index_types  \u001b[1;32mSUCCESS\u001b[0m \u001b[1m[\u001b[0m\u001b[1;36m15\u001b[0m \u001b[1;35mrows\u001b[0m\u001b[1m(\u001b[0ms\u001b[1m)\u001b[0m\u001b[1m]\u001b[0m                                  \u001b]8;id=683708;file:///usr/local/google/home/codyfincher/Code/database-tools/oracle-database-assessment/src/server/dbma/database.py\u001b\\\u001b[2mdatabase.py\u001b[0m\u001b]8;;\u001b\\\u001b[2m:\u001b[0m\u001b]8;id=365459;file:///usr/local/google/home/codyfincher/Code/database-tools/oracle-database-assessment/src/server/dbma/database.py#160\u001b\\\u001b[2m160\u001b[0m\u001b]8;;\u001b\\\n"
      ]
     },
     "metadata": {},
     "output_type": "display_data"
    },
    {
     "data": {
      "text/html": [
       "<pre style=\"white-space:pre;overflow-x:auto;line-height:normal;font-family:Menlo,'DejaVu Sans Mono',consolas,'Courier New',monospace\"><span style=\"color: #7fbfbf; text-decoration-color: #7fbfbf\">[10/17/22 16:51:45] </span><span style=\"color: #000080; text-decoration-color: #000080\">INFO    </span> delimiter is |                                                         <a href=\"file:///usr/local/google/home/codyfincher/Code/database-tools/oracle-database-assessment/src/server/dbma/database.py\" target=\"_blank\"><span style=\"color: #7f7f7f; text-decoration-color: #7f7f7f\">database.py</span></a><span style=\"color: #7f7f7f; text-decoration-color: #7f7f7f\">:</span><a href=\"file:///usr/local/google/home/codyfincher/Code/database-tools/oracle-database-assessment/src/server/dbma/database.py#153\" target=\"_blank\"><span style=\"color: #7f7f7f; text-decoration-color: #7f7f7f\">153</span></a>\n",
       "</pre>\n"
      ],
      "text/plain": [
       "\u001b[2;36m[10/17/22 16:51:45]\u001b[0m\u001b[2;36m \u001b[0m\u001b[34mINFO    \u001b[0m delimiter is |                                                         \u001b]8;id=68071;file:///usr/local/google/home/codyfincher/Code/database-tools/oracle-database-assessment/src/server/dbma/database.py\u001b\\\u001b[2mdatabase.py\u001b[0m\u001b]8;;\u001b\\\u001b[2m:\u001b[0m\u001b]8;id=16625;file:///usr/local/google/home/codyfincher/Code/database-tools/oracle-database-assessment/src/server/dbma/database.py#153\u001b\\\u001b[2m153\u001b[0m\u001b]8;;\u001b\\\n"
      ]
     },
     "metadata": {},
     "output_type": "display_data"
    },
    {
     "data": {
      "text/html": [
       "<pre style=\"white-space:pre;overflow-x:auto;line-height:normal;font-family:Menlo,'DejaVu Sans Mono',consolas,'Courier New',monospace\"><span style=\"color: #7fbfbf; text-decoration-color: #7fbfbf\">[10/17/22 16:51:45] </span><span style=\"color: #000080; text-decoration-color: #000080\">INFO    </span> <span style=\"color: #808000; text-decoration-color: #808000\">...</span> io_events  <span style=\"color: #008000; text-decoration-color: #008000; font-weight: bold\">SUCCESS</span> <span style=\"font-weight: bold\">[</span><span style=\"color: #008080; text-decoration-color: #008080; font-weight: bold\">818</span> <span style=\"color: #800080; text-decoration-color: #800080; font-weight: bold\">rows</span><span style=\"font-weight: bold\">(</span>s<span style=\"font-weight: bold\">)]</span>                                   <a href=\"file:///usr/local/google/home/codyfincher/Code/database-tools/oracle-database-assessment/src/server/dbma/database.py\" target=\"_blank\"><span style=\"color: #7f7f7f; text-decoration-color: #7f7f7f\">database.py</span></a><span style=\"color: #7f7f7f; text-decoration-color: #7f7f7f\">:</span><a href=\"file:///usr/local/google/home/codyfincher/Code/database-tools/oracle-database-assessment/src/server/dbma/database.py#160\" target=\"_blank\"><span style=\"color: #7f7f7f; text-decoration-color: #7f7f7f\">160</span></a>\n",
       "</pre>\n"
      ],
      "text/plain": [
       "\u001b[2;36m[10/17/22 16:51:45]\u001b[0m\u001b[2;36m \u001b[0m\u001b[34mINFO    \u001b[0m \u001b[33m...\u001b[0m io_events  \u001b[1;32mSUCCESS\u001b[0m \u001b[1m[\u001b[0m\u001b[1;36m818\u001b[0m \u001b[1;35mrows\u001b[0m\u001b[1m(\u001b[0ms\u001b[1m)\u001b[0m\u001b[1m]\u001b[0m                                   \u001b]8;id=945763;file:///usr/local/google/home/codyfincher/Code/database-tools/oracle-database-assessment/src/server/dbma/database.py\u001b\\\u001b[2mdatabase.py\u001b[0m\u001b]8;;\u001b\\\u001b[2m:\u001b[0m\u001b]8;id=53666;file:///usr/local/google/home/codyfincher/Code/database-tools/oracle-database-assessment/src/server/dbma/database.py#160\u001b\\\u001b[2m160\u001b[0m\u001b]8;;\u001b\\\n"
      ]
     },
     "metadata": {},
     "output_type": "display_data"
    },
    {
     "data": {
      "text/html": [
       "<pre style=\"white-space:pre;overflow-x:auto;line-height:normal;font-family:Menlo,'DejaVu Sans Mono',consolas,'Courier New',monospace\"><span style=\"color: #7fbfbf; text-decoration-color: #7fbfbf\">[10/17/22 16:51:45] </span><span style=\"color: #000080; text-decoration-color: #000080\">INFO    </span> delimiter is |                                                         <a href=\"file:///usr/local/google/home/codyfincher/Code/database-tools/oracle-database-assessment/src/server/dbma/database.py\" target=\"_blank\"><span style=\"color: #7f7f7f; text-decoration-color: #7f7f7f\">database.py</span></a><span style=\"color: #7f7f7f; text-decoration-color: #7f7f7f\">:</span><a href=\"file:///usr/local/google/home/codyfincher/Code/database-tools/oracle-database-assessment/src/server/dbma/database.py#153\" target=\"_blank\"><span style=\"color: #7f7f7f; text-decoration-color: #7f7f7f\">153</span></a>\n",
       "</pre>\n"
      ],
      "text/plain": [
       "\u001b[2;36m[10/17/22 16:51:45]\u001b[0m\u001b[2;36m \u001b[0m\u001b[34mINFO    \u001b[0m delimiter is |                                                         \u001b]8;id=407070;file:///usr/local/google/home/codyfincher/Code/database-tools/oracle-database-assessment/src/server/dbma/database.py\u001b\\\u001b[2mdatabase.py\u001b[0m\u001b]8;;\u001b\\\u001b[2m:\u001b[0m\u001b]8;id=163064;file:///usr/local/google/home/codyfincher/Code/database-tools/oracle-database-assessment/src/server/dbma/database.py#153\u001b\\\u001b[2m153\u001b[0m\u001b]8;;\u001b\\\n"
      ]
     },
     "metadata": {},
     "output_type": "display_data"
    },
    {
     "data": {
      "text/html": [
       "<pre style=\"white-space:pre;overflow-x:auto;line-height:normal;font-family:Menlo,'DejaVu Sans Mono',consolas,'Courier New',monospace\"><span style=\"color: #7fbfbf; text-decoration-color: #7fbfbf\">[10/17/22 16:51:45] </span><span style=\"color: #000080; text-decoration-color: #000080\">INFO    </span> <span style=\"color: #808000; text-decoration-color: #808000\">...</span> io_function  <span style=\"color: #008000; text-decoration-color: #008000; font-weight: bold\">SUCCESS</span> <span style=\"font-weight: bold\">[</span><span style=\"color: #008080; text-decoration-color: #008080; font-weight: bold\">360</span> <span style=\"color: #800080; text-decoration-color: #800080; font-weight: bold\">rows</span><span style=\"font-weight: bold\">(</span>s<span style=\"font-weight: bold\">)]</span>                                 <a href=\"file:///usr/local/google/home/codyfincher/Code/database-tools/oracle-database-assessment/src/server/dbma/database.py\" target=\"_blank\"><span style=\"color: #7f7f7f; text-decoration-color: #7f7f7f\">database.py</span></a><span style=\"color: #7f7f7f; text-decoration-color: #7f7f7f\">:</span><a href=\"file:///usr/local/google/home/codyfincher/Code/database-tools/oracle-database-assessment/src/server/dbma/database.py#160\" target=\"_blank\"><span style=\"color: #7f7f7f; text-decoration-color: #7f7f7f\">160</span></a>\n",
       "</pre>\n"
      ],
      "text/plain": [
       "\u001b[2;36m[10/17/22 16:51:45]\u001b[0m\u001b[2;36m \u001b[0m\u001b[34mINFO    \u001b[0m \u001b[33m...\u001b[0m io_function  \u001b[1;32mSUCCESS\u001b[0m \u001b[1m[\u001b[0m\u001b[1;36m360\u001b[0m \u001b[1;35mrows\u001b[0m\u001b[1m(\u001b[0ms\u001b[1m)\u001b[0m\u001b[1m]\u001b[0m                                 \u001b]8;id=294511;file:///usr/local/google/home/codyfincher/Code/database-tools/oracle-database-assessment/src/server/dbma/database.py\u001b\\\u001b[2mdatabase.py\u001b[0m\u001b]8;;\u001b\\\u001b[2m:\u001b[0m\u001b]8;id=246933;file:///usr/local/google/home/codyfincher/Code/database-tools/oracle-database-assessment/src/server/dbma/database.py#160\u001b\\\u001b[2m160\u001b[0m\u001b]8;;\u001b\\\n"
      ]
     },
     "metadata": {},
     "output_type": "display_data"
    },
    {
     "data": {
      "text/html": [
       "<pre style=\"white-space:pre;overflow-x:auto;line-height:normal;font-family:Menlo,'DejaVu Sans Mono',consolas,'Courier New',monospace\"><span style=\"color: #7fbfbf; text-decoration-color: #7fbfbf\">[10/17/22 16:51:45] </span><span style=\"color: #000080; text-decoration-color: #000080\">INFO    </span> delimiter is |                                                         <a href=\"file:///usr/local/google/home/codyfincher/Code/database-tools/oracle-database-assessment/src/server/dbma/database.py\" target=\"_blank\"><span style=\"color: #7f7f7f; text-decoration-color: #7f7f7f\">database.py</span></a><span style=\"color: #7f7f7f; text-decoration-color: #7f7f7f\">:</span><a href=\"file:///usr/local/google/home/codyfincher/Code/database-tools/oracle-database-assessment/src/server/dbma/database.py#153\" target=\"_blank\"><span style=\"color: #7f7f7f; text-decoration-color: #7f7f7f\">153</span></a>\n",
       "</pre>\n"
      ],
      "text/plain": [
       "\u001b[2;36m[10/17/22 16:51:45]\u001b[0m\u001b[2;36m \u001b[0m\u001b[34mINFO    \u001b[0m delimiter is |                                                         \u001b]8;id=543695;file:///usr/local/google/home/codyfincher/Code/database-tools/oracle-database-assessment/src/server/dbma/database.py\u001b\\\u001b[2mdatabase.py\u001b[0m\u001b]8;;\u001b\\\u001b[2m:\u001b[0m\u001b]8;id=138969;file:///usr/local/google/home/codyfincher/Code/database-tools/oracle-database-assessment/src/server/dbma/database.py#153\u001b\\\u001b[2m153\u001b[0m\u001b]8;;\u001b\\\n"
      ]
     },
     "metadata": {},
     "output_type": "display_data"
    },
    {
     "data": {
      "text/html": [
       "<pre style=\"white-space:pre;overflow-x:auto;line-height:normal;font-family:Menlo,'DejaVu Sans Mono',consolas,'Courier New',monospace\"><span style=\"color: #7fbfbf; text-decoration-color: #7fbfbf\">[10/17/22 16:51:45] </span><span style=\"color: #000080; text-decoration-color: #000080\">INFO    </span> <span style=\"color: #808000; text-decoration-color: #808000\">...</span> pdbs_info  <span style=\"color: #7f7f7f; text-decoration-color: #7f7f7f; font-weight: bold\">SKIPPED</span>                                                 <a href=\"file:///usr/local/google/home/codyfincher/Code/database-tools/oracle-database-assessment/src/server/dbma/database.py\" target=\"_blank\"><span style=\"color: #7f7f7f; text-decoration-color: #7f7f7f\">database.py</span></a><span style=\"color: #7f7f7f; text-decoration-color: #7f7f7f\">:</span><a href=\"file:///usr/local/google/home/codyfincher/Code/database-tools/oracle-database-assessment/src/server/dbma/database.py#163\" target=\"_blank\"><span style=\"color: #7f7f7f; text-decoration-color: #7f7f7f\">163</span></a>\n",
       "</pre>\n"
      ],
      "text/plain": [
       "\u001b[2;36m[10/17/22 16:51:45]\u001b[0m\u001b[2;36m \u001b[0m\u001b[34mINFO    \u001b[0m \u001b[33m...\u001b[0m pdbs_info  \u001b[1;2mSKIPPED\u001b[0m                                                 \u001b]8;id=542877;file:///usr/local/google/home/codyfincher/Code/database-tools/oracle-database-assessment/src/server/dbma/database.py\u001b\\\u001b[2mdatabase.py\u001b[0m\u001b]8;;\u001b\\\u001b[2m:\u001b[0m\u001b]8;id=435834;file:///usr/local/google/home/codyfincher/Code/database-tools/oracle-database-assessment/src/server/dbma/database.py#163\u001b\\\u001b[2m163\u001b[0m\u001b]8;;\u001b\\\n"
      ]
     },
     "metadata": {},
     "output_type": "display_data"
    },
    {
     "data": {
      "text/html": [
       "<pre style=\"white-space:pre;overflow-x:auto;line-height:normal;font-family:Menlo,'DejaVu Sans Mono',consolas,'Courier New',monospace\"><span style=\"color: #7fbfbf; text-decoration-color: #7fbfbf\">[10/17/22 16:51:45] </span><span style=\"color: #000080; text-decoration-color: #000080\">INFO    </span> delimiter is |                                                         <a href=\"file:///usr/local/google/home/codyfincher/Code/database-tools/oracle-database-assessment/src/server/dbma/database.py\" target=\"_blank\"><span style=\"color: #7f7f7f; text-decoration-color: #7f7f7f\">database.py</span></a><span style=\"color: #7f7f7f; text-decoration-color: #7f7f7f\">:</span><a href=\"file:///usr/local/google/home/codyfincher/Code/database-tools/oracle-database-assessment/src/server/dbma/database.py#153\" target=\"_blank\"><span style=\"color: #7f7f7f; text-decoration-color: #7f7f7f\">153</span></a>\n",
       "</pre>\n"
      ],
      "text/plain": [
       "\u001b[2;36m[10/17/22 16:51:45]\u001b[0m\u001b[2;36m \u001b[0m\u001b[34mINFO    \u001b[0m delimiter is |                                                         \u001b]8;id=104411;file:///usr/local/google/home/codyfincher/Code/database-tools/oracle-database-assessment/src/server/dbma/database.py\u001b\\\u001b[2mdatabase.py\u001b[0m\u001b]8;;\u001b\\\u001b[2m:\u001b[0m\u001b]8;id=621846;file:///usr/local/google/home/codyfincher/Code/database-tools/oracle-database-assessment/src/server/dbma/database.py#153\u001b\\\u001b[2m153\u001b[0m\u001b]8;;\u001b\\\n"
      ]
     },
     "metadata": {},
     "output_type": "display_data"
    },
    {
     "data": {
      "text/html": [
       "<pre style=\"white-space:pre;overflow-x:auto;line-height:normal;font-family:Menlo,'DejaVu Sans Mono',consolas,'Courier New',monospace\"><span style=\"color: #7fbfbf; text-decoration-color: #7fbfbf\">[10/17/22 16:51:45] </span><span style=\"color: #000080; text-decoration-color: #000080\">INFO    </span> <span style=\"color: #808000; text-decoration-color: #808000\">...</span> pdbs_in_open_mode  <span style=\"color: #7f7f7f; text-decoration-color: #7f7f7f; font-weight: bold\">SKIPPED</span>                                         <a href=\"file:///usr/local/google/home/codyfincher/Code/database-tools/oracle-database-assessment/src/server/dbma/database.py\" target=\"_blank\"><span style=\"color: #7f7f7f; text-decoration-color: #7f7f7f\">database.py</span></a><span style=\"color: #7f7f7f; text-decoration-color: #7f7f7f\">:</span><a href=\"file:///usr/local/google/home/codyfincher/Code/database-tools/oracle-database-assessment/src/server/dbma/database.py#163\" target=\"_blank\"><span style=\"color: #7f7f7f; text-decoration-color: #7f7f7f\">163</span></a>\n",
       "</pre>\n"
      ],
      "text/plain": [
       "\u001b[2;36m[10/17/22 16:51:45]\u001b[0m\u001b[2;36m \u001b[0m\u001b[34mINFO    \u001b[0m \u001b[33m...\u001b[0m pdbs_in_open_mode  \u001b[1;2mSKIPPED\u001b[0m                                         \u001b]8;id=380541;file:///usr/local/google/home/codyfincher/Code/database-tools/oracle-database-assessment/src/server/dbma/database.py\u001b\\\u001b[2mdatabase.py\u001b[0m\u001b]8;;\u001b\\\u001b[2m:\u001b[0m\u001b]8;id=262455;file:///usr/local/google/home/codyfincher/Code/database-tools/oracle-database-assessment/src/server/dbma/database.py#163\u001b\\\u001b[2m163\u001b[0m\u001b]8;;\u001b\\\n"
      ]
     },
     "metadata": {},
     "output_type": "display_data"
    },
    {
     "data": {
      "text/html": [
       "<pre style=\"white-space:pre;overflow-x:auto;line-height:normal;font-family:Menlo,'DejaVu Sans Mono',consolas,'Courier New',monospace\"><span style=\"color: #7fbfbf; text-decoration-color: #7fbfbf\">[10/17/22 16:51:45] </span><span style=\"color: #000080; text-decoration-color: #000080\">INFO    </span> delimiter is |                                                         <a href=\"file:///usr/local/google/home/codyfincher/Code/database-tools/oracle-database-assessment/src/server/dbma/database.py\" target=\"_blank\"><span style=\"color: #7f7f7f; text-decoration-color: #7f7f7f\">database.py</span></a><span style=\"color: #7f7f7f; text-decoration-color: #7f7f7f\">:</span><a href=\"file:///usr/local/google/home/codyfincher/Code/database-tools/oracle-database-assessment/src/server/dbma/database.py#153\" target=\"_blank\"><span style=\"color: #7f7f7f; text-decoration-color: #7f7f7f\">153</span></a>\n",
       "</pre>\n"
      ],
      "text/plain": [
       "\u001b[2;36m[10/17/22 16:51:45]\u001b[0m\u001b[2;36m \u001b[0m\u001b[34mINFO    \u001b[0m delimiter is |                                                         \u001b]8;id=729508;file:///usr/local/google/home/codyfincher/Code/database-tools/oracle-database-assessment/src/server/dbma/database.py\u001b\\\u001b[2mdatabase.py\u001b[0m\u001b]8;;\u001b\\\u001b[2m:\u001b[0m\u001b]8;id=209995;file:///usr/local/google/home/codyfincher/Code/database-tools/oracle-database-assessment/src/server/dbma/database.py#153\u001b\\\u001b[2m153\u001b[0m\u001b]8;;\u001b\\\n"
      ]
     },
     "metadata": {},
     "output_type": "display_data"
    },
    {
     "data": {
      "text/html": [
       "<pre style=\"white-space:pre;overflow-x:auto;line-height:normal;font-family:Menlo,'DejaVu Sans Mono',consolas,'Courier New',monospace\"><span style=\"color: #7fbfbf; text-decoration-color: #7fbfbf\">[10/17/22 16:51:45] </span><span style=\"color: #000080; text-decoration-color: #000080\">INFO    </span> <span style=\"color: #808000; text-decoration-color: #808000\">...</span> db_source_code  <span style=\"color: #008000; text-decoration-color: #008000; font-weight: bold\">SUCCESS</span> <span style=\"font-weight: bold\">[</span><span style=\"color: #008080; text-decoration-color: #008080; font-weight: bold\">27</span> <span style=\"color: #800080; text-decoration-color: #800080; font-weight: bold\">rows</span><span style=\"font-weight: bold\">(</span>s<span style=\"font-weight: bold\">)]</span>                               <a href=\"file:///usr/local/google/home/codyfincher/Code/database-tools/oracle-database-assessment/src/server/dbma/database.py\" target=\"_blank\"><span style=\"color: #7f7f7f; text-decoration-color: #7f7f7f\">database.py</span></a><span style=\"color: #7f7f7f; text-decoration-color: #7f7f7f\">:</span><a href=\"file:///usr/local/google/home/codyfincher/Code/database-tools/oracle-database-assessment/src/server/dbma/database.py#160\" target=\"_blank\"><span style=\"color: #7f7f7f; text-decoration-color: #7f7f7f\">160</span></a>\n",
       "</pre>\n"
      ],
      "text/plain": [
       "\u001b[2;36m[10/17/22 16:51:45]\u001b[0m\u001b[2;36m \u001b[0m\u001b[34mINFO    \u001b[0m \u001b[33m...\u001b[0m db_source_code  \u001b[1;32mSUCCESS\u001b[0m \u001b[1m[\u001b[0m\u001b[1;36m27\u001b[0m \u001b[1;35mrows\u001b[0m\u001b[1m(\u001b[0ms\u001b[1m)\u001b[0m\u001b[1m]\u001b[0m                               \u001b]8;id=371712;file:///usr/local/google/home/codyfincher/Code/database-tools/oracle-database-assessment/src/server/dbma/database.py\u001b\\\u001b[2mdatabase.py\u001b[0m\u001b]8;;\u001b\\\u001b[2m:\u001b[0m\u001b]8;id=815648;file:///usr/local/google/home/codyfincher/Code/database-tools/oracle-database-assessment/src/server/dbma/database.py#160\u001b\\\u001b[2m160\u001b[0m\u001b]8;;\u001b\\\n"
      ]
     },
     "metadata": {},
     "output_type": "display_data"
    },
    {
     "data": {
      "text/html": [
       "<pre style=\"white-space:pre;overflow-x:auto;line-height:normal;font-family:Menlo,'DejaVu Sans Mono',consolas,'Courier New',monospace\"><span style=\"color: #7fbfbf; text-decoration-color: #7fbfbf\">[10/17/22 16:51:45] </span><span style=\"color: #000080; text-decoration-color: #000080\">INFO    </span> delimiter is |                                                         <a href=\"file:///usr/local/google/home/codyfincher/Code/database-tools/oracle-database-assessment/src/server/dbma/database.py\" target=\"_blank\"><span style=\"color: #7f7f7f; text-decoration-color: #7f7f7f\">database.py</span></a><span style=\"color: #7f7f7f; text-decoration-color: #7f7f7f\">:</span><a href=\"file:///usr/local/google/home/codyfincher/Code/database-tools/oracle-database-assessment/src/server/dbma/database.py#153\" target=\"_blank\"><span style=\"color: #7f7f7f; text-decoration-color: #7f7f7f\">153</span></a>\n",
       "</pre>\n"
      ],
      "text/plain": [
       "\u001b[2;36m[10/17/22 16:51:45]\u001b[0m\u001b[2;36m \u001b[0m\u001b[34mINFO    \u001b[0m delimiter is |                                                         \u001b]8;id=48409;file:///usr/local/google/home/codyfincher/Code/database-tools/oracle-database-assessment/src/server/dbma/database.py\u001b\\\u001b[2mdatabase.py\u001b[0m\u001b]8;;\u001b\\\u001b[2m:\u001b[0m\u001b]8;id=369683;file:///usr/local/google/home/codyfincher/Code/database-tools/oracle-database-assessment/src/server/dbma/database.py#153\u001b\\\u001b[2m153\u001b[0m\u001b]8;;\u001b\\\n"
      ]
     },
     "metadata": {},
     "output_type": "display_data"
    },
    {
     "data": {
      "text/html": [
       "<pre style=\"white-space:pre;overflow-x:auto;line-height:normal;font-family:Menlo,'DejaVu Sans Mono',consolas,'Courier New',monospace\"><span style=\"color: #7fbfbf; text-decoration-color: #7fbfbf\">[10/17/22 16:51:45] </span><span style=\"color: #000080; text-decoration-color: #000080\">INFO    </span> <span style=\"color: #808000; text-decoration-color: #808000\">...</span> db_source_connections  <span style=\"color: #008000; text-decoration-color: #008000; font-weight: bold\">SUCCESS</span> <span style=\"font-weight: bold\">[</span><span style=\"color: #008080; text-decoration-color: #008080; font-weight: bold\">3764</span> <span style=\"color: #800080; text-decoration-color: #800080; font-weight: bold\">rows</span><span style=\"font-weight: bold\">(</span>s<span style=\"font-weight: bold\">)]</span>                      <a href=\"file:///usr/local/google/home/codyfincher/Code/database-tools/oracle-database-assessment/src/server/dbma/database.py\" target=\"_blank\"><span style=\"color: #7f7f7f; text-decoration-color: #7f7f7f\">database.py</span></a><span style=\"color: #7f7f7f; text-decoration-color: #7f7f7f\">:</span><a href=\"file:///usr/local/google/home/codyfincher/Code/database-tools/oracle-database-assessment/src/server/dbma/database.py#160\" target=\"_blank\"><span style=\"color: #7f7f7f; text-decoration-color: #7f7f7f\">160</span></a>\n",
       "</pre>\n"
      ],
      "text/plain": [
       "\u001b[2;36m[10/17/22 16:51:45]\u001b[0m\u001b[2;36m \u001b[0m\u001b[34mINFO    \u001b[0m \u001b[33m...\u001b[0m db_source_connections  \u001b[1;32mSUCCESS\u001b[0m \u001b[1m[\u001b[0m\u001b[1;36m3764\u001b[0m \u001b[1;35mrows\u001b[0m\u001b[1m(\u001b[0ms\u001b[1m)\u001b[0m\u001b[1m]\u001b[0m                      \u001b]8;id=366057;file:///usr/local/google/home/codyfincher/Code/database-tools/oracle-database-assessment/src/server/dbma/database.py\u001b\\\u001b[2mdatabase.py\u001b[0m\u001b]8;;\u001b\\\u001b[2m:\u001b[0m\u001b]8;id=230673;file:///usr/local/google/home/codyfincher/Code/database-tools/oracle-database-assessment/src/server/dbma/database.py#160\u001b\\\u001b[2m160\u001b[0m\u001b]8;;\u001b\\\n"
      ]
     },
     "metadata": {},
     "output_type": "display_data"
    },
    {
     "data": {
      "text/html": [
       "<pre style=\"white-space:pre;overflow-x:auto;line-height:normal;font-family:Menlo,'DejaVu Sans Mono',consolas,'Courier New',monospace\"><span style=\"color: #7fbfbf; text-decoration-color: #7fbfbf\">[10/17/22 16:51:45] </span><span style=\"color: #000080; text-decoration-color: #000080\">INFO    </span> delimiter is |                                                         <a href=\"file:///usr/local/google/home/codyfincher/Code/database-tools/oracle-database-assessment/src/server/dbma/database.py\" target=\"_blank\"><span style=\"color: #7f7f7f; text-decoration-color: #7f7f7f\">database.py</span></a><span style=\"color: #7f7f7f; text-decoration-color: #7f7f7f\">:</span><a href=\"file:///usr/local/google/home/codyfincher/Code/database-tools/oracle-database-assessment/src/server/dbma/database.py#153\" target=\"_blank\"><span style=\"color: #7f7f7f; text-decoration-color: #7f7f7f\">153</span></a>\n",
       "</pre>\n"
      ],
      "text/plain": [
       "\u001b[2;36m[10/17/22 16:51:45]\u001b[0m\u001b[2;36m \u001b[0m\u001b[34mINFO    \u001b[0m delimiter is |                                                         \u001b]8;id=758128;file:///usr/local/google/home/codyfincher/Code/database-tools/oracle-database-assessment/src/server/dbma/database.py\u001b\\\u001b[2mdatabase.py\u001b[0m\u001b]8;;\u001b\\\u001b[2m:\u001b[0m\u001b]8;id=427134;file:///usr/local/google/home/codyfincher/Code/database-tools/oracle-database-assessment/src/server/dbma/database.py#153\u001b\\\u001b[2m153\u001b[0m\u001b]8;;\u001b\\\n"
      ]
     },
     "metadata": {},
     "output_type": "display_data"
    },
    {
     "data": {
      "text/html": [
       "<pre style=\"white-space:pre;overflow-x:auto;line-height:normal;font-family:Menlo,'DejaVu Sans Mono',consolas,'Courier New',monospace\"><span style=\"color: #7fbfbf; text-decoration-color: #7fbfbf\">[10/17/22 16:51:45] </span><span style=\"color: #000080; text-decoration-color: #000080\">INFO    </span> <span style=\"color: #808000; text-decoration-color: #808000\">...</span> db_sql_stats  <span style=\"color: #008000; text-decoration-color: #008000; font-weight: bold\">SUCCESS</span> <span style=\"font-weight: bold\">[</span><span style=\"color: #008080; text-decoration-color: #008080; font-weight: bold\">299</span> <span style=\"color: #800080; text-decoration-color: #800080; font-weight: bold\">rows</span><span style=\"font-weight: bold\">(</span>s<span style=\"font-weight: bold\">)]</span>                                <a href=\"file:///usr/local/google/home/codyfincher/Code/database-tools/oracle-database-assessment/src/server/dbma/database.py\" target=\"_blank\"><span style=\"color: #7f7f7f; text-decoration-color: #7f7f7f\">database.py</span></a><span style=\"color: #7f7f7f; text-decoration-color: #7f7f7f\">:</span><a href=\"file:///usr/local/google/home/codyfincher/Code/database-tools/oracle-database-assessment/src/server/dbma/database.py#160\" target=\"_blank\"><span style=\"color: #7f7f7f; text-decoration-color: #7f7f7f\">160</span></a>\n",
       "</pre>\n"
      ],
      "text/plain": [
       "\u001b[2;36m[10/17/22 16:51:45]\u001b[0m\u001b[2;36m \u001b[0m\u001b[34mINFO    \u001b[0m \u001b[33m...\u001b[0m db_sql_stats  \u001b[1;32mSUCCESS\u001b[0m \u001b[1m[\u001b[0m\u001b[1;36m299\u001b[0m \u001b[1;35mrows\u001b[0m\u001b[1m(\u001b[0ms\u001b[1m)\u001b[0m\u001b[1m]\u001b[0m                                \u001b]8;id=548649;file:///usr/local/google/home/codyfincher/Code/database-tools/oracle-database-assessment/src/server/dbma/database.py\u001b\\\u001b[2mdatabase.py\u001b[0m\u001b]8;;\u001b\\\u001b[2m:\u001b[0m\u001b]8;id=366705;file:///usr/local/google/home/codyfincher/Code/database-tools/oracle-database-assessment/src/server/dbma/database.py#160\u001b\\\u001b[2m160\u001b[0m\u001b]8;;\u001b\\\n"
      ]
     },
     "metadata": {},
     "output_type": "display_data"
    },
    {
     "data": {
      "text/html": [
       "<pre style=\"white-space:pre;overflow-x:auto;line-height:normal;font-family:Menlo,'DejaVu Sans Mono',consolas,'Courier New',monospace\"><span style=\"color: #7fbfbf; text-decoration-color: #7fbfbf\">[10/17/22 16:51:46] </span><span style=\"color: #000080; text-decoration-color: #000080\">INFO    </span> delimiter is |                                                         <a href=\"file:///usr/local/google/home/codyfincher/Code/database-tools/oracle-database-assessment/src/server/dbma/database.py\" target=\"_blank\"><span style=\"color: #7f7f7f; text-decoration-color: #7f7f7f\">database.py</span></a><span style=\"color: #7f7f7f; text-decoration-color: #7f7f7f\">:</span><a href=\"file:///usr/local/google/home/codyfincher/Code/database-tools/oracle-database-assessment/src/server/dbma/database.py#153\" target=\"_blank\"><span style=\"color: #7f7f7f; text-decoration-color: #7f7f7f\">153</span></a>\n",
       "</pre>\n"
      ],
      "text/plain": [
       "\u001b[2;36m[10/17/22 16:51:46]\u001b[0m\u001b[2;36m \u001b[0m\u001b[34mINFO    \u001b[0m delimiter is |                                                         \u001b]8;id=736234;file:///usr/local/google/home/codyfincher/Code/database-tools/oracle-database-assessment/src/server/dbma/database.py\u001b\\\u001b[2mdatabase.py\u001b[0m\u001b]8;;\u001b\\\u001b[2m:\u001b[0m\u001b]8;id=784038;file:///usr/local/google/home/codyfincher/Code/database-tools/oracle-database-assessment/src/server/dbma/database.py#153\u001b\\\u001b[2m153\u001b[0m\u001b]8;;\u001b\\\n"
      ]
     },
     "metadata": {},
     "output_type": "display_data"
    },
    {
     "data": {
      "text/html": [
       "<pre style=\"white-space:pre;overflow-x:auto;line-height:normal;font-family:Menlo,'DejaVu Sans Mono',consolas,'Courier New',monospace\"><span style=\"color: #7fbfbf; text-decoration-color: #7fbfbf\">[10/17/22 16:51:46] </span><span style=\"color: #000080; text-decoration-color: #000080\">INFO    </span> <span style=\"color: #808000; text-decoration-color: #808000\">...</span> db_constraint_summary  <span style=\"color: #008000; text-decoration-color: #008000; font-weight: bold\">SUCCESS</span> <span style=\"font-weight: bold\">[</span><span style=\"color: #008080; text-decoration-color: #008080; font-weight: bold\">22</span> <span style=\"color: #800080; text-decoration-color: #800080; font-weight: bold\">rows</span><span style=\"font-weight: bold\">(</span>s<span style=\"font-weight: bold\">)]</span>                        <a href=\"file:///usr/local/google/home/codyfincher/Code/database-tools/oracle-database-assessment/src/server/dbma/database.py\" target=\"_blank\"><span style=\"color: #7f7f7f; text-decoration-color: #7f7f7f\">database.py</span></a><span style=\"color: #7f7f7f; text-decoration-color: #7f7f7f\">:</span><a href=\"file:///usr/local/google/home/codyfincher/Code/database-tools/oracle-database-assessment/src/server/dbma/database.py#160\" target=\"_blank\"><span style=\"color: #7f7f7f; text-decoration-color: #7f7f7f\">160</span></a>\n",
       "</pre>\n"
      ],
      "text/plain": [
       "\u001b[2;36m[10/17/22 16:51:46]\u001b[0m\u001b[2;36m \u001b[0m\u001b[34mINFO    \u001b[0m \u001b[33m...\u001b[0m db_constraint_summary  \u001b[1;32mSUCCESS\u001b[0m \u001b[1m[\u001b[0m\u001b[1;36m22\u001b[0m \u001b[1;35mrows\u001b[0m\u001b[1m(\u001b[0ms\u001b[1m)\u001b[0m\u001b[1m]\u001b[0m                        \u001b]8;id=135412;file:///usr/local/google/home/codyfincher/Code/database-tools/oracle-database-assessment/src/server/dbma/database.py\u001b\\\u001b[2mdatabase.py\u001b[0m\u001b]8;;\u001b\\\u001b[2m:\u001b[0m\u001b]8;id=959245;file:///usr/local/google/home/codyfincher/Code/database-tools/oracle-database-assessment/src/server/dbma/database.py#160\u001b\\\u001b[2m160\u001b[0m\u001b]8;;\u001b\\\n"
      ]
     },
     "metadata": {},
     "output_type": "display_data"
    },
    {
     "data": {
      "text/html": [
       "<pre style=\"white-space:pre;overflow-x:auto;line-height:normal;font-family:Menlo,'DejaVu Sans Mono',consolas,'Courier New',monospace\"><span style=\"color: #7fbfbf; text-decoration-color: #7fbfbf\">[10/17/22 16:51:46] </span><span style=\"color: #000080; text-decoration-color: #000080\">INFO    </span> delimiter is |                                                         <a href=\"file:///usr/local/google/home/codyfincher/Code/database-tools/oracle-database-assessment/src/server/dbma/database.py\" target=\"_blank\"><span style=\"color: #7f7f7f; text-decoration-color: #7f7f7f\">database.py</span></a><span style=\"color: #7f7f7f; text-decoration-color: #7f7f7f\">:</span><a href=\"file:///usr/local/google/home/codyfincher/Code/database-tools/oracle-database-assessment/src/server/dbma/database.py#153\" target=\"_blank\"><span style=\"color: #7f7f7f; text-decoration-color: #7f7f7f\">153</span></a>\n",
       "</pre>\n"
      ],
      "text/plain": [
       "\u001b[2;36m[10/17/22 16:51:46]\u001b[0m\u001b[2;36m \u001b[0m\u001b[34mINFO    \u001b[0m delimiter is |                                                         \u001b]8;id=682548;file:///usr/local/google/home/codyfincher/Code/database-tools/oracle-database-assessment/src/server/dbma/database.py\u001b\\\u001b[2mdatabase.py\u001b[0m\u001b]8;;\u001b\\\u001b[2m:\u001b[0m\u001b]8;id=759073;file:///usr/local/google/home/codyfincher/Code/database-tools/oracle-database-assessment/src/server/dbma/database.py#153\u001b\\\u001b[2m153\u001b[0m\u001b]8;;\u001b\\\n"
      ]
     },
     "metadata": {},
     "output_type": "display_data"
    },
    {
     "data": {
      "text/html": [
       "<pre style=\"white-space:pre;overflow-x:auto;line-height:normal;font-family:Menlo,'DejaVu Sans Mono',consolas,'Courier New',monospace\"><span style=\"color: #7fbfbf; text-decoration-color: #7fbfbf\">[10/17/22 16:51:46] </span><span style=\"color: #000080; text-decoration-color: #000080\">INFO    </span> <span style=\"color: #808000; text-decoration-color: #808000\">...</span> db_used_space_details  <span style=\"color: #008000; text-decoration-color: #008000; font-weight: bold\">SUCCESS</span> <span style=\"font-weight: bold\">[</span><span style=\"color: #008080; text-decoration-color: #008080; font-weight: bold\">27</span> <span style=\"color: #800080; text-decoration-color: #800080; font-weight: bold\">rows</span><span style=\"font-weight: bold\">(</span>s<span style=\"font-weight: bold\">)]</span>                        <a href=\"file:///usr/local/google/home/codyfincher/Code/database-tools/oracle-database-assessment/src/server/dbma/database.py\" target=\"_blank\"><span style=\"color: #7f7f7f; text-decoration-color: #7f7f7f\">database.py</span></a><span style=\"color: #7f7f7f; text-decoration-color: #7f7f7f\">:</span><a href=\"file:///usr/local/google/home/codyfincher/Code/database-tools/oracle-database-assessment/src/server/dbma/database.py#160\" target=\"_blank\"><span style=\"color: #7f7f7f; text-decoration-color: #7f7f7f\">160</span></a>\n",
       "</pre>\n"
      ],
      "text/plain": [
       "\u001b[2;36m[10/17/22 16:51:46]\u001b[0m\u001b[2;36m \u001b[0m\u001b[34mINFO    \u001b[0m \u001b[33m...\u001b[0m db_used_space_details  \u001b[1;32mSUCCESS\u001b[0m \u001b[1m[\u001b[0m\u001b[1;36m27\u001b[0m \u001b[1;35mrows\u001b[0m\u001b[1m(\u001b[0ms\u001b[1m)\u001b[0m\u001b[1m]\u001b[0m                        \u001b]8;id=99546;file:///usr/local/google/home/codyfincher/Code/database-tools/oracle-database-assessment/src/server/dbma/database.py\u001b\\\u001b[2mdatabase.py\u001b[0m\u001b]8;;\u001b\\\u001b[2m:\u001b[0m\u001b]8;id=865541;file:///usr/local/google/home/codyfincher/Code/database-tools/oracle-database-assessment/src/server/dbma/database.py#160\u001b\\\u001b[2m160\u001b[0m\u001b]8;;\u001b\\\n"
      ]
     },
     "metadata": {},
     "output_type": "display_data"
    },
    {
     "data": {
      "text/html": [
       "<pre style=\"white-space:pre;overflow-x:auto;line-height:normal;font-family:Menlo,'DejaVu Sans Mono',consolas,'Courier New',monospace\"><span style=\"color: #7fbfbf; text-decoration-color: #7fbfbf\">[10/17/22 16:51:46] </span><span style=\"color: #000080; text-decoration-color: #000080\">INFO    </span> delimiter is |                                                         <a href=\"file:///usr/local/google/home/codyfincher/Code/database-tools/oracle-database-assessment/src/server/dbma/database.py\" target=\"_blank\"><span style=\"color: #7f7f7f; text-decoration-color: #7f7f7f\">database.py</span></a><span style=\"color: #7f7f7f; text-decoration-color: #7f7f7f\">:</span><a href=\"file:///usr/local/google/home/codyfincher/Code/database-tools/oracle-database-assessment/src/server/dbma/database.py#153\" target=\"_blank\"><span style=\"color: #7f7f7f; text-decoration-color: #7f7f7f\">153</span></a>\n",
       "</pre>\n"
      ],
      "text/plain": [
       "\u001b[2;36m[10/17/22 16:51:46]\u001b[0m\u001b[2;36m \u001b[0m\u001b[34mINFO    \u001b[0m delimiter is |                                                         \u001b]8;id=231789;file:///usr/local/google/home/codyfincher/Code/database-tools/oracle-database-assessment/src/server/dbma/database.py\u001b\\\u001b[2mdatabase.py\u001b[0m\u001b]8;;\u001b\\\u001b[2m:\u001b[0m\u001b]8;id=969317;file:///usr/local/google/home/codyfincher/Code/database-tools/oracle-database-assessment/src/server/dbma/database.py#153\u001b\\\u001b[2m153\u001b[0m\u001b]8;;\u001b\\\n"
      ]
     },
     "metadata": {},
     "output_type": "display_data"
    },
    {
     "data": {
      "text/html": [
       "<pre style=\"white-space:pre;overflow-x:auto;line-height:normal;font-family:Menlo,'DejaVu Sans Mono',consolas,'Courier New',monospace\"><span style=\"color: #7fbfbf; text-decoration-color: #7fbfbf\">[10/17/22 16:51:46] </span><span style=\"color: #000080; text-decoration-color: #000080\">INFO    </span> <span style=\"color: #808000; text-decoration-color: #808000\">...</span> db_user_tablespace_segments  <span style=\"color: #008000; text-decoration-color: #008000; font-weight: bold\">SUCCESS</span> <span style=\"font-weight: bold\">[</span><span style=\"color: #008080; text-decoration-color: #008080; font-weight: bold\">2</span> <span style=\"color: #800080; text-decoration-color: #800080; font-weight: bold\">rows</span><span style=\"font-weight: bold\">(</span>s<span style=\"font-weight: bold\">)]</span>                   <a href=\"file:///usr/local/google/home/codyfincher/Code/database-tools/oracle-database-assessment/src/server/dbma/database.py\" target=\"_blank\"><span style=\"color: #7f7f7f; text-decoration-color: #7f7f7f\">database.py</span></a><span style=\"color: #7f7f7f; text-decoration-color: #7f7f7f\">:</span><a href=\"file:///usr/local/google/home/codyfincher/Code/database-tools/oracle-database-assessment/src/server/dbma/database.py#160\" target=\"_blank\"><span style=\"color: #7f7f7f; text-decoration-color: #7f7f7f\">160</span></a>\n",
       "</pre>\n"
      ],
      "text/plain": [
       "\u001b[2;36m[10/17/22 16:51:46]\u001b[0m\u001b[2;36m \u001b[0m\u001b[34mINFO    \u001b[0m \u001b[33m...\u001b[0m db_user_tablespace_segments  \u001b[1;32mSUCCESS\u001b[0m \u001b[1m[\u001b[0m\u001b[1;36m2\u001b[0m \u001b[1;35mrows\u001b[0m\u001b[1m(\u001b[0ms\u001b[1m)\u001b[0m\u001b[1m]\u001b[0m                   \u001b]8;id=173178;file:///usr/local/google/home/codyfincher/Code/database-tools/oracle-database-assessment/src/server/dbma/database.py\u001b\\\u001b[2mdatabase.py\u001b[0m\u001b]8;;\u001b\\\u001b[2m:\u001b[0m\u001b]8;id=222144;file:///usr/local/google/home/codyfincher/Code/database-tools/oracle-database-assessment/src/server/dbma/database.py#160\u001b\\\u001b[2m160\u001b[0m\u001b]8;;\u001b\\\n"
      ]
     },
     "metadata": {},
     "output_type": "display_data"
    },
    {
     "data": {
      "text/html": [
       "<pre style=\"white-space:pre;overflow-x:auto;line-height:normal;font-family:Menlo,'DejaVu Sans Mono',consolas,'Courier New',monospace\"><span style=\"color: #7fbfbf; text-decoration-color: #7fbfbf\">[10/17/22 16:51:53] </span><span style=\"color: #000080; text-decoration-color: #000080\">INFO    </span> <span style=\"font-weight: bold\">[]</span>                                                                        <a href=\"file:///usr/local/google/home/codyfincher/Code/database-tools/oracle-database-assessment/src/server/dbma/transformer/engine.py\" target=\"_blank\"><span style=\"color: #7f7f7f; text-decoration-color: #7f7f7f\">engine.py</span></a><span style=\"color: #7f7f7f; text-decoration-color: #7f7f7f\">:</span><a href=\"file:///usr/local/google/home/codyfincher/Code/database-tools/oracle-database-assessment/src/server/dbma/transformer/engine.py#87\" target=\"_blank\"><span style=\"color: #7f7f7f; text-decoration-color: #7f7f7f\">87</span></a>\n",
       "</pre>\n"
      ],
      "text/plain": [
       "\u001b[2;36m[10/17/22 16:51:53]\u001b[0m\u001b[2;36m \u001b[0m\u001b[34mINFO    \u001b[0m \u001b[1m[\u001b[0m\u001b[1m]\u001b[0m                                                                        \u001b]8;id=514200;file:///usr/local/google/home/codyfincher/Code/database-tools/oracle-database-assessment/src/server/dbma/transformer/engine.py\u001b\\\u001b[2mengine.py\u001b[0m\u001b]8;;\u001b\\\u001b[2m:\u001b[0m\u001b]8;id=570151;file:///usr/local/google/home/codyfincher/Code/database-tools/oracle-database-assessment/src/server/dbma/transformer/engine.py#87\u001b\\\u001b[2m87\u001b[0m\u001b]8;;\u001b\\\n"
      ]
     },
     "metadata": {},
     "output_type": "display_data"
    },
    {
     "data": {
      "text/html": [
       "<pre style=\"white-space:pre;overflow-x:auto;line-height:normal;font-family:Menlo,'DejaVu Sans Mono',consolas,'Courier New',monospace\"><span style=\"color: #7fbfbf; text-decoration-color: #7fbfbf\">[10/17/22 16:51:53] </span><span style=\"color: #000080; text-decoration-color: #000080\">INFO    </span> <span style=\"font-weight: bold\">{</span><span style=\"color: #008000; text-decoration-color: #008000\">'database_metrics'</span>: <span style=\"font-weight: bold\">[]</span>, <span style=\"color: #008000; text-decoration-color: #008000\">'database_features'</span>: <span style=\"font-weight: bold\">[]}</span>                         <a href=\"file:///usr/local/google/home/codyfincher/Code/database-tools/oracle-database-assessment/src/server/dbma/transformer/engine.py\" target=\"_blank\"><span style=\"color: #7f7f7f; text-decoration-color: #7f7f7f\">engine.py</span></a><span style=\"color: #7f7f7f; text-decoration-color: #7f7f7f\">:</span><a href=\"file:///usr/local/google/home/codyfincher/Code/database-tools/oracle-database-assessment/src/server/dbma/transformer/engine.py#97\" target=\"_blank\"><span style=\"color: #7f7f7f; text-decoration-color: #7f7f7f\">97</span></a>\n",
       "</pre>\n"
      ],
      "text/plain": [
       "\u001b[2;36m[10/17/22 16:51:53]\u001b[0m\u001b[2;36m \u001b[0m\u001b[34mINFO    \u001b[0m \u001b[1m{\u001b[0m\u001b[32m'database_metrics'\u001b[0m: \u001b[1m[\u001b[0m\u001b[1m]\u001b[0m, \u001b[32m'database_features'\u001b[0m: \u001b[1m[\u001b[0m\u001b[1m]\u001b[0m\u001b[1m}\u001b[0m                         \u001b]8;id=234952;file:///usr/local/google/home/codyfincher/Code/database-tools/oracle-database-assessment/src/server/dbma/transformer/engine.py\u001b\\\u001b[2mengine.py\u001b[0m\u001b]8;;\u001b\\\u001b[2m:\u001b[0m\u001b]8;id=368358;file:///usr/local/google/home/codyfincher/Code/database-tools/oracle-database-assessment/src/server/dbma/transformer/engine.py#97\u001b\\\u001b[2m97\u001b[0m\u001b]8;;\u001b\\\n"
      ]
     },
     "metadata": {},
     "output_type": "display_data"
    },
    {
     "data": {
      "text/html": [
       "<pre style=\"white-space:pre;overflow-x:auto;line-height:normal;font-family:Menlo,'DejaVu Sans Mono',consolas,'Courier New',monospace\"><span style=\"color: #7fbfbf; text-decoration-color: #7fbfbf\">[10/17/22 16:51:53] </span><span style=\"color: #000080; text-decoration-color: #000080\">INFO    </span> <span style=\"font-weight: bold\">[</span><span style=\"color: #008000; text-decoration-color: #008000\">'collection-storage/processed'</span>, <span style=\"color: #008000; text-decoration-color: #008000\">'collection-storage/upload'</span><span style=\"font-weight: bold\">]</span>             <a href=\"file:///usr/local/google/home/codyfincher/Code/database-tools/oracle-database-assessment/src/server/dbma/transformer/engine.py\" target=\"_blank\"><span style=\"color: #7f7f7f; text-decoration-color: #7f7f7f\">engine.py</span></a><span style=\"color: #7f7f7f; text-decoration-color: #7f7f7f\">:</span><a href=\"file:///usr/local/google/home/codyfincher/Code/database-tools/oracle-database-assessment/src/server/dbma/transformer/engine.py#54\" target=\"_blank\"><span style=\"color: #7f7f7f; text-decoration-color: #7f7f7f\">54</span></a>\n",
       "</pre>\n"
      ],
      "text/plain": [
       "\u001b[2;36m[10/17/22 16:51:53]\u001b[0m\u001b[2;36m \u001b[0m\u001b[34mINFO    \u001b[0m \u001b[1m[\u001b[0m\u001b[32m'collection-storage/processed'\u001b[0m, \u001b[32m'collection-storage/upload'\u001b[0m\u001b[1m]\u001b[0m             \u001b]8;id=425816;file:///usr/local/google/home/codyfincher/Code/database-tools/oracle-database-assessment/src/server/dbma/transformer/engine.py\u001b\\\u001b[2mengine.py\u001b[0m\u001b]8;;\u001b\\\u001b[2m:\u001b[0m\u001b]8;id=994569;file:///usr/local/google/home/codyfincher/Code/database-tools/oracle-database-assessment/src/server/dbma/transformer/engine.py#54\u001b\\\u001b[2m54\u001b[0m\u001b]8;;\u001b\\\n"
      ]
     },
     "metadata": {},
     "output_type": "display_data"
    }
   ],
   "source": [
    "from pathlib import Path\n",
    "import duckdb\n",
    "import pandas as pd\n",
    "import sqlalchemy\n",
    "from dbma.cli import process_collection\n",
    "from dbma.config import settings\n",
    "from dbma import transformer\n",
    "settings.duckdb_path = 'local.db'\n",
    "# No need to import duckdb_engine\n",
    "#  SQLAlchemy will auto-detect the driver needed based on your connection string!\n",
    "\n",
    "# Import ipython-sql Jupyter extension to create SQL cells\n",
    "%load_ext sql\n",
    "%config SqlMagic.autopandas = True\n",
    "%config SqlMagic.feedback = False\n",
    "%config SqlMagic.displaycon = False\n",
    "# %sql duckdb:///:memory:\n",
    "%sql duckdb:///../local.db\n",
    "\n",
    "collection_version = '3.0.5'\n",
    "transformer.engine.process_collection_archives(Path('data/'), collection_version) \n"
   ]
  },
  {
   "cell_type": "code",
   "execution_count": 1,
   "metadata": {},
   "outputs": [
    {
     "ename": "NameError",
     "evalue": "name 'duckdb' is not defined",
     "output_type": "error",
     "traceback": [
      "\u001b[0;31m---------------------------------------------------------------------------\u001b[0m",
      "\u001b[0;31mNameError\u001b[0m                                 Traceback (most recent call last)",
      "Cell \u001b[0;32mIn [1], line 1\u001b[0m\n\u001b[0;32m----> 1\u001b[0m results \u001b[39m=\u001b[39m duckdb\u001b[39m.\u001b[39mquery(\u001b[39m\"\u001b[39m\u001b[39mselect * from read_csv_auto(\u001b[39m\u001b[39m'\u001b[39m\u001b[39mdata/opdb__awrhistosstat__*.csv\u001b[39m\u001b[39m'\u001b[39m\u001b[39m, delim=\u001b[39m\u001b[39m'\u001b[39m\u001b[39m|\u001b[39m\u001b[39m'\u001b[39m\u001b[39m, header=True, filename=True, normalize_names=True, sample_size=-1 );\u001b[39m\u001b[39m\"\u001b[39m)\n\u001b[1;32m      2\u001b[0m results\n",
      "\u001b[0;31mNameError\u001b[0m: name 'duckdb' is not defined"
     ]
    }
   ],
   "source": [
    "results = duckdb.query(\"select * from read_csv_auto('data/opdb__awrhistosstat__*.csv', delim='|', header=True, filename=True, normalize_names=True, sample_size=-1 );\")\n",
    "results"
   ]
  },
  {
   "cell_type": "code",
   "execution_count": 3,
   "metadata": {},
   "outputs": [
    {
     "name": "stdout",
     "output_type": "stream",
     "text": [
      "(duckdb.CatalogException) Catalog Error: Table with name T_DS_Database_Metrics does not exist!\n",
      "Did you mean \"pragma_database_list\"?\n",
      "LINE 1: select * from T_DS_Database_Metrics\n",
      "                      ^\n",
      "[SQL: select * from T_DS_Database_Metrics]\n",
      "(Background on this error at: https://sqlalche.me/e/14/f405)\n"
     ]
    }
   ],
   "source": [
    "%sql select * from T_DS_Database_Metrics\n"
   ]
  },
  {
   "cell_type": "code",
   "execution_count": null,
   "metadata": {},
   "outputs": [],
   "source": [
    "%%sql\n",
    "SELECT\n",
    "    schema_name,\n",
    "    function_name\n",
    "FROM duckdb_functions()\n",
    "ORDER BY ALL DESC\n",
    "LIMIT 5"
   ]
  },
  {
   "cell_type": "code",
   "execution_count": 7,
   "metadata": {},
   "outputs": [
    {
     "data": {
      "text/html": [
       "<div>\n",
       "<style scoped>\n",
       "    .dataframe tbody tr th:only-of-type {\n",
       "        vertical-align: middle;\n",
       "    }\n",
       "\n",
       "    .dataframe tbody tr th {\n",
       "        vertical-align: top;\n",
       "    }\n",
       "\n",
       "    .dataframe thead th {\n",
       "        text-align: right;\n",
       "    }\n",
       "</style>\n",
       "<table border=\"1\" class=\"dataframe\">\n",
       "  <thead>\n",
       "    <tr style=\"text-align: right;\">\n",
       "      <th></th>\n",
       "      <th>PKEY</th>\n",
       "      <th>DBID</th>\n",
       "      <th>INSTANCE_NUMBER</th>\n",
       "      <th>HH24</th>\n",
       "      <th>STAT_NAME</th>\n",
       "      <th>HH24_TOTAL_SECS</th>\n",
       "      <th>CUMULATIVE_VALUE</th>\n",
       "      <th>AVG_VALUE</th>\n",
       "      <th>MODE_VALUE</th>\n",
       "      <th>MEDIAN_VALUE</th>\n",
       "      <th>PERC50</th>\n",
       "      <th>PERC75</th>\n",
       "      <th>PERC90</th>\n",
       "      <th>PERC95</th>\n",
       "      <th>PERC100</th>\n",
       "      <th>MIN_VALUE</th>\n",
       "      <th>MAX_VALUE</th>\n",
       "      <th>SUM_VALUE</th>\n",
       "      <th>COUNT</th>\n",
       "    </tr>\n",
       "  </thead>\n",
       "  <tbody>\n",
       "    <tr>\n",
       "      <th>0</th>\n",
       "      <td>orcl-vbox1.localdomain.com_VBOXNCDB_091522192456</td>\n",
       "      <td>3275259997</td>\n",
       "      <td>1</td>\n",
       "      <td>0</td>\n",
       "      <td>LOAD</td>\n",
       "      <td>24410</td>\n",
       "      <td>1</td>\n",
       "      <td>0</td>\n",
       "      <td>0</td>\n",
       "      <td>0</td>\n",
       "      <td>0</td>\n",
       "      <td>0</td>\n",
       "      <td>0</td>\n",
       "      <td>0</td>\n",
       "      <td>1</td>\n",
       "      <td>0</td>\n",
       "      <td>1</td>\n",
       "      <td>3</td>\n",
       "      <td>27</td>\n",
       "    </tr>\n",
       "    <tr>\n",
       "      <th>1</th>\n",
       "      <td>orcl-vbox1.localdomain.com_VBOXNCDB_091522192456</td>\n",
       "      <td>3275259997</td>\n",
       "      <td>1</td>\n",
       "      <td>0</td>\n",
       "      <td>NUM_CPUS</td>\n",
       "      <td>24410</td>\n",
       "      <td>4</td>\n",
       "      <td>0</td>\n",
       "      <td>0</td>\n",
       "      <td>0</td>\n",
       "      <td>0</td>\n",
       "      <td>0</td>\n",
       "      <td>0</td>\n",
       "      <td>0</td>\n",
       "      <td>0</td>\n",
       "      <td>0</td>\n",
       "      <td>0</td>\n",
       "      <td>0</td>\n",
       "      <td>27</td>\n",
       "    </tr>\n",
       "    <tr>\n",
       "      <th>2</th>\n",
       "      <td>orcl-vbox1.localdomain.com_VBOXNCDB_091522192456</td>\n",
       "      <td>3275259997</td>\n",
       "      <td>1</td>\n",
       "      <td>0</td>\n",
       "      <td>SYS_TIME</td>\n",
       "      <td>24410</td>\n",
       "      <td>1870375</td>\n",
       "      <td>1864</td>\n",
       "      <td>1806</td>\n",
       "      <td>1941</td>\n",
       "      <td>1941</td>\n",
       "      <td>1984</td>\n",
       "      <td>2001</td>\n",
       "      <td>2022</td>\n",
       "      <td>2029</td>\n",
       "      <td>0</td>\n",
       "      <td>2029</td>\n",
       "      <td>50339</td>\n",
       "      <td>27</td>\n",
       "    </tr>\n",
       "    <tr>\n",
       "      <th>3</th>\n",
       "      <td>orcl-vbox1.localdomain.com_VBOXNCDB_091522192456</td>\n",
       "      <td>3275259997</td>\n",
       "      <td>1</td>\n",
       "      <td>0</td>\n",
       "      <td>BUSY_TIME</td>\n",
       "      <td>24410</td>\n",
       "      <td>13332107</td>\n",
       "      <td>13285</td>\n",
       "      <td>13738</td>\n",
       "      <td>13766</td>\n",
       "      <td>13766</td>\n",
       "      <td>14072</td>\n",
       "      <td>14201</td>\n",
       "      <td>14246</td>\n",
       "      <td>14563</td>\n",
       "      <td>0</td>\n",
       "      <td>14563</td>\n",
       "      <td>358699</td>\n",
       "      <td>27</td>\n",
       "    </tr>\n",
       "    <tr>\n",
       "      <th>4</th>\n",
       "      <td>orcl-vbox1.localdomain.com_VBOXNCDB_091522192456</td>\n",
       "      <td>3275259997</td>\n",
       "      <td>1</td>\n",
       "      <td>0</td>\n",
       "      <td>IDLE_TIME</td>\n",
       "      <td>24410</td>\n",
       "      <td>331317941</td>\n",
       "      <td>331025</td>\n",
       "      <td>0</td>\n",
       "      <td>344606</td>\n",
       "      <td>344606</td>\n",
       "      <td>344949</td>\n",
       "      <td>345596</td>\n",
       "      <td>345947</td>\n",
       "      <td>346108</td>\n",
       "      <td>0</td>\n",
       "      <td>346108</td>\n",
       "      <td>8937687</td>\n",
       "      <td>27</td>\n",
       "    </tr>\n",
       "    <tr>\n",
       "      <th>...</th>\n",
       "      <td>...</td>\n",
       "      <td>...</td>\n",
       "      <td>...</td>\n",
       "      <td>...</td>\n",
       "      <td>...</td>\n",
       "      <td>...</td>\n",
       "      <td>...</td>\n",
       "      <td>...</td>\n",
       "      <td>...</td>\n",
       "      <td>...</td>\n",
       "      <td>...</td>\n",
       "      <td>...</td>\n",
       "      <td>...</td>\n",
       "      <td>...</td>\n",
       "      <td>...</td>\n",
       "      <td>...</td>\n",
       "      <td>...</td>\n",
       "      <td>...</td>\n",
       "      <td>...</td>\n",
       "    </tr>\n",
       "    <tr>\n",
       "      <th>595</th>\n",
       "      <td>orcl-vbox1.localdomain.com_VBOXNCDB_091522192456</td>\n",
       "      <td>3275259997</td>\n",
       "      <td>1</td>\n",
       "      <td>23</td>\n",
       "      <td>PHYSICAL_MEMORY_BYTES</td>\n",
       "      <td>21575</td>\n",
       "      <td>5925134336</td>\n",
       "      <td>0</td>\n",
       "      <td>0</td>\n",
       "      <td>0</td>\n",
       "      <td>0</td>\n",
       "      <td>0</td>\n",
       "      <td>0</td>\n",
       "      <td>0</td>\n",
       "      <td>0</td>\n",
       "      <td>0</td>\n",
       "      <td>0</td>\n",
       "      <td>0</td>\n",
       "      <td>24</td>\n",
       "    </tr>\n",
       "    <tr>\n",
       "      <th>596</th>\n",
       "      <td>orcl-vbox1.localdomain.com_VBOXNCDB_091522192456</td>\n",
       "      <td>3275259997</td>\n",
       "      <td>1</td>\n",
       "      <td>23</td>\n",
       "      <td>TCP_SEND_SIZE_DEFAULT</td>\n",
       "      <td>21575</td>\n",
       "      <td>16384</td>\n",
       "      <td>0</td>\n",
       "      <td>0</td>\n",
       "      <td>0</td>\n",
       "      <td>0</td>\n",
       "      <td>0</td>\n",
       "      <td>0</td>\n",
       "      <td>0</td>\n",
       "      <td>0</td>\n",
       "      <td>0</td>\n",
       "      <td>0</td>\n",
       "      <td>0</td>\n",
       "      <td>24</td>\n",
       "    </tr>\n",
       "    <tr>\n",
       "      <th>597</th>\n",
       "      <td>orcl-vbox1.localdomain.com_VBOXNCDB_091522192456</td>\n",
       "      <td>3275259997</td>\n",
       "      <td>1</td>\n",
       "      <td>23</td>\n",
       "      <td>RSRC_MGR_CPU_WAIT_TIME</td>\n",
       "      <td>21575</td>\n",
       "      <td>1</td>\n",
       "      <td>0</td>\n",
       "      <td>0</td>\n",
       "      <td>0</td>\n",
       "      <td>0</td>\n",
       "      <td>0</td>\n",
       "      <td>0</td>\n",
       "      <td>0</td>\n",
       "      <td>0</td>\n",
       "      <td>0</td>\n",
       "      <td>0</td>\n",
       "      <td>0</td>\n",
       "      <td>24</td>\n",
       "    </tr>\n",
       "    <tr>\n",
       "      <th>598</th>\n",
       "      <td>orcl-vbox1.localdomain.com_VBOXNCDB_091522192456</td>\n",
       "      <td>3275259997</td>\n",
       "      <td>1</td>\n",
       "      <td>23</td>\n",
       "      <td>GLOBAL_RECEIVE_SIZE_MAX</td>\n",
       "      <td>21575</td>\n",
       "      <td>4194304</td>\n",
       "      <td>0</td>\n",
       "      <td>0</td>\n",
       "      <td>0</td>\n",
       "      <td>0</td>\n",
       "      <td>0</td>\n",
       "      <td>0</td>\n",
       "      <td>0</td>\n",
       "      <td>0</td>\n",
       "      <td>0</td>\n",
       "      <td>0</td>\n",
       "      <td>0</td>\n",
       "      <td>24</td>\n",
       "    </tr>\n",
       "    <tr>\n",
       "      <th>599</th>\n",
       "      <td>orcl-vbox1.localdomain.com_VBOXNCDB_091522192456</td>\n",
       "      <td>3275259997</td>\n",
       "      <td>1</td>\n",
       "      <td>23</td>\n",
       "      <td>TCP_RECEIVE_SIZE_DEFAULT</td>\n",
       "      <td>21575</td>\n",
       "      <td>131072</td>\n",
       "      <td>0</td>\n",
       "      <td>0</td>\n",
       "      <td>0</td>\n",
       "      <td>0</td>\n",
       "      <td>0</td>\n",
       "      <td>0</td>\n",
       "      <td>0</td>\n",
       "      <td>0</td>\n",
       "      <td>0</td>\n",
       "      <td>0</td>\n",
       "      <td>0</td>\n",
       "      <td>24</td>\n",
       "    </tr>\n",
       "  </tbody>\n",
       "</table>\n",
       "<p>600 rows × 19 columns</p>\n",
       "</div>"
      ],
      "text/plain": [
       "                                                 PKEY        DBID  \\\n",
       "0    orcl-vbox1.localdomain.com_VBOXNCDB_091522192456  3275259997   \n",
       "1    orcl-vbox1.localdomain.com_VBOXNCDB_091522192456  3275259997   \n",
       "2    orcl-vbox1.localdomain.com_VBOXNCDB_091522192456  3275259997   \n",
       "3    orcl-vbox1.localdomain.com_VBOXNCDB_091522192456  3275259997   \n",
       "4    orcl-vbox1.localdomain.com_VBOXNCDB_091522192456  3275259997   \n",
       "..                                                ...         ...   \n",
       "595  orcl-vbox1.localdomain.com_VBOXNCDB_091522192456  3275259997   \n",
       "596  orcl-vbox1.localdomain.com_VBOXNCDB_091522192456  3275259997   \n",
       "597  orcl-vbox1.localdomain.com_VBOXNCDB_091522192456  3275259997   \n",
       "598  orcl-vbox1.localdomain.com_VBOXNCDB_091522192456  3275259997   \n",
       "599  orcl-vbox1.localdomain.com_VBOXNCDB_091522192456  3275259997   \n",
       "\n",
       "     INSTANCE_NUMBER  HH24                 STAT_NAME  HH24_TOTAL_SECS  \\\n",
       "0                  1     0                      LOAD            24410   \n",
       "1                  1     0                  NUM_CPUS            24410   \n",
       "2                  1     0                  SYS_TIME            24410   \n",
       "3                  1     0                 BUSY_TIME            24410   \n",
       "4                  1     0                 IDLE_TIME            24410   \n",
       "..               ...   ...                       ...              ...   \n",
       "595                1    23     PHYSICAL_MEMORY_BYTES            21575   \n",
       "596                1    23     TCP_SEND_SIZE_DEFAULT            21575   \n",
       "597                1    23    RSRC_MGR_CPU_WAIT_TIME            21575   \n",
       "598                1    23   GLOBAL_RECEIVE_SIZE_MAX            21575   \n",
       "599                1    23  TCP_RECEIVE_SIZE_DEFAULT            21575   \n",
       "\n",
       "     CUMULATIVE_VALUE  AVG_VALUE  MODE_VALUE  MEDIAN_VALUE  PERC50  PERC75  \\\n",
       "0                   1          0           0             0       0       0   \n",
       "1                   4          0           0             0       0       0   \n",
       "2             1870375       1864        1806          1941    1941    1984   \n",
       "3            13332107      13285       13738         13766   13766   14072   \n",
       "4           331317941     331025           0        344606  344606  344949   \n",
       "..                ...        ...         ...           ...     ...     ...   \n",
       "595        5925134336          0           0             0       0       0   \n",
       "596             16384          0           0             0       0       0   \n",
       "597                 1          0           0             0       0       0   \n",
       "598           4194304          0           0             0       0       0   \n",
       "599            131072          0           0             0       0       0   \n",
       "\n",
       "     PERC90  PERC95  PERC100  MIN_VALUE  MAX_VALUE  SUM_VALUE  COUNT  \n",
       "0         0       0        1          0          1          3     27  \n",
       "1         0       0        0          0          0          0     27  \n",
       "2      2001    2022     2029          0       2029      50339     27  \n",
       "3     14201   14246    14563          0      14563     358699     27  \n",
       "4    345596  345947   346108          0     346108    8937687     27  \n",
       "..      ...     ...      ...        ...        ...        ...    ...  \n",
       "595       0       0        0          0          0          0     24  \n",
       "596       0       0        0          0          0          0     24  \n",
       "597       0       0        0          0          0          0     24  \n",
       "598       0       0        0          0          0          0     24  \n",
       "599       0       0        0          0          0          0     24  \n",
       "\n",
       "[600 rows x 19 columns]"
      ]
     },
     "execution_count": 7,
     "metadata": {},
     "output_type": "execute_result"
    }
   ],
   "source": [
    "%%sql\n",
    "CREATE or replace table AWRHISTOSSTAT (\n",
    "    PKEY VARCHAR(256),\n",
    "    DBID BIGINT,\n",
    "    INSTANCE_NUMBER SMALLINT,\n",
    "    HH24 SMALLINT,\n",
    "    STAT_NAME VARCHAR(64),\n",
    "    HH24_TOTAL_SECS BIGINT,\n",
    "    CUMULATIVE_VALUE BIGINT,\n",
    "    AVG_VALUE BIGINT,\n",
    "    MODE_VALUE BIGINT,\n",
    "    MEDIAN_VALUE BIGINT,\n",
    "    PERC50 BIGINT,\n",
    "    PERC75 BIGINT,\n",
    "    PERC90 BIGINT,\n",
    "    PERC95 BIGINT,\n",
    "    PERC100 BIGINT,\n",
    "    MIN_VALUE BIGINT,\n",
    "    MAX_VALUE BIGINT,\n",
    "    SUM_VALUE BIGINT,\n",
    "    COUNT BIGINT\n",
    ");\n",
    "insert into AWRHISTOSSTAT\n",
    "select * from read_csv_auto('data/opdb__awrhistosstat__*.csv', delim='|', header=True);\n",
    "select * from AWRHISTOSSTAT"
   ]
  },
  {
   "cell_type": "code",
   "execution_count": null,
   "metadata": {},
   "outputs": [],
   "source": [
    "%%sql\n",
    "create or replace view test_view as\n",
    "select * from read_csv_auto('data/opdb__awrhistosstat__190_2.0.6_orcl-vbox1.localdomain.com.VBOXNCDB.vboxncdb1.091522192456.csv', delim='|', header=True, filename=True, normalize_names=True, sample_size=-1 );\n",
    "describe select * from read_csv_auto('data/opdb__awrhistosstat__190_2.0.6_orcl-vbox1.localdomain.com.VBOXNCDB.vboxncdb1.091522192456.csv', delim='|', header=True, filename=True, normalize_names=True, sample_size=-1 );"
   ]
  },
  {
   "cell_type": "code",
   "execution_count": null,
   "metadata": {},
   "outputs": [],
   "source": [
    "%%sql\n",
    "select * from information_schema.tables"
   ]
  },
  {
   "cell_type": "code",
   "execution_count": null,
   "metadata": {},
   "outputs": [],
   "source": [
    "%%sql\n",
    "describe DBINSTANCES"
   ]
  },
  {
   "cell_type": "code",
   "execution_count": null,
   "metadata": {},
   "outputs": [],
   "source": [
    "%%sql\n",
    "select * from T_DS_CPU_CALC"
   ]
  }
 ],
 "metadata": {
  "kernelspec": {
   "display_name": "Python 3.10.7 ('.venv': poetry)",
   "language": "python",
   "name": "python3"
  },
  "language_info": {
   "codemirror_mode": {
    "name": "ipython",
    "version": 3
   },
   "file_extension": ".py",
   "mimetype": "text/x-python",
   "name": "python",
   "nbconvert_exporter": "python",
   "pygments_lexer": "ipython3",
   "version": "3.10.7"
  },
  "orig_nbformat": 4,
  "vscode": {
   "interpreter": {
    "hash": "3575de445ae6a287700626195c285b914b489bc90953abc6d5c378a3c31371e8"
   }
  }
 },
 "nbformat": 4,
 "nbformat_minor": 2
}
