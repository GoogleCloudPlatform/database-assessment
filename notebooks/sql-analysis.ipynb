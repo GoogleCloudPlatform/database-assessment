{
 "cells": [
  {
   "cell_type": "code",
   "execution_count": 5,
   "metadata": {},
   "outputs": [
    {
     "name": "stdout",
     "output_type": "stream",
     "text": [
      "The sql extension is already loaded. To reload it, use:\n",
      "  %reload_ext sql\n"
     ]
    },
    {
     "data": {
      "text/html": [
       "<pre style=\"white-space:pre;overflow-x:auto;line-height:normal;font-family:Menlo,'DejaVu Sans Mono',consolas,'Courier New',monospace\"><span style=\"color: #7fbfbf; text-decoration-color: #7fbfbf\">[10/19/22 23:46:49] </span><span style=\"color: #000080; text-decoration-color: #000080\">INFO    </span> launching Collection loader against <span style=\"color: #800080; text-decoration-color: #800080; font-style: italic\">None</span> Google Cloud Project             <a href=\"file:///usr/local/google/home/codyfincher/Code/database-tools/oracle-database-assessment/src/server/dbma/transformer/engine.py\" target=\"_blank\"><span style=\"color: #7f7f7f; text-decoration-color: #7f7f7f\">engine.py</span></a><span style=\"color: #7f7f7f; text-decoration-color: #7f7f7f\">:</span><a href=\"file:///usr/local/google/home/codyfincher/Code/database-tools/oracle-database-assessment/src/server/dbma/transformer/engine.py#26\" target=\"_blank\"><span style=\"color: #7f7f7f; text-decoration-color: #7f7f7f\">26</span></a>\n",
       "</pre>\n"
      ],
      "text/plain": [
       "\u001b[2;36m[10/19/22 23:46:49]\u001b[0m\u001b[2;36m \u001b[0m\u001b[34mINFO    \u001b[0m launching Collection loader against \u001b[3;35mNone\u001b[0m Google Cloud Project             \u001b]8;id=709248;file:///usr/local/google/home/codyfincher/Code/database-tools/oracle-database-assessment/src/server/dbma/transformer/engine.py\u001b\\\u001b[2mengine.py\u001b[0m\u001b]8;;\u001b\\\u001b[2m:\u001b[0m\u001b]8;id=631114;file:///usr/local/google/home/codyfincher/Code/database-tools/oracle-database-assessment/src/server/dbma/transformer/engine.py#26\u001b\\\u001b[2m26\u001b[0m\u001b]8;;\u001b\\\n"
      ]
     },
     "metadata": {},
     "output_type": "display_data"
    },
    {
     "data": {
      "text/html": [
       "<pre style=\"white-space:pre;overflow-x:auto;line-height:normal;font-family:Menlo,'DejaVu Sans Mono',consolas,'Courier New',monospace\"><span style=\"color: #7fbfbf; text-decoration-color: #7fbfbf\">[10/19/22 23:46:49] </span><span style=\"color: #000080; text-decoration-color: #000080\">INFO    </span> 🔎 Searching for collection archives in the specified directory           <a href=\"file:///usr/local/google/home/codyfincher/Code/database-tools/oracle-database-assessment/src/server/dbma/transformer/engine.py\" target=\"_blank\"><span style=\"color: #7f7f7f; text-decoration-color: #7f7f7f\">engine.py</span></a><span style=\"color: #7f7f7f; text-decoration-color: #7f7f7f\">:</span><a href=\"file:///usr/local/google/home/codyfincher/Code/database-tools/oracle-database-assessment/src/server/dbma/transformer/engine.py#30\" target=\"_blank\"><span style=\"color: #7f7f7f; text-decoration-color: #7f7f7f\">30</span></a>\n",
       "</pre>\n"
      ],
      "text/plain": [
       "\u001b[2;36m[10/19/22 23:46:49]\u001b[0m\u001b[2;36m \u001b[0m\u001b[34mINFO    \u001b[0m 🔎 Searching for collection archives in the specified directory           \u001b]8;id=587334;file:///usr/local/google/home/codyfincher/Code/database-tools/oracle-database-assessment/src/server/dbma/transformer/engine.py\u001b\\\u001b[2mengine.py\u001b[0m\u001b]8;;\u001b\\\u001b[2m:\u001b[0m\u001b]8;id=326169;file:///usr/local/google/home/codyfincher/Code/database-tools/oracle-database-assessment/src/server/dbma/transformer/engine.py#30\u001b\\\u001b[2m30\u001b[0m\u001b]8;;\u001b\\\n"
      ]
     },
     "metadata": {},
     "output_type": "display_data"
    },
    {
     "data": {
      "text/html": [
       "<pre style=\"white-space:pre;overflow-x:auto;line-height:normal;font-family:Menlo,'DejaVu Sans Mono',consolas,'Courier New',monospace\"><span style=\"color: #7fbfbf; text-decoration-color: #7fbfbf\">[10/19/22 23:46:52] </span><span style=\"color: #000080; text-decoration-color: #000080\">INFO    </span> ℹ️  detected version <span style=\"color: #008000; text-decoration-color: #008000\">\"2.0.6\"</span> from the collection name                     <a href=\"file:///usr/local/google/home/codyfincher/Code/database-tools/oracle-database-assessment/src/server/dbma/transformer/engine.py\" target=\"_blank\"><span style=\"color: #7f7f7f; text-decoration-color: #7f7f7f\">engine.py</span></a><span style=\"color: #7f7f7f; text-decoration-color: #7f7f7f\">:</span><a href=\"file:///usr/local/google/home/codyfincher/Code/database-tools/oracle-database-assessment/src/server/dbma/transformer/engine.py#123\" target=\"_blank\"><span style=\"color: #7f7f7f; text-decoration-color: #7f7f7f\">123</span></a>\n",
       "</pre>\n"
      ],
      "text/plain": [
       "\u001b[2;36m[10/19/22 23:46:52]\u001b[0m\u001b[2;36m \u001b[0m\u001b[34mINFO    \u001b[0m ℹ️  detected version \u001b[32m\"2.0.6\"\u001b[0m from the collection name                     \u001b]8;id=996198;file:///usr/local/google/home/codyfincher/Code/database-tools/oracle-database-assessment/src/server/dbma/transformer/engine.py\u001b\\\u001b[2mengine.py\u001b[0m\u001b]8;;\u001b\\\u001b[2m:\u001b[0m\u001b]8;id=340120;file:///usr/local/google/home/codyfincher/Code/database-tools/oracle-database-assessment/src/server/dbma/transformer/engine.py#123\u001b\\\u001b[2m123\u001b[0m\u001b]8;;\u001b\\\n"
      ]
     },
     "metadata": {},
     "output_type": "display_data"
    },
    {
     "data": {
      "text/html": [
       "<pre style=\"white-space:pre;overflow-x:auto;line-height:normal;font-family:Menlo,'DejaVu Sans Mono',consolas,'Courier New',monospace\"><span style=\"color: #7fbfbf; text-decoration-color: #7fbfbf\">[10/19/22 23:46:52] </span><span style=\"color: #000080; text-decoration-color: #000080\">INFO    </span> 🔎 searching opdb__190_2.<span style=\"color: #008080; text-decoration-color: #008080; font-weight: bold\">0.</span>6_19c.sample.localhost.<span style=\"color: #008080; text-decoration-color: #008080; font-weight: bold\">091522192456.</span>tar.gz    <a href=\"file:///usr/local/google/home/codyfincher/Code/database-tools/oracle-database-assessment/src/server/dbma/transformer/engine.py\" target=\"_blank\"><span style=\"color: #7f7f7f; text-decoration-color: #7f7f7f\">engine.py</span></a><span style=\"color: #7f7f7f; text-decoration-color: #7f7f7f\">:</span><a href=\"file:///usr/local/google/home/codyfincher/Code/database-tools/oracle-database-assessment/src/server/dbma/transformer/engine.py#168\" target=\"_blank\"><span style=\"color: #7f7f7f; text-decoration-color: #7f7f7f\">168</span></a>\n",
       "<span style=\"color: #7fbfbf; text-decoration-color: #7fbfbf\">                    </span>         for files and extracting to <span style=\"color: #800080; text-decoration-color: #800080\">/tmp/</span><span style=\"color: #ff00ff; text-decoration-color: #ff00ff\">tmpy83ko7y0</span>                             <span style=\"color: #7f7f7f; text-decoration-color: #7f7f7f\">             </span>\n",
       "</pre>\n"
      ],
      "text/plain": [
       "\u001b[2;36m[10/19/22 23:46:52]\u001b[0m\u001b[2;36m \u001b[0m\u001b[34mINFO    \u001b[0m 🔎 searching opdb__190_2.\u001b[1;36m0.\u001b[0m6_19c.sample.localhost.\u001b[1;36m091522192456.\u001b[0mtar.gz    \u001b]8;id=441389;file:///usr/local/google/home/codyfincher/Code/database-tools/oracle-database-assessment/src/server/dbma/transformer/engine.py\u001b\\\u001b[2mengine.py\u001b[0m\u001b]8;;\u001b\\\u001b[2m:\u001b[0m\u001b]8;id=346355;file:///usr/local/google/home/codyfincher/Code/database-tools/oracle-database-assessment/src/server/dbma/transformer/engine.py#168\u001b\\\u001b[2m168\u001b[0m\u001b]8;;\u001b\\\n",
       "\u001b[2;36m                    \u001b[0m         for files and extracting to \u001b[35m/tmp/\u001b[0m\u001b[95mtmpy83ko7y0\u001b[0m                             \u001b[2m             \u001b[0m\n"
      ]
     },
     "metadata": {},
     "output_type": "display_data"
    },
    {
     "data": {
      "text/html": [
       "<pre style=\"white-space:pre;overflow-x:auto;line-height:normal;font-family:Menlo,'DejaVu Sans Mono',consolas,'Courier New',monospace\"><span style=\"color: #7fbfbf; text-decoration-color: #7fbfbf\">[10/19/22 23:46:52] </span><span style=\"color: #000080; text-decoration-color: #000080\">INFO    </span> renamed <span style=\"color: #008080; text-decoration-color: #008080; font-weight: bold\">0</span> files in collection <span style=\"color: #008080; text-decoration-color: #008080; font-weight: bold\">091522192456</span>                               <a href=\"file:///usr/local/google/home/codyfincher/Code/database-tools/oracle-database-assessment/src/server/dbma/transformer/engine.py\" target=\"_blank\"><span style=\"color: #7f7f7f; text-decoration-color: #7f7f7f\">engine.py</span></a><span style=\"color: #7f7f7f; text-decoration-color: #7f7f7f\">:</span><a href=\"file:///usr/local/google/home/codyfincher/Code/database-tools/oracle-database-assessment/src/server/dbma/transformer/engine.py#178\" target=\"_blank\"><span style=\"color: #7f7f7f; text-decoration-color: #7f7f7f\">178</span></a>\n",
       "</pre>\n"
      ],
      "text/plain": [
       "\u001b[2;36m[10/19/22 23:46:52]\u001b[0m\u001b[2;36m \u001b[0m\u001b[34mINFO    \u001b[0m renamed \u001b[1;36m0\u001b[0m files in collection \u001b[1;36m091522192456\u001b[0m                               \u001b]8;id=945849;file:///usr/local/google/home/codyfincher/Code/database-tools/oracle-database-assessment/src/server/dbma/transformer/engine.py\u001b\\\u001b[2mengine.py\u001b[0m\u001b]8;;\u001b\\\u001b[2m:\u001b[0m\u001b]8;id=287244;file:///usr/local/google/home/codyfincher/Code/database-tools/oracle-database-assessment/src/server/dbma/transformer/engine.py#178\u001b\\\u001b[2m178\u001b[0m\u001b]8;;\u001b\\\n"
      ]
     },
     "metadata": {},
     "output_type": "display_data"
    },
    {
     "data": {
      "text/html": [
       "<pre style=\"white-space:pre;overflow-x:auto;line-height:normal;font-family:Menlo,'DejaVu Sans Mono',consolas,'Courier New',monospace\"><span style=\"color: #7fbfbf; text-decoration-color: #7fbfbf\">[10/19/22 23:46:52] </span><span style=\"color: #000080; text-decoration-color: #000080\">INFO    </span> completed preprocessing for collection <span style=\"color: #008080; text-decoration-color: #008080; font-weight: bold\">091522192456</span>                      <a href=\"file:///usr/local/google/home/codyfincher/Code/database-tools/oracle-database-assessment/src/server/dbma/transformer/engine.py\" target=\"_blank\"><span style=\"color: #7f7f7f; text-decoration-color: #7f7f7f\">engine.py</span></a><span style=\"color: #7f7f7f; text-decoration-color: #7f7f7f\">:</span><a href=\"file:///usr/local/google/home/codyfincher/Code/database-tools/oracle-database-assessment/src/server/dbma/transformer/engine.py#189\" target=\"_blank\"><span style=\"color: #7f7f7f; text-decoration-color: #7f7f7f\">189</span></a>\n",
       "</pre>\n"
      ],
      "text/plain": [
       "\u001b[2;36m[10/19/22 23:46:52]\u001b[0m\u001b[2;36m \u001b[0m\u001b[34mINFO    \u001b[0m completed preprocessing for collection \u001b[1;36m091522192456\u001b[0m                      \u001b]8;id=388967;file:///usr/local/google/home/codyfincher/Code/database-tools/oracle-database-assessment/src/server/dbma/transformer/engine.py\u001b\\\u001b[2mengine.py\u001b[0m\u001b]8;;\u001b\\\u001b[2m:\u001b[0m\u001b]8;id=841465;file:///usr/local/google/home/codyfincher/Code/database-tools/oracle-database-assessment/src/server/dbma/transformer/engine.py#189\u001b\\\u001b[2m189\u001b[0m\u001b]8;;\u001b\\\n"
      ]
     },
     "metadata": {},
     "output_type": "display_data"
    },
    {
     "data": {
      "text/html": [
       "<pre style=\"white-space:pre;overflow-x:auto;line-height:normal;font-family:Menlo,'DejaVu Sans Mono',consolas,'Courier New',monospace\"><span style=\"color: #7fbfbf; text-decoration-color: #7fbfbf\">[10/19/22 23:46:52] </span><span style=\"color: #000080; text-decoration-color: #000080\">INFO    </span> ℹ️  detected version <span style=\"color: #008000; text-decoration-color: #008000\">\"3.0.4\"</span> from the collection name                     <a href=\"file:///usr/local/google/home/codyfincher/Code/database-tools/oracle-database-assessment/src/server/dbma/transformer/engine.py\" target=\"_blank\"><span style=\"color: #7f7f7f; text-decoration-color: #7f7f7f\">engine.py</span></a><span style=\"color: #7f7f7f; text-decoration-color: #7f7f7f\">:</span><a href=\"file:///usr/local/google/home/codyfincher/Code/database-tools/oracle-database-assessment/src/server/dbma/transformer/engine.py#123\" target=\"_blank\"><span style=\"color: #7f7f7f; text-decoration-color: #7f7f7f\">123</span></a>\n",
       "</pre>\n"
      ],
      "text/plain": [
       "\u001b[2;36m[10/19/22 23:46:52]\u001b[0m\u001b[2;36m \u001b[0m\u001b[34mINFO    \u001b[0m ℹ️  detected version \u001b[32m\"3.0.4\"\u001b[0m from the collection name                     \u001b]8;id=298474;file:///usr/local/google/home/codyfincher/Code/database-tools/oracle-database-assessment/src/server/dbma/transformer/engine.py\u001b\\\u001b[2mengine.py\u001b[0m\u001b]8;;\u001b\\\u001b[2m:\u001b[0m\u001b]8;id=700181;file:///usr/local/google/home/codyfincher/Code/database-tools/oracle-database-assessment/src/server/dbma/transformer/engine.py#123\u001b\\\u001b[2m123\u001b[0m\u001b]8;;\u001b\\\n"
      ]
     },
     "metadata": {},
     "output_type": "display_data"
    },
    {
     "data": {
      "text/html": [
       "<pre style=\"white-space:pre;overflow-x:auto;line-height:normal;font-family:Menlo,'DejaVu Sans Mono',consolas,'Courier New',monospace\"><span style=\"color: #7fbfbf; text-decoration-color: #7fbfbf\">[10/19/22 23:46:52] </span><span style=\"color: #000080; text-decoration-color: #000080\">INFO    </span> 🔎 searching                                                             <a href=\"file:///usr/local/google/home/codyfincher/Code/database-tools/oracle-database-assessment/src/server/dbma/transformer/engine.py\" target=\"_blank\"><span style=\"color: #7f7f7f; text-decoration-color: #7f7f7f\">engine.py</span></a><span style=\"color: #7f7f7f; text-decoration-color: #7f7f7f\">:</span><a href=\"file:///usr/local/google/home/codyfincher/Code/database-tools/oracle-database-assessment/src/server/dbma/transformer/engine.py#168\" target=\"_blank\"><span style=\"color: #7f7f7f; text-decoration-color: #7f7f7f\">168</span></a>\n",
       "<span style=\"color: #7fbfbf; text-decoration-color: #7fbfbf\">                    </span>         opdb__112_3.<span style=\"color: #008080; text-decoration-color: #008080; font-weight: bold\">0.</span>4_db2.wpuziewicz.com_O11WP_o11wp1_101722085035.tgz for     <span style=\"color: #7f7f7f; text-decoration-color: #7f7f7f\">             </span>\n",
       "<span style=\"color: #7fbfbf; text-decoration-color: #7fbfbf\">                    </span>         files and extracting to <span style=\"color: #800080; text-decoration-color: #800080\">/tmp/</span><span style=\"color: #ff00ff; text-decoration-color: #ff00ff\">tmpy83ko7y0</span>                                 <span style=\"color: #7f7f7f; text-decoration-color: #7f7f7f\">             </span>\n",
       "</pre>\n"
      ],
      "text/plain": [
       "\u001b[2;36m[10/19/22 23:46:52]\u001b[0m\u001b[2;36m \u001b[0m\u001b[34mINFO    \u001b[0m 🔎 searching                                                             \u001b]8;id=667791;file:///usr/local/google/home/codyfincher/Code/database-tools/oracle-database-assessment/src/server/dbma/transformer/engine.py\u001b\\\u001b[2mengine.py\u001b[0m\u001b]8;;\u001b\\\u001b[2m:\u001b[0m\u001b]8;id=835958;file:///usr/local/google/home/codyfincher/Code/database-tools/oracle-database-assessment/src/server/dbma/transformer/engine.py#168\u001b\\\u001b[2m168\u001b[0m\u001b]8;;\u001b\\\n",
       "\u001b[2;36m                    \u001b[0m         opdb__112_3.\u001b[1;36m0.\u001b[0m4_db2.wpuziewicz.com_O11WP_o11wp1_101722085035.tgz for     \u001b[2m             \u001b[0m\n",
       "\u001b[2;36m                    \u001b[0m         files and extracting to \u001b[35m/tmp/\u001b[0m\u001b[95mtmpy83ko7y0\u001b[0m                                 \u001b[2m             \u001b[0m\n"
      ]
     },
     "metadata": {},
     "output_type": "display_data"
    },
    {
     "data": {
      "text/html": [
       "<pre style=\"white-space:pre;overflow-x:auto;line-height:normal;font-family:Menlo,'DejaVu Sans Mono',consolas,'Courier New',monospace\"><span style=\"color: #7fbfbf; text-decoration-color: #7fbfbf\">[10/19/22 23:46:52] </span><span style=\"color: #000080; text-decoration-color: #000080\">INFO    </span> renamed <span style=\"color: #008080; text-decoration-color: #008080; font-weight: bold\">0</span> files in collection com_O11WP_o11wp1_101722085035              <a href=\"file:///usr/local/google/home/codyfincher/Code/database-tools/oracle-database-assessment/src/server/dbma/transformer/engine.py\" target=\"_blank\"><span style=\"color: #7f7f7f; text-decoration-color: #7f7f7f\">engine.py</span></a><span style=\"color: #7f7f7f; text-decoration-color: #7f7f7f\">:</span><a href=\"file:///usr/local/google/home/codyfincher/Code/database-tools/oracle-database-assessment/src/server/dbma/transformer/engine.py#178\" target=\"_blank\"><span style=\"color: #7f7f7f; text-decoration-color: #7f7f7f\">178</span></a>\n",
       "</pre>\n"
      ],
      "text/plain": [
       "\u001b[2;36m[10/19/22 23:46:52]\u001b[0m\u001b[2;36m \u001b[0m\u001b[34mINFO    \u001b[0m renamed \u001b[1;36m0\u001b[0m files in collection com_O11WP_o11wp1_101722085035              \u001b]8;id=567203;file:///usr/local/google/home/codyfincher/Code/database-tools/oracle-database-assessment/src/server/dbma/transformer/engine.py\u001b\\\u001b[2mengine.py\u001b[0m\u001b]8;;\u001b\\\u001b[2m:\u001b[0m\u001b]8;id=568841;file:///usr/local/google/home/codyfincher/Code/database-tools/oracle-database-assessment/src/server/dbma/transformer/engine.py#178\u001b\\\u001b[2m178\u001b[0m\u001b]8;;\u001b\\\n"
      ]
     },
     "metadata": {},
     "output_type": "display_data"
    },
    {
     "data": {
      "text/html": [
       "<pre style=\"white-space:pre;overflow-x:auto;line-height:normal;font-family:Menlo,'DejaVu Sans Mono',consolas,'Courier New',monospace\"><span style=\"color: #7fbfbf; text-decoration-color: #7fbfbf\">[10/19/22 23:46:52] </span><span style=\"color: #000080; text-decoration-color: #000080\">INFO    </span> completed preprocessing for collection com_O11WP_o11wp1_101722085035     <a href=\"file:///usr/local/google/home/codyfincher/Code/database-tools/oracle-database-assessment/src/server/dbma/transformer/engine.py\" target=\"_blank\"><span style=\"color: #7f7f7f; text-decoration-color: #7f7f7f\">engine.py</span></a><span style=\"color: #7f7f7f; text-decoration-color: #7f7f7f\">:</span><a href=\"file:///usr/local/google/home/codyfincher/Code/database-tools/oracle-database-assessment/src/server/dbma/transformer/engine.py#189\" target=\"_blank\"><span style=\"color: #7f7f7f; text-decoration-color: #7f7f7f\">189</span></a>\n",
       "</pre>\n"
      ],
      "text/plain": [
       "\u001b[2;36m[10/19/22 23:46:52]\u001b[0m\u001b[2;36m \u001b[0m\u001b[34mINFO    \u001b[0m completed preprocessing for collection com_O11WP_o11wp1_101722085035     \u001b]8;id=870348;file:///usr/local/google/home/codyfincher/Code/database-tools/oracle-database-assessment/src/server/dbma/transformer/engine.py\u001b\\\u001b[2mengine.py\u001b[0m\u001b]8;;\u001b\\\u001b[2m:\u001b[0m\u001b]8;id=950313;file:///usr/local/google/home/codyfincher/Code/database-tools/oracle-database-assessment/src/server/dbma/transformer/engine.py#189\u001b\\\u001b[2m189\u001b[0m\u001b]8;;\u001b\\\n"
      ]
     },
     "metadata": {},
     "output_type": "display_data"
    },
    {
     "data": {
      "text/html": [
       "<pre style=\"white-space:pre;overflow-x:auto;line-height:normal;font-family:Menlo,'DejaVu Sans Mono',consolas,'Courier New',monospace\"><span style=\"color: #7fbfbf; text-decoration-color: #7fbfbf\">[10/19/22 23:46:52] </span><span style=\"color: #000080; text-decoration-color: #000080\">INFO    </span> ℹ️  detected version <span style=\"color: #008000; text-decoration-color: #008000\">\"3.0.6\"</span> from the collection name                     <a href=\"file:///usr/local/google/home/codyfincher/Code/database-tools/oracle-database-assessment/src/server/dbma/transformer/engine.py\" target=\"_blank\"><span style=\"color: #7f7f7f; text-decoration-color: #7f7f7f\">engine.py</span></a><span style=\"color: #7f7f7f; text-decoration-color: #7f7f7f\">:</span><a href=\"file:///usr/local/google/home/codyfincher/Code/database-tools/oracle-database-assessment/src/server/dbma/transformer/engine.py#123\" target=\"_blank\"><span style=\"color: #7f7f7f; text-decoration-color: #7f7f7f\">123</span></a>\n",
       "</pre>\n"
      ],
      "text/plain": [
       "\u001b[2;36m[10/19/22 23:46:52]\u001b[0m\u001b[2;36m \u001b[0m\u001b[34mINFO    \u001b[0m ℹ️  detected version \u001b[32m\"3.0.6\"\u001b[0m from the collection name                     \u001b]8;id=181252;file:///usr/local/google/home/codyfincher/Code/database-tools/oracle-database-assessment/src/server/dbma/transformer/engine.py\u001b\\\u001b[2mengine.py\u001b[0m\u001b]8;;\u001b\\\u001b[2m:\u001b[0m\u001b]8;id=412264;file:///usr/local/google/home/codyfincher/Code/database-tools/oracle-database-assessment/src/server/dbma/transformer/engine.py#123\u001b\\\u001b[2m123\u001b[0m\u001b]8;;\u001b\\\n"
      ]
     },
     "metadata": {},
     "output_type": "display_data"
    },
    {
     "data": {
      "text/html": [
       "<pre style=\"white-space:pre;overflow-x:auto;line-height:normal;font-family:Menlo,'DejaVu Sans Mono',consolas,'Courier New',monospace\"><span style=\"color: #7fbfbf; text-decoration-color: #7fbfbf\">[10/19/22 23:46:52] </span><span style=\"color: #000080; text-decoration-color: #000080\">INFO    </span> 🔎 searching                                                             <a href=\"file:///usr/local/google/home/codyfincher/Code/database-tools/oracle-database-assessment/src/server/dbma/transformer/engine.py\" target=\"_blank\"><span style=\"color: #7f7f7f; text-decoration-color: #7f7f7f\">engine.py</span></a><span style=\"color: #7f7f7f; text-decoration-color: #7f7f7f\">:</span><a href=\"file:///usr/local/google/home/codyfincher/Code/database-tools/oracle-database-assessment/src/server/dbma/transformer/engine.py#168\" target=\"_blank\"><span style=\"color: #7f7f7f; text-decoration-color: #7f7f7f\">168</span></a>\n",
       "<span style=\"color: #7fbfbf; text-decoration-color: #7fbfbf\">                    </span>         opdb__190_3.<span style=\"color: #008080; text-decoration-color: #008080; font-weight: bold\">0.</span>6_exuat201vm2.wm.cginet_LATUAT_LATUAT1_101122191546.tgz    <span style=\"color: #7f7f7f; text-decoration-color: #7f7f7f\">             </span>\n",
       "<span style=\"color: #7fbfbf; text-decoration-color: #7fbfbf\">                    </span>         for files and extracting to <span style=\"color: #800080; text-decoration-color: #800080\">/tmp/</span><span style=\"color: #ff00ff; text-decoration-color: #ff00ff\">tmpy83ko7y0</span>                             <span style=\"color: #7f7f7f; text-decoration-color: #7f7f7f\">             </span>\n",
       "</pre>\n"
      ],
      "text/plain": [
       "\u001b[2;36m[10/19/22 23:46:52]\u001b[0m\u001b[2;36m \u001b[0m\u001b[34mINFO    \u001b[0m 🔎 searching                                                             \u001b]8;id=718228;file:///usr/local/google/home/codyfincher/Code/database-tools/oracle-database-assessment/src/server/dbma/transformer/engine.py\u001b\\\u001b[2mengine.py\u001b[0m\u001b]8;;\u001b\\\u001b[2m:\u001b[0m\u001b]8;id=174469;file:///usr/local/google/home/codyfincher/Code/database-tools/oracle-database-assessment/src/server/dbma/transformer/engine.py#168\u001b\\\u001b[2m168\u001b[0m\u001b]8;;\u001b\\\n",
       "\u001b[2;36m                    \u001b[0m         opdb__190_3.\u001b[1;36m0.\u001b[0m6_exuat201vm2.wm.cginet_LATUAT_LATUAT1_101122191546.tgz    \u001b[2m             \u001b[0m\n",
       "\u001b[2;36m                    \u001b[0m         for files and extracting to \u001b[35m/tmp/\u001b[0m\u001b[95mtmpy83ko7y0\u001b[0m                             \u001b[2m             \u001b[0m\n"
      ]
     },
     "metadata": {},
     "output_type": "display_data"
    },
    {
     "data": {
      "text/html": [
       "<pre style=\"white-space:pre;overflow-x:auto;line-height:normal;font-family:Menlo,'DejaVu Sans Mono',consolas,'Courier New',monospace\"><span style=\"color: #7fbfbf; text-decoration-color: #7fbfbf\">[10/19/22 23:46:52] </span><span style=\"color: #000080; text-decoration-color: #000080\">INFO    </span> renamed <span style=\"color: #008080; text-decoration-color: #008080; font-weight: bold\">0</span> files in collection cginet_LATUAT_LATUAT1_101122191546         <a href=\"file:///usr/local/google/home/codyfincher/Code/database-tools/oracle-database-assessment/src/server/dbma/transformer/engine.py\" target=\"_blank\"><span style=\"color: #7f7f7f; text-decoration-color: #7f7f7f\">engine.py</span></a><span style=\"color: #7f7f7f; text-decoration-color: #7f7f7f\">:</span><a href=\"file:///usr/local/google/home/codyfincher/Code/database-tools/oracle-database-assessment/src/server/dbma/transformer/engine.py#178\" target=\"_blank\"><span style=\"color: #7f7f7f; text-decoration-color: #7f7f7f\">178</span></a>\n",
       "</pre>\n"
      ],
      "text/plain": [
       "\u001b[2;36m[10/19/22 23:46:52]\u001b[0m\u001b[2;36m \u001b[0m\u001b[34mINFO    \u001b[0m renamed \u001b[1;36m0\u001b[0m files in collection cginet_LATUAT_LATUAT1_101122191546         \u001b]8;id=498461;file:///usr/local/google/home/codyfincher/Code/database-tools/oracle-database-assessment/src/server/dbma/transformer/engine.py\u001b\\\u001b[2mengine.py\u001b[0m\u001b]8;;\u001b\\\u001b[2m:\u001b[0m\u001b]8;id=381733;file:///usr/local/google/home/codyfincher/Code/database-tools/oracle-database-assessment/src/server/dbma/transformer/engine.py#178\u001b\\\u001b[2m178\u001b[0m\u001b]8;;\u001b\\\n"
      ]
     },
     "metadata": {},
     "output_type": "display_data"
    },
    {
     "data": {
      "text/html": [
       "<pre style=\"white-space:pre;overflow-x:auto;line-height:normal;font-family:Menlo,'DejaVu Sans Mono',consolas,'Courier New',monospace\"><span style=\"color: #7fbfbf; text-decoration-color: #7fbfbf\">[10/19/22 23:46:52] </span><span style=\"color: #000080; text-decoration-color: #000080\">INFO    </span> completed preprocessing for collection                                   <a href=\"file:///usr/local/google/home/codyfincher/Code/database-tools/oracle-database-assessment/src/server/dbma/transformer/engine.py\" target=\"_blank\"><span style=\"color: #7f7f7f; text-decoration-color: #7f7f7f\">engine.py</span></a><span style=\"color: #7f7f7f; text-decoration-color: #7f7f7f\">:</span><a href=\"file:///usr/local/google/home/codyfincher/Code/database-tools/oracle-database-assessment/src/server/dbma/transformer/engine.py#189\" target=\"_blank\"><span style=\"color: #7f7f7f; text-decoration-color: #7f7f7f\">189</span></a>\n",
       "<span style=\"color: #7fbfbf; text-decoration-color: #7fbfbf\">                    </span>         cginet_LATUAT_LATUAT1_101122191546                                       <span style=\"color: #7f7f7f; text-decoration-color: #7f7f7f\">             </span>\n",
       "</pre>\n"
      ],
      "text/plain": [
       "\u001b[2;36m[10/19/22 23:46:52]\u001b[0m\u001b[2;36m \u001b[0m\u001b[34mINFO    \u001b[0m completed preprocessing for collection                                   \u001b]8;id=492866;file:///usr/local/google/home/codyfincher/Code/database-tools/oracle-database-assessment/src/server/dbma/transformer/engine.py\u001b\\\u001b[2mengine.py\u001b[0m\u001b]8;;\u001b\\\u001b[2m:\u001b[0m\u001b]8;id=896413;file:///usr/local/google/home/codyfincher/Code/database-tools/oracle-database-assessment/src/server/dbma/transformer/engine.py#189\u001b\\\u001b[2m189\u001b[0m\u001b]8;;\u001b\\\n",
       "\u001b[2;36m                    \u001b[0m         cginet_LATUAT_LATUAT1_101122191546                                       \u001b[2m             \u001b[0m\n"
      ]
     },
     "metadata": {},
     "output_type": "display_data"
    },
    {
     "data": {
      "text/html": [
       "<pre style=\"white-space:pre;overflow-x:auto;line-height:normal;font-family:Menlo,'DejaVu Sans Mono',consolas,'Courier New',monospace\"><span style=\"color: #7fbfbf; text-decoration-color: #7fbfbf\">[10/19/22 23:46:52] </span><span style=\"color: #000080; text-decoration-color: #000080\">INFO    </span> ℹ️  detected version <span style=\"color: #008000; text-decoration-color: #008000\">\"3.0.4\"</span> from the collection name                     <a href=\"file:///usr/local/google/home/codyfincher/Code/database-tools/oracle-database-assessment/src/server/dbma/transformer/engine.py\" target=\"_blank\"><span style=\"color: #7f7f7f; text-decoration-color: #7f7f7f\">engine.py</span></a><span style=\"color: #7f7f7f; text-decoration-color: #7f7f7f\">:</span><a href=\"file:///usr/local/google/home/codyfincher/Code/database-tools/oracle-database-assessment/src/server/dbma/transformer/engine.py#123\" target=\"_blank\"><span style=\"color: #7f7f7f; text-decoration-color: #7f7f7f\">123</span></a>\n",
       "</pre>\n"
      ],
      "text/plain": [
       "\u001b[2;36m[10/19/22 23:46:52]\u001b[0m\u001b[2;36m \u001b[0m\u001b[34mINFO    \u001b[0m ℹ️  detected version \u001b[32m\"3.0.4\"\u001b[0m from the collection name                     \u001b]8;id=479174;file:///usr/local/google/home/codyfincher/Code/database-tools/oracle-database-assessment/src/server/dbma/transformer/engine.py\u001b\\\u001b[2mengine.py\u001b[0m\u001b]8;;\u001b\\\u001b[2m:\u001b[0m\u001b]8;id=930792;file:///usr/local/google/home/codyfincher/Code/database-tools/oracle-database-assessment/src/server/dbma/transformer/engine.py#123\u001b\\\u001b[2m123\u001b[0m\u001b]8;;\u001b\\\n"
      ]
     },
     "metadata": {},
     "output_type": "display_data"
    },
    {
     "data": {
      "text/html": [
       "<pre style=\"white-space:pre;overflow-x:auto;line-height:normal;font-family:Menlo,'DejaVu Sans Mono',consolas,'Courier New',monospace\"><span style=\"color: #7fbfbf; text-decoration-color: #7fbfbf\">[10/19/22 23:46:52] </span><span style=\"color: #000080; text-decoration-color: #000080\">INFO    </span> 🔎 searching                                                             <a href=\"file:///usr/local/google/home/codyfincher/Code/database-tools/oracle-database-assessment/src/server/dbma/transformer/engine.py\" target=\"_blank\"><span style=\"color: #7f7f7f; text-decoration-color: #7f7f7f\">engine.py</span></a><span style=\"color: #7f7f7f; text-decoration-color: #7f7f7f\">:</span><a href=\"file:///usr/local/google/home/codyfincher/Code/database-tools/oracle-database-assessment/src/server/dbma/transformer/engine.py#168\" target=\"_blank\"><span style=\"color: #7f7f7f; text-decoration-color: #7f7f7f\">168</span></a>\n",
       "<span style=\"color: #7fbfbf; text-decoration-color: #7fbfbf\">                    </span>         opdb__190_3.<span style=\"color: #008080; text-decoration-color: #008080; font-weight: bold\">0.</span>4_rac194.wpuziewicz.com_OUSPRD_ousprd1_101722083819.tgz    <span style=\"color: #7f7f7f; text-decoration-color: #7f7f7f\">             </span>\n",
       "<span style=\"color: #7fbfbf; text-decoration-color: #7fbfbf\">                    </span>         for files and extracting to <span style=\"color: #800080; text-decoration-color: #800080\">/tmp/</span><span style=\"color: #ff00ff; text-decoration-color: #ff00ff\">tmpy83ko7y0</span>                             <span style=\"color: #7f7f7f; text-decoration-color: #7f7f7f\">             </span>\n",
       "</pre>\n"
      ],
      "text/plain": [
       "\u001b[2;36m[10/19/22 23:46:52]\u001b[0m\u001b[2;36m \u001b[0m\u001b[34mINFO    \u001b[0m 🔎 searching                                                             \u001b]8;id=535371;file:///usr/local/google/home/codyfincher/Code/database-tools/oracle-database-assessment/src/server/dbma/transformer/engine.py\u001b\\\u001b[2mengine.py\u001b[0m\u001b]8;;\u001b\\\u001b[2m:\u001b[0m\u001b]8;id=318664;file:///usr/local/google/home/codyfincher/Code/database-tools/oracle-database-assessment/src/server/dbma/transformer/engine.py#168\u001b\\\u001b[2m168\u001b[0m\u001b]8;;\u001b\\\n",
       "\u001b[2;36m                    \u001b[0m         opdb__190_3.\u001b[1;36m0.\u001b[0m4_rac194.wpuziewicz.com_OUSPRD_ousprd1_101722083819.tgz    \u001b[2m             \u001b[0m\n",
       "\u001b[2;36m                    \u001b[0m         for files and extracting to \u001b[35m/tmp/\u001b[0m\u001b[95mtmpy83ko7y0\u001b[0m                             \u001b[2m             \u001b[0m\n"
      ]
     },
     "metadata": {},
     "output_type": "display_data"
    },
    {
     "data": {
      "text/html": [
       "<pre style=\"white-space:pre;overflow-x:auto;line-height:normal;font-family:Menlo,'DejaVu Sans Mono',consolas,'Courier New',monospace\"><span style=\"color: #7fbfbf; text-decoration-color: #7fbfbf\">[10/19/22 23:46:52] </span><span style=\"color: #000080; text-decoration-color: #000080\">INFO    </span> renamed <span style=\"color: #008080; text-decoration-color: #008080; font-weight: bold\">0</span> files in collection com_OUSPRD_ousprd1_101722083819            <a href=\"file:///usr/local/google/home/codyfincher/Code/database-tools/oracle-database-assessment/src/server/dbma/transformer/engine.py\" target=\"_blank\"><span style=\"color: #7f7f7f; text-decoration-color: #7f7f7f\">engine.py</span></a><span style=\"color: #7f7f7f; text-decoration-color: #7f7f7f\">:</span><a href=\"file:///usr/local/google/home/codyfincher/Code/database-tools/oracle-database-assessment/src/server/dbma/transformer/engine.py#178\" target=\"_blank\"><span style=\"color: #7f7f7f; text-decoration-color: #7f7f7f\">178</span></a>\n",
       "</pre>\n"
      ],
      "text/plain": [
       "\u001b[2;36m[10/19/22 23:46:52]\u001b[0m\u001b[2;36m \u001b[0m\u001b[34mINFO    \u001b[0m renamed \u001b[1;36m0\u001b[0m files in collection com_OUSPRD_ousprd1_101722083819            \u001b]8;id=717743;file:///usr/local/google/home/codyfincher/Code/database-tools/oracle-database-assessment/src/server/dbma/transformer/engine.py\u001b\\\u001b[2mengine.py\u001b[0m\u001b]8;;\u001b\\\u001b[2m:\u001b[0m\u001b]8;id=637952;file:///usr/local/google/home/codyfincher/Code/database-tools/oracle-database-assessment/src/server/dbma/transformer/engine.py#178\u001b\\\u001b[2m178\u001b[0m\u001b]8;;\u001b\\\n"
      ]
     },
     "metadata": {},
     "output_type": "display_data"
    },
    {
     "data": {
      "text/html": [
       "<pre style=\"white-space:pre;overflow-x:auto;line-height:normal;font-family:Menlo,'DejaVu Sans Mono',consolas,'Courier New',monospace\"><span style=\"color: #7fbfbf; text-decoration-color: #7fbfbf\">[10/19/22 23:46:52] </span><span style=\"color: #000080; text-decoration-color: #000080\">INFO    </span> completed preprocessing for collection com_OUSPRD_ousprd1_101722083819   <a href=\"file:///usr/local/google/home/codyfincher/Code/database-tools/oracle-database-assessment/src/server/dbma/transformer/engine.py\" target=\"_blank\"><span style=\"color: #7f7f7f; text-decoration-color: #7f7f7f\">engine.py</span></a><span style=\"color: #7f7f7f; text-decoration-color: #7f7f7f\">:</span><a href=\"file:///usr/local/google/home/codyfincher/Code/database-tools/oracle-database-assessment/src/server/dbma/transformer/engine.py#189\" target=\"_blank\"><span style=\"color: #7f7f7f; text-decoration-color: #7f7f7f\">189</span></a>\n",
       "</pre>\n"
      ],
      "text/plain": [
       "\u001b[2;36m[10/19/22 23:46:52]\u001b[0m\u001b[2;36m \u001b[0m\u001b[34mINFO    \u001b[0m completed preprocessing for collection com_OUSPRD_ousprd1_101722083819   \u001b]8;id=779650;file:///usr/local/google/home/codyfincher/Code/database-tools/oracle-database-assessment/src/server/dbma/transformer/engine.py\u001b\\\u001b[2mengine.py\u001b[0m\u001b]8;;\u001b\\\u001b[2m:\u001b[0m\u001b]8;id=659643;file:///usr/local/google/home/codyfincher/Code/database-tools/oracle-database-assessment/src/server/dbma/transformer/engine.py#189\u001b\\\u001b[2m189\u001b[0m\u001b]8;;\u001b\\\n"
      ]
     },
     "metadata": {},
     "output_type": "display_data"
    },
    {
     "data": {
      "text/html": [
       "<pre style=\"white-space:pre;overflow-x:auto;line-height:normal;font-family:Menlo,'DejaVu Sans Mono',consolas,'Courier New',monospace\"><span style=\"color: #7fbfbf; text-decoration-color: #7fbfbf\">[10/19/22 23:46:52] </span><span style=\"color: #000080; text-decoration-color: #000080\">INFO    </span> executing preprocessing script pre_process_02_create_schema            <a href=\"file:///usr/local/google/home/codyfincher/Code/database-tools/oracle-database-assessment/src/server/dbma/database.py\" target=\"_blank\"><span style=\"color: #7f7f7f; text-decoration-color: #7f7f7f\">database.py</span></a><span style=\"color: #7f7f7f; text-decoration-color: #7f7f7f\">:</span><a href=\"file:///usr/local/google/home/codyfincher/Code/database-tools/oracle-database-assessment/src/server/dbma/database.py#184\" target=\"_blank\"><span style=\"color: #7f7f7f; text-decoration-color: #7f7f7f\">184</span></a>\n",
       "</pre>\n"
      ],
      "text/plain": [
       "\u001b[2;36m[10/19/22 23:46:52]\u001b[0m\u001b[2;36m \u001b[0m\u001b[34mINFO    \u001b[0m executing preprocessing script pre_process_02_create_schema            \u001b]8;id=124719;file:///usr/local/google/home/codyfincher/Code/database-tools/oracle-database-assessment/src/server/dbma/database.py\u001b\\\u001b[2mdatabase.py\u001b[0m\u001b]8;;\u001b\\\u001b[2m:\u001b[0m\u001b]8;id=892618;file:///usr/local/google/home/codyfincher/Code/database-tools/oracle-database-assessment/src/server/dbma/database.py#184\u001b\\\u001b[2m184\u001b[0m\u001b]8;;\u001b\\\n"
      ]
     },
     "metadata": {},
     "output_type": "display_data"
    },
    {
     "data": {
      "text/html": [
       "<pre style=\"white-space:pre;overflow-x:auto;line-height:normal;font-family:Menlo,'DejaVu Sans Mono',consolas,'Courier New',monospace\"><span style=\"color: #7fbfbf; text-decoration-color: #7fbfbf\">[10/19/22 23:46:52] </span><span style=\"color: #000080; text-decoration-color: #000080\">INFO    </span> <span style=\"color: #808000; text-decoration-color: #808000\">...</span> awr_hist_cmd_types  <span style=\"color: #008000; text-decoration-color: #008000; font-weight: bold\">SUCCESS</span> <span style=\"font-weight: bold\">[</span><span style=\"color: #008080; text-decoration-color: #008080; font-weight: bold\">192</span> <span style=\"color: #800080; text-decoration-color: #800080; font-weight: bold\">rows</span><span style=\"font-weight: bold\">(</span>s<span style=\"font-weight: bold\">)]</span>                          <a href=\"file:///usr/local/google/home/codyfincher/Code/database-tools/oracle-database-assessment/src/server/dbma/database.py\" target=\"_blank\"><span style=\"color: #7f7f7f; text-decoration-color: #7f7f7f\">database.py</span></a><span style=\"color: #7f7f7f; text-decoration-color: #7f7f7f\">:</span><a href=\"file:///usr/local/google/home/codyfincher/Code/database-tools/oracle-database-assessment/src/server/dbma/database.py#160\" target=\"_blank\"><span style=\"color: #7f7f7f; text-decoration-color: #7f7f7f\">160</span></a>\n",
       "</pre>\n"
      ],
      "text/plain": [
       "\u001b[2;36m[10/19/22 23:46:52]\u001b[0m\u001b[2;36m \u001b[0m\u001b[34mINFO    \u001b[0m \u001b[33m...\u001b[0m awr_hist_cmd_types  \u001b[1;32mSUCCESS\u001b[0m \u001b[1m[\u001b[0m\u001b[1;36m192\u001b[0m \u001b[1;35mrows\u001b[0m\u001b[1m(\u001b[0ms\u001b[1m)\u001b[0m\u001b[1m]\u001b[0m                          \u001b]8;id=355866;file:///usr/local/google/home/codyfincher/Code/database-tools/oracle-database-assessment/src/server/dbma/database.py\u001b\\\u001b[2mdatabase.py\u001b[0m\u001b]8;;\u001b\\\u001b[2m:\u001b[0m\u001b]8;id=812160;file:///usr/local/google/home/codyfincher/Code/database-tools/oracle-database-assessment/src/server/dbma/database.py#160\u001b\\\u001b[2m160\u001b[0m\u001b]8;;\u001b\\\n"
      ]
     },
     "metadata": {},
     "output_type": "display_data"
    },
    {
     "data": {
      "text/html": [
       "<pre style=\"white-space:pre;overflow-x:auto;line-height:normal;font-family:Menlo,'DejaVu Sans Mono',consolas,'Courier New',monospace\"><span style=\"color: #7fbfbf; text-decoration-color: #7fbfbf\">[10/19/22 23:46:52] </span><span style=\"color: #000080; text-decoration-color: #000080\">INFO    </span> <span style=\"color: #808000; text-decoration-color: #808000\">...</span> awr_hist_os_stat  <span style=\"color: #008000; text-decoration-color: #008000; font-weight: bold\">SUCCESS</span> <span style=\"font-weight: bold\">[</span><span style=\"color: #008080; text-decoration-color: #008080; font-weight: bold\">600</span> <span style=\"color: #800080; text-decoration-color: #800080; font-weight: bold\">rows</span><span style=\"font-weight: bold\">(</span>s<span style=\"font-weight: bold\">)]</span>                            <a href=\"file:///usr/local/google/home/codyfincher/Code/database-tools/oracle-database-assessment/src/server/dbma/database.py\" target=\"_blank\"><span style=\"color: #7f7f7f; text-decoration-color: #7f7f7f\">database.py</span></a><span style=\"color: #7f7f7f; text-decoration-color: #7f7f7f\">:</span><a href=\"file:///usr/local/google/home/codyfincher/Code/database-tools/oracle-database-assessment/src/server/dbma/database.py#160\" target=\"_blank\"><span style=\"color: #7f7f7f; text-decoration-color: #7f7f7f\">160</span></a>\n",
       "</pre>\n"
      ],
      "text/plain": [
       "\u001b[2;36m[10/19/22 23:46:52]\u001b[0m\u001b[2;36m \u001b[0m\u001b[34mINFO    \u001b[0m \u001b[33m...\u001b[0m awr_hist_os_stat  \u001b[1;32mSUCCESS\u001b[0m \u001b[1m[\u001b[0m\u001b[1;36m600\u001b[0m \u001b[1;35mrows\u001b[0m\u001b[1m(\u001b[0ms\u001b[1m)\u001b[0m\u001b[1m]\u001b[0m                            \u001b]8;id=492363;file:///usr/local/google/home/codyfincher/Code/database-tools/oracle-database-assessment/src/server/dbma/database.py\u001b\\\u001b[2mdatabase.py\u001b[0m\u001b]8;;\u001b\\\u001b[2m:\u001b[0m\u001b]8;id=958779;file:///usr/local/google/home/codyfincher/Code/database-tools/oracle-database-assessment/src/server/dbma/database.py#160\u001b\\\u001b[2m160\u001b[0m\u001b]8;;\u001b\\\n"
      ]
     },
     "metadata": {},
     "output_type": "display_data"
    },
    {
     "data": {
      "text/html": [
       "<pre style=\"white-space:pre;overflow-x:auto;line-height:normal;font-family:Menlo,'DejaVu Sans Mono',consolas,'Courier New',monospace\"><span style=\"color: #7fbfbf; text-decoration-color: #7fbfbf\">[10/19/22 23:46:52] </span><span style=\"color: #000080; text-decoration-color: #000080\">INFO    </span> <span style=\"color: #808000; text-decoration-color: #808000\">...</span> awr_hist_sys_metric_hist  <span style=\"color: #008000; text-decoration-color: #008000; font-weight: bold\">SUCCESS</span> <span style=\"font-weight: bold\">[</span><span style=\"color: #008080; text-decoration-color: #008080; font-weight: bold\">552</span> <span style=\"color: #800080; text-decoration-color: #800080; font-weight: bold\">rows</span><span style=\"font-weight: bold\">(</span>s<span style=\"font-weight: bold\">)]</span>                    <a href=\"file:///usr/local/google/home/codyfincher/Code/database-tools/oracle-database-assessment/src/server/dbma/database.py\" target=\"_blank\"><span style=\"color: #7f7f7f; text-decoration-color: #7f7f7f\">database.py</span></a><span style=\"color: #7f7f7f; text-decoration-color: #7f7f7f\">:</span><a href=\"file:///usr/local/google/home/codyfincher/Code/database-tools/oracle-database-assessment/src/server/dbma/database.py#160\" target=\"_blank\"><span style=\"color: #7f7f7f; text-decoration-color: #7f7f7f\">160</span></a>\n",
       "</pre>\n"
      ],
      "text/plain": [
       "\u001b[2;36m[10/19/22 23:46:52]\u001b[0m\u001b[2;36m \u001b[0m\u001b[34mINFO    \u001b[0m \u001b[33m...\u001b[0m awr_hist_sys_metric_hist  \u001b[1;32mSUCCESS\u001b[0m \u001b[1m[\u001b[0m\u001b[1;36m552\u001b[0m \u001b[1;35mrows\u001b[0m\u001b[1m(\u001b[0ms\u001b[1m)\u001b[0m\u001b[1m]\u001b[0m                    \u001b]8;id=917587;file:///usr/local/google/home/codyfincher/Code/database-tools/oracle-database-assessment/src/server/dbma/database.py\u001b\\\u001b[2mdatabase.py\u001b[0m\u001b]8;;\u001b\\\u001b[2m:\u001b[0m\u001b]8;id=361367;file:///usr/local/google/home/codyfincher/Code/database-tools/oracle-database-assessment/src/server/dbma/database.py#160\u001b\\\u001b[2m160\u001b[0m\u001b]8;;\u001b\\\n"
      ]
     },
     "metadata": {},
     "output_type": "display_data"
    },
    {
     "data": {
      "text/html": [
       "<pre style=\"white-space:pre;overflow-x:auto;line-height:normal;font-family:Menlo,'DejaVu Sans Mono',consolas,'Courier New',monospace\"><span style=\"color: #7fbfbf; text-decoration-color: #7fbfbf\">[10/19/22 23:46:52] </span><span style=\"color: #000080; text-decoration-color: #000080\">INFO    </span> <span style=\"color: #808000; text-decoration-color: #808000\">...</span> awr_hist_sys_metric_summary  <span style=\"color: #008000; text-decoration-color: #008000; font-weight: bold\">SUCCESS</span> <span style=\"font-weight: bold\">[</span><span style=\"color: #008080; text-decoration-color: #008080; font-weight: bold\">3864</span> <span style=\"color: #800080; text-decoration-color: #800080; font-weight: bold\">rows</span><span style=\"font-weight: bold\">(</span>s<span style=\"font-weight: bold\">)]</span>                <a href=\"file:///usr/local/google/home/codyfincher/Code/database-tools/oracle-database-assessment/src/server/dbma/database.py\" target=\"_blank\"><span style=\"color: #7f7f7f; text-decoration-color: #7f7f7f\">database.py</span></a><span style=\"color: #7f7f7f; text-decoration-color: #7f7f7f\">:</span><a href=\"file:///usr/local/google/home/codyfincher/Code/database-tools/oracle-database-assessment/src/server/dbma/database.py#160\" target=\"_blank\"><span style=\"color: #7f7f7f; text-decoration-color: #7f7f7f\">160</span></a>\n",
       "</pre>\n"
      ],
      "text/plain": [
       "\u001b[2;36m[10/19/22 23:46:52]\u001b[0m\u001b[2;36m \u001b[0m\u001b[34mINFO    \u001b[0m \u001b[33m...\u001b[0m awr_hist_sys_metric_summary  \u001b[1;32mSUCCESS\u001b[0m \u001b[1m[\u001b[0m\u001b[1;36m3864\u001b[0m \u001b[1;35mrows\u001b[0m\u001b[1m(\u001b[0ms\u001b[1m)\u001b[0m\u001b[1m]\u001b[0m                \u001b]8;id=229423;file:///usr/local/google/home/codyfincher/Code/database-tools/oracle-database-assessment/src/server/dbma/database.py\u001b\\\u001b[2mdatabase.py\u001b[0m\u001b]8;;\u001b\\\u001b[2m:\u001b[0m\u001b]8;id=552912;file:///usr/local/google/home/codyfincher/Code/database-tools/oracle-database-assessment/src/server/dbma/database.py#160\u001b\\\u001b[2m160\u001b[0m\u001b]8;;\u001b\\\n"
      ]
     },
     "metadata": {},
     "output_type": "display_data"
    },
    {
     "data": {
      "text/html": [
       "<pre style=\"white-space:pre;overflow-x:auto;line-height:normal;font-family:Menlo,'DejaVu Sans Mono',consolas,'Courier New',monospace\"><span style=\"color: #7fbfbf; text-decoration-color: #7fbfbf\">[10/19/22 23:46:52] </span><span style=\"color: #000080; text-decoration-color: #000080\">INFO    </span> <span style=\"color: #808000; text-decoration-color: #808000\">...</span> awr_snap_details  <span style=\"color: #008000; text-decoration-color: #008000; font-weight: bold\">SUCCESS</span> <span style=\"font-weight: bold\">[</span><span style=\"color: #008080; text-decoration-color: #008080; font-weight: bold\">24</span> <span style=\"color: #800080; text-decoration-color: #800080; font-weight: bold\">rows</span><span style=\"font-weight: bold\">(</span>s<span style=\"font-weight: bold\">)]</span>                             <a href=\"file:///usr/local/google/home/codyfincher/Code/database-tools/oracle-database-assessment/src/server/dbma/database.py\" target=\"_blank\"><span style=\"color: #7f7f7f; text-decoration-color: #7f7f7f\">database.py</span></a><span style=\"color: #7f7f7f; text-decoration-color: #7f7f7f\">:</span><a href=\"file:///usr/local/google/home/codyfincher/Code/database-tools/oracle-database-assessment/src/server/dbma/database.py#160\" target=\"_blank\"><span style=\"color: #7f7f7f; text-decoration-color: #7f7f7f\">160</span></a>\n",
       "</pre>\n"
      ],
      "text/plain": [
       "\u001b[2;36m[10/19/22 23:46:52]\u001b[0m\u001b[2;36m \u001b[0m\u001b[34mINFO    \u001b[0m \u001b[33m...\u001b[0m awr_snap_details  \u001b[1;32mSUCCESS\u001b[0m \u001b[1m[\u001b[0m\u001b[1;36m24\u001b[0m \u001b[1;35mrows\u001b[0m\u001b[1m(\u001b[0ms\u001b[1m)\u001b[0m\u001b[1m]\u001b[0m                             \u001b]8;id=262530;file:///usr/local/google/home/codyfincher/Code/database-tools/oracle-database-assessment/src/server/dbma/database.py\u001b\\\u001b[2mdatabase.py\u001b[0m\u001b]8;;\u001b\\\u001b[2m:\u001b[0m\u001b]8;id=275928;file:///usr/local/google/home/codyfincher/Code/database-tools/oracle-database-assessment/src/server/dbma/database.py#160\u001b\\\u001b[2m160\u001b[0m\u001b]8;;\u001b\\\n"
      ]
     },
     "metadata": {},
     "output_type": "display_data"
    },
    {
     "data": {
      "text/html": [
       "<pre style=\"white-space:pre;overflow-x:auto;line-height:normal;font-family:Menlo,'DejaVu Sans Mono',consolas,'Courier New',monospace\"><span style=\"color: #7fbfbf; text-decoration-color: #7fbfbf\">[10/19/22 23:46:52] </span><span style=\"color: #000080; text-decoration-color: #000080\">INFO    </span> <span style=\"color: #808000; text-decoration-color: #808000\">...</span> db_compression_by_type  <span style=\"color: #7f7f7f; text-decoration-color: #7f7f7f; font-weight: bold\">SKIPPED</span>                                    <a href=\"file:///usr/local/google/home/codyfincher/Code/database-tools/oracle-database-assessment/src/server/dbma/database.py\" target=\"_blank\"><span style=\"color: #7f7f7f; text-decoration-color: #7f7f7f\">database.py</span></a><span style=\"color: #7f7f7f; text-decoration-color: #7f7f7f\">:</span><a href=\"file:///usr/local/google/home/codyfincher/Code/database-tools/oracle-database-assessment/src/server/dbma/database.py#163\" target=\"_blank\"><span style=\"color: #7f7f7f; text-decoration-color: #7f7f7f\">163</span></a>\n",
       "</pre>\n"
      ],
      "text/plain": [
       "\u001b[2;36m[10/19/22 23:46:52]\u001b[0m\u001b[2;36m \u001b[0m\u001b[34mINFO    \u001b[0m \u001b[33m...\u001b[0m db_compression_by_type  \u001b[1;2mSKIPPED\u001b[0m                                    \u001b]8;id=382495;file:///usr/local/google/home/codyfincher/Code/database-tools/oracle-database-assessment/src/server/dbma/database.py\u001b\\\u001b[2mdatabase.py\u001b[0m\u001b]8;;\u001b\\\u001b[2m:\u001b[0m\u001b]8;id=804312;file:///usr/local/google/home/codyfincher/Code/database-tools/oracle-database-assessment/src/server/dbma/database.py#163\u001b\\\u001b[2m163\u001b[0m\u001b]8;;\u001b\\\n"
      ]
     },
     "metadata": {},
     "output_type": "display_data"
    },
    {
     "data": {
      "text/html": [
       "<pre style=\"white-space:pre;overflow-x:auto;line-height:normal;font-family:Menlo,'DejaVu Sans Mono',consolas,'Courier New',monospace\"><span style=\"color: #7fbfbf; text-decoration-color: #7fbfbf\">[10/19/22 23:46:52] </span><span style=\"color: #000080; text-decoration-color: #000080\">INFO    </span> <span style=\"color: #808000; text-decoration-color: #808000\">...</span> db_cpu_core_usage  <span style=\"color: #008000; text-decoration-color: #008000; font-weight: bold\">SUCCESS</span> <span style=\"font-weight: bold\">[</span><span style=\"color: #008080; text-decoration-color: #008080; font-weight: bold\">3</span> <span style=\"color: #800080; text-decoration-color: #800080; font-weight: bold\">rows</span><span style=\"font-weight: bold\">(</span>s<span style=\"font-weight: bold\">)]</span>                             <a href=\"file:///usr/local/google/home/codyfincher/Code/database-tools/oracle-database-assessment/src/server/dbma/database.py\" target=\"_blank\"><span style=\"color: #7f7f7f; text-decoration-color: #7f7f7f\">database.py</span></a><span style=\"color: #7f7f7f; text-decoration-color: #7f7f7f\">:</span><a href=\"file:///usr/local/google/home/codyfincher/Code/database-tools/oracle-database-assessment/src/server/dbma/database.py#160\" target=\"_blank\"><span style=\"color: #7f7f7f; text-decoration-color: #7f7f7f\">160</span></a>\n",
       "</pre>\n"
      ],
      "text/plain": [
       "\u001b[2;36m[10/19/22 23:46:52]\u001b[0m\u001b[2;36m \u001b[0m\u001b[34mINFO    \u001b[0m \u001b[33m...\u001b[0m db_cpu_core_usage  \u001b[1;32mSUCCESS\u001b[0m \u001b[1m[\u001b[0m\u001b[1;36m3\u001b[0m \u001b[1;35mrows\u001b[0m\u001b[1m(\u001b[0ms\u001b[1m)\u001b[0m\u001b[1m]\u001b[0m                             \u001b]8;id=789358;file:///usr/local/google/home/codyfincher/Code/database-tools/oracle-database-assessment/src/server/dbma/database.py\u001b\\\u001b[2mdatabase.py\u001b[0m\u001b]8;;\u001b\\\u001b[2m:\u001b[0m\u001b]8;id=602703;file:///usr/local/google/home/codyfincher/Code/database-tools/oracle-database-assessment/src/server/dbma/database.py#160\u001b\\\u001b[2m160\u001b[0m\u001b]8;;\u001b\\\n"
      ]
     },
     "metadata": {},
     "output_type": "display_data"
    },
    {
     "data": {
      "text/html": [
       "<pre style=\"white-space:pre;overflow-x:auto;line-height:normal;font-family:Menlo,'DejaVu Sans Mono',consolas,'Courier New',monospace\"><span style=\"color: #7fbfbf; text-decoration-color: #7fbfbf\">[10/19/22 23:46:52] </span><span style=\"color: #000080; text-decoration-color: #000080\">INFO    </span> <span style=\"color: #808000; text-decoration-color: #808000\">...</span> db_dataguard  <span style=\"color: #008000; text-decoration-color: #008000; font-weight: bold\">SUCCESS</span> <span style=\"font-weight: bold\">[</span><span style=\"color: #008080; text-decoration-color: #008080; font-weight: bold\">1</span> <span style=\"color: #800080; text-decoration-color: #800080; font-weight: bold\">rows</span><span style=\"font-weight: bold\">(</span>s<span style=\"font-weight: bold\">)]</span>                                  <a href=\"file:///usr/local/google/home/codyfincher/Code/database-tools/oracle-database-assessment/src/server/dbma/database.py\" target=\"_blank\"><span style=\"color: #7f7f7f; text-decoration-color: #7f7f7f\">database.py</span></a><span style=\"color: #7f7f7f; text-decoration-color: #7f7f7f\">:</span><a href=\"file:///usr/local/google/home/codyfincher/Code/database-tools/oracle-database-assessment/src/server/dbma/database.py#160\" target=\"_blank\"><span style=\"color: #7f7f7f; text-decoration-color: #7f7f7f\">160</span></a>\n",
       "</pre>\n"
      ],
      "text/plain": [
       "\u001b[2;36m[10/19/22 23:46:52]\u001b[0m\u001b[2;36m \u001b[0m\u001b[34mINFO    \u001b[0m \u001b[33m...\u001b[0m db_dataguard  \u001b[1;32mSUCCESS\u001b[0m \u001b[1m[\u001b[0m\u001b[1;36m1\u001b[0m \u001b[1;35mrows\u001b[0m\u001b[1m(\u001b[0ms\u001b[1m)\u001b[0m\u001b[1m]\u001b[0m                                  \u001b]8;id=270548;file:///usr/local/google/home/codyfincher/Code/database-tools/oracle-database-assessment/src/server/dbma/database.py\u001b\\\u001b[2mdatabase.py\u001b[0m\u001b]8;;\u001b\\\u001b[2m:\u001b[0m\u001b]8;id=795533;file:///usr/local/google/home/codyfincher/Code/database-tools/oracle-database-assessment/src/server/dbma/database.py#160\u001b\\\u001b[2m160\u001b[0m\u001b]8;;\u001b\\\n"
      ]
     },
     "metadata": {},
     "output_type": "display_data"
    },
    {
     "data": {
      "text/html": [
       "<pre style=\"white-space:pre;overflow-x:auto;line-height:normal;font-family:Menlo,'DejaVu Sans Mono',consolas,'Courier New',monospace\"><span style=\"color: #7fbfbf; text-decoration-color: #7fbfbf\">[10/19/22 23:46:52] </span><span style=\"color: #000080; text-decoration-color: #000080\">INFO    </span> <span style=\"color: #808000; text-decoration-color: #808000\">...</span> db_data_types  <span style=\"color: #008000; text-decoration-color: #008000; font-weight: bold\">SUCCESS</span> <span style=\"font-weight: bold\">[</span><span style=\"color: #008080; text-decoration-color: #008080; font-weight: bold\">24</span> <span style=\"color: #800080; text-decoration-color: #800080; font-weight: bold\">rows</span><span style=\"font-weight: bold\">(</span>s<span style=\"font-weight: bold\">)]</span>                                <a href=\"file:///usr/local/google/home/codyfincher/Code/database-tools/oracle-database-assessment/src/server/dbma/database.py\" target=\"_blank\"><span style=\"color: #7f7f7f; text-decoration-color: #7f7f7f\">database.py</span></a><span style=\"color: #7f7f7f; text-decoration-color: #7f7f7f\">:</span><a href=\"file:///usr/local/google/home/codyfincher/Code/database-tools/oracle-database-assessment/src/server/dbma/database.py#160\" target=\"_blank\"><span style=\"color: #7f7f7f; text-decoration-color: #7f7f7f\">160</span></a>\n",
       "</pre>\n"
      ],
      "text/plain": [
       "\u001b[2;36m[10/19/22 23:46:52]\u001b[0m\u001b[2;36m \u001b[0m\u001b[34mINFO    \u001b[0m \u001b[33m...\u001b[0m db_data_types  \u001b[1;32mSUCCESS\u001b[0m \u001b[1m[\u001b[0m\u001b[1;36m24\u001b[0m \u001b[1;35mrows\u001b[0m\u001b[1m(\u001b[0ms\u001b[1m)\u001b[0m\u001b[1m]\u001b[0m                                \u001b]8;id=799038;file:///usr/local/google/home/codyfincher/Code/database-tools/oracle-database-assessment/src/server/dbma/database.py\u001b\\\u001b[2mdatabase.py\u001b[0m\u001b]8;;\u001b\\\u001b[2m:\u001b[0m\u001b]8;id=686102;file:///usr/local/google/home/codyfincher/Code/database-tools/oracle-database-assessment/src/server/dbma/database.py#160\u001b\\\u001b[2m160\u001b[0m\u001b]8;;\u001b\\\n"
      ]
     },
     "metadata": {},
     "output_type": "display_data"
    },
    {
     "data": {
      "text/html": [
       "<pre style=\"white-space:pre;overflow-x:auto;line-height:normal;font-family:Menlo,'DejaVu Sans Mono',consolas,'Courier New',monospace\"><span style=\"color: #7fbfbf; text-decoration-color: #7fbfbf\">[10/19/22 23:46:52] </span><span style=\"color: #000080; text-decoration-color: #000080\">INFO    </span> <span style=\"color: #808000; text-decoration-color: #808000\">...</span> dba_hist_sys_stat  <span style=\"color: #008000; text-decoration-color: #008000; font-weight: bold\">SUCCESS</span> <span style=\"font-weight: bold\">[</span><span style=\"color: #008080; text-decoration-color: #008080; font-weight: bold\">3816</span> <span style=\"color: #800080; text-decoration-color: #800080; font-weight: bold\">rows</span><span style=\"font-weight: bold\">(</span>s<span style=\"font-weight: bold\">)]</span>                          <a href=\"file:///usr/local/google/home/codyfincher/Code/database-tools/oracle-database-assessment/src/server/dbma/database.py\" target=\"_blank\"><span style=\"color: #7f7f7f; text-decoration-color: #7f7f7f\">database.py</span></a><span style=\"color: #7f7f7f; text-decoration-color: #7f7f7f\">:</span><a href=\"file:///usr/local/google/home/codyfincher/Code/database-tools/oracle-database-assessment/src/server/dbma/database.py#160\" target=\"_blank\"><span style=\"color: #7f7f7f; text-decoration-color: #7f7f7f\">160</span></a>\n",
       "</pre>\n"
      ],
      "text/plain": [
       "\u001b[2;36m[10/19/22 23:46:52]\u001b[0m\u001b[2;36m \u001b[0m\u001b[34mINFO    \u001b[0m \u001b[33m...\u001b[0m dba_hist_sys_stat  \u001b[1;32mSUCCESS\u001b[0m \u001b[1m[\u001b[0m\u001b[1;36m3816\u001b[0m \u001b[1;35mrows\u001b[0m\u001b[1m(\u001b[0ms\u001b[1m)\u001b[0m\u001b[1m]\u001b[0m                          \u001b]8;id=567062;file:///usr/local/google/home/codyfincher/Code/database-tools/oracle-database-assessment/src/server/dbma/database.py\u001b\\\u001b[2mdatabase.py\u001b[0m\u001b]8;;\u001b\\\u001b[2m:\u001b[0m\u001b]8;id=507176;file:///usr/local/google/home/codyfincher/Code/database-tools/oracle-database-assessment/src/server/dbma/database.py#160\u001b\\\u001b[2m160\u001b[0m\u001b]8;;\u001b\\\n"
      ]
     },
     "metadata": {},
     "output_type": "display_data"
    },
    {
     "data": {
      "text/html": [
       "<pre style=\"white-space:pre;overflow-x:auto;line-height:normal;font-family:Menlo,'DejaVu Sans Mono',consolas,'Courier New',monospace\"><span style=\"color: #7fbfbf; text-decoration-color: #7fbfbf\">[10/19/22 23:46:52] </span><span style=\"color: #000080; text-decoration-color: #000080\">INFO    </span> <span style=\"color: #808000; text-decoration-color: #808000\">...</span> dba_hist_sys_time_model  <span style=\"color: #008000; text-decoration-color: #008000; font-weight: bold\">SUCCESS</span> <span style=\"font-weight: bold\">[</span><span style=\"color: #008080; text-decoration-color: #008080; font-weight: bold\">744</span> <span style=\"color: #800080; text-decoration-color: #800080; font-weight: bold\">rows</span><span style=\"font-weight: bold\">(</span>s<span style=\"font-weight: bold\">)]</span>                     <a href=\"file:///usr/local/google/home/codyfincher/Code/database-tools/oracle-database-assessment/src/server/dbma/database.py\" target=\"_blank\"><span style=\"color: #7f7f7f; text-decoration-color: #7f7f7f\">database.py</span></a><span style=\"color: #7f7f7f; text-decoration-color: #7f7f7f\">:</span><a href=\"file:///usr/local/google/home/codyfincher/Code/database-tools/oracle-database-assessment/src/server/dbma/database.py#160\" target=\"_blank\"><span style=\"color: #7f7f7f; text-decoration-color: #7f7f7f\">160</span></a>\n",
       "</pre>\n"
      ],
      "text/plain": [
       "\u001b[2;36m[10/19/22 23:46:52]\u001b[0m\u001b[2;36m \u001b[0m\u001b[34mINFO    \u001b[0m \u001b[33m...\u001b[0m dba_hist_sys_time_model  \u001b[1;32mSUCCESS\u001b[0m \u001b[1m[\u001b[0m\u001b[1;36m744\u001b[0m \u001b[1;35mrows\u001b[0m\u001b[1m(\u001b[0ms\u001b[1m)\u001b[0m\u001b[1m]\u001b[0m                     \u001b]8;id=490197;file:///usr/local/google/home/codyfincher/Code/database-tools/oracle-database-assessment/src/server/dbma/database.py\u001b\\\u001b[2mdatabase.py\u001b[0m\u001b]8;;\u001b\\\u001b[2m:\u001b[0m\u001b]8;id=784544;file:///usr/local/google/home/codyfincher/Code/database-tools/oracle-database-assessment/src/server/dbma/database.py#160\u001b\\\u001b[2m160\u001b[0m\u001b]8;;\u001b\\\n"
      ]
     },
     "metadata": {},
     "output_type": "display_data"
    },
    {
     "data": {
      "text/html": [
       "<pre style=\"white-space:pre;overflow-x:auto;line-height:normal;font-family:Menlo,'DejaVu Sans Mono',consolas,'Courier New',monospace\"><span style=\"color: #7fbfbf; text-decoration-color: #7fbfbf\">[10/19/22 23:46:52] </span><span style=\"color: #000080; text-decoration-color: #000080\">INFO    </span> <span style=\"color: #808000; text-decoration-color: #808000\">...</span> db_features  <span style=\"color: #008000; text-decoration-color: #008000; font-weight: bold\">SUCCESS</span> <span style=\"font-weight: bold\">[</span><span style=\"color: #008080; text-decoration-color: #008080; font-weight: bold\">243</span> <span style=\"color: #800080; text-decoration-color: #800080; font-weight: bold\">rows</span><span style=\"font-weight: bold\">(</span>s<span style=\"font-weight: bold\">)]</span>                                 <a href=\"file:///usr/local/google/home/codyfincher/Code/database-tools/oracle-database-assessment/src/server/dbma/database.py\" target=\"_blank\"><span style=\"color: #7f7f7f; text-decoration-color: #7f7f7f\">database.py</span></a><span style=\"color: #7f7f7f; text-decoration-color: #7f7f7f\">:</span><a href=\"file:///usr/local/google/home/codyfincher/Code/database-tools/oracle-database-assessment/src/server/dbma/database.py#160\" target=\"_blank\"><span style=\"color: #7f7f7f; text-decoration-color: #7f7f7f\">160</span></a>\n",
       "</pre>\n"
      ],
      "text/plain": [
       "\u001b[2;36m[10/19/22 23:46:52]\u001b[0m\u001b[2;36m \u001b[0m\u001b[34mINFO    \u001b[0m \u001b[33m...\u001b[0m db_features  \u001b[1;32mSUCCESS\u001b[0m \u001b[1m[\u001b[0m\u001b[1;36m243\u001b[0m \u001b[1;35mrows\u001b[0m\u001b[1m(\u001b[0ms\u001b[1m)\u001b[0m\u001b[1m]\u001b[0m                                 \u001b]8;id=501884;file:///usr/local/google/home/codyfincher/Code/database-tools/oracle-database-assessment/src/server/dbma/database.py\u001b\\\u001b[2mdatabase.py\u001b[0m\u001b]8;;\u001b\\\u001b[2m:\u001b[0m\u001b]8;id=205678;file:///usr/local/google/home/codyfincher/Code/database-tools/oracle-database-assessment/src/server/dbma/database.py#160\u001b\\\u001b[2m160\u001b[0m\u001b]8;;\u001b\\\n"
      ]
     },
     "metadata": {},
     "output_type": "display_data"
    },
    {
     "data": {
      "text/html": [
       "<pre style=\"white-space:pre;overflow-x:auto;line-height:normal;font-family:Menlo,'DejaVu Sans Mono',consolas,'Courier New',monospace\"><span style=\"color: #7fbfbf; text-decoration-color: #7fbfbf\">[10/19/22 23:46:52] </span><span style=\"color: #000080; text-decoration-color: #000080\">INFO    </span> <span style=\"color: #808000; text-decoration-color: #808000\">...</span> db_high_water_stats  <span style=\"color: #008000; text-decoration-color: #008000; font-weight: bold\">SUCCESS</span> <span style=\"font-weight: bold\">[</span><span style=\"color: #008080; text-decoration-color: #008080; font-weight: bold\">21</span> <span style=\"color: #800080; text-decoration-color: #800080; font-weight: bold\">rows</span><span style=\"font-weight: bold\">(</span>s<span style=\"font-weight: bold\">)]</span>                          <a href=\"file:///usr/local/google/home/codyfincher/Code/database-tools/oracle-database-assessment/src/server/dbma/database.py\" target=\"_blank\"><span style=\"color: #7f7f7f; text-decoration-color: #7f7f7f\">database.py</span></a><span style=\"color: #7f7f7f; text-decoration-color: #7f7f7f\">:</span><a href=\"file:///usr/local/google/home/codyfincher/Code/database-tools/oracle-database-assessment/src/server/dbma/database.py#160\" target=\"_blank\"><span style=\"color: #7f7f7f; text-decoration-color: #7f7f7f\">160</span></a>\n",
       "</pre>\n"
      ],
      "text/plain": [
       "\u001b[2;36m[10/19/22 23:46:52]\u001b[0m\u001b[2;36m \u001b[0m\u001b[34mINFO    \u001b[0m \u001b[33m...\u001b[0m db_high_water_stats  \u001b[1;32mSUCCESS\u001b[0m \u001b[1m[\u001b[0m\u001b[1;36m21\u001b[0m \u001b[1;35mrows\u001b[0m\u001b[1m(\u001b[0ms\u001b[1m)\u001b[0m\u001b[1m]\u001b[0m                          \u001b]8;id=925061;file:///usr/local/google/home/codyfincher/Code/database-tools/oracle-database-assessment/src/server/dbma/database.py\u001b\\\u001b[2mdatabase.py\u001b[0m\u001b]8;;\u001b\\\u001b[2m:\u001b[0m\u001b]8;id=242004;file:///usr/local/google/home/codyfincher/Code/database-tools/oracle-database-assessment/src/server/dbma/database.py#160\u001b\\\u001b[2m160\u001b[0m\u001b]8;;\u001b\\\n"
      ]
     },
     "metadata": {},
     "output_type": "display_data"
    },
    {
     "data": {
      "text/html": [
       "<pre style=\"white-space:pre;overflow-x:auto;line-height:normal;font-family:Menlo,'DejaVu Sans Mono',consolas,'Courier New',monospace\"><span style=\"color: #7fbfbf; text-decoration-color: #7fbfbf\">[10/19/22 23:46:52] </span><span style=\"color: #000080; text-decoration-color: #000080\">INFO    </span> <span style=\"color: #808000; text-decoration-color: #808000\">...</span> db_instances  <span style=\"color: #008000; text-decoration-color: #008000; font-weight: bold\">SUCCESS</span> <span style=\"font-weight: bold\">[</span><span style=\"color: #008080; text-decoration-color: #008080; font-weight: bold\">1</span> <span style=\"color: #800080; text-decoration-color: #800080; font-weight: bold\">rows</span><span style=\"font-weight: bold\">(</span>s<span style=\"font-weight: bold\">)]</span>                                  <a href=\"file:///usr/local/google/home/codyfincher/Code/database-tools/oracle-database-assessment/src/server/dbma/database.py\" target=\"_blank\"><span style=\"color: #7f7f7f; text-decoration-color: #7f7f7f\">database.py</span></a><span style=\"color: #7f7f7f; text-decoration-color: #7f7f7f\">:</span><a href=\"file:///usr/local/google/home/codyfincher/Code/database-tools/oracle-database-assessment/src/server/dbma/database.py#160\" target=\"_blank\"><span style=\"color: #7f7f7f; text-decoration-color: #7f7f7f\">160</span></a>\n",
       "</pre>\n"
      ],
      "text/plain": [
       "\u001b[2;36m[10/19/22 23:46:52]\u001b[0m\u001b[2;36m \u001b[0m\u001b[34mINFO    \u001b[0m \u001b[33m...\u001b[0m db_instances  \u001b[1;32mSUCCESS\u001b[0m \u001b[1m[\u001b[0m\u001b[1;36m1\u001b[0m \u001b[1;35mrows\u001b[0m\u001b[1m(\u001b[0ms\u001b[1m)\u001b[0m\u001b[1m]\u001b[0m                                  \u001b]8;id=853822;file:///usr/local/google/home/codyfincher/Code/database-tools/oracle-database-assessment/src/server/dbma/database.py\u001b\\\u001b[2mdatabase.py\u001b[0m\u001b]8;;\u001b\\\u001b[2m:\u001b[0m\u001b]8;id=192655;file:///usr/local/google/home/codyfincher/Code/database-tools/oracle-database-assessment/src/server/dbma/database.py#160\u001b\\\u001b[2m160\u001b[0m\u001b]8;;\u001b\\\n"
      ]
     },
     "metadata": {},
     "output_type": "display_data"
    },
    {
     "data": {
      "text/html": [
       "<pre style=\"white-space:pre;overflow-x:auto;line-height:normal;font-family:Menlo,'DejaVu Sans Mono',consolas,'Courier New',monospace\"><span style=\"color: #7fbfbf; text-decoration-color: #7fbfbf\">[10/19/22 23:46:52] </span><span style=\"color: #000080; text-decoration-color: #000080\">INFO    </span> <span style=\"color: #808000; text-decoration-color: #808000\">...</span> db_links  <span style=\"color: #008000; text-decoration-color: #008000; font-weight: bold\">SUCCESS</span> <span style=\"font-weight: bold\">[</span><span style=\"color: #008080; text-decoration-color: #008080; font-weight: bold\">1</span> <span style=\"color: #800080; text-decoration-color: #800080; font-weight: bold\">rows</span><span style=\"font-weight: bold\">(</span>s<span style=\"font-weight: bold\">)]</span>                                      <a href=\"file:///usr/local/google/home/codyfincher/Code/database-tools/oracle-database-assessment/src/server/dbma/database.py\" target=\"_blank\"><span style=\"color: #7f7f7f; text-decoration-color: #7f7f7f\">database.py</span></a><span style=\"color: #7f7f7f; text-decoration-color: #7f7f7f\">:</span><a href=\"file:///usr/local/google/home/codyfincher/Code/database-tools/oracle-database-assessment/src/server/dbma/database.py#160\" target=\"_blank\"><span style=\"color: #7f7f7f; text-decoration-color: #7f7f7f\">160</span></a>\n",
       "</pre>\n"
      ],
      "text/plain": [
       "\u001b[2;36m[10/19/22 23:46:52]\u001b[0m\u001b[2;36m \u001b[0m\u001b[34mINFO    \u001b[0m \u001b[33m...\u001b[0m db_links  \u001b[1;32mSUCCESS\u001b[0m \u001b[1m[\u001b[0m\u001b[1;36m1\u001b[0m \u001b[1;35mrows\u001b[0m\u001b[1m(\u001b[0ms\u001b[1m)\u001b[0m\u001b[1m]\u001b[0m                                      \u001b]8;id=112462;file:///usr/local/google/home/codyfincher/Code/database-tools/oracle-database-assessment/src/server/dbma/database.py\u001b\\\u001b[2mdatabase.py\u001b[0m\u001b]8;;\u001b\\\u001b[2m:\u001b[0m\u001b]8;id=413393;file:///usr/local/google/home/codyfincher/Code/database-tools/oracle-database-assessment/src/server/dbma/database.py#160\u001b\\\u001b[2m160\u001b[0m\u001b]8;;\u001b\\\n"
      ]
     },
     "metadata": {},
     "output_type": "display_data"
    },
    {
     "data": {
      "text/html": [
       "<pre style=\"white-space:pre;overflow-x:auto;line-height:normal;font-family:Menlo,'DejaVu Sans Mono',consolas,'Courier New',monospace\"><span style=\"color: #7fbfbf; text-decoration-color: #7fbfbf\">[10/19/22 23:46:52] </span><span style=\"color: #000080; text-decoration-color: #000080\">INFO    </span> <span style=\"color: #808000; text-decoration-color: #808000\">...</span> db_objects  <span style=\"color: #008000; text-decoration-color: #008000; font-weight: bold\">SUCCESS</span> <span style=\"font-weight: bold\">[</span><span style=\"color: #008080; text-decoration-color: #008080; font-weight: bold\">38</span> <span style=\"color: #800080; text-decoration-color: #800080; font-weight: bold\">rows</span><span style=\"font-weight: bold\">(</span>s<span style=\"font-weight: bold\">)]</span>                                   <a href=\"file:///usr/local/google/home/codyfincher/Code/database-tools/oracle-database-assessment/src/server/dbma/database.py\" target=\"_blank\"><span style=\"color: #7f7f7f; text-decoration-color: #7f7f7f\">database.py</span></a><span style=\"color: #7f7f7f; text-decoration-color: #7f7f7f\">:</span><a href=\"file:///usr/local/google/home/codyfincher/Code/database-tools/oracle-database-assessment/src/server/dbma/database.py#160\" target=\"_blank\"><span style=\"color: #7f7f7f; text-decoration-color: #7f7f7f\">160</span></a>\n",
       "</pre>\n"
      ],
      "text/plain": [
       "\u001b[2;36m[10/19/22 23:46:52]\u001b[0m\u001b[2;36m \u001b[0m\u001b[34mINFO    \u001b[0m \u001b[33m...\u001b[0m db_objects  \u001b[1;32mSUCCESS\u001b[0m \u001b[1m[\u001b[0m\u001b[1;36m38\u001b[0m \u001b[1;35mrows\u001b[0m\u001b[1m(\u001b[0ms\u001b[1m)\u001b[0m\u001b[1m]\u001b[0m                                   \u001b]8;id=527299;file:///usr/local/google/home/codyfincher/Code/database-tools/oracle-database-assessment/src/server/dbma/database.py\u001b\\\u001b[2mdatabase.py\u001b[0m\u001b]8;;\u001b\\\u001b[2m:\u001b[0m\u001b]8;id=921008;file:///usr/local/google/home/codyfincher/Code/database-tools/oracle-database-assessment/src/server/dbma/database.py#160\u001b\\\u001b[2m160\u001b[0m\u001b]8;;\u001b\\\n"
      ]
     },
     "metadata": {},
     "output_type": "display_data"
    },
    {
     "data": {
      "text/html": [
       "<pre style=\"white-space:pre;overflow-x:auto;line-height:normal;font-family:Menlo,'DejaVu Sans Mono',consolas,'Courier New',monospace\"><span style=\"color: #7fbfbf; text-decoration-color: #7fbfbf\">[10/19/22 23:46:52] </span><span style=\"color: #000080; text-decoration-color: #000080\">INFO    </span> <span style=\"color: #808000; text-decoration-color: #808000\">...</span> db_parameters  <span style=\"color: #008000; text-decoration-color: #008000; font-weight: bold\">SUCCESS</span> <span style=\"font-weight: bold\">[</span><span style=\"color: #008080; text-decoration-color: #008080; font-weight: bold\">453</span> <span style=\"color: #800080; text-decoration-color: #800080; font-weight: bold\">rows</span><span style=\"font-weight: bold\">(</span>s<span style=\"font-weight: bold\">)]</span>                               <a href=\"file:///usr/local/google/home/codyfincher/Code/database-tools/oracle-database-assessment/src/server/dbma/database.py\" target=\"_blank\"><span style=\"color: #7f7f7f; text-decoration-color: #7f7f7f\">database.py</span></a><span style=\"color: #7f7f7f; text-decoration-color: #7f7f7f\">:</span><a href=\"file:///usr/local/google/home/codyfincher/Code/database-tools/oracle-database-assessment/src/server/dbma/database.py#160\" target=\"_blank\"><span style=\"color: #7f7f7f; text-decoration-color: #7f7f7f\">160</span></a>\n",
       "</pre>\n"
      ],
      "text/plain": [
       "\u001b[2;36m[10/19/22 23:46:52]\u001b[0m\u001b[2;36m \u001b[0m\u001b[34mINFO    \u001b[0m \u001b[33m...\u001b[0m db_parameters  \u001b[1;32mSUCCESS\u001b[0m \u001b[1m[\u001b[0m\u001b[1;36m453\u001b[0m \u001b[1;35mrows\u001b[0m\u001b[1m(\u001b[0ms\u001b[1m)\u001b[0m\u001b[1m]\u001b[0m                               \u001b]8;id=176581;file:///usr/local/google/home/codyfincher/Code/database-tools/oracle-database-assessment/src/server/dbma/database.py\u001b\\\u001b[2mdatabase.py\u001b[0m\u001b]8;;\u001b\\\u001b[2m:\u001b[0m\u001b]8;id=94654;file:///usr/local/google/home/codyfincher/Code/database-tools/oracle-database-assessment/src/server/dbma/database.py#160\u001b\\\u001b[2m160\u001b[0m\u001b]8;;\u001b\\\n"
      ]
     },
     "metadata": {},
     "output_type": "display_data"
    },
    {
     "data": {
      "text/html": [
       "<pre style=\"white-space:pre;overflow-x:auto;line-height:normal;font-family:Menlo,'DejaVu Sans Mono',consolas,'Courier New',monospace\"><span style=\"color: #7fbfbf; text-decoration-color: #7fbfbf\">[10/19/22 23:46:52] </span><span style=\"color: #000080; text-decoration-color: #000080\">INFO    </span> <span style=\"color: #808000; text-decoration-color: #808000\">...</span> db_summary  <span style=\"color: #008000; text-decoration-color: #008000; font-weight: bold\">SUCCESS</span> <span style=\"font-weight: bold\">[</span><span style=\"color: #008080; text-decoration-color: #008080; font-weight: bold\">1</span> <span style=\"color: #800080; text-decoration-color: #800080; font-weight: bold\">rows</span><span style=\"font-weight: bold\">(</span>s<span style=\"font-weight: bold\">)]</span>                                    <a href=\"file:///usr/local/google/home/codyfincher/Code/database-tools/oracle-database-assessment/src/server/dbma/database.py\" target=\"_blank\"><span style=\"color: #7f7f7f; text-decoration-color: #7f7f7f\">database.py</span></a><span style=\"color: #7f7f7f; text-decoration-color: #7f7f7f\">:</span><a href=\"file:///usr/local/google/home/codyfincher/Code/database-tools/oracle-database-assessment/src/server/dbma/database.py#160\" target=\"_blank\"><span style=\"color: #7f7f7f; text-decoration-color: #7f7f7f\">160</span></a>\n",
       "</pre>\n"
      ],
      "text/plain": [
       "\u001b[2;36m[10/19/22 23:46:52]\u001b[0m\u001b[2;36m \u001b[0m\u001b[34mINFO    \u001b[0m \u001b[33m...\u001b[0m db_summary  \u001b[1;32mSUCCESS\u001b[0m \u001b[1m[\u001b[0m\u001b[1;36m1\u001b[0m \u001b[1;35mrows\u001b[0m\u001b[1m(\u001b[0ms\u001b[1m)\u001b[0m\u001b[1m]\u001b[0m                                    \u001b]8;id=81845;file:///usr/local/google/home/codyfincher/Code/database-tools/oracle-database-assessment/src/server/dbma/database.py\u001b\\\u001b[2mdatabase.py\u001b[0m\u001b]8;;\u001b\\\u001b[2m:\u001b[0m\u001b]8;id=167827;file:///usr/local/google/home/codyfincher/Code/database-tools/oracle-database-assessment/src/server/dbma/database.py#160\u001b\\\u001b[2m160\u001b[0m\u001b]8;;\u001b\\\n"
      ]
     },
     "metadata": {},
     "output_type": "display_data"
    },
    {
     "data": {
      "text/html": [
       "<pre style=\"white-space:pre;overflow-x:auto;line-height:normal;font-family:Menlo,'DejaVu Sans Mono',consolas,'Courier New',monospace\"><span style=\"color: #7fbfbf; text-decoration-color: #7fbfbf\">[10/19/22 23:46:52] </span><span style=\"color: #000080; text-decoration-color: #000080\">INFO    </span> <span style=\"color: #808000; text-decoration-color: #808000\">...</span> db_external_tables  <span style=\"color: #008000; text-decoration-color: #008000; font-weight: bold\">SUCCESS</span> <span style=\"font-weight: bold\">[</span><span style=\"color: #008080; text-decoration-color: #008080; font-weight: bold\">1</span> <span style=\"color: #800080; text-decoration-color: #800080; font-weight: bold\">rows</span><span style=\"font-weight: bold\">(</span>s<span style=\"font-weight: bold\">)]</span>                            <a href=\"file:///usr/local/google/home/codyfincher/Code/database-tools/oracle-database-assessment/src/server/dbma/database.py\" target=\"_blank\"><span style=\"color: #7f7f7f; text-decoration-color: #7f7f7f\">database.py</span></a><span style=\"color: #7f7f7f; text-decoration-color: #7f7f7f\">:</span><a href=\"file:///usr/local/google/home/codyfincher/Code/database-tools/oracle-database-assessment/src/server/dbma/database.py#160\" target=\"_blank\"><span style=\"color: #7f7f7f; text-decoration-color: #7f7f7f\">160</span></a>\n",
       "</pre>\n"
      ],
      "text/plain": [
       "\u001b[2;36m[10/19/22 23:46:52]\u001b[0m\u001b[2;36m \u001b[0m\u001b[34mINFO    \u001b[0m \u001b[33m...\u001b[0m db_external_tables  \u001b[1;32mSUCCESS\u001b[0m \u001b[1m[\u001b[0m\u001b[1;36m1\u001b[0m \u001b[1;35mrows\u001b[0m\u001b[1m(\u001b[0ms\u001b[1m)\u001b[0m\u001b[1m]\u001b[0m                            \u001b]8;id=805205;file:///usr/local/google/home/codyfincher/Code/database-tools/oracle-database-assessment/src/server/dbma/database.py\u001b\\\u001b[2mdatabase.py\u001b[0m\u001b]8;;\u001b\\\u001b[2m:\u001b[0m\u001b]8;id=671846;file:///usr/local/google/home/codyfincher/Code/database-tools/oracle-database-assessment/src/server/dbma/database.py#160\u001b\\\u001b[2m160\u001b[0m\u001b]8;;\u001b\\\n"
      ]
     },
     "metadata": {},
     "output_type": "display_data"
    },
    {
     "data": {
      "text/html": [
       "<pre style=\"white-space:pre;overflow-x:auto;line-height:normal;font-family:Menlo,'DejaVu Sans Mono',consolas,'Courier New',monospace\"><span style=\"color: #7fbfbf; text-decoration-color: #7fbfbf\">[10/19/22 23:46:52] </span><span style=\"color: #000080; text-decoration-color: #000080\">INFO    </span> <span style=\"color: #808000; text-decoration-color: #808000\">...</span> index_per_table  <span style=\"color: #008000; text-decoration-color: #008000; font-weight: bold\">SUCCESS</span> <span style=\"font-weight: bold\">[</span><span style=\"color: #008080; text-decoration-color: #008080; font-weight: bold\">6</span> <span style=\"color: #800080; text-decoration-color: #800080; font-weight: bold\">rows</span><span style=\"font-weight: bold\">(</span>s<span style=\"font-weight: bold\">)]</span>                               <a href=\"file:///usr/local/google/home/codyfincher/Code/database-tools/oracle-database-assessment/src/server/dbma/database.py\" target=\"_blank\"><span style=\"color: #7f7f7f; text-decoration-color: #7f7f7f\">database.py</span></a><span style=\"color: #7f7f7f; text-decoration-color: #7f7f7f\">:</span><a href=\"file:///usr/local/google/home/codyfincher/Code/database-tools/oracle-database-assessment/src/server/dbma/database.py#160\" target=\"_blank\"><span style=\"color: #7f7f7f; text-decoration-color: #7f7f7f\">160</span></a>\n",
       "</pre>\n"
      ],
      "text/plain": [
       "\u001b[2;36m[10/19/22 23:46:52]\u001b[0m\u001b[2;36m \u001b[0m\u001b[34mINFO    \u001b[0m \u001b[33m...\u001b[0m index_per_table  \u001b[1;32mSUCCESS\u001b[0m \u001b[1m[\u001b[0m\u001b[1;36m6\u001b[0m \u001b[1;35mrows\u001b[0m\u001b[1m(\u001b[0ms\u001b[1m)\u001b[0m\u001b[1m]\u001b[0m                               \u001b]8;id=41755;file:///usr/local/google/home/codyfincher/Code/database-tools/oracle-database-assessment/src/server/dbma/database.py\u001b\\\u001b[2mdatabase.py\u001b[0m\u001b]8;;\u001b\\\u001b[2m:\u001b[0m\u001b]8;id=843859;file:///usr/local/google/home/codyfincher/Code/database-tools/oracle-database-assessment/src/server/dbma/database.py#160\u001b\\\u001b[2m160\u001b[0m\u001b]8;;\u001b\\\n"
      ]
     },
     "metadata": {},
     "output_type": "display_data"
    },
    {
     "data": {
      "text/html": [
       "<pre style=\"white-space:pre;overflow-x:auto;line-height:normal;font-family:Menlo,'DejaVu Sans Mono',consolas,'Courier New',monospace\"><span style=\"color: #7fbfbf; text-decoration-color: #7fbfbf\">[10/19/22 23:46:52] </span><span style=\"color: #000080; text-decoration-color: #000080\">INFO    </span> <span style=\"color: #808000; text-decoration-color: #808000\">...</span> index_types  <span style=\"color: #008000; text-decoration-color: #008000; font-weight: bold\">SUCCESS</span> <span style=\"font-weight: bold\">[</span><span style=\"color: #008080; text-decoration-color: #008080; font-weight: bold\">7</span> <span style=\"color: #800080; text-decoration-color: #800080; font-weight: bold\">rows</span><span style=\"font-weight: bold\">(</span>s<span style=\"font-weight: bold\">)]</span>                                   <a href=\"file:///usr/local/google/home/codyfincher/Code/database-tools/oracle-database-assessment/src/server/dbma/database.py\" target=\"_blank\"><span style=\"color: #7f7f7f; text-decoration-color: #7f7f7f\">database.py</span></a><span style=\"color: #7f7f7f; text-decoration-color: #7f7f7f\">:</span><a href=\"file:///usr/local/google/home/codyfincher/Code/database-tools/oracle-database-assessment/src/server/dbma/database.py#160\" target=\"_blank\"><span style=\"color: #7f7f7f; text-decoration-color: #7f7f7f\">160</span></a>\n",
       "</pre>\n"
      ],
      "text/plain": [
       "\u001b[2;36m[10/19/22 23:46:52]\u001b[0m\u001b[2;36m \u001b[0m\u001b[34mINFO    \u001b[0m \u001b[33m...\u001b[0m index_types  \u001b[1;32mSUCCESS\u001b[0m \u001b[1m[\u001b[0m\u001b[1;36m7\u001b[0m \u001b[1;35mrows\u001b[0m\u001b[1m(\u001b[0ms\u001b[1m)\u001b[0m\u001b[1m]\u001b[0m                                   \u001b]8;id=529072;file:///usr/local/google/home/codyfincher/Code/database-tools/oracle-database-assessment/src/server/dbma/database.py\u001b\\\u001b[2mdatabase.py\u001b[0m\u001b]8;;\u001b\\\u001b[2m:\u001b[0m\u001b]8;id=225631;file:///usr/local/google/home/codyfincher/Code/database-tools/oracle-database-assessment/src/server/dbma/database.py#160\u001b\\\u001b[2m160\u001b[0m\u001b]8;;\u001b\\\n"
      ]
     },
     "metadata": {},
     "output_type": "display_data"
    },
    {
     "data": {
      "text/html": [
       "<pre style=\"white-space:pre;overflow-x:auto;line-height:normal;font-family:Menlo,'DejaVu Sans Mono',consolas,'Courier New',monospace\"><span style=\"color: #7fbfbf; text-decoration-color: #7fbfbf\">[10/19/22 23:46:52] </span><span style=\"color: #000080; text-decoration-color: #000080\">INFO    </span> <span style=\"color: #808000; text-decoration-color: #808000\">...</span> io_events  <span style=\"color: #008000; text-decoration-color: #008000; font-weight: bold\">SUCCESS</span> <span style=\"font-weight: bold\">[</span><span style=\"color: #008080; text-decoration-color: #008080; font-weight: bold\">648</span> <span style=\"color: #800080; text-decoration-color: #800080; font-weight: bold\">rows</span><span style=\"font-weight: bold\">(</span>s<span style=\"font-weight: bold\">)]</span>                                   <a href=\"file:///usr/local/google/home/codyfincher/Code/database-tools/oracle-database-assessment/src/server/dbma/database.py\" target=\"_blank\"><span style=\"color: #7f7f7f; text-decoration-color: #7f7f7f\">database.py</span></a><span style=\"color: #7f7f7f; text-decoration-color: #7f7f7f\">:</span><a href=\"file:///usr/local/google/home/codyfincher/Code/database-tools/oracle-database-assessment/src/server/dbma/database.py#160\" target=\"_blank\"><span style=\"color: #7f7f7f; text-decoration-color: #7f7f7f\">160</span></a>\n",
       "</pre>\n"
      ],
      "text/plain": [
       "\u001b[2;36m[10/19/22 23:46:52]\u001b[0m\u001b[2;36m \u001b[0m\u001b[34mINFO    \u001b[0m \u001b[33m...\u001b[0m io_events  \u001b[1;32mSUCCESS\u001b[0m \u001b[1m[\u001b[0m\u001b[1;36m648\u001b[0m \u001b[1;35mrows\u001b[0m\u001b[1m(\u001b[0ms\u001b[1m)\u001b[0m\u001b[1m]\u001b[0m                                   \u001b]8;id=152918;file:///usr/local/google/home/codyfincher/Code/database-tools/oracle-database-assessment/src/server/dbma/database.py\u001b\\\u001b[2mdatabase.py\u001b[0m\u001b]8;;\u001b\\\u001b[2m:\u001b[0m\u001b]8;id=648504;file:///usr/local/google/home/codyfincher/Code/database-tools/oracle-database-assessment/src/server/dbma/database.py#160\u001b\\\u001b[2m160\u001b[0m\u001b]8;;\u001b\\\n"
      ]
     },
     "metadata": {},
     "output_type": "display_data"
    },
    {
     "data": {
      "text/html": [
       "<pre style=\"white-space:pre;overflow-x:auto;line-height:normal;font-family:Menlo,'DejaVu Sans Mono',consolas,'Courier New',monospace\"><span style=\"color: #7fbfbf; text-decoration-color: #7fbfbf\">[10/19/22 23:46:53] </span><span style=\"color: #000080; text-decoration-color: #000080\">INFO    </span> <span style=\"color: #808000; text-decoration-color: #808000\">...</span> io_function  <span style=\"color: #008000; text-decoration-color: #008000; font-weight: bold\">SUCCESS</span> <span style=\"font-weight: bold\">[</span><span style=\"color: #008080; text-decoration-color: #008080; font-weight: bold\">360</span> <span style=\"color: #800080; text-decoration-color: #800080; font-weight: bold\">rows</span><span style=\"font-weight: bold\">(</span>s<span style=\"font-weight: bold\">)]</span>                                 <a href=\"file:///usr/local/google/home/codyfincher/Code/database-tools/oracle-database-assessment/src/server/dbma/database.py\" target=\"_blank\"><span style=\"color: #7f7f7f; text-decoration-color: #7f7f7f\">database.py</span></a><span style=\"color: #7f7f7f; text-decoration-color: #7f7f7f\">:</span><a href=\"file:///usr/local/google/home/codyfincher/Code/database-tools/oracle-database-assessment/src/server/dbma/database.py#160\" target=\"_blank\"><span style=\"color: #7f7f7f; text-decoration-color: #7f7f7f\">160</span></a>\n",
       "</pre>\n"
      ],
      "text/plain": [
       "\u001b[2;36m[10/19/22 23:46:53]\u001b[0m\u001b[2;36m \u001b[0m\u001b[34mINFO    \u001b[0m \u001b[33m...\u001b[0m io_function  \u001b[1;32mSUCCESS\u001b[0m \u001b[1m[\u001b[0m\u001b[1;36m360\u001b[0m \u001b[1;35mrows\u001b[0m\u001b[1m(\u001b[0ms\u001b[1m)\u001b[0m\u001b[1m]\u001b[0m                                 \u001b]8;id=982860;file:///usr/local/google/home/codyfincher/Code/database-tools/oracle-database-assessment/src/server/dbma/database.py\u001b\\\u001b[2mdatabase.py\u001b[0m\u001b]8;;\u001b\\\u001b[2m:\u001b[0m\u001b]8;id=758315;file:///usr/local/google/home/codyfincher/Code/database-tools/oracle-database-assessment/src/server/dbma/database.py#160\u001b\\\u001b[2m160\u001b[0m\u001b]8;;\u001b\\\n"
      ]
     },
     "metadata": {},
     "output_type": "display_data"
    },
    {
     "data": {
      "text/html": [
       "<pre style=\"white-space:pre;overflow-x:auto;line-height:normal;font-family:Menlo,'DejaVu Sans Mono',consolas,'Courier New',monospace\"><span style=\"color: #7fbfbf; text-decoration-color: #7fbfbf\">[10/19/22 23:46:53] </span><span style=\"color: #000080; text-decoration-color: #000080\">INFO    </span> <span style=\"color: #808000; text-decoration-color: #808000\">...</span> pdbs_info  <span style=\"color: #7f7f7f; text-decoration-color: #7f7f7f; font-weight: bold\">SKIPPED</span>                                                 <a href=\"file:///usr/local/google/home/codyfincher/Code/database-tools/oracle-database-assessment/src/server/dbma/database.py\" target=\"_blank\"><span style=\"color: #7f7f7f; text-decoration-color: #7f7f7f\">database.py</span></a><span style=\"color: #7f7f7f; text-decoration-color: #7f7f7f\">:</span><a href=\"file:///usr/local/google/home/codyfincher/Code/database-tools/oracle-database-assessment/src/server/dbma/database.py#163\" target=\"_blank\"><span style=\"color: #7f7f7f; text-decoration-color: #7f7f7f\">163</span></a>\n",
       "</pre>\n"
      ],
      "text/plain": [
       "\u001b[2;36m[10/19/22 23:46:53]\u001b[0m\u001b[2;36m \u001b[0m\u001b[34mINFO    \u001b[0m \u001b[33m...\u001b[0m pdbs_info  \u001b[1;2mSKIPPED\u001b[0m                                                 \u001b]8;id=175627;file:///usr/local/google/home/codyfincher/Code/database-tools/oracle-database-assessment/src/server/dbma/database.py\u001b\\\u001b[2mdatabase.py\u001b[0m\u001b]8;;\u001b\\\u001b[2m:\u001b[0m\u001b]8;id=308789;file:///usr/local/google/home/codyfincher/Code/database-tools/oracle-database-assessment/src/server/dbma/database.py#163\u001b\\\u001b[2m163\u001b[0m\u001b]8;;\u001b\\\n"
      ]
     },
     "metadata": {},
     "output_type": "display_data"
    },
    {
     "data": {
      "text/html": [
       "<pre style=\"white-space:pre;overflow-x:auto;line-height:normal;font-family:Menlo,'DejaVu Sans Mono',consolas,'Courier New',monospace\"><span style=\"color: #7fbfbf; text-decoration-color: #7fbfbf\">[10/19/22 23:46:53] </span><span style=\"color: #000080; text-decoration-color: #000080\">INFO    </span> <span style=\"color: #808000; text-decoration-color: #808000\">...</span> pdbs_in_open_mode  <span style=\"color: #7f7f7f; text-decoration-color: #7f7f7f; font-weight: bold\">SKIPPED</span>                                         <a href=\"file:///usr/local/google/home/codyfincher/Code/database-tools/oracle-database-assessment/src/server/dbma/database.py\" target=\"_blank\"><span style=\"color: #7f7f7f; text-decoration-color: #7f7f7f\">database.py</span></a><span style=\"color: #7f7f7f; text-decoration-color: #7f7f7f\">:</span><a href=\"file:///usr/local/google/home/codyfincher/Code/database-tools/oracle-database-assessment/src/server/dbma/database.py#163\" target=\"_blank\"><span style=\"color: #7f7f7f; text-decoration-color: #7f7f7f\">163</span></a>\n",
       "</pre>\n"
      ],
      "text/plain": [
       "\u001b[2;36m[10/19/22 23:46:53]\u001b[0m\u001b[2;36m \u001b[0m\u001b[34mINFO    \u001b[0m \u001b[33m...\u001b[0m pdbs_in_open_mode  \u001b[1;2mSKIPPED\u001b[0m                                         \u001b]8;id=589111;file:///usr/local/google/home/codyfincher/Code/database-tools/oracle-database-assessment/src/server/dbma/database.py\u001b\\\u001b[2mdatabase.py\u001b[0m\u001b]8;;\u001b\\\u001b[2m:\u001b[0m\u001b]8;id=685633;file:///usr/local/google/home/codyfincher/Code/database-tools/oracle-database-assessment/src/server/dbma/database.py#163\u001b\\\u001b[2m163\u001b[0m\u001b]8;;\u001b\\\n"
      ]
     },
     "metadata": {},
     "output_type": "display_data"
    },
    {
     "data": {
      "text/html": [
       "<pre style=\"white-space:pre;overflow-x:auto;line-height:normal;font-family:Menlo,'DejaVu Sans Mono',consolas,'Courier New',monospace\"><span style=\"color: #7fbfbf; text-decoration-color: #7fbfbf\">[10/19/22 23:46:53] </span><span style=\"color: #000080; text-decoration-color: #000080\">INFO    </span> <span style=\"color: #808000; text-decoration-color: #808000\">...</span> db_source_code  <span style=\"color: #008000; text-decoration-color: #008000; font-weight: bold\">SUCCESS</span> <span style=\"font-weight: bold\">[</span><span style=\"color: #008080; text-decoration-color: #008080; font-weight: bold\">5</span> <span style=\"color: #800080; text-decoration-color: #800080; font-weight: bold\">rows</span><span style=\"font-weight: bold\">(</span>s<span style=\"font-weight: bold\">)]</span>                                <a href=\"file:///usr/local/google/home/codyfincher/Code/database-tools/oracle-database-assessment/src/server/dbma/database.py\" target=\"_blank\"><span style=\"color: #7f7f7f; text-decoration-color: #7f7f7f\">database.py</span></a><span style=\"color: #7f7f7f; text-decoration-color: #7f7f7f\">:</span><a href=\"file:///usr/local/google/home/codyfincher/Code/database-tools/oracle-database-assessment/src/server/dbma/database.py#160\" target=\"_blank\"><span style=\"color: #7f7f7f; text-decoration-color: #7f7f7f\">160</span></a>\n",
       "</pre>\n"
      ],
      "text/plain": [
       "\u001b[2;36m[10/19/22 23:46:53]\u001b[0m\u001b[2;36m \u001b[0m\u001b[34mINFO    \u001b[0m \u001b[33m...\u001b[0m db_source_code  \u001b[1;32mSUCCESS\u001b[0m \u001b[1m[\u001b[0m\u001b[1;36m5\u001b[0m \u001b[1;35mrows\u001b[0m\u001b[1m(\u001b[0ms\u001b[1m)\u001b[0m\u001b[1m]\u001b[0m                                \u001b]8;id=613429;file:///usr/local/google/home/codyfincher/Code/database-tools/oracle-database-assessment/src/server/dbma/database.py\u001b\\\u001b[2mdatabase.py\u001b[0m\u001b]8;;\u001b\\\u001b[2m:\u001b[0m\u001b]8;id=373111;file:///usr/local/google/home/codyfincher/Code/database-tools/oracle-database-assessment/src/server/dbma/database.py#160\u001b\\\u001b[2m160\u001b[0m\u001b]8;;\u001b\\\n"
      ]
     },
     "metadata": {},
     "output_type": "display_data"
    },
    {
     "data": {
      "text/html": [
       "<pre style=\"white-space:pre;overflow-x:auto;line-height:normal;font-family:Menlo,'DejaVu Sans Mono',consolas,'Courier New',monospace\"><span style=\"color: #7fbfbf; text-decoration-color: #7fbfbf\">[10/19/22 23:46:53] </span><span style=\"color: #000080; text-decoration-color: #000080\">INFO    </span> <span style=\"color: #808000; text-decoration-color: #808000\">...</span> db_source_connections  <span style=\"color: #008000; text-decoration-color: #008000; font-weight: bold\">SUCCESS</span> <span style=\"font-weight: bold\">[</span><span style=\"color: #008080; text-decoration-color: #008080; font-weight: bold\">61</span> <span style=\"color: #800080; text-decoration-color: #800080; font-weight: bold\">rows</span><span style=\"font-weight: bold\">(</span>s<span style=\"font-weight: bold\">)]</span>                        <a href=\"file:///usr/local/google/home/codyfincher/Code/database-tools/oracle-database-assessment/src/server/dbma/database.py\" target=\"_blank\"><span style=\"color: #7f7f7f; text-decoration-color: #7f7f7f\">database.py</span></a><span style=\"color: #7f7f7f; text-decoration-color: #7f7f7f\">:</span><a href=\"file:///usr/local/google/home/codyfincher/Code/database-tools/oracle-database-assessment/src/server/dbma/database.py#160\" target=\"_blank\"><span style=\"color: #7f7f7f; text-decoration-color: #7f7f7f\">160</span></a>\n",
       "</pre>\n"
      ],
      "text/plain": [
       "\u001b[2;36m[10/19/22 23:46:53]\u001b[0m\u001b[2;36m \u001b[0m\u001b[34mINFO    \u001b[0m \u001b[33m...\u001b[0m db_source_connections  \u001b[1;32mSUCCESS\u001b[0m \u001b[1m[\u001b[0m\u001b[1;36m61\u001b[0m \u001b[1;35mrows\u001b[0m\u001b[1m(\u001b[0ms\u001b[1m)\u001b[0m\u001b[1m]\u001b[0m                        \u001b]8;id=656083;file:///usr/local/google/home/codyfincher/Code/database-tools/oracle-database-assessment/src/server/dbma/database.py\u001b\\\u001b[2mdatabase.py\u001b[0m\u001b]8;;\u001b\\\u001b[2m:\u001b[0m\u001b]8;id=554243;file:///usr/local/google/home/codyfincher/Code/database-tools/oracle-database-assessment/src/server/dbma/database.py#160\u001b\\\u001b[2m160\u001b[0m\u001b]8;;\u001b\\\n"
      ]
     },
     "metadata": {},
     "output_type": "display_data"
    },
    {
     "data": {
      "text/html": [
       "<pre style=\"white-space:pre;overflow-x:auto;line-height:normal;font-family:Menlo,'DejaVu Sans Mono',consolas,'Courier New',monospace\"><span style=\"color: #7fbfbf; text-decoration-color: #7fbfbf\">[10/19/22 23:46:53] </span><span style=\"color: #000080; text-decoration-color: #000080\">INFO    </span> <span style=\"color: #808000; text-decoration-color: #808000\">...</span> db_sql_stats  <span style=\"color: #008000; text-decoration-color: #008000; font-weight: bold\">SUCCESS</span> <span style=\"font-weight: bold\">[</span><span style=\"color: #008080; text-decoration-color: #008080; font-weight: bold\">299</span> <span style=\"color: #800080; text-decoration-color: #800080; font-weight: bold\">rows</span><span style=\"font-weight: bold\">(</span>s<span style=\"font-weight: bold\">)]</span>                                <a href=\"file:///usr/local/google/home/codyfincher/Code/database-tools/oracle-database-assessment/src/server/dbma/database.py\" target=\"_blank\"><span style=\"color: #7f7f7f; text-decoration-color: #7f7f7f\">database.py</span></a><span style=\"color: #7f7f7f; text-decoration-color: #7f7f7f\">:</span><a href=\"file:///usr/local/google/home/codyfincher/Code/database-tools/oracle-database-assessment/src/server/dbma/database.py#160\" target=\"_blank\"><span style=\"color: #7f7f7f; text-decoration-color: #7f7f7f\">160</span></a>\n",
       "</pre>\n"
      ],
      "text/plain": [
       "\u001b[2;36m[10/19/22 23:46:53]\u001b[0m\u001b[2;36m \u001b[0m\u001b[34mINFO    \u001b[0m \u001b[33m...\u001b[0m db_sql_stats  \u001b[1;32mSUCCESS\u001b[0m \u001b[1m[\u001b[0m\u001b[1;36m299\u001b[0m \u001b[1;35mrows\u001b[0m\u001b[1m(\u001b[0ms\u001b[1m)\u001b[0m\u001b[1m]\u001b[0m                                \u001b]8;id=412905;file:///usr/local/google/home/codyfincher/Code/database-tools/oracle-database-assessment/src/server/dbma/database.py\u001b\\\u001b[2mdatabase.py\u001b[0m\u001b]8;;\u001b\\\u001b[2m:\u001b[0m\u001b]8;id=293747;file:///usr/local/google/home/codyfincher/Code/database-tools/oracle-database-assessment/src/server/dbma/database.py#160\u001b\\\u001b[2m160\u001b[0m\u001b]8;;\u001b\\\n"
      ]
     },
     "metadata": {},
     "output_type": "display_data"
    },
    {
     "data": {
      "text/html": [
       "<pre style=\"white-space:pre;overflow-x:auto;line-height:normal;font-family:Menlo,'DejaVu Sans Mono',consolas,'Courier New',monospace\"><span style=\"color: #7fbfbf; text-decoration-color: #7fbfbf\">[10/19/22 23:46:53] </span><span style=\"color: #000080; text-decoration-color: #000080\">INFO    </span> <span style=\"color: #808000; text-decoration-color: #808000\">...</span> db_constraint_summary  <span style=\"color: #008000; text-decoration-color: #008000; font-weight: bold\">SUCCESS</span> <span style=\"font-weight: bold\">[</span><span style=\"color: #008080; text-decoration-color: #008080; font-weight: bold\">22</span> <span style=\"color: #800080; text-decoration-color: #800080; font-weight: bold\">rows</span><span style=\"font-weight: bold\">(</span>s<span style=\"font-weight: bold\">)]</span>                        <a href=\"file:///usr/local/google/home/codyfincher/Code/database-tools/oracle-database-assessment/src/server/dbma/database.py\" target=\"_blank\"><span style=\"color: #7f7f7f; text-decoration-color: #7f7f7f\">database.py</span></a><span style=\"color: #7f7f7f; text-decoration-color: #7f7f7f\">:</span><a href=\"file:///usr/local/google/home/codyfincher/Code/database-tools/oracle-database-assessment/src/server/dbma/database.py#160\" target=\"_blank\"><span style=\"color: #7f7f7f; text-decoration-color: #7f7f7f\">160</span></a>\n",
       "</pre>\n"
      ],
      "text/plain": [
       "\u001b[2;36m[10/19/22 23:46:53]\u001b[0m\u001b[2;36m \u001b[0m\u001b[34mINFO    \u001b[0m \u001b[33m...\u001b[0m db_constraint_summary  \u001b[1;32mSUCCESS\u001b[0m \u001b[1m[\u001b[0m\u001b[1;36m22\u001b[0m \u001b[1;35mrows\u001b[0m\u001b[1m(\u001b[0ms\u001b[1m)\u001b[0m\u001b[1m]\u001b[0m                        \u001b]8;id=870023;file:///usr/local/google/home/codyfincher/Code/database-tools/oracle-database-assessment/src/server/dbma/database.py\u001b\\\u001b[2mdatabase.py\u001b[0m\u001b]8;;\u001b\\\u001b[2m:\u001b[0m\u001b]8;id=948805;file:///usr/local/google/home/codyfincher/Code/database-tools/oracle-database-assessment/src/server/dbma/database.py#160\u001b\\\u001b[2m160\u001b[0m\u001b]8;;\u001b\\\n"
      ]
     },
     "metadata": {},
     "output_type": "display_data"
    },
    {
     "data": {
      "text/html": [
       "<pre style=\"white-space:pre;overflow-x:auto;line-height:normal;font-family:Menlo,'DejaVu Sans Mono',consolas,'Courier New',monospace\"><span style=\"color: #7fbfbf; text-decoration-color: #7fbfbf\">[10/19/22 23:46:53] </span><span style=\"color: #000080; text-decoration-color: #000080\">INFO    </span> <span style=\"color: #808000; text-decoration-color: #808000\">...</span> db_used_space_details  <span style=\"color: #008000; text-decoration-color: #008000; font-weight: bold\">SUCCESS</span> <span style=\"font-weight: bold\">[</span><span style=\"color: #008080; text-decoration-color: #008080; font-weight: bold\">9</span> <span style=\"color: #800080; text-decoration-color: #800080; font-weight: bold\">rows</span><span style=\"font-weight: bold\">(</span>s<span style=\"font-weight: bold\">)]</span>                         <a href=\"file:///usr/local/google/home/codyfincher/Code/database-tools/oracle-database-assessment/src/server/dbma/database.py\" target=\"_blank\"><span style=\"color: #7f7f7f; text-decoration-color: #7f7f7f\">database.py</span></a><span style=\"color: #7f7f7f; text-decoration-color: #7f7f7f\">:</span><a href=\"file:///usr/local/google/home/codyfincher/Code/database-tools/oracle-database-assessment/src/server/dbma/database.py#160\" target=\"_blank\"><span style=\"color: #7f7f7f; text-decoration-color: #7f7f7f\">160</span></a>\n",
       "</pre>\n"
      ],
      "text/plain": [
       "\u001b[2;36m[10/19/22 23:46:53]\u001b[0m\u001b[2;36m \u001b[0m\u001b[34mINFO    \u001b[0m \u001b[33m...\u001b[0m db_used_space_details  \u001b[1;32mSUCCESS\u001b[0m \u001b[1m[\u001b[0m\u001b[1;36m9\u001b[0m \u001b[1;35mrows\u001b[0m\u001b[1m(\u001b[0ms\u001b[1m)\u001b[0m\u001b[1m]\u001b[0m                         \u001b]8;id=715150;file:///usr/local/google/home/codyfincher/Code/database-tools/oracle-database-assessment/src/server/dbma/database.py\u001b\\\u001b[2mdatabase.py\u001b[0m\u001b]8;;\u001b\\\u001b[2m:\u001b[0m\u001b]8;id=515965;file:///usr/local/google/home/codyfincher/Code/database-tools/oracle-database-assessment/src/server/dbma/database.py#160\u001b\\\u001b[2m160\u001b[0m\u001b]8;;\u001b\\\n"
      ]
     },
     "metadata": {},
     "output_type": "display_data"
    },
    {
     "data": {
      "text/html": [
       "<pre style=\"white-space:pre;overflow-x:auto;line-height:normal;font-family:Menlo,'DejaVu Sans Mono',consolas,'Courier New',monospace\"><span style=\"color: #7fbfbf; text-decoration-color: #7fbfbf\">[10/19/22 23:46:53] </span><span style=\"color: #000080; text-decoration-color: #000080\">INFO    </span> <span style=\"color: #808000; text-decoration-color: #808000\">...</span> db_user_tablespace_segments  <span style=\"color: #008000; text-decoration-color: #008000; font-weight: bold\">SUCCESS</span> <span style=\"font-weight: bold\">[</span><span style=\"color: #008080; text-decoration-color: #008080; font-weight: bold\">25</span> <span style=\"color: #800080; text-decoration-color: #800080; font-weight: bold\">rows</span><span style=\"font-weight: bold\">(</span>s<span style=\"font-weight: bold\">)]</span>                  <a href=\"file:///usr/local/google/home/codyfincher/Code/database-tools/oracle-database-assessment/src/server/dbma/database.py\" target=\"_blank\"><span style=\"color: #7f7f7f; text-decoration-color: #7f7f7f\">database.py</span></a><span style=\"color: #7f7f7f; text-decoration-color: #7f7f7f\">:</span><a href=\"file:///usr/local/google/home/codyfincher/Code/database-tools/oracle-database-assessment/src/server/dbma/database.py#160\" target=\"_blank\"><span style=\"color: #7f7f7f; text-decoration-color: #7f7f7f\">160</span></a>\n",
       "</pre>\n"
      ],
      "text/plain": [
       "\u001b[2;36m[10/19/22 23:46:53]\u001b[0m\u001b[2;36m \u001b[0m\u001b[34mINFO    \u001b[0m \u001b[33m...\u001b[0m db_user_tablespace_segments  \u001b[1;32mSUCCESS\u001b[0m \u001b[1m[\u001b[0m\u001b[1;36m25\u001b[0m \u001b[1;35mrows\u001b[0m\u001b[1m(\u001b[0ms\u001b[1m)\u001b[0m\u001b[1m]\u001b[0m                  \u001b]8;id=950965;file:///usr/local/google/home/codyfincher/Code/database-tools/oracle-database-assessment/src/server/dbma/database.py\u001b\\\u001b[2mdatabase.py\u001b[0m\u001b]8;;\u001b\\\u001b[2m:\u001b[0m\u001b]8;id=534007;file:///usr/local/google/home/codyfincher/Code/database-tools/oracle-database-assessment/src/server/dbma/database.py#160\u001b\\\u001b[2m160\u001b[0m\u001b]8;;\u001b\\\n"
      ]
     },
     "metadata": {},
     "output_type": "display_data"
    },
    {
     "data": {
      "text/html": [
       "<pre style=\"white-space:pre;overflow-x:auto;line-height:normal;font-family:Menlo,'DejaVu Sans Mono',consolas,'Courier New',monospace\"><span style=\"color: #7fbfbf; text-decoration-color: #7fbfbf\">[10/19/22 23:46:53] </span><span style=\"color: #000080; text-decoration-color: #000080\">INFO    </span> executing transformation script transform_01                           <a href=\"file:///usr/local/google/home/codyfincher/Code/database-tools/oracle-database-assessment/src/server/dbma/database.py\" target=\"_blank\"><span style=\"color: #7f7f7f; text-decoration-color: #7f7f7f\">database.py</span></a><span style=\"color: #7f7f7f; text-decoration-color: #7f7f7f\">:</span><a href=\"file:///usr/local/google/home/codyfincher/Code/database-tools/oracle-database-assessment/src/server/dbma/database.py#136\" target=\"_blank\"><span style=\"color: #7f7f7f; text-decoration-color: #7f7f7f\">136</span></a>\n",
       "</pre>\n"
      ],
      "text/plain": [
       "\u001b[2;36m[10/19/22 23:46:53]\u001b[0m\u001b[2;36m \u001b[0m\u001b[34mINFO    \u001b[0m executing transformation script transform_01                           \u001b]8;id=29680;file:///usr/local/google/home/codyfincher/Code/database-tools/oracle-database-assessment/src/server/dbma/database.py\u001b\\\u001b[2mdatabase.py\u001b[0m\u001b]8;;\u001b\\\u001b[2m:\u001b[0m\u001b]8;id=800208;file:///usr/local/google/home/codyfincher/Code/database-tools/oracle-database-assessment/src/server/dbma/database.py#136\u001b\\\u001b[2m136\u001b[0m\u001b]8;;\u001b\\\n"
      ]
     },
     "metadata": {},
     "output_type": "display_data"
    },
    {
     "data": {
      "text/html": [
       "<pre style=\"white-space:pre;overflow-x:auto;line-height:normal;font-family:Menlo,'DejaVu Sans Mono',consolas,'Courier New',monospace\"><span style=\"color: #7fbfbf; text-decoration-color: #7fbfbf\">[10/19/22 23:46:53] </span><span style=\"color: #000080; text-decoration-color: #000080\">INFO    </span> executing transformation script transform_02                           <a href=\"file:///usr/local/google/home/codyfincher/Code/database-tools/oracle-database-assessment/src/server/dbma/database.py\" target=\"_blank\"><span style=\"color: #7f7f7f; text-decoration-color: #7f7f7f\">database.py</span></a><span style=\"color: #7f7f7f; text-decoration-color: #7f7f7f\">:</span><a href=\"file:///usr/local/google/home/codyfincher/Code/database-tools/oracle-database-assessment/src/server/dbma/database.py#136\" target=\"_blank\"><span style=\"color: #7f7f7f; text-decoration-color: #7f7f7f\">136</span></a>\n",
       "</pre>\n"
      ],
      "text/plain": [
       "\u001b[2;36m[10/19/22 23:46:53]\u001b[0m\u001b[2;36m \u001b[0m\u001b[34mINFO    \u001b[0m executing transformation script transform_02                           \u001b]8;id=33757;file:///usr/local/google/home/codyfincher/Code/database-tools/oracle-database-assessment/src/server/dbma/database.py\u001b\\\u001b[2mdatabase.py\u001b[0m\u001b]8;;\u001b\\\u001b[2m:\u001b[0m\u001b]8;id=455465;file:///usr/local/google/home/codyfincher/Code/database-tools/oracle-database-assessment/src/server/dbma/database.py#136\u001b\\\u001b[2m136\u001b[0m\u001b]8;;\u001b\\\n"
      ]
     },
     "metadata": {},
     "output_type": "display_data"
    },
    {
     "data": {
      "text/html": [
       "<pre style=\"white-space:pre;overflow-x:auto;line-height:normal;font-family:Menlo,'DejaVu Sans Mono',consolas,'Courier New',monospace\"><span style=\"color: #7fbfbf; text-decoration-color: #7fbfbf\">[10/19/22 23:46:53] </span><span style=\"color: #000080; text-decoration-color: #000080\">INFO    </span> executing transformation script transform_03                           <a href=\"file:///usr/local/google/home/codyfincher/Code/database-tools/oracle-database-assessment/src/server/dbma/database.py\" target=\"_blank\"><span style=\"color: #7f7f7f; text-decoration-color: #7f7f7f\">database.py</span></a><span style=\"color: #7f7f7f; text-decoration-color: #7f7f7f\">:</span><a href=\"file:///usr/local/google/home/codyfincher/Code/database-tools/oracle-database-assessment/src/server/dbma/database.py#136\" target=\"_blank\"><span style=\"color: #7f7f7f; text-decoration-color: #7f7f7f\">136</span></a>\n",
       "</pre>\n"
      ],
      "text/plain": [
       "\u001b[2;36m[10/19/22 23:46:53]\u001b[0m\u001b[2;36m \u001b[0m\u001b[34mINFO    \u001b[0m executing transformation script transform_03                           \u001b]8;id=89456;file:///usr/local/google/home/codyfincher/Code/database-tools/oracle-database-assessment/src/server/dbma/database.py\u001b\\\u001b[2mdatabase.py\u001b[0m\u001b]8;;\u001b\\\u001b[2m:\u001b[0m\u001b]8;id=410781;file:///usr/local/google/home/codyfincher/Code/database-tools/oracle-database-assessment/src/server/dbma/database.py#136\u001b\\\u001b[2m136\u001b[0m\u001b]8;;\u001b\\\n"
      ]
     },
     "metadata": {},
     "output_type": "display_data"
    },
    {
     "data": {
      "text/html": [
       "<pre style=\"white-space:pre;overflow-x:auto;line-height:normal;font-family:Menlo,'DejaVu Sans Mono',consolas,'Courier New',monospace\"><span style=\"color: #7fbfbf; text-decoration-color: #7fbfbf\">[10/19/22 23:46:53] </span><span style=\"color: #000080; text-decoration-color: #000080\">INFO    </span> executing transformation script transform_04                           <a href=\"file:///usr/local/google/home/codyfincher/Code/database-tools/oracle-database-assessment/src/server/dbma/database.py\" target=\"_blank\"><span style=\"color: #7f7f7f; text-decoration-color: #7f7f7f\">database.py</span></a><span style=\"color: #7f7f7f; text-decoration-color: #7f7f7f\">:</span><a href=\"file:///usr/local/google/home/codyfincher/Code/database-tools/oracle-database-assessment/src/server/dbma/database.py#136\" target=\"_blank\"><span style=\"color: #7f7f7f; text-decoration-color: #7f7f7f\">136</span></a>\n",
       "</pre>\n"
      ],
      "text/plain": [
       "\u001b[2;36m[10/19/22 23:46:53]\u001b[0m\u001b[2;36m \u001b[0m\u001b[34mINFO    \u001b[0m executing transformation script transform_04                           \u001b]8;id=502393;file:///usr/local/google/home/codyfincher/Code/database-tools/oracle-database-assessment/src/server/dbma/database.py\u001b\\\u001b[2mdatabase.py\u001b[0m\u001b]8;;\u001b\\\u001b[2m:\u001b[0m\u001b]8;id=75985;file:///usr/local/google/home/codyfincher/Code/database-tools/oracle-database-assessment/src/server/dbma/database.py#136\u001b\\\u001b[2m136\u001b[0m\u001b]8;;\u001b\\\n"
      ]
     },
     "metadata": {},
     "output_type": "display_data"
    },
    {
     "data": {
      "text/html": [
       "<pre style=\"white-space:pre;overflow-x:auto;line-height:normal;font-family:Menlo,'DejaVu Sans Mono',consolas,'Courier New',monospace\"><span style=\"color: #7fbfbf; text-decoration-color: #7fbfbf\">[10/19/22 23:46:53] </span><span style=\"color: #000080; text-decoration-color: #000080\">INFO    </span> executing transformation script transform_05                           <a href=\"file:///usr/local/google/home/codyfincher/Code/database-tools/oracle-database-assessment/src/server/dbma/database.py\" target=\"_blank\"><span style=\"color: #7f7f7f; text-decoration-color: #7f7f7f\">database.py</span></a><span style=\"color: #7f7f7f; text-decoration-color: #7f7f7f\">:</span><a href=\"file:///usr/local/google/home/codyfincher/Code/database-tools/oracle-database-assessment/src/server/dbma/database.py#136\" target=\"_blank\"><span style=\"color: #7f7f7f; text-decoration-color: #7f7f7f\">136</span></a>\n",
       "</pre>\n"
      ],
      "text/plain": [
       "\u001b[2;36m[10/19/22 23:46:53]\u001b[0m\u001b[2;36m \u001b[0m\u001b[34mINFO    \u001b[0m executing transformation script transform_05                           \u001b]8;id=636232;file:///usr/local/google/home/codyfincher/Code/database-tools/oracle-database-assessment/src/server/dbma/database.py\u001b\\\u001b[2mdatabase.py\u001b[0m\u001b]8;;\u001b\\\u001b[2m:\u001b[0m\u001b]8;id=839861;file:///usr/local/google/home/codyfincher/Code/database-tools/oracle-database-assessment/src/server/dbma/database.py#136\u001b\\\u001b[2m136\u001b[0m\u001b]8;;\u001b\\\n"
      ]
     },
     "metadata": {},
     "output_type": "display_data"
    },
    {
     "data": {
      "text/html": [
       "<pre style=\"white-space:pre;overflow-x:auto;line-height:normal;font-family:Menlo,'DejaVu Sans Mono',consolas,'Courier New',monospace\"><span style=\"color: #7fbfbf; text-decoration-color: #7fbfbf\">[10/19/22 23:46:53] </span><span style=\"color: #000080; text-decoration-color: #000080\">INFO    </span> executing transformation script transform_06                           <a href=\"file:///usr/local/google/home/codyfincher/Code/database-tools/oracle-database-assessment/src/server/dbma/database.py\" target=\"_blank\"><span style=\"color: #7f7f7f; text-decoration-color: #7f7f7f\">database.py</span></a><span style=\"color: #7f7f7f; text-decoration-color: #7f7f7f\">:</span><a href=\"file:///usr/local/google/home/codyfincher/Code/database-tools/oracle-database-assessment/src/server/dbma/database.py#136\" target=\"_blank\"><span style=\"color: #7f7f7f; text-decoration-color: #7f7f7f\">136</span></a>\n",
       "</pre>\n"
      ],
      "text/plain": [
       "\u001b[2;36m[10/19/22 23:46:53]\u001b[0m\u001b[2;36m \u001b[0m\u001b[34mINFO    \u001b[0m executing transformation script transform_06                           \u001b]8;id=193528;file:///usr/local/google/home/codyfincher/Code/database-tools/oracle-database-assessment/src/server/dbma/database.py\u001b\\\u001b[2mdatabase.py\u001b[0m\u001b]8;;\u001b\\\u001b[2m:\u001b[0m\u001b]8;id=39078;file:///usr/local/google/home/codyfincher/Code/database-tools/oracle-database-assessment/src/server/dbma/database.py#136\u001b\\\u001b[2m136\u001b[0m\u001b]8;;\u001b\\\n"
      ]
     },
     "metadata": {},
     "output_type": "display_data"
    },
    {
     "data": {
      "text/html": [
       "<pre style=\"white-space:pre;overflow-x:auto;line-height:normal;font-family:Menlo,'DejaVu Sans Mono',consolas,'Courier New',monospace\"><span style=\"color: #7fbfbf; text-decoration-color: #7fbfbf\">[10/19/22 23:46:53] </span><span style=\"color: #000080; text-decoration-color: #000080\">INFO    </span> executing transformation script transform_07                           <a href=\"file:///usr/local/google/home/codyfincher/Code/database-tools/oracle-database-assessment/src/server/dbma/database.py\" target=\"_blank\"><span style=\"color: #7f7f7f; text-decoration-color: #7f7f7f\">database.py</span></a><span style=\"color: #7f7f7f; text-decoration-color: #7f7f7f\">:</span><a href=\"file:///usr/local/google/home/codyfincher/Code/database-tools/oracle-database-assessment/src/server/dbma/database.py#136\" target=\"_blank\"><span style=\"color: #7f7f7f; text-decoration-color: #7f7f7f\">136</span></a>\n",
       "</pre>\n"
      ],
      "text/plain": [
       "\u001b[2;36m[10/19/22 23:46:53]\u001b[0m\u001b[2;36m \u001b[0m\u001b[34mINFO    \u001b[0m executing transformation script transform_07                           \u001b]8;id=267771;file:///usr/local/google/home/codyfincher/Code/database-tools/oracle-database-assessment/src/server/dbma/database.py\u001b\\\u001b[2mdatabase.py\u001b[0m\u001b]8;;\u001b\\\u001b[2m:\u001b[0m\u001b]8;id=546644;file:///usr/local/google/home/codyfincher/Code/database-tools/oracle-database-assessment/src/server/dbma/database.py#136\u001b\\\u001b[2m136\u001b[0m\u001b]8;;\u001b\\\n"
      ]
     },
     "metadata": {},
     "output_type": "display_data"
    },
    {
     "data": {
      "text/html": [
       "<pre style=\"white-space:pre;overflow-x:auto;line-height:normal;font-family:Menlo,'DejaVu Sans Mono',consolas,'Courier New',monospace\"><span style=\"color: #7fbfbf; text-decoration-color: #7fbfbf\">[10/19/22 23:46:53] </span><span style=\"color: #000080; text-decoration-color: #000080\">INFO    </span> executing transformation script transform_08                           <a href=\"file:///usr/local/google/home/codyfincher/Code/database-tools/oracle-database-assessment/src/server/dbma/database.py\" target=\"_blank\"><span style=\"color: #7f7f7f; text-decoration-color: #7f7f7f\">database.py</span></a><span style=\"color: #7f7f7f; text-decoration-color: #7f7f7f\">:</span><a href=\"file:///usr/local/google/home/codyfincher/Code/database-tools/oracle-database-assessment/src/server/dbma/database.py#136\" target=\"_blank\"><span style=\"color: #7f7f7f; text-decoration-color: #7f7f7f\">136</span></a>\n",
       "</pre>\n"
      ],
      "text/plain": [
       "\u001b[2;36m[10/19/22 23:46:53]\u001b[0m\u001b[2;36m \u001b[0m\u001b[34mINFO    \u001b[0m executing transformation script transform_08                           \u001b]8;id=776739;file:///usr/local/google/home/codyfincher/Code/database-tools/oracle-database-assessment/src/server/dbma/database.py\u001b\\\u001b[2mdatabase.py\u001b[0m\u001b]8;;\u001b\\\u001b[2m:\u001b[0m\u001b]8;id=542872;file:///usr/local/google/home/codyfincher/Code/database-tools/oracle-database-assessment/src/server/dbma/database.py#136\u001b\\\u001b[2m136\u001b[0m\u001b]8;;\u001b\\\n"
      ]
     },
     "metadata": {},
     "output_type": "display_data"
    },
    {
     "data": {
      "text/html": [
       "<pre style=\"white-space:pre;overflow-x:auto;line-height:normal;font-family:Menlo,'DejaVu Sans Mono',consolas,'Courier New',monospace\"><span style=\"color: #7fbfbf; text-decoration-color: #7fbfbf\">[10/19/22 23:46:53] </span><span style=\"color: #000080; text-decoration-color: #000080\">INFO    </span> executing transformation script transform_09                           <a href=\"file:///usr/local/google/home/codyfincher/Code/database-tools/oracle-database-assessment/src/server/dbma/database.py\" target=\"_blank\"><span style=\"color: #7f7f7f; text-decoration-color: #7f7f7f\">database.py</span></a><span style=\"color: #7f7f7f; text-decoration-color: #7f7f7f\">:</span><a href=\"file:///usr/local/google/home/codyfincher/Code/database-tools/oracle-database-assessment/src/server/dbma/database.py#136\" target=\"_blank\"><span style=\"color: #7f7f7f; text-decoration-color: #7f7f7f\">136</span></a>\n",
       "</pre>\n"
      ],
      "text/plain": [
       "\u001b[2;36m[10/19/22 23:46:53]\u001b[0m\u001b[2;36m \u001b[0m\u001b[34mINFO    \u001b[0m executing transformation script transform_09                           \u001b]8;id=530150;file:///usr/local/google/home/codyfincher/Code/database-tools/oracle-database-assessment/src/server/dbma/database.py\u001b\\\u001b[2mdatabase.py\u001b[0m\u001b]8;;\u001b\\\u001b[2m:\u001b[0m\u001b]8;id=404412;file:///usr/local/google/home/codyfincher/Code/database-tools/oracle-database-assessment/src/server/dbma/database.py#136\u001b\\\u001b[2m136\u001b[0m\u001b]8;;\u001b\\\n"
      ]
     },
     "metadata": {},
     "output_type": "display_data"
    },
    {
     "data": {
      "text/html": [
       "<pre style=\"white-space:pre;overflow-x:auto;line-height:normal;font-family:Menlo,'DejaVu Sans Mono',consolas,'Courier New',monospace\"><span style=\"color: #7fbfbf; text-decoration-color: #7fbfbf\">[10/19/22 23:46:53] </span><span style=\"color: #000080; text-decoration-color: #000080\">INFO    </span> executing transformation script transform_10                           <a href=\"file:///usr/local/google/home/codyfincher/Code/database-tools/oracle-database-assessment/src/server/dbma/database.py\" target=\"_blank\"><span style=\"color: #7f7f7f; text-decoration-color: #7f7f7f\">database.py</span></a><span style=\"color: #7f7f7f; text-decoration-color: #7f7f7f\">:</span><a href=\"file:///usr/local/google/home/codyfincher/Code/database-tools/oracle-database-assessment/src/server/dbma/database.py#136\" target=\"_blank\"><span style=\"color: #7f7f7f; text-decoration-color: #7f7f7f\">136</span></a>\n",
       "</pre>\n"
      ],
      "text/plain": [
       "\u001b[2;36m[10/19/22 23:46:53]\u001b[0m\u001b[2;36m \u001b[0m\u001b[34mINFO    \u001b[0m executing transformation script transform_10                           \u001b]8;id=298534;file:///usr/local/google/home/codyfincher/Code/database-tools/oracle-database-assessment/src/server/dbma/database.py\u001b\\\u001b[2mdatabase.py\u001b[0m\u001b]8;;\u001b\\\u001b[2m:\u001b[0m\u001b]8;id=172353;file:///usr/local/google/home/codyfincher/Code/database-tools/oracle-database-assessment/src/server/dbma/database.py#136\u001b\\\u001b[2m136\u001b[0m\u001b]8;;\u001b\\\n"
      ]
     },
     "metadata": {},
     "output_type": "display_data"
    },
    {
     "data": {
      "text/html": [
       "<pre style=\"white-space:pre;overflow-x:auto;line-height:normal;font-family:Menlo,'DejaVu Sans Mono',consolas,'Courier New',monospace\"><span style=\"color: #7fbfbf; text-decoration-color: #7fbfbf\">[10/19/22 23:46:54] </span><span style=\"color: #000080; text-decoration-color: #000080\">INFO    </span> executing transformation script transform_11                           <a href=\"file:///usr/local/google/home/codyfincher/Code/database-tools/oracle-database-assessment/src/server/dbma/database.py\" target=\"_blank\"><span style=\"color: #7f7f7f; text-decoration-color: #7f7f7f\">database.py</span></a><span style=\"color: #7f7f7f; text-decoration-color: #7f7f7f\">:</span><a href=\"file:///usr/local/google/home/codyfincher/Code/database-tools/oracle-database-assessment/src/server/dbma/database.py#136\" target=\"_blank\"><span style=\"color: #7f7f7f; text-decoration-color: #7f7f7f\">136</span></a>\n",
       "</pre>\n"
      ],
      "text/plain": [
       "\u001b[2;36m[10/19/22 23:46:54]\u001b[0m\u001b[2;36m \u001b[0m\u001b[34mINFO    \u001b[0m executing transformation script transform_11                           \u001b]8;id=183602;file:///usr/local/google/home/codyfincher/Code/database-tools/oracle-database-assessment/src/server/dbma/database.py\u001b\\\u001b[2mdatabase.py\u001b[0m\u001b]8;;\u001b\\\u001b[2m:\u001b[0m\u001b]8;id=887273;file:///usr/local/google/home/codyfincher/Code/database-tools/oracle-database-assessment/src/server/dbma/database.py#136\u001b\\\u001b[2m136\u001b[0m\u001b]8;;\u001b\\\n"
      ]
     },
     "metadata": {},
     "output_type": "display_data"
    },
    {
     "data": {
      "text/html": [
       "<pre style=\"white-space:pre;overflow-x:auto;line-height:normal;font-family:Menlo,'DejaVu Sans Mono',consolas,'Courier New',monospace\"><span style=\"color: #7fbfbf; text-decoration-color: #7fbfbf\">[10/19/22 23:46:54] </span><span style=\"color: #000080; text-decoration-color: #000080\">INFO    </span> executing transformation script transform_12                           <a href=\"file:///usr/local/google/home/codyfincher/Code/database-tools/oracle-database-assessment/src/server/dbma/database.py\" target=\"_blank\"><span style=\"color: #7f7f7f; text-decoration-color: #7f7f7f\">database.py</span></a><span style=\"color: #7f7f7f; text-decoration-color: #7f7f7f\">:</span><a href=\"file:///usr/local/google/home/codyfincher/Code/database-tools/oracle-database-assessment/src/server/dbma/database.py#136\" target=\"_blank\"><span style=\"color: #7f7f7f; text-decoration-color: #7f7f7f\">136</span></a>\n",
       "</pre>\n"
      ],
      "text/plain": [
       "\u001b[2;36m[10/19/22 23:46:54]\u001b[0m\u001b[2;36m \u001b[0m\u001b[34mINFO    \u001b[0m executing transformation script transform_12                           \u001b]8;id=909512;file:///usr/local/google/home/codyfincher/Code/database-tools/oracle-database-assessment/src/server/dbma/database.py\u001b\\\u001b[2mdatabase.py\u001b[0m\u001b]8;;\u001b\\\u001b[2m:\u001b[0m\u001b]8;id=312574;file:///usr/local/google/home/codyfincher/Code/database-tools/oracle-database-assessment/src/server/dbma/database.py#136\u001b\\\u001b[2m136\u001b[0m\u001b]8;;\u001b\\\n"
      ]
     },
     "metadata": {},
     "output_type": "display_data"
    },
    {
     "data": {
      "text/html": [
       "<pre style=\"white-space:pre;overflow-x:auto;line-height:normal;font-family:Menlo,'DejaVu Sans Mono',consolas,'Courier New',monospace\"><span style=\"color: #7fbfbf; text-decoration-color: #7fbfbf\">[10/19/22 23:46:54] </span><span style=\"color: #000080; text-decoration-color: #000080\">INFO    </span> <span style=\"font-weight: bold\">[]</span>                                                                        <a href=\"file:///usr/local/google/home/codyfincher/Code/database-tools/oracle-database-assessment/src/server/dbma/transformer/engine.py\" target=\"_blank\"><span style=\"color: #7f7f7f; text-decoration-color: #7f7f7f\">engine.py</span></a><span style=\"color: #7f7f7f; text-decoration-color: #7f7f7f\">:</span><a href=\"file:///usr/local/google/home/codyfincher/Code/database-tools/oracle-database-assessment/src/server/dbma/transformer/engine.py#94\" target=\"_blank\"><span style=\"color: #7f7f7f; text-decoration-color: #7f7f7f\">94</span></a>\n",
       "</pre>\n"
      ],
      "text/plain": [
       "\u001b[2;36m[10/19/22 23:46:54]\u001b[0m\u001b[2;36m \u001b[0m\u001b[34mINFO    \u001b[0m \u001b[1m[\u001b[0m\u001b[1m]\u001b[0m                                                                        \u001b]8;id=351243;file:///usr/local/google/home/codyfincher/Code/database-tools/oracle-database-assessment/src/server/dbma/transformer/engine.py\u001b\\\u001b[2mengine.py\u001b[0m\u001b]8;;\u001b\\\u001b[2m:\u001b[0m\u001b]8;id=973409;file:///usr/local/google/home/codyfincher/Code/database-tools/oracle-database-assessment/src/server/dbma/transformer/engine.py#94\u001b\\\u001b[2m94\u001b[0m\u001b]8;;\u001b\\\n"
      ]
     },
     "metadata": {},
     "output_type": "display_data"
    },
    {
     "data": {
      "text/html": [
       "<pre style=\"white-space:pre;overflow-x:auto;line-height:normal;font-family:Menlo,'DejaVu Sans Mono',consolas,'Courier New',monospace\"><span style=\"color: #7fbfbf; text-decoration-color: #7fbfbf\">[10/19/22 23:46:54] </span><span style=\"color: #000080; text-decoration-color: #000080\">INFO    </span> <span style=\"font-weight: bold\">[]</span>                                                                       <a href=\"file:///usr/local/google/home/codyfincher/Code/database-tools/oracle-database-assessment/src/server/dbma/transformer/engine.py\" target=\"_blank\"><span style=\"color: #7f7f7f; text-decoration-color: #7f7f7f\">engine.py</span></a><span style=\"color: #7f7f7f; text-decoration-color: #7f7f7f\">:</span><a href=\"file:///usr/local/google/home/codyfincher/Code/database-tools/oracle-database-assessment/src/server/dbma/transformer/engine.py#104\" target=\"_blank\"><span style=\"color: #7f7f7f; text-decoration-color: #7f7f7f\">104</span></a>\n",
       "</pre>\n"
      ],
      "text/plain": [
       "\u001b[2;36m[10/19/22 23:46:54]\u001b[0m\u001b[2;36m \u001b[0m\u001b[34mINFO    \u001b[0m \u001b[1m[\u001b[0m\u001b[1m]\u001b[0m                                                                       \u001b]8;id=84046;file:///usr/local/google/home/codyfincher/Code/database-tools/oracle-database-assessment/src/server/dbma/transformer/engine.py\u001b\\\u001b[2mengine.py\u001b[0m\u001b]8;;\u001b\\\u001b[2m:\u001b[0m\u001b]8;id=7153;file:///usr/local/google/home/codyfincher/Code/database-tools/oracle-database-assessment/src/server/dbma/transformer/engine.py#104\u001b\\\u001b[2m104\u001b[0m\u001b]8;;\u001b\\\n"
      ]
     },
     "metadata": {},
     "output_type": "display_data"
    },
    {
     "data": {
      "text/html": [
       "<pre style=\"white-space:pre;overflow-x:auto;line-height:normal;font-family:Menlo,'DejaVu Sans Mono',consolas,'Courier New',monospace\"><span style=\"color: #7fbfbf; text-decoration-color: #7fbfbf\">[10/19/22 23:46:54] </span><span style=\"color: #000080; text-decoration-color: #000080\">INFO    </span> executing preprocessing script pre_process_02_create_schema            <a href=\"file:///usr/local/google/home/codyfincher/Code/database-tools/oracle-database-assessment/src/server/dbma/database.py\" target=\"_blank\"><span style=\"color: #7f7f7f; text-decoration-color: #7f7f7f\">database.py</span></a><span style=\"color: #7f7f7f; text-decoration-color: #7f7f7f\">:</span><a href=\"file:///usr/local/google/home/codyfincher/Code/database-tools/oracle-database-assessment/src/server/dbma/database.py#184\" target=\"_blank\"><span style=\"color: #7f7f7f; text-decoration-color: #7f7f7f\">184</span></a>\n",
       "</pre>\n"
      ],
      "text/plain": [
       "\u001b[2;36m[10/19/22 23:46:54]\u001b[0m\u001b[2;36m \u001b[0m\u001b[34mINFO    \u001b[0m executing preprocessing script pre_process_02_create_schema            \u001b]8;id=383329;file:///usr/local/google/home/codyfincher/Code/database-tools/oracle-database-assessment/src/server/dbma/database.py\u001b\\\u001b[2mdatabase.py\u001b[0m\u001b]8;;\u001b\\\u001b[2m:\u001b[0m\u001b]8;id=215382;file:///usr/local/google/home/codyfincher/Code/database-tools/oracle-database-assessment/src/server/dbma/database.py#184\u001b\\\u001b[2m184\u001b[0m\u001b]8;;\u001b\\\n"
      ]
     },
     "metadata": {},
     "output_type": "display_data"
    },
    {
     "data": {
      "text/html": [
       "<pre style=\"white-space:pre;overflow-x:auto;line-height:normal;font-family:Menlo,'DejaVu Sans Mono',consolas,'Courier New',monospace\"><span style=\"color: #7fbfbf; text-decoration-color: #7fbfbf\">[10/19/22 23:46:54] </span><span style=\"color: #000080; text-decoration-color: #000080\">INFO    </span> <span style=\"color: #808000; text-decoration-color: #808000\">...</span> awr_hist_cmd_types  <span style=\"color: #008000; text-decoration-color: #008000; font-weight: bold\">SUCCESS</span> <span style=\"font-weight: bold\">[</span><span style=\"color: #008080; text-decoration-color: #008080; font-weight: bold\">143</span> <span style=\"color: #800080; text-decoration-color: #800080; font-weight: bold\">rows</span><span style=\"font-weight: bold\">(</span>s<span style=\"font-weight: bold\">)]</span>                          <a href=\"file:///usr/local/google/home/codyfincher/Code/database-tools/oracle-database-assessment/src/server/dbma/database.py\" target=\"_blank\"><span style=\"color: #7f7f7f; text-decoration-color: #7f7f7f\">database.py</span></a><span style=\"color: #7f7f7f; text-decoration-color: #7f7f7f\">:</span><a href=\"file:///usr/local/google/home/codyfincher/Code/database-tools/oracle-database-assessment/src/server/dbma/database.py#160\" target=\"_blank\"><span style=\"color: #7f7f7f; text-decoration-color: #7f7f7f\">160</span></a>\n",
       "</pre>\n"
      ],
      "text/plain": [
       "\u001b[2;36m[10/19/22 23:46:54]\u001b[0m\u001b[2;36m \u001b[0m\u001b[34mINFO    \u001b[0m \u001b[33m...\u001b[0m awr_hist_cmd_types  \u001b[1;32mSUCCESS\u001b[0m \u001b[1m[\u001b[0m\u001b[1;36m143\u001b[0m \u001b[1;35mrows\u001b[0m\u001b[1m(\u001b[0ms\u001b[1m)\u001b[0m\u001b[1m]\u001b[0m                          \u001b]8;id=375820;file:///usr/local/google/home/codyfincher/Code/database-tools/oracle-database-assessment/src/server/dbma/database.py\u001b\\\u001b[2mdatabase.py\u001b[0m\u001b]8;;\u001b\\\u001b[2m:\u001b[0m\u001b]8;id=334810;file:///usr/local/google/home/codyfincher/Code/database-tools/oracle-database-assessment/src/server/dbma/database.py#160\u001b\\\u001b[2m160\u001b[0m\u001b]8;;\u001b\\\n"
      ]
     },
     "metadata": {},
     "output_type": "display_data"
    },
    {
     "data": {
      "text/html": [
       "<pre style=\"white-space:pre;overflow-x:auto;line-height:normal;font-family:Menlo,'DejaVu Sans Mono',consolas,'Courier New',monospace\"><span style=\"color: #7fbfbf; text-decoration-color: #7fbfbf\">[10/19/22 23:46:54] </span><span style=\"color: #000080; text-decoration-color: #000080\">INFO    </span> <span style=\"color: #808000; text-decoration-color: #808000\">...</span> awr_hist_os_stat  <span style=\"color: #008000; text-decoration-color: #008000; font-weight: bold\">SUCCESS</span> <span style=\"font-weight: bold\">[</span><span style=\"color: #008080; text-decoration-color: #008080; font-weight: bold\">552</span> <span style=\"color: #800080; text-decoration-color: #800080; font-weight: bold\">rows</span><span style=\"font-weight: bold\">(</span>s<span style=\"font-weight: bold\">)]</span>                            <a href=\"file:///usr/local/google/home/codyfincher/Code/database-tools/oracle-database-assessment/src/server/dbma/database.py\" target=\"_blank\"><span style=\"color: #7f7f7f; text-decoration-color: #7f7f7f\">database.py</span></a><span style=\"color: #7f7f7f; text-decoration-color: #7f7f7f\">:</span><a href=\"file:///usr/local/google/home/codyfincher/Code/database-tools/oracle-database-assessment/src/server/dbma/database.py#160\" target=\"_blank\"><span style=\"color: #7f7f7f; text-decoration-color: #7f7f7f\">160</span></a>\n",
       "</pre>\n"
      ],
      "text/plain": [
       "\u001b[2;36m[10/19/22 23:46:54]\u001b[0m\u001b[2;36m \u001b[0m\u001b[34mINFO    \u001b[0m \u001b[33m...\u001b[0m awr_hist_os_stat  \u001b[1;32mSUCCESS\u001b[0m \u001b[1m[\u001b[0m\u001b[1;36m552\u001b[0m \u001b[1;35mrows\u001b[0m\u001b[1m(\u001b[0ms\u001b[1m)\u001b[0m\u001b[1m]\u001b[0m                            \u001b]8;id=171873;file:///usr/local/google/home/codyfincher/Code/database-tools/oracle-database-assessment/src/server/dbma/database.py\u001b\\\u001b[2mdatabase.py\u001b[0m\u001b]8;;\u001b\\\u001b[2m:\u001b[0m\u001b]8;id=204753;file:///usr/local/google/home/codyfincher/Code/database-tools/oracle-database-assessment/src/server/dbma/database.py#160\u001b\\\u001b[2m160\u001b[0m\u001b]8;;\u001b\\\n"
      ]
     },
     "metadata": {},
     "output_type": "display_data"
    },
    {
     "data": {
      "text/html": [
       "<pre style=\"white-space:pre;overflow-x:auto;line-height:normal;font-family:Menlo,'DejaVu Sans Mono',consolas,'Courier New',monospace\"><span style=\"color: #7fbfbf; text-decoration-color: #7fbfbf\">[10/19/22 23:46:54] </span><span style=\"color: #000080; text-decoration-color: #000080\">INFO    </span> <span style=\"color: #808000; text-decoration-color: #808000\">...</span> awr_hist_sys_metric_hist  <span style=\"color: #008000; text-decoration-color: #008000; font-weight: bold\">SUCCESS</span> <span style=\"font-weight: bold\">[</span><span style=\"color: #008080; text-decoration-color: #008080; font-weight: bold\">480</span> <span style=\"color: #800080; text-decoration-color: #800080; font-weight: bold\">rows</span><span style=\"font-weight: bold\">(</span>s<span style=\"font-weight: bold\">)]</span>                    <a href=\"file:///usr/local/google/home/codyfincher/Code/database-tools/oracle-database-assessment/src/server/dbma/database.py\" target=\"_blank\"><span style=\"color: #7f7f7f; text-decoration-color: #7f7f7f\">database.py</span></a><span style=\"color: #7f7f7f; text-decoration-color: #7f7f7f\">:</span><a href=\"file:///usr/local/google/home/codyfincher/Code/database-tools/oracle-database-assessment/src/server/dbma/database.py#160\" target=\"_blank\"><span style=\"color: #7f7f7f; text-decoration-color: #7f7f7f\">160</span></a>\n",
       "</pre>\n"
      ],
      "text/plain": [
       "\u001b[2;36m[10/19/22 23:46:54]\u001b[0m\u001b[2;36m \u001b[0m\u001b[34mINFO    \u001b[0m \u001b[33m...\u001b[0m awr_hist_sys_metric_hist  \u001b[1;32mSUCCESS\u001b[0m \u001b[1m[\u001b[0m\u001b[1;36m480\u001b[0m \u001b[1;35mrows\u001b[0m\u001b[1m(\u001b[0ms\u001b[1m)\u001b[0m\u001b[1m]\u001b[0m                    \u001b]8;id=35113;file:///usr/local/google/home/codyfincher/Code/database-tools/oracle-database-assessment/src/server/dbma/database.py\u001b\\\u001b[2mdatabase.py\u001b[0m\u001b]8;;\u001b\\\u001b[2m:\u001b[0m\u001b]8;id=248885;file:///usr/local/google/home/codyfincher/Code/database-tools/oracle-database-assessment/src/server/dbma/database.py#160\u001b\\\u001b[2m160\u001b[0m\u001b]8;;\u001b\\\n"
      ]
     },
     "metadata": {},
     "output_type": "display_data"
    },
    {
     "data": {
      "text/html": [
       "<pre style=\"white-space:pre;overflow-x:auto;line-height:normal;font-family:Menlo,'DejaVu Sans Mono',consolas,'Courier New',monospace\"><span style=\"color: #7fbfbf; text-decoration-color: #7fbfbf\">[10/19/22 23:46:54] </span><span style=\"color: #000080; text-decoration-color: #000080\">INFO    </span> <span style=\"color: #808000; text-decoration-color: #808000\">...</span> awr_hist_sys_metric_summary  <span style=\"color: #008000; text-decoration-color: #008000; font-weight: bold\">SUCCESS</span> <span style=\"font-weight: bold\">[</span><span style=\"color: #008080; text-decoration-color: #008080; font-weight: bold\">3792</span> <span style=\"color: #800080; text-decoration-color: #800080; font-weight: bold\">rows</span><span style=\"font-weight: bold\">(</span>s<span style=\"font-weight: bold\">)]</span>                <a href=\"file:///usr/local/google/home/codyfincher/Code/database-tools/oracle-database-assessment/src/server/dbma/database.py\" target=\"_blank\"><span style=\"color: #7f7f7f; text-decoration-color: #7f7f7f\">database.py</span></a><span style=\"color: #7f7f7f; text-decoration-color: #7f7f7f\">:</span><a href=\"file:///usr/local/google/home/codyfincher/Code/database-tools/oracle-database-assessment/src/server/dbma/database.py#160\" target=\"_blank\"><span style=\"color: #7f7f7f; text-decoration-color: #7f7f7f\">160</span></a>\n",
       "</pre>\n"
      ],
      "text/plain": [
       "\u001b[2;36m[10/19/22 23:46:54]\u001b[0m\u001b[2;36m \u001b[0m\u001b[34mINFO    \u001b[0m \u001b[33m...\u001b[0m awr_hist_sys_metric_summary  \u001b[1;32mSUCCESS\u001b[0m \u001b[1m[\u001b[0m\u001b[1;36m3792\u001b[0m \u001b[1;35mrows\u001b[0m\u001b[1m(\u001b[0ms\u001b[1m)\u001b[0m\u001b[1m]\u001b[0m                \u001b]8;id=414478;file:///usr/local/google/home/codyfincher/Code/database-tools/oracle-database-assessment/src/server/dbma/database.py\u001b\\\u001b[2mdatabase.py\u001b[0m\u001b]8;;\u001b\\\u001b[2m:\u001b[0m\u001b]8;id=732771;file:///usr/local/google/home/codyfincher/Code/database-tools/oracle-database-assessment/src/server/dbma/database.py#160\u001b\\\u001b[2m160\u001b[0m\u001b]8;;\u001b\\\n"
      ]
     },
     "metadata": {},
     "output_type": "display_data"
    },
    {
     "data": {
      "text/html": [
       "<pre style=\"white-space:pre;overflow-x:auto;line-height:normal;font-family:Menlo,'DejaVu Sans Mono',consolas,'Courier New',monospace\"><span style=\"color: #7fbfbf; text-decoration-color: #7fbfbf\">[10/19/22 23:46:54] </span><span style=\"color: #000080; text-decoration-color: #000080\">INFO    </span> <span style=\"color: #808000; text-decoration-color: #808000\">...</span> awr_snap_details  <span style=\"color: #008000; text-decoration-color: #008000; font-weight: bold\">SUCCESS</span> <span style=\"font-weight: bold\">[</span><span style=\"color: #008080; text-decoration-color: #008080; font-weight: bold\">24</span> <span style=\"color: #800080; text-decoration-color: #800080; font-weight: bold\">rows</span><span style=\"font-weight: bold\">(</span>s<span style=\"font-weight: bold\">)]</span>                             <a href=\"file:///usr/local/google/home/codyfincher/Code/database-tools/oracle-database-assessment/src/server/dbma/database.py\" target=\"_blank\"><span style=\"color: #7f7f7f; text-decoration-color: #7f7f7f\">database.py</span></a><span style=\"color: #7f7f7f; text-decoration-color: #7f7f7f\">:</span><a href=\"file:///usr/local/google/home/codyfincher/Code/database-tools/oracle-database-assessment/src/server/dbma/database.py#160\" target=\"_blank\"><span style=\"color: #7f7f7f; text-decoration-color: #7f7f7f\">160</span></a>\n",
       "</pre>\n"
      ],
      "text/plain": [
       "\u001b[2;36m[10/19/22 23:46:54]\u001b[0m\u001b[2;36m \u001b[0m\u001b[34mINFO    \u001b[0m \u001b[33m...\u001b[0m awr_snap_details  \u001b[1;32mSUCCESS\u001b[0m \u001b[1m[\u001b[0m\u001b[1;36m24\u001b[0m \u001b[1;35mrows\u001b[0m\u001b[1m(\u001b[0ms\u001b[1m)\u001b[0m\u001b[1m]\u001b[0m                             \u001b]8;id=983518;file:///usr/local/google/home/codyfincher/Code/database-tools/oracle-database-assessment/src/server/dbma/database.py\u001b\\\u001b[2mdatabase.py\u001b[0m\u001b]8;;\u001b\\\u001b[2m:\u001b[0m\u001b]8;id=402429;file:///usr/local/google/home/codyfincher/Code/database-tools/oracle-database-assessment/src/server/dbma/database.py#160\u001b\\\u001b[2m160\u001b[0m\u001b]8;;\u001b\\\n"
      ]
     },
     "metadata": {},
     "output_type": "display_data"
    },
    {
     "data": {
      "text/html": [
       "<pre style=\"white-space:pre;overflow-x:auto;line-height:normal;font-family:Menlo,'DejaVu Sans Mono',consolas,'Courier New',monospace\"><span style=\"color: #7fbfbf; text-decoration-color: #7fbfbf\">[10/19/22 23:46:54] </span><span style=\"color: #000080; text-decoration-color: #000080\">INFO    </span> <span style=\"color: #808000; text-decoration-color: #808000\">...</span> db_compression_by_type  <span style=\"color: #008000; text-decoration-color: #008000; font-weight: bold\">SUCCESS</span> <span style=\"font-weight: bold\">[</span><span style=\"color: #008080; text-decoration-color: #008080; font-weight: bold\">1</span> <span style=\"color: #800080; text-decoration-color: #800080; font-weight: bold\">rows</span><span style=\"font-weight: bold\">(</span>s<span style=\"font-weight: bold\">)]</span>                        <a href=\"file:///usr/local/google/home/codyfincher/Code/database-tools/oracle-database-assessment/src/server/dbma/database.py\" target=\"_blank\"><span style=\"color: #7f7f7f; text-decoration-color: #7f7f7f\">database.py</span></a><span style=\"color: #7f7f7f; text-decoration-color: #7f7f7f\">:</span><a href=\"file:///usr/local/google/home/codyfincher/Code/database-tools/oracle-database-assessment/src/server/dbma/database.py#160\" target=\"_blank\"><span style=\"color: #7f7f7f; text-decoration-color: #7f7f7f\">160</span></a>\n",
       "</pre>\n"
      ],
      "text/plain": [
       "\u001b[2;36m[10/19/22 23:46:54]\u001b[0m\u001b[2;36m \u001b[0m\u001b[34mINFO    \u001b[0m \u001b[33m...\u001b[0m db_compression_by_type  \u001b[1;32mSUCCESS\u001b[0m \u001b[1m[\u001b[0m\u001b[1;36m1\u001b[0m \u001b[1;35mrows\u001b[0m\u001b[1m(\u001b[0ms\u001b[1m)\u001b[0m\u001b[1m]\u001b[0m                        \u001b]8;id=764625;file:///usr/local/google/home/codyfincher/Code/database-tools/oracle-database-assessment/src/server/dbma/database.py\u001b\\\u001b[2mdatabase.py\u001b[0m\u001b]8;;\u001b\\\u001b[2m:\u001b[0m\u001b]8;id=693529;file:///usr/local/google/home/codyfincher/Code/database-tools/oracle-database-assessment/src/server/dbma/database.py#160\u001b\\\u001b[2m160\u001b[0m\u001b]8;;\u001b\\\n"
      ]
     },
     "metadata": {},
     "output_type": "display_data"
    },
    {
     "data": {
      "text/html": [
       "<pre style=\"white-space:pre;overflow-x:auto;line-height:normal;font-family:Menlo,'DejaVu Sans Mono',consolas,'Courier New',monospace\"><span style=\"color: #7fbfbf; text-decoration-color: #7fbfbf\">[10/19/22 23:46:54] </span><span style=\"color: #000080; text-decoration-color: #000080\">INFO    </span> <span style=\"color: #808000; text-decoration-color: #808000\">...</span> db_cpu_core_usage  <span style=\"color: #008000; text-decoration-color: #008000; font-weight: bold\">SUCCESS</span> <span style=\"font-weight: bold\">[</span><span style=\"color: #008080; text-decoration-color: #008080; font-weight: bold\">14</span> <span style=\"color: #800080; text-decoration-color: #800080; font-weight: bold\">rows</span><span style=\"font-weight: bold\">(</span>s<span style=\"font-weight: bold\">)]</span>                            <a href=\"file:///usr/local/google/home/codyfincher/Code/database-tools/oracle-database-assessment/src/server/dbma/database.py\" target=\"_blank\"><span style=\"color: #7f7f7f; text-decoration-color: #7f7f7f\">database.py</span></a><span style=\"color: #7f7f7f; text-decoration-color: #7f7f7f\">:</span><a href=\"file:///usr/local/google/home/codyfincher/Code/database-tools/oracle-database-assessment/src/server/dbma/database.py#160\" target=\"_blank\"><span style=\"color: #7f7f7f; text-decoration-color: #7f7f7f\">160</span></a>\n",
       "</pre>\n"
      ],
      "text/plain": [
       "\u001b[2;36m[10/19/22 23:46:54]\u001b[0m\u001b[2;36m \u001b[0m\u001b[34mINFO    \u001b[0m \u001b[33m...\u001b[0m db_cpu_core_usage  \u001b[1;32mSUCCESS\u001b[0m \u001b[1m[\u001b[0m\u001b[1;36m14\u001b[0m \u001b[1;35mrows\u001b[0m\u001b[1m(\u001b[0ms\u001b[1m)\u001b[0m\u001b[1m]\u001b[0m                            \u001b]8;id=672414;file:///usr/local/google/home/codyfincher/Code/database-tools/oracle-database-assessment/src/server/dbma/database.py\u001b\\\u001b[2mdatabase.py\u001b[0m\u001b]8;;\u001b\\\u001b[2m:\u001b[0m\u001b]8;id=47954;file:///usr/local/google/home/codyfincher/Code/database-tools/oracle-database-assessment/src/server/dbma/database.py#160\u001b\\\u001b[2m160\u001b[0m\u001b]8;;\u001b\\\n"
      ]
     },
     "metadata": {},
     "output_type": "display_data"
    },
    {
     "data": {
      "text/html": [
       "<pre style=\"white-space:pre;overflow-x:auto;line-height:normal;font-family:Menlo,'DejaVu Sans Mono',consolas,'Courier New',monospace\"><span style=\"color: #7fbfbf; text-decoration-color: #7fbfbf\">[10/19/22 23:46:54] </span><span style=\"color: #000080; text-decoration-color: #000080\">INFO    </span> <span style=\"color: #808000; text-decoration-color: #808000\">...</span> db_dataguard  <span style=\"color: #008000; text-decoration-color: #008000; font-weight: bold\">SUCCESS</span> <span style=\"font-weight: bold\">[</span><span style=\"color: #008080; text-decoration-color: #008080; font-weight: bold\">1</span> <span style=\"color: #800080; text-decoration-color: #800080; font-weight: bold\">rows</span><span style=\"font-weight: bold\">(</span>s<span style=\"font-weight: bold\">)]</span>                                  <a href=\"file:///usr/local/google/home/codyfincher/Code/database-tools/oracle-database-assessment/src/server/dbma/database.py\" target=\"_blank\"><span style=\"color: #7f7f7f; text-decoration-color: #7f7f7f\">database.py</span></a><span style=\"color: #7f7f7f; text-decoration-color: #7f7f7f\">:</span><a href=\"file:///usr/local/google/home/codyfincher/Code/database-tools/oracle-database-assessment/src/server/dbma/database.py#160\" target=\"_blank\"><span style=\"color: #7f7f7f; text-decoration-color: #7f7f7f\">160</span></a>\n",
       "</pre>\n"
      ],
      "text/plain": [
       "\u001b[2;36m[10/19/22 23:46:54]\u001b[0m\u001b[2;36m \u001b[0m\u001b[34mINFO    \u001b[0m \u001b[33m...\u001b[0m db_dataguard  \u001b[1;32mSUCCESS\u001b[0m \u001b[1m[\u001b[0m\u001b[1;36m1\u001b[0m \u001b[1;35mrows\u001b[0m\u001b[1m(\u001b[0ms\u001b[1m)\u001b[0m\u001b[1m]\u001b[0m                                  \u001b]8;id=527975;file:///usr/local/google/home/codyfincher/Code/database-tools/oracle-database-assessment/src/server/dbma/database.py\u001b\\\u001b[2mdatabase.py\u001b[0m\u001b]8;;\u001b\\\u001b[2m:\u001b[0m\u001b]8;id=838723;file:///usr/local/google/home/codyfincher/Code/database-tools/oracle-database-assessment/src/server/dbma/database.py#160\u001b\\\u001b[2m160\u001b[0m\u001b]8;;\u001b\\\n"
      ]
     },
     "metadata": {},
     "output_type": "display_data"
    },
    {
     "data": {
      "text/html": [
       "<pre style=\"white-space:pre;overflow-x:auto;line-height:normal;font-family:Menlo,'DejaVu Sans Mono',consolas,'Courier New',monospace\"><span style=\"color: #7fbfbf; text-decoration-color: #7fbfbf\">[10/19/22 23:46:54] </span><span style=\"color: #000080; text-decoration-color: #000080\">INFO    </span> <span style=\"color: #808000; text-decoration-color: #808000\">...</span> db_data_types  <span style=\"color: #008000; text-decoration-color: #008000; font-weight: bold\">SUCCESS</span> <span style=\"font-weight: bold\">[</span><span style=\"color: #008080; text-decoration-color: #008080; font-weight: bold\">27</span> <span style=\"color: #800080; text-decoration-color: #800080; font-weight: bold\">rows</span><span style=\"font-weight: bold\">(</span>s<span style=\"font-weight: bold\">)]</span>                                <a href=\"file:///usr/local/google/home/codyfincher/Code/database-tools/oracle-database-assessment/src/server/dbma/database.py\" target=\"_blank\"><span style=\"color: #7f7f7f; text-decoration-color: #7f7f7f\">database.py</span></a><span style=\"color: #7f7f7f; text-decoration-color: #7f7f7f\">:</span><a href=\"file:///usr/local/google/home/codyfincher/Code/database-tools/oracle-database-assessment/src/server/dbma/database.py#160\" target=\"_blank\"><span style=\"color: #7f7f7f; text-decoration-color: #7f7f7f\">160</span></a>\n",
       "</pre>\n"
      ],
      "text/plain": [
       "\u001b[2;36m[10/19/22 23:46:54]\u001b[0m\u001b[2;36m \u001b[0m\u001b[34mINFO    \u001b[0m \u001b[33m...\u001b[0m db_data_types  \u001b[1;32mSUCCESS\u001b[0m \u001b[1m[\u001b[0m\u001b[1;36m27\u001b[0m \u001b[1;35mrows\u001b[0m\u001b[1m(\u001b[0ms\u001b[1m)\u001b[0m\u001b[1m]\u001b[0m                                \u001b]8;id=835759;file:///usr/local/google/home/codyfincher/Code/database-tools/oracle-database-assessment/src/server/dbma/database.py\u001b\\\u001b[2mdatabase.py\u001b[0m\u001b]8;;\u001b\\\u001b[2m:\u001b[0m\u001b]8;id=908870;file:///usr/local/google/home/codyfincher/Code/database-tools/oracle-database-assessment/src/server/dbma/database.py#160\u001b\\\u001b[2m160\u001b[0m\u001b]8;;\u001b\\\n"
      ]
     },
     "metadata": {},
     "output_type": "display_data"
    },
    {
     "data": {
      "text/html": [
       "<pre style=\"white-space:pre;overflow-x:auto;line-height:normal;font-family:Menlo,'DejaVu Sans Mono',consolas,'Courier New',monospace\"><span style=\"color: #7fbfbf; text-decoration-color: #7fbfbf\">[10/19/22 23:46:54] </span><span style=\"color: #000080; text-decoration-color: #000080\">INFO    </span> <span style=\"color: #808000; text-decoration-color: #808000\">...</span> dba_hist_sys_stat  <span style=\"color: #008000; text-decoration-color: #008000; font-weight: bold\">SUCCESS</span> <span style=\"font-weight: bold\">[</span><span style=\"color: #008080; text-decoration-color: #008080; font-weight: bold\">2496</span> <span style=\"color: #800080; text-decoration-color: #800080; font-weight: bold\">rows</span><span style=\"font-weight: bold\">(</span>s<span style=\"font-weight: bold\">)]</span>                          <a href=\"file:///usr/local/google/home/codyfincher/Code/database-tools/oracle-database-assessment/src/server/dbma/database.py\" target=\"_blank\"><span style=\"color: #7f7f7f; text-decoration-color: #7f7f7f\">database.py</span></a><span style=\"color: #7f7f7f; text-decoration-color: #7f7f7f\">:</span><a href=\"file:///usr/local/google/home/codyfincher/Code/database-tools/oracle-database-assessment/src/server/dbma/database.py#160\" target=\"_blank\"><span style=\"color: #7f7f7f; text-decoration-color: #7f7f7f\">160</span></a>\n",
       "</pre>\n"
      ],
      "text/plain": [
       "\u001b[2;36m[10/19/22 23:46:54]\u001b[0m\u001b[2;36m \u001b[0m\u001b[34mINFO    \u001b[0m \u001b[33m...\u001b[0m dba_hist_sys_stat  \u001b[1;32mSUCCESS\u001b[0m \u001b[1m[\u001b[0m\u001b[1;36m2496\u001b[0m \u001b[1;35mrows\u001b[0m\u001b[1m(\u001b[0ms\u001b[1m)\u001b[0m\u001b[1m]\u001b[0m                          \u001b]8;id=458061;file:///usr/local/google/home/codyfincher/Code/database-tools/oracle-database-assessment/src/server/dbma/database.py\u001b\\\u001b[2mdatabase.py\u001b[0m\u001b]8;;\u001b\\\u001b[2m:\u001b[0m\u001b]8;id=389076;file:///usr/local/google/home/codyfincher/Code/database-tools/oracle-database-assessment/src/server/dbma/database.py#160\u001b\\\u001b[2m160\u001b[0m\u001b]8;;\u001b\\\n"
      ]
     },
     "metadata": {},
     "output_type": "display_data"
    },
    {
     "data": {
      "text/html": [
       "<pre style=\"white-space:pre;overflow-x:auto;line-height:normal;font-family:Menlo,'DejaVu Sans Mono',consolas,'Courier New',monospace\"><span style=\"color: #7fbfbf; text-decoration-color: #7fbfbf\">[10/19/22 23:46:54] </span><span style=\"color: #000080; text-decoration-color: #000080\">INFO    </span> <span style=\"color: #808000; text-decoration-color: #808000\">...</span> dba_hist_sys_time_model  <span style=\"color: #008000; text-decoration-color: #008000; font-weight: bold\">SUCCESS</span> <span style=\"font-weight: bold\">[</span><span style=\"color: #008080; text-decoration-color: #008080; font-weight: bold\">456</span> <span style=\"color: #800080; text-decoration-color: #800080; font-weight: bold\">rows</span><span style=\"font-weight: bold\">(</span>s<span style=\"font-weight: bold\">)]</span>                     <a href=\"file:///usr/local/google/home/codyfincher/Code/database-tools/oracle-database-assessment/src/server/dbma/database.py\" target=\"_blank\"><span style=\"color: #7f7f7f; text-decoration-color: #7f7f7f\">database.py</span></a><span style=\"color: #7f7f7f; text-decoration-color: #7f7f7f\">:</span><a href=\"file:///usr/local/google/home/codyfincher/Code/database-tools/oracle-database-assessment/src/server/dbma/database.py#160\" target=\"_blank\"><span style=\"color: #7f7f7f; text-decoration-color: #7f7f7f\">160</span></a>\n",
       "</pre>\n"
      ],
      "text/plain": [
       "\u001b[2;36m[10/19/22 23:46:54]\u001b[0m\u001b[2;36m \u001b[0m\u001b[34mINFO    \u001b[0m \u001b[33m...\u001b[0m dba_hist_sys_time_model  \u001b[1;32mSUCCESS\u001b[0m \u001b[1m[\u001b[0m\u001b[1;36m456\u001b[0m \u001b[1;35mrows\u001b[0m\u001b[1m(\u001b[0ms\u001b[1m)\u001b[0m\u001b[1m]\u001b[0m                     \u001b]8;id=908960;file:///usr/local/google/home/codyfincher/Code/database-tools/oracle-database-assessment/src/server/dbma/database.py\u001b\\\u001b[2mdatabase.py\u001b[0m\u001b]8;;\u001b\\\u001b[2m:\u001b[0m\u001b]8;id=977372;file:///usr/local/google/home/codyfincher/Code/database-tools/oracle-database-assessment/src/server/dbma/database.py#160\u001b\\\u001b[2m160\u001b[0m\u001b]8;;\u001b\\\n"
      ]
     },
     "metadata": {},
     "output_type": "display_data"
    },
    {
     "data": {
      "text/html": [
       "<pre style=\"white-space:pre;overflow-x:auto;line-height:normal;font-family:Menlo,'DejaVu Sans Mono',consolas,'Courier New',monospace\"><span style=\"color: #7fbfbf; text-decoration-color: #7fbfbf\">[10/19/22 23:46:54] </span><span style=\"color: #000080; text-decoration-color: #000080\">INFO    </span> <span style=\"color: #808000; text-decoration-color: #808000\">...</span> db_features  <span style=\"color: #008000; text-decoration-color: #008000; font-weight: bold\">SUCCESS</span> <span style=\"font-weight: bold\">[</span><span style=\"color: #008080; text-decoration-color: #008080; font-weight: bold\">161</span> <span style=\"color: #800080; text-decoration-color: #800080; font-weight: bold\">rows</span><span style=\"font-weight: bold\">(</span>s<span style=\"font-weight: bold\">)]</span>                                 <a href=\"file:///usr/local/google/home/codyfincher/Code/database-tools/oracle-database-assessment/src/server/dbma/database.py\" target=\"_blank\"><span style=\"color: #7f7f7f; text-decoration-color: #7f7f7f\">database.py</span></a><span style=\"color: #7f7f7f; text-decoration-color: #7f7f7f\">:</span><a href=\"file:///usr/local/google/home/codyfincher/Code/database-tools/oracle-database-assessment/src/server/dbma/database.py#160\" target=\"_blank\"><span style=\"color: #7f7f7f; text-decoration-color: #7f7f7f\">160</span></a>\n",
       "</pre>\n"
      ],
      "text/plain": [
       "\u001b[2;36m[10/19/22 23:46:54]\u001b[0m\u001b[2;36m \u001b[0m\u001b[34mINFO    \u001b[0m \u001b[33m...\u001b[0m db_features  \u001b[1;32mSUCCESS\u001b[0m \u001b[1m[\u001b[0m\u001b[1;36m161\u001b[0m \u001b[1;35mrows\u001b[0m\u001b[1m(\u001b[0ms\u001b[1m)\u001b[0m\u001b[1m]\u001b[0m                                 \u001b]8;id=612016;file:///usr/local/google/home/codyfincher/Code/database-tools/oracle-database-assessment/src/server/dbma/database.py\u001b\\\u001b[2mdatabase.py\u001b[0m\u001b]8;;\u001b\\\u001b[2m:\u001b[0m\u001b]8;id=744191;file:///usr/local/google/home/codyfincher/Code/database-tools/oracle-database-assessment/src/server/dbma/database.py#160\u001b\\\u001b[2m160\u001b[0m\u001b]8;;\u001b\\\n"
      ]
     },
     "metadata": {},
     "output_type": "display_data"
    },
    {
     "data": {
      "text/html": [
       "<pre style=\"white-space:pre;overflow-x:auto;line-height:normal;font-family:Menlo,'DejaVu Sans Mono',consolas,'Courier New',monospace\"><span style=\"color: #7fbfbf; text-decoration-color: #7fbfbf\">[10/19/22 23:46:54] </span><span style=\"color: #000080; text-decoration-color: #000080\">INFO    </span> <span style=\"color: #808000; text-decoration-color: #808000\">...</span> db_high_water_stats  <span style=\"color: #008000; text-decoration-color: #008000; font-weight: bold\">SUCCESS</span> <span style=\"font-weight: bold\">[</span><span style=\"color: #008080; text-decoration-color: #008080; font-weight: bold\">17</span> <span style=\"color: #800080; text-decoration-color: #800080; font-weight: bold\">rows</span><span style=\"font-weight: bold\">(</span>s<span style=\"font-weight: bold\">)]</span>                          <a href=\"file:///usr/local/google/home/codyfincher/Code/database-tools/oracle-database-assessment/src/server/dbma/database.py\" target=\"_blank\"><span style=\"color: #7f7f7f; text-decoration-color: #7f7f7f\">database.py</span></a><span style=\"color: #7f7f7f; text-decoration-color: #7f7f7f\">:</span><a href=\"file:///usr/local/google/home/codyfincher/Code/database-tools/oracle-database-assessment/src/server/dbma/database.py#160\" target=\"_blank\"><span style=\"color: #7f7f7f; text-decoration-color: #7f7f7f\">160</span></a>\n",
       "</pre>\n"
      ],
      "text/plain": [
       "\u001b[2;36m[10/19/22 23:46:54]\u001b[0m\u001b[2;36m \u001b[0m\u001b[34mINFO    \u001b[0m \u001b[33m...\u001b[0m db_high_water_stats  \u001b[1;32mSUCCESS\u001b[0m \u001b[1m[\u001b[0m\u001b[1;36m17\u001b[0m \u001b[1;35mrows\u001b[0m\u001b[1m(\u001b[0ms\u001b[1m)\u001b[0m\u001b[1m]\u001b[0m                          \u001b]8;id=533553;file:///usr/local/google/home/codyfincher/Code/database-tools/oracle-database-assessment/src/server/dbma/database.py\u001b\\\u001b[2mdatabase.py\u001b[0m\u001b]8;;\u001b\\\u001b[2m:\u001b[0m\u001b]8;id=662953;file:///usr/local/google/home/codyfincher/Code/database-tools/oracle-database-assessment/src/server/dbma/database.py#160\u001b\\\u001b[2m160\u001b[0m\u001b]8;;\u001b\\\n"
      ]
     },
     "metadata": {},
     "output_type": "display_data"
    },
    {
     "data": {
      "text/html": [
       "<pre style=\"white-space:pre;overflow-x:auto;line-height:normal;font-family:Menlo,'DejaVu Sans Mono',consolas,'Courier New',monospace\"><span style=\"color: #7fbfbf; text-decoration-color: #7fbfbf\">[10/19/22 23:46:54] </span><span style=\"color: #000080; text-decoration-color: #000080\">INFO    </span> <span style=\"color: #808000; text-decoration-color: #808000\">...</span> db_instances  <span style=\"color: #008000; text-decoration-color: #008000; font-weight: bold\">SUCCESS</span> <span style=\"font-weight: bold\">[</span><span style=\"color: #008080; text-decoration-color: #008080; font-weight: bold\">1</span> <span style=\"color: #800080; text-decoration-color: #800080; font-weight: bold\">rows</span><span style=\"font-weight: bold\">(</span>s<span style=\"font-weight: bold\">)]</span>                                  <a href=\"file:///usr/local/google/home/codyfincher/Code/database-tools/oracle-database-assessment/src/server/dbma/database.py\" target=\"_blank\"><span style=\"color: #7f7f7f; text-decoration-color: #7f7f7f\">database.py</span></a><span style=\"color: #7f7f7f; text-decoration-color: #7f7f7f\">:</span><a href=\"file:///usr/local/google/home/codyfincher/Code/database-tools/oracle-database-assessment/src/server/dbma/database.py#160\" target=\"_blank\"><span style=\"color: #7f7f7f; text-decoration-color: #7f7f7f\">160</span></a>\n",
       "</pre>\n"
      ],
      "text/plain": [
       "\u001b[2;36m[10/19/22 23:46:54]\u001b[0m\u001b[2;36m \u001b[0m\u001b[34mINFO    \u001b[0m \u001b[33m...\u001b[0m db_instances  \u001b[1;32mSUCCESS\u001b[0m \u001b[1m[\u001b[0m\u001b[1;36m1\u001b[0m \u001b[1;35mrows\u001b[0m\u001b[1m(\u001b[0ms\u001b[1m)\u001b[0m\u001b[1m]\u001b[0m                                  \u001b]8;id=484013;file:///usr/local/google/home/codyfincher/Code/database-tools/oracle-database-assessment/src/server/dbma/database.py\u001b\\\u001b[2mdatabase.py\u001b[0m\u001b]8;;\u001b\\\u001b[2m:\u001b[0m\u001b]8;id=510531;file:///usr/local/google/home/codyfincher/Code/database-tools/oracle-database-assessment/src/server/dbma/database.py#160\u001b\\\u001b[2m160\u001b[0m\u001b]8;;\u001b\\\n"
      ]
     },
     "metadata": {},
     "output_type": "display_data"
    },
    {
     "data": {
      "text/html": [
       "<pre style=\"white-space:pre;overflow-x:auto;line-height:normal;font-family:Menlo,'DejaVu Sans Mono',consolas,'Courier New',monospace\"><span style=\"color: #7fbfbf; text-decoration-color: #7fbfbf\">[10/19/22 23:46:54] </span><span style=\"color: #000080; text-decoration-color: #000080\">INFO    </span> <span style=\"color: #808000; text-decoration-color: #808000\">...</span> db_links  <span style=\"color: #008000; text-decoration-color: #008000; font-weight: bold\">SUCCESS</span> <span style=\"font-weight: bold\">[</span><span style=\"color: #008080; text-decoration-color: #008080; font-weight: bold\">1</span> <span style=\"color: #800080; text-decoration-color: #800080; font-weight: bold\">rows</span><span style=\"font-weight: bold\">(</span>s<span style=\"font-weight: bold\">)]</span>                                      <a href=\"file:///usr/local/google/home/codyfincher/Code/database-tools/oracle-database-assessment/src/server/dbma/database.py\" target=\"_blank\"><span style=\"color: #7f7f7f; text-decoration-color: #7f7f7f\">database.py</span></a><span style=\"color: #7f7f7f; text-decoration-color: #7f7f7f\">:</span><a href=\"file:///usr/local/google/home/codyfincher/Code/database-tools/oracle-database-assessment/src/server/dbma/database.py#160\" target=\"_blank\"><span style=\"color: #7f7f7f; text-decoration-color: #7f7f7f\">160</span></a>\n",
       "</pre>\n"
      ],
      "text/plain": [
       "\u001b[2;36m[10/19/22 23:46:54]\u001b[0m\u001b[2;36m \u001b[0m\u001b[34mINFO    \u001b[0m \u001b[33m...\u001b[0m db_links  \u001b[1;32mSUCCESS\u001b[0m \u001b[1m[\u001b[0m\u001b[1;36m1\u001b[0m \u001b[1;35mrows\u001b[0m\u001b[1m(\u001b[0ms\u001b[1m)\u001b[0m\u001b[1m]\u001b[0m                                      \u001b]8;id=133281;file:///usr/local/google/home/codyfincher/Code/database-tools/oracle-database-assessment/src/server/dbma/database.py\u001b\\\u001b[2mdatabase.py\u001b[0m\u001b]8;;\u001b\\\u001b[2m:\u001b[0m\u001b]8;id=54111;file:///usr/local/google/home/codyfincher/Code/database-tools/oracle-database-assessment/src/server/dbma/database.py#160\u001b\\\u001b[2m160\u001b[0m\u001b]8;;\u001b\\\n"
      ]
     },
     "metadata": {},
     "output_type": "display_data"
    },
    {
     "data": {
      "text/html": [
       "<pre style=\"white-space:pre;overflow-x:auto;line-height:normal;font-family:Menlo,'DejaVu Sans Mono',consolas,'Courier New',monospace\"><span style=\"color: #7fbfbf; text-decoration-color: #7fbfbf\">[10/19/22 23:46:54] </span><span style=\"color: #000080; text-decoration-color: #000080\">INFO    </span> <span style=\"color: #808000; text-decoration-color: #808000\">...</span> db_objects  <span style=\"color: #008000; text-decoration-color: #008000; font-weight: bold\">SUCCESS</span> <span style=\"font-weight: bold\">[</span><span style=\"color: #008080; text-decoration-color: #008080; font-weight: bold\">46</span> <span style=\"color: #800080; text-decoration-color: #800080; font-weight: bold\">rows</span><span style=\"font-weight: bold\">(</span>s<span style=\"font-weight: bold\">)]</span>                                   <a href=\"file:///usr/local/google/home/codyfincher/Code/database-tools/oracle-database-assessment/src/server/dbma/database.py\" target=\"_blank\"><span style=\"color: #7f7f7f; text-decoration-color: #7f7f7f\">database.py</span></a><span style=\"color: #7f7f7f; text-decoration-color: #7f7f7f\">:</span><a href=\"file:///usr/local/google/home/codyfincher/Code/database-tools/oracle-database-assessment/src/server/dbma/database.py#160\" target=\"_blank\"><span style=\"color: #7f7f7f; text-decoration-color: #7f7f7f\">160</span></a>\n",
       "</pre>\n"
      ],
      "text/plain": [
       "\u001b[2;36m[10/19/22 23:46:54]\u001b[0m\u001b[2;36m \u001b[0m\u001b[34mINFO    \u001b[0m \u001b[33m...\u001b[0m db_objects  \u001b[1;32mSUCCESS\u001b[0m \u001b[1m[\u001b[0m\u001b[1;36m46\u001b[0m \u001b[1;35mrows\u001b[0m\u001b[1m(\u001b[0ms\u001b[1m)\u001b[0m\u001b[1m]\u001b[0m                                   \u001b]8;id=835571;file:///usr/local/google/home/codyfincher/Code/database-tools/oracle-database-assessment/src/server/dbma/database.py\u001b\\\u001b[2mdatabase.py\u001b[0m\u001b]8;;\u001b\\\u001b[2m:\u001b[0m\u001b]8;id=684985;file:///usr/local/google/home/codyfincher/Code/database-tools/oracle-database-assessment/src/server/dbma/database.py#160\u001b\\\u001b[2m160\u001b[0m\u001b]8;;\u001b\\\n"
      ]
     },
     "metadata": {},
     "output_type": "display_data"
    },
    {
     "data": {
      "text/html": [
       "<pre style=\"white-space:pre;overflow-x:auto;line-height:normal;font-family:Menlo,'DejaVu Sans Mono',consolas,'Courier New',monospace\"><span style=\"color: #7fbfbf; text-decoration-color: #7fbfbf\">[10/19/22 23:46:54] </span><span style=\"color: #000080; text-decoration-color: #000080\">INFO    </span> <span style=\"color: #808000; text-decoration-color: #808000\">...</span> db_parameters  <span style=\"color: #008000; text-decoration-color: #008000; font-weight: bold\">SUCCESS</span> <span style=\"font-weight: bold\">[</span><span style=\"color: #008080; text-decoration-color: #008080; font-weight: bold\">353</span> <span style=\"color: #800080; text-decoration-color: #800080; font-weight: bold\">rows</span><span style=\"font-weight: bold\">(</span>s<span style=\"font-weight: bold\">)]</span>                               <a href=\"file:///usr/local/google/home/codyfincher/Code/database-tools/oracle-database-assessment/src/server/dbma/database.py\" target=\"_blank\"><span style=\"color: #7f7f7f; text-decoration-color: #7f7f7f\">database.py</span></a><span style=\"color: #7f7f7f; text-decoration-color: #7f7f7f\">:</span><a href=\"file:///usr/local/google/home/codyfincher/Code/database-tools/oracle-database-assessment/src/server/dbma/database.py#160\" target=\"_blank\"><span style=\"color: #7f7f7f; text-decoration-color: #7f7f7f\">160</span></a>\n",
       "</pre>\n"
      ],
      "text/plain": [
       "\u001b[2;36m[10/19/22 23:46:54]\u001b[0m\u001b[2;36m \u001b[0m\u001b[34mINFO    \u001b[0m \u001b[33m...\u001b[0m db_parameters  \u001b[1;32mSUCCESS\u001b[0m \u001b[1m[\u001b[0m\u001b[1;36m353\u001b[0m \u001b[1;35mrows\u001b[0m\u001b[1m(\u001b[0ms\u001b[1m)\u001b[0m\u001b[1m]\u001b[0m                               \u001b]8;id=600795;file:///usr/local/google/home/codyfincher/Code/database-tools/oracle-database-assessment/src/server/dbma/database.py\u001b\\\u001b[2mdatabase.py\u001b[0m\u001b]8;;\u001b\\\u001b[2m:\u001b[0m\u001b]8;id=716494;file:///usr/local/google/home/codyfincher/Code/database-tools/oracle-database-assessment/src/server/dbma/database.py#160\u001b\\\u001b[2m160\u001b[0m\u001b]8;;\u001b\\\n"
      ]
     },
     "metadata": {},
     "output_type": "display_data"
    },
    {
     "data": {
      "text/html": [
       "<pre style=\"white-space:pre;overflow-x:auto;line-height:normal;font-family:Menlo,'DejaVu Sans Mono',consolas,'Courier New',monospace\"><span style=\"color: #7fbfbf; text-decoration-color: #7fbfbf\">[10/19/22 23:46:54] </span><span style=\"color: #000080; text-decoration-color: #000080\">INFO    </span> <span style=\"color: #808000; text-decoration-color: #808000\">...</span> db_summary  <span style=\"color: #008000; text-decoration-color: #008000; font-weight: bold\">SUCCESS</span> <span style=\"font-weight: bold\">[</span><span style=\"color: #008080; text-decoration-color: #008080; font-weight: bold\">1</span> <span style=\"color: #800080; text-decoration-color: #800080; font-weight: bold\">rows</span><span style=\"font-weight: bold\">(</span>s<span style=\"font-weight: bold\">)]</span>                                    <a href=\"file:///usr/local/google/home/codyfincher/Code/database-tools/oracle-database-assessment/src/server/dbma/database.py\" target=\"_blank\"><span style=\"color: #7f7f7f; text-decoration-color: #7f7f7f\">database.py</span></a><span style=\"color: #7f7f7f; text-decoration-color: #7f7f7f\">:</span><a href=\"file:///usr/local/google/home/codyfincher/Code/database-tools/oracle-database-assessment/src/server/dbma/database.py#160\" target=\"_blank\"><span style=\"color: #7f7f7f; text-decoration-color: #7f7f7f\">160</span></a>\n",
       "</pre>\n"
      ],
      "text/plain": [
       "\u001b[2;36m[10/19/22 23:46:54]\u001b[0m\u001b[2;36m \u001b[0m\u001b[34mINFO    \u001b[0m \u001b[33m...\u001b[0m db_summary  \u001b[1;32mSUCCESS\u001b[0m \u001b[1m[\u001b[0m\u001b[1;36m1\u001b[0m \u001b[1;35mrows\u001b[0m\u001b[1m(\u001b[0ms\u001b[1m)\u001b[0m\u001b[1m]\u001b[0m                                    \u001b]8;id=579615;file:///usr/local/google/home/codyfincher/Code/database-tools/oracle-database-assessment/src/server/dbma/database.py\u001b\\\u001b[2mdatabase.py\u001b[0m\u001b]8;;\u001b\\\u001b[2m:\u001b[0m\u001b]8;id=897283;file:///usr/local/google/home/codyfincher/Code/database-tools/oracle-database-assessment/src/server/dbma/database.py#160\u001b\\\u001b[2m160\u001b[0m\u001b]8;;\u001b\\\n"
      ]
     },
     "metadata": {},
     "output_type": "display_data"
    },
    {
     "data": {
      "text/html": [
       "<pre style=\"white-space:pre;overflow-x:auto;line-height:normal;font-family:Menlo,'DejaVu Sans Mono',consolas,'Courier New',monospace\"><span style=\"color: #7fbfbf; text-decoration-color: #7fbfbf\">[10/19/22 23:46:54] </span><span style=\"color: #000080; text-decoration-color: #000080\">INFO    </span> <span style=\"color: #808000; text-decoration-color: #808000\">...</span> db_external_tables  <span style=\"color: #7f7f7f; text-decoration-color: #7f7f7f; font-weight: bold\">SKIPPED</span>                                        <a href=\"file:///usr/local/google/home/codyfincher/Code/database-tools/oracle-database-assessment/src/server/dbma/database.py\" target=\"_blank\"><span style=\"color: #7f7f7f; text-decoration-color: #7f7f7f\">database.py</span></a><span style=\"color: #7f7f7f; text-decoration-color: #7f7f7f\">:</span><a href=\"file:///usr/local/google/home/codyfincher/Code/database-tools/oracle-database-assessment/src/server/dbma/database.py#163\" target=\"_blank\"><span style=\"color: #7f7f7f; text-decoration-color: #7f7f7f\">163</span></a>\n",
       "</pre>\n"
      ],
      "text/plain": [
       "\u001b[2;36m[10/19/22 23:46:54]\u001b[0m\u001b[2;36m \u001b[0m\u001b[34mINFO    \u001b[0m \u001b[33m...\u001b[0m db_external_tables  \u001b[1;2mSKIPPED\u001b[0m                                        \u001b]8;id=809950;file:///usr/local/google/home/codyfincher/Code/database-tools/oracle-database-assessment/src/server/dbma/database.py\u001b\\\u001b[2mdatabase.py\u001b[0m\u001b]8;;\u001b\\\u001b[2m:\u001b[0m\u001b]8;id=43182;file:///usr/local/google/home/codyfincher/Code/database-tools/oracle-database-assessment/src/server/dbma/database.py#163\u001b\\\u001b[2m163\u001b[0m\u001b]8;;\u001b\\\n"
      ]
     },
     "metadata": {},
     "output_type": "display_data"
    },
    {
     "data": {
      "text/html": [
       "<pre style=\"white-space:pre;overflow-x:auto;line-height:normal;font-family:Menlo,'DejaVu Sans Mono',consolas,'Courier New',monospace\"><span style=\"color: #7fbfbf; text-decoration-color: #7fbfbf\">[10/19/22 23:46:54] </span><span style=\"color: #000080; text-decoration-color: #000080\">INFO    </span> <span style=\"color: #808000; text-decoration-color: #808000\">...</span> index_per_table  <span style=\"color: #008000; text-decoration-color: #008000; font-weight: bold\">SUCCESS</span> <span style=\"font-weight: bold\">[</span><span style=\"color: #008080; text-decoration-color: #008080; font-weight: bold\">4</span> <span style=\"color: #800080; text-decoration-color: #800080; font-weight: bold\">rows</span><span style=\"font-weight: bold\">(</span>s<span style=\"font-weight: bold\">)]</span>                               <a href=\"file:///usr/local/google/home/codyfincher/Code/database-tools/oracle-database-assessment/src/server/dbma/database.py\" target=\"_blank\"><span style=\"color: #7f7f7f; text-decoration-color: #7f7f7f\">database.py</span></a><span style=\"color: #7f7f7f; text-decoration-color: #7f7f7f\">:</span><a href=\"file:///usr/local/google/home/codyfincher/Code/database-tools/oracle-database-assessment/src/server/dbma/database.py#160\" target=\"_blank\"><span style=\"color: #7f7f7f; text-decoration-color: #7f7f7f\">160</span></a>\n",
       "</pre>\n"
      ],
      "text/plain": [
       "\u001b[2;36m[10/19/22 23:46:54]\u001b[0m\u001b[2;36m \u001b[0m\u001b[34mINFO    \u001b[0m \u001b[33m...\u001b[0m index_per_table  \u001b[1;32mSUCCESS\u001b[0m \u001b[1m[\u001b[0m\u001b[1;36m4\u001b[0m \u001b[1;35mrows\u001b[0m\u001b[1m(\u001b[0ms\u001b[1m)\u001b[0m\u001b[1m]\u001b[0m                               \u001b]8;id=657756;file:///usr/local/google/home/codyfincher/Code/database-tools/oracle-database-assessment/src/server/dbma/database.py\u001b\\\u001b[2mdatabase.py\u001b[0m\u001b]8;;\u001b\\\u001b[2m:\u001b[0m\u001b]8;id=265881;file:///usr/local/google/home/codyfincher/Code/database-tools/oracle-database-assessment/src/server/dbma/database.py#160\u001b\\\u001b[2m160\u001b[0m\u001b]8;;\u001b\\\n"
      ]
     },
     "metadata": {},
     "output_type": "display_data"
    },
    {
     "data": {
      "text/html": [
       "<pre style=\"white-space:pre;overflow-x:auto;line-height:normal;font-family:Menlo,'DejaVu Sans Mono',consolas,'Courier New',monospace\"><span style=\"color: #7fbfbf; text-decoration-color: #7fbfbf\">[10/19/22 23:46:54] </span><span style=\"color: #000080; text-decoration-color: #000080\">INFO    </span> <span style=\"color: #808000; text-decoration-color: #808000\">...</span> index_types  <span style=\"color: #008000; text-decoration-color: #008000; font-weight: bold\">SUCCESS</span> <span style=\"font-weight: bold\">[</span><span style=\"color: #008080; text-decoration-color: #008080; font-weight: bold\">10</span> <span style=\"color: #800080; text-decoration-color: #800080; font-weight: bold\">rows</span><span style=\"font-weight: bold\">(</span>s<span style=\"font-weight: bold\">)]</span>                                  <a href=\"file:///usr/local/google/home/codyfincher/Code/database-tools/oracle-database-assessment/src/server/dbma/database.py\" target=\"_blank\"><span style=\"color: #7f7f7f; text-decoration-color: #7f7f7f\">database.py</span></a><span style=\"color: #7f7f7f; text-decoration-color: #7f7f7f\">:</span><a href=\"file:///usr/local/google/home/codyfincher/Code/database-tools/oracle-database-assessment/src/server/dbma/database.py#160\" target=\"_blank\"><span style=\"color: #7f7f7f; text-decoration-color: #7f7f7f\">160</span></a>\n",
       "</pre>\n"
      ],
      "text/plain": [
       "\u001b[2;36m[10/19/22 23:46:54]\u001b[0m\u001b[2;36m \u001b[0m\u001b[34mINFO    \u001b[0m \u001b[33m...\u001b[0m index_types  \u001b[1;32mSUCCESS\u001b[0m \u001b[1m[\u001b[0m\u001b[1;36m10\u001b[0m \u001b[1;35mrows\u001b[0m\u001b[1m(\u001b[0ms\u001b[1m)\u001b[0m\u001b[1m]\u001b[0m                                  \u001b]8;id=498871;file:///usr/local/google/home/codyfincher/Code/database-tools/oracle-database-assessment/src/server/dbma/database.py\u001b\\\u001b[2mdatabase.py\u001b[0m\u001b]8;;\u001b\\\u001b[2m:\u001b[0m\u001b]8;id=437724;file:///usr/local/google/home/codyfincher/Code/database-tools/oracle-database-assessment/src/server/dbma/database.py#160\u001b\\\u001b[2m160\u001b[0m\u001b]8;;\u001b\\\n"
      ]
     },
     "metadata": {},
     "output_type": "display_data"
    },
    {
     "data": {
      "text/html": [
       "<pre style=\"white-space:pre;overflow-x:auto;line-height:normal;font-family:Menlo,'DejaVu Sans Mono',consolas,'Courier New',monospace\"><span style=\"color: #7fbfbf; text-decoration-color: #7fbfbf\">[10/19/22 23:46:54] </span><span style=\"color: #000080; text-decoration-color: #000080\">INFO    </span> <span style=\"color: #808000; text-decoration-color: #808000\">...</span> io_events  <span style=\"color: #008000; text-decoration-color: #008000; font-weight: bold\">SUCCESS</span> <span style=\"font-weight: bold\">[</span><span style=\"color: #008080; text-decoration-color: #008080; font-weight: bold\">648</span> <span style=\"color: #800080; text-decoration-color: #800080; font-weight: bold\">rows</span><span style=\"font-weight: bold\">(</span>s<span style=\"font-weight: bold\">)]</span>                                   <a href=\"file:///usr/local/google/home/codyfincher/Code/database-tools/oracle-database-assessment/src/server/dbma/database.py\" target=\"_blank\"><span style=\"color: #7f7f7f; text-decoration-color: #7f7f7f\">database.py</span></a><span style=\"color: #7f7f7f; text-decoration-color: #7f7f7f\">:</span><a href=\"file:///usr/local/google/home/codyfincher/Code/database-tools/oracle-database-assessment/src/server/dbma/database.py#160\" target=\"_blank\"><span style=\"color: #7f7f7f; text-decoration-color: #7f7f7f\">160</span></a>\n",
       "</pre>\n"
      ],
      "text/plain": [
       "\u001b[2;36m[10/19/22 23:46:54]\u001b[0m\u001b[2;36m \u001b[0m\u001b[34mINFO    \u001b[0m \u001b[33m...\u001b[0m io_events  \u001b[1;32mSUCCESS\u001b[0m \u001b[1m[\u001b[0m\u001b[1;36m648\u001b[0m \u001b[1;35mrows\u001b[0m\u001b[1m(\u001b[0ms\u001b[1m)\u001b[0m\u001b[1m]\u001b[0m                                   \u001b]8;id=578037;file:///usr/local/google/home/codyfincher/Code/database-tools/oracle-database-assessment/src/server/dbma/database.py\u001b\\\u001b[2mdatabase.py\u001b[0m\u001b]8;;\u001b\\\u001b[2m:\u001b[0m\u001b]8;id=904393;file:///usr/local/google/home/codyfincher/Code/database-tools/oracle-database-assessment/src/server/dbma/database.py#160\u001b\\\u001b[2m160\u001b[0m\u001b]8;;\u001b\\\n"
      ]
     },
     "metadata": {},
     "output_type": "display_data"
    },
    {
     "data": {
      "text/html": [
       "<pre style=\"white-space:pre;overflow-x:auto;line-height:normal;font-family:Menlo,'DejaVu Sans Mono',consolas,'Courier New',monospace\"><span style=\"color: #7fbfbf; text-decoration-color: #7fbfbf\">[10/19/22 23:46:54] </span><span style=\"color: #000080; text-decoration-color: #000080\">INFO    </span> <span style=\"color: #808000; text-decoration-color: #808000\">...</span> io_function  <span style=\"color: #008000; text-decoration-color: #008000; font-weight: bold\">SUCCESS</span> <span style=\"font-weight: bold\">[</span><span style=\"color: #008080; text-decoration-color: #008080; font-weight: bold\">336</span> <span style=\"color: #800080; text-decoration-color: #800080; font-weight: bold\">rows</span><span style=\"font-weight: bold\">(</span>s<span style=\"font-weight: bold\">)]</span>                                 <a href=\"file:///usr/local/google/home/codyfincher/Code/database-tools/oracle-database-assessment/src/server/dbma/database.py\" target=\"_blank\"><span style=\"color: #7f7f7f; text-decoration-color: #7f7f7f\">database.py</span></a><span style=\"color: #7f7f7f; text-decoration-color: #7f7f7f\">:</span><a href=\"file:///usr/local/google/home/codyfincher/Code/database-tools/oracle-database-assessment/src/server/dbma/database.py#160\" target=\"_blank\"><span style=\"color: #7f7f7f; text-decoration-color: #7f7f7f\">160</span></a>\n",
       "</pre>\n"
      ],
      "text/plain": [
       "\u001b[2;36m[10/19/22 23:46:54]\u001b[0m\u001b[2;36m \u001b[0m\u001b[34mINFO    \u001b[0m \u001b[33m...\u001b[0m io_function  \u001b[1;32mSUCCESS\u001b[0m \u001b[1m[\u001b[0m\u001b[1;36m336\u001b[0m \u001b[1;35mrows\u001b[0m\u001b[1m(\u001b[0ms\u001b[1m)\u001b[0m\u001b[1m]\u001b[0m                                 \u001b]8;id=902788;file:///usr/local/google/home/codyfincher/Code/database-tools/oracle-database-assessment/src/server/dbma/database.py\u001b\\\u001b[2mdatabase.py\u001b[0m\u001b]8;;\u001b\\\u001b[2m:\u001b[0m\u001b]8;id=752934;file:///usr/local/google/home/codyfincher/Code/database-tools/oracle-database-assessment/src/server/dbma/database.py#160\u001b\\\u001b[2m160\u001b[0m\u001b]8;;\u001b\\\n"
      ]
     },
     "metadata": {},
     "output_type": "display_data"
    },
    {
     "data": {
      "text/html": [
       "<pre style=\"white-space:pre;overflow-x:auto;line-height:normal;font-family:Menlo,'DejaVu Sans Mono',consolas,'Courier New',monospace\"><span style=\"color: #7fbfbf; text-decoration-color: #7fbfbf\">[10/19/22 23:46:54] </span><span style=\"color: #000080; text-decoration-color: #000080\">INFO    </span> <span style=\"color: #808000; text-decoration-color: #808000\">...</span> db_source_code  <span style=\"color: #008000; text-decoration-color: #008000; font-weight: bold\">SUCCESS</span> <span style=\"font-weight: bold\">[</span><span style=\"color: #008080; text-decoration-color: #008080; font-weight: bold\">5</span> <span style=\"color: #800080; text-decoration-color: #800080; font-weight: bold\">rows</span><span style=\"font-weight: bold\">(</span>s<span style=\"font-weight: bold\">)]</span>                                <a href=\"file:///usr/local/google/home/codyfincher/Code/database-tools/oracle-database-assessment/src/server/dbma/database.py\" target=\"_blank\"><span style=\"color: #7f7f7f; text-decoration-color: #7f7f7f\">database.py</span></a><span style=\"color: #7f7f7f; text-decoration-color: #7f7f7f\">:</span><a href=\"file:///usr/local/google/home/codyfincher/Code/database-tools/oracle-database-assessment/src/server/dbma/database.py#160\" target=\"_blank\"><span style=\"color: #7f7f7f; text-decoration-color: #7f7f7f\">160</span></a>\n",
       "</pre>\n"
      ],
      "text/plain": [
       "\u001b[2;36m[10/19/22 23:46:54]\u001b[0m\u001b[2;36m \u001b[0m\u001b[34mINFO    \u001b[0m \u001b[33m...\u001b[0m db_source_code  \u001b[1;32mSUCCESS\u001b[0m \u001b[1m[\u001b[0m\u001b[1;36m5\u001b[0m \u001b[1;35mrows\u001b[0m\u001b[1m(\u001b[0ms\u001b[1m)\u001b[0m\u001b[1m]\u001b[0m                                \u001b]8;id=853789;file:///usr/local/google/home/codyfincher/Code/database-tools/oracle-database-assessment/src/server/dbma/database.py\u001b\\\u001b[2mdatabase.py\u001b[0m\u001b]8;;\u001b\\\u001b[2m:\u001b[0m\u001b]8;id=423609;file:///usr/local/google/home/codyfincher/Code/database-tools/oracle-database-assessment/src/server/dbma/database.py#160\u001b\\\u001b[2m160\u001b[0m\u001b]8;;\u001b\\\n"
      ]
     },
     "metadata": {},
     "output_type": "display_data"
    },
    {
     "data": {
      "text/html": [
       "<pre style=\"white-space:pre;overflow-x:auto;line-height:normal;font-family:Menlo,'DejaVu Sans Mono',consolas,'Courier New',monospace\"><span style=\"color: #7fbfbf; text-decoration-color: #7fbfbf\">[10/19/22 23:46:54] </span><span style=\"color: #000080; text-decoration-color: #000080\">INFO    </span> <span style=\"color: #808000; text-decoration-color: #808000\">...</span> db_source_connections  <span style=\"color: #008000; text-decoration-color: #008000; font-weight: bold\">SUCCESS</span> <span style=\"font-weight: bold\">[</span><span style=\"color: #008080; text-decoration-color: #008080; font-weight: bold\">582</span> <span style=\"color: #800080; text-decoration-color: #800080; font-weight: bold\">rows</span><span style=\"font-weight: bold\">(</span>s<span style=\"font-weight: bold\">)]</span>                       <a href=\"file:///usr/local/google/home/codyfincher/Code/database-tools/oracle-database-assessment/src/server/dbma/database.py\" target=\"_blank\"><span style=\"color: #7f7f7f; text-decoration-color: #7f7f7f\">database.py</span></a><span style=\"color: #7f7f7f; text-decoration-color: #7f7f7f\">:</span><a href=\"file:///usr/local/google/home/codyfincher/Code/database-tools/oracle-database-assessment/src/server/dbma/database.py#160\" target=\"_blank\"><span style=\"color: #7f7f7f; text-decoration-color: #7f7f7f\">160</span></a>\n",
       "</pre>\n"
      ],
      "text/plain": [
       "\u001b[2;36m[10/19/22 23:46:54]\u001b[0m\u001b[2;36m \u001b[0m\u001b[34mINFO    \u001b[0m \u001b[33m...\u001b[0m db_source_connections  \u001b[1;32mSUCCESS\u001b[0m \u001b[1m[\u001b[0m\u001b[1;36m582\u001b[0m \u001b[1;35mrows\u001b[0m\u001b[1m(\u001b[0ms\u001b[1m)\u001b[0m\u001b[1m]\u001b[0m                       \u001b]8;id=638483;file:///usr/local/google/home/codyfincher/Code/database-tools/oracle-database-assessment/src/server/dbma/database.py\u001b\\\u001b[2mdatabase.py\u001b[0m\u001b]8;;\u001b\\\u001b[2m:\u001b[0m\u001b]8;id=68837;file:///usr/local/google/home/codyfincher/Code/database-tools/oracle-database-assessment/src/server/dbma/database.py#160\u001b\\\u001b[2m160\u001b[0m\u001b]8;;\u001b\\\n"
      ]
     },
     "metadata": {},
     "output_type": "display_data"
    },
    {
     "data": {
      "text/html": [
       "<pre style=\"white-space:pre;overflow-x:auto;line-height:normal;font-family:Menlo,'DejaVu Sans Mono',consolas,'Courier New',monospace\"><span style=\"color: #7fbfbf; text-decoration-color: #7fbfbf\">[10/19/22 23:46:55] </span><span style=\"color: #000080; text-decoration-color: #000080\">INFO    </span> <span style=\"color: #808000; text-decoration-color: #808000\">...</span> db_sql_stats  <span style=\"color: #008000; text-decoration-color: #008000; font-weight: bold\">SUCCESS</span> <span style=\"font-weight: bold\">[</span><span style=\"color: #008080; text-decoration-color: #008080; font-weight: bold\">299</span> <span style=\"color: #800080; text-decoration-color: #800080; font-weight: bold\">rows</span><span style=\"font-weight: bold\">(</span>s<span style=\"font-weight: bold\">)]</span>                                <a href=\"file:///usr/local/google/home/codyfincher/Code/database-tools/oracle-database-assessment/src/server/dbma/database.py\" target=\"_blank\"><span style=\"color: #7f7f7f; text-decoration-color: #7f7f7f\">database.py</span></a><span style=\"color: #7f7f7f; text-decoration-color: #7f7f7f\">:</span><a href=\"file:///usr/local/google/home/codyfincher/Code/database-tools/oracle-database-assessment/src/server/dbma/database.py#160\" target=\"_blank\"><span style=\"color: #7f7f7f; text-decoration-color: #7f7f7f\">160</span></a>\n",
       "</pre>\n"
      ],
      "text/plain": [
       "\u001b[2;36m[10/19/22 23:46:55]\u001b[0m\u001b[2;36m \u001b[0m\u001b[34mINFO    \u001b[0m \u001b[33m...\u001b[0m db_sql_stats  \u001b[1;32mSUCCESS\u001b[0m \u001b[1m[\u001b[0m\u001b[1;36m299\u001b[0m \u001b[1;35mrows\u001b[0m\u001b[1m(\u001b[0ms\u001b[1m)\u001b[0m\u001b[1m]\u001b[0m                                \u001b]8;id=980497;file:///usr/local/google/home/codyfincher/Code/database-tools/oracle-database-assessment/src/server/dbma/database.py\u001b\\\u001b[2mdatabase.py\u001b[0m\u001b]8;;\u001b\\\u001b[2m:\u001b[0m\u001b]8;id=900054;file:///usr/local/google/home/codyfincher/Code/database-tools/oracle-database-assessment/src/server/dbma/database.py#160\u001b\\\u001b[2m160\u001b[0m\u001b]8;;\u001b\\\n"
      ]
     },
     "metadata": {},
     "output_type": "display_data"
    },
    {
     "data": {
      "text/html": [
       "<pre style=\"white-space:pre;overflow-x:auto;line-height:normal;font-family:Menlo,'DejaVu Sans Mono',consolas,'Courier New',monospace\"><span style=\"color: #7fbfbf; text-decoration-color: #7fbfbf\">[10/19/22 23:46:55] </span><span style=\"color: #000080; text-decoration-color: #000080\">INFO    </span> <span style=\"color: #808000; text-decoration-color: #808000\">...</span> db_constraint_summary  <span style=\"color: #008000; text-decoration-color: #008000; font-weight: bold\">SUCCESS</span> <span style=\"font-weight: bold\">[</span><span style=\"color: #008080; text-decoration-color: #008080; font-weight: bold\">25</span> <span style=\"color: #800080; text-decoration-color: #800080; font-weight: bold\">rows</span><span style=\"font-weight: bold\">(</span>s<span style=\"font-weight: bold\">)]</span>                        <a href=\"file:///usr/local/google/home/codyfincher/Code/database-tools/oracle-database-assessment/src/server/dbma/database.py\" target=\"_blank\"><span style=\"color: #7f7f7f; text-decoration-color: #7f7f7f\">database.py</span></a><span style=\"color: #7f7f7f; text-decoration-color: #7f7f7f\">:</span><a href=\"file:///usr/local/google/home/codyfincher/Code/database-tools/oracle-database-assessment/src/server/dbma/database.py#160\" target=\"_blank\"><span style=\"color: #7f7f7f; text-decoration-color: #7f7f7f\">160</span></a>\n",
       "</pre>\n"
      ],
      "text/plain": [
       "\u001b[2;36m[10/19/22 23:46:55]\u001b[0m\u001b[2;36m \u001b[0m\u001b[34mINFO    \u001b[0m \u001b[33m...\u001b[0m db_constraint_summary  \u001b[1;32mSUCCESS\u001b[0m \u001b[1m[\u001b[0m\u001b[1;36m25\u001b[0m \u001b[1;35mrows\u001b[0m\u001b[1m(\u001b[0ms\u001b[1m)\u001b[0m\u001b[1m]\u001b[0m                        \u001b]8;id=847981;file:///usr/local/google/home/codyfincher/Code/database-tools/oracle-database-assessment/src/server/dbma/database.py\u001b\\\u001b[2mdatabase.py\u001b[0m\u001b]8;;\u001b\\\u001b[2m:\u001b[0m\u001b]8;id=906195;file:///usr/local/google/home/codyfincher/Code/database-tools/oracle-database-assessment/src/server/dbma/database.py#160\u001b\\\u001b[2m160\u001b[0m\u001b]8;;\u001b\\\n"
      ]
     },
     "metadata": {},
     "output_type": "display_data"
    },
    {
     "data": {
      "text/html": [
       "<pre style=\"white-space:pre;overflow-x:auto;line-height:normal;font-family:Menlo,'DejaVu Sans Mono',consolas,'Courier New',monospace\"><span style=\"color: #7fbfbf; text-decoration-color: #7fbfbf\">[10/19/22 23:46:55] </span><span style=\"color: #000080; text-decoration-color: #000080\">INFO    </span> <span style=\"color: #808000; text-decoration-color: #808000\">...</span> db_used_space_details  <span style=\"color: #008000; text-decoration-color: #008000; font-weight: bold\">SUCCESS</span> <span style=\"font-weight: bold\">[</span><span style=\"color: #008080; text-decoration-color: #008080; font-weight: bold\">15</span> <span style=\"color: #800080; text-decoration-color: #800080; font-weight: bold\">rows</span><span style=\"font-weight: bold\">(</span>s<span style=\"font-weight: bold\">)]</span>                        <a href=\"file:///usr/local/google/home/codyfincher/Code/database-tools/oracle-database-assessment/src/server/dbma/database.py\" target=\"_blank\"><span style=\"color: #7f7f7f; text-decoration-color: #7f7f7f\">database.py</span></a><span style=\"color: #7f7f7f; text-decoration-color: #7f7f7f\">:</span><a href=\"file:///usr/local/google/home/codyfincher/Code/database-tools/oracle-database-assessment/src/server/dbma/database.py#160\" target=\"_blank\"><span style=\"color: #7f7f7f; text-decoration-color: #7f7f7f\">160</span></a>\n",
       "</pre>\n"
      ],
      "text/plain": [
       "\u001b[2;36m[10/19/22 23:46:55]\u001b[0m\u001b[2;36m \u001b[0m\u001b[34mINFO    \u001b[0m \u001b[33m...\u001b[0m db_used_space_details  \u001b[1;32mSUCCESS\u001b[0m \u001b[1m[\u001b[0m\u001b[1;36m15\u001b[0m \u001b[1;35mrows\u001b[0m\u001b[1m(\u001b[0ms\u001b[1m)\u001b[0m\u001b[1m]\u001b[0m                        \u001b]8;id=27587;file:///usr/local/google/home/codyfincher/Code/database-tools/oracle-database-assessment/src/server/dbma/database.py\u001b\\\u001b[2mdatabase.py\u001b[0m\u001b]8;;\u001b\\\u001b[2m:\u001b[0m\u001b]8;id=72825;file:///usr/local/google/home/codyfincher/Code/database-tools/oracle-database-assessment/src/server/dbma/database.py#160\u001b\\\u001b[2m160\u001b[0m\u001b]8;;\u001b\\\n"
      ]
     },
     "metadata": {},
     "output_type": "display_data"
    },
    {
     "data": {
      "text/html": [
       "<pre style=\"white-space:pre;overflow-x:auto;line-height:normal;font-family:Menlo,'DejaVu Sans Mono',consolas,'Courier New',monospace\"><span style=\"color: #7fbfbf; text-decoration-color: #7fbfbf\">[10/19/22 23:46:55] </span><span style=\"color: #000080; text-decoration-color: #000080\">INFO    </span> <span style=\"color: #808000; text-decoration-color: #808000\">...</span> db_user_tablespace_segments  <span style=\"color: #008000; text-decoration-color: #008000; font-weight: bold\">SUCCESS</span> <span style=\"font-weight: bold\">[</span><span style=\"color: #008080; text-decoration-color: #008080; font-weight: bold\">124</span> <span style=\"color: #800080; text-decoration-color: #800080; font-weight: bold\">rows</span><span style=\"font-weight: bold\">(</span>s<span style=\"font-weight: bold\">)]</span>                 <a href=\"file:///usr/local/google/home/codyfincher/Code/database-tools/oracle-database-assessment/src/server/dbma/database.py\" target=\"_blank\"><span style=\"color: #7f7f7f; text-decoration-color: #7f7f7f\">database.py</span></a><span style=\"color: #7f7f7f; text-decoration-color: #7f7f7f\">:</span><a href=\"file:///usr/local/google/home/codyfincher/Code/database-tools/oracle-database-assessment/src/server/dbma/database.py#160\" target=\"_blank\"><span style=\"color: #7f7f7f; text-decoration-color: #7f7f7f\">160</span></a>\n",
       "</pre>\n"
      ],
      "text/plain": [
       "\u001b[2;36m[10/19/22 23:46:55]\u001b[0m\u001b[2;36m \u001b[0m\u001b[34mINFO    \u001b[0m \u001b[33m...\u001b[0m db_user_tablespace_segments  \u001b[1;32mSUCCESS\u001b[0m \u001b[1m[\u001b[0m\u001b[1;36m124\u001b[0m \u001b[1;35mrows\u001b[0m\u001b[1m(\u001b[0ms\u001b[1m)\u001b[0m\u001b[1m]\u001b[0m                 \u001b]8;id=712015;file:///usr/local/google/home/codyfincher/Code/database-tools/oracle-database-assessment/src/server/dbma/database.py\u001b\\\u001b[2mdatabase.py\u001b[0m\u001b]8;;\u001b\\\u001b[2m:\u001b[0m\u001b]8;id=482652;file:///usr/local/google/home/codyfincher/Code/database-tools/oracle-database-assessment/src/server/dbma/database.py#160\u001b\\\u001b[2m160\u001b[0m\u001b]8;;\u001b\\\n"
      ]
     },
     "metadata": {},
     "output_type": "display_data"
    },
    {
     "data": {
      "text/html": [
       "<pre style=\"white-space:pre;overflow-x:auto;line-height:normal;font-family:Menlo,'DejaVu Sans Mono',consolas,'Courier New',monospace\"><span style=\"color: #7fbfbf; text-decoration-color: #7fbfbf\">[10/19/22 23:46:55] </span><span style=\"color: #000080; text-decoration-color: #000080\">INFO    </span> executing transformation script transform_01                           <a href=\"file:///usr/local/google/home/codyfincher/Code/database-tools/oracle-database-assessment/src/server/dbma/database.py\" target=\"_blank\"><span style=\"color: #7f7f7f; text-decoration-color: #7f7f7f\">database.py</span></a><span style=\"color: #7f7f7f; text-decoration-color: #7f7f7f\">:</span><a href=\"file:///usr/local/google/home/codyfincher/Code/database-tools/oracle-database-assessment/src/server/dbma/database.py#136\" target=\"_blank\"><span style=\"color: #7f7f7f; text-decoration-color: #7f7f7f\">136</span></a>\n",
       "</pre>\n"
      ],
      "text/plain": [
       "\u001b[2;36m[10/19/22 23:46:55]\u001b[0m\u001b[2;36m \u001b[0m\u001b[34mINFO    \u001b[0m executing transformation script transform_01                           \u001b]8;id=130913;file:///usr/local/google/home/codyfincher/Code/database-tools/oracle-database-assessment/src/server/dbma/database.py\u001b\\\u001b[2mdatabase.py\u001b[0m\u001b]8;;\u001b\\\u001b[2m:\u001b[0m\u001b]8;id=312884;file:///usr/local/google/home/codyfincher/Code/database-tools/oracle-database-assessment/src/server/dbma/database.py#136\u001b\\\u001b[2m136\u001b[0m\u001b]8;;\u001b\\\n"
      ]
     },
     "metadata": {},
     "output_type": "display_data"
    },
    {
     "data": {
      "text/html": [
       "<pre style=\"white-space:pre;overflow-x:auto;line-height:normal;font-family:Menlo,'DejaVu Sans Mono',consolas,'Courier New',monospace\"><span style=\"color: #7fbfbf; text-decoration-color: #7fbfbf\">[10/19/22 23:46:55] </span><span style=\"color: #000080; text-decoration-color: #000080\">INFO    </span> executing transformation script transform_02                           <a href=\"file:///usr/local/google/home/codyfincher/Code/database-tools/oracle-database-assessment/src/server/dbma/database.py\" target=\"_blank\"><span style=\"color: #7f7f7f; text-decoration-color: #7f7f7f\">database.py</span></a><span style=\"color: #7f7f7f; text-decoration-color: #7f7f7f\">:</span><a href=\"file:///usr/local/google/home/codyfincher/Code/database-tools/oracle-database-assessment/src/server/dbma/database.py#136\" target=\"_blank\"><span style=\"color: #7f7f7f; text-decoration-color: #7f7f7f\">136</span></a>\n",
       "</pre>\n"
      ],
      "text/plain": [
       "\u001b[2;36m[10/19/22 23:46:55]\u001b[0m\u001b[2;36m \u001b[0m\u001b[34mINFO    \u001b[0m executing transformation script transform_02                           \u001b]8;id=487895;file:///usr/local/google/home/codyfincher/Code/database-tools/oracle-database-assessment/src/server/dbma/database.py\u001b\\\u001b[2mdatabase.py\u001b[0m\u001b]8;;\u001b\\\u001b[2m:\u001b[0m\u001b]8;id=553960;file:///usr/local/google/home/codyfincher/Code/database-tools/oracle-database-assessment/src/server/dbma/database.py#136\u001b\\\u001b[2m136\u001b[0m\u001b]8;;\u001b\\\n"
      ]
     },
     "metadata": {},
     "output_type": "display_data"
    },
    {
     "data": {
      "text/html": [
       "<pre style=\"white-space:pre;overflow-x:auto;line-height:normal;font-family:Menlo,'DejaVu Sans Mono',consolas,'Courier New',monospace\"><span style=\"color: #7fbfbf; text-decoration-color: #7fbfbf\">[10/19/22 23:46:55] </span><span style=\"color: #000080; text-decoration-color: #000080\">INFO    </span> executing transformation script transform_03                           <a href=\"file:///usr/local/google/home/codyfincher/Code/database-tools/oracle-database-assessment/src/server/dbma/database.py\" target=\"_blank\"><span style=\"color: #7f7f7f; text-decoration-color: #7f7f7f\">database.py</span></a><span style=\"color: #7f7f7f; text-decoration-color: #7f7f7f\">:</span><a href=\"file:///usr/local/google/home/codyfincher/Code/database-tools/oracle-database-assessment/src/server/dbma/database.py#136\" target=\"_blank\"><span style=\"color: #7f7f7f; text-decoration-color: #7f7f7f\">136</span></a>\n",
       "</pre>\n"
      ],
      "text/plain": [
       "\u001b[2;36m[10/19/22 23:46:55]\u001b[0m\u001b[2;36m \u001b[0m\u001b[34mINFO    \u001b[0m executing transformation script transform_03                           \u001b]8;id=321142;file:///usr/local/google/home/codyfincher/Code/database-tools/oracle-database-assessment/src/server/dbma/database.py\u001b\\\u001b[2mdatabase.py\u001b[0m\u001b]8;;\u001b\\\u001b[2m:\u001b[0m\u001b]8;id=116383;file:///usr/local/google/home/codyfincher/Code/database-tools/oracle-database-assessment/src/server/dbma/database.py#136\u001b\\\u001b[2m136\u001b[0m\u001b]8;;\u001b\\\n"
      ]
     },
     "metadata": {},
     "output_type": "display_data"
    },
    {
     "data": {
      "text/html": [
       "<pre style=\"white-space:pre;overflow-x:auto;line-height:normal;font-family:Menlo,'DejaVu Sans Mono',consolas,'Courier New',monospace\"><span style=\"color: #7fbfbf; text-decoration-color: #7fbfbf\">[10/19/22 23:46:55] </span><span style=\"color: #000080; text-decoration-color: #000080\">INFO    </span> executing transformation script transform_04                           <a href=\"file:///usr/local/google/home/codyfincher/Code/database-tools/oracle-database-assessment/src/server/dbma/database.py\" target=\"_blank\"><span style=\"color: #7f7f7f; text-decoration-color: #7f7f7f\">database.py</span></a><span style=\"color: #7f7f7f; text-decoration-color: #7f7f7f\">:</span><a href=\"file:///usr/local/google/home/codyfincher/Code/database-tools/oracle-database-assessment/src/server/dbma/database.py#136\" target=\"_blank\"><span style=\"color: #7f7f7f; text-decoration-color: #7f7f7f\">136</span></a>\n",
       "</pre>\n"
      ],
      "text/plain": [
       "\u001b[2;36m[10/19/22 23:46:55]\u001b[0m\u001b[2;36m \u001b[0m\u001b[34mINFO    \u001b[0m executing transformation script transform_04                           \u001b]8;id=444844;file:///usr/local/google/home/codyfincher/Code/database-tools/oracle-database-assessment/src/server/dbma/database.py\u001b\\\u001b[2mdatabase.py\u001b[0m\u001b]8;;\u001b\\\u001b[2m:\u001b[0m\u001b]8;id=794137;file:///usr/local/google/home/codyfincher/Code/database-tools/oracle-database-assessment/src/server/dbma/database.py#136\u001b\\\u001b[2m136\u001b[0m\u001b]8;;\u001b\\\n"
      ]
     },
     "metadata": {},
     "output_type": "display_data"
    },
    {
     "data": {
      "text/html": [
       "<pre style=\"white-space:pre;overflow-x:auto;line-height:normal;font-family:Menlo,'DejaVu Sans Mono',consolas,'Courier New',monospace\"><span style=\"color: #7fbfbf; text-decoration-color: #7fbfbf\">[10/19/22 23:46:55] </span><span style=\"color: #000080; text-decoration-color: #000080\">INFO    </span> executing transformation script transform_05                           <a href=\"file:///usr/local/google/home/codyfincher/Code/database-tools/oracle-database-assessment/src/server/dbma/database.py\" target=\"_blank\"><span style=\"color: #7f7f7f; text-decoration-color: #7f7f7f\">database.py</span></a><span style=\"color: #7f7f7f; text-decoration-color: #7f7f7f\">:</span><a href=\"file:///usr/local/google/home/codyfincher/Code/database-tools/oracle-database-assessment/src/server/dbma/database.py#136\" target=\"_blank\"><span style=\"color: #7f7f7f; text-decoration-color: #7f7f7f\">136</span></a>\n",
       "</pre>\n"
      ],
      "text/plain": [
       "\u001b[2;36m[10/19/22 23:46:55]\u001b[0m\u001b[2;36m \u001b[0m\u001b[34mINFO    \u001b[0m executing transformation script transform_05                           \u001b]8;id=58568;file:///usr/local/google/home/codyfincher/Code/database-tools/oracle-database-assessment/src/server/dbma/database.py\u001b\\\u001b[2mdatabase.py\u001b[0m\u001b]8;;\u001b\\\u001b[2m:\u001b[0m\u001b]8;id=497472;file:///usr/local/google/home/codyfincher/Code/database-tools/oracle-database-assessment/src/server/dbma/database.py#136\u001b\\\u001b[2m136\u001b[0m\u001b]8;;\u001b\\\n"
      ]
     },
     "metadata": {},
     "output_type": "display_data"
    },
    {
     "data": {
      "text/html": [
       "<pre style=\"white-space:pre;overflow-x:auto;line-height:normal;font-family:Menlo,'DejaVu Sans Mono',consolas,'Courier New',monospace\"><span style=\"color: #7fbfbf; text-decoration-color: #7fbfbf\">[10/19/22 23:46:55] </span><span style=\"color: #000080; text-decoration-color: #000080\">INFO    </span> executing transformation script transform_06                           <a href=\"file:///usr/local/google/home/codyfincher/Code/database-tools/oracle-database-assessment/src/server/dbma/database.py\" target=\"_blank\"><span style=\"color: #7f7f7f; text-decoration-color: #7f7f7f\">database.py</span></a><span style=\"color: #7f7f7f; text-decoration-color: #7f7f7f\">:</span><a href=\"file:///usr/local/google/home/codyfincher/Code/database-tools/oracle-database-assessment/src/server/dbma/database.py#136\" target=\"_blank\"><span style=\"color: #7f7f7f; text-decoration-color: #7f7f7f\">136</span></a>\n",
       "</pre>\n"
      ],
      "text/plain": [
       "\u001b[2;36m[10/19/22 23:46:55]\u001b[0m\u001b[2;36m \u001b[0m\u001b[34mINFO    \u001b[0m executing transformation script transform_06                           \u001b]8;id=18039;file:///usr/local/google/home/codyfincher/Code/database-tools/oracle-database-assessment/src/server/dbma/database.py\u001b\\\u001b[2mdatabase.py\u001b[0m\u001b]8;;\u001b\\\u001b[2m:\u001b[0m\u001b]8;id=849961;file:///usr/local/google/home/codyfincher/Code/database-tools/oracle-database-assessment/src/server/dbma/database.py#136\u001b\\\u001b[2m136\u001b[0m\u001b]8;;\u001b\\\n"
      ]
     },
     "metadata": {},
     "output_type": "display_data"
    },
    {
     "data": {
      "text/html": [
       "<pre style=\"white-space:pre;overflow-x:auto;line-height:normal;font-family:Menlo,'DejaVu Sans Mono',consolas,'Courier New',monospace\"><span style=\"color: #7fbfbf; text-decoration-color: #7fbfbf\">[10/19/22 23:46:55] </span><span style=\"color: #000080; text-decoration-color: #000080\">INFO    </span> executing transformation script transform_07                           <a href=\"file:///usr/local/google/home/codyfincher/Code/database-tools/oracle-database-assessment/src/server/dbma/database.py\" target=\"_blank\"><span style=\"color: #7f7f7f; text-decoration-color: #7f7f7f\">database.py</span></a><span style=\"color: #7f7f7f; text-decoration-color: #7f7f7f\">:</span><a href=\"file:///usr/local/google/home/codyfincher/Code/database-tools/oracle-database-assessment/src/server/dbma/database.py#136\" target=\"_blank\"><span style=\"color: #7f7f7f; text-decoration-color: #7f7f7f\">136</span></a>\n",
       "</pre>\n"
      ],
      "text/plain": [
       "\u001b[2;36m[10/19/22 23:46:55]\u001b[0m\u001b[2;36m \u001b[0m\u001b[34mINFO    \u001b[0m executing transformation script transform_07                           \u001b]8;id=307702;file:///usr/local/google/home/codyfincher/Code/database-tools/oracle-database-assessment/src/server/dbma/database.py\u001b\\\u001b[2mdatabase.py\u001b[0m\u001b]8;;\u001b\\\u001b[2m:\u001b[0m\u001b]8;id=542542;file:///usr/local/google/home/codyfincher/Code/database-tools/oracle-database-assessment/src/server/dbma/database.py#136\u001b\\\u001b[2m136\u001b[0m\u001b]8;;\u001b\\\n"
      ]
     },
     "metadata": {},
     "output_type": "display_data"
    },
    {
     "data": {
      "text/html": [
       "<pre style=\"white-space:pre;overflow-x:auto;line-height:normal;font-family:Menlo,'DejaVu Sans Mono',consolas,'Courier New',monospace\"><span style=\"color: #7fbfbf; text-decoration-color: #7fbfbf\">[10/19/22 23:46:55] </span><span style=\"color: #000080; text-decoration-color: #000080\">INFO    </span> executing transformation script transform_08                           <a href=\"file:///usr/local/google/home/codyfincher/Code/database-tools/oracle-database-assessment/src/server/dbma/database.py\" target=\"_blank\"><span style=\"color: #7f7f7f; text-decoration-color: #7f7f7f\">database.py</span></a><span style=\"color: #7f7f7f; text-decoration-color: #7f7f7f\">:</span><a href=\"file:///usr/local/google/home/codyfincher/Code/database-tools/oracle-database-assessment/src/server/dbma/database.py#136\" target=\"_blank\"><span style=\"color: #7f7f7f; text-decoration-color: #7f7f7f\">136</span></a>\n",
       "</pre>\n"
      ],
      "text/plain": [
       "\u001b[2;36m[10/19/22 23:46:55]\u001b[0m\u001b[2;36m \u001b[0m\u001b[34mINFO    \u001b[0m executing transformation script transform_08                           \u001b]8;id=998649;file:///usr/local/google/home/codyfincher/Code/database-tools/oracle-database-assessment/src/server/dbma/database.py\u001b\\\u001b[2mdatabase.py\u001b[0m\u001b]8;;\u001b\\\u001b[2m:\u001b[0m\u001b]8;id=860069;file:///usr/local/google/home/codyfincher/Code/database-tools/oracle-database-assessment/src/server/dbma/database.py#136\u001b\\\u001b[2m136\u001b[0m\u001b]8;;\u001b\\\n"
      ]
     },
     "metadata": {},
     "output_type": "display_data"
    },
    {
     "data": {
      "text/html": [
       "<pre style=\"white-space:pre;overflow-x:auto;line-height:normal;font-family:Menlo,'DejaVu Sans Mono',consolas,'Courier New',monospace\"><span style=\"color: #7fbfbf; text-decoration-color: #7fbfbf\">[10/19/22 23:46:55] </span><span style=\"color: #000080; text-decoration-color: #000080\">INFO    </span> executing transformation script transform_09                           <a href=\"file:///usr/local/google/home/codyfincher/Code/database-tools/oracle-database-assessment/src/server/dbma/database.py\" target=\"_blank\"><span style=\"color: #7f7f7f; text-decoration-color: #7f7f7f\">database.py</span></a><span style=\"color: #7f7f7f; text-decoration-color: #7f7f7f\">:</span><a href=\"file:///usr/local/google/home/codyfincher/Code/database-tools/oracle-database-assessment/src/server/dbma/database.py#136\" target=\"_blank\"><span style=\"color: #7f7f7f; text-decoration-color: #7f7f7f\">136</span></a>\n",
       "</pre>\n"
      ],
      "text/plain": [
       "\u001b[2;36m[10/19/22 23:46:55]\u001b[0m\u001b[2;36m \u001b[0m\u001b[34mINFO    \u001b[0m executing transformation script transform_09                           \u001b]8;id=864878;file:///usr/local/google/home/codyfincher/Code/database-tools/oracle-database-assessment/src/server/dbma/database.py\u001b\\\u001b[2mdatabase.py\u001b[0m\u001b]8;;\u001b\\\u001b[2m:\u001b[0m\u001b]8;id=273325;file:///usr/local/google/home/codyfincher/Code/database-tools/oracle-database-assessment/src/server/dbma/database.py#136\u001b\\\u001b[2m136\u001b[0m\u001b]8;;\u001b\\\n"
      ]
     },
     "metadata": {},
     "output_type": "display_data"
    },
    {
     "data": {
      "text/html": [
       "<pre style=\"white-space:pre;overflow-x:auto;line-height:normal;font-family:Menlo,'DejaVu Sans Mono',consolas,'Courier New',monospace\"><span style=\"color: #7fbfbf; text-decoration-color: #7fbfbf\">[10/19/22 23:46:55] </span><span style=\"color: #000080; text-decoration-color: #000080\">INFO    </span> executing transformation script transform_10                           <a href=\"file:///usr/local/google/home/codyfincher/Code/database-tools/oracle-database-assessment/src/server/dbma/database.py\" target=\"_blank\"><span style=\"color: #7f7f7f; text-decoration-color: #7f7f7f\">database.py</span></a><span style=\"color: #7f7f7f; text-decoration-color: #7f7f7f\">:</span><a href=\"file:///usr/local/google/home/codyfincher/Code/database-tools/oracle-database-assessment/src/server/dbma/database.py#136\" target=\"_blank\"><span style=\"color: #7f7f7f; text-decoration-color: #7f7f7f\">136</span></a>\n",
       "</pre>\n"
      ],
      "text/plain": [
       "\u001b[2;36m[10/19/22 23:46:55]\u001b[0m\u001b[2;36m \u001b[0m\u001b[34mINFO    \u001b[0m executing transformation script transform_10                           \u001b]8;id=756746;file:///usr/local/google/home/codyfincher/Code/database-tools/oracle-database-assessment/src/server/dbma/database.py\u001b\\\u001b[2mdatabase.py\u001b[0m\u001b]8;;\u001b\\\u001b[2m:\u001b[0m\u001b]8;id=880847;file:///usr/local/google/home/codyfincher/Code/database-tools/oracle-database-assessment/src/server/dbma/database.py#136\u001b\\\u001b[2m136\u001b[0m\u001b]8;;\u001b\\\n"
      ]
     },
     "metadata": {},
     "output_type": "display_data"
    },
    {
     "data": {
      "text/html": [
       "<pre style=\"white-space:pre;overflow-x:auto;line-height:normal;font-family:Menlo,'DejaVu Sans Mono',consolas,'Courier New',monospace\"><span style=\"color: #7fbfbf; text-decoration-color: #7fbfbf\">[10/19/22 23:46:55] </span><span style=\"color: #000080; text-decoration-color: #000080\">INFO    </span> executing transformation script transform_11                           <a href=\"file:///usr/local/google/home/codyfincher/Code/database-tools/oracle-database-assessment/src/server/dbma/database.py\" target=\"_blank\"><span style=\"color: #7f7f7f; text-decoration-color: #7f7f7f\">database.py</span></a><span style=\"color: #7f7f7f; text-decoration-color: #7f7f7f\">:</span><a href=\"file:///usr/local/google/home/codyfincher/Code/database-tools/oracle-database-assessment/src/server/dbma/database.py#136\" target=\"_blank\"><span style=\"color: #7f7f7f; text-decoration-color: #7f7f7f\">136</span></a>\n",
       "</pre>\n"
      ],
      "text/plain": [
       "\u001b[2;36m[10/19/22 23:46:55]\u001b[0m\u001b[2;36m \u001b[0m\u001b[34mINFO    \u001b[0m executing transformation script transform_11                           \u001b]8;id=476546;file:///usr/local/google/home/codyfincher/Code/database-tools/oracle-database-assessment/src/server/dbma/database.py\u001b\\\u001b[2mdatabase.py\u001b[0m\u001b]8;;\u001b\\\u001b[2m:\u001b[0m\u001b]8;id=641478;file:///usr/local/google/home/codyfincher/Code/database-tools/oracle-database-assessment/src/server/dbma/database.py#136\u001b\\\u001b[2m136\u001b[0m\u001b]8;;\u001b\\\n"
      ]
     },
     "metadata": {},
     "output_type": "display_data"
    },
    {
     "data": {
      "text/html": [
       "<pre style=\"white-space:pre;overflow-x:auto;line-height:normal;font-family:Menlo,'DejaVu Sans Mono',consolas,'Courier New',monospace\"><span style=\"color: #7fbfbf; text-decoration-color: #7fbfbf\">[10/19/22 23:46:55] </span><span style=\"color: #000080; text-decoration-color: #000080\">INFO    </span> executing transformation script transform_12                           <a href=\"file:///usr/local/google/home/codyfincher/Code/database-tools/oracle-database-assessment/src/server/dbma/database.py\" target=\"_blank\"><span style=\"color: #7f7f7f; text-decoration-color: #7f7f7f\">database.py</span></a><span style=\"color: #7f7f7f; text-decoration-color: #7f7f7f\">:</span><a href=\"file:///usr/local/google/home/codyfincher/Code/database-tools/oracle-database-assessment/src/server/dbma/database.py#136\" target=\"_blank\"><span style=\"color: #7f7f7f; text-decoration-color: #7f7f7f\">136</span></a>\n",
       "</pre>\n"
      ],
      "text/plain": [
       "\u001b[2;36m[10/19/22 23:46:55]\u001b[0m\u001b[2;36m \u001b[0m\u001b[34mINFO    \u001b[0m executing transformation script transform_12                           \u001b]8;id=157828;file:///usr/local/google/home/codyfincher/Code/database-tools/oracle-database-assessment/src/server/dbma/database.py\u001b\\\u001b[2mdatabase.py\u001b[0m\u001b]8;;\u001b\\\u001b[2m:\u001b[0m\u001b]8;id=778211;file:///usr/local/google/home/codyfincher/Code/database-tools/oracle-database-assessment/src/server/dbma/database.py#136\u001b\\\u001b[2m136\u001b[0m\u001b]8;;\u001b\\\n"
      ]
     },
     "metadata": {},
     "output_type": "display_data"
    },
    {
     "data": {
      "text/html": [
       "<pre style=\"white-space:pre;overflow-x:auto;line-height:normal;font-family:Menlo,'DejaVu Sans Mono',consolas,'Courier New',monospace\"><span style=\"color: #7fbfbf; text-decoration-color: #7fbfbf\">[10/19/22 23:46:56] </span><span style=\"color: #000080; text-decoration-color: #000080\">INFO    </span> <span style=\"font-weight: bold\">[]</span>                                                                        <a href=\"file:///usr/local/google/home/codyfincher/Code/database-tools/oracle-database-assessment/src/server/dbma/transformer/engine.py\" target=\"_blank\"><span style=\"color: #7f7f7f; text-decoration-color: #7f7f7f\">engine.py</span></a><span style=\"color: #7f7f7f; text-decoration-color: #7f7f7f\">:</span><a href=\"file:///usr/local/google/home/codyfincher/Code/database-tools/oracle-database-assessment/src/server/dbma/transformer/engine.py#94\" target=\"_blank\"><span style=\"color: #7f7f7f; text-decoration-color: #7f7f7f\">94</span></a>\n",
       "</pre>\n"
      ],
      "text/plain": [
       "\u001b[2;36m[10/19/22 23:46:56]\u001b[0m\u001b[2;36m \u001b[0m\u001b[34mINFO    \u001b[0m \u001b[1m[\u001b[0m\u001b[1m]\u001b[0m                                                                        \u001b]8;id=849592;file:///usr/local/google/home/codyfincher/Code/database-tools/oracle-database-assessment/src/server/dbma/transformer/engine.py\u001b\\\u001b[2mengine.py\u001b[0m\u001b]8;;\u001b\\\u001b[2m:\u001b[0m\u001b]8;id=897155;file:///usr/local/google/home/codyfincher/Code/database-tools/oracle-database-assessment/src/server/dbma/transformer/engine.py#94\u001b\\\u001b[2m94\u001b[0m\u001b]8;;\u001b\\\n"
      ]
     },
     "metadata": {},
     "output_type": "display_data"
    },
    {
     "data": {
      "text/html": [
       "<pre style=\"white-space:pre;overflow-x:auto;line-height:normal;font-family:Menlo,'DejaVu Sans Mono',consolas,'Courier New',monospace\"><span style=\"color: #7fbfbf; text-decoration-color: #7fbfbf\">[10/19/22 23:46:56] </span><span style=\"color: #000080; text-decoration-color: #000080\">INFO    </span> <span style=\"font-weight: bold\">[]</span>                                                                       <a href=\"file:///usr/local/google/home/codyfincher/Code/database-tools/oracle-database-assessment/src/server/dbma/transformer/engine.py\" target=\"_blank\"><span style=\"color: #7f7f7f; text-decoration-color: #7f7f7f\">engine.py</span></a><span style=\"color: #7f7f7f; text-decoration-color: #7f7f7f\">:</span><a href=\"file:///usr/local/google/home/codyfincher/Code/database-tools/oracle-database-assessment/src/server/dbma/transformer/engine.py#104\" target=\"_blank\"><span style=\"color: #7f7f7f; text-decoration-color: #7f7f7f\">104</span></a>\n",
       "</pre>\n"
      ],
      "text/plain": [
       "\u001b[2;36m[10/19/22 23:46:56]\u001b[0m\u001b[2;36m \u001b[0m\u001b[34mINFO    \u001b[0m \u001b[1m[\u001b[0m\u001b[1m]\u001b[0m                                                                       \u001b]8;id=468411;file:///usr/local/google/home/codyfincher/Code/database-tools/oracle-database-assessment/src/server/dbma/transformer/engine.py\u001b\\\u001b[2mengine.py\u001b[0m\u001b]8;;\u001b\\\u001b[2m:\u001b[0m\u001b]8;id=482894;file:///usr/local/google/home/codyfincher/Code/database-tools/oracle-database-assessment/src/server/dbma/transformer/engine.py#104\u001b\\\u001b[2m104\u001b[0m\u001b]8;;\u001b\\\n"
      ]
     },
     "metadata": {},
     "output_type": "display_data"
    },
    {
     "data": {
      "text/html": [
       "<pre style=\"white-space:pre;overflow-x:auto;line-height:normal;font-family:Menlo,'DejaVu Sans Mono',consolas,'Courier New',monospace\"><span style=\"color: #7fbfbf; text-decoration-color: #7fbfbf\">[10/19/22 23:46:56] </span><span style=\"color: #000080; text-decoration-color: #000080\">INFO    </span> executing preprocessing script pre_process_02_create_schema            <a href=\"file:///usr/local/google/home/codyfincher/Code/database-tools/oracle-database-assessment/src/server/dbma/database.py\" target=\"_blank\"><span style=\"color: #7f7f7f; text-decoration-color: #7f7f7f\">database.py</span></a><span style=\"color: #7f7f7f; text-decoration-color: #7f7f7f\">:</span><a href=\"file:///usr/local/google/home/codyfincher/Code/database-tools/oracle-database-assessment/src/server/dbma/database.py#184\" target=\"_blank\"><span style=\"color: #7f7f7f; text-decoration-color: #7f7f7f\">184</span></a>\n",
       "</pre>\n"
      ],
      "text/plain": [
       "\u001b[2;36m[10/19/22 23:46:56]\u001b[0m\u001b[2;36m \u001b[0m\u001b[34mINFO    \u001b[0m executing preprocessing script pre_process_02_create_schema            \u001b]8;id=779372;file:///usr/local/google/home/codyfincher/Code/database-tools/oracle-database-assessment/src/server/dbma/database.py\u001b\\\u001b[2mdatabase.py\u001b[0m\u001b]8;;\u001b\\\u001b[2m:\u001b[0m\u001b]8;id=321465;file:///usr/local/google/home/codyfincher/Code/database-tools/oracle-database-assessment/src/server/dbma/database.py#184\u001b\\\u001b[2m184\u001b[0m\u001b]8;;\u001b\\\n"
      ]
     },
     "metadata": {},
     "output_type": "display_data"
    },
    {
     "data": {
      "text/html": [
       "<pre style=\"white-space:pre;overflow-x:auto;line-height:normal;font-family:Menlo,'DejaVu Sans Mono',consolas,'Courier New',monospace\"><span style=\"color: #7fbfbf; text-decoration-color: #7fbfbf\">[10/19/22 23:46:56] </span><span style=\"color: #000080; text-decoration-color: #000080\">INFO    </span> <span style=\"color: #808000; text-decoration-color: #808000\">...</span> awr_hist_cmd_types  <span style=\"color: #008000; text-decoration-color: #008000; font-weight: bold\">SUCCESS</span> <span style=\"font-weight: bold\">[</span><span style=\"color: #008080; text-decoration-color: #008080; font-weight: bold\">167</span> <span style=\"color: #800080; text-decoration-color: #800080; font-weight: bold\">rows</span><span style=\"font-weight: bold\">(</span>s<span style=\"font-weight: bold\">)]</span>                          <a href=\"file:///usr/local/google/home/codyfincher/Code/database-tools/oracle-database-assessment/src/server/dbma/database.py\" target=\"_blank\"><span style=\"color: #7f7f7f; text-decoration-color: #7f7f7f\">database.py</span></a><span style=\"color: #7f7f7f; text-decoration-color: #7f7f7f\">:</span><a href=\"file:///usr/local/google/home/codyfincher/Code/database-tools/oracle-database-assessment/src/server/dbma/database.py#160\" target=\"_blank\"><span style=\"color: #7f7f7f; text-decoration-color: #7f7f7f\">160</span></a>\n",
       "</pre>\n"
      ],
      "text/plain": [
       "\u001b[2;36m[10/19/22 23:46:56]\u001b[0m\u001b[2;36m \u001b[0m\u001b[34mINFO    \u001b[0m \u001b[33m...\u001b[0m awr_hist_cmd_types  \u001b[1;32mSUCCESS\u001b[0m \u001b[1m[\u001b[0m\u001b[1;36m167\u001b[0m \u001b[1;35mrows\u001b[0m\u001b[1m(\u001b[0ms\u001b[1m)\u001b[0m\u001b[1m]\u001b[0m                          \u001b]8;id=830927;file:///usr/local/google/home/codyfincher/Code/database-tools/oracle-database-assessment/src/server/dbma/database.py\u001b\\\u001b[2mdatabase.py\u001b[0m\u001b]8;;\u001b\\\u001b[2m:\u001b[0m\u001b]8;id=795222;file:///usr/local/google/home/codyfincher/Code/database-tools/oracle-database-assessment/src/server/dbma/database.py#160\u001b\\\u001b[2m160\u001b[0m\u001b]8;;\u001b\\\n"
      ]
     },
     "metadata": {},
     "output_type": "display_data"
    },
    {
     "data": {
      "text/html": [
       "<pre style=\"white-space:pre;overflow-x:auto;line-height:normal;font-family:Menlo,'DejaVu Sans Mono',consolas,'Courier New',monospace\"><span style=\"color: #7fbfbf; text-decoration-color: #7fbfbf\">[10/19/22 23:46:56] </span><span style=\"color: #000080; text-decoration-color: #000080\">INFO    </span> <span style=\"color: #808000; text-decoration-color: #808000\">...</span> awr_hist_os_stat  <span style=\"color: #008000; text-decoration-color: #008000; font-weight: bold\">SUCCESS</span> <span style=\"font-weight: bold\">[</span><span style=\"color: #008080; text-decoration-color: #008080; font-weight: bold\">1200</span> <span style=\"color: #800080; text-decoration-color: #800080; font-weight: bold\">rows</span><span style=\"font-weight: bold\">(</span>s<span style=\"font-weight: bold\">)]</span>                           <a href=\"file:///usr/local/google/home/codyfincher/Code/database-tools/oracle-database-assessment/src/server/dbma/database.py\" target=\"_blank\"><span style=\"color: #7f7f7f; text-decoration-color: #7f7f7f\">database.py</span></a><span style=\"color: #7f7f7f; text-decoration-color: #7f7f7f\">:</span><a href=\"file:///usr/local/google/home/codyfincher/Code/database-tools/oracle-database-assessment/src/server/dbma/database.py#160\" target=\"_blank\"><span style=\"color: #7f7f7f; text-decoration-color: #7f7f7f\">160</span></a>\n",
       "</pre>\n"
      ],
      "text/plain": [
       "\u001b[2;36m[10/19/22 23:46:56]\u001b[0m\u001b[2;36m \u001b[0m\u001b[34mINFO    \u001b[0m \u001b[33m...\u001b[0m awr_hist_os_stat  \u001b[1;32mSUCCESS\u001b[0m \u001b[1m[\u001b[0m\u001b[1;36m1200\u001b[0m \u001b[1;35mrows\u001b[0m\u001b[1m(\u001b[0ms\u001b[1m)\u001b[0m\u001b[1m]\u001b[0m                           \u001b]8;id=818229;file:///usr/local/google/home/codyfincher/Code/database-tools/oracle-database-assessment/src/server/dbma/database.py\u001b\\\u001b[2mdatabase.py\u001b[0m\u001b]8;;\u001b\\\u001b[2m:\u001b[0m\u001b]8;id=881118;file:///usr/local/google/home/codyfincher/Code/database-tools/oracle-database-assessment/src/server/dbma/database.py#160\u001b\\\u001b[2m160\u001b[0m\u001b]8;;\u001b\\\n"
      ]
     },
     "metadata": {},
     "output_type": "display_data"
    },
    {
     "data": {
      "text/html": [
       "<pre style=\"white-space:pre;overflow-x:auto;line-height:normal;font-family:Menlo,'DejaVu Sans Mono',consolas,'Courier New',monospace\"><span style=\"color: #7fbfbf; text-decoration-color: #7fbfbf\">[10/19/22 23:46:56] </span><span style=\"color: #000080; text-decoration-color: #000080\">INFO    </span> <span style=\"color: #808000; text-decoration-color: #808000\">...</span> awr_hist_sys_metric_hist  <span style=\"color: #008000; text-decoration-color: #008000; font-weight: bold\">SUCCESS</span> <span style=\"font-weight: bold\">[</span><span style=\"color: #008080; text-decoration-color: #008080; font-weight: bold\">1104</span> <span style=\"color: #800080; text-decoration-color: #800080; font-weight: bold\">rows</span><span style=\"font-weight: bold\">(</span>s<span style=\"font-weight: bold\">)]</span>                   <a href=\"file:///usr/local/google/home/codyfincher/Code/database-tools/oracle-database-assessment/src/server/dbma/database.py\" target=\"_blank\"><span style=\"color: #7f7f7f; text-decoration-color: #7f7f7f\">database.py</span></a><span style=\"color: #7f7f7f; text-decoration-color: #7f7f7f\">:</span><a href=\"file:///usr/local/google/home/codyfincher/Code/database-tools/oracle-database-assessment/src/server/dbma/database.py#160\" target=\"_blank\"><span style=\"color: #7f7f7f; text-decoration-color: #7f7f7f\">160</span></a>\n",
       "</pre>\n"
      ],
      "text/plain": [
       "\u001b[2;36m[10/19/22 23:46:56]\u001b[0m\u001b[2;36m \u001b[0m\u001b[34mINFO    \u001b[0m \u001b[33m...\u001b[0m awr_hist_sys_metric_hist  \u001b[1;32mSUCCESS\u001b[0m \u001b[1m[\u001b[0m\u001b[1;36m1104\u001b[0m \u001b[1;35mrows\u001b[0m\u001b[1m(\u001b[0ms\u001b[1m)\u001b[0m\u001b[1m]\u001b[0m                   \u001b]8;id=299284;file:///usr/local/google/home/codyfincher/Code/database-tools/oracle-database-assessment/src/server/dbma/database.py\u001b\\\u001b[2mdatabase.py\u001b[0m\u001b]8;;\u001b\\\u001b[2m:\u001b[0m\u001b]8;id=791214;file:///usr/local/google/home/codyfincher/Code/database-tools/oracle-database-assessment/src/server/dbma/database.py#160\u001b\\\u001b[2m160\u001b[0m\u001b]8;;\u001b\\\n"
      ]
     },
     "metadata": {},
     "output_type": "display_data"
    },
    {
     "data": {
      "text/html": [
       "<pre style=\"white-space:pre;overflow-x:auto;line-height:normal;font-family:Menlo,'DejaVu Sans Mono',consolas,'Courier New',monospace\"><span style=\"color: #7fbfbf; text-decoration-color: #7fbfbf\">[10/19/22 23:46:56] </span><span style=\"color: #000080; text-decoration-color: #000080\">INFO    </span> <span style=\"color: #808000; text-decoration-color: #808000\">...</span> awr_hist_sys_metric_summary  <span style=\"color: #008000; text-decoration-color: #008000; font-weight: bold\">SUCCESS</span> <span style=\"font-weight: bold\">[</span><span style=\"color: #008080; text-decoration-color: #008080; font-weight: bold\">7728</span> <span style=\"color: #800080; text-decoration-color: #800080; font-weight: bold\">rows</span><span style=\"font-weight: bold\">(</span>s<span style=\"font-weight: bold\">)]</span>                <a href=\"file:///usr/local/google/home/codyfincher/Code/database-tools/oracle-database-assessment/src/server/dbma/database.py\" target=\"_blank\"><span style=\"color: #7f7f7f; text-decoration-color: #7f7f7f\">database.py</span></a><span style=\"color: #7f7f7f; text-decoration-color: #7f7f7f\">:</span><a href=\"file:///usr/local/google/home/codyfincher/Code/database-tools/oracle-database-assessment/src/server/dbma/database.py#160\" target=\"_blank\"><span style=\"color: #7f7f7f; text-decoration-color: #7f7f7f\">160</span></a>\n",
       "</pre>\n"
      ],
      "text/plain": [
       "\u001b[2;36m[10/19/22 23:46:56]\u001b[0m\u001b[2;36m \u001b[0m\u001b[34mINFO    \u001b[0m \u001b[33m...\u001b[0m awr_hist_sys_metric_summary  \u001b[1;32mSUCCESS\u001b[0m \u001b[1m[\u001b[0m\u001b[1;36m7728\u001b[0m \u001b[1;35mrows\u001b[0m\u001b[1m(\u001b[0ms\u001b[1m)\u001b[0m\u001b[1m]\u001b[0m                \u001b]8;id=988881;file:///usr/local/google/home/codyfincher/Code/database-tools/oracle-database-assessment/src/server/dbma/database.py\u001b\\\u001b[2mdatabase.py\u001b[0m\u001b]8;;\u001b\\\u001b[2m:\u001b[0m\u001b]8;id=574329;file:///usr/local/google/home/codyfincher/Code/database-tools/oracle-database-assessment/src/server/dbma/database.py#160\u001b\\\u001b[2m160\u001b[0m\u001b]8;;\u001b\\\n"
      ]
     },
     "metadata": {},
     "output_type": "display_data"
    },
    {
     "data": {
      "text/html": [
       "<pre style=\"white-space:pre;overflow-x:auto;line-height:normal;font-family:Menlo,'DejaVu Sans Mono',consolas,'Courier New',monospace\"><span style=\"color: #7fbfbf; text-decoration-color: #7fbfbf\">[10/19/22 23:46:56] </span><span style=\"color: #000080; text-decoration-color: #000080\">INFO    </span> <span style=\"color: #808000; text-decoration-color: #808000\">...</span> awr_snap_details  <span style=\"color: #008000; text-decoration-color: #008000; font-weight: bold\">SUCCESS</span> <span style=\"font-weight: bold\">[</span><span style=\"color: #008080; text-decoration-color: #008080; font-weight: bold\">48</span> <span style=\"color: #800080; text-decoration-color: #800080; font-weight: bold\">rows</span><span style=\"font-weight: bold\">(</span>s<span style=\"font-weight: bold\">)]</span>                             <a href=\"file:///usr/local/google/home/codyfincher/Code/database-tools/oracle-database-assessment/src/server/dbma/database.py\" target=\"_blank\"><span style=\"color: #7f7f7f; text-decoration-color: #7f7f7f\">database.py</span></a><span style=\"color: #7f7f7f; text-decoration-color: #7f7f7f\">:</span><a href=\"file:///usr/local/google/home/codyfincher/Code/database-tools/oracle-database-assessment/src/server/dbma/database.py#160\" target=\"_blank\"><span style=\"color: #7f7f7f; text-decoration-color: #7f7f7f\">160</span></a>\n",
       "</pre>\n"
      ],
      "text/plain": [
       "\u001b[2;36m[10/19/22 23:46:56]\u001b[0m\u001b[2;36m \u001b[0m\u001b[34mINFO    \u001b[0m \u001b[33m...\u001b[0m awr_snap_details  \u001b[1;32mSUCCESS\u001b[0m \u001b[1m[\u001b[0m\u001b[1;36m48\u001b[0m \u001b[1;35mrows\u001b[0m\u001b[1m(\u001b[0ms\u001b[1m)\u001b[0m\u001b[1m]\u001b[0m                             \u001b]8;id=61545;file:///usr/local/google/home/codyfincher/Code/database-tools/oracle-database-assessment/src/server/dbma/database.py\u001b\\\u001b[2mdatabase.py\u001b[0m\u001b]8;;\u001b\\\u001b[2m:\u001b[0m\u001b]8;id=419711;file:///usr/local/google/home/codyfincher/Code/database-tools/oracle-database-assessment/src/server/dbma/database.py#160\u001b\\\u001b[2m160\u001b[0m\u001b]8;;\u001b\\\n"
      ]
     },
     "metadata": {},
     "output_type": "display_data"
    },
    {
     "data": {
      "text/html": [
       "<pre style=\"white-space:pre;overflow-x:auto;line-height:normal;font-family:Menlo,'DejaVu Sans Mono',consolas,'Courier New',monospace\"><span style=\"color: #7fbfbf; text-decoration-color: #7fbfbf\">[10/19/22 23:46:56] </span><span style=\"color: #000080; text-decoration-color: #000080\">INFO    </span> <span style=\"color: #808000; text-decoration-color: #808000\">...</span> db_compression_by_type  <span style=\"color: #008000; text-decoration-color: #008000; font-weight: bold\">SUCCESS</span> <span style=\"font-weight: bold\">[</span><span style=\"color: #008080; text-decoration-color: #008080; font-weight: bold\">3</span> <span style=\"color: #800080; text-decoration-color: #800080; font-weight: bold\">rows</span><span style=\"font-weight: bold\">(</span>s<span style=\"font-weight: bold\">)]</span>                        <a href=\"file:///usr/local/google/home/codyfincher/Code/database-tools/oracle-database-assessment/src/server/dbma/database.py\" target=\"_blank\"><span style=\"color: #7f7f7f; text-decoration-color: #7f7f7f\">database.py</span></a><span style=\"color: #7f7f7f; text-decoration-color: #7f7f7f\">:</span><a href=\"file:///usr/local/google/home/codyfincher/Code/database-tools/oracle-database-assessment/src/server/dbma/database.py#160\" target=\"_blank\"><span style=\"color: #7f7f7f; text-decoration-color: #7f7f7f\">160</span></a>\n",
       "</pre>\n"
      ],
      "text/plain": [
       "\u001b[2;36m[10/19/22 23:46:56]\u001b[0m\u001b[2;36m \u001b[0m\u001b[34mINFO    \u001b[0m \u001b[33m...\u001b[0m db_compression_by_type  \u001b[1;32mSUCCESS\u001b[0m \u001b[1m[\u001b[0m\u001b[1;36m3\u001b[0m \u001b[1;35mrows\u001b[0m\u001b[1m(\u001b[0ms\u001b[1m)\u001b[0m\u001b[1m]\u001b[0m                        \u001b]8;id=347194;file:///usr/local/google/home/codyfincher/Code/database-tools/oracle-database-assessment/src/server/dbma/database.py\u001b\\\u001b[2mdatabase.py\u001b[0m\u001b]8;;\u001b\\\u001b[2m:\u001b[0m\u001b]8;id=236420;file:///usr/local/google/home/codyfincher/Code/database-tools/oracle-database-assessment/src/server/dbma/database.py#160\u001b\\\u001b[2m160\u001b[0m\u001b]8;;\u001b\\\n"
      ]
     },
     "metadata": {},
     "output_type": "display_data"
    },
    {
     "data": {
      "text/html": [
       "<pre style=\"white-space:pre;overflow-x:auto;line-height:normal;font-family:Menlo,'DejaVu Sans Mono',consolas,'Courier New',monospace\"><span style=\"color: #7fbfbf; text-decoration-color: #7fbfbf\">[10/19/22 23:46:56] </span><span style=\"color: #000080; text-decoration-color: #000080\">INFO    </span> <span style=\"color: #808000; text-decoration-color: #808000\">...</span> db_cpu_core_usage  <span style=\"color: #008000; text-decoration-color: #008000; font-weight: bold\">SUCCESS</span> <span style=\"font-weight: bold\">[</span><span style=\"color: #008080; text-decoration-color: #008080; font-weight: bold\">16</span> <span style=\"color: #800080; text-decoration-color: #800080; font-weight: bold\">rows</span><span style=\"font-weight: bold\">(</span>s<span style=\"font-weight: bold\">)]</span>                            <a href=\"file:///usr/local/google/home/codyfincher/Code/database-tools/oracle-database-assessment/src/server/dbma/database.py\" target=\"_blank\"><span style=\"color: #7f7f7f; text-decoration-color: #7f7f7f\">database.py</span></a><span style=\"color: #7f7f7f; text-decoration-color: #7f7f7f\">:</span><a href=\"file:///usr/local/google/home/codyfincher/Code/database-tools/oracle-database-assessment/src/server/dbma/database.py#160\" target=\"_blank\"><span style=\"color: #7f7f7f; text-decoration-color: #7f7f7f\">160</span></a>\n",
       "</pre>\n"
      ],
      "text/plain": [
       "\u001b[2;36m[10/19/22 23:46:56]\u001b[0m\u001b[2;36m \u001b[0m\u001b[34mINFO    \u001b[0m \u001b[33m...\u001b[0m db_cpu_core_usage  \u001b[1;32mSUCCESS\u001b[0m \u001b[1m[\u001b[0m\u001b[1;36m16\u001b[0m \u001b[1;35mrows\u001b[0m\u001b[1m(\u001b[0ms\u001b[1m)\u001b[0m\u001b[1m]\u001b[0m                            \u001b]8;id=260648;file:///usr/local/google/home/codyfincher/Code/database-tools/oracle-database-assessment/src/server/dbma/database.py\u001b\\\u001b[2mdatabase.py\u001b[0m\u001b]8;;\u001b\\\u001b[2m:\u001b[0m\u001b]8;id=504160;file:///usr/local/google/home/codyfincher/Code/database-tools/oracle-database-assessment/src/server/dbma/database.py#160\u001b\\\u001b[2m160\u001b[0m\u001b]8;;\u001b\\\n"
      ]
     },
     "metadata": {},
     "output_type": "display_data"
    },
    {
     "data": {
      "text/html": [
       "<pre style=\"white-space:pre;overflow-x:auto;line-height:normal;font-family:Menlo,'DejaVu Sans Mono',consolas,'Courier New',monospace\"><span style=\"color: #7fbfbf; text-decoration-color: #7fbfbf\">[10/19/22 23:46:56] </span><span style=\"color: #000080; text-decoration-color: #000080\">INFO    </span> <span style=\"color: #808000; text-decoration-color: #808000\">...</span> db_dataguard  <span style=\"color: #008000; text-decoration-color: #008000; font-weight: bold\">SUCCESS</span> <span style=\"font-weight: bold\">[</span><span style=\"color: #008080; text-decoration-color: #008080; font-weight: bold\">2</span> <span style=\"color: #800080; text-decoration-color: #800080; font-weight: bold\">rows</span><span style=\"font-weight: bold\">(</span>s<span style=\"font-weight: bold\">)]</span>                                  <a href=\"file:///usr/local/google/home/codyfincher/Code/database-tools/oracle-database-assessment/src/server/dbma/database.py\" target=\"_blank\"><span style=\"color: #7f7f7f; text-decoration-color: #7f7f7f\">database.py</span></a><span style=\"color: #7f7f7f; text-decoration-color: #7f7f7f\">:</span><a href=\"file:///usr/local/google/home/codyfincher/Code/database-tools/oracle-database-assessment/src/server/dbma/database.py#160\" target=\"_blank\"><span style=\"color: #7f7f7f; text-decoration-color: #7f7f7f\">160</span></a>\n",
       "</pre>\n"
      ],
      "text/plain": [
       "\u001b[2;36m[10/19/22 23:46:56]\u001b[0m\u001b[2;36m \u001b[0m\u001b[34mINFO    \u001b[0m \u001b[33m...\u001b[0m db_dataguard  \u001b[1;32mSUCCESS\u001b[0m \u001b[1m[\u001b[0m\u001b[1;36m2\u001b[0m \u001b[1;35mrows\u001b[0m\u001b[1m(\u001b[0ms\u001b[1m)\u001b[0m\u001b[1m]\u001b[0m                                  \u001b]8;id=366815;file:///usr/local/google/home/codyfincher/Code/database-tools/oracle-database-assessment/src/server/dbma/database.py\u001b\\\u001b[2mdatabase.py\u001b[0m\u001b]8;;\u001b\\\u001b[2m:\u001b[0m\u001b]8;id=574556;file:///usr/local/google/home/codyfincher/Code/database-tools/oracle-database-assessment/src/server/dbma/database.py#160\u001b\\\u001b[2m160\u001b[0m\u001b]8;;\u001b\\\n"
      ]
     },
     "metadata": {},
     "output_type": "display_data"
    },
    {
     "data": {
      "text/html": [
       "<pre style=\"white-space:pre;overflow-x:auto;line-height:normal;font-family:Menlo,'DejaVu Sans Mono',consolas,'Courier New',monospace\"><span style=\"color: #7fbfbf; text-decoration-color: #7fbfbf\">[10/19/22 23:46:56] </span><span style=\"color: #000080; text-decoration-color: #000080\">INFO    </span> <span style=\"color: #808000; text-decoration-color: #808000\">...</span> db_data_types  <span style=\"color: #008000; text-decoration-color: #008000; font-weight: bold\">SUCCESS</span> <span style=\"font-weight: bold\">[</span><span style=\"color: #008080; text-decoration-color: #008080; font-weight: bold\">33</span> <span style=\"color: #800080; text-decoration-color: #800080; font-weight: bold\">rows</span><span style=\"font-weight: bold\">(</span>s<span style=\"font-weight: bold\">)]</span>                                <a href=\"file:///usr/local/google/home/codyfincher/Code/database-tools/oracle-database-assessment/src/server/dbma/database.py\" target=\"_blank\"><span style=\"color: #7f7f7f; text-decoration-color: #7f7f7f\">database.py</span></a><span style=\"color: #7f7f7f; text-decoration-color: #7f7f7f\">:</span><a href=\"file:///usr/local/google/home/codyfincher/Code/database-tools/oracle-database-assessment/src/server/dbma/database.py#160\" target=\"_blank\"><span style=\"color: #7f7f7f; text-decoration-color: #7f7f7f\">160</span></a>\n",
       "</pre>\n"
      ],
      "text/plain": [
       "\u001b[2;36m[10/19/22 23:46:56]\u001b[0m\u001b[2;36m \u001b[0m\u001b[34mINFO    \u001b[0m \u001b[33m...\u001b[0m db_data_types  \u001b[1;32mSUCCESS\u001b[0m \u001b[1m[\u001b[0m\u001b[1;36m33\u001b[0m \u001b[1;35mrows\u001b[0m\u001b[1m(\u001b[0ms\u001b[1m)\u001b[0m\u001b[1m]\u001b[0m                                \u001b]8;id=373211;file:///usr/local/google/home/codyfincher/Code/database-tools/oracle-database-assessment/src/server/dbma/database.py\u001b\\\u001b[2mdatabase.py\u001b[0m\u001b]8;;\u001b\\\u001b[2m:\u001b[0m\u001b]8;id=745596;file:///usr/local/google/home/codyfincher/Code/database-tools/oracle-database-assessment/src/server/dbma/database.py#160\u001b\\\u001b[2m160\u001b[0m\u001b]8;;\u001b\\\n"
      ]
     },
     "metadata": {},
     "output_type": "display_data"
    },
    {
     "data": {
      "text/html": [
       "<pre style=\"white-space:pre;overflow-x:auto;line-height:normal;font-family:Menlo,'DejaVu Sans Mono',consolas,'Courier New',monospace\"><span style=\"color: #7fbfbf; text-decoration-color: #7fbfbf\">[10/19/22 23:46:56] </span><span style=\"color: #000080; text-decoration-color: #000080\">INFO    </span> <span style=\"color: #808000; text-decoration-color: #808000\">...</span> dba_hist_sys_stat  <span style=\"color: #008000; text-decoration-color: #008000; font-weight: bold\">SUCCESS</span> <span style=\"font-weight: bold\">[</span><span style=\"color: #008080; text-decoration-color: #008080; font-weight: bold\">7632</span> <span style=\"color: #800080; text-decoration-color: #800080; font-weight: bold\">rows</span><span style=\"font-weight: bold\">(</span>s<span style=\"font-weight: bold\">)]</span>                          <a href=\"file:///usr/local/google/home/codyfincher/Code/database-tools/oracle-database-assessment/src/server/dbma/database.py\" target=\"_blank\"><span style=\"color: #7f7f7f; text-decoration-color: #7f7f7f\">database.py</span></a><span style=\"color: #7f7f7f; text-decoration-color: #7f7f7f\">:</span><a href=\"file:///usr/local/google/home/codyfincher/Code/database-tools/oracle-database-assessment/src/server/dbma/database.py#160\" target=\"_blank\"><span style=\"color: #7f7f7f; text-decoration-color: #7f7f7f\">160</span></a>\n",
       "</pre>\n"
      ],
      "text/plain": [
       "\u001b[2;36m[10/19/22 23:46:56]\u001b[0m\u001b[2;36m \u001b[0m\u001b[34mINFO    \u001b[0m \u001b[33m...\u001b[0m dba_hist_sys_stat  \u001b[1;32mSUCCESS\u001b[0m \u001b[1m[\u001b[0m\u001b[1;36m7632\u001b[0m \u001b[1;35mrows\u001b[0m\u001b[1m(\u001b[0ms\u001b[1m)\u001b[0m\u001b[1m]\u001b[0m                          \u001b]8;id=912189;file:///usr/local/google/home/codyfincher/Code/database-tools/oracle-database-assessment/src/server/dbma/database.py\u001b\\\u001b[2mdatabase.py\u001b[0m\u001b]8;;\u001b\\\u001b[2m:\u001b[0m\u001b]8;id=701927;file:///usr/local/google/home/codyfincher/Code/database-tools/oracle-database-assessment/src/server/dbma/database.py#160\u001b\\\u001b[2m160\u001b[0m\u001b]8;;\u001b\\\n"
      ]
     },
     "metadata": {},
     "output_type": "display_data"
    },
    {
     "data": {
      "text/html": [
       "<pre style=\"white-space:pre;overflow-x:auto;line-height:normal;font-family:Menlo,'DejaVu Sans Mono',consolas,'Courier New',monospace\"><span style=\"color: #7fbfbf; text-decoration-color: #7fbfbf\">[10/19/22 23:46:56] </span><span style=\"color: #000080; text-decoration-color: #000080\">INFO    </span> <span style=\"color: #808000; text-decoration-color: #808000\">...</span> dba_hist_sys_time_model  <span style=\"color: #008000; text-decoration-color: #008000; font-weight: bold\">SUCCESS</span> <span style=\"font-weight: bold\">[</span><span style=\"color: #008080; text-decoration-color: #008080; font-weight: bold\">1488</span> <span style=\"color: #800080; text-decoration-color: #800080; font-weight: bold\">rows</span><span style=\"font-weight: bold\">(</span>s<span style=\"font-weight: bold\">)]</span>                    <a href=\"file:///usr/local/google/home/codyfincher/Code/database-tools/oracle-database-assessment/src/server/dbma/database.py\" target=\"_blank\"><span style=\"color: #7f7f7f; text-decoration-color: #7f7f7f\">database.py</span></a><span style=\"color: #7f7f7f; text-decoration-color: #7f7f7f\">:</span><a href=\"file:///usr/local/google/home/codyfincher/Code/database-tools/oracle-database-assessment/src/server/dbma/database.py#160\" target=\"_blank\"><span style=\"color: #7f7f7f; text-decoration-color: #7f7f7f\">160</span></a>\n",
       "</pre>\n"
      ],
      "text/plain": [
       "\u001b[2;36m[10/19/22 23:46:56]\u001b[0m\u001b[2;36m \u001b[0m\u001b[34mINFO    \u001b[0m \u001b[33m...\u001b[0m dba_hist_sys_time_model  \u001b[1;32mSUCCESS\u001b[0m \u001b[1m[\u001b[0m\u001b[1;36m1488\u001b[0m \u001b[1;35mrows\u001b[0m\u001b[1m(\u001b[0ms\u001b[1m)\u001b[0m\u001b[1m]\u001b[0m                    \u001b]8;id=959170;file:///usr/local/google/home/codyfincher/Code/database-tools/oracle-database-assessment/src/server/dbma/database.py\u001b\\\u001b[2mdatabase.py\u001b[0m\u001b]8;;\u001b\\\u001b[2m:\u001b[0m\u001b]8;id=469034;file:///usr/local/google/home/codyfincher/Code/database-tools/oracle-database-assessment/src/server/dbma/database.py#160\u001b\\\u001b[2m160\u001b[0m\u001b]8;;\u001b\\\n"
      ]
     },
     "metadata": {},
     "output_type": "display_data"
    },
    {
     "data": {
      "text/html": [
       "<pre style=\"white-space:pre;overflow-x:auto;line-height:normal;font-family:Menlo,'DejaVu Sans Mono',consolas,'Courier New',monospace\"><span style=\"color: #7fbfbf; text-decoration-color: #7fbfbf\">[10/19/22 23:46:56] </span><span style=\"color: #000080; text-decoration-color: #000080\">INFO    </span> <span style=\"color: #808000; text-decoration-color: #808000\">...</span> db_features  <span style=\"color: #008000; text-decoration-color: #008000; font-weight: bold\">SUCCESS</span> <span style=\"font-weight: bold\">[</span><span style=\"color: #008080; text-decoration-color: #008080; font-weight: bold\">243</span> <span style=\"color: #800080; text-decoration-color: #800080; font-weight: bold\">rows</span><span style=\"font-weight: bold\">(</span>s<span style=\"font-weight: bold\">)]</span>                                 <a href=\"file:///usr/local/google/home/codyfincher/Code/database-tools/oracle-database-assessment/src/server/dbma/database.py\" target=\"_blank\"><span style=\"color: #7f7f7f; text-decoration-color: #7f7f7f\">database.py</span></a><span style=\"color: #7f7f7f; text-decoration-color: #7f7f7f\">:</span><a href=\"file:///usr/local/google/home/codyfincher/Code/database-tools/oracle-database-assessment/src/server/dbma/database.py#160\" target=\"_blank\"><span style=\"color: #7f7f7f; text-decoration-color: #7f7f7f\">160</span></a>\n",
       "</pre>\n"
      ],
      "text/plain": [
       "\u001b[2;36m[10/19/22 23:46:56]\u001b[0m\u001b[2;36m \u001b[0m\u001b[34mINFO    \u001b[0m \u001b[33m...\u001b[0m db_features  \u001b[1;32mSUCCESS\u001b[0m \u001b[1m[\u001b[0m\u001b[1;36m243\u001b[0m \u001b[1;35mrows\u001b[0m\u001b[1m(\u001b[0ms\u001b[1m)\u001b[0m\u001b[1m]\u001b[0m                                 \u001b]8;id=397578;file:///usr/local/google/home/codyfincher/Code/database-tools/oracle-database-assessment/src/server/dbma/database.py\u001b\\\u001b[2mdatabase.py\u001b[0m\u001b]8;;\u001b\\\u001b[2m:\u001b[0m\u001b]8;id=922790;file:///usr/local/google/home/codyfincher/Code/database-tools/oracle-database-assessment/src/server/dbma/database.py#160\u001b\\\u001b[2m160\u001b[0m\u001b]8;;\u001b\\\n"
      ]
     },
     "metadata": {},
     "output_type": "display_data"
    },
    {
     "data": {
      "text/html": [
       "<pre style=\"white-space:pre;overflow-x:auto;line-height:normal;font-family:Menlo,'DejaVu Sans Mono',consolas,'Courier New',monospace\"><span style=\"color: #7fbfbf; text-decoration-color: #7fbfbf\">[10/19/22 23:46:56] </span><span style=\"color: #000080; text-decoration-color: #000080\">INFO    </span> <span style=\"color: #808000; text-decoration-color: #808000\">...</span> db_high_water_stats  <span style=\"color: #008000; text-decoration-color: #008000; font-weight: bold\">SUCCESS</span> <span style=\"font-weight: bold\">[</span><span style=\"color: #008080; text-decoration-color: #008080; font-weight: bold\">21</span> <span style=\"color: #800080; text-decoration-color: #800080; font-weight: bold\">rows</span><span style=\"font-weight: bold\">(</span>s<span style=\"font-weight: bold\">)]</span>                          <a href=\"file:///usr/local/google/home/codyfincher/Code/database-tools/oracle-database-assessment/src/server/dbma/database.py\" target=\"_blank\"><span style=\"color: #7f7f7f; text-decoration-color: #7f7f7f\">database.py</span></a><span style=\"color: #7f7f7f; text-decoration-color: #7f7f7f\">:</span><a href=\"file:///usr/local/google/home/codyfincher/Code/database-tools/oracle-database-assessment/src/server/dbma/database.py#160\" target=\"_blank\"><span style=\"color: #7f7f7f; text-decoration-color: #7f7f7f\">160</span></a>\n",
       "</pre>\n"
      ],
      "text/plain": [
       "\u001b[2;36m[10/19/22 23:46:56]\u001b[0m\u001b[2;36m \u001b[0m\u001b[34mINFO    \u001b[0m \u001b[33m...\u001b[0m db_high_water_stats  \u001b[1;32mSUCCESS\u001b[0m \u001b[1m[\u001b[0m\u001b[1;36m21\u001b[0m \u001b[1;35mrows\u001b[0m\u001b[1m(\u001b[0ms\u001b[1m)\u001b[0m\u001b[1m]\u001b[0m                          \u001b]8;id=181953;file:///usr/local/google/home/codyfincher/Code/database-tools/oracle-database-assessment/src/server/dbma/database.py\u001b\\\u001b[2mdatabase.py\u001b[0m\u001b]8;;\u001b\\\u001b[2m:\u001b[0m\u001b]8;id=437546;file:///usr/local/google/home/codyfincher/Code/database-tools/oracle-database-assessment/src/server/dbma/database.py#160\u001b\\\u001b[2m160\u001b[0m\u001b]8;;\u001b\\\n"
      ]
     },
     "metadata": {},
     "output_type": "display_data"
    },
    {
     "data": {
      "text/html": [
       "<pre style=\"white-space:pre;overflow-x:auto;line-height:normal;font-family:Menlo,'DejaVu Sans Mono',consolas,'Courier New',monospace\"><span style=\"color: #7fbfbf; text-decoration-color: #7fbfbf\">[10/19/22 23:46:56] </span><span style=\"color: #000080; text-decoration-color: #000080\">INFO    </span> <span style=\"color: #808000; text-decoration-color: #808000\">...</span> db_instances  <span style=\"color: #008000; text-decoration-color: #008000; font-weight: bold\">SUCCESS</span> <span style=\"font-weight: bold\">[</span><span style=\"color: #008080; text-decoration-color: #008080; font-weight: bold\">2</span> <span style=\"color: #800080; text-decoration-color: #800080; font-weight: bold\">rows</span><span style=\"font-weight: bold\">(</span>s<span style=\"font-weight: bold\">)]</span>                                  <a href=\"file:///usr/local/google/home/codyfincher/Code/database-tools/oracle-database-assessment/src/server/dbma/database.py\" target=\"_blank\"><span style=\"color: #7f7f7f; text-decoration-color: #7f7f7f\">database.py</span></a><span style=\"color: #7f7f7f; text-decoration-color: #7f7f7f\">:</span><a href=\"file:///usr/local/google/home/codyfincher/Code/database-tools/oracle-database-assessment/src/server/dbma/database.py#160\" target=\"_blank\"><span style=\"color: #7f7f7f; text-decoration-color: #7f7f7f\">160</span></a>\n",
       "</pre>\n"
      ],
      "text/plain": [
       "\u001b[2;36m[10/19/22 23:46:56]\u001b[0m\u001b[2;36m \u001b[0m\u001b[34mINFO    \u001b[0m \u001b[33m...\u001b[0m db_instances  \u001b[1;32mSUCCESS\u001b[0m \u001b[1m[\u001b[0m\u001b[1;36m2\u001b[0m \u001b[1;35mrows\u001b[0m\u001b[1m(\u001b[0ms\u001b[1m)\u001b[0m\u001b[1m]\u001b[0m                                  \u001b]8;id=687796;file:///usr/local/google/home/codyfincher/Code/database-tools/oracle-database-assessment/src/server/dbma/database.py\u001b\\\u001b[2mdatabase.py\u001b[0m\u001b]8;;\u001b\\\u001b[2m:\u001b[0m\u001b]8;id=545974;file:///usr/local/google/home/codyfincher/Code/database-tools/oracle-database-assessment/src/server/dbma/database.py#160\u001b\\\u001b[2m160\u001b[0m\u001b]8;;\u001b\\\n"
      ]
     },
     "metadata": {},
     "output_type": "display_data"
    },
    {
     "data": {
      "text/html": [
       "<pre style=\"white-space:pre;overflow-x:auto;line-height:normal;font-family:Menlo,'DejaVu Sans Mono',consolas,'Courier New',monospace\"><span style=\"color: #7fbfbf; text-decoration-color: #7fbfbf\">[10/19/22 23:46:56] </span><span style=\"color: #000080; text-decoration-color: #000080\">INFO    </span> <span style=\"color: #808000; text-decoration-color: #808000\">...</span> db_links  <span style=\"color: #7f7f7f; text-decoration-color: #7f7f7f; font-weight: bold\">SKIPPED</span>                                                  <a href=\"file:///usr/local/google/home/codyfincher/Code/database-tools/oracle-database-assessment/src/server/dbma/database.py\" target=\"_blank\"><span style=\"color: #7f7f7f; text-decoration-color: #7f7f7f\">database.py</span></a><span style=\"color: #7f7f7f; text-decoration-color: #7f7f7f\">:</span><a href=\"file:///usr/local/google/home/codyfincher/Code/database-tools/oracle-database-assessment/src/server/dbma/database.py#163\" target=\"_blank\"><span style=\"color: #7f7f7f; text-decoration-color: #7f7f7f\">163</span></a>\n",
       "</pre>\n"
      ],
      "text/plain": [
       "\u001b[2;36m[10/19/22 23:46:56]\u001b[0m\u001b[2;36m \u001b[0m\u001b[34mINFO    \u001b[0m \u001b[33m...\u001b[0m db_links  \u001b[1;2mSKIPPED\u001b[0m                                                  \u001b]8;id=907817;file:///usr/local/google/home/codyfincher/Code/database-tools/oracle-database-assessment/src/server/dbma/database.py\u001b\\\u001b[2mdatabase.py\u001b[0m\u001b]8;;\u001b\\\u001b[2m:\u001b[0m\u001b]8;id=579887;file:///usr/local/google/home/codyfincher/Code/database-tools/oracle-database-assessment/src/server/dbma/database.py#163\u001b\\\u001b[2m163\u001b[0m\u001b]8;;\u001b\\\n"
      ]
     },
     "metadata": {},
     "output_type": "display_data"
    },
    {
     "data": {
      "text/html": [
       "<pre style=\"white-space:pre;overflow-x:auto;line-height:normal;font-family:Menlo,'DejaVu Sans Mono',consolas,'Courier New',monospace\"><span style=\"color: #7fbfbf; text-decoration-color: #7fbfbf\">[10/19/22 23:46:56] </span><span style=\"color: #000080; text-decoration-color: #000080\">INFO    </span> <span style=\"color: #808000; text-decoration-color: #808000\">...</span> db_objects  <span style=\"color: #008000; text-decoration-color: #008000; font-weight: bold\">SUCCESS</span> <span style=\"font-weight: bold\">[</span><span style=\"color: #008080; text-decoration-color: #008080; font-weight: bold\">49</span> <span style=\"color: #800080; text-decoration-color: #800080; font-weight: bold\">rows</span><span style=\"font-weight: bold\">(</span>s<span style=\"font-weight: bold\">)]</span>                                   <a href=\"file:///usr/local/google/home/codyfincher/Code/database-tools/oracle-database-assessment/src/server/dbma/database.py\" target=\"_blank\"><span style=\"color: #7f7f7f; text-decoration-color: #7f7f7f\">database.py</span></a><span style=\"color: #7f7f7f; text-decoration-color: #7f7f7f\">:</span><a href=\"file:///usr/local/google/home/codyfincher/Code/database-tools/oracle-database-assessment/src/server/dbma/database.py#160\" target=\"_blank\"><span style=\"color: #7f7f7f; text-decoration-color: #7f7f7f\">160</span></a>\n",
       "</pre>\n"
      ],
      "text/plain": [
       "\u001b[2;36m[10/19/22 23:46:56]\u001b[0m\u001b[2;36m \u001b[0m\u001b[34mINFO    \u001b[0m \u001b[33m...\u001b[0m db_objects  \u001b[1;32mSUCCESS\u001b[0m \u001b[1m[\u001b[0m\u001b[1;36m49\u001b[0m \u001b[1;35mrows\u001b[0m\u001b[1m(\u001b[0ms\u001b[1m)\u001b[0m\u001b[1m]\u001b[0m                                   \u001b]8;id=485069;file:///usr/local/google/home/codyfincher/Code/database-tools/oracle-database-assessment/src/server/dbma/database.py\u001b\\\u001b[2mdatabase.py\u001b[0m\u001b]8;;\u001b\\\u001b[2m:\u001b[0m\u001b]8;id=14070;file:///usr/local/google/home/codyfincher/Code/database-tools/oracle-database-assessment/src/server/dbma/database.py#160\u001b\\\u001b[2m160\u001b[0m\u001b]8;;\u001b\\\n"
      ]
     },
     "metadata": {},
     "output_type": "display_data"
    },
    {
     "data": {
      "text/html": [
       "<pre style=\"white-space:pre;overflow-x:auto;line-height:normal;font-family:Menlo,'DejaVu Sans Mono',consolas,'Courier New',monospace\"><span style=\"color: #7fbfbf; text-decoration-color: #7fbfbf\">[10/19/22 23:46:56] </span><span style=\"color: #000080; text-decoration-color: #000080\">INFO    </span> <span style=\"color: #808000; text-decoration-color: #808000\">...</span> db_parameters  <span style=\"color: #008000; text-decoration-color: #008000; font-weight: bold\">SUCCESS</span> <span style=\"font-weight: bold\">[</span><span style=\"color: #008080; text-decoration-color: #008080; font-weight: bold\">924</span> <span style=\"color: #800080; text-decoration-color: #800080; font-weight: bold\">rows</span><span style=\"font-weight: bold\">(</span>s<span style=\"font-weight: bold\">)]</span>                               <a href=\"file:///usr/local/google/home/codyfincher/Code/database-tools/oracle-database-assessment/src/server/dbma/database.py\" target=\"_blank\"><span style=\"color: #7f7f7f; text-decoration-color: #7f7f7f\">database.py</span></a><span style=\"color: #7f7f7f; text-decoration-color: #7f7f7f\">:</span><a href=\"file:///usr/local/google/home/codyfincher/Code/database-tools/oracle-database-assessment/src/server/dbma/database.py#160\" target=\"_blank\"><span style=\"color: #7f7f7f; text-decoration-color: #7f7f7f\">160</span></a>\n",
       "</pre>\n"
      ],
      "text/plain": [
       "\u001b[2;36m[10/19/22 23:46:56]\u001b[0m\u001b[2;36m \u001b[0m\u001b[34mINFO    \u001b[0m \u001b[33m...\u001b[0m db_parameters  \u001b[1;32mSUCCESS\u001b[0m \u001b[1m[\u001b[0m\u001b[1;36m924\u001b[0m \u001b[1;35mrows\u001b[0m\u001b[1m(\u001b[0ms\u001b[1m)\u001b[0m\u001b[1m]\u001b[0m                               \u001b]8;id=957673;file:///usr/local/google/home/codyfincher/Code/database-tools/oracle-database-assessment/src/server/dbma/database.py\u001b\\\u001b[2mdatabase.py\u001b[0m\u001b]8;;\u001b\\\u001b[2m:\u001b[0m\u001b]8;id=751427;file:///usr/local/google/home/codyfincher/Code/database-tools/oracle-database-assessment/src/server/dbma/database.py#160\u001b\\\u001b[2m160\u001b[0m\u001b]8;;\u001b\\\n"
      ]
     },
     "metadata": {},
     "output_type": "display_data"
    },
    {
     "data": {
      "text/html": [
       "<pre style=\"white-space:pre;overflow-x:auto;line-height:normal;font-family:Menlo,'DejaVu Sans Mono',consolas,'Courier New',monospace\"><span style=\"color: #7fbfbf; text-decoration-color: #7fbfbf\">[10/19/22 23:46:56] </span><span style=\"color: #000080; text-decoration-color: #000080\">INFO    </span> <span style=\"color: #808000; text-decoration-color: #808000\">...</span> db_summary  <span style=\"color: #008000; text-decoration-color: #008000; font-weight: bold\">SUCCESS</span> <span style=\"font-weight: bold\">[</span><span style=\"color: #008080; text-decoration-color: #008080; font-weight: bold\">1</span> <span style=\"color: #800080; text-decoration-color: #800080; font-weight: bold\">rows</span><span style=\"font-weight: bold\">(</span>s<span style=\"font-weight: bold\">)]</span>                                    <a href=\"file:///usr/local/google/home/codyfincher/Code/database-tools/oracle-database-assessment/src/server/dbma/database.py\" target=\"_blank\"><span style=\"color: #7f7f7f; text-decoration-color: #7f7f7f\">database.py</span></a><span style=\"color: #7f7f7f; text-decoration-color: #7f7f7f\">:</span><a href=\"file:///usr/local/google/home/codyfincher/Code/database-tools/oracle-database-assessment/src/server/dbma/database.py#160\" target=\"_blank\"><span style=\"color: #7f7f7f; text-decoration-color: #7f7f7f\">160</span></a>\n",
       "</pre>\n"
      ],
      "text/plain": [
       "\u001b[2;36m[10/19/22 23:46:56]\u001b[0m\u001b[2;36m \u001b[0m\u001b[34mINFO    \u001b[0m \u001b[33m...\u001b[0m db_summary  \u001b[1;32mSUCCESS\u001b[0m \u001b[1m[\u001b[0m\u001b[1;36m1\u001b[0m \u001b[1;35mrows\u001b[0m\u001b[1m(\u001b[0ms\u001b[1m)\u001b[0m\u001b[1m]\u001b[0m                                    \u001b]8;id=709974;file:///usr/local/google/home/codyfincher/Code/database-tools/oracle-database-assessment/src/server/dbma/database.py\u001b\\\u001b[2mdatabase.py\u001b[0m\u001b]8;;\u001b\\\u001b[2m:\u001b[0m\u001b]8;id=710414;file:///usr/local/google/home/codyfincher/Code/database-tools/oracle-database-assessment/src/server/dbma/database.py#160\u001b\\\u001b[2m160\u001b[0m\u001b]8;;\u001b\\\n"
      ]
     },
     "metadata": {},
     "output_type": "display_data"
    },
    {
     "data": {
      "text/html": [
       "<pre style=\"white-space:pre;overflow-x:auto;line-height:normal;font-family:Menlo,'DejaVu Sans Mono',consolas,'Courier New',monospace\"><span style=\"color: #7fbfbf; text-decoration-color: #7fbfbf\">[10/19/22 23:46:56] </span><span style=\"color: #000080; text-decoration-color: #000080\">INFO    </span> <span style=\"color: #808000; text-decoration-color: #808000\">...</span> db_external_tables  <span style=\"color: #008000; text-decoration-color: #008000; font-weight: bold\">SUCCESS</span> <span style=\"font-weight: bold\">[</span><span style=\"color: #008080; text-decoration-color: #008080; font-weight: bold\">1</span> <span style=\"color: #800080; text-decoration-color: #800080; font-weight: bold\">rows</span><span style=\"font-weight: bold\">(</span>s<span style=\"font-weight: bold\">)]</span>                            <a href=\"file:///usr/local/google/home/codyfincher/Code/database-tools/oracle-database-assessment/src/server/dbma/database.py\" target=\"_blank\"><span style=\"color: #7f7f7f; text-decoration-color: #7f7f7f\">database.py</span></a><span style=\"color: #7f7f7f; text-decoration-color: #7f7f7f\">:</span><a href=\"file:///usr/local/google/home/codyfincher/Code/database-tools/oracle-database-assessment/src/server/dbma/database.py#160\" target=\"_blank\"><span style=\"color: #7f7f7f; text-decoration-color: #7f7f7f\">160</span></a>\n",
       "</pre>\n"
      ],
      "text/plain": [
       "\u001b[2;36m[10/19/22 23:46:56]\u001b[0m\u001b[2;36m \u001b[0m\u001b[34mINFO    \u001b[0m \u001b[33m...\u001b[0m db_external_tables  \u001b[1;32mSUCCESS\u001b[0m \u001b[1m[\u001b[0m\u001b[1;36m1\u001b[0m \u001b[1;35mrows\u001b[0m\u001b[1m(\u001b[0ms\u001b[1m)\u001b[0m\u001b[1m]\u001b[0m                            \u001b]8;id=378750;file:///usr/local/google/home/codyfincher/Code/database-tools/oracle-database-assessment/src/server/dbma/database.py\u001b\\\u001b[2mdatabase.py\u001b[0m\u001b]8;;\u001b\\\u001b[2m:\u001b[0m\u001b]8;id=412329;file:///usr/local/google/home/codyfincher/Code/database-tools/oracle-database-assessment/src/server/dbma/database.py#160\u001b\\\u001b[2m160\u001b[0m\u001b]8;;\u001b\\\n"
      ]
     },
     "metadata": {},
     "output_type": "display_data"
    },
    {
     "data": {
      "text/html": [
       "<pre style=\"white-space:pre;overflow-x:auto;line-height:normal;font-family:Menlo,'DejaVu Sans Mono',consolas,'Courier New',monospace\"><span style=\"color: #7fbfbf; text-decoration-color: #7fbfbf\">[10/19/22 23:46:56] </span><span style=\"color: #000080; text-decoration-color: #000080\">INFO    </span> <span style=\"color: #808000; text-decoration-color: #808000\">...</span> index_per_table  <span style=\"color: #008000; text-decoration-color: #008000; font-weight: bold\">SUCCESS</span> <span style=\"font-weight: bold\">[</span><span style=\"color: #008080; text-decoration-color: #008080; font-weight: bold\">13</span> <span style=\"color: #800080; text-decoration-color: #800080; font-weight: bold\">rows</span><span style=\"font-weight: bold\">(</span>s<span style=\"font-weight: bold\">)]</span>                              <a href=\"file:///usr/local/google/home/codyfincher/Code/database-tools/oracle-database-assessment/src/server/dbma/database.py\" target=\"_blank\"><span style=\"color: #7f7f7f; text-decoration-color: #7f7f7f\">database.py</span></a><span style=\"color: #7f7f7f; text-decoration-color: #7f7f7f\">:</span><a href=\"file:///usr/local/google/home/codyfincher/Code/database-tools/oracle-database-assessment/src/server/dbma/database.py#160\" target=\"_blank\"><span style=\"color: #7f7f7f; text-decoration-color: #7f7f7f\">160</span></a>\n",
       "</pre>\n"
      ],
      "text/plain": [
       "\u001b[2;36m[10/19/22 23:46:56]\u001b[0m\u001b[2;36m \u001b[0m\u001b[34mINFO    \u001b[0m \u001b[33m...\u001b[0m index_per_table  \u001b[1;32mSUCCESS\u001b[0m \u001b[1m[\u001b[0m\u001b[1;36m13\u001b[0m \u001b[1;35mrows\u001b[0m\u001b[1m(\u001b[0ms\u001b[1m)\u001b[0m\u001b[1m]\u001b[0m                              \u001b]8;id=188434;file:///usr/local/google/home/codyfincher/Code/database-tools/oracle-database-assessment/src/server/dbma/database.py\u001b\\\u001b[2mdatabase.py\u001b[0m\u001b]8;;\u001b\\\u001b[2m:\u001b[0m\u001b]8;id=934132;file:///usr/local/google/home/codyfincher/Code/database-tools/oracle-database-assessment/src/server/dbma/database.py#160\u001b\\\u001b[2m160\u001b[0m\u001b]8;;\u001b\\\n"
      ]
     },
     "metadata": {},
     "output_type": "display_data"
    },
    {
     "data": {
      "text/html": [
       "<pre style=\"white-space:pre;overflow-x:auto;line-height:normal;font-family:Menlo,'DejaVu Sans Mono',consolas,'Courier New',monospace\"><span style=\"color: #7fbfbf; text-decoration-color: #7fbfbf\">[10/19/22 23:46:56] </span><span style=\"color: #000080; text-decoration-color: #000080\">INFO    </span> <span style=\"color: #808000; text-decoration-color: #808000\">...</span> index_types  <span style=\"color: #008000; text-decoration-color: #008000; font-weight: bold\">SUCCESS</span> <span style=\"font-weight: bold\">[</span><span style=\"color: #008080; text-decoration-color: #008080; font-weight: bold\">12</span> <span style=\"color: #800080; text-decoration-color: #800080; font-weight: bold\">rows</span><span style=\"font-weight: bold\">(</span>s<span style=\"font-weight: bold\">)]</span>                                  <a href=\"file:///usr/local/google/home/codyfincher/Code/database-tools/oracle-database-assessment/src/server/dbma/database.py\" target=\"_blank\"><span style=\"color: #7f7f7f; text-decoration-color: #7f7f7f\">database.py</span></a><span style=\"color: #7f7f7f; text-decoration-color: #7f7f7f\">:</span><a href=\"file:///usr/local/google/home/codyfincher/Code/database-tools/oracle-database-assessment/src/server/dbma/database.py#160\" target=\"_blank\"><span style=\"color: #7f7f7f; text-decoration-color: #7f7f7f\">160</span></a>\n",
       "</pre>\n"
      ],
      "text/plain": [
       "\u001b[2;36m[10/19/22 23:46:56]\u001b[0m\u001b[2;36m \u001b[0m\u001b[34mINFO    \u001b[0m \u001b[33m...\u001b[0m index_types  \u001b[1;32mSUCCESS\u001b[0m \u001b[1m[\u001b[0m\u001b[1;36m12\u001b[0m \u001b[1;35mrows\u001b[0m\u001b[1m(\u001b[0ms\u001b[1m)\u001b[0m\u001b[1m]\u001b[0m                                  \u001b]8;id=755042;file:///usr/local/google/home/codyfincher/Code/database-tools/oracle-database-assessment/src/server/dbma/database.py\u001b\\\u001b[2mdatabase.py\u001b[0m\u001b]8;;\u001b\\\u001b[2m:\u001b[0m\u001b]8;id=431074;file:///usr/local/google/home/codyfincher/Code/database-tools/oracle-database-assessment/src/server/dbma/database.py#160\u001b\\\u001b[2m160\u001b[0m\u001b]8;;\u001b\\\n"
      ]
     },
     "metadata": {},
     "output_type": "display_data"
    },
    {
     "data": {
      "text/html": [
       "<pre style=\"white-space:pre;overflow-x:auto;line-height:normal;font-family:Menlo,'DejaVu Sans Mono',consolas,'Courier New',monospace\"><span style=\"color: #7fbfbf; text-decoration-color: #7fbfbf\">[10/19/22 23:46:56] </span><span style=\"color: #000080; text-decoration-color: #000080\">INFO    </span> <span style=\"color: #808000; text-decoration-color: #808000\">...</span> io_events  <span style=\"color: #008000; text-decoration-color: #008000; font-weight: bold\">SUCCESS</span> <span style=\"font-weight: bold\">[</span><span style=\"color: #008080; text-decoration-color: #008080; font-weight: bold\">1776</span> <span style=\"color: #800080; text-decoration-color: #800080; font-weight: bold\">rows</span><span style=\"font-weight: bold\">(</span>s<span style=\"font-weight: bold\">)]</span>                                  <a href=\"file:///usr/local/google/home/codyfincher/Code/database-tools/oracle-database-assessment/src/server/dbma/database.py\" target=\"_blank\"><span style=\"color: #7f7f7f; text-decoration-color: #7f7f7f\">database.py</span></a><span style=\"color: #7f7f7f; text-decoration-color: #7f7f7f\">:</span><a href=\"file:///usr/local/google/home/codyfincher/Code/database-tools/oracle-database-assessment/src/server/dbma/database.py#160\" target=\"_blank\"><span style=\"color: #7f7f7f; text-decoration-color: #7f7f7f\">160</span></a>\n",
       "</pre>\n"
      ],
      "text/plain": [
       "\u001b[2;36m[10/19/22 23:46:56]\u001b[0m\u001b[2;36m \u001b[0m\u001b[34mINFO    \u001b[0m \u001b[33m...\u001b[0m io_events  \u001b[1;32mSUCCESS\u001b[0m \u001b[1m[\u001b[0m\u001b[1;36m1776\u001b[0m \u001b[1;35mrows\u001b[0m\u001b[1m(\u001b[0ms\u001b[1m)\u001b[0m\u001b[1m]\u001b[0m                                  \u001b]8;id=511896;file:///usr/local/google/home/codyfincher/Code/database-tools/oracle-database-assessment/src/server/dbma/database.py\u001b\\\u001b[2mdatabase.py\u001b[0m\u001b]8;;\u001b\\\u001b[2m:\u001b[0m\u001b]8;id=314295;file:///usr/local/google/home/codyfincher/Code/database-tools/oracle-database-assessment/src/server/dbma/database.py#160\u001b\\\u001b[2m160\u001b[0m\u001b]8;;\u001b\\\n"
      ]
     },
     "metadata": {},
     "output_type": "display_data"
    },
    {
     "data": {
      "text/html": [
       "<pre style=\"white-space:pre;overflow-x:auto;line-height:normal;font-family:Menlo,'DejaVu Sans Mono',consolas,'Courier New',monospace\"><span style=\"color: #7fbfbf; text-decoration-color: #7fbfbf\">[10/19/22 23:46:56] </span><span style=\"color: #000080; text-decoration-color: #000080\">INFO    </span> <span style=\"color: #808000; text-decoration-color: #808000\">...</span> io_function  <span style=\"color: #008000; text-decoration-color: #008000; font-weight: bold\">SUCCESS</span> <span style=\"font-weight: bold\">[</span><span style=\"color: #008080; text-decoration-color: #008080; font-weight: bold\">720</span> <span style=\"color: #800080; text-decoration-color: #800080; font-weight: bold\">rows</span><span style=\"font-weight: bold\">(</span>s<span style=\"font-weight: bold\">)]</span>                                 <a href=\"file:///usr/local/google/home/codyfincher/Code/database-tools/oracle-database-assessment/src/server/dbma/database.py\" target=\"_blank\"><span style=\"color: #7f7f7f; text-decoration-color: #7f7f7f\">database.py</span></a><span style=\"color: #7f7f7f; text-decoration-color: #7f7f7f\">:</span><a href=\"file:///usr/local/google/home/codyfincher/Code/database-tools/oracle-database-assessment/src/server/dbma/database.py#160\" target=\"_blank\"><span style=\"color: #7f7f7f; text-decoration-color: #7f7f7f\">160</span></a>\n",
       "</pre>\n"
      ],
      "text/plain": [
       "\u001b[2;36m[10/19/22 23:46:56]\u001b[0m\u001b[2;36m \u001b[0m\u001b[34mINFO    \u001b[0m \u001b[33m...\u001b[0m io_function  \u001b[1;32mSUCCESS\u001b[0m \u001b[1m[\u001b[0m\u001b[1;36m720\u001b[0m \u001b[1;35mrows\u001b[0m\u001b[1m(\u001b[0ms\u001b[1m)\u001b[0m\u001b[1m]\u001b[0m                                 \u001b]8;id=570457;file:///usr/local/google/home/codyfincher/Code/database-tools/oracle-database-assessment/src/server/dbma/database.py\u001b\\\u001b[2mdatabase.py\u001b[0m\u001b]8;;\u001b\\\u001b[2m:\u001b[0m\u001b]8;id=766934;file:///usr/local/google/home/codyfincher/Code/database-tools/oracle-database-assessment/src/server/dbma/database.py#160\u001b\\\u001b[2m160\u001b[0m\u001b]8;;\u001b\\\n"
      ]
     },
     "metadata": {},
     "output_type": "display_data"
    },
    {
     "data": {
      "text/html": [
       "<pre style=\"white-space:pre;overflow-x:auto;line-height:normal;font-family:Menlo,'DejaVu Sans Mono',consolas,'Courier New',monospace\"><span style=\"color: #7fbfbf; text-decoration-color: #7fbfbf\">[10/19/22 23:46:56] </span><span style=\"color: #000080; text-decoration-color: #000080\">INFO    </span> <span style=\"color: #808000; text-decoration-color: #808000\">...</span> pdbs_info  <span style=\"color: #7f7f7f; text-decoration-color: #7f7f7f; font-weight: bold\">SKIPPED</span>                                                 <a href=\"file:///usr/local/google/home/codyfincher/Code/database-tools/oracle-database-assessment/src/server/dbma/database.py\" target=\"_blank\"><span style=\"color: #7f7f7f; text-decoration-color: #7f7f7f\">database.py</span></a><span style=\"color: #7f7f7f; text-decoration-color: #7f7f7f\">:</span><a href=\"file:///usr/local/google/home/codyfincher/Code/database-tools/oracle-database-assessment/src/server/dbma/database.py#163\" target=\"_blank\"><span style=\"color: #7f7f7f; text-decoration-color: #7f7f7f\">163</span></a>\n",
       "</pre>\n"
      ],
      "text/plain": [
       "\u001b[2;36m[10/19/22 23:46:56]\u001b[0m\u001b[2;36m \u001b[0m\u001b[34mINFO    \u001b[0m \u001b[33m...\u001b[0m pdbs_info  \u001b[1;2mSKIPPED\u001b[0m                                                 \u001b]8;id=475737;file:///usr/local/google/home/codyfincher/Code/database-tools/oracle-database-assessment/src/server/dbma/database.py\u001b\\\u001b[2mdatabase.py\u001b[0m\u001b]8;;\u001b\\\u001b[2m:\u001b[0m\u001b]8;id=372245;file:///usr/local/google/home/codyfincher/Code/database-tools/oracle-database-assessment/src/server/dbma/database.py#163\u001b\\\u001b[2m163\u001b[0m\u001b]8;;\u001b\\\n"
      ]
     },
     "metadata": {},
     "output_type": "display_data"
    },
    {
     "data": {
      "text/html": [
       "<pre style=\"white-space:pre;overflow-x:auto;line-height:normal;font-family:Menlo,'DejaVu Sans Mono',consolas,'Courier New',monospace\"><span style=\"color: #7fbfbf; text-decoration-color: #7fbfbf\">[10/19/22 23:46:56] </span><span style=\"color: #000080; text-decoration-color: #000080\">INFO    </span> <span style=\"color: #808000; text-decoration-color: #808000\">...</span> pdbs_in_open_mode  <span style=\"color: #7f7f7f; text-decoration-color: #7f7f7f; font-weight: bold\">SKIPPED</span>                                         <a href=\"file:///usr/local/google/home/codyfincher/Code/database-tools/oracle-database-assessment/src/server/dbma/database.py\" target=\"_blank\"><span style=\"color: #7f7f7f; text-decoration-color: #7f7f7f\">database.py</span></a><span style=\"color: #7f7f7f; text-decoration-color: #7f7f7f\">:</span><a href=\"file:///usr/local/google/home/codyfincher/Code/database-tools/oracle-database-assessment/src/server/dbma/database.py#163\" target=\"_blank\"><span style=\"color: #7f7f7f; text-decoration-color: #7f7f7f\">163</span></a>\n",
       "</pre>\n"
      ],
      "text/plain": [
       "\u001b[2;36m[10/19/22 23:46:56]\u001b[0m\u001b[2;36m \u001b[0m\u001b[34mINFO    \u001b[0m \u001b[33m...\u001b[0m pdbs_in_open_mode  \u001b[1;2mSKIPPED\u001b[0m                                         \u001b]8;id=589654;file:///usr/local/google/home/codyfincher/Code/database-tools/oracle-database-assessment/src/server/dbma/database.py\u001b\\\u001b[2mdatabase.py\u001b[0m\u001b]8;;\u001b\\\u001b[2m:\u001b[0m\u001b]8;id=595708;file:///usr/local/google/home/codyfincher/Code/database-tools/oracle-database-assessment/src/server/dbma/database.py#163\u001b\\\u001b[2m163\u001b[0m\u001b]8;;\u001b\\\n"
      ]
     },
     "metadata": {},
     "output_type": "display_data"
    },
    {
     "data": {
      "text/html": [
       "<pre style=\"white-space:pre;overflow-x:auto;line-height:normal;font-family:Menlo,'DejaVu Sans Mono',consolas,'Courier New',monospace\"><span style=\"color: #7fbfbf; text-decoration-color: #7fbfbf\">[10/19/22 23:46:56] </span><span style=\"color: #000080; text-decoration-color: #000080\">INFO    </span> <span style=\"color: #808000; text-decoration-color: #808000\">...</span> db_source_code  <span style=\"color: #008000; text-decoration-color: #008000; font-weight: bold\">SUCCESS</span> <span style=\"font-weight: bold\">[</span><span style=\"color: #008080; text-decoration-color: #008080; font-weight: bold\">17</span> <span style=\"color: #800080; text-decoration-color: #800080; font-weight: bold\">rows</span><span style=\"font-weight: bold\">(</span>s<span style=\"font-weight: bold\">)]</span>                               <a href=\"file:///usr/local/google/home/codyfincher/Code/database-tools/oracle-database-assessment/src/server/dbma/database.py\" target=\"_blank\"><span style=\"color: #7f7f7f; text-decoration-color: #7f7f7f\">database.py</span></a><span style=\"color: #7f7f7f; text-decoration-color: #7f7f7f\">:</span><a href=\"file:///usr/local/google/home/codyfincher/Code/database-tools/oracle-database-assessment/src/server/dbma/database.py#160\" target=\"_blank\"><span style=\"color: #7f7f7f; text-decoration-color: #7f7f7f\">160</span></a>\n",
       "</pre>\n"
      ],
      "text/plain": [
       "\u001b[2;36m[10/19/22 23:46:56]\u001b[0m\u001b[2;36m \u001b[0m\u001b[34mINFO    \u001b[0m \u001b[33m...\u001b[0m db_source_code  \u001b[1;32mSUCCESS\u001b[0m \u001b[1m[\u001b[0m\u001b[1;36m17\u001b[0m \u001b[1;35mrows\u001b[0m\u001b[1m(\u001b[0ms\u001b[1m)\u001b[0m\u001b[1m]\u001b[0m                               \u001b]8;id=885777;file:///usr/local/google/home/codyfincher/Code/database-tools/oracle-database-assessment/src/server/dbma/database.py\u001b\\\u001b[2mdatabase.py\u001b[0m\u001b]8;;\u001b\\\u001b[2m:\u001b[0m\u001b]8;id=439167;file:///usr/local/google/home/codyfincher/Code/database-tools/oracle-database-assessment/src/server/dbma/database.py#160\u001b\\\u001b[2m160\u001b[0m\u001b]8;;\u001b\\\n"
      ]
     },
     "metadata": {},
     "output_type": "display_data"
    },
    {
     "data": {
      "text/html": [
       "<pre style=\"white-space:pre;overflow-x:auto;line-height:normal;font-family:Menlo,'DejaVu Sans Mono',consolas,'Courier New',monospace\"><span style=\"color: #7fbfbf; text-decoration-color: #7fbfbf\">[10/19/22 23:46:56] </span><span style=\"color: #000080; text-decoration-color: #000080\">INFO    </span> <span style=\"color: #808000; text-decoration-color: #808000\">...</span> db_source_connections  <span style=\"color: #008000; text-decoration-color: #008000; font-weight: bold\">SUCCESS</span> <span style=\"font-weight: bold\">[</span><span style=\"color: #008080; text-decoration-color: #008080; font-weight: bold\">1868</span> <span style=\"color: #800080; text-decoration-color: #800080; font-weight: bold\">rows</span><span style=\"font-weight: bold\">(</span>s<span style=\"font-weight: bold\">)]</span>                      <a href=\"file:///usr/local/google/home/codyfincher/Code/database-tools/oracle-database-assessment/src/server/dbma/database.py\" target=\"_blank\"><span style=\"color: #7f7f7f; text-decoration-color: #7f7f7f\">database.py</span></a><span style=\"color: #7f7f7f; text-decoration-color: #7f7f7f\">:</span><a href=\"file:///usr/local/google/home/codyfincher/Code/database-tools/oracle-database-assessment/src/server/dbma/database.py#160\" target=\"_blank\"><span style=\"color: #7f7f7f; text-decoration-color: #7f7f7f\">160</span></a>\n",
       "</pre>\n"
      ],
      "text/plain": [
       "\u001b[2;36m[10/19/22 23:46:56]\u001b[0m\u001b[2;36m \u001b[0m\u001b[34mINFO    \u001b[0m \u001b[33m...\u001b[0m db_source_connections  \u001b[1;32mSUCCESS\u001b[0m \u001b[1m[\u001b[0m\u001b[1;36m1868\u001b[0m \u001b[1;35mrows\u001b[0m\u001b[1m(\u001b[0ms\u001b[1m)\u001b[0m\u001b[1m]\u001b[0m                      \u001b]8;id=21961;file:///usr/local/google/home/codyfincher/Code/database-tools/oracle-database-assessment/src/server/dbma/database.py\u001b\\\u001b[2mdatabase.py\u001b[0m\u001b]8;;\u001b\\\u001b[2m:\u001b[0m\u001b]8;id=868920;file:///usr/local/google/home/codyfincher/Code/database-tools/oracle-database-assessment/src/server/dbma/database.py#160\u001b\\\u001b[2m160\u001b[0m\u001b]8;;\u001b\\\n"
      ]
     },
     "metadata": {},
     "output_type": "display_data"
    },
    {
     "data": {
      "text/html": [
       "<pre style=\"white-space:pre;overflow-x:auto;line-height:normal;font-family:Menlo,'DejaVu Sans Mono',consolas,'Courier New',monospace\"><span style=\"color: #7fbfbf; text-decoration-color: #7fbfbf\">[10/19/22 23:46:56] </span><span style=\"color: #000080; text-decoration-color: #000080\">INFO    </span> <span style=\"color: #808000; text-decoration-color: #808000\">...</span> db_sql_stats  <span style=\"color: #008000; text-decoration-color: #008000; font-weight: bold\">SUCCESS</span> <span style=\"font-weight: bold\">[</span><span style=\"color: #008080; text-decoration-color: #008080; font-weight: bold\">299</span> <span style=\"color: #800080; text-decoration-color: #800080; font-weight: bold\">rows</span><span style=\"font-weight: bold\">(</span>s<span style=\"font-weight: bold\">)]</span>                                <a href=\"file:///usr/local/google/home/codyfincher/Code/database-tools/oracle-database-assessment/src/server/dbma/database.py\" target=\"_blank\"><span style=\"color: #7f7f7f; text-decoration-color: #7f7f7f\">database.py</span></a><span style=\"color: #7f7f7f; text-decoration-color: #7f7f7f\">:</span><a href=\"file:///usr/local/google/home/codyfincher/Code/database-tools/oracle-database-assessment/src/server/dbma/database.py#160\" target=\"_blank\"><span style=\"color: #7f7f7f; text-decoration-color: #7f7f7f\">160</span></a>\n",
       "</pre>\n"
      ],
      "text/plain": [
       "\u001b[2;36m[10/19/22 23:46:56]\u001b[0m\u001b[2;36m \u001b[0m\u001b[34mINFO    \u001b[0m \u001b[33m...\u001b[0m db_sql_stats  \u001b[1;32mSUCCESS\u001b[0m \u001b[1m[\u001b[0m\u001b[1;36m299\u001b[0m \u001b[1;35mrows\u001b[0m\u001b[1m(\u001b[0ms\u001b[1m)\u001b[0m\u001b[1m]\u001b[0m                                \u001b]8;id=466635;file:///usr/local/google/home/codyfincher/Code/database-tools/oracle-database-assessment/src/server/dbma/database.py\u001b\\\u001b[2mdatabase.py\u001b[0m\u001b]8;;\u001b\\\u001b[2m:\u001b[0m\u001b]8;id=598275;file:///usr/local/google/home/codyfincher/Code/database-tools/oracle-database-assessment/src/server/dbma/database.py#160\u001b\\\u001b[2m160\u001b[0m\u001b]8;;\u001b\\\n"
      ]
     },
     "metadata": {},
     "output_type": "display_data"
    },
    {
     "data": {
      "text/html": [
       "<pre style=\"white-space:pre;overflow-x:auto;line-height:normal;font-family:Menlo,'DejaVu Sans Mono',consolas,'Courier New',monospace\"><span style=\"color: #7fbfbf; text-decoration-color: #7fbfbf\">[10/19/22 23:46:56] </span><span style=\"color: #000080; text-decoration-color: #000080\">INFO    </span> <span style=\"color: #808000; text-decoration-color: #808000\">...</span> db_constraint_summary  <span style=\"color: #008000; text-decoration-color: #008000; font-weight: bold\">SUCCESS</span> <span style=\"font-weight: bold\">[</span><span style=\"color: #008080; text-decoration-color: #008080; font-weight: bold\">18</span> <span style=\"color: #800080; text-decoration-color: #800080; font-weight: bold\">rows</span><span style=\"font-weight: bold\">(</span>s<span style=\"font-weight: bold\">)]</span>                        <a href=\"file:///usr/local/google/home/codyfincher/Code/database-tools/oracle-database-assessment/src/server/dbma/database.py\" target=\"_blank\"><span style=\"color: #7f7f7f; text-decoration-color: #7f7f7f\">database.py</span></a><span style=\"color: #7f7f7f; text-decoration-color: #7f7f7f\">:</span><a href=\"file:///usr/local/google/home/codyfincher/Code/database-tools/oracle-database-assessment/src/server/dbma/database.py#160\" target=\"_blank\"><span style=\"color: #7f7f7f; text-decoration-color: #7f7f7f\">160</span></a>\n",
       "</pre>\n"
      ],
      "text/plain": [
       "\u001b[2;36m[10/19/22 23:46:56]\u001b[0m\u001b[2;36m \u001b[0m\u001b[34mINFO    \u001b[0m \u001b[33m...\u001b[0m db_constraint_summary  \u001b[1;32mSUCCESS\u001b[0m \u001b[1m[\u001b[0m\u001b[1;36m18\u001b[0m \u001b[1;35mrows\u001b[0m\u001b[1m(\u001b[0ms\u001b[1m)\u001b[0m\u001b[1m]\u001b[0m                        \u001b]8;id=624522;file:///usr/local/google/home/codyfincher/Code/database-tools/oracle-database-assessment/src/server/dbma/database.py\u001b\\\u001b[2mdatabase.py\u001b[0m\u001b]8;;\u001b\\\u001b[2m:\u001b[0m\u001b]8;id=817190;file:///usr/local/google/home/codyfincher/Code/database-tools/oracle-database-assessment/src/server/dbma/database.py#160\u001b\\\u001b[2m160\u001b[0m\u001b]8;;\u001b\\\n"
      ]
     },
     "metadata": {},
     "output_type": "display_data"
    },
    {
     "data": {
      "text/html": [
       "<pre style=\"white-space:pre;overflow-x:auto;line-height:normal;font-family:Menlo,'DejaVu Sans Mono',consolas,'Courier New',monospace\"><span style=\"color: #7fbfbf; text-decoration-color: #7fbfbf\">[10/19/22 23:46:56] </span><span style=\"color: #000080; text-decoration-color: #000080\">INFO    </span> <span style=\"color: #808000; text-decoration-color: #808000\">...</span> db_used_space_details  <span style=\"color: #008000; text-decoration-color: #008000; font-weight: bold\">SUCCESS</span> <span style=\"font-weight: bold\">[</span><span style=\"color: #008080; text-decoration-color: #008080; font-weight: bold\">15</span> <span style=\"color: #800080; text-decoration-color: #800080; font-weight: bold\">rows</span><span style=\"font-weight: bold\">(</span>s<span style=\"font-weight: bold\">)]</span>                        <a href=\"file:///usr/local/google/home/codyfincher/Code/database-tools/oracle-database-assessment/src/server/dbma/database.py\" target=\"_blank\"><span style=\"color: #7f7f7f; text-decoration-color: #7f7f7f\">database.py</span></a><span style=\"color: #7f7f7f; text-decoration-color: #7f7f7f\">:</span><a href=\"file:///usr/local/google/home/codyfincher/Code/database-tools/oracle-database-assessment/src/server/dbma/database.py#160\" target=\"_blank\"><span style=\"color: #7f7f7f; text-decoration-color: #7f7f7f\">160</span></a>\n",
       "</pre>\n"
      ],
      "text/plain": [
       "\u001b[2;36m[10/19/22 23:46:56]\u001b[0m\u001b[2;36m \u001b[0m\u001b[34mINFO    \u001b[0m \u001b[33m...\u001b[0m db_used_space_details  \u001b[1;32mSUCCESS\u001b[0m \u001b[1m[\u001b[0m\u001b[1;36m15\u001b[0m \u001b[1;35mrows\u001b[0m\u001b[1m(\u001b[0ms\u001b[1m)\u001b[0m\u001b[1m]\u001b[0m                        \u001b]8;id=836259;file:///usr/local/google/home/codyfincher/Code/database-tools/oracle-database-assessment/src/server/dbma/database.py\u001b\\\u001b[2mdatabase.py\u001b[0m\u001b]8;;\u001b\\\u001b[2m:\u001b[0m\u001b]8;id=632926;file:///usr/local/google/home/codyfincher/Code/database-tools/oracle-database-assessment/src/server/dbma/database.py#160\u001b\\\u001b[2m160\u001b[0m\u001b]8;;\u001b\\\n"
      ]
     },
     "metadata": {},
     "output_type": "display_data"
    },
    {
     "data": {
      "text/html": [
       "<pre style=\"white-space:pre;overflow-x:auto;line-height:normal;font-family:Menlo,'DejaVu Sans Mono',consolas,'Courier New',monospace\"><span style=\"color: #7fbfbf; text-decoration-color: #7fbfbf\">[10/19/22 23:46:56] </span><span style=\"color: #000080; text-decoration-color: #000080\">INFO    </span> <span style=\"color: #808000; text-decoration-color: #808000\">...</span> db_user_tablespace_segments  <span style=\"color: #7f7f7f; text-decoration-color: #7f7f7f; font-weight: bold\">SKIPPED</span>                               <a href=\"file:///usr/local/google/home/codyfincher/Code/database-tools/oracle-database-assessment/src/server/dbma/database.py\" target=\"_blank\"><span style=\"color: #7f7f7f; text-decoration-color: #7f7f7f\">database.py</span></a><span style=\"color: #7f7f7f; text-decoration-color: #7f7f7f\">:</span><a href=\"file:///usr/local/google/home/codyfincher/Code/database-tools/oracle-database-assessment/src/server/dbma/database.py#163\" target=\"_blank\"><span style=\"color: #7f7f7f; text-decoration-color: #7f7f7f\">163</span></a>\n",
       "</pre>\n"
      ],
      "text/plain": [
       "\u001b[2;36m[10/19/22 23:46:56]\u001b[0m\u001b[2;36m \u001b[0m\u001b[34mINFO    \u001b[0m \u001b[33m...\u001b[0m db_user_tablespace_segments  \u001b[1;2mSKIPPED\u001b[0m                               \u001b]8;id=735442;file:///usr/local/google/home/codyfincher/Code/database-tools/oracle-database-assessment/src/server/dbma/database.py\u001b\\\u001b[2mdatabase.py\u001b[0m\u001b]8;;\u001b\\\u001b[2m:\u001b[0m\u001b]8;id=743094;file:///usr/local/google/home/codyfincher/Code/database-tools/oracle-database-assessment/src/server/dbma/database.py#163\u001b\\\u001b[2m163\u001b[0m\u001b]8;;\u001b\\\n"
      ]
     },
     "metadata": {},
     "output_type": "display_data"
    },
    {
     "data": {
      "text/html": [
       "<pre style=\"white-space:pre;overflow-x:auto;line-height:normal;font-family:Menlo,'DejaVu Sans Mono',consolas,'Courier New',monospace\"><span style=\"color: #7fbfbf; text-decoration-color: #7fbfbf\">[10/19/22 23:46:56] </span><span style=\"color: #000080; text-decoration-color: #000080\">INFO    </span> executing transformation script transform_01                           <a href=\"file:///usr/local/google/home/codyfincher/Code/database-tools/oracle-database-assessment/src/server/dbma/database.py\" target=\"_blank\"><span style=\"color: #7f7f7f; text-decoration-color: #7f7f7f\">database.py</span></a><span style=\"color: #7f7f7f; text-decoration-color: #7f7f7f\">:</span><a href=\"file:///usr/local/google/home/codyfincher/Code/database-tools/oracle-database-assessment/src/server/dbma/database.py#136\" target=\"_blank\"><span style=\"color: #7f7f7f; text-decoration-color: #7f7f7f\">136</span></a>\n",
       "</pre>\n"
      ],
      "text/plain": [
       "\u001b[2;36m[10/19/22 23:46:56]\u001b[0m\u001b[2;36m \u001b[0m\u001b[34mINFO    \u001b[0m executing transformation script transform_01                           \u001b]8;id=936366;file:///usr/local/google/home/codyfincher/Code/database-tools/oracle-database-assessment/src/server/dbma/database.py\u001b\\\u001b[2mdatabase.py\u001b[0m\u001b]8;;\u001b\\\u001b[2m:\u001b[0m\u001b]8;id=50074;file:///usr/local/google/home/codyfincher/Code/database-tools/oracle-database-assessment/src/server/dbma/database.py#136\u001b\\\u001b[2m136\u001b[0m\u001b]8;;\u001b\\\n"
      ]
     },
     "metadata": {},
     "output_type": "display_data"
    },
    {
     "data": {
      "text/html": [
       "<pre style=\"white-space:pre;overflow-x:auto;line-height:normal;font-family:Menlo,'DejaVu Sans Mono',consolas,'Courier New',monospace\"><span style=\"color: #7fbfbf; text-decoration-color: #7fbfbf\">[10/19/22 23:46:56] </span><span style=\"color: #000080; text-decoration-color: #000080\">INFO    </span> executing transformation script transform_02                           <a href=\"file:///usr/local/google/home/codyfincher/Code/database-tools/oracle-database-assessment/src/server/dbma/database.py\" target=\"_blank\"><span style=\"color: #7f7f7f; text-decoration-color: #7f7f7f\">database.py</span></a><span style=\"color: #7f7f7f; text-decoration-color: #7f7f7f\">:</span><a href=\"file:///usr/local/google/home/codyfincher/Code/database-tools/oracle-database-assessment/src/server/dbma/database.py#136\" target=\"_blank\"><span style=\"color: #7f7f7f; text-decoration-color: #7f7f7f\">136</span></a>\n",
       "</pre>\n"
      ],
      "text/plain": [
       "\u001b[2;36m[10/19/22 23:46:56]\u001b[0m\u001b[2;36m \u001b[0m\u001b[34mINFO    \u001b[0m executing transformation script transform_02                           \u001b]8;id=226954;file:///usr/local/google/home/codyfincher/Code/database-tools/oracle-database-assessment/src/server/dbma/database.py\u001b\\\u001b[2mdatabase.py\u001b[0m\u001b]8;;\u001b\\\u001b[2m:\u001b[0m\u001b]8;id=779839;file:///usr/local/google/home/codyfincher/Code/database-tools/oracle-database-assessment/src/server/dbma/database.py#136\u001b\\\u001b[2m136\u001b[0m\u001b]8;;\u001b\\\n"
      ]
     },
     "metadata": {},
     "output_type": "display_data"
    },
    {
     "data": {
      "text/html": [
       "<pre style=\"white-space:pre;overflow-x:auto;line-height:normal;font-family:Menlo,'DejaVu Sans Mono',consolas,'Courier New',monospace\"><span style=\"color: #7fbfbf; text-decoration-color: #7fbfbf\">[10/19/22 23:46:57] </span><span style=\"color: #000080; text-decoration-color: #000080\">INFO    </span> executing transformation script transform_03                           <a href=\"file:///usr/local/google/home/codyfincher/Code/database-tools/oracle-database-assessment/src/server/dbma/database.py\" target=\"_blank\"><span style=\"color: #7f7f7f; text-decoration-color: #7f7f7f\">database.py</span></a><span style=\"color: #7f7f7f; text-decoration-color: #7f7f7f\">:</span><a href=\"file:///usr/local/google/home/codyfincher/Code/database-tools/oracle-database-assessment/src/server/dbma/database.py#136\" target=\"_blank\"><span style=\"color: #7f7f7f; text-decoration-color: #7f7f7f\">136</span></a>\n",
       "</pre>\n"
      ],
      "text/plain": [
       "\u001b[2;36m[10/19/22 23:46:57]\u001b[0m\u001b[2;36m \u001b[0m\u001b[34mINFO    \u001b[0m executing transformation script transform_03                           \u001b]8;id=606984;file:///usr/local/google/home/codyfincher/Code/database-tools/oracle-database-assessment/src/server/dbma/database.py\u001b\\\u001b[2mdatabase.py\u001b[0m\u001b]8;;\u001b\\\u001b[2m:\u001b[0m\u001b]8;id=560527;file:///usr/local/google/home/codyfincher/Code/database-tools/oracle-database-assessment/src/server/dbma/database.py#136\u001b\\\u001b[2m136\u001b[0m\u001b]8;;\u001b\\\n"
      ]
     },
     "metadata": {},
     "output_type": "display_data"
    },
    {
     "data": {
      "text/html": [
       "<pre style=\"white-space:pre;overflow-x:auto;line-height:normal;font-family:Menlo,'DejaVu Sans Mono',consolas,'Courier New',monospace\"><span style=\"color: #7fbfbf; text-decoration-color: #7fbfbf\">[10/19/22 23:46:57] </span><span style=\"color: #000080; text-decoration-color: #000080\">INFO    </span> executing transformation script transform_04                           <a href=\"file:///usr/local/google/home/codyfincher/Code/database-tools/oracle-database-assessment/src/server/dbma/database.py\" target=\"_blank\"><span style=\"color: #7f7f7f; text-decoration-color: #7f7f7f\">database.py</span></a><span style=\"color: #7f7f7f; text-decoration-color: #7f7f7f\">:</span><a href=\"file:///usr/local/google/home/codyfincher/Code/database-tools/oracle-database-assessment/src/server/dbma/database.py#136\" target=\"_blank\"><span style=\"color: #7f7f7f; text-decoration-color: #7f7f7f\">136</span></a>\n",
       "</pre>\n"
      ],
      "text/plain": [
       "\u001b[2;36m[10/19/22 23:46:57]\u001b[0m\u001b[2;36m \u001b[0m\u001b[34mINFO    \u001b[0m executing transformation script transform_04                           \u001b]8;id=132976;file:///usr/local/google/home/codyfincher/Code/database-tools/oracle-database-assessment/src/server/dbma/database.py\u001b\\\u001b[2mdatabase.py\u001b[0m\u001b]8;;\u001b\\\u001b[2m:\u001b[0m\u001b]8;id=352493;file:///usr/local/google/home/codyfincher/Code/database-tools/oracle-database-assessment/src/server/dbma/database.py#136\u001b\\\u001b[2m136\u001b[0m\u001b]8;;\u001b\\\n"
      ]
     },
     "metadata": {},
     "output_type": "display_data"
    },
    {
     "data": {
      "text/html": [
       "<pre style=\"white-space:pre;overflow-x:auto;line-height:normal;font-family:Menlo,'DejaVu Sans Mono',consolas,'Courier New',monospace\"><span style=\"color: #7fbfbf; text-decoration-color: #7fbfbf\">[10/19/22 23:46:57] </span><span style=\"color: #000080; text-decoration-color: #000080\">INFO    </span> executing transformation script transform_05                           <a href=\"file:///usr/local/google/home/codyfincher/Code/database-tools/oracle-database-assessment/src/server/dbma/database.py\" target=\"_blank\"><span style=\"color: #7f7f7f; text-decoration-color: #7f7f7f\">database.py</span></a><span style=\"color: #7f7f7f; text-decoration-color: #7f7f7f\">:</span><a href=\"file:///usr/local/google/home/codyfincher/Code/database-tools/oracle-database-assessment/src/server/dbma/database.py#136\" target=\"_blank\"><span style=\"color: #7f7f7f; text-decoration-color: #7f7f7f\">136</span></a>\n",
       "</pre>\n"
      ],
      "text/plain": [
       "\u001b[2;36m[10/19/22 23:46:57]\u001b[0m\u001b[2;36m \u001b[0m\u001b[34mINFO    \u001b[0m executing transformation script transform_05                           \u001b]8;id=165743;file:///usr/local/google/home/codyfincher/Code/database-tools/oracle-database-assessment/src/server/dbma/database.py\u001b\\\u001b[2mdatabase.py\u001b[0m\u001b]8;;\u001b\\\u001b[2m:\u001b[0m\u001b]8;id=544361;file:///usr/local/google/home/codyfincher/Code/database-tools/oracle-database-assessment/src/server/dbma/database.py#136\u001b\\\u001b[2m136\u001b[0m\u001b]8;;\u001b\\\n"
      ]
     },
     "metadata": {},
     "output_type": "display_data"
    },
    {
     "data": {
      "text/html": [
       "<pre style=\"white-space:pre;overflow-x:auto;line-height:normal;font-family:Menlo,'DejaVu Sans Mono',consolas,'Courier New',monospace\"><span style=\"color: #7fbfbf; text-decoration-color: #7fbfbf\">[10/19/22 23:46:57] </span><span style=\"color: #000080; text-decoration-color: #000080\">INFO    </span> executing transformation script transform_06                           <a href=\"file:///usr/local/google/home/codyfincher/Code/database-tools/oracle-database-assessment/src/server/dbma/database.py\" target=\"_blank\"><span style=\"color: #7f7f7f; text-decoration-color: #7f7f7f\">database.py</span></a><span style=\"color: #7f7f7f; text-decoration-color: #7f7f7f\">:</span><a href=\"file:///usr/local/google/home/codyfincher/Code/database-tools/oracle-database-assessment/src/server/dbma/database.py#136\" target=\"_blank\"><span style=\"color: #7f7f7f; text-decoration-color: #7f7f7f\">136</span></a>\n",
       "</pre>\n"
      ],
      "text/plain": [
       "\u001b[2;36m[10/19/22 23:46:57]\u001b[0m\u001b[2;36m \u001b[0m\u001b[34mINFO    \u001b[0m executing transformation script transform_06                           \u001b]8;id=522205;file:///usr/local/google/home/codyfincher/Code/database-tools/oracle-database-assessment/src/server/dbma/database.py\u001b\\\u001b[2mdatabase.py\u001b[0m\u001b]8;;\u001b\\\u001b[2m:\u001b[0m\u001b]8;id=950954;file:///usr/local/google/home/codyfincher/Code/database-tools/oracle-database-assessment/src/server/dbma/database.py#136\u001b\\\u001b[2m136\u001b[0m\u001b]8;;\u001b\\\n"
      ]
     },
     "metadata": {},
     "output_type": "display_data"
    },
    {
     "data": {
      "text/html": [
       "<pre style=\"white-space:pre;overflow-x:auto;line-height:normal;font-family:Menlo,'DejaVu Sans Mono',consolas,'Courier New',monospace\"><span style=\"color: #7fbfbf; text-decoration-color: #7fbfbf\">[10/19/22 23:46:57] </span><span style=\"color: #000080; text-decoration-color: #000080\">INFO    </span> executing transformation script transform_07                           <a href=\"file:///usr/local/google/home/codyfincher/Code/database-tools/oracle-database-assessment/src/server/dbma/database.py\" target=\"_blank\"><span style=\"color: #7f7f7f; text-decoration-color: #7f7f7f\">database.py</span></a><span style=\"color: #7f7f7f; text-decoration-color: #7f7f7f\">:</span><a href=\"file:///usr/local/google/home/codyfincher/Code/database-tools/oracle-database-assessment/src/server/dbma/database.py#136\" target=\"_blank\"><span style=\"color: #7f7f7f; text-decoration-color: #7f7f7f\">136</span></a>\n",
       "</pre>\n"
      ],
      "text/plain": [
       "\u001b[2;36m[10/19/22 23:46:57]\u001b[0m\u001b[2;36m \u001b[0m\u001b[34mINFO    \u001b[0m executing transformation script transform_07                           \u001b]8;id=378335;file:///usr/local/google/home/codyfincher/Code/database-tools/oracle-database-assessment/src/server/dbma/database.py\u001b\\\u001b[2mdatabase.py\u001b[0m\u001b]8;;\u001b\\\u001b[2m:\u001b[0m\u001b]8;id=317119;file:///usr/local/google/home/codyfincher/Code/database-tools/oracle-database-assessment/src/server/dbma/database.py#136\u001b\\\u001b[2m136\u001b[0m\u001b]8;;\u001b\\\n"
      ]
     },
     "metadata": {},
     "output_type": "display_data"
    },
    {
     "data": {
      "text/html": [
       "<pre style=\"white-space:pre;overflow-x:auto;line-height:normal;font-family:Menlo,'DejaVu Sans Mono',consolas,'Courier New',monospace\"><span style=\"color: #7fbfbf; text-decoration-color: #7fbfbf\">[10/19/22 23:46:57] </span><span style=\"color: #000080; text-decoration-color: #000080\">INFO    </span> executing transformation script transform_08                           <a href=\"file:///usr/local/google/home/codyfincher/Code/database-tools/oracle-database-assessment/src/server/dbma/database.py\" target=\"_blank\"><span style=\"color: #7f7f7f; text-decoration-color: #7f7f7f\">database.py</span></a><span style=\"color: #7f7f7f; text-decoration-color: #7f7f7f\">:</span><a href=\"file:///usr/local/google/home/codyfincher/Code/database-tools/oracle-database-assessment/src/server/dbma/database.py#136\" target=\"_blank\"><span style=\"color: #7f7f7f; text-decoration-color: #7f7f7f\">136</span></a>\n",
       "</pre>\n"
      ],
      "text/plain": [
       "\u001b[2;36m[10/19/22 23:46:57]\u001b[0m\u001b[2;36m \u001b[0m\u001b[34mINFO    \u001b[0m executing transformation script transform_08                           \u001b]8;id=307566;file:///usr/local/google/home/codyfincher/Code/database-tools/oracle-database-assessment/src/server/dbma/database.py\u001b\\\u001b[2mdatabase.py\u001b[0m\u001b]8;;\u001b\\\u001b[2m:\u001b[0m\u001b]8;id=199362;file:///usr/local/google/home/codyfincher/Code/database-tools/oracle-database-assessment/src/server/dbma/database.py#136\u001b\\\u001b[2m136\u001b[0m\u001b]8;;\u001b\\\n"
      ]
     },
     "metadata": {},
     "output_type": "display_data"
    },
    {
     "data": {
      "text/html": [
       "<pre style=\"white-space:pre;overflow-x:auto;line-height:normal;font-family:Menlo,'DejaVu Sans Mono',consolas,'Courier New',monospace\"><span style=\"color: #7fbfbf; text-decoration-color: #7fbfbf\">[10/19/22 23:46:57] </span><span style=\"color: #000080; text-decoration-color: #000080\">INFO    </span> executing transformation script transform_09                           <a href=\"file:///usr/local/google/home/codyfincher/Code/database-tools/oracle-database-assessment/src/server/dbma/database.py\" target=\"_blank\"><span style=\"color: #7f7f7f; text-decoration-color: #7f7f7f\">database.py</span></a><span style=\"color: #7f7f7f; text-decoration-color: #7f7f7f\">:</span><a href=\"file:///usr/local/google/home/codyfincher/Code/database-tools/oracle-database-assessment/src/server/dbma/database.py#136\" target=\"_blank\"><span style=\"color: #7f7f7f; text-decoration-color: #7f7f7f\">136</span></a>\n",
       "</pre>\n"
      ],
      "text/plain": [
       "\u001b[2;36m[10/19/22 23:46:57]\u001b[0m\u001b[2;36m \u001b[0m\u001b[34mINFO    \u001b[0m executing transformation script transform_09                           \u001b]8;id=726524;file:///usr/local/google/home/codyfincher/Code/database-tools/oracle-database-assessment/src/server/dbma/database.py\u001b\\\u001b[2mdatabase.py\u001b[0m\u001b]8;;\u001b\\\u001b[2m:\u001b[0m\u001b]8;id=54177;file:///usr/local/google/home/codyfincher/Code/database-tools/oracle-database-assessment/src/server/dbma/database.py#136\u001b\\\u001b[2m136\u001b[0m\u001b]8;;\u001b\\\n"
      ]
     },
     "metadata": {},
     "output_type": "display_data"
    },
    {
     "data": {
      "text/html": [
       "<pre style=\"white-space:pre;overflow-x:auto;line-height:normal;font-family:Menlo,'DejaVu Sans Mono',consolas,'Courier New',monospace\"><span style=\"color: #7fbfbf; text-decoration-color: #7fbfbf\">[10/19/22 23:46:57] </span><span style=\"color: #000080; text-decoration-color: #000080\">INFO    </span> executing transformation script transform_10                           <a href=\"file:///usr/local/google/home/codyfincher/Code/database-tools/oracle-database-assessment/src/server/dbma/database.py\" target=\"_blank\"><span style=\"color: #7f7f7f; text-decoration-color: #7f7f7f\">database.py</span></a><span style=\"color: #7f7f7f; text-decoration-color: #7f7f7f\">:</span><a href=\"file:///usr/local/google/home/codyfincher/Code/database-tools/oracle-database-assessment/src/server/dbma/database.py#136\" target=\"_blank\"><span style=\"color: #7f7f7f; text-decoration-color: #7f7f7f\">136</span></a>\n",
       "</pre>\n"
      ],
      "text/plain": [
       "\u001b[2;36m[10/19/22 23:46:57]\u001b[0m\u001b[2;36m \u001b[0m\u001b[34mINFO    \u001b[0m executing transformation script transform_10                           \u001b]8;id=230878;file:///usr/local/google/home/codyfincher/Code/database-tools/oracle-database-assessment/src/server/dbma/database.py\u001b\\\u001b[2mdatabase.py\u001b[0m\u001b]8;;\u001b\\\u001b[2m:\u001b[0m\u001b]8;id=395603;file:///usr/local/google/home/codyfincher/Code/database-tools/oracle-database-assessment/src/server/dbma/database.py#136\u001b\\\u001b[2m136\u001b[0m\u001b]8;;\u001b\\\n"
      ]
     },
     "metadata": {},
     "output_type": "display_data"
    },
    {
     "data": {
      "text/html": [
       "<pre style=\"white-space:pre;overflow-x:auto;line-height:normal;font-family:Menlo,'DejaVu Sans Mono',consolas,'Courier New',monospace\"><span style=\"color: #7fbfbf; text-decoration-color: #7fbfbf\">[10/19/22 23:46:57] </span><span style=\"color: #000080; text-decoration-color: #000080\">INFO    </span> executing transformation script transform_11                           <a href=\"file:///usr/local/google/home/codyfincher/Code/database-tools/oracle-database-assessment/src/server/dbma/database.py\" target=\"_blank\"><span style=\"color: #7f7f7f; text-decoration-color: #7f7f7f\">database.py</span></a><span style=\"color: #7f7f7f; text-decoration-color: #7f7f7f\">:</span><a href=\"file:///usr/local/google/home/codyfincher/Code/database-tools/oracle-database-assessment/src/server/dbma/database.py#136\" target=\"_blank\"><span style=\"color: #7f7f7f; text-decoration-color: #7f7f7f\">136</span></a>\n",
       "</pre>\n"
      ],
      "text/plain": [
       "\u001b[2;36m[10/19/22 23:46:57]\u001b[0m\u001b[2;36m \u001b[0m\u001b[34mINFO    \u001b[0m executing transformation script transform_11                           \u001b]8;id=67091;file:///usr/local/google/home/codyfincher/Code/database-tools/oracle-database-assessment/src/server/dbma/database.py\u001b\\\u001b[2mdatabase.py\u001b[0m\u001b]8;;\u001b\\\u001b[2m:\u001b[0m\u001b]8;id=705887;file:///usr/local/google/home/codyfincher/Code/database-tools/oracle-database-assessment/src/server/dbma/database.py#136\u001b\\\u001b[2m136\u001b[0m\u001b]8;;\u001b\\\n"
      ]
     },
     "metadata": {},
     "output_type": "display_data"
    },
    {
     "data": {
      "text/html": [
       "<pre style=\"white-space:pre;overflow-x:auto;line-height:normal;font-family:Menlo,'DejaVu Sans Mono',consolas,'Courier New',monospace\"><span style=\"color: #7fbfbf; text-decoration-color: #7fbfbf\">[10/19/22 23:46:57] </span><span style=\"color: #000080; text-decoration-color: #000080\">INFO    </span> executing transformation script transform_12                           <a href=\"file:///usr/local/google/home/codyfincher/Code/database-tools/oracle-database-assessment/src/server/dbma/database.py\" target=\"_blank\"><span style=\"color: #7f7f7f; text-decoration-color: #7f7f7f\">database.py</span></a><span style=\"color: #7f7f7f; text-decoration-color: #7f7f7f\">:</span><a href=\"file:///usr/local/google/home/codyfincher/Code/database-tools/oracle-database-assessment/src/server/dbma/database.py#136\" target=\"_blank\"><span style=\"color: #7f7f7f; text-decoration-color: #7f7f7f\">136</span></a>\n",
       "</pre>\n"
      ],
      "text/plain": [
       "\u001b[2;36m[10/19/22 23:46:57]\u001b[0m\u001b[2;36m \u001b[0m\u001b[34mINFO    \u001b[0m executing transformation script transform_12                           \u001b]8;id=593985;file:///usr/local/google/home/codyfincher/Code/database-tools/oracle-database-assessment/src/server/dbma/database.py\u001b\\\u001b[2mdatabase.py\u001b[0m\u001b]8;;\u001b\\\u001b[2m:\u001b[0m\u001b]8;id=451921;file:///usr/local/google/home/codyfincher/Code/database-tools/oracle-database-assessment/src/server/dbma/database.py#136\u001b\\\u001b[2m136\u001b[0m\u001b]8;;\u001b\\\n"
      ]
     },
     "metadata": {},
     "output_type": "display_data"
    },
    {
     "data": {
      "text/html": [
       "<pre style=\"white-space:pre;overflow-x:auto;line-height:normal;font-family:Menlo,'DejaVu Sans Mono',consolas,'Courier New',monospace\"><span style=\"color: #7fbfbf; text-decoration-color: #7fbfbf\">[10/19/22 23:46:57] </span><span style=\"color: #000080; text-decoration-color: #000080\">INFO    </span> <span style=\"font-weight: bold\">[]</span>                                                                        <a href=\"file:///usr/local/google/home/codyfincher/Code/database-tools/oracle-database-assessment/src/server/dbma/transformer/engine.py\" target=\"_blank\"><span style=\"color: #7f7f7f; text-decoration-color: #7f7f7f\">engine.py</span></a><span style=\"color: #7f7f7f; text-decoration-color: #7f7f7f\">:</span><a href=\"file:///usr/local/google/home/codyfincher/Code/database-tools/oracle-database-assessment/src/server/dbma/transformer/engine.py#94\" target=\"_blank\"><span style=\"color: #7f7f7f; text-decoration-color: #7f7f7f\">94</span></a>\n",
       "</pre>\n"
      ],
      "text/plain": [
       "\u001b[2;36m[10/19/22 23:46:57]\u001b[0m\u001b[2;36m \u001b[0m\u001b[34mINFO    \u001b[0m \u001b[1m[\u001b[0m\u001b[1m]\u001b[0m                                                                        \u001b]8;id=441902;file:///usr/local/google/home/codyfincher/Code/database-tools/oracle-database-assessment/src/server/dbma/transformer/engine.py\u001b\\\u001b[2mengine.py\u001b[0m\u001b]8;;\u001b\\\u001b[2m:\u001b[0m\u001b]8;id=627813;file:///usr/local/google/home/codyfincher/Code/database-tools/oracle-database-assessment/src/server/dbma/transformer/engine.py#94\u001b\\\u001b[2m94\u001b[0m\u001b]8;;\u001b\\\n"
      ]
     },
     "metadata": {},
     "output_type": "display_data"
    },
    {
     "data": {
      "text/html": [
       "<pre style=\"white-space:pre;overflow-x:auto;line-height:normal;font-family:Menlo,'DejaVu Sans Mono',consolas,'Courier New',monospace\"><span style=\"color: #7fbfbf; text-decoration-color: #7fbfbf\">[10/19/22 23:46:57] </span><span style=\"color: #000080; text-decoration-color: #000080\">INFO    </span> <span style=\"font-weight: bold\">[]</span>                                                                       <a href=\"file:///usr/local/google/home/codyfincher/Code/database-tools/oracle-database-assessment/src/server/dbma/transformer/engine.py\" target=\"_blank\"><span style=\"color: #7f7f7f; text-decoration-color: #7f7f7f\">engine.py</span></a><span style=\"color: #7f7f7f; text-decoration-color: #7f7f7f\">:</span><a href=\"file:///usr/local/google/home/codyfincher/Code/database-tools/oracle-database-assessment/src/server/dbma/transformer/engine.py#104\" target=\"_blank\"><span style=\"color: #7f7f7f; text-decoration-color: #7f7f7f\">104</span></a>\n",
       "</pre>\n"
      ],
      "text/plain": [
       "\u001b[2;36m[10/19/22 23:46:57]\u001b[0m\u001b[2;36m \u001b[0m\u001b[34mINFO    \u001b[0m \u001b[1m[\u001b[0m\u001b[1m]\u001b[0m                                                                       \u001b]8;id=748234;file:///usr/local/google/home/codyfincher/Code/database-tools/oracle-database-assessment/src/server/dbma/transformer/engine.py\u001b\\\u001b[2mengine.py\u001b[0m\u001b]8;;\u001b\\\u001b[2m:\u001b[0m\u001b]8;id=694138;file:///usr/local/google/home/codyfincher/Code/database-tools/oracle-database-assessment/src/server/dbma/transformer/engine.py#104\u001b\\\u001b[2m104\u001b[0m\u001b]8;;\u001b\\\n"
      ]
     },
     "metadata": {},
     "output_type": "display_data"
    },
    {
     "data": {
      "text/html": [
       "<pre style=\"white-space:pre;overflow-x:auto;line-height:normal;font-family:Menlo,'DejaVu Sans Mono',consolas,'Courier New',monospace\"><span style=\"color: #7fbfbf; text-decoration-color: #7fbfbf\">[10/19/22 23:46:57] </span><span style=\"color: #000080; text-decoration-color: #000080\">INFO    </span> executing preprocessing script pre_process_02_create_schema            <a href=\"file:///usr/local/google/home/codyfincher/Code/database-tools/oracle-database-assessment/src/server/dbma/database.py\" target=\"_blank\"><span style=\"color: #7f7f7f; text-decoration-color: #7f7f7f\">database.py</span></a><span style=\"color: #7f7f7f; text-decoration-color: #7f7f7f\">:</span><a href=\"file:///usr/local/google/home/codyfincher/Code/database-tools/oracle-database-assessment/src/server/dbma/database.py#184\" target=\"_blank\"><span style=\"color: #7f7f7f; text-decoration-color: #7f7f7f\">184</span></a>\n",
       "</pre>\n"
      ],
      "text/plain": [
       "\u001b[2;36m[10/19/22 23:46:57]\u001b[0m\u001b[2;36m \u001b[0m\u001b[34mINFO    \u001b[0m executing preprocessing script pre_process_02_create_schema            \u001b]8;id=936819;file:///usr/local/google/home/codyfincher/Code/database-tools/oracle-database-assessment/src/server/dbma/database.py\u001b\\\u001b[2mdatabase.py\u001b[0m\u001b]8;;\u001b\\\u001b[2m:\u001b[0m\u001b]8;id=656775;file:///usr/local/google/home/codyfincher/Code/database-tools/oracle-database-assessment/src/server/dbma/database.py#184\u001b\\\u001b[2m184\u001b[0m\u001b]8;;\u001b\\\n"
      ]
     },
     "metadata": {},
     "output_type": "display_data"
    },
    {
     "data": {
      "text/html": [
       "<pre style=\"white-space:pre;overflow-x:auto;line-height:normal;font-family:Menlo,'DejaVu Sans Mono',consolas,'Courier New',monospace\"><span style=\"color: #7fbfbf; text-decoration-color: #7fbfbf\">[10/19/22 23:46:57] </span><span style=\"color: #000080; text-decoration-color: #000080\">INFO    </span> <span style=\"color: #808000; text-decoration-color: #808000\">...</span> awr_hist_cmd_types  <span style=\"color: #008000; text-decoration-color: #008000; font-weight: bold\">SUCCESS</span> <span style=\"font-weight: bold\">[</span><span style=\"color: #008080; text-decoration-color: #008080; font-weight: bold\">447</span> <span style=\"color: #800080; text-decoration-color: #800080; font-weight: bold\">rows</span><span style=\"font-weight: bold\">(</span>s<span style=\"font-weight: bold\">)]</span>                          <a href=\"file:///usr/local/google/home/codyfincher/Code/database-tools/oracle-database-assessment/src/server/dbma/database.py\" target=\"_blank\"><span style=\"color: #7f7f7f; text-decoration-color: #7f7f7f\">database.py</span></a><span style=\"color: #7f7f7f; text-decoration-color: #7f7f7f\">:</span><a href=\"file:///usr/local/google/home/codyfincher/Code/database-tools/oracle-database-assessment/src/server/dbma/database.py#160\" target=\"_blank\"><span style=\"color: #7f7f7f; text-decoration-color: #7f7f7f\">160</span></a>\n",
       "</pre>\n"
      ],
      "text/plain": [
       "\u001b[2;36m[10/19/22 23:46:57]\u001b[0m\u001b[2;36m \u001b[0m\u001b[34mINFO    \u001b[0m \u001b[33m...\u001b[0m awr_hist_cmd_types  \u001b[1;32mSUCCESS\u001b[0m \u001b[1m[\u001b[0m\u001b[1;36m447\u001b[0m \u001b[1;35mrows\u001b[0m\u001b[1m(\u001b[0ms\u001b[1m)\u001b[0m\u001b[1m]\u001b[0m                          \u001b]8;id=83009;file:///usr/local/google/home/codyfincher/Code/database-tools/oracle-database-assessment/src/server/dbma/database.py\u001b\\\u001b[2mdatabase.py\u001b[0m\u001b]8;;\u001b\\\u001b[2m:\u001b[0m\u001b]8;id=577457;file:///usr/local/google/home/codyfincher/Code/database-tools/oracle-database-assessment/src/server/dbma/database.py#160\u001b\\\u001b[2m160\u001b[0m\u001b]8;;\u001b\\\n"
      ]
     },
     "metadata": {},
     "output_type": "display_data"
    },
    {
     "data": {
      "text/html": [
       "<pre style=\"white-space:pre;overflow-x:auto;line-height:normal;font-family:Menlo,'DejaVu Sans Mono',consolas,'Courier New',monospace\"><span style=\"color: #7fbfbf; text-decoration-color: #7fbfbf\">[10/19/22 23:46:57] </span><span style=\"color: #000080; text-decoration-color: #000080\">INFO    </span> <span style=\"color: #808000; text-decoration-color: #808000\">...</span> awr_hist_os_stat  <span style=\"color: #008000; text-decoration-color: #008000; font-weight: bold\">SUCCESS</span> <span style=\"font-weight: bold\">[</span><span style=\"color: #008080; text-decoration-color: #008080; font-weight: bold\">1200</span> <span style=\"color: #800080; text-decoration-color: #800080; font-weight: bold\">rows</span><span style=\"font-weight: bold\">(</span>s<span style=\"font-weight: bold\">)]</span>                           <a href=\"file:///usr/local/google/home/codyfincher/Code/database-tools/oracle-database-assessment/src/server/dbma/database.py\" target=\"_blank\"><span style=\"color: #7f7f7f; text-decoration-color: #7f7f7f\">database.py</span></a><span style=\"color: #7f7f7f; text-decoration-color: #7f7f7f\">:</span><a href=\"file:///usr/local/google/home/codyfincher/Code/database-tools/oracle-database-assessment/src/server/dbma/database.py#160\" target=\"_blank\"><span style=\"color: #7f7f7f; text-decoration-color: #7f7f7f\">160</span></a>\n",
       "</pre>\n"
      ],
      "text/plain": [
       "\u001b[2;36m[10/19/22 23:46:57]\u001b[0m\u001b[2;36m \u001b[0m\u001b[34mINFO    \u001b[0m \u001b[33m...\u001b[0m awr_hist_os_stat  \u001b[1;32mSUCCESS\u001b[0m \u001b[1m[\u001b[0m\u001b[1;36m1200\u001b[0m \u001b[1;35mrows\u001b[0m\u001b[1m(\u001b[0ms\u001b[1m)\u001b[0m\u001b[1m]\u001b[0m                           \u001b]8;id=268304;file:///usr/local/google/home/codyfincher/Code/database-tools/oracle-database-assessment/src/server/dbma/database.py\u001b\\\u001b[2mdatabase.py\u001b[0m\u001b]8;;\u001b\\\u001b[2m:\u001b[0m\u001b]8;id=242280;file:///usr/local/google/home/codyfincher/Code/database-tools/oracle-database-assessment/src/server/dbma/database.py#160\u001b\\\u001b[2m160\u001b[0m\u001b]8;;\u001b\\\n"
      ]
     },
     "metadata": {},
     "output_type": "display_data"
    },
    {
     "data": {
      "text/html": [
       "<pre style=\"white-space:pre;overflow-x:auto;line-height:normal;font-family:Menlo,'DejaVu Sans Mono',consolas,'Courier New',monospace\"><span style=\"color: #7fbfbf; text-decoration-color: #7fbfbf\">[10/19/22 23:46:57] </span><span style=\"color: #000080; text-decoration-color: #000080\">INFO    </span> <span style=\"color: #808000; text-decoration-color: #808000\">...</span> awr_hist_sys_metric_hist  <span style=\"color: #008000; text-decoration-color: #008000; font-weight: bold\">SUCCESS</span> <span style=\"font-weight: bold\">[</span><span style=\"color: #008080; text-decoration-color: #008080; font-weight: bold\">1104</span> <span style=\"color: #800080; text-decoration-color: #800080; font-weight: bold\">rows</span><span style=\"font-weight: bold\">(</span>s<span style=\"font-weight: bold\">)]</span>                   <a href=\"file:///usr/local/google/home/codyfincher/Code/database-tools/oracle-database-assessment/src/server/dbma/database.py\" target=\"_blank\"><span style=\"color: #7f7f7f; text-decoration-color: #7f7f7f\">database.py</span></a><span style=\"color: #7f7f7f; text-decoration-color: #7f7f7f\">:</span><a href=\"file:///usr/local/google/home/codyfincher/Code/database-tools/oracle-database-assessment/src/server/dbma/database.py#160\" target=\"_blank\"><span style=\"color: #7f7f7f; text-decoration-color: #7f7f7f\">160</span></a>\n",
       "</pre>\n"
      ],
      "text/plain": [
       "\u001b[2;36m[10/19/22 23:46:57]\u001b[0m\u001b[2;36m \u001b[0m\u001b[34mINFO    \u001b[0m \u001b[33m...\u001b[0m awr_hist_sys_metric_hist  \u001b[1;32mSUCCESS\u001b[0m \u001b[1m[\u001b[0m\u001b[1;36m1104\u001b[0m \u001b[1;35mrows\u001b[0m\u001b[1m(\u001b[0ms\u001b[1m)\u001b[0m\u001b[1m]\u001b[0m                   \u001b]8;id=205535;file:///usr/local/google/home/codyfincher/Code/database-tools/oracle-database-assessment/src/server/dbma/database.py\u001b\\\u001b[2mdatabase.py\u001b[0m\u001b]8;;\u001b\\\u001b[2m:\u001b[0m\u001b]8;id=497750;file:///usr/local/google/home/codyfincher/Code/database-tools/oracle-database-assessment/src/server/dbma/database.py#160\u001b\\\u001b[2m160\u001b[0m\u001b]8;;\u001b\\\n"
      ]
     },
     "metadata": {},
     "output_type": "display_data"
    },
    {
     "data": {
      "text/html": [
       "<pre style=\"white-space:pre;overflow-x:auto;line-height:normal;font-family:Menlo,'DejaVu Sans Mono',consolas,'Courier New',monospace\"><span style=\"color: #7fbfbf; text-decoration-color: #7fbfbf\">[10/19/22 23:46:58] </span><span style=\"color: #000080; text-decoration-color: #000080\">INFO    </span> <span style=\"color: #808000; text-decoration-color: #808000\">...</span> awr_hist_sys_metric_summary  <span style=\"color: #008000; text-decoration-color: #008000; font-weight: bold\">SUCCESS</span> <span style=\"font-weight: bold\">[</span><span style=\"color: #008080; text-decoration-color: #008080; font-weight: bold\">7728</span> <span style=\"color: #800080; text-decoration-color: #800080; font-weight: bold\">rows</span><span style=\"font-weight: bold\">(</span>s<span style=\"font-weight: bold\">)]</span>                <a href=\"file:///usr/local/google/home/codyfincher/Code/database-tools/oracle-database-assessment/src/server/dbma/database.py\" target=\"_blank\"><span style=\"color: #7f7f7f; text-decoration-color: #7f7f7f\">database.py</span></a><span style=\"color: #7f7f7f; text-decoration-color: #7f7f7f\">:</span><a href=\"file:///usr/local/google/home/codyfincher/Code/database-tools/oracle-database-assessment/src/server/dbma/database.py#160\" target=\"_blank\"><span style=\"color: #7f7f7f; text-decoration-color: #7f7f7f\">160</span></a>\n",
       "</pre>\n"
      ],
      "text/plain": [
       "\u001b[2;36m[10/19/22 23:46:58]\u001b[0m\u001b[2;36m \u001b[0m\u001b[34mINFO    \u001b[0m \u001b[33m...\u001b[0m awr_hist_sys_metric_summary  \u001b[1;32mSUCCESS\u001b[0m \u001b[1m[\u001b[0m\u001b[1;36m7728\u001b[0m \u001b[1;35mrows\u001b[0m\u001b[1m(\u001b[0ms\u001b[1m)\u001b[0m\u001b[1m]\u001b[0m                \u001b]8;id=632480;file:///usr/local/google/home/codyfincher/Code/database-tools/oracle-database-assessment/src/server/dbma/database.py\u001b\\\u001b[2mdatabase.py\u001b[0m\u001b]8;;\u001b\\\u001b[2m:\u001b[0m\u001b]8;id=234296;file:///usr/local/google/home/codyfincher/Code/database-tools/oracle-database-assessment/src/server/dbma/database.py#160\u001b\\\u001b[2m160\u001b[0m\u001b]8;;\u001b\\\n"
      ]
     },
     "metadata": {},
     "output_type": "display_data"
    },
    {
     "data": {
      "text/html": [
       "<pre style=\"white-space:pre;overflow-x:auto;line-height:normal;font-family:Menlo,'DejaVu Sans Mono',consolas,'Courier New',monospace\"><span style=\"color: #7fbfbf; text-decoration-color: #7fbfbf\">[10/19/22 23:46:58] </span><span style=\"color: #000080; text-decoration-color: #000080\">INFO    </span> <span style=\"color: #808000; text-decoration-color: #808000\">...</span> awr_snap_details  <span style=\"color: #008000; text-decoration-color: #008000; font-weight: bold\">SUCCESS</span> <span style=\"font-weight: bold\">[</span><span style=\"color: #008080; text-decoration-color: #008080; font-weight: bold\">48</span> <span style=\"color: #800080; text-decoration-color: #800080; font-weight: bold\">rows</span><span style=\"font-weight: bold\">(</span>s<span style=\"font-weight: bold\">)]</span>                             <a href=\"file:///usr/local/google/home/codyfincher/Code/database-tools/oracle-database-assessment/src/server/dbma/database.py\" target=\"_blank\"><span style=\"color: #7f7f7f; text-decoration-color: #7f7f7f\">database.py</span></a><span style=\"color: #7f7f7f; text-decoration-color: #7f7f7f\">:</span><a href=\"file:///usr/local/google/home/codyfincher/Code/database-tools/oracle-database-assessment/src/server/dbma/database.py#160\" target=\"_blank\"><span style=\"color: #7f7f7f; text-decoration-color: #7f7f7f\">160</span></a>\n",
       "</pre>\n"
      ],
      "text/plain": [
       "\u001b[2;36m[10/19/22 23:46:58]\u001b[0m\u001b[2;36m \u001b[0m\u001b[34mINFO    \u001b[0m \u001b[33m...\u001b[0m awr_snap_details  \u001b[1;32mSUCCESS\u001b[0m \u001b[1m[\u001b[0m\u001b[1;36m48\u001b[0m \u001b[1;35mrows\u001b[0m\u001b[1m(\u001b[0ms\u001b[1m)\u001b[0m\u001b[1m]\u001b[0m                             \u001b]8;id=237707;file:///usr/local/google/home/codyfincher/Code/database-tools/oracle-database-assessment/src/server/dbma/database.py\u001b\\\u001b[2mdatabase.py\u001b[0m\u001b]8;;\u001b\\\u001b[2m:\u001b[0m\u001b]8;id=219766;file:///usr/local/google/home/codyfincher/Code/database-tools/oracle-database-assessment/src/server/dbma/database.py#160\u001b\\\u001b[2m160\u001b[0m\u001b]8;;\u001b\\\n"
      ]
     },
     "metadata": {},
     "output_type": "display_data"
    },
    {
     "data": {
      "text/html": [
       "<pre style=\"white-space:pre;overflow-x:auto;line-height:normal;font-family:Menlo,'DejaVu Sans Mono',consolas,'Courier New',monospace\"><span style=\"color: #7fbfbf; text-decoration-color: #7fbfbf\">[10/19/22 23:46:58] </span><span style=\"color: #000080; text-decoration-color: #000080\">INFO    </span> <span style=\"color: #808000; text-decoration-color: #808000\">...</span> db_compression_by_type  <span style=\"color: #7f7f7f; text-decoration-color: #7f7f7f; font-weight: bold\">SKIPPED</span>                                    <a href=\"file:///usr/local/google/home/codyfincher/Code/database-tools/oracle-database-assessment/src/server/dbma/database.py\" target=\"_blank\"><span style=\"color: #7f7f7f; text-decoration-color: #7f7f7f\">database.py</span></a><span style=\"color: #7f7f7f; text-decoration-color: #7f7f7f\">:</span><a href=\"file:///usr/local/google/home/codyfincher/Code/database-tools/oracle-database-assessment/src/server/dbma/database.py#163\" target=\"_blank\"><span style=\"color: #7f7f7f; text-decoration-color: #7f7f7f\">163</span></a>\n",
       "</pre>\n"
      ],
      "text/plain": [
       "\u001b[2;36m[10/19/22 23:46:58]\u001b[0m\u001b[2;36m \u001b[0m\u001b[34mINFO    \u001b[0m \u001b[33m...\u001b[0m db_compression_by_type  \u001b[1;2mSKIPPED\u001b[0m                                    \u001b]8;id=136769;file:///usr/local/google/home/codyfincher/Code/database-tools/oracle-database-assessment/src/server/dbma/database.py\u001b\\\u001b[2mdatabase.py\u001b[0m\u001b]8;;\u001b\\\u001b[2m:\u001b[0m\u001b]8;id=276175;file:///usr/local/google/home/codyfincher/Code/database-tools/oracle-database-assessment/src/server/dbma/database.py#163\u001b\\\u001b[2m163\u001b[0m\u001b]8;;\u001b\\\n"
      ]
     },
     "metadata": {},
     "output_type": "display_data"
    },
    {
     "data": {
      "text/html": [
       "<pre style=\"white-space:pre;overflow-x:auto;line-height:normal;font-family:Menlo,'DejaVu Sans Mono',consolas,'Courier New',monospace\"><span style=\"color: #7fbfbf; text-decoration-color: #7fbfbf\">[10/19/22 23:46:58] </span><span style=\"color: #000080; text-decoration-color: #000080\">INFO    </span> <span style=\"color: #808000; text-decoration-color: #808000\">...</span> db_cpu_core_usage  <span style=\"color: #008000; text-decoration-color: #008000; font-weight: bold\">SUCCESS</span> <span style=\"font-weight: bold\">[</span><span style=\"color: #008080; text-decoration-color: #008080; font-weight: bold\">6</span> <span style=\"color: #800080; text-decoration-color: #800080; font-weight: bold\">rows</span><span style=\"font-weight: bold\">(</span>s<span style=\"font-weight: bold\">)]</span>                             <a href=\"file:///usr/local/google/home/codyfincher/Code/database-tools/oracle-database-assessment/src/server/dbma/database.py\" target=\"_blank\"><span style=\"color: #7f7f7f; text-decoration-color: #7f7f7f\">database.py</span></a><span style=\"color: #7f7f7f; text-decoration-color: #7f7f7f\">:</span><a href=\"file:///usr/local/google/home/codyfincher/Code/database-tools/oracle-database-assessment/src/server/dbma/database.py#160\" target=\"_blank\"><span style=\"color: #7f7f7f; text-decoration-color: #7f7f7f\">160</span></a>\n",
       "</pre>\n"
      ],
      "text/plain": [
       "\u001b[2;36m[10/19/22 23:46:58]\u001b[0m\u001b[2;36m \u001b[0m\u001b[34mINFO    \u001b[0m \u001b[33m...\u001b[0m db_cpu_core_usage  \u001b[1;32mSUCCESS\u001b[0m \u001b[1m[\u001b[0m\u001b[1;36m6\u001b[0m \u001b[1;35mrows\u001b[0m\u001b[1m(\u001b[0ms\u001b[1m)\u001b[0m\u001b[1m]\u001b[0m                             \u001b]8;id=182430;file:///usr/local/google/home/codyfincher/Code/database-tools/oracle-database-assessment/src/server/dbma/database.py\u001b\\\u001b[2mdatabase.py\u001b[0m\u001b]8;;\u001b\\\u001b[2m:\u001b[0m\u001b]8;id=930696;file:///usr/local/google/home/codyfincher/Code/database-tools/oracle-database-assessment/src/server/dbma/database.py#160\u001b\\\u001b[2m160\u001b[0m\u001b]8;;\u001b\\\n"
      ]
     },
     "metadata": {},
     "output_type": "display_data"
    },
    {
     "data": {
      "text/html": [
       "<pre style=\"white-space:pre;overflow-x:auto;line-height:normal;font-family:Menlo,'DejaVu Sans Mono',consolas,'Courier New',monospace\"><span style=\"color: #7fbfbf; text-decoration-color: #7fbfbf\">[10/19/22 23:46:58] </span><span style=\"color: #000080; text-decoration-color: #000080\">INFO    </span> <span style=\"color: #808000; text-decoration-color: #808000\">...</span> db_dataguard  <span style=\"color: #008000; text-decoration-color: #008000; font-weight: bold\">SUCCESS</span> <span style=\"font-weight: bold\">[</span><span style=\"color: #008080; text-decoration-color: #008080; font-weight: bold\">2</span> <span style=\"color: #800080; text-decoration-color: #800080; font-weight: bold\">rows</span><span style=\"font-weight: bold\">(</span>s<span style=\"font-weight: bold\">)]</span>                                  <a href=\"file:///usr/local/google/home/codyfincher/Code/database-tools/oracle-database-assessment/src/server/dbma/database.py\" target=\"_blank\"><span style=\"color: #7f7f7f; text-decoration-color: #7f7f7f\">database.py</span></a><span style=\"color: #7f7f7f; text-decoration-color: #7f7f7f\">:</span><a href=\"file:///usr/local/google/home/codyfincher/Code/database-tools/oracle-database-assessment/src/server/dbma/database.py#160\" target=\"_blank\"><span style=\"color: #7f7f7f; text-decoration-color: #7f7f7f\">160</span></a>\n",
       "</pre>\n"
      ],
      "text/plain": [
       "\u001b[2;36m[10/19/22 23:46:58]\u001b[0m\u001b[2;36m \u001b[0m\u001b[34mINFO    \u001b[0m \u001b[33m...\u001b[0m db_dataguard  \u001b[1;32mSUCCESS\u001b[0m \u001b[1m[\u001b[0m\u001b[1;36m2\u001b[0m \u001b[1;35mrows\u001b[0m\u001b[1m(\u001b[0ms\u001b[1m)\u001b[0m\u001b[1m]\u001b[0m                                  \u001b]8;id=650941;file:///usr/local/google/home/codyfincher/Code/database-tools/oracle-database-assessment/src/server/dbma/database.py\u001b\\\u001b[2mdatabase.py\u001b[0m\u001b]8;;\u001b\\\u001b[2m:\u001b[0m\u001b]8;id=264372;file:///usr/local/google/home/codyfincher/Code/database-tools/oracle-database-assessment/src/server/dbma/database.py#160\u001b\\\u001b[2m160\u001b[0m\u001b]8;;\u001b\\\n"
      ]
     },
     "metadata": {},
     "output_type": "display_data"
    },
    {
     "data": {
      "text/html": [
       "<pre style=\"white-space:pre;overflow-x:auto;line-height:normal;font-family:Menlo,'DejaVu Sans Mono',consolas,'Courier New',monospace\"><span style=\"color: #7fbfbf; text-decoration-color: #7fbfbf\">[10/19/22 23:46:58] </span><span style=\"color: #000080; text-decoration-color: #000080\">INFO    </span> <span style=\"color: #808000; text-decoration-color: #808000\">...</span> db_data_types  <span style=\"color: #008000; text-decoration-color: #008000; font-weight: bold\">SUCCESS</span> <span style=\"font-weight: bold\">[</span><span style=\"color: #008080; text-decoration-color: #008080; font-weight: bold\">20</span> <span style=\"color: #800080; text-decoration-color: #800080; font-weight: bold\">rows</span><span style=\"font-weight: bold\">(</span>s<span style=\"font-weight: bold\">)]</span>                                <a href=\"file:///usr/local/google/home/codyfincher/Code/database-tools/oracle-database-assessment/src/server/dbma/database.py\" target=\"_blank\"><span style=\"color: #7f7f7f; text-decoration-color: #7f7f7f\">database.py</span></a><span style=\"color: #7f7f7f; text-decoration-color: #7f7f7f\">:</span><a href=\"file:///usr/local/google/home/codyfincher/Code/database-tools/oracle-database-assessment/src/server/dbma/database.py#160\" target=\"_blank\"><span style=\"color: #7f7f7f; text-decoration-color: #7f7f7f\">160</span></a>\n",
       "</pre>\n"
      ],
      "text/plain": [
       "\u001b[2;36m[10/19/22 23:46:58]\u001b[0m\u001b[2;36m \u001b[0m\u001b[34mINFO    \u001b[0m \u001b[33m...\u001b[0m db_data_types  \u001b[1;32mSUCCESS\u001b[0m \u001b[1m[\u001b[0m\u001b[1;36m20\u001b[0m \u001b[1;35mrows\u001b[0m\u001b[1m(\u001b[0ms\u001b[1m)\u001b[0m\u001b[1m]\u001b[0m                                \u001b]8;id=825577;file:///usr/local/google/home/codyfincher/Code/database-tools/oracle-database-assessment/src/server/dbma/database.py\u001b\\\u001b[2mdatabase.py\u001b[0m\u001b]8;;\u001b\\\u001b[2m:\u001b[0m\u001b]8;id=639657;file:///usr/local/google/home/codyfincher/Code/database-tools/oracle-database-assessment/src/server/dbma/database.py#160\u001b\\\u001b[2m160\u001b[0m\u001b]8;;\u001b\\\n"
      ]
     },
     "metadata": {},
     "output_type": "display_data"
    },
    {
     "data": {
      "text/html": [
       "<pre style=\"white-space:pre;overflow-x:auto;line-height:normal;font-family:Menlo,'DejaVu Sans Mono',consolas,'Courier New',monospace\"><span style=\"color: #7fbfbf; text-decoration-color: #7fbfbf\">[10/19/22 23:46:58] </span><span style=\"color: #000080; text-decoration-color: #000080\">INFO    </span> <span style=\"color: #808000; text-decoration-color: #808000\">...</span> dba_hist_sys_stat  <span style=\"color: #008000; text-decoration-color: #008000; font-weight: bold\">SUCCESS</span> <span style=\"font-weight: bold\">[</span><span style=\"color: #008080; text-decoration-color: #008080; font-weight: bold\">7488</span> <span style=\"color: #800080; text-decoration-color: #800080; font-weight: bold\">rows</span><span style=\"font-weight: bold\">(</span>s<span style=\"font-weight: bold\">)]</span>                          <a href=\"file:///usr/local/google/home/codyfincher/Code/database-tools/oracle-database-assessment/src/server/dbma/database.py\" target=\"_blank\"><span style=\"color: #7f7f7f; text-decoration-color: #7f7f7f\">database.py</span></a><span style=\"color: #7f7f7f; text-decoration-color: #7f7f7f\">:</span><a href=\"file:///usr/local/google/home/codyfincher/Code/database-tools/oracle-database-assessment/src/server/dbma/database.py#160\" target=\"_blank\"><span style=\"color: #7f7f7f; text-decoration-color: #7f7f7f\">160</span></a>\n",
       "</pre>\n"
      ],
      "text/plain": [
       "\u001b[2;36m[10/19/22 23:46:58]\u001b[0m\u001b[2;36m \u001b[0m\u001b[34mINFO    \u001b[0m \u001b[33m...\u001b[0m dba_hist_sys_stat  \u001b[1;32mSUCCESS\u001b[0m \u001b[1m[\u001b[0m\u001b[1;36m7488\u001b[0m \u001b[1;35mrows\u001b[0m\u001b[1m(\u001b[0ms\u001b[1m)\u001b[0m\u001b[1m]\u001b[0m                          \u001b]8;id=775494;file:///usr/local/google/home/codyfincher/Code/database-tools/oracle-database-assessment/src/server/dbma/database.py\u001b\\\u001b[2mdatabase.py\u001b[0m\u001b]8;;\u001b\\\u001b[2m:\u001b[0m\u001b]8;id=630620;file:///usr/local/google/home/codyfincher/Code/database-tools/oracle-database-assessment/src/server/dbma/database.py#160\u001b\\\u001b[2m160\u001b[0m\u001b]8;;\u001b\\\n"
      ]
     },
     "metadata": {},
     "output_type": "display_data"
    },
    {
     "data": {
      "text/html": [
       "<pre style=\"white-space:pre;overflow-x:auto;line-height:normal;font-family:Menlo,'DejaVu Sans Mono',consolas,'Courier New',monospace\"><span style=\"color: #7fbfbf; text-decoration-color: #7fbfbf\">[10/19/22 23:46:58] </span><span style=\"color: #000080; text-decoration-color: #000080\">INFO    </span> <span style=\"color: #808000; text-decoration-color: #808000\">...</span> dba_hist_sys_time_model  <span style=\"color: #008000; text-decoration-color: #008000; font-weight: bold\">SUCCESS</span> <span style=\"font-weight: bold\">[</span><span style=\"color: #008080; text-decoration-color: #008080; font-weight: bold\">1488</span> <span style=\"color: #800080; text-decoration-color: #800080; font-weight: bold\">rows</span><span style=\"font-weight: bold\">(</span>s<span style=\"font-weight: bold\">)]</span>                    <a href=\"file:///usr/local/google/home/codyfincher/Code/database-tools/oracle-database-assessment/src/server/dbma/database.py\" target=\"_blank\"><span style=\"color: #7f7f7f; text-decoration-color: #7f7f7f\">database.py</span></a><span style=\"color: #7f7f7f; text-decoration-color: #7f7f7f\">:</span><a href=\"file:///usr/local/google/home/codyfincher/Code/database-tools/oracle-database-assessment/src/server/dbma/database.py#160\" target=\"_blank\"><span style=\"color: #7f7f7f; text-decoration-color: #7f7f7f\">160</span></a>\n",
       "</pre>\n"
      ],
      "text/plain": [
       "\u001b[2;36m[10/19/22 23:46:58]\u001b[0m\u001b[2;36m \u001b[0m\u001b[34mINFO    \u001b[0m \u001b[33m...\u001b[0m dba_hist_sys_time_model  \u001b[1;32mSUCCESS\u001b[0m \u001b[1m[\u001b[0m\u001b[1;36m1488\u001b[0m \u001b[1;35mrows\u001b[0m\u001b[1m(\u001b[0ms\u001b[1m)\u001b[0m\u001b[1m]\u001b[0m                    \u001b]8;id=191327;file:///usr/local/google/home/codyfincher/Code/database-tools/oracle-database-assessment/src/server/dbma/database.py\u001b\\\u001b[2mdatabase.py\u001b[0m\u001b]8;;\u001b\\\u001b[2m:\u001b[0m\u001b]8;id=339523;file:///usr/local/google/home/codyfincher/Code/database-tools/oracle-database-assessment/src/server/dbma/database.py#160\u001b\\\u001b[2m160\u001b[0m\u001b]8;;\u001b\\\n"
      ]
     },
     "metadata": {},
     "output_type": "display_data"
    },
    {
     "data": {
      "text/html": [
       "<pre style=\"white-space:pre;overflow-x:auto;line-height:normal;font-family:Menlo,'DejaVu Sans Mono',consolas,'Courier New',monospace\"><span style=\"color: #7fbfbf; text-decoration-color: #7fbfbf\">[10/19/22 23:46:58] </span><span style=\"color: #000080; text-decoration-color: #000080\">INFO    </span> <span style=\"color: #808000; text-decoration-color: #808000\">...</span> db_features  <span style=\"color: #008000; text-decoration-color: #008000; font-weight: bold\">SUCCESS</span> <span style=\"font-weight: bold\">[</span><span style=\"color: #008080; text-decoration-color: #008080; font-weight: bold\">1215</span> <span style=\"color: #800080; text-decoration-color: #800080; font-weight: bold\">rows</span><span style=\"font-weight: bold\">(</span>s<span style=\"font-weight: bold\">)]</span>                                <a href=\"file:///usr/local/google/home/codyfincher/Code/database-tools/oracle-database-assessment/src/server/dbma/database.py\" target=\"_blank\"><span style=\"color: #7f7f7f; text-decoration-color: #7f7f7f\">database.py</span></a><span style=\"color: #7f7f7f; text-decoration-color: #7f7f7f\">:</span><a href=\"file:///usr/local/google/home/codyfincher/Code/database-tools/oracle-database-assessment/src/server/dbma/database.py#160\" target=\"_blank\"><span style=\"color: #7f7f7f; text-decoration-color: #7f7f7f\">160</span></a>\n",
       "</pre>\n"
      ],
      "text/plain": [
       "\u001b[2;36m[10/19/22 23:46:58]\u001b[0m\u001b[2;36m \u001b[0m\u001b[34mINFO    \u001b[0m \u001b[33m...\u001b[0m db_features  \u001b[1;32mSUCCESS\u001b[0m \u001b[1m[\u001b[0m\u001b[1;36m1215\u001b[0m \u001b[1;35mrows\u001b[0m\u001b[1m(\u001b[0ms\u001b[1m)\u001b[0m\u001b[1m]\u001b[0m                                \u001b]8;id=567620;file:///usr/local/google/home/codyfincher/Code/database-tools/oracle-database-assessment/src/server/dbma/database.py\u001b\\\u001b[2mdatabase.py\u001b[0m\u001b]8;;\u001b\\\u001b[2m:\u001b[0m\u001b]8;id=601831;file:///usr/local/google/home/codyfincher/Code/database-tools/oracle-database-assessment/src/server/dbma/database.py#160\u001b\\\u001b[2m160\u001b[0m\u001b]8;;\u001b\\\n"
      ]
     },
     "metadata": {},
     "output_type": "display_data"
    },
    {
     "data": {
      "text/html": [
       "<pre style=\"white-space:pre;overflow-x:auto;line-height:normal;font-family:Menlo,'DejaVu Sans Mono',consolas,'Courier New',monospace\"><span style=\"color: #7fbfbf; text-decoration-color: #7fbfbf\">[10/19/22 23:46:58] </span><span style=\"color: #000080; text-decoration-color: #000080\">INFO    </span> <span style=\"color: #808000; text-decoration-color: #808000\">...</span> db_high_water_stats  <span style=\"color: #008000; text-decoration-color: #008000; font-weight: bold\">SUCCESS</span> <span style=\"font-weight: bold\">[</span><span style=\"color: #008080; text-decoration-color: #008080; font-weight: bold\">21</span> <span style=\"color: #800080; text-decoration-color: #800080; font-weight: bold\">rows</span><span style=\"font-weight: bold\">(</span>s<span style=\"font-weight: bold\">)]</span>                          <a href=\"file:///usr/local/google/home/codyfincher/Code/database-tools/oracle-database-assessment/src/server/dbma/database.py\" target=\"_blank\"><span style=\"color: #7f7f7f; text-decoration-color: #7f7f7f\">database.py</span></a><span style=\"color: #7f7f7f; text-decoration-color: #7f7f7f\">:</span><a href=\"file:///usr/local/google/home/codyfincher/Code/database-tools/oracle-database-assessment/src/server/dbma/database.py#160\" target=\"_blank\"><span style=\"color: #7f7f7f; text-decoration-color: #7f7f7f\">160</span></a>\n",
       "</pre>\n"
      ],
      "text/plain": [
       "\u001b[2;36m[10/19/22 23:46:58]\u001b[0m\u001b[2;36m \u001b[0m\u001b[34mINFO    \u001b[0m \u001b[33m...\u001b[0m db_high_water_stats  \u001b[1;32mSUCCESS\u001b[0m \u001b[1m[\u001b[0m\u001b[1;36m21\u001b[0m \u001b[1;35mrows\u001b[0m\u001b[1m(\u001b[0ms\u001b[1m)\u001b[0m\u001b[1m]\u001b[0m                          \u001b]8;id=714005;file:///usr/local/google/home/codyfincher/Code/database-tools/oracle-database-assessment/src/server/dbma/database.py\u001b\\\u001b[2mdatabase.py\u001b[0m\u001b]8;;\u001b\\\u001b[2m:\u001b[0m\u001b]8;id=143433;file:///usr/local/google/home/codyfincher/Code/database-tools/oracle-database-assessment/src/server/dbma/database.py#160\u001b\\\u001b[2m160\u001b[0m\u001b]8;;\u001b\\\n"
      ]
     },
     "metadata": {},
     "output_type": "display_data"
    },
    {
     "data": {
      "text/html": [
       "<pre style=\"white-space:pre;overflow-x:auto;line-height:normal;font-family:Menlo,'DejaVu Sans Mono',consolas,'Courier New',monospace\"><span style=\"color: #7fbfbf; text-decoration-color: #7fbfbf\">[10/19/22 23:46:58] </span><span style=\"color: #000080; text-decoration-color: #000080\">INFO    </span> <span style=\"color: #808000; text-decoration-color: #808000\">...</span> db_instances  <span style=\"color: #008000; text-decoration-color: #008000; font-weight: bold\">SUCCESS</span> <span style=\"font-weight: bold\">[</span><span style=\"color: #008080; text-decoration-color: #008080; font-weight: bold\">1</span> <span style=\"color: #800080; text-decoration-color: #800080; font-weight: bold\">rows</span><span style=\"font-weight: bold\">(</span>s<span style=\"font-weight: bold\">)]</span>                                  <a href=\"file:///usr/local/google/home/codyfincher/Code/database-tools/oracle-database-assessment/src/server/dbma/database.py\" target=\"_blank\"><span style=\"color: #7f7f7f; text-decoration-color: #7f7f7f\">database.py</span></a><span style=\"color: #7f7f7f; text-decoration-color: #7f7f7f\">:</span><a href=\"file:///usr/local/google/home/codyfincher/Code/database-tools/oracle-database-assessment/src/server/dbma/database.py#160\" target=\"_blank\"><span style=\"color: #7f7f7f; text-decoration-color: #7f7f7f\">160</span></a>\n",
       "</pre>\n"
      ],
      "text/plain": [
       "\u001b[2;36m[10/19/22 23:46:58]\u001b[0m\u001b[2;36m \u001b[0m\u001b[34mINFO    \u001b[0m \u001b[33m...\u001b[0m db_instances  \u001b[1;32mSUCCESS\u001b[0m \u001b[1m[\u001b[0m\u001b[1;36m1\u001b[0m \u001b[1;35mrows\u001b[0m\u001b[1m(\u001b[0ms\u001b[1m)\u001b[0m\u001b[1m]\u001b[0m                                  \u001b]8;id=391037;file:///usr/local/google/home/codyfincher/Code/database-tools/oracle-database-assessment/src/server/dbma/database.py\u001b\\\u001b[2mdatabase.py\u001b[0m\u001b]8;;\u001b\\\u001b[2m:\u001b[0m\u001b]8;id=566013;file:///usr/local/google/home/codyfincher/Code/database-tools/oracle-database-assessment/src/server/dbma/database.py#160\u001b\\\u001b[2m160\u001b[0m\u001b]8;;\u001b\\\n"
      ]
     },
     "metadata": {},
     "output_type": "display_data"
    },
    {
     "data": {
      "text/html": [
       "<pre style=\"white-space:pre;overflow-x:auto;line-height:normal;font-family:Menlo,'DejaVu Sans Mono',consolas,'Courier New',monospace\"><span style=\"color: #7fbfbf; text-decoration-color: #7fbfbf\">[10/19/22 23:46:58] </span><span style=\"color: #000080; text-decoration-color: #000080\">INFO    </span> <span style=\"color: #808000; text-decoration-color: #808000\">...</span> db_links  <span style=\"color: #008000; text-decoration-color: #008000; font-weight: bold\">SUCCESS</span> <span style=\"font-weight: bold\">[</span><span style=\"color: #008080; text-decoration-color: #008080; font-weight: bold\">3</span> <span style=\"color: #800080; text-decoration-color: #800080; font-weight: bold\">rows</span><span style=\"font-weight: bold\">(</span>s<span style=\"font-weight: bold\">)]</span>                                      <a href=\"file:///usr/local/google/home/codyfincher/Code/database-tools/oracle-database-assessment/src/server/dbma/database.py\" target=\"_blank\"><span style=\"color: #7f7f7f; text-decoration-color: #7f7f7f\">database.py</span></a><span style=\"color: #7f7f7f; text-decoration-color: #7f7f7f\">:</span><a href=\"file:///usr/local/google/home/codyfincher/Code/database-tools/oracle-database-assessment/src/server/dbma/database.py#160\" target=\"_blank\"><span style=\"color: #7f7f7f; text-decoration-color: #7f7f7f\">160</span></a>\n",
       "</pre>\n"
      ],
      "text/plain": [
       "\u001b[2;36m[10/19/22 23:46:58]\u001b[0m\u001b[2;36m \u001b[0m\u001b[34mINFO    \u001b[0m \u001b[33m...\u001b[0m db_links  \u001b[1;32mSUCCESS\u001b[0m \u001b[1m[\u001b[0m\u001b[1;36m3\u001b[0m \u001b[1;35mrows\u001b[0m\u001b[1m(\u001b[0ms\u001b[1m)\u001b[0m\u001b[1m]\u001b[0m                                      \u001b]8;id=150424;file:///usr/local/google/home/codyfincher/Code/database-tools/oracle-database-assessment/src/server/dbma/database.py\u001b\\\u001b[2mdatabase.py\u001b[0m\u001b]8;;\u001b\\\u001b[2m:\u001b[0m\u001b]8;id=259234;file:///usr/local/google/home/codyfincher/Code/database-tools/oracle-database-assessment/src/server/dbma/database.py#160\u001b\\\u001b[2m160\u001b[0m\u001b]8;;\u001b\\\n"
      ]
     },
     "metadata": {},
     "output_type": "display_data"
    },
    {
     "data": {
      "text/html": [
       "<pre style=\"white-space:pre;overflow-x:auto;line-height:normal;font-family:Menlo,'DejaVu Sans Mono',consolas,'Courier New',monospace\"><span style=\"color: #7fbfbf; text-decoration-color: #7fbfbf\">[10/19/22 23:46:58] </span><span style=\"color: #000080; text-decoration-color: #000080\">INFO    </span> <span style=\"color: #808000; text-decoration-color: #808000\">...</span> db_objects  <span style=\"color: #008000; text-decoration-color: #008000; font-weight: bold\">SUCCESS</span> <span style=\"font-weight: bold\">[</span><span style=\"color: #008080; text-decoration-color: #008080; font-weight: bold\">48</span> <span style=\"color: #800080; text-decoration-color: #800080; font-weight: bold\">rows</span><span style=\"font-weight: bold\">(</span>s<span style=\"font-weight: bold\">)]</span>                                   <a href=\"file:///usr/local/google/home/codyfincher/Code/database-tools/oracle-database-assessment/src/server/dbma/database.py\" target=\"_blank\"><span style=\"color: #7f7f7f; text-decoration-color: #7f7f7f\">database.py</span></a><span style=\"color: #7f7f7f; text-decoration-color: #7f7f7f\">:</span><a href=\"file:///usr/local/google/home/codyfincher/Code/database-tools/oracle-database-assessment/src/server/dbma/database.py#160\" target=\"_blank\"><span style=\"color: #7f7f7f; text-decoration-color: #7f7f7f\">160</span></a>\n",
       "</pre>\n"
      ],
      "text/plain": [
       "\u001b[2;36m[10/19/22 23:46:58]\u001b[0m\u001b[2;36m \u001b[0m\u001b[34mINFO    \u001b[0m \u001b[33m...\u001b[0m db_objects  \u001b[1;32mSUCCESS\u001b[0m \u001b[1m[\u001b[0m\u001b[1;36m48\u001b[0m \u001b[1;35mrows\u001b[0m\u001b[1m(\u001b[0ms\u001b[1m)\u001b[0m\u001b[1m]\u001b[0m                                   \u001b]8;id=891948;file:///usr/local/google/home/codyfincher/Code/database-tools/oracle-database-assessment/src/server/dbma/database.py\u001b\\\u001b[2mdatabase.py\u001b[0m\u001b]8;;\u001b\\\u001b[2m:\u001b[0m\u001b]8;id=983142;file:///usr/local/google/home/codyfincher/Code/database-tools/oracle-database-assessment/src/server/dbma/database.py#160\u001b\\\u001b[2m160\u001b[0m\u001b]8;;\u001b\\\n"
      ]
     },
     "metadata": {},
     "output_type": "display_data"
    },
    {
     "data": {
      "text/html": [
       "<pre style=\"white-space:pre;overflow-x:auto;line-height:normal;font-family:Menlo,'DejaVu Sans Mono',consolas,'Courier New',monospace\"><span style=\"color: #7fbfbf; text-decoration-color: #7fbfbf\">[10/19/22 23:46:58] </span><span style=\"color: #000080; text-decoration-color: #000080\">INFO    </span> <span style=\"color: #808000; text-decoration-color: #808000\">...</span> db_parameters  <span style=\"color: #008000; text-decoration-color: #008000; font-weight: bold\">SUCCESS</span> <span style=\"font-weight: bold\">[</span><span style=\"color: #008080; text-decoration-color: #008080; font-weight: bold\">451</span> <span style=\"color: #800080; text-decoration-color: #800080; font-weight: bold\">rows</span><span style=\"font-weight: bold\">(</span>s<span style=\"font-weight: bold\">)]</span>                               <a href=\"file:///usr/local/google/home/codyfincher/Code/database-tools/oracle-database-assessment/src/server/dbma/database.py\" target=\"_blank\"><span style=\"color: #7f7f7f; text-decoration-color: #7f7f7f\">database.py</span></a><span style=\"color: #7f7f7f; text-decoration-color: #7f7f7f\">:</span><a href=\"file:///usr/local/google/home/codyfincher/Code/database-tools/oracle-database-assessment/src/server/dbma/database.py#160\" target=\"_blank\"><span style=\"color: #7f7f7f; text-decoration-color: #7f7f7f\">160</span></a>\n",
       "</pre>\n"
      ],
      "text/plain": [
       "\u001b[2;36m[10/19/22 23:46:58]\u001b[0m\u001b[2;36m \u001b[0m\u001b[34mINFO    \u001b[0m \u001b[33m...\u001b[0m db_parameters  \u001b[1;32mSUCCESS\u001b[0m \u001b[1m[\u001b[0m\u001b[1;36m451\u001b[0m \u001b[1;35mrows\u001b[0m\u001b[1m(\u001b[0ms\u001b[1m)\u001b[0m\u001b[1m]\u001b[0m                               \u001b]8;id=199022;file:///usr/local/google/home/codyfincher/Code/database-tools/oracle-database-assessment/src/server/dbma/database.py\u001b\\\u001b[2mdatabase.py\u001b[0m\u001b]8;;\u001b\\\u001b[2m:\u001b[0m\u001b]8;id=281497;file:///usr/local/google/home/codyfincher/Code/database-tools/oracle-database-assessment/src/server/dbma/database.py#160\u001b\\\u001b[2m160\u001b[0m\u001b]8;;\u001b\\\n"
      ]
     },
     "metadata": {},
     "output_type": "display_data"
    },
    {
     "data": {
      "text/html": [
       "<pre style=\"white-space:pre;overflow-x:auto;line-height:normal;font-family:Menlo,'DejaVu Sans Mono',consolas,'Courier New',monospace\"><span style=\"color: #7fbfbf; text-decoration-color: #7fbfbf\">[10/19/22 23:46:58] </span><span style=\"color: #000080; text-decoration-color: #000080\">INFO    </span> <span style=\"color: #808000; text-decoration-color: #808000\">...</span> db_summary  <span style=\"color: #008000; text-decoration-color: #008000; font-weight: bold\">SUCCESS</span> <span style=\"font-weight: bold\">[</span><span style=\"color: #008080; text-decoration-color: #008080; font-weight: bold\">1</span> <span style=\"color: #800080; text-decoration-color: #800080; font-weight: bold\">rows</span><span style=\"font-weight: bold\">(</span>s<span style=\"font-weight: bold\">)]</span>                                    <a href=\"file:///usr/local/google/home/codyfincher/Code/database-tools/oracle-database-assessment/src/server/dbma/database.py\" target=\"_blank\"><span style=\"color: #7f7f7f; text-decoration-color: #7f7f7f\">database.py</span></a><span style=\"color: #7f7f7f; text-decoration-color: #7f7f7f\">:</span><a href=\"file:///usr/local/google/home/codyfincher/Code/database-tools/oracle-database-assessment/src/server/dbma/database.py#160\" target=\"_blank\"><span style=\"color: #7f7f7f; text-decoration-color: #7f7f7f\">160</span></a>\n",
       "</pre>\n"
      ],
      "text/plain": [
       "\u001b[2;36m[10/19/22 23:46:58]\u001b[0m\u001b[2;36m \u001b[0m\u001b[34mINFO    \u001b[0m \u001b[33m...\u001b[0m db_summary  \u001b[1;32mSUCCESS\u001b[0m \u001b[1m[\u001b[0m\u001b[1;36m1\u001b[0m \u001b[1;35mrows\u001b[0m\u001b[1m(\u001b[0ms\u001b[1m)\u001b[0m\u001b[1m]\u001b[0m                                    \u001b]8;id=796393;file:///usr/local/google/home/codyfincher/Code/database-tools/oracle-database-assessment/src/server/dbma/database.py\u001b\\\u001b[2mdatabase.py\u001b[0m\u001b]8;;\u001b\\\u001b[2m:\u001b[0m\u001b]8;id=694067;file:///usr/local/google/home/codyfincher/Code/database-tools/oracle-database-assessment/src/server/dbma/database.py#160\u001b\\\u001b[2m160\u001b[0m\u001b]8;;\u001b\\\n"
      ]
     },
     "metadata": {},
     "output_type": "display_data"
    },
    {
     "data": {
      "text/html": [
       "<pre style=\"white-space:pre;overflow-x:auto;line-height:normal;font-family:Menlo,'DejaVu Sans Mono',consolas,'Courier New',monospace\"><span style=\"color: #7fbfbf; text-decoration-color: #7fbfbf\">[10/19/22 23:46:58] </span><span style=\"color: #000080; text-decoration-color: #000080\">INFO    </span> <span style=\"color: #808000; text-decoration-color: #808000\">...</span> db_external_tables  <span style=\"color: #008000; text-decoration-color: #008000; font-weight: bold\">SUCCESS</span> <span style=\"font-weight: bold\">[</span><span style=\"color: #008080; text-decoration-color: #008080; font-weight: bold\">3</span> <span style=\"color: #800080; text-decoration-color: #800080; font-weight: bold\">rows</span><span style=\"font-weight: bold\">(</span>s<span style=\"font-weight: bold\">)]</span>                            <a href=\"file:///usr/local/google/home/codyfincher/Code/database-tools/oracle-database-assessment/src/server/dbma/database.py\" target=\"_blank\"><span style=\"color: #7f7f7f; text-decoration-color: #7f7f7f\">database.py</span></a><span style=\"color: #7f7f7f; text-decoration-color: #7f7f7f\">:</span><a href=\"file:///usr/local/google/home/codyfincher/Code/database-tools/oracle-database-assessment/src/server/dbma/database.py#160\" target=\"_blank\"><span style=\"color: #7f7f7f; text-decoration-color: #7f7f7f\">160</span></a>\n",
       "</pre>\n"
      ],
      "text/plain": [
       "\u001b[2;36m[10/19/22 23:46:58]\u001b[0m\u001b[2;36m \u001b[0m\u001b[34mINFO    \u001b[0m \u001b[33m...\u001b[0m db_external_tables  \u001b[1;32mSUCCESS\u001b[0m \u001b[1m[\u001b[0m\u001b[1;36m3\u001b[0m \u001b[1;35mrows\u001b[0m\u001b[1m(\u001b[0ms\u001b[1m)\u001b[0m\u001b[1m]\u001b[0m                            \u001b]8;id=35081;file:///usr/local/google/home/codyfincher/Code/database-tools/oracle-database-assessment/src/server/dbma/database.py\u001b\\\u001b[2mdatabase.py\u001b[0m\u001b]8;;\u001b\\\u001b[2m:\u001b[0m\u001b]8;id=862668;file:///usr/local/google/home/codyfincher/Code/database-tools/oracle-database-assessment/src/server/dbma/database.py#160\u001b\\\u001b[2m160\u001b[0m\u001b]8;;\u001b\\\n"
      ]
     },
     "metadata": {},
     "output_type": "display_data"
    },
    {
     "data": {
      "text/html": [
       "<pre style=\"white-space:pre;overflow-x:auto;line-height:normal;font-family:Menlo,'DejaVu Sans Mono',consolas,'Courier New',monospace\"><span style=\"color: #7fbfbf; text-decoration-color: #7fbfbf\">[10/19/22 23:46:58] </span><span style=\"color: #000080; text-decoration-color: #000080\">INFO    </span> <span style=\"color: #808000; text-decoration-color: #808000\">...</span> index_per_table  <span style=\"color: #008000; text-decoration-color: #008000; font-weight: bold\">SUCCESS</span> <span style=\"font-weight: bold\">[</span><span style=\"color: #008080; text-decoration-color: #008080; font-weight: bold\">9</span> <span style=\"color: #800080; text-decoration-color: #800080; font-weight: bold\">rows</span><span style=\"font-weight: bold\">(</span>s<span style=\"font-weight: bold\">)]</span>                               <a href=\"file:///usr/local/google/home/codyfincher/Code/database-tools/oracle-database-assessment/src/server/dbma/database.py\" target=\"_blank\"><span style=\"color: #7f7f7f; text-decoration-color: #7f7f7f\">database.py</span></a><span style=\"color: #7f7f7f; text-decoration-color: #7f7f7f\">:</span><a href=\"file:///usr/local/google/home/codyfincher/Code/database-tools/oracle-database-assessment/src/server/dbma/database.py#160\" target=\"_blank\"><span style=\"color: #7f7f7f; text-decoration-color: #7f7f7f\">160</span></a>\n",
       "</pre>\n"
      ],
      "text/plain": [
       "\u001b[2;36m[10/19/22 23:46:58]\u001b[0m\u001b[2;36m \u001b[0m\u001b[34mINFO    \u001b[0m \u001b[33m...\u001b[0m index_per_table  \u001b[1;32mSUCCESS\u001b[0m \u001b[1m[\u001b[0m\u001b[1;36m9\u001b[0m \u001b[1;35mrows\u001b[0m\u001b[1m(\u001b[0ms\u001b[1m)\u001b[0m\u001b[1m]\u001b[0m                               \u001b]8;id=250119;file:///usr/local/google/home/codyfincher/Code/database-tools/oracle-database-assessment/src/server/dbma/database.py\u001b\\\u001b[2mdatabase.py\u001b[0m\u001b]8;;\u001b\\\u001b[2m:\u001b[0m\u001b]8;id=174470;file:///usr/local/google/home/codyfincher/Code/database-tools/oracle-database-assessment/src/server/dbma/database.py#160\u001b\\\u001b[2m160\u001b[0m\u001b]8;;\u001b\\\n"
      ]
     },
     "metadata": {},
     "output_type": "display_data"
    },
    {
     "data": {
      "text/html": [
       "<pre style=\"white-space:pre;overflow-x:auto;line-height:normal;font-family:Menlo,'DejaVu Sans Mono',consolas,'Courier New',monospace\"><span style=\"color: #7fbfbf; text-decoration-color: #7fbfbf\">[10/19/22 23:46:58] </span><span style=\"color: #000080; text-decoration-color: #000080\">INFO    </span> <span style=\"color: #808000; text-decoration-color: #808000\">...</span> index_types  <span style=\"color: #008000; text-decoration-color: #008000; font-weight: bold\">SUCCESS</span> <span style=\"font-weight: bold\">[</span><span style=\"color: #008080; text-decoration-color: #008080; font-weight: bold\">6</span> <span style=\"color: #800080; text-decoration-color: #800080; font-weight: bold\">rows</span><span style=\"font-weight: bold\">(</span>s<span style=\"font-weight: bold\">)]</span>                                   <a href=\"file:///usr/local/google/home/codyfincher/Code/database-tools/oracle-database-assessment/src/server/dbma/database.py\" target=\"_blank\"><span style=\"color: #7f7f7f; text-decoration-color: #7f7f7f\">database.py</span></a><span style=\"color: #7f7f7f; text-decoration-color: #7f7f7f\">:</span><a href=\"file:///usr/local/google/home/codyfincher/Code/database-tools/oracle-database-assessment/src/server/dbma/database.py#160\" target=\"_blank\"><span style=\"color: #7f7f7f; text-decoration-color: #7f7f7f\">160</span></a>\n",
       "</pre>\n"
      ],
      "text/plain": [
       "\u001b[2;36m[10/19/22 23:46:58]\u001b[0m\u001b[2;36m \u001b[0m\u001b[34mINFO    \u001b[0m \u001b[33m...\u001b[0m index_types  \u001b[1;32mSUCCESS\u001b[0m \u001b[1m[\u001b[0m\u001b[1;36m6\u001b[0m \u001b[1;35mrows\u001b[0m\u001b[1m(\u001b[0ms\u001b[1m)\u001b[0m\u001b[1m]\u001b[0m                                   \u001b]8;id=966253;file:///usr/local/google/home/codyfincher/Code/database-tools/oracle-database-assessment/src/server/dbma/database.py\u001b\\\u001b[2mdatabase.py\u001b[0m\u001b]8;;\u001b\\\u001b[2m:\u001b[0m\u001b]8;id=82685;file:///usr/local/google/home/codyfincher/Code/database-tools/oracle-database-assessment/src/server/dbma/database.py#160\u001b\\\u001b[2m160\u001b[0m\u001b]8;;\u001b\\\n"
      ]
     },
     "metadata": {},
     "output_type": "display_data"
    },
    {
     "data": {
      "text/html": [
       "<pre style=\"white-space:pre;overflow-x:auto;line-height:normal;font-family:Menlo,'DejaVu Sans Mono',consolas,'Courier New',monospace\"><span style=\"color: #7fbfbf; text-decoration-color: #7fbfbf\">[10/19/22 23:46:58] </span><span style=\"color: #000080; text-decoration-color: #000080\">INFO    </span> <span style=\"color: #808000; text-decoration-color: #808000\">...</span> io_events  <span style=\"color: #008000; text-decoration-color: #008000; font-weight: bold\">SUCCESS</span> <span style=\"font-weight: bold\">[</span><span style=\"color: #008080; text-decoration-color: #008080; font-weight: bold\">1608</span> <span style=\"color: #800080; text-decoration-color: #800080; font-weight: bold\">rows</span><span style=\"font-weight: bold\">(</span>s<span style=\"font-weight: bold\">)]</span>                                  <a href=\"file:///usr/local/google/home/codyfincher/Code/database-tools/oracle-database-assessment/src/server/dbma/database.py\" target=\"_blank\"><span style=\"color: #7f7f7f; text-decoration-color: #7f7f7f\">database.py</span></a><span style=\"color: #7f7f7f; text-decoration-color: #7f7f7f\">:</span><a href=\"file:///usr/local/google/home/codyfincher/Code/database-tools/oracle-database-assessment/src/server/dbma/database.py#160\" target=\"_blank\"><span style=\"color: #7f7f7f; text-decoration-color: #7f7f7f\">160</span></a>\n",
       "</pre>\n"
      ],
      "text/plain": [
       "\u001b[2;36m[10/19/22 23:46:58]\u001b[0m\u001b[2;36m \u001b[0m\u001b[34mINFO    \u001b[0m \u001b[33m...\u001b[0m io_events  \u001b[1;32mSUCCESS\u001b[0m \u001b[1m[\u001b[0m\u001b[1;36m1608\u001b[0m \u001b[1;35mrows\u001b[0m\u001b[1m(\u001b[0ms\u001b[1m)\u001b[0m\u001b[1m]\u001b[0m                                  \u001b]8;id=60355;file:///usr/local/google/home/codyfincher/Code/database-tools/oracle-database-assessment/src/server/dbma/database.py\u001b\\\u001b[2mdatabase.py\u001b[0m\u001b]8;;\u001b\\\u001b[2m:\u001b[0m\u001b]8;id=967699;file:///usr/local/google/home/codyfincher/Code/database-tools/oracle-database-assessment/src/server/dbma/database.py#160\u001b\\\u001b[2m160\u001b[0m\u001b]8;;\u001b\\\n"
      ]
     },
     "metadata": {},
     "output_type": "display_data"
    },
    {
     "data": {
      "text/html": [
       "<pre style=\"white-space:pre;overflow-x:auto;line-height:normal;font-family:Menlo,'DejaVu Sans Mono',consolas,'Courier New',monospace\"><span style=\"color: #7fbfbf; text-decoration-color: #7fbfbf\">[10/19/22 23:46:58] </span><span style=\"color: #000080; text-decoration-color: #000080\">INFO    </span> <span style=\"color: #808000; text-decoration-color: #808000\">...</span> io_function  <span style=\"color: #008000; text-decoration-color: #008000; font-weight: bold\">SUCCESS</span> <span style=\"font-weight: bold\">[</span><span style=\"color: #008080; text-decoration-color: #008080; font-weight: bold\">720</span> <span style=\"color: #800080; text-decoration-color: #800080; font-weight: bold\">rows</span><span style=\"font-weight: bold\">(</span>s<span style=\"font-weight: bold\">)]</span>                                 <a href=\"file:///usr/local/google/home/codyfincher/Code/database-tools/oracle-database-assessment/src/server/dbma/database.py\" target=\"_blank\"><span style=\"color: #7f7f7f; text-decoration-color: #7f7f7f\">database.py</span></a><span style=\"color: #7f7f7f; text-decoration-color: #7f7f7f\">:</span><a href=\"file:///usr/local/google/home/codyfincher/Code/database-tools/oracle-database-assessment/src/server/dbma/database.py#160\" target=\"_blank\"><span style=\"color: #7f7f7f; text-decoration-color: #7f7f7f\">160</span></a>\n",
       "</pre>\n"
      ],
      "text/plain": [
       "\u001b[2;36m[10/19/22 23:46:58]\u001b[0m\u001b[2;36m \u001b[0m\u001b[34mINFO    \u001b[0m \u001b[33m...\u001b[0m io_function  \u001b[1;32mSUCCESS\u001b[0m \u001b[1m[\u001b[0m\u001b[1;36m720\u001b[0m \u001b[1;35mrows\u001b[0m\u001b[1m(\u001b[0ms\u001b[1m)\u001b[0m\u001b[1m]\u001b[0m                                 \u001b]8;id=815604;file:///usr/local/google/home/codyfincher/Code/database-tools/oracle-database-assessment/src/server/dbma/database.py\u001b\\\u001b[2mdatabase.py\u001b[0m\u001b]8;;\u001b\\\u001b[2m:\u001b[0m\u001b]8;id=174742;file:///usr/local/google/home/codyfincher/Code/database-tools/oracle-database-assessment/src/server/dbma/database.py#160\u001b\\\u001b[2m160\u001b[0m\u001b]8;;\u001b\\\n"
      ]
     },
     "metadata": {},
     "output_type": "display_data"
    },
    {
     "data": {
      "text/html": [
       "<pre style=\"white-space:pre;overflow-x:auto;line-height:normal;font-family:Menlo,'DejaVu Sans Mono',consolas,'Courier New',monospace\"><span style=\"color: #7fbfbf; text-decoration-color: #7fbfbf\">[10/19/22 23:46:58] </span><span style=\"color: #000080; text-decoration-color: #000080\">INFO    </span> <span style=\"color: #808000; text-decoration-color: #808000\">...</span> pdbs_info  <span style=\"color: #008000; text-decoration-color: #008000; font-weight: bold\">SUCCESS</span> <span style=\"font-weight: bold\">[</span><span style=\"color: #008080; text-decoration-color: #008080; font-weight: bold\">3</span> <span style=\"color: #800080; text-decoration-color: #800080; font-weight: bold\">rows</span><span style=\"font-weight: bold\">(</span>s<span style=\"font-weight: bold\">)]</span>                                     <a href=\"file:///usr/local/google/home/codyfincher/Code/database-tools/oracle-database-assessment/src/server/dbma/database.py\" target=\"_blank\"><span style=\"color: #7f7f7f; text-decoration-color: #7f7f7f\">database.py</span></a><span style=\"color: #7f7f7f; text-decoration-color: #7f7f7f\">:</span><a href=\"file:///usr/local/google/home/codyfincher/Code/database-tools/oracle-database-assessment/src/server/dbma/database.py#160\" target=\"_blank\"><span style=\"color: #7f7f7f; text-decoration-color: #7f7f7f\">160</span></a>\n",
       "</pre>\n"
      ],
      "text/plain": [
       "\u001b[2;36m[10/19/22 23:46:58]\u001b[0m\u001b[2;36m \u001b[0m\u001b[34mINFO    \u001b[0m \u001b[33m...\u001b[0m pdbs_info  \u001b[1;32mSUCCESS\u001b[0m \u001b[1m[\u001b[0m\u001b[1;36m3\u001b[0m \u001b[1;35mrows\u001b[0m\u001b[1m(\u001b[0ms\u001b[1m)\u001b[0m\u001b[1m]\u001b[0m                                     \u001b]8;id=160785;file:///usr/local/google/home/codyfincher/Code/database-tools/oracle-database-assessment/src/server/dbma/database.py\u001b\\\u001b[2mdatabase.py\u001b[0m\u001b]8;;\u001b\\\u001b[2m:\u001b[0m\u001b]8;id=993348;file:///usr/local/google/home/codyfincher/Code/database-tools/oracle-database-assessment/src/server/dbma/database.py#160\u001b\\\u001b[2m160\u001b[0m\u001b]8;;\u001b\\\n"
      ]
     },
     "metadata": {},
     "output_type": "display_data"
    },
    {
     "data": {
      "text/html": [
       "<pre style=\"white-space:pre;overflow-x:auto;line-height:normal;font-family:Menlo,'DejaVu Sans Mono',consolas,'Courier New',monospace\"><span style=\"color: #7fbfbf; text-decoration-color: #7fbfbf\">[10/19/22 23:46:58] </span><span style=\"color: #000080; text-decoration-color: #000080\">INFO    </span> <span style=\"color: #808000; text-decoration-color: #808000\">...</span> pdbs_in_open_mode  <span style=\"color: #008000; text-decoration-color: #008000; font-weight: bold\">SUCCESS</span> <span style=\"font-weight: bold\">[</span><span style=\"color: #008080; text-decoration-color: #008080; font-weight: bold\">3</span> <span style=\"color: #800080; text-decoration-color: #800080; font-weight: bold\">rows</span><span style=\"font-weight: bold\">(</span>s<span style=\"font-weight: bold\">)]</span>                             <a href=\"file:///usr/local/google/home/codyfincher/Code/database-tools/oracle-database-assessment/src/server/dbma/database.py\" target=\"_blank\"><span style=\"color: #7f7f7f; text-decoration-color: #7f7f7f\">database.py</span></a><span style=\"color: #7f7f7f; text-decoration-color: #7f7f7f\">:</span><a href=\"file:///usr/local/google/home/codyfincher/Code/database-tools/oracle-database-assessment/src/server/dbma/database.py#160\" target=\"_blank\"><span style=\"color: #7f7f7f; text-decoration-color: #7f7f7f\">160</span></a>\n",
       "</pre>\n"
      ],
      "text/plain": [
       "\u001b[2;36m[10/19/22 23:46:58]\u001b[0m\u001b[2;36m \u001b[0m\u001b[34mINFO    \u001b[0m \u001b[33m...\u001b[0m pdbs_in_open_mode  \u001b[1;32mSUCCESS\u001b[0m \u001b[1m[\u001b[0m\u001b[1;36m3\u001b[0m \u001b[1;35mrows\u001b[0m\u001b[1m(\u001b[0ms\u001b[1m)\u001b[0m\u001b[1m]\u001b[0m                             \u001b]8;id=461281;file:///usr/local/google/home/codyfincher/Code/database-tools/oracle-database-assessment/src/server/dbma/database.py\u001b\\\u001b[2mdatabase.py\u001b[0m\u001b]8;;\u001b\\\u001b[2m:\u001b[0m\u001b]8;id=332144;file:///usr/local/google/home/codyfincher/Code/database-tools/oracle-database-assessment/src/server/dbma/database.py#160\u001b\\\u001b[2m160\u001b[0m\u001b]8;;\u001b\\\n"
      ]
     },
     "metadata": {},
     "output_type": "display_data"
    },
    {
     "data": {
      "text/html": [
       "<pre style=\"white-space:pre;overflow-x:auto;line-height:normal;font-family:Menlo,'DejaVu Sans Mono',consolas,'Courier New',monospace\"><span style=\"color: #7fbfbf; text-decoration-color: #7fbfbf\">[10/19/22 23:46:58] </span><span style=\"color: #000080; text-decoration-color: #000080\">INFO    </span> <span style=\"color: #808000; text-decoration-color: #808000\">...</span> db_source_code  <span style=\"color: #008000; text-decoration-color: #008000; font-weight: bold\">SUCCESS</span> <span style=\"font-weight: bold\">[</span><span style=\"color: #008080; text-decoration-color: #008080; font-weight: bold\">9</span> <span style=\"color: #800080; text-decoration-color: #800080; font-weight: bold\">rows</span><span style=\"font-weight: bold\">(</span>s<span style=\"font-weight: bold\">)]</span>                                <a href=\"file:///usr/local/google/home/codyfincher/Code/database-tools/oracle-database-assessment/src/server/dbma/database.py\" target=\"_blank\"><span style=\"color: #7f7f7f; text-decoration-color: #7f7f7f\">database.py</span></a><span style=\"color: #7f7f7f; text-decoration-color: #7f7f7f\">:</span><a href=\"file:///usr/local/google/home/codyfincher/Code/database-tools/oracle-database-assessment/src/server/dbma/database.py#160\" target=\"_blank\"><span style=\"color: #7f7f7f; text-decoration-color: #7f7f7f\">160</span></a>\n",
       "</pre>\n"
      ],
      "text/plain": [
       "\u001b[2;36m[10/19/22 23:46:58]\u001b[0m\u001b[2;36m \u001b[0m\u001b[34mINFO    \u001b[0m \u001b[33m...\u001b[0m db_source_code  \u001b[1;32mSUCCESS\u001b[0m \u001b[1m[\u001b[0m\u001b[1;36m9\u001b[0m \u001b[1;35mrows\u001b[0m\u001b[1m(\u001b[0ms\u001b[1m)\u001b[0m\u001b[1m]\u001b[0m                                \u001b]8;id=25940;file:///usr/local/google/home/codyfincher/Code/database-tools/oracle-database-assessment/src/server/dbma/database.py\u001b\\\u001b[2mdatabase.py\u001b[0m\u001b]8;;\u001b\\\u001b[2m:\u001b[0m\u001b]8;id=275680;file:///usr/local/google/home/codyfincher/Code/database-tools/oracle-database-assessment/src/server/dbma/database.py#160\u001b\\\u001b[2m160\u001b[0m\u001b]8;;\u001b\\\n"
      ]
     },
     "metadata": {},
     "output_type": "display_data"
    },
    {
     "data": {
      "text/html": [
       "<pre style=\"white-space:pre;overflow-x:auto;line-height:normal;font-family:Menlo,'DejaVu Sans Mono',consolas,'Courier New',monospace\"><span style=\"color: #7fbfbf; text-decoration-color: #7fbfbf\">[10/19/22 23:46:58] </span><span style=\"color: #000080; text-decoration-color: #000080\">INFO    </span> <span style=\"color: #808000; text-decoration-color: #808000\">...</span> db_source_connections  <span style=\"color: #008000; text-decoration-color: #008000; font-weight: bold\">SUCCESS</span> <span style=\"font-weight: bold\">[</span><span style=\"color: #008080; text-decoration-color: #008080; font-weight: bold\">881</span> <span style=\"color: #800080; text-decoration-color: #800080; font-weight: bold\">rows</span><span style=\"font-weight: bold\">(</span>s<span style=\"font-weight: bold\">)]</span>                       <a href=\"file:///usr/local/google/home/codyfincher/Code/database-tools/oracle-database-assessment/src/server/dbma/database.py\" target=\"_blank\"><span style=\"color: #7f7f7f; text-decoration-color: #7f7f7f\">database.py</span></a><span style=\"color: #7f7f7f; text-decoration-color: #7f7f7f\">:</span><a href=\"file:///usr/local/google/home/codyfincher/Code/database-tools/oracle-database-assessment/src/server/dbma/database.py#160\" target=\"_blank\"><span style=\"color: #7f7f7f; text-decoration-color: #7f7f7f\">160</span></a>\n",
       "</pre>\n"
      ],
      "text/plain": [
       "\u001b[2;36m[10/19/22 23:46:58]\u001b[0m\u001b[2;36m \u001b[0m\u001b[34mINFO    \u001b[0m \u001b[33m...\u001b[0m db_source_connections  \u001b[1;32mSUCCESS\u001b[0m \u001b[1m[\u001b[0m\u001b[1;36m881\u001b[0m \u001b[1;35mrows\u001b[0m\u001b[1m(\u001b[0ms\u001b[1m)\u001b[0m\u001b[1m]\u001b[0m                       \u001b]8;id=250591;file:///usr/local/google/home/codyfincher/Code/database-tools/oracle-database-assessment/src/server/dbma/database.py\u001b\\\u001b[2mdatabase.py\u001b[0m\u001b]8;;\u001b\\\u001b[2m:\u001b[0m\u001b]8;id=381596;file:///usr/local/google/home/codyfincher/Code/database-tools/oracle-database-assessment/src/server/dbma/database.py#160\u001b\\\u001b[2m160\u001b[0m\u001b]8;;\u001b\\\n"
      ]
     },
     "metadata": {},
     "output_type": "display_data"
    },
    {
     "data": {
      "text/html": [
       "<pre style=\"white-space:pre;overflow-x:auto;line-height:normal;font-family:Menlo,'DejaVu Sans Mono',consolas,'Courier New',monospace\"><span style=\"color: #7fbfbf; text-decoration-color: #7fbfbf\">[10/19/22 23:46:58] </span><span style=\"color: #000080; text-decoration-color: #000080\">INFO    </span> <span style=\"color: #808000; text-decoration-color: #808000\">...</span> db_sql_stats  <span style=\"color: #008000; text-decoration-color: #008000; font-weight: bold\">SUCCESS</span> <span style=\"font-weight: bold\">[</span><span style=\"color: #008080; text-decoration-color: #008080; font-weight: bold\">299</span> <span style=\"color: #800080; text-decoration-color: #800080; font-weight: bold\">rows</span><span style=\"font-weight: bold\">(</span>s<span style=\"font-weight: bold\">)]</span>                                <a href=\"file:///usr/local/google/home/codyfincher/Code/database-tools/oracle-database-assessment/src/server/dbma/database.py\" target=\"_blank\"><span style=\"color: #7f7f7f; text-decoration-color: #7f7f7f\">database.py</span></a><span style=\"color: #7f7f7f; text-decoration-color: #7f7f7f\">:</span><a href=\"file:///usr/local/google/home/codyfincher/Code/database-tools/oracle-database-assessment/src/server/dbma/database.py#160\" target=\"_blank\"><span style=\"color: #7f7f7f; text-decoration-color: #7f7f7f\">160</span></a>\n",
       "</pre>\n"
      ],
      "text/plain": [
       "\u001b[2;36m[10/19/22 23:46:58]\u001b[0m\u001b[2;36m \u001b[0m\u001b[34mINFO    \u001b[0m \u001b[33m...\u001b[0m db_sql_stats  \u001b[1;32mSUCCESS\u001b[0m \u001b[1m[\u001b[0m\u001b[1;36m299\u001b[0m \u001b[1;35mrows\u001b[0m\u001b[1m(\u001b[0ms\u001b[1m)\u001b[0m\u001b[1m]\u001b[0m                                \u001b]8;id=5417;file:///usr/local/google/home/codyfincher/Code/database-tools/oracle-database-assessment/src/server/dbma/database.py\u001b\\\u001b[2mdatabase.py\u001b[0m\u001b]8;;\u001b\\\u001b[2m:\u001b[0m\u001b]8;id=941270;file:///usr/local/google/home/codyfincher/Code/database-tools/oracle-database-assessment/src/server/dbma/database.py#160\u001b\\\u001b[2m160\u001b[0m\u001b]8;;\u001b\\\n"
      ]
     },
     "metadata": {},
     "output_type": "display_data"
    },
    {
     "data": {
      "text/html": [
       "<pre style=\"white-space:pre;overflow-x:auto;line-height:normal;font-family:Menlo,'DejaVu Sans Mono',consolas,'Courier New',monospace\"><span style=\"color: #7fbfbf; text-decoration-color: #7fbfbf\">[10/19/22 23:46:58] </span><span style=\"color: #000080; text-decoration-color: #000080\">INFO    </span> <span style=\"color: #808000; text-decoration-color: #808000\">...</span> db_constraint_summary  <span style=\"color: #008000; text-decoration-color: #008000; font-weight: bold\">SUCCESS</span> <span style=\"font-weight: bold\">[</span><span style=\"color: #008080; text-decoration-color: #008080; font-weight: bold\">59</span> <span style=\"color: #800080; text-decoration-color: #800080; font-weight: bold\">rows</span><span style=\"font-weight: bold\">(</span>s<span style=\"font-weight: bold\">)]</span>                        <a href=\"file:///usr/local/google/home/codyfincher/Code/database-tools/oracle-database-assessment/src/server/dbma/database.py\" target=\"_blank\"><span style=\"color: #7f7f7f; text-decoration-color: #7f7f7f\">database.py</span></a><span style=\"color: #7f7f7f; text-decoration-color: #7f7f7f\">:</span><a href=\"file:///usr/local/google/home/codyfincher/Code/database-tools/oracle-database-assessment/src/server/dbma/database.py#160\" target=\"_blank\"><span style=\"color: #7f7f7f; text-decoration-color: #7f7f7f\">160</span></a>\n",
       "</pre>\n"
      ],
      "text/plain": [
       "\u001b[2;36m[10/19/22 23:46:58]\u001b[0m\u001b[2;36m \u001b[0m\u001b[34mINFO    \u001b[0m \u001b[33m...\u001b[0m db_constraint_summary  \u001b[1;32mSUCCESS\u001b[0m \u001b[1m[\u001b[0m\u001b[1;36m59\u001b[0m \u001b[1;35mrows\u001b[0m\u001b[1m(\u001b[0ms\u001b[1m)\u001b[0m\u001b[1m]\u001b[0m                        \u001b]8;id=945005;file:///usr/local/google/home/codyfincher/Code/database-tools/oracle-database-assessment/src/server/dbma/database.py\u001b\\\u001b[2mdatabase.py\u001b[0m\u001b]8;;\u001b\\\u001b[2m:\u001b[0m\u001b]8;id=292677;file:///usr/local/google/home/codyfincher/Code/database-tools/oracle-database-assessment/src/server/dbma/database.py#160\u001b\\\u001b[2m160\u001b[0m\u001b]8;;\u001b\\\n"
      ]
     },
     "metadata": {},
     "output_type": "display_data"
    },
    {
     "data": {
      "text/html": [
       "<pre style=\"white-space:pre;overflow-x:auto;line-height:normal;font-family:Menlo,'DejaVu Sans Mono',consolas,'Courier New',monospace\"><span style=\"color: #7fbfbf; text-decoration-color: #7fbfbf\">[10/19/22 23:46:58] </span><span style=\"color: #000080; text-decoration-color: #000080\">INFO    </span> <span style=\"color: #808000; text-decoration-color: #808000\">...</span> db_used_space_details  <span style=\"color: #008000; text-decoration-color: #008000; font-weight: bold\">SUCCESS</span> <span style=\"font-weight: bold\">[</span><span style=\"color: #008080; text-decoration-color: #008080; font-weight: bold\">9</span> <span style=\"color: #800080; text-decoration-color: #800080; font-weight: bold\">rows</span><span style=\"font-weight: bold\">(</span>s<span style=\"font-weight: bold\">)]</span>                         <a href=\"file:///usr/local/google/home/codyfincher/Code/database-tools/oracle-database-assessment/src/server/dbma/database.py\" target=\"_blank\"><span style=\"color: #7f7f7f; text-decoration-color: #7f7f7f\">database.py</span></a><span style=\"color: #7f7f7f; text-decoration-color: #7f7f7f\">:</span><a href=\"file:///usr/local/google/home/codyfincher/Code/database-tools/oracle-database-assessment/src/server/dbma/database.py#160\" target=\"_blank\"><span style=\"color: #7f7f7f; text-decoration-color: #7f7f7f\">160</span></a>\n",
       "</pre>\n"
      ],
      "text/plain": [
       "\u001b[2;36m[10/19/22 23:46:58]\u001b[0m\u001b[2;36m \u001b[0m\u001b[34mINFO    \u001b[0m \u001b[33m...\u001b[0m db_used_space_details  \u001b[1;32mSUCCESS\u001b[0m \u001b[1m[\u001b[0m\u001b[1;36m9\u001b[0m \u001b[1;35mrows\u001b[0m\u001b[1m(\u001b[0ms\u001b[1m)\u001b[0m\u001b[1m]\u001b[0m                         \u001b]8;id=284203;file:///usr/local/google/home/codyfincher/Code/database-tools/oracle-database-assessment/src/server/dbma/database.py\u001b\\\u001b[2mdatabase.py\u001b[0m\u001b]8;;\u001b\\\u001b[2m:\u001b[0m\u001b]8;id=931142;file:///usr/local/google/home/codyfincher/Code/database-tools/oracle-database-assessment/src/server/dbma/database.py#160\u001b\\\u001b[2m160\u001b[0m\u001b]8;;\u001b\\\n"
      ]
     },
     "metadata": {},
     "output_type": "display_data"
    },
    {
     "data": {
      "text/html": [
       "<pre style=\"white-space:pre;overflow-x:auto;line-height:normal;font-family:Menlo,'DejaVu Sans Mono',consolas,'Courier New',monospace\"><span style=\"color: #7fbfbf; text-decoration-color: #7fbfbf\">[10/19/22 23:46:58] </span><span style=\"color: #000080; text-decoration-color: #000080\">INFO    </span> <span style=\"color: #808000; text-decoration-color: #808000\">...</span> db_user_tablespace_segments  <span style=\"color: #008000; text-decoration-color: #008000; font-weight: bold\">SUCCESS</span> <span style=\"font-weight: bold\">[</span><span style=\"color: #008080; text-decoration-color: #008080; font-weight: bold\">182</span> <span style=\"color: #800080; text-decoration-color: #800080; font-weight: bold\">rows</span><span style=\"font-weight: bold\">(</span>s<span style=\"font-weight: bold\">)]</span>                 <a href=\"file:///usr/local/google/home/codyfincher/Code/database-tools/oracle-database-assessment/src/server/dbma/database.py\" target=\"_blank\"><span style=\"color: #7f7f7f; text-decoration-color: #7f7f7f\">database.py</span></a><span style=\"color: #7f7f7f; text-decoration-color: #7f7f7f\">:</span><a href=\"file:///usr/local/google/home/codyfincher/Code/database-tools/oracle-database-assessment/src/server/dbma/database.py#160\" target=\"_blank\"><span style=\"color: #7f7f7f; text-decoration-color: #7f7f7f\">160</span></a>\n",
       "</pre>\n"
      ],
      "text/plain": [
       "\u001b[2;36m[10/19/22 23:46:58]\u001b[0m\u001b[2;36m \u001b[0m\u001b[34mINFO    \u001b[0m \u001b[33m...\u001b[0m db_user_tablespace_segments  \u001b[1;32mSUCCESS\u001b[0m \u001b[1m[\u001b[0m\u001b[1;36m182\u001b[0m \u001b[1;35mrows\u001b[0m\u001b[1m(\u001b[0ms\u001b[1m)\u001b[0m\u001b[1m]\u001b[0m                 \u001b]8;id=695270;file:///usr/local/google/home/codyfincher/Code/database-tools/oracle-database-assessment/src/server/dbma/database.py\u001b\\\u001b[2mdatabase.py\u001b[0m\u001b]8;;\u001b\\\u001b[2m:\u001b[0m\u001b]8;id=61506;file:///usr/local/google/home/codyfincher/Code/database-tools/oracle-database-assessment/src/server/dbma/database.py#160\u001b\\\u001b[2m160\u001b[0m\u001b]8;;\u001b\\\n"
      ]
     },
     "metadata": {},
     "output_type": "display_data"
    },
    {
     "data": {
      "text/html": [
       "<pre style=\"white-space:pre;overflow-x:auto;line-height:normal;font-family:Menlo,'DejaVu Sans Mono',consolas,'Courier New',monospace\"><span style=\"color: #7fbfbf; text-decoration-color: #7fbfbf\">[10/19/22 23:46:58] </span><span style=\"color: #000080; text-decoration-color: #000080\">INFO    </span> executing transformation script transform_01                           <a href=\"file:///usr/local/google/home/codyfincher/Code/database-tools/oracle-database-assessment/src/server/dbma/database.py\" target=\"_blank\"><span style=\"color: #7f7f7f; text-decoration-color: #7f7f7f\">database.py</span></a><span style=\"color: #7f7f7f; text-decoration-color: #7f7f7f\">:</span><a href=\"file:///usr/local/google/home/codyfincher/Code/database-tools/oracle-database-assessment/src/server/dbma/database.py#136\" target=\"_blank\"><span style=\"color: #7f7f7f; text-decoration-color: #7f7f7f\">136</span></a>\n",
       "</pre>\n"
      ],
      "text/plain": [
       "\u001b[2;36m[10/19/22 23:46:58]\u001b[0m\u001b[2;36m \u001b[0m\u001b[34mINFO    \u001b[0m executing transformation script transform_01                           \u001b]8;id=733288;file:///usr/local/google/home/codyfincher/Code/database-tools/oracle-database-assessment/src/server/dbma/database.py\u001b\\\u001b[2mdatabase.py\u001b[0m\u001b]8;;\u001b\\\u001b[2m:\u001b[0m\u001b]8;id=83866;file:///usr/local/google/home/codyfincher/Code/database-tools/oracle-database-assessment/src/server/dbma/database.py#136\u001b\\\u001b[2m136\u001b[0m\u001b]8;;\u001b\\\n"
      ]
     },
     "metadata": {},
     "output_type": "display_data"
    },
    {
     "data": {
      "text/html": [
       "<pre style=\"white-space:pre;overflow-x:auto;line-height:normal;font-family:Menlo,'DejaVu Sans Mono',consolas,'Courier New',monospace\"><span style=\"color: #7fbfbf; text-decoration-color: #7fbfbf\">[10/19/22 23:46:59] </span><span style=\"color: #000080; text-decoration-color: #000080\">INFO    </span> executing transformation script transform_02                           <a href=\"file:///usr/local/google/home/codyfincher/Code/database-tools/oracle-database-assessment/src/server/dbma/database.py\" target=\"_blank\"><span style=\"color: #7f7f7f; text-decoration-color: #7f7f7f\">database.py</span></a><span style=\"color: #7f7f7f; text-decoration-color: #7f7f7f\">:</span><a href=\"file:///usr/local/google/home/codyfincher/Code/database-tools/oracle-database-assessment/src/server/dbma/database.py#136\" target=\"_blank\"><span style=\"color: #7f7f7f; text-decoration-color: #7f7f7f\">136</span></a>\n",
       "</pre>\n"
      ],
      "text/plain": [
       "\u001b[2;36m[10/19/22 23:46:59]\u001b[0m\u001b[2;36m \u001b[0m\u001b[34mINFO    \u001b[0m executing transformation script transform_02                           \u001b]8;id=695662;file:///usr/local/google/home/codyfincher/Code/database-tools/oracle-database-assessment/src/server/dbma/database.py\u001b\\\u001b[2mdatabase.py\u001b[0m\u001b]8;;\u001b\\\u001b[2m:\u001b[0m\u001b]8;id=349032;file:///usr/local/google/home/codyfincher/Code/database-tools/oracle-database-assessment/src/server/dbma/database.py#136\u001b\\\u001b[2m136\u001b[0m\u001b]8;;\u001b\\\n"
      ]
     },
     "metadata": {},
     "output_type": "display_data"
    },
    {
     "data": {
      "text/html": [
       "<pre style=\"white-space:pre;overflow-x:auto;line-height:normal;font-family:Menlo,'DejaVu Sans Mono',consolas,'Courier New',monospace\"><span style=\"color: #7fbfbf; text-decoration-color: #7fbfbf\">[10/19/22 23:46:59] </span><span style=\"color: #000080; text-decoration-color: #000080\">INFO    </span> executing transformation script transform_03                           <a href=\"file:///usr/local/google/home/codyfincher/Code/database-tools/oracle-database-assessment/src/server/dbma/database.py\" target=\"_blank\"><span style=\"color: #7f7f7f; text-decoration-color: #7f7f7f\">database.py</span></a><span style=\"color: #7f7f7f; text-decoration-color: #7f7f7f\">:</span><a href=\"file:///usr/local/google/home/codyfincher/Code/database-tools/oracle-database-assessment/src/server/dbma/database.py#136\" target=\"_blank\"><span style=\"color: #7f7f7f; text-decoration-color: #7f7f7f\">136</span></a>\n",
       "</pre>\n"
      ],
      "text/plain": [
       "\u001b[2;36m[10/19/22 23:46:59]\u001b[0m\u001b[2;36m \u001b[0m\u001b[34mINFO    \u001b[0m executing transformation script transform_03                           \u001b]8;id=341686;file:///usr/local/google/home/codyfincher/Code/database-tools/oracle-database-assessment/src/server/dbma/database.py\u001b\\\u001b[2mdatabase.py\u001b[0m\u001b]8;;\u001b\\\u001b[2m:\u001b[0m\u001b]8;id=700629;file:///usr/local/google/home/codyfincher/Code/database-tools/oracle-database-assessment/src/server/dbma/database.py#136\u001b\\\u001b[2m136\u001b[0m\u001b]8;;\u001b\\\n"
      ]
     },
     "metadata": {},
     "output_type": "display_data"
    },
    {
     "data": {
      "text/html": [
       "<pre style=\"white-space:pre;overflow-x:auto;line-height:normal;font-family:Menlo,'DejaVu Sans Mono',consolas,'Courier New',monospace\"><span style=\"color: #7fbfbf; text-decoration-color: #7fbfbf\">[10/19/22 23:46:59] </span><span style=\"color: #000080; text-decoration-color: #000080\">INFO    </span> executing transformation script transform_04                           <a href=\"file:///usr/local/google/home/codyfincher/Code/database-tools/oracle-database-assessment/src/server/dbma/database.py\" target=\"_blank\"><span style=\"color: #7f7f7f; text-decoration-color: #7f7f7f\">database.py</span></a><span style=\"color: #7f7f7f; text-decoration-color: #7f7f7f\">:</span><a href=\"file:///usr/local/google/home/codyfincher/Code/database-tools/oracle-database-assessment/src/server/dbma/database.py#136\" target=\"_blank\"><span style=\"color: #7f7f7f; text-decoration-color: #7f7f7f\">136</span></a>\n",
       "</pre>\n"
      ],
      "text/plain": [
       "\u001b[2;36m[10/19/22 23:46:59]\u001b[0m\u001b[2;36m \u001b[0m\u001b[34mINFO    \u001b[0m executing transformation script transform_04                           \u001b]8;id=3761;file:///usr/local/google/home/codyfincher/Code/database-tools/oracle-database-assessment/src/server/dbma/database.py\u001b\\\u001b[2mdatabase.py\u001b[0m\u001b]8;;\u001b\\\u001b[2m:\u001b[0m\u001b]8;id=614973;file:///usr/local/google/home/codyfincher/Code/database-tools/oracle-database-assessment/src/server/dbma/database.py#136\u001b\\\u001b[2m136\u001b[0m\u001b]8;;\u001b\\\n"
      ]
     },
     "metadata": {},
     "output_type": "display_data"
    },
    {
     "data": {
      "text/html": [
       "<pre style=\"white-space:pre;overflow-x:auto;line-height:normal;font-family:Menlo,'DejaVu Sans Mono',consolas,'Courier New',monospace\"><span style=\"color: #7fbfbf; text-decoration-color: #7fbfbf\">[10/19/22 23:46:59] </span><span style=\"color: #000080; text-decoration-color: #000080\">INFO    </span> executing transformation script transform_05                           <a href=\"file:///usr/local/google/home/codyfincher/Code/database-tools/oracle-database-assessment/src/server/dbma/database.py\" target=\"_blank\"><span style=\"color: #7f7f7f; text-decoration-color: #7f7f7f\">database.py</span></a><span style=\"color: #7f7f7f; text-decoration-color: #7f7f7f\">:</span><a href=\"file:///usr/local/google/home/codyfincher/Code/database-tools/oracle-database-assessment/src/server/dbma/database.py#136\" target=\"_blank\"><span style=\"color: #7f7f7f; text-decoration-color: #7f7f7f\">136</span></a>\n",
       "</pre>\n"
      ],
      "text/plain": [
       "\u001b[2;36m[10/19/22 23:46:59]\u001b[0m\u001b[2;36m \u001b[0m\u001b[34mINFO    \u001b[0m executing transformation script transform_05                           \u001b]8;id=709795;file:///usr/local/google/home/codyfincher/Code/database-tools/oracle-database-assessment/src/server/dbma/database.py\u001b\\\u001b[2mdatabase.py\u001b[0m\u001b]8;;\u001b\\\u001b[2m:\u001b[0m\u001b]8;id=455956;file:///usr/local/google/home/codyfincher/Code/database-tools/oracle-database-assessment/src/server/dbma/database.py#136\u001b\\\u001b[2m136\u001b[0m\u001b]8;;\u001b\\\n"
      ]
     },
     "metadata": {},
     "output_type": "display_data"
    },
    {
     "data": {
      "text/html": [
       "<pre style=\"white-space:pre;overflow-x:auto;line-height:normal;font-family:Menlo,'DejaVu Sans Mono',consolas,'Courier New',monospace\"><span style=\"color: #7fbfbf; text-decoration-color: #7fbfbf\">[10/19/22 23:46:59] </span><span style=\"color: #000080; text-decoration-color: #000080\">INFO    </span> executing transformation script transform_06                           <a href=\"file:///usr/local/google/home/codyfincher/Code/database-tools/oracle-database-assessment/src/server/dbma/database.py\" target=\"_blank\"><span style=\"color: #7f7f7f; text-decoration-color: #7f7f7f\">database.py</span></a><span style=\"color: #7f7f7f; text-decoration-color: #7f7f7f\">:</span><a href=\"file:///usr/local/google/home/codyfincher/Code/database-tools/oracle-database-assessment/src/server/dbma/database.py#136\" target=\"_blank\"><span style=\"color: #7f7f7f; text-decoration-color: #7f7f7f\">136</span></a>\n",
       "</pre>\n"
      ],
      "text/plain": [
       "\u001b[2;36m[10/19/22 23:46:59]\u001b[0m\u001b[2;36m \u001b[0m\u001b[34mINFO    \u001b[0m executing transformation script transform_06                           \u001b]8;id=40595;file:///usr/local/google/home/codyfincher/Code/database-tools/oracle-database-assessment/src/server/dbma/database.py\u001b\\\u001b[2mdatabase.py\u001b[0m\u001b]8;;\u001b\\\u001b[2m:\u001b[0m\u001b]8;id=900308;file:///usr/local/google/home/codyfincher/Code/database-tools/oracle-database-assessment/src/server/dbma/database.py#136\u001b\\\u001b[2m136\u001b[0m\u001b]8;;\u001b\\\n"
      ]
     },
     "metadata": {},
     "output_type": "display_data"
    },
    {
     "data": {
      "text/html": [
       "<pre style=\"white-space:pre;overflow-x:auto;line-height:normal;font-family:Menlo,'DejaVu Sans Mono',consolas,'Courier New',monospace\"><span style=\"color: #7fbfbf; text-decoration-color: #7fbfbf\">[10/19/22 23:46:59] </span><span style=\"color: #000080; text-decoration-color: #000080\">INFO    </span> executing transformation script transform_07                           <a href=\"file:///usr/local/google/home/codyfincher/Code/database-tools/oracle-database-assessment/src/server/dbma/database.py\" target=\"_blank\"><span style=\"color: #7f7f7f; text-decoration-color: #7f7f7f\">database.py</span></a><span style=\"color: #7f7f7f; text-decoration-color: #7f7f7f\">:</span><a href=\"file:///usr/local/google/home/codyfincher/Code/database-tools/oracle-database-assessment/src/server/dbma/database.py#136\" target=\"_blank\"><span style=\"color: #7f7f7f; text-decoration-color: #7f7f7f\">136</span></a>\n",
       "</pre>\n"
      ],
      "text/plain": [
       "\u001b[2;36m[10/19/22 23:46:59]\u001b[0m\u001b[2;36m \u001b[0m\u001b[34mINFO    \u001b[0m executing transformation script transform_07                           \u001b]8;id=144198;file:///usr/local/google/home/codyfincher/Code/database-tools/oracle-database-assessment/src/server/dbma/database.py\u001b\\\u001b[2mdatabase.py\u001b[0m\u001b]8;;\u001b\\\u001b[2m:\u001b[0m\u001b]8;id=440512;file:///usr/local/google/home/codyfincher/Code/database-tools/oracle-database-assessment/src/server/dbma/database.py#136\u001b\\\u001b[2m136\u001b[0m\u001b]8;;\u001b\\\n"
      ]
     },
     "metadata": {},
     "output_type": "display_data"
    },
    {
     "data": {
      "text/html": [
       "<pre style=\"white-space:pre;overflow-x:auto;line-height:normal;font-family:Menlo,'DejaVu Sans Mono',consolas,'Courier New',monospace\"><span style=\"color: #7fbfbf; text-decoration-color: #7fbfbf\">[10/19/22 23:46:59] </span><span style=\"color: #000080; text-decoration-color: #000080\">INFO    </span> executing transformation script transform_08                           <a href=\"file:///usr/local/google/home/codyfincher/Code/database-tools/oracle-database-assessment/src/server/dbma/database.py\" target=\"_blank\"><span style=\"color: #7f7f7f; text-decoration-color: #7f7f7f\">database.py</span></a><span style=\"color: #7f7f7f; text-decoration-color: #7f7f7f\">:</span><a href=\"file:///usr/local/google/home/codyfincher/Code/database-tools/oracle-database-assessment/src/server/dbma/database.py#136\" target=\"_blank\"><span style=\"color: #7f7f7f; text-decoration-color: #7f7f7f\">136</span></a>\n",
       "</pre>\n"
      ],
      "text/plain": [
       "\u001b[2;36m[10/19/22 23:46:59]\u001b[0m\u001b[2;36m \u001b[0m\u001b[34mINFO    \u001b[0m executing transformation script transform_08                           \u001b]8;id=821786;file:///usr/local/google/home/codyfincher/Code/database-tools/oracle-database-assessment/src/server/dbma/database.py\u001b\\\u001b[2mdatabase.py\u001b[0m\u001b]8;;\u001b\\\u001b[2m:\u001b[0m\u001b]8;id=332495;file:///usr/local/google/home/codyfincher/Code/database-tools/oracle-database-assessment/src/server/dbma/database.py#136\u001b\\\u001b[2m136\u001b[0m\u001b]8;;\u001b\\\n"
      ]
     },
     "metadata": {},
     "output_type": "display_data"
    },
    {
     "data": {
      "text/html": [
       "<pre style=\"white-space:pre;overflow-x:auto;line-height:normal;font-family:Menlo,'DejaVu Sans Mono',consolas,'Courier New',monospace\"><span style=\"color: #7fbfbf; text-decoration-color: #7fbfbf\">[10/19/22 23:46:59] </span><span style=\"color: #000080; text-decoration-color: #000080\">INFO    </span> executing transformation script transform_09                           <a href=\"file:///usr/local/google/home/codyfincher/Code/database-tools/oracle-database-assessment/src/server/dbma/database.py\" target=\"_blank\"><span style=\"color: #7f7f7f; text-decoration-color: #7f7f7f\">database.py</span></a><span style=\"color: #7f7f7f; text-decoration-color: #7f7f7f\">:</span><a href=\"file:///usr/local/google/home/codyfincher/Code/database-tools/oracle-database-assessment/src/server/dbma/database.py#136\" target=\"_blank\"><span style=\"color: #7f7f7f; text-decoration-color: #7f7f7f\">136</span></a>\n",
       "</pre>\n"
      ],
      "text/plain": [
       "\u001b[2;36m[10/19/22 23:46:59]\u001b[0m\u001b[2;36m \u001b[0m\u001b[34mINFO    \u001b[0m executing transformation script transform_09                           \u001b]8;id=829578;file:///usr/local/google/home/codyfincher/Code/database-tools/oracle-database-assessment/src/server/dbma/database.py\u001b\\\u001b[2mdatabase.py\u001b[0m\u001b]8;;\u001b\\\u001b[2m:\u001b[0m\u001b]8;id=145191;file:///usr/local/google/home/codyfincher/Code/database-tools/oracle-database-assessment/src/server/dbma/database.py#136\u001b\\\u001b[2m136\u001b[0m\u001b]8;;\u001b\\\n"
      ]
     },
     "metadata": {},
     "output_type": "display_data"
    },
    {
     "data": {
      "text/html": [
       "<pre style=\"white-space:pre;overflow-x:auto;line-height:normal;font-family:Menlo,'DejaVu Sans Mono',consolas,'Courier New',monospace\"><span style=\"color: #7fbfbf; text-decoration-color: #7fbfbf\">[10/19/22 23:46:59] </span><span style=\"color: #000080; text-decoration-color: #000080\">INFO    </span> executing transformation script transform_10                           <a href=\"file:///usr/local/google/home/codyfincher/Code/database-tools/oracle-database-assessment/src/server/dbma/database.py\" target=\"_blank\"><span style=\"color: #7f7f7f; text-decoration-color: #7f7f7f\">database.py</span></a><span style=\"color: #7f7f7f; text-decoration-color: #7f7f7f\">:</span><a href=\"file:///usr/local/google/home/codyfincher/Code/database-tools/oracle-database-assessment/src/server/dbma/database.py#136\" target=\"_blank\"><span style=\"color: #7f7f7f; text-decoration-color: #7f7f7f\">136</span></a>\n",
       "</pre>\n"
      ],
      "text/plain": [
       "\u001b[2;36m[10/19/22 23:46:59]\u001b[0m\u001b[2;36m \u001b[0m\u001b[34mINFO    \u001b[0m executing transformation script transform_10                           \u001b]8;id=213434;file:///usr/local/google/home/codyfincher/Code/database-tools/oracle-database-assessment/src/server/dbma/database.py\u001b\\\u001b[2mdatabase.py\u001b[0m\u001b]8;;\u001b\\\u001b[2m:\u001b[0m\u001b]8;id=964901;file:///usr/local/google/home/codyfincher/Code/database-tools/oracle-database-assessment/src/server/dbma/database.py#136\u001b\\\u001b[2m136\u001b[0m\u001b]8;;\u001b\\\n"
      ]
     },
     "metadata": {},
     "output_type": "display_data"
    },
    {
     "data": {
      "text/html": [
       "<pre style=\"white-space:pre;overflow-x:auto;line-height:normal;font-family:Menlo,'DejaVu Sans Mono',consolas,'Courier New',monospace\"><span style=\"color: #7fbfbf; text-decoration-color: #7fbfbf\">[10/19/22 23:46:59] </span><span style=\"color: #000080; text-decoration-color: #000080\">INFO    </span> executing transformation script transform_11                           <a href=\"file:///usr/local/google/home/codyfincher/Code/database-tools/oracle-database-assessment/src/server/dbma/database.py\" target=\"_blank\"><span style=\"color: #7f7f7f; text-decoration-color: #7f7f7f\">database.py</span></a><span style=\"color: #7f7f7f; text-decoration-color: #7f7f7f\">:</span><a href=\"file:///usr/local/google/home/codyfincher/Code/database-tools/oracle-database-assessment/src/server/dbma/database.py#136\" target=\"_blank\"><span style=\"color: #7f7f7f; text-decoration-color: #7f7f7f\">136</span></a>\n",
       "</pre>\n"
      ],
      "text/plain": [
       "\u001b[2;36m[10/19/22 23:46:59]\u001b[0m\u001b[2;36m \u001b[0m\u001b[34mINFO    \u001b[0m executing transformation script transform_11                           \u001b]8;id=7381;file:///usr/local/google/home/codyfincher/Code/database-tools/oracle-database-assessment/src/server/dbma/database.py\u001b\\\u001b[2mdatabase.py\u001b[0m\u001b]8;;\u001b\\\u001b[2m:\u001b[0m\u001b]8;id=754783;file:///usr/local/google/home/codyfincher/Code/database-tools/oracle-database-assessment/src/server/dbma/database.py#136\u001b\\\u001b[2m136\u001b[0m\u001b]8;;\u001b\\\n"
      ]
     },
     "metadata": {},
     "output_type": "display_data"
    },
    {
     "data": {
      "text/html": [
       "<pre style=\"white-space:pre;overflow-x:auto;line-height:normal;font-family:Menlo,'DejaVu Sans Mono',consolas,'Courier New',monospace\"><span style=\"color: #7fbfbf; text-decoration-color: #7fbfbf\">[10/19/22 23:46:59] </span><span style=\"color: #000080; text-decoration-color: #000080\">INFO    </span> executing transformation script transform_12                           <a href=\"file:///usr/local/google/home/codyfincher/Code/database-tools/oracle-database-assessment/src/server/dbma/database.py\" target=\"_blank\"><span style=\"color: #7f7f7f; text-decoration-color: #7f7f7f\">database.py</span></a><span style=\"color: #7f7f7f; text-decoration-color: #7f7f7f\">:</span><a href=\"file:///usr/local/google/home/codyfincher/Code/database-tools/oracle-database-assessment/src/server/dbma/database.py#136\" target=\"_blank\"><span style=\"color: #7f7f7f; text-decoration-color: #7f7f7f\">136</span></a>\n",
       "</pre>\n"
      ],
      "text/plain": [
       "\u001b[2;36m[10/19/22 23:46:59]\u001b[0m\u001b[2;36m \u001b[0m\u001b[34mINFO    \u001b[0m executing transformation script transform_12                           \u001b]8;id=394199;file:///usr/local/google/home/codyfincher/Code/database-tools/oracle-database-assessment/src/server/dbma/database.py\u001b\\\u001b[2mdatabase.py\u001b[0m\u001b]8;;\u001b\\\u001b[2m:\u001b[0m\u001b]8;id=95665;file:///usr/local/google/home/codyfincher/Code/database-tools/oracle-database-assessment/src/server/dbma/database.py#136\u001b\\\u001b[2m136\u001b[0m\u001b]8;;\u001b\\\n"
      ]
     },
     "metadata": {},
     "output_type": "display_data"
    },
    {
     "data": {
      "text/html": [
       "<pre style=\"white-space:pre;overflow-x:auto;line-height:normal;font-family:Menlo,'DejaVu Sans Mono',consolas,'Courier New',monospace\"><span style=\"color: #7fbfbf; text-decoration-color: #7fbfbf\">[10/19/22 23:46:59] </span><span style=\"color: #000080; text-decoration-color: #000080\">INFO    </span> <span style=\"font-weight: bold\">[]</span>                                                                        <a href=\"file:///usr/local/google/home/codyfincher/Code/database-tools/oracle-database-assessment/src/server/dbma/transformer/engine.py\" target=\"_blank\"><span style=\"color: #7f7f7f; text-decoration-color: #7f7f7f\">engine.py</span></a><span style=\"color: #7f7f7f; text-decoration-color: #7f7f7f\">:</span><a href=\"file:///usr/local/google/home/codyfincher/Code/database-tools/oracle-database-assessment/src/server/dbma/transformer/engine.py#94\" target=\"_blank\"><span style=\"color: #7f7f7f; text-decoration-color: #7f7f7f\">94</span></a>\n",
       "</pre>\n"
      ],
      "text/plain": [
       "\u001b[2;36m[10/19/22 23:46:59]\u001b[0m\u001b[2;36m \u001b[0m\u001b[34mINFO    \u001b[0m \u001b[1m[\u001b[0m\u001b[1m]\u001b[0m                                                                        \u001b]8;id=837479;file:///usr/local/google/home/codyfincher/Code/database-tools/oracle-database-assessment/src/server/dbma/transformer/engine.py\u001b\\\u001b[2mengine.py\u001b[0m\u001b]8;;\u001b\\\u001b[2m:\u001b[0m\u001b]8;id=804179;file:///usr/local/google/home/codyfincher/Code/database-tools/oracle-database-assessment/src/server/dbma/transformer/engine.py#94\u001b\\\u001b[2m94\u001b[0m\u001b]8;;\u001b\\\n"
      ]
     },
     "metadata": {},
     "output_type": "display_data"
    },
    {
     "data": {
      "text/html": [
       "<pre style=\"white-space:pre;overflow-x:auto;line-height:normal;font-family:Menlo,'DejaVu Sans Mono',consolas,'Courier New',monospace\"><span style=\"color: #7fbfbf; text-decoration-color: #7fbfbf\">[10/19/22 23:46:59] </span><span style=\"color: #000080; text-decoration-color: #000080\">INFO    </span> <span style=\"font-weight: bold\">[]</span>                                                                       <a href=\"file:///usr/local/google/home/codyfincher/Code/database-tools/oracle-database-assessment/src/server/dbma/transformer/engine.py\" target=\"_blank\"><span style=\"color: #7f7f7f; text-decoration-color: #7f7f7f\">engine.py</span></a><span style=\"color: #7f7f7f; text-decoration-color: #7f7f7f\">:</span><a href=\"file:///usr/local/google/home/codyfincher/Code/database-tools/oracle-database-assessment/src/server/dbma/transformer/engine.py#104\" target=\"_blank\"><span style=\"color: #7f7f7f; text-decoration-color: #7f7f7f\">104</span></a>\n",
       "</pre>\n"
      ],
      "text/plain": [
       "\u001b[2;36m[10/19/22 23:46:59]\u001b[0m\u001b[2;36m \u001b[0m\u001b[34mINFO    \u001b[0m \u001b[1m[\u001b[0m\u001b[1m]\u001b[0m                                                                       \u001b]8;id=281725;file:///usr/local/google/home/codyfincher/Code/database-tools/oracle-database-assessment/src/server/dbma/transformer/engine.py\u001b\\\u001b[2mengine.py\u001b[0m\u001b]8;;\u001b\\\u001b[2m:\u001b[0m\u001b]8;id=658683;file:///usr/local/google/home/codyfincher/Code/database-tools/oracle-database-assessment/src/server/dbma/transformer/engine.py#104\u001b\\\u001b[2m104\u001b[0m\u001b]8;;\u001b\\\n"
      ]
     },
     "metadata": {},
     "output_type": "display_data"
    },
    {
     "data": {
      "text/html": [
       "<pre style=\"white-space:pre;overflow-x:auto;line-height:normal;font-family:Menlo,'DejaVu Sans Mono',consolas,'Courier New',monospace\"><span style=\"color: #7fbfbf; text-decoration-color: #7fbfbf\">[10/19/22 23:47:00] </span><span style=\"color: #000080; text-decoration-color: #000080\">INFO    </span> <span style=\"font-weight: bold\">[</span><span style=\"color: #008000; text-decoration-color: #008000\">'collection-storage/processed'</span>, <span style=\"color: #008000; text-decoration-color: #008000\">'collection-storage/upload'</span><span style=\"font-weight: bold\">]</span>             <a href=\"file:///usr/local/google/home/codyfincher/Code/database-tools/oracle-database-assessment/src/server/dbma/transformer/engine.py\" target=\"_blank\"><span style=\"color: #7f7f7f; text-decoration-color: #7f7f7f\">engine.py</span></a><span style=\"color: #7f7f7f; text-decoration-color: #7f7f7f\">:</span><a href=\"file:///usr/local/google/home/codyfincher/Code/database-tools/oracle-database-assessment/src/server/dbma/transformer/engine.py#55\" target=\"_blank\"><span style=\"color: #7f7f7f; text-decoration-color: #7f7f7f\">55</span></a>\n",
       "</pre>\n"
      ],
      "text/plain": [
       "\u001b[2;36m[10/19/22 23:47:00]\u001b[0m\u001b[2;36m \u001b[0m\u001b[34mINFO    \u001b[0m \u001b[1m[\u001b[0m\u001b[32m'collection-storage/processed'\u001b[0m, \u001b[32m'collection-storage/upload'\u001b[0m\u001b[1m]\u001b[0m             \u001b]8;id=840974;file:///usr/local/google/home/codyfincher/Code/database-tools/oracle-database-assessment/src/server/dbma/transformer/engine.py\u001b\\\u001b[2mengine.py\u001b[0m\u001b]8;;\u001b\\\u001b[2m:\u001b[0m\u001b]8;id=343146;file:///usr/local/google/home/codyfincher/Code/database-tools/oracle-database-assessment/src/server/dbma/transformer/engine.py#55\u001b\\\u001b[2m55\u001b[0m\u001b]8;;\u001b\\\n"
      ]
     },
     "metadata": {},
     "output_type": "display_data"
    }
   ],
   "source": [
    "from pathlib import Path\n",
    "import duckdb\n",
    "import pandas as pd\n",
    "import sqlalchemy\n",
    "from dbma.cli import process_collection\n",
    "from dbma.config import settings\n",
    "from dbma import transformer, database\n",
    "# settings.duckdb_path = 'local.db'\n",
    "# No need to import duckdb_engine\n",
    "#  SQLAlchemy will auto-detect the driver needed based on your connection string!\n",
    "\n",
    "# Import ipython-sql Jupyter extension to create SQL cells\n",
    "%load_ext sql\n",
    "%config SqlMagic.autopandas = True\n",
    "%config SqlMagic.feedback = False\n",
    "%config SqlMagic.displaycon = False\n",
    "%sql duckdb:///:memory:\n",
    "# %sql duckdb:///../local.db\n",
    "db = database.ConnectionManager('duckdb')\n",
    "collection_version = '4.0.0'\n",
    "transformer.engine.process_collection_archives(db, Path('data/'), collection_version) \n"
   ]
  },
  {
   "cell_type": "code",
   "execution_count": 6,
   "metadata": {},
   "outputs": [
    {
     "name": "stdout",
     "output_type": "stream",
     "text": [
      "(duckdb.CatalogException) Catalog Error: Table with name T_DS_Database_Metrics does not exist!\n",
      "Did you mean \"pragma_database_list\"?\n",
      "LINE 1: select distinct pkey from T_DS_Database_Metrics\n",
      "                                  ^\n",
      "[SQL: select distinct pkey from T_DS_Database_Metrics]\n",
      "(Background on this error at: https://sqlalche.me/e/14/f405)\n"
     ]
    }
   ],
   "source": [
    "%sql select distinct pkey from T_DS_Database_Metrics\n"
   ]
  },
  {
   "cell_type": "code",
   "execution_count": 1,
   "metadata": {},
   "outputs": [
    {
     "name": "stderr",
     "output_type": "stream",
     "text": [
      "UsageError: Cell magic `%%sql` not found.\n"
     ]
    }
   ],
   "source": [
    "%%sql\n",
    "SELECT\n",
    "    schema_name,\n",
    "    function_name\n",
    "FROM duckdb_functions()\n",
    "ORDER BY ALL DESC\n",
    "LIMIT 5"
   ]
  },
  {
   "cell_type": "code",
   "execution_count": 7,
   "metadata": {},
   "outputs": [
    {
     "data": {
      "text/html": [
       "<div>\n",
       "<style scoped>\n",
       "    .dataframe tbody tr th:only-of-type {\n",
       "        vertical-align: middle;\n",
       "    }\n",
       "\n",
       "    .dataframe tbody tr th {\n",
       "        vertical-align: top;\n",
       "    }\n",
       "\n",
       "    .dataframe thead th {\n",
       "        text-align: right;\n",
       "    }\n",
       "</style>\n",
       "<table border=\"1\" class=\"dataframe\">\n",
       "  <thead>\n",
       "    <tr style=\"text-align: right;\">\n",
       "      <th></th>\n",
       "      <th>PKEY</th>\n",
       "      <th>DBID</th>\n",
       "      <th>INSTANCE_NUMBER</th>\n",
       "      <th>HH24</th>\n",
       "      <th>STAT_NAME</th>\n",
       "      <th>HH24_TOTAL_SECS</th>\n",
       "      <th>CUMULATIVE_VALUE</th>\n",
       "      <th>AVG_VALUE</th>\n",
       "      <th>MODE_VALUE</th>\n",
       "      <th>MEDIAN_VALUE</th>\n",
       "      <th>PERC50</th>\n",
       "      <th>PERC75</th>\n",
       "      <th>PERC90</th>\n",
       "      <th>PERC95</th>\n",
       "      <th>PERC100</th>\n",
       "      <th>MIN_VALUE</th>\n",
       "      <th>MAX_VALUE</th>\n",
       "      <th>SUM_VALUE</th>\n",
       "      <th>COUNT</th>\n",
       "    </tr>\n",
       "  </thead>\n",
       "  <tbody>\n",
       "    <tr>\n",
       "      <th>0</th>\n",
       "      <td>orcl-vbox1.localdomain.com_VBOXNCDB_091522192456</td>\n",
       "      <td>3275259997</td>\n",
       "      <td>1</td>\n",
       "      <td>0</td>\n",
       "      <td>LOAD</td>\n",
       "      <td>24410</td>\n",
       "      <td>1</td>\n",
       "      <td>0</td>\n",
       "      <td>0</td>\n",
       "      <td>0</td>\n",
       "      <td>0</td>\n",
       "      <td>0</td>\n",
       "      <td>0</td>\n",
       "      <td>0</td>\n",
       "      <td>1</td>\n",
       "      <td>0</td>\n",
       "      <td>1</td>\n",
       "      <td>3</td>\n",
       "      <td>27</td>\n",
       "    </tr>\n",
       "    <tr>\n",
       "      <th>1</th>\n",
       "      <td>orcl-vbox1.localdomain.com_VBOXNCDB_091522192456</td>\n",
       "      <td>3275259997</td>\n",
       "      <td>1</td>\n",
       "      <td>0</td>\n",
       "      <td>NUM_CPUS</td>\n",
       "      <td>24410</td>\n",
       "      <td>4</td>\n",
       "      <td>0</td>\n",
       "      <td>0</td>\n",
       "      <td>0</td>\n",
       "      <td>0</td>\n",
       "      <td>0</td>\n",
       "      <td>0</td>\n",
       "      <td>0</td>\n",
       "      <td>0</td>\n",
       "      <td>0</td>\n",
       "      <td>0</td>\n",
       "      <td>0</td>\n",
       "      <td>27</td>\n",
       "    </tr>\n",
       "    <tr>\n",
       "      <th>2</th>\n",
       "      <td>orcl-vbox1.localdomain.com_VBOXNCDB_091522192456</td>\n",
       "      <td>3275259997</td>\n",
       "      <td>1</td>\n",
       "      <td>0</td>\n",
       "      <td>SYS_TIME</td>\n",
       "      <td>24410</td>\n",
       "      <td>1870375</td>\n",
       "      <td>1864</td>\n",
       "      <td>1806</td>\n",
       "      <td>1941</td>\n",
       "      <td>1941</td>\n",
       "      <td>1984</td>\n",
       "      <td>2001</td>\n",
       "      <td>2022</td>\n",
       "      <td>2029</td>\n",
       "      <td>0</td>\n",
       "      <td>2029</td>\n",
       "      <td>50339</td>\n",
       "      <td>27</td>\n",
       "    </tr>\n",
       "    <tr>\n",
       "      <th>3</th>\n",
       "      <td>orcl-vbox1.localdomain.com_VBOXNCDB_091522192456</td>\n",
       "      <td>3275259997</td>\n",
       "      <td>1</td>\n",
       "      <td>0</td>\n",
       "      <td>BUSY_TIME</td>\n",
       "      <td>24410</td>\n",
       "      <td>13332107</td>\n",
       "      <td>13285</td>\n",
       "      <td>13738</td>\n",
       "      <td>13766</td>\n",
       "      <td>13766</td>\n",
       "      <td>14072</td>\n",
       "      <td>14201</td>\n",
       "      <td>14246</td>\n",
       "      <td>14563</td>\n",
       "      <td>0</td>\n",
       "      <td>14563</td>\n",
       "      <td>358699</td>\n",
       "      <td>27</td>\n",
       "    </tr>\n",
       "    <tr>\n",
       "      <th>4</th>\n",
       "      <td>orcl-vbox1.localdomain.com_VBOXNCDB_091522192456</td>\n",
       "      <td>3275259997</td>\n",
       "      <td>1</td>\n",
       "      <td>0</td>\n",
       "      <td>IDLE_TIME</td>\n",
       "      <td>24410</td>\n",
       "      <td>331317941</td>\n",
       "      <td>331025</td>\n",
       "      <td>0</td>\n",
       "      <td>344606</td>\n",
       "      <td>344606</td>\n",
       "      <td>344949</td>\n",
       "      <td>345596</td>\n",
       "      <td>345947</td>\n",
       "      <td>346108</td>\n",
       "      <td>0</td>\n",
       "      <td>346108</td>\n",
       "      <td>8937687</td>\n",
       "      <td>27</td>\n",
       "    </tr>\n",
       "    <tr>\n",
       "      <th>...</th>\n",
       "      <td>...</td>\n",
       "      <td>...</td>\n",
       "      <td>...</td>\n",
       "      <td>...</td>\n",
       "      <td>...</td>\n",
       "      <td>...</td>\n",
       "      <td>...</td>\n",
       "      <td>...</td>\n",
       "      <td>...</td>\n",
       "      <td>...</td>\n",
       "      <td>...</td>\n",
       "      <td>...</td>\n",
       "      <td>...</td>\n",
       "      <td>...</td>\n",
       "      <td>...</td>\n",
       "      <td>...</td>\n",
       "      <td>...</td>\n",
       "      <td>...</td>\n",
       "      <td>...</td>\n",
       "    </tr>\n",
       "    <tr>\n",
       "      <th>595</th>\n",
       "      <td>orcl-vbox1.localdomain.com_VBOXNCDB_091522192456</td>\n",
       "      <td>3275259997</td>\n",
       "      <td>1</td>\n",
       "      <td>23</td>\n",
       "      <td>PHYSICAL_MEMORY_BYTES</td>\n",
       "      <td>21575</td>\n",
       "      <td>5925134336</td>\n",
       "      <td>0</td>\n",
       "      <td>0</td>\n",
       "      <td>0</td>\n",
       "      <td>0</td>\n",
       "      <td>0</td>\n",
       "      <td>0</td>\n",
       "      <td>0</td>\n",
       "      <td>0</td>\n",
       "      <td>0</td>\n",
       "      <td>0</td>\n",
       "      <td>0</td>\n",
       "      <td>24</td>\n",
       "    </tr>\n",
       "    <tr>\n",
       "      <th>596</th>\n",
       "      <td>orcl-vbox1.localdomain.com_VBOXNCDB_091522192456</td>\n",
       "      <td>3275259997</td>\n",
       "      <td>1</td>\n",
       "      <td>23</td>\n",
       "      <td>TCP_SEND_SIZE_DEFAULT</td>\n",
       "      <td>21575</td>\n",
       "      <td>16384</td>\n",
       "      <td>0</td>\n",
       "      <td>0</td>\n",
       "      <td>0</td>\n",
       "      <td>0</td>\n",
       "      <td>0</td>\n",
       "      <td>0</td>\n",
       "      <td>0</td>\n",
       "      <td>0</td>\n",
       "      <td>0</td>\n",
       "      <td>0</td>\n",
       "      <td>0</td>\n",
       "      <td>24</td>\n",
       "    </tr>\n",
       "    <tr>\n",
       "      <th>597</th>\n",
       "      <td>orcl-vbox1.localdomain.com_VBOXNCDB_091522192456</td>\n",
       "      <td>3275259997</td>\n",
       "      <td>1</td>\n",
       "      <td>23</td>\n",
       "      <td>RSRC_MGR_CPU_WAIT_TIME</td>\n",
       "      <td>21575</td>\n",
       "      <td>1</td>\n",
       "      <td>0</td>\n",
       "      <td>0</td>\n",
       "      <td>0</td>\n",
       "      <td>0</td>\n",
       "      <td>0</td>\n",
       "      <td>0</td>\n",
       "      <td>0</td>\n",
       "      <td>0</td>\n",
       "      <td>0</td>\n",
       "      <td>0</td>\n",
       "      <td>0</td>\n",
       "      <td>24</td>\n",
       "    </tr>\n",
       "    <tr>\n",
       "      <th>598</th>\n",
       "      <td>orcl-vbox1.localdomain.com_VBOXNCDB_091522192456</td>\n",
       "      <td>3275259997</td>\n",
       "      <td>1</td>\n",
       "      <td>23</td>\n",
       "      <td>GLOBAL_RECEIVE_SIZE_MAX</td>\n",
       "      <td>21575</td>\n",
       "      <td>4194304</td>\n",
       "      <td>0</td>\n",
       "      <td>0</td>\n",
       "      <td>0</td>\n",
       "      <td>0</td>\n",
       "      <td>0</td>\n",
       "      <td>0</td>\n",
       "      <td>0</td>\n",
       "      <td>0</td>\n",
       "      <td>0</td>\n",
       "      <td>0</td>\n",
       "      <td>0</td>\n",
       "      <td>24</td>\n",
       "    </tr>\n",
       "    <tr>\n",
       "      <th>599</th>\n",
       "      <td>orcl-vbox1.localdomain.com_VBOXNCDB_091522192456</td>\n",
       "      <td>3275259997</td>\n",
       "      <td>1</td>\n",
       "      <td>23</td>\n",
       "      <td>TCP_RECEIVE_SIZE_DEFAULT</td>\n",
       "      <td>21575</td>\n",
       "      <td>131072</td>\n",
       "      <td>0</td>\n",
       "      <td>0</td>\n",
       "      <td>0</td>\n",
       "      <td>0</td>\n",
       "      <td>0</td>\n",
       "      <td>0</td>\n",
       "      <td>0</td>\n",
       "      <td>0</td>\n",
       "      <td>0</td>\n",
       "      <td>0</td>\n",
       "      <td>0</td>\n",
       "      <td>24</td>\n",
       "    </tr>\n",
       "  </tbody>\n",
       "</table>\n",
       "<p>600 rows × 19 columns</p>\n",
       "</div>"
      ],
      "text/plain": [
       "                                                 PKEY        DBID  \\\n",
       "0    orcl-vbox1.localdomain.com_VBOXNCDB_091522192456  3275259997   \n",
       "1    orcl-vbox1.localdomain.com_VBOXNCDB_091522192456  3275259997   \n",
       "2    orcl-vbox1.localdomain.com_VBOXNCDB_091522192456  3275259997   \n",
       "3    orcl-vbox1.localdomain.com_VBOXNCDB_091522192456  3275259997   \n",
       "4    orcl-vbox1.localdomain.com_VBOXNCDB_091522192456  3275259997   \n",
       "..                                                ...         ...   \n",
       "595  orcl-vbox1.localdomain.com_VBOXNCDB_091522192456  3275259997   \n",
       "596  orcl-vbox1.localdomain.com_VBOXNCDB_091522192456  3275259997   \n",
       "597  orcl-vbox1.localdomain.com_VBOXNCDB_091522192456  3275259997   \n",
       "598  orcl-vbox1.localdomain.com_VBOXNCDB_091522192456  3275259997   \n",
       "599  orcl-vbox1.localdomain.com_VBOXNCDB_091522192456  3275259997   \n",
       "\n",
       "     INSTANCE_NUMBER  HH24                 STAT_NAME  HH24_TOTAL_SECS  \\\n",
       "0                  1     0                      LOAD            24410   \n",
       "1                  1     0                  NUM_CPUS            24410   \n",
       "2                  1     0                  SYS_TIME            24410   \n",
       "3                  1     0                 BUSY_TIME            24410   \n",
       "4                  1     0                 IDLE_TIME            24410   \n",
       "..               ...   ...                       ...              ...   \n",
       "595                1    23     PHYSICAL_MEMORY_BYTES            21575   \n",
       "596                1    23     TCP_SEND_SIZE_DEFAULT            21575   \n",
       "597                1    23    RSRC_MGR_CPU_WAIT_TIME            21575   \n",
       "598                1    23   GLOBAL_RECEIVE_SIZE_MAX            21575   \n",
       "599                1    23  TCP_RECEIVE_SIZE_DEFAULT            21575   \n",
       "\n",
       "     CUMULATIVE_VALUE  AVG_VALUE  MODE_VALUE  MEDIAN_VALUE  PERC50  PERC75  \\\n",
       "0                   1          0           0             0       0       0   \n",
       "1                   4          0           0             0       0       0   \n",
       "2             1870375       1864        1806          1941    1941    1984   \n",
       "3            13332107      13285       13738         13766   13766   14072   \n",
       "4           331317941     331025           0        344606  344606  344949   \n",
       "..                ...        ...         ...           ...     ...     ...   \n",
       "595        5925134336          0           0             0       0       0   \n",
       "596             16384          0           0             0       0       0   \n",
       "597                 1          0           0             0       0       0   \n",
       "598           4194304          0           0             0       0       0   \n",
       "599            131072          0           0             0       0       0   \n",
       "\n",
       "     PERC90  PERC95  PERC100  MIN_VALUE  MAX_VALUE  SUM_VALUE  COUNT  \n",
       "0         0       0        1          0          1          3     27  \n",
       "1         0       0        0          0          0          0     27  \n",
       "2      2001    2022     2029          0       2029      50339     27  \n",
       "3     14201   14246    14563          0      14563     358699     27  \n",
       "4    345596  345947   346108          0     346108    8937687     27  \n",
       "..      ...     ...      ...        ...        ...        ...    ...  \n",
       "595       0       0        0          0          0          0     24  \n",
       "596       0       0        0          0          0          0     24  \n",
       "597       0       0        0          0          0          0     24  \n",
       "598       0       0        0          0          0          0     24  \n",
       "599       0       0        0          0          0          0     24  \n",
       "\n",
       "[600 rows x 19 columns]"
      ]
     },
     "execution_count": 7,
     "metadata": {},
     "output_type": "execute_result"
    }
   ],
   "source": [
    "%%sql\n",
    "CREATE or replace table AWRHISTOSSTAT (\n",
    "    PKEY VARCHAR(256),\n",
    "    DBID BIGINT,\n",
    "    INSTANCE_NUMBER SMALLINT,\n",
    "    HH24 SMALLINT,\n",
    "    STAT_NAME VARCHAR(64),\n",
    "    HH24_TOTAL_SECS BIGINT,\n",
    "    CUMULATIVE_VALUE BIGINT,\n",
    "    AVG_VALUE BIGINT,\n",
    "    MODE_VALUE BIGINT,\n",
    "    MEDIAN_VALUE BIGINT,\n",
    "    PERC50 BIGINT,\n",
    "    PERC75 BIGINT,\n",
    "    PERC90 BIGINT,\n",
    "    PERC95 BIGINT,\n",
    "    PERC100 BIGINT,\n",
    "    MIN_VALUE BIGINT,\n",
    "    MAX_VALUE BIGINT,\n",
    "    SUM_VALUE BIGINT,\n",
    "    COUNT BIGINT\n",
    ");\n",
    "insert into AWRHISTOSSTAT\n",
    "select * from read_csv_auto('data/opdb__awrhistosstat__*.csv', delim='|', header=True);\n",
    "select * from AWRHISTOSSTAT"
   ]
  },
  {
   "cell_type": "code",
   "execution_count": null,
   "metadata": {},
   "outputs": [],
   "source": [
    "%%sql\n",
    "create or replace view test_view as\n",
    "select * from read_csv_auto('data/opdb__awrhistosstat__190_2.0.6_orcl-vbox1.localdomain.com.VBOXNCDB.vboxncdb1.091522192456.csv', delim='|', header=True, filename=True, normalize_names=True, sample_size=-1 );\n",
    "describe select * from read_csv_auto('data/opdb__awrhistosstat__190_2.0.6_orcl-vbox1.localdomain.com.VBOXNCDB.vboxncdb1.091522192456.csv', delim='|', header=True, filename=True, normalize_names=True, sample_size=-1 );"
   ]
  },
  {
   "cell_type": "code",
   "execution_count": null,
   "metadata": {},
   "outputs": [],
   "source": [
    "%%sql\n",
    "select * from information_schema.tables"
   ]
  },
  {
   "cell_type": "code",
   "execution_count": null,
   "metadata": {},
   "outputs": [],
   "source": [
    "%%sql\n",
    "describe DBINSTANCES"
   ]
  },
  {
   "cell_type": "code",
   "execution_count": 5,
   "metadata": {},
   "outputs": [
    {
     "name": "stdout",
     "output_type": "stream",
     "text": [
      "(duckdb.CatalogException) Catalog Error: Table with name T_DS_CPU_CALC does not exist!\n",
      "Did you mean \"pg_am\"?\n",
      "LINE 1: select * from T_DS_CPU_CALC\n",
      "                      ^\n",
      "[SQL: select * from T_DS_CPU_CALC]\n",
      "(Background on this error at: https://sqlalche.me/e/14/f405)\n"
     ]
    }
   ],
   "source": [
    "%%sql\n",
    "select * from T_DS_CPU_CALC"
   ]
  },
  {
   "cell_type": "code",
   "execution_count": null,
   "metadata": {},
   "outputs": [],
   "source": [
    "duckdb.execute(\"select * from read_csv_auto('data/opdb__awrhistosstat__190_2.0.6_orcl-vbox1.localdomain.com.VBOXNCDB.vboxncdb1.091522192456.csv', delim='|', header=True, filename=True, normalize_names=True, sample_size=-1 )\").to_df"
   ]
  }
 ],
 "metadata": {
  "kernelspec": {
   "display_name": "Python 3.10.7 ('.venv': poetry)",
   "language": "python",
   "name": "python3"
  },
  "language_info": {
   "codemirror_mode": {
    "name": "ipython",
    "version": 3
   },
   "file_extension": ".py",
   "mimetype": "text/x-python",
   "name": "python",
   "nbconvert_exporter": "python",
   "pygments_lexer": "ipython3",
   "version": "3.10.7"
  },
  "orig_nbformat": 4,
  "vscode": {
   "interpreter": {
    "hash": "3575de445ae6a287700626195c285b914b489bc90953abc6d5c378a3c31371e8"
   }
  }
 },
 "nbformat": 4,
 "nbformat_minor": 2
}
